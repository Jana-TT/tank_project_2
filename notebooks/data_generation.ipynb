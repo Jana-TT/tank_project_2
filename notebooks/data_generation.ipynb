{
 "cells": [
  {
   "cell_type": "code",
   "execution_count": null,
   "metadata": {},
   "outputs": [],
   "source": [
    "import polars as pl\n",
    "#pl.Config.set_tbl_rows(2000)"
   ]
  },
  {
   "cell_type": "code",
   "execution_count": 40,
   "metadata": {},
   "outputs": [
    {
     "data": {
      "text/html": [
       "<div><style>\n",
       ".dataframe > thead > tr,\n",
       ".dataframe > tbody > tr {\n",
       "  text-align: right;\n",
       "  white-space: pre-wrap;\n",
       "}\n",
       "</style>\n",
       "<small>shape: (664, 3)</small><table border=\"1\" class=\"dataframe\"><thead><tr><th>source_key</th><th>division_id</th><th>source_id</th></tr><tr><td>str</td><td>i64</td><td>str</td></tr></thead><tbody><tr><td>&quot;1100901&quot;</td><td>26</td><td>&quot;11009&quot;</td></tr><tr><td>&quot;1100902&quot;</td><td>26</td><td>&quot;11009&quot;</td></tr><tr><td>&quot;1100903&quot;</td><td>26</td><td>&quot;11009&quot;</td></tr><tr><td>&quot;1100904&quot;</td><td>26</td><td>&quot;11009&quot;</td></tr><tr><td>&quot;1100905&quot;</td><td>26</td><td>&quot;11009&quot;</td></tr><tr><td>&hellip;</td><td>&hellip;</td><td>&hellip;</td></tr><tr><td>&quot;9884004&quot;</td><td>40</td><td>&quot;98840&quot;</td></tr><tr><td>&quot;9884005&quot;</td><td>40</td><td>&quot;98840&quot;</td></tr><tr><td>&quot;9884006&quot;</td><td>40</td><td>&quot;98840&quot;</td></tr><tr><td>&quot;98840W1&quot;</td><td>40</td><td>&quot;98840&quot;</td></tr><tr><td>&quot;98840W2&quot;</td><td>40</td><td>&quot;98840&quot;</td></tr></tbody></table></div>"
      ],
      "text/plain": [
       "shape: (664, 3)\n",
       "┌────────────┬─────────────┬───────────┐\n",
       "│ source_key ┆ division_id ┆ source_id │\n",
       "│ ---        ┆ ---         ┆ ---       │\n",
       "│ str        ┆ i64         ┆ str       │\n",
       "╞════════════╪═════════════╪═══════════╡\n",
       "│ 1100901    ┆ 26          ┆ 11009     │\n",
       "│ 1100902    ┆ 26          ┆ 11009     │\n",
       "│ 1100903    ┆ 26          ┆ 11009     │\n",
       "│ 1100904    ┆ 26          ┆ 11009     │\n",
       "│ 1100905    ┆ 26          ┆ 11009     │\n",
       "│ …          ┆ …           ┆ …         │\n",
       "│ 9884004    ┆ 40          ┆ 98840     │\n",
       "│ 9884005    ┆ 40          ┆ 98840     │\n",
       "│ 9884006    ┆ 40          ┆ 98840     │\n",
       "│ 98840W1    ┆ 40          ┆ 98840     │\n",
       "│ 98840W2    ┆ 40          ┆ 98840     │\n",
       "└────────────┴─────────────┴───────────┘"
      ]
     },
     "execution_count": 40,
     "metadata": {},
     "output_type": "execute_result"
    }
   ],
   "source": [
    "from src.pool import PG\n",
    "\n",
    "NEW_TANKS_QUERY = \"\"\"--sql \n",
    "    SELECT DISTINCT source_key, division_id, source_id\n",
    "    FROM sdm_dba.data_catalog dc\n",
    "    WHERE source_key NOT LIKE '%FAC%'\n",
    "    ORDER BY source_key;\n",
    "\"\"\"\n",
    "\n",
    "new_tanks_df = await PG.fetch(NEW_TANKS_QUERY)\n",
    "if new_tanks_df is None:\n",
    "    raise ValueError(\"df is None\")\n",
    "if new_tanks_df.shape[0] == 0:\n",
    "        raise ValueError(\"The fetched DataFrame is empty.\")\n",
    "\n",
    "new_tanks_df"
   ]
  },
  {
   "cell_type": "code",
   "execution_count": 41,
   "metadata": {},
   "outputs": [
    {
     "data": {
      "text/html": [
       "<div><style>\n",
       ".dataframe > thead > tr,\n",
       ".dataframe > tbody > tr {\n",
       "  text-align: right;\n",
       "  white-space: pre-wrap;\n",
       "}\n",
       "</style>\n",
       "<small>shape: (85, 2)</small><table border=\"1\" class=\"dataframe\"><thead><tr><th>source_id</th><th>oil_tank_count</th></tr><tr><td>str</td><td>u32</td></tr></thead><tbody><tr><td>&quot;11009&quot;</td><td>6</td></tr><tr><td>&quot;48001&quot;</td><td>6</td></tr><tr><td>&quot;69419&quot;</td><td>4</td></tr><tr><td>&quot;98743&quot;</td><td>3</td></tr><tr><td>&quot;98750&quot;</td><td>3</td></tr><tr><td>&hellip;</td><td>&hellip;</td></tr><tr><td>&quot;98836&quot;</td><td>6</td></tr><tr><td>&quot;98837&quot;</td><td>5</td></tr><tr><td>&quot;98838&quot;</td><td>5</td></tr><tr><td>&quot;98839&quot;</td><td>3</td></tr><tr><td>&quot;98840&quot;</td><td>6</td></tr></tbody></table></div>"
      ],
      "text/plain": [
       "shape: (85, 2)\n",
       "┌───────────┬────────────────┐\n",
       "│ source_id ┆ oil_tank_count │\n",
       "│ ---       ┆ ---            │\n",
       "│ str       ┆ u32            │\n",
       "╞═══════════╪════════════════╡\n",
       "│ 11009     ┆ 6              │\n",
       "│ 48001     ┆ 6              │\n",
       "│ 69419     ┆ 4              │\n",
       "│ 98743     ┆ 3              │\n",
       "│ 98750     ┆ 3              │\n",
       "│ …         ┆ …              │\n",
       "│ 98836     ┆ 6              │\n",
       "│ 98837     ┆ 5              │\n",
       "│ 98838     ┆ 5              │\n",
       "│ 98839     ┆ 3              │\n",
       "│ 98840     ┆ 6              │\n",
       "└───────────┴────────────────┘"
      ]
     },
     "execution_count": 41,
     "metadata": {},
     "output_type": "execute_result"
    }
   ],
   "source": [
    "pattern = r'0\\d$'\n",
    "oil_tanks_df = new_tanks_df.filter(pl.col(\"source_key\").str.contains(pattern)) \n",
    "new_oil_df = oil_tanks_df.group_by(\"source_id\").agg(pl.count(\"source_key\").alias(\"oil_tank_count\"))\n",
    "new_oil_df = new_oil_df.sort(\"source_id\")\n",
    "new_oil_df"
   ]
  },
  {
   "cell_type": "code",
   "execution_count": 42,
   "metadata": {},
   "outputs": [
    {
     "data": {
      "text/html": [
       "<div><style>\n",
       ".dataframe > thead > tr,\n",
       ".dataframe > tbody > tr {\n",
       "  text-align: right;\n",
       "  white-space: pre-wrap;\n",
       "}\n",
       "</style>\n",
       "<small>shape: (85, 2)</small><table border=\"1\" class=\"dataframe\"><thead><tr><th>source_id</th><th>water_tank_count</th></tr><tr><td>str</td><td>u32</td></tr></thead><tbody><tr><td>&quot;11009&quot;</td><td>3</td></tr><tr><td>&quot;48001&quot;</td><td>2</td></tr><tr><td>&quot;69419&quot;</td><td>3</td></tr><tr><td>&quot;98743&quot;</td><td>2</td></tr><tr><td>&quot;98750&quot;</td><td>2</td></tr><tr><td>&hellip;</td><td>&hellip;</td></tr><tr><td>&quot;98836&quot;</td><td>3</td></tr><tr><td>&quot;98837&quot;</td><td>3</td></tr><tr><td>&quot;98838&quot;</td><td>2</td></tr><tr><td>&quot;98839&quot;</td><td>3</td></tr><tr><td>&quot;98840&quot;</td><td>2</td></tr></tbody></table></div>"
      ],
      "text/plain": [
       "shape: (85, 2)\n",
       "┌───────────┬──────────────────┐\n",
       "│ source_id ┆ water_tank_count │\n",
       "│ ---       ┆ ---              │\n",
       "│ str       ┆ u32              │\n",
       "╞═══════════╪══════════════════╡\n",
       "│ 11009     ┆ 3                │\n",
       "│ 48001     ┆ 2                │\n",
       "│ 69419     ┆ 3                │\n",
       "│ 98743     ┆ 2                │\n",
       "│ 98750     ┆ 2                │\n",
       "│ …         ┆ …                │\n",
       "│ 98836     ┆ 3                │\n",
       "│ 98837     ┆ 3                │\n",
       "│ 98838     ┆ 2                │\n",
       "│ 98839     ┆ 3                │\n",
       "│ 98840     ┆ 2                │\n",
       "└───────────┴──────────────────┘"
      ]
     },
     "execution_count": 42,
     "metadata": {},
     "output_type": "execute_result"
    }
   ],
   "source": [
    "water_tanks_df = new_tanks_df.filter(pl.col(\"source_key\").str.contains(\"W\"))\n",
    "new_df = water_tanks_df.group_by(\"source_id\").agg(pl.count(\"source_key\").alias(\"water_tank_count\"))\n",
    "new_df = new_df.sort(\"source_id\")\n",
    "new_df"
   ]
  },
  {
   "cell_type": "code",
   "execution_count": 43,
   "metadata": {},
   "outputs": [
    {
     "data": {
      "text/html": [
       "<div><style>\n",
       ".dataframe > thead > tr,\n",
       ".dataframe > tbody > tr {\n",
       "  text-align: right;\n",
       "  white-space: pre-wrap;\n",
       "}\n",
       "</style>\n",
       "<small>shape: (85, 3)</small><table border=\"1\" class=\"dataframe\"><thead><tr><th>source_id</th><th>water_tank_count</th><th>oil_tank_count</th></tr><tr><td>str</td><td>u32</td><td>u32</td></tr></thead><tbody><tr><td>&quot;11009&quot;</td><td>3</td><td>6</td></tr><tr><td>&quot;48001&quot;</td><td>2</td><td>6</td></tr><tr><td>&quot;69419&quot;</td><td>3</td><td>4</td></tr><tr><td>&quot;98743&quot;</td><td>2</td><td>3</td></tr><tr><td>&quot;98750&quot;</td><td>2</td><td>3</td></tr><tr><td>&hellip;</td><td>&hellip;</td><td>&hellip;</td></tr><tr><td>&quot;98836&quot;</td><td>3</td><td>6</td></tr><tr><td>&quot;98837&quot;</td><td>3</td><td>5</td></tr><tr><td>&quot;98838&quot;</td><td>2</td><td>5</td></tr><tr><td>&quot;98839&quot;</td><td>3</td><td>3</td></tr><tr><td>&quot;98840&quot;</td><td>2</td><td>6</td></tr></tbody></table></div>"
      ],
      "text/plain": [
       "shape: (85, 3)\n",
       "┌───────────┬──────────────────┬────────────────┐\n",
       "│ source_id ┆ water_tank_count ┆ oil_tank_count │\n",
       "│ ---       ┆ ---              ┆ ---            │\n",
       "│ str       ┆ u32              ┆ u32            │\n",
       "╞═══════════╪══════════════════╪════════════════╡\n",
       "│ 11009     ┆ 3                ┆ 6              │\n",
       "│ 48001     ┆ 2                ┆ 6              │\n",
       "│ 69419     ┆ 3                ┆ 4              │\n",
       "│ 98743     ┆ 2                ┆ 3              │\n",
       "│ 98750     ┆ 2                ┆ 3              │\n",
       "│ …         ┆ …                ┆ …              │\n",
       "│ 98836     ┆ 3                ┆ 6              │\n",
       "│ 98837     ┆ 3                ┆ 5              │\n",
       "│ 98838     ┆ 2                ┆ 5              │\n",
       "│ 98839     ┆ 3                ┆ 3              │\n",
       "│ 98840     ┆ 2                ┆ 6              │\n",
       "└───────────┴──────────────────┴────────────────┘"
      ]
     },
     "execution_count": 43,
     "metadata": {},
     "output_type": "execute_result"
    }
   ],
   "source": [
    "combined_count_df = new_df.join(new_oil_df, on=\"source_id\")\n",
    "combined_count_df"
   ]
  },
  {
   "cell_type": "code",
   "execution_count": 44,
   "metadata": {},
   "outputs": [
    {
     "data": {
      "text/html": [
       "<div><style>\n",
       ".dataframe > thead > tr,\n",
       ".dataframe > tbody > tr {\n",
       "  text-align: right;\n",
       "  white-space: pre-wrap;\n",
       "}\n",
       "</style>\n",
       "<small>shape: (1_668, 6)</small><table border=\"1\" class=\"dataframe\"><thead><tr><th>key_metric</th><th>source_key</th><th>source_id</th><th>metric_nice_name</th><th>uom</th><th>division_id</th></tr><tr><td>object</td><td>str</td><td>str</td><td>str</td><td>str</td><td>i64</td></tr></thead><tbody><tr><td>d0613649-4688-445b-aca9-b83858a7476d</td><td>&quot;6941902&quot;</td><td>&quot;69419&quot;</td><td>&quot;OilTank2Level&quot;</td><td>&quot;in&quot;</td><td>5</td></tr><tr><td>a5de3be7-73fe-489b-b861-2ab88c3b0029</td><td>&quot;6941903&quot;</td><td>&quot;69419&quot;</td><td>&quot;OilTank3Level&quot;</td><td>&quot;in&quot;</td><td>5</td></tr><tr><td>4ac0b7d9-55fe-4865-bc29-6c202ff6349e</td><td>&quot;6941901&quot;</td><td>&quot;69419&quot;</td><td>&quot;OilTank1Volume&quot;</td><td>&quot;bbl&quot;</td><td>5</td></tr><tr><td>a99b4283-d21f-4840-b1ae-d91a55011b27</td><td>&quot;6941902&quot;</td><td>&quot;69419&quot;</td><td>&quot;OilTank2Volume&quot;</td><td>&quot;bbl&quot;</td><td>5</td></tr><tr><td>c2650a39-a755-4855-976b-e3f712197666</td><td>&quot;6941903&quot;</td><td>&quot;69419&quot;</td><td>&quot;OilTank3Volume&quot;</td><td>&quot;bbl&quot;</td><td>5</td></tr><tr><td>&hellip;</td><td>&hellip;</td><td>&hellip;</td><td>&hellip;</td><td>&hellip;</td><td>&hellip;</td></tr><tr><td>92ee60bc-576f-4288-8ac2-14d1755a18e2</td><td>&quot;1100906&quot;</td><td>&quot;11009&quot;</td><td>&quot;OilTank6Volume&quot;</td><td>&quot;bbl&quot;</td><td>26</td></tr><tr><td>b2d46e76-51ba-4a4e-aeeb-4333695f5b3f</td><td>&quot;11009W3&quot;</td><td>&quot;11009&quot;</td><td>&quot;WaterTank3Level&quot;</td><td>&quot;in&quot;</td><td>26</td></tr><tr><td>3d332f5e-1760-467c-902e-a0bcc8c91ece</td><td>&quot;11009W3&quot;</td><td>&quot;11009&quot;</td><td>&quot;WaterTank3Volume&quot;</td><td>&quot;bbl&quot;</td><td>26</td></tr><tr><td>4ab57531-4dcf-4feb-be79-7b19c57b84f4</td><td>&quot;69419FAC&quot;</td><td>&quot;69419&quot;</td><td>&quot;ESD-WaterTankID&quot;</td><td>null</td><td>5</td></tr><tr><td>adc57531-4dcf-4feb-be79-7b19c57b84f4</td><td>&quot;69419FAC&quot;</td><td>&quot;69419&quot;</td><td>&quot;ESD-OilTankID&quot;</td><td>null</td><td>5</td></tr></tbody></table></div>"
      ],
      "text/plain": [
       "shape: (1_668, 6)\n",
       "┌─────────────────────────────────┬────────────┬───────────┬──────────────────┬──────┬─────────────┐\n",
       "│ key_metric                      ┆ source_key ┆ source_id ┆ metric_nice_name ┆ uom  ┆ division_id │\n",
       "│ ---                             ┆ ---        ┆ ---       ┆ ---              ┆ ---  ┆ ---         │\n",
       "│ object                          ┆ str        ┆ str       ┆ str              ┆ str  ┆ i64         │\n",
       "╞═════════════════════════════════╪════════════╪═══════════╪══════════════════╪══════╪═════════════╡\n",
       "│ d0613649-4688-445b-aca9-b83858… ┆ 6941902    ┆ 69419     ┆ OilTank2Level    ┆ in   ┆ 5           │\n",
       "│ a5de3be7-73fe-489b-b861-2ab88c… ┆ 6941903    ┆ 69419     ┆ OilTank3Level    ┆ in   ┆ 5           │\n",
       "│ 4ac0b7d9-55fe-4865-bc29-6c202f… ┆ 6941901    ┆ 69419     ┆ OilTank1Volume   ┆ bbl  ┆ 5           │\n",
       "│ a99b4283-d21f-4840-b1ae-d91a55… ┆ 6941902    ┆ 69419     ┆ OilTank2Volume   ┆ bbl  ┆ 5           │\n",
       "│ c2650a39-a755-4855-976b-e3f712… ┆ 6941903    ┆ 69419     ┆ OilTank3Volume   ┆ bbl  ┆ 5           │\n",
       "│ …                               ┆ …          ┆ …         ┆ …                ┆ …    ┆ …           │\n",
       "│ 92ee60bc-576f-4288-8ac2-14d175… ┆ 1100906    ┆ 11009     ┆ OilTank6Volume   ┆ bbl  ┆ 26          │\n",
       "│ b2d46e76-51ba-4a4e-aeeb-433369… ┆ 11009W3    ┆ 11009     ┆ WaterTank3Level  ┆ in   ┆ 26          │\n",
       "│ 3d332f5e-1760-467c-902e-a0bcc8… ┆ 11009W3    ┆ 11009     ┆ WaterTank3Volume ┆ bbl  ┆ 26          │\n",
       "│ 4ab57531-4dcf-4feb-be79-7b19c5… ┆ 69419FAC   ┆ 69419     ┆ ESD-WaterTankID  ┆ null ┆ 5           │\n",
       "│ adc57531-4dcf-4feb-be79-7b19c5… ┆ 69419FAC   ┆ 69419     ┆ ESD-OilTankID    ┆ null ┆ 5           │\n",
       "└─────────────────────────────────┴────────────┴───────────┴──────────────────┴──────┴─────────────┘"
      ]
     },
     "execution_count": 44,
     "metadata": {},
     "output_type": "execute_result"
    }
   ],
   "source": [
    "from src.pool import PG\n",
    "\n",
    "DATA_CATALOG_QUERY = \"\"\"--sql \n",
    "    SELECT *\n",
    "    FROM sdm_dba.data_catalog AS dc\n",
    "\"\"\"\n",
    "\n",
    "dc_df = await PG.fetch(DATA_CATALOG_QUERY)\n",
    "if dc_df is None:\n",
    "    raise ValueError(\"df is None\")\n",
    "if dc_df.shape[0] == 0:\n",
    "        raise ValueError(\"The fetched DataFrame is empty.\")\n",
    "\n",
    "dc_df"
   ]
  },
  {
   "cell_type": "code",
   "execution_count": 45,
   "metadata": {},
   "outputs": [
    {
     "data": {
      "text/html": [
       "<div><style>\n",
       ".dataframe > thead > tr,\n",
       ".dataframe > tbody > tr {\n",
       "  text-align: right;\n",
       "  white-space: pre-wrap;\n",
       "}\n",
       "</style>\n",
       "<small>shape: (1_668, 8)</small><table border=\"1\" class=\"dataframe\"><thead><tr><th>key_metric</th><th>source_key</th><th>source_id</th><th>metric_nice_name</th><th>uom</th><th>division_id</th><th>water_tank_count</th><th>oil_tank_count</th></tr><tr><td>object</td><td>str</td><td>str</td><td>str</td><td>str</td><td>i64</td><td>u32</td><td>u32</td></tr></thead><tbody><tr><td>d0613649-4688-445b-aca9-b83858a7476d</td><td>&quot;6941902&quot;</td><td>&quot;69419&quot;</td><td>&quot;OilTank2Level&quot;</td><td>&quot;in&quot;</td><td>5</td><td>3</td><td>4</td></tr><tr><td>a5de3be7-73fe-489b-b861-2ab88c3b0029</td><td>&quot;6941903&quot;</td><td>&quot;69419&quot;</td><td>&quot;OilTank3Level&quot;</td><td>&quot;in&quot;</td><td>5</td><td>3</td><td>4</td></tr><tr><td>4ac0b7d9-55fe-4865-bc29-6c202ff6349e</td><td>&quot;6941901&quot;</td><td>&quot;69419&quot;</td><td>&quot;OilTank1Volume&quot;</td><td>&quot;bbl&quot;</td><td>5</td><td>3</td><td>4</td></tr><tr><td>a99b4283-d21f-4840-b1ae-d91a55011b27</td><td>&quot;6941902&quot;</td><td>&quot;69419&quot;</td><td>&quot;OilTank2Volume&quot;</td><td>&quot;bbl&quot;</td><td>5</td><td>3</td><td>4</td></tr><tr><td>c2650a39-a755-4855-976b-e3f712197666</td><td>&quot;6941903&quot;</td><td>&quot;69419&quot;</td><td>&quot;OilTank3Volume&quot;</td><td>&quot;bbl&quot;</td><td>5</td><td>3</td><td>4</td></tr><tr><td>&hellip;</td><td>&hellip;</td><td>&hellip;</td><td>&hellip;</td><td>&hellip;</td><td>&hellip;</td><td>&hellip;</td><td>&hellip;</td></tr><tr><td>92ee60bc-576f-4288-8ac2-14d1755a18e2</td><td>&quot;1100906&quot;</td><td>&quot;11009&quot;</td><td>&quot;OilTank6Volume&quot;</td><td>&quot;bbl&quot;</td><td>26</td><td>3</td><td>6</td></tr><tr><td>b2d46e76-51ba-4a4e-aeeb-4333695f5b3f</td><td>&quot;11009W3&quot;</td><td>&quot;11009&quot;</td><td>&quot;WaterTank3Level&quot;</td><td>&quot;in&quot;</td><td>26</td><td>3</td><td>6</td></tr><tr><td>3d332f5e-1760-467c-902e-a0bcc8c91ece</td><td>&quot;11009W3&quot;</td><td>&quot;11009&quot;</td><td>&quot;WaterTank3Volume&quot;</td><td>&quot;bbl&quot;</td><td>26</td><td>3</td><td>6</td></tr><tr><td>4ab57531-4dcf-4feb-be79-7b19c57b84f4</td><td>&quot;69419FAC&quot;</td><td>&quot;69419&quot;</td><td>&quot;ESD-WaterTankID&quot;</td><td>null</td><td>5</td><td>3</td><td>4</td></tr><tr><td>adc57531-4dcf-4feb-be79-7b19c57b84f4</td><td>&quot;69419FAC&quot;</td><td>&quot;69419&quot;</td><td>&quot;ESD-OilTankID&quot;</td><td>null</td><td>5</td><td>3</td><td>4</td></tr></tbody></table></div>"
      ],
      "text/plain": [
       "shape: (1_668, 8)\n",
       "┌─────────────┬────────────┬───────────┬─────────────┬──────┬────────────┬────────────┬────────────┐\n",
       "│ key_metric  ┆ source_key ┆ source_id ┆ metric_nice ┆ uom  ┆ division_i ┆ water_tank ┆ oil_tank_c │\n",
       "│ ---         ┆ ---        ┆ ---       ┆ _name       ┆ ---  ┆ d          ┆ _count     ┆ ount       │\n",
       "│ object      ┆ str        ┆ str       ┆ ---         ┆ str  ┆ ---        ┆ ---        ┆ ---        │\n",
       "│             ┆            ┆           ┆ str         ┆      ┆ i64        ┆ u32        ┆ u32        │\n",
       "╞═════════════╪════════════╪═══════════╪═════════════╪══════╪════════════╪════════════╪════════════╡\n",
       "│ d0613649-46 ┆ 6941902    ┆ 69419     ┆ OilTank2Lev ┆ in   ┆ 5          ┆ 3          ┆ 4          │\n",
       "│ 88-445b-aca ┆            ┆           ┆ el          ┆      ┆            ┆            ┆            │\n",
       "│ 9-b83858…   ┆            ┆           ┆             ┆      ┆            ┆            ┆            │\n",
       "│ a5de3be7-73 ┆ 6941903    ┆ 69419     ┆ OilTank3Lev ┆ in   ┆ 5          ┆ 3          ┆ 4          │\n",
       "│ fe-489b-b86 ┆            ┆           ┆ el          ┆      ┆            ┆            ┆            │\n",
       "│ 1-2ab88c…   ┆            ┆           ┆             ┆      ┆            ┆            ┆            │\n",
       "│ 4ac0b7d9-55 ┆ 6941901    ┆ 69419     ┆ OilTank1Vol ┆ bbl  ┆ 5          ┆ 3          ┆ 4          │\n",
       "│ fe-4865-bc2 ┆            ┆           ┆ ume         ┆      ┆            ┆            ┆            │\n",
       "│ 9-6c202f…   ┆            ┆           ┆             ┆      ┆            ┆            ┆            │\n",
       "│ a99b4283-d2 ┆ 6941902    ┆ 69419     ┆ OilTank2Vol ┆ bbl  ┆ 5          ┆ 3          ┆ 4          │\n",
       "│ 1f-4840-b1a ┆            ┆           ┆ ume         ┆      ┆            ┆            ┆            │\n",
       "│ e-d91a55…   ┆            ┆           ┆             ┆      ┆            ┆            ┆            │\n",
       "│ c2650a39-a7 ┆ 6941903    ┆ 69419     ┆ OilTank3Vol ┆ bbl  ┆ 5          ┆ 3          ┆ 4          │\n",
       "│ 55-4855-976 ┆            ┆           ┆ ume         ┆      ┆            ┆            ┆            │\n",
       "│ b-e3f712…   ┆            ┆           ┆             ┆      ┆            ┆            ┆            │\n",
       "│ …           ┆ …          ┆ …         ┆ …           ┆ …    ┆ …          ┆ …          ┆ …          │\n",
       "│ 92ee60bc-57 ┆ 1100906    ┆ 11009     ┆ OilTank6Vol ┆ bbl  ┆ 26         ┆ 3          ┆ 6          │\n",
       "│ 6f-4288-8ac ┆            ┆           ┆ ume         ┆      ┆            ┆            ┆            │\n",
       "│ 2-14d175…   ┆            ┆           ┆             ┆      ┆            ┆            ┆            │\n",
       "│ b2d46e76-51 ┆ 11009W3    ┆ 11009     ┆ WaterTank3L ┆ in   ┆ 26         ┆ 3          ┆ 6          │\n",
       "│ ba-4a4e-aee ┆            ┆           ┆ evel        ┆      ┆            ┆            ┆            │\n",
       "│ b-433369…   ┆            ┆           ┆             ┆      ┆            ┆            ┆            │\n",
       "│ 3d332f5e-17 ┆ 11009W3    ┆ 11009     ┆ WaterTank3V ┆ bbl  ┆ 26         ┆ 3          ┆ 6          │\n",
       "│ 60-467c-902 ┆            ┆           ┆ olume       ┆      ┆            ┆            ┆            │\n",
       "│ e-a0bcc8…   ┆            ┆           ┆             ┆      ┆            ┆            ┆            │\n",
       "│ 4ab57531-4d ┆ 69419FAC   ┆ 69419     ┆ ESD-WaterTa ┆ null ┆ 5          ┆ 3          ┆ 4          │\n",
       "│ cf-4feb-be7 ┆            ┆           ┆ nkID        ┆      ┆            ┆            ┆            │\n",
       "│ 9-7b19c5…   ┆            ┆           ┆             ┆      ┆            ┆            ┆            │\n",
       "│ adc57531-4d ┆ 69419FAC   ┆ 69419     ┆ ESD-OilTank ┆ null ┆ 5          ┆ 3          ┆ 4          │\n",
       "│ cf-4feb-be7 ┆            ┆           ┆ ID          ┆      ┆            ┆            ┆            │\n",
       "│ 9-7b19c5…   ┆            ┆           ┆             ┆      ┆            ┆            ┆            │\n",
       "└─────────────┴────────────┴───────────┴─────────────┴──────┴────────────┴────────────┴────────────┘"
      ]
     },
     "execution_count": 45,
     "metadata": {},
     "output_type": "execute_result"
    }
   ],
   "source": [
    "new_new_df = dc_df.join(combined_count_df, on=\"source_id\")\n",
    "new_new_df"
   ]
  },
  {
   "cell_type": "code",
   "execution_count": 46,
   "metadata": {},
   "outputs": [],
   "source": [
    "import polars as pl\n",
    "import random\n",
    "from datetime import datetime, timedelta\n",
    "\n",
    "def tank_timeseries_with_value() -> pl.DataFrame:\n",
    "    time_series = []\n",
    "    value = 0 \n",
    "\n",
    "    for tank in new_new_df.iter_rows(named=True):\n",
    "        key_metric = tank[\"key_metric\"]\n",
    "        identifier = tank[\"metric_nice_name\"]\n",
    "\n",
    "        # Generate a consistent timestamp for this iteration\n",
    "        end_date = datetime.now()\n",
    "        start_date = end_date - timedelta(days=365)\n",
    "        create_ts = start_date + (end_date - start_date) * random.random()\n",
    "\n",
    "        if \"ID\" in identifier:\n",
    "            if \"Oil\" in identifier:\n",
    "                value = random.randint(1, tank[\"oil_tank_count\"])\n",
    "            else:\n",
    "                value = random.randint(1, tank[\"water_tank_count\"])\n",
    "        else: \n",
    "            continue\n",
    "\n",
    "        time_series.append({\n",
    "            \"key_metric\": key_metric,\n",
    "            \"ts\": create_ts,  # Use the same timestamp for each metric\n",
    "            \"value\": value\n",
    "        })\n",
    "\n",
    "    time_series_df = pl.DataFrame(time_series)\n",
    "    return time_series_df\n"
   ]
  },
  {
   "cell_type": "code",
   "execution_count": 47,
   "metadata": {},
   "outputs": [
    {
     "data": {
      "text/html": [
       "<div><style>\n",
       ".dataframe > thead > tr,\n",
       ".dataframe > tbody > tr {\n",
       "  text-align: right;\n",
       "  white-space: pre-wrap;\n",
       "}\n",
       "</style>\n",
       "<small>shape: (170, 3)</small><table border=\"1\" class=\"dataframe\"><thead><tr><th>key_metric</th><th>ts</th><th>value</th></tr><tr><td>object</td><td>datetime[μs]</td><td>i64</td></tr></thead><tbody><tr><td>7eb0b21d-a87f-4a27-8751-f7318db2fdc8</td><td>2023-11-22 12:05:15.044649</td><td>2</td></tr><tr><td>de925327-bbae-4c3d-b93c-c65094656a58</td><td>2023-10-13 03:04:53.057759</td><td>1</td></tr><tr><td>a08a596d-c3f1-462d-aecf-88abb45cabc1</td><td>2024-01-13 18:28:47.301841</td><td>2</td></tr><tr><td>2b9672ff-5a41-4954-bb31-174d434ae296</td><td>2023-11-25 20:48:55.422467</td><td>2</td></tr><tr><td>c40c4067-8262-434c-9f83-5ccad23c28e8</td><td>2023-10-30 05:48:38.080551</td><td>2</td></tr><tr><td>&hellip;</td><td>&hellip;</td><td>&hellip;</td></tr><tr><td>bf404389-f86f-47fe-8eb6-aac06db9bd77</td><td>2023-09-25 00:28:07.009832</td><td>1</td></tr><tr><td>6238907c-5216-423d-88a3-0c261c5929d1</td><td>2024-06-01 14:39:04.925983</td><td>5</td></tr><tr><td>b4fa08d8-bbb4-4957-907e-591368c5bbc1</td><td>2024-02-10 18:49:29.787846</td><td>1</td></tr><tr><td>4ab57531-4dcf-4feb-be79-7b19c57b84f4</td><td>2023-10-05 11:31:07.593427</td><td>2</td></tr><tr><td>adc57531-4dcf-4feb-be79-7b19c57b84f4</td><td>2024-03-25 14:56:46.414747</td><td>4</td></tr></tbody></table></div>"
      ],
      "text/plain": [
       "shape: (170, 3)\n",
       "┌─────────────────────────────────┬────────────────────────────┬───────┐\n",
       "│ key_metric                      ┆ ts                         ┆ value │\n",
       "│ ---                             ┆ ---                        ┆ ---   │\n",
       "│ object                          ┆ datetime[μs]               ┆ i64   │\n",
       "╞═════════════════════════════════╪════════════════════════════╪═══════╡\n",
       "│ 7eb0b21d-a87f-4a27-8751-f7318d… ┆ 2023-11-22 12:05:15.044649 ┆ 2     │\n",
       "│ de925327-bbae-4c3d-b93c-c65094… ┆ 2023-10-13 03:04:53.057759 ┆ 1     │\n",
       "│ a08a596d-c3f1-462d-aecf-88abb4… ┆ 2024-01-13 18:28:47.301841 ┆ 2     │\n",
       "│ 2b9672ff-5a41-4954-bb31-174d43… ┆ 2023-11-25 20:48:55.422467 ┆ 2     │\n",
       "│ c40c4067-8262-434c-9f83-5ccad2… ┆ 2023-10-30 05:48:38.080551 ┆ 2     │\n",
       "│ …                               ┆ …                          ┆ …     │\n",
       "│ bf404389-f86f-47fe-8eb6-aac06d… ┆ 2023-09-25 00:28:07.009832 ┆ 1     │\n",
       "│ 6238907c-5216-423d-88a3-0c261c… ┆ 2024-06-01 14:39:04.925983 ┆ 5     │\n",
       "│ b4fa08d8-bbb4-4957-907e-591368… ┆ 2024-02-10 18:49:29.787846 ┆ 1     │\n",
       "│ 4ab57531-4dcf-4feb-be79-7b19c5… ┆ 2023-10-05 11:31:07.593427 ┆ 2     │\n",
       "│ adc57531-4dcf-4feb-be79-7b19c5… ┆ 2024-03-25 14:56:46.414747 ┆ 4     │\n",
       "└─────────────────────────────────┴────────────────────────────┴───────┘"
      ]
     },
     "execution_count": 47,
     "metadata": {},
     "output_type": "execute_result"
    }
   ],
   "source": [
    "tank_timeseries_with_value()"
   ]
  },
  {
   "cell_type": "code",
   "execution_count": 48,
   "metadata": {},
   "outputs": [],
   "source": [
    "from src.pool import PG\n",
    "\n",
    "await PG.insert(tank_timeseries_with_value(), \"sdm_dba.timeseries_data_two\")"
   ]
  },
  {
   "cell_type": "code",
   "execution_count": null,
   "metadata": {},
   "outputs": [],
   "source": [
    "from src.pool import PG\n",
    "\n",
    "TS_QUERY = \"\"\"--sql \n",
    "    SELECT *\n",
    "    FROM sdm_dba.data_catalog dc\n",
    "    WHERE metric_nice_name NOT LIKE '%TankID%'\n",
    "    ORDER BY source_key;\n",
    "\"\"\"\n",
    "\n",
    "ts_query = await PG.fetch(TS_QUERY)\n",
    "if ts_query is None:\n",
    "    raise ValueError(\"df is None\")\n",
    "if ts_query.shape[0] == 0:\n",
    "        raise ValueError(\"The fetched DataFrame is empty.\")\n",
    "\n",
    "ts_query"
   ]
  },
  {
   "cell_type": "code",
   "execution_count": null,
   "metadata": {},
   "outputs": [],
   "source": [
    "import polars as pl\n",
    "import random\n",
    "from datetime import datetime, timedelta\n",
    "from perlin_noise import PerlinNoise\n",
    "\n",
    "# Initialize Perlin noise generator\n",
    "random_noise = PerlinNoise(octaves=1)\n",
    "\n",
    "# Function to create the initial tank time series data\n",
    "def tank_timeseries_with_value2(num_points: int = 40) -> pl.DataFrame:\n",
    "    time_series = []\n",
    "\n",
    "    for tank in ts_query.iter_rows(named=True):\n",
    "        key_metric = tank[\"key_metric\"]\n",
    "        identifier = tank[\"metric_nice_name\"]\n",
    "\n",
    "        # Generate  points per key_metric\n",
    "        for _ in range(num_points):\n",
    "            # Keep timestamps within the last 7 days\n",
    "            end_date = datetime.now()\n",
    "            start_date = end_date - timedelta(days=7)\n",
    "            create_ts = start_date + (end_date - start_date) * random.random()\n",
    "\n",
    "            # Generate value using Perlin noise\n",
    "            if \"Volume\" in identifier:\n",
    "                value = 300 + random_noise.noise(create_ts.timestamp() / 100000) * 180\n",
    "            elif \"Level\" in identifier:\n",
    "                value = 79 + random_noise.noise(create_ts.timestamp() / 100000) * 19\n",
    "            else:\n",
    "                value = 230 + random_noise.noise(create_ts.timestamp() / 100000) * 170\n",
    "\n",
    "            time_series.append({\n",
    "                \"key_metric\": key_metric,\n",
    "                \"ts\": create_ts,\n",
    "                \"value\": value\n",
    "            })\n",
    "\n",
    "    time_series_df = pl.DataFrame(time_series)\n",
    "    return time_series_df\n",
    "\n",
    "# Generate the time series data with Perlin noise\n",
    "initial_df = tank_timeseries_with_value2(num_points=40)"
   ]
  },
  {
   "cell_type": "code",
   "execution_count": null,
   "metadata": {},
   "outputs": [],
   "source": [
    "tank_timeseries_with_value2()"
   ]
  },
  {
   "cell_type": "code",
   "execution_count": null,
   "metadata": {},
   "outputs": [],
   "source": [
    "from src.pool import PG\n",
    "\n",
    "await PG.insert(tank_timeseries_with_value2(), \"sdm_dba.timeseries_data_two\")"
   ]
  }
 ],
 "metadata": {
  "kernelspec": {
   "display_name": ".venv",
   "language": "python",
   "name": "python3"
  },
  "language_info": {
   "codemirror_mode": {
    "name": "ipython",
    "version": 3
   },
   "file_extension": ".py",
   "mimetype": "text/x-python",
   "name": "python",
   "nbconvert_exporter": "python",
   "pygments_lexer": "ipython3",
   "version": "3.12.2"
  }
 },
 "nbformat": 4,
 "nbformat_minor": 2
}
