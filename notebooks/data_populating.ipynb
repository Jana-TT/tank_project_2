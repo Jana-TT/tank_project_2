{
 "cells": [
  {
   "cell_type": "code",
   "execution_count": null,
   "metadata": {},
   "outputs": [],
   "source": [
    "import polars as pl\n",
    "\n",
    "texas_counties = [\n",
    "    'Anderson', 'Andrews', 'Angelina', 'Aransas', 'Archer', 'Armstrong', 'Atascosa', 'Bailey', 'Bandera', \n",
    "    'Bastrop', 'Baylor', 'Bee', 'Bell', 'Bexar', 'Blanco', 'Borden', 'Bosque', 'Bowie', 'Brazoria', 'Brazos', \n",
    "    'Brewster', 'Briscoe', 'Brooks', 'Brown', 'Burleson', 'Burnet', 'Caldwell', 'Calhoun', 'Callahan', 'Cameron', \n",
    "    'Camp', 'Carson', 'Cass', 'Castro', 'Chambers', 'Cherokee', 'Childress', 'Clay', 'Cochran', 'Coke', 'Coleman', \n",
    "    'Collin', 'Collingsworth', 'Colorado', 'Comal', 'Comanche', 'Concho', 'Cooke', 'Coryell', 'Cottle', 'Crane', \n",
    "    'Crockett', 'Crosby', 'Culberson', 'Dallam', 'Dallas', 'Dawson', 'Deaf Smith', 'Delta', 'Denton', 'DeWitt', \n",
    "    'Dickens', 'Dimmit', 'Donley', 'Duval', 'Eastland', 'Ector', 'Edwards', 'Ellis', 'Erath', 'Falls', \n",
    "    'Fannin', 'Fayette', 'Fisher', 'Floyd', 'Foard', 'Fort Bend', 'Franklin', 'Freestone', 'Frio', 'Gaines', \n",
    "    'Galveston', 'Garza', 'Gillespie', 'Glasscock', 'Goliad', 'Gonzales', 'Gray', 'Grayson', 'Gregg', 'Grimes', \n",
    "    'Guadalupe', 'Hale', 'Hall', 'Hamilton', 'Hansford', 'Hardeman', 'Hardin', 'Harris', 'Harrison', 'Hartley', \n",
    "    'Haskell', 'Hays', 'Hemphill', 'Henderson', 'Hidalgo', 'Hill', 'Hockley', 'Hood', 'Hopkins', 'Howard', \n",
    "    'Hudspeth', 'Hunt', 'Hutchinson', 'Irion', 'Jack', 'Jackson', 'Jasper', 'Jeff Davis', 'Jefferson', 'Jim Hogg', \n",
    "    'Jim Wells', 'Johnson', 'Jones', 'Karnes', 'Kaufman', 'Kendall', 'Kenedy', 'Kent', 'Kerr', 'Kimble', 'King', \n",
    "    'Kinney', 'Kleberg', 'Knox', 'Lamar', 'Lamb', 'Lampasas', 'La Salle', 'Lavaca', 'Lee', 'Leon', 'Liberty', \n",
    "    'Limestone', 'Lipscomb', 'Live Oak', 'Llano', 'Loving', 'Lynn', 'McCulloch', 'McLennan', 'McMullen', \n",
    "    'Madison', 'Marion', 'Martin', 'Mason', 'Matagorda', 'Maverick', 'Medina', 'Menard', 'Midland', 'Milam', \n",
    "    'Mills', 'Mitchell', 'Montague', 'Montgomery', 'Moore', 'Morris', 'Motley', 'Nacogdoches', 'Navarro', \n",
    "    'Newton', 'Nolan', 'Nueces', 'Ochiltree', 'Oldham', 'Orange', 'Palo Pinto', 'Panola', 'Parker', 'Parmer', \n",
    "    'Pecos', 'Polk', 'Potter', 'Presidio', 'Rains', 'Randall', 'Reagan', 'Real', 'Red River', 'Reeves', 'Refugio', \n",
    "    'Roberts', 'Robertson', 'Rockwall', 'Runnels', 'Rusk', 'Sabine', 'San Augustine', 'San Jacinto', 'San Patricio', \n",
    "    'San Saba', 'Schleicher', 'Scurry', 'Shackelford', 'Shelby', 'Sherman', 'Smith', 'Somervell', 'Starr', \n",
    "    'Stephens', 'Sterling', 'Stonewall', 'Sutton', 'Swisher', 'Tarrant', 'Taylor', 'Terrell', 'Terry', 'Throckmorton', \n",
    "    'Titus', 'Tom Green', 'Travis', 'Trinity', 'Tyler', 'Upshur', 'Upton', 'Uvalde', 'Val Verde', 'Van Zandt', \n",
    "    'Victoria', 'Walker', 'Waller', 'Ward', 'Washington', 'Webb', 'Wharton', 'Wheeler', 'Wichita', 'Wilbarger', \n",
    "    'Willacy', 'Williamson', 'Wilson', 'Winkler', 'Wise', 'Wood', 'Yoakum', 'Young', 'Zapata', 'Zavala'\n",
    "]\n",
    "\n",
    "texas_counties_df = pl.DataFrame({\"county\": texas_counties})\n",
    "texas_counties_df.write_csv('texas_counties.csv')\n",
    "print('success!')"
   ]
  },
  {
   "cell_type": "code",
   "execution_count": null,
   "metadata": {},
   "outputs": [],
   "source": [
    "texas_counties_df = texas_counties_df.with_columns( pl.col(\"county\").str.to_uppercase())\n",
    "texas_counties_df"
   ]
  },
  {
   "cell_type": "code",
   "execution_count": null,
   "metadata": {},
   "outputs": [],
   "source": [
    "from src.pool import PG\n",
    "\n",
    "ROUTES_QUERY = \"\"\"--sql \n",
    "    SELECT route_name FROM mrte_dba.routes\n",
    "\"\"\"\n",
    "\n",
    "routes_df = await PG.fetch(\"SELECT route_id, route_name, division_id FROM mrte_dba.routes\")\n",
    "if routes_df is None:\n",
    "    raise ValueError(\"df is None\")\n",
    "if routes_df.shape[0] == 0:\n",
    "        raise ValueError(\"The fetched DataFrame is empty.\")\n",
    "\n",
    "routes_df"
   ]
  },
  {
   "cell_type": "code",
   "execution_count": null,
   "metadata": {},
   "outputs": [],
   "source": [
    "FACILITIES_QUERY = \"\"\"--sql \n",
    "    SELECT *\n",
    "    FROM mrte_dba.mrte_facility\n",
    "    WHERE primo_prprty NOT IN (69419, 98750, 98743);\n",
    "\"\"\"\n",
    "\n",
    "facilities_df = await PG.fetch(FACILITIES_QUERY)\n",
    "if facilities_df is None:\n",
    "    raise ValueError(\"df is None\")\n",
    "if facilities_df.shape[0] == 0:\n",
    "        raise ValueError(\"The fetched DataFrame is empty.\")\n",
    "\n",
    "facilities_df"
   ]
  },
  {
   "cell_type": "code",
   "execution_count": null,
   "metadata": {},
   "outputs": [],
   "source": [
    "def map_route_to_division(route_df: pl.DataFrame, division_id: int) -> str:\n",
    "    get_divsion = route_df.filter(pl.col(\"division_id\") == division_id)\n",
    "    route_assignment = random.choice(get_divsion)\n",
    "    route_chosen = route_assignment.select(\"route_id\").item()\n",
    "    return route_chosen"
   ]
  },
  {
   "cell_type": "code",
   "execution_count": null,
   "metadata": {},
   "outputs": [],
   "source": [
    "map_route_to_division(routes_df, 12)"
   ]
  },
  {
   "cell_type": "code",
   "execution_count": null,
   "metadata": {},
   "outputs": [],
   "source": [
    "pl.Config.set_tbl_rows(1500)"
   ]
  },
  {
   "cell_type": "code",
   "execution_count": null,
   "metadata": {},
   "outputs": [],
   "source": [
    "#facility gen\n",
    "\n",
    "import random\n",
    "from datetime import datetime, timedelta\n",
    "\n",
    "def map_route_to_division(route_df: pl.DataFrame, division_id: int):\n",
    "    get_divsion = route_df.filter(pl.col(\"division_id\") == division_id)\n",
    "    route_assignment = random.choice(get_divsion)\n",
    "    route_chosen = route_assignment.select(\"route_id\").item()\n",
    "    return route_chosen\n",
    "\n",
    "def testing_data() -> pl.DataFrame:\n",
    "    county_row_count = texas_counties_df.shape[0]\n",
    "    \n",
    "    facilities = []\n",
    "\n",
    "    facility_id = 348823750\n",
    "    primo_prprty = 98760\n",
    "\n",
    "    batch_size = 10\n",
    "    start_index = 0\n",
    "\n",
    "    for route in routes_df.iter_rows(named=True):\n",
    "        division_id = route['division_id']\n",
    "\n",
    "        # Generate 10 facilities for each route\n",
    "        for i in range(1, 11):\n",
    "            # Ensure start_index wraps around if it exceeds county_count\n",
    "            county_index = (start_index + i - 1) % county_row_count\n",
    "            county_name = texas_counties_df[\"county\"][county_index]\n",
    "\n",
    "            facility_id += 1\n",
    "            primo_prprty +=1\n",
    "            route_id = map_route_to_division(routes_df, division_id)\n",
    "\n",
    "            end_date = datetime.now()\n",
    "            start_date = end_date - timedelta(days=365 * 10)\n",
    "            first_production_ts = start_date + (end_date - start_date) * random.random()\n",
    "\n",
    "            facilities.append({\n",
    "                'facility_id': facility_id,\n",
    "                'facility_name': f'{county_name} FAC',\n",
    "                'first_production_ts': first_production_ts,    \n",
    "                'division_id': division_id,\n",
    "                'primo_prprty': primo_prprty,\n",
    "                'route_id': route_id\n",
    "            })\n",
    "\n",
    "        start_index = (start_index + batch_size) % county_row_count\n",
    "\n",
    "\n",
    "    facilities_df = pl.DataFrame(facilities)\n",
    "    return facilities_df"
   ]
  },
  {
   "cell_type": "code",
   "execution_count": null,
   "metadata": {},
   "outputs": [],
   "source": [
    "testing_data()"
   ]
  },
  {
   "cell_type": "code",
   "execution_count": null,
   "metadata": {},
   "outputs": [],
   "source": [
    "facilities_df = facilities_df.with_columns(pl.col(\"primo_prprty\").cast(str))\n",
    "facilities_df"
   ]
  },
  {
   "cell_type": "code",
   "execution_count": null,
   "metadata": {},
   "outputs": [],
   "source": [
    "#tank gen\n",
    "\n",
    "import uuid\n",
    "\n",
    "\n",
    "def tank_generation() -> pl.DataFrame:\n",
    "    tanks = []\n",
    "\n",
    "    for facs in facilities_df.iter_rows(named=True):\n",
    "        division_id = facs['division_id']\n",
    "        primo_prprty =  facs['primo_prprty']\n",
    "\n",
    "        range_oil_tanks = random.randint(2,6)\n",
    "        range_water_tanks = random.randint(1,3)\n",
    "\n",
    "\n",
    "        #generating oil tanks\n",
    "        for i in range(1, range_oil_tanks + 1):\n",
    "            tanks.append({\n",
    "                'key_metric': uuid.uuid4(),\n",
    "                'source_key': primo_prprty + '0' + str(i),\n",
    "                'source_id': primo_prprty,\n",
    "                'metric_nice_name': 'OilTank' + str(i) + 'Level',\n",
    "                'uom': 'in',\n",
    "                'division_id': division_id\n",
    "            })\n",
    "            tanks.append({\n",
    "                'key_metric': uuid.uuid4(),\n",
    "                'source_key': primo_prprty + '0' + str(i),\n",
    "                'source_id': primo_prprty,\n",
    "                'metric_nice_name': 'OilTank' + str(i) + 'Volume',\n",
    "                'uom': 'bbl',\n",
    "                'division_id': division_id\n",
    "            })\n",
    "\n",
    "        # generating water tanks\n",
    "        for i in range(1, range_water_tanks + 1):\n",
    "            tanks.append({\n",
    "                'key_metric': uuid.uuid4(),\n",
    "                'source_key': primo_prprty + 'W' + str(i),\n",
    "                'source_id': primo_prprty,\n",
    "                'metric_nice_name': 'WaterTank' + str(i) + 'Level',\n",
    "                'uom': 'in',\n",
    "                'division_id': division_id\n",
    "            })\n",
    "            tanks.append({\n",
    "                'key_metric': uuid.uuid4(),\n",
    "                'source_key': primo_prprty + 'W' + str(i),\n",
    "                'source_id': primo_prprty,\n",
    "                'metric_nice_name': 'WaterTank' + str(i) + 'Volume',\n",
    "                'uom': 'bbl',\n",
    "                'division_id': division_id\n",
    "            })\n",
    "\n",
    "        tanks.append({\n",
    "                'key_metric': uuid.uuid4(),\n",
    "                'source_key': primo_prprty + 'FAC',\n",
    "                'source_id': primo_prprty,\n",
    "                'metric_nice_name': 'ESD-OilTankID',\n",
    "                'uom': '',\n",
    "                'division_id': division_id\n",
    "        })\n",
    "\n",
    "        tanks.append({\n",
    "            'key_metric': uuid.uuid4(),\n",
    "            'source_key': primo_prprty + 'FAC',\n",
    "            'source_id': primo_prprty,\n",
    "            'metric_nice_name': 'ESD-OilTankInchesUntilAlarm',\n",
    "            'uom': 'in',\n",
    "            'division_id': division_id\n",
    "        })\n",
    "\n",
    "        tanks.append({\n",
    "            'key_metric': uuid.uuid4(),\n",
    "            'source_key': primo_prprty + 'FAC',\n",
    "            'source_id': primo_prprty,\n",
    "            'metric_nice_name': 'ESD-WaterTankID',\n",
    "            'uom': '',\n",
    "            'division_id': division_id\n",
    "        })\n",
    "\n",
    "        tanks.append({\n",
    "            'key_metric': uuid.uuid4(),\n",
    "            'source_key': primo_prprty + 'FAC',\n",
    "            'source_id': primo_prprty,\n",
    "            'metric_nice_name': 'ESD-WaterTankInchesUntilAlarm',\n",
    "            'uom': 'in',\n",
    "            'division_id': division_id\n",
    "        })\n",
    "\n",
    "    tanks_df = pl.DataFrame(tanks)\n",
    "    return tanks_df"
   ]
  },
  {
   "cell_type": "code",
   "execution_count": null,
   "metadata": {},
   "outputs": [],
   "source": [
    "tank_generation()"
   ]
  },
  {
   "cell_type": "code",
   "execution_count": null,
   "metadata": {},
   "outputs": [],
   "source": [
    "from src.pool import PG\n",
    "\n",
    "NEW_TANKS_QUERY = \"\"\"--sql \n",
    "    SELECT DISTINCT source_key, division_id\n",
    "    FROM sdm_dba.data_catalog dc\n",
    "    WHERE source_id NOT IN ('69419', '98750', '98743', '480001', '110009')\n",
    "    AND source_key NOT LIKE '%FAC%'\n",
    "    ORDER BY source_key;\n",
    "\"\"\"\n",
    "\n",
    "new_tanks_df = await PG.fetch(NEW_TANKS_QUERY)\n",
    "if new_tanks_df is None:\n",
    "    raise ValueError(\"df is None\")\n",
    "if new_tanks_df.shape[0] == 0:\n",
    "        raise ValueError(\"The fetched DataFrame is empty.\")\n",
    "\n",
    "new_tanks_df"
   ]
  },
  {
   "cell_type": "code",
   "execution_count": null,
   "metadata": {},
   "outputs": [],
   "source": [
    "#tank_metadata\n",
    "import polars as pl\n",
    "from datetime import datetime, timedelta\n",
    "import random\n",
    "from decimal import Decimal\n",
    "\n",
    "def tank_timeseries_generation() -> pl.DataFrame:\n",
    "    tanks_ts = []\n",
    "\n",
    "    for i in new_tanks_df.iter_rows(named=True):\n",
    "        source_key = i[\"source_key\"]\n",
    "        division_id = i[\"division_id\"]\n",
    "        \n",
    "        end_date = datetime.now()\n",
    "        start_date = end_date - timedelta(days=365 * 5)\n",
    "        create_ts = start_date + (end_date - start_date) * random.random()\n",
    "\n",
    "        tanksize = random.uniform(400, 800)\n",
    "\n",
    "        tanks_ts.append({\n",
    "            \"scadaid\": source_key,\n",
    "            \"create_ts\": create_ts, \n",
    "            \"update_ts\": create_ts,\n",
    "            \"tanksize\": tanksize,\n",
    "            \"division_id\": division_id\n",
    "        })\n",
    "\n",
    "    tanks_df = pl.DataFrame(tanks_ts)\n",
    "    return tanks_df\n"
   ]
  },
  {
   "cell_type": "code",
   "execution_count": null,
   "metadata": {},
   "outputs": [],
   "source": [
    "tank_timeseries_generation()"
   ]
  },
  {
   "cell_type": "code",
   "execution_count": null,
   "metadata": {},
   "outputs": [],
   "source": [
    "from src.pool import PG\n",
    "\n",
    "DATA_CATALOG_QUERY = \"\"\"--sql \n",
    "    SELECT *\n",
    "    FROM sdm_dba.data_catalog dc\n",
    "    WHERE source_id NOT IN ('69419', '98750', '98743', '480001', '110009')\n",
    "\"\"\"\n",
    "\n",
    "dc_df = await PG.fetch(DATA_CATALOG_QUERY)\n",
    "if dc_df is None:\n",
    "    raise ValueError(\"df is None\")\n",
    "if dc_df.shape[0] == 0:\n",
    "        raise ValueError(\"The fetched DataFrame is empty.\")\n",
    "\n",
    "dc_df"
   ]
  },
  {
   "cell_type": "code",
   "execution_count": null,
   "metadata": {},
   "outputs": [],
   "source": [
    "from src.pool import PG\n",
    "\n",
    "NEW_TANKS_QUERY = \"\"\"--sql \n",
    "    SELECT DISTINCT source_key, division_id, source_id\n",
    "    FROM sdm_dba.data_catalog dc\n",
    "    WHERE source_id NOT IN ('69419', '98750', '98743', '480001', '110009')\n",
    "    AND source_key NOT LIKE '%FAC%'\n",
    "    ORDER BY source_key;\n",
    "\"\"\"\n",
    "\n",
    "new_tanks_df = await PG.fetch(NEW_TANKS_QUERY)\n",
    "if new_tanks_df is None:\n",
    "    raise ValueError(\"df is None\")\n",
    "if new_tanks_df.shape[0] == 0:\n",
    "        raise ValueError(\"The fetched DataFrame is empty.\")\n",
    "\n",
    "new_tanks_df"
   ]
  },
  {
   "cell_type": "code",
   "execution_count": null,
   "metadata": {},
   "outputs": [],
   "source": [
    "pattern = r'0\\d'\n",
    "oil_tanks_df = new_tanks_df.filter(pl.col(\"source_key\").str.contains(pattern)) \n",
    "new_oil_df = oil_tanks_df.group_by(\"source_id\").agg(pl.count(\"source_key\").alias(\"oil_tank_count\"))\n",
    "new_oil_df = new_oil_df.sort(\"source_id\")\n",
    "new_oil_df"
   ]
  },
  {
   "cell_type": "code",
   "execution_count": null,
   "metadata": {},
   "outputs": [],
   "source": [
    "water_tanks_df = new_tanks_df.filter(pl.col(\"source_key\").str.contains(\"W\"))\n",
    "new_df = water_tanks_df.group_by(\"source_id\").agg(pl.count(\"source_key\").alias(\"water_tank_count\"))\n",
    "new_df = new_df.sort(\"source_id\")\n",
    "new_df"
   ]
  },
  {
   "cell_type": "code",
   "execution_count": null,
   "metadata": {},
   "outputs": [],
   "source": [
    "combined_count_df = new_df.join(new_oil_df, on=\"source_id\")\n",
    "combined_count_df"
   ]
  },
  {
   "cell_type": "code",
   "execution_count": null,
   "metadata": {},
   "outputs": [],
   "source": [
    "import polars as pl\n",
    "pl.Config.set_tbl_rows(2000)"
   ]
  },
  {
   "cell_type": "code",
   "execution_count": null,
   "metadata": {},
   "outputs": [],
   "source": [
    "def select_rand_oil(new_df: pl.DataFrame, key_metric):\n",
    "    oil_count = new_df.with_columns(\"oil_tank_count\").item()\n",
    "    return oil_count"
   ]
  },
  {
   "cell_type": "code",
   "execution_count": null,
   "metadata": {},
   "outputs": [],
   "source": [
    "new_new_df = dc_df.join(combined_count_df, on=\"source_id\")\n",
    "new_new_df"
   ]
  },
  {
   "cell_type": "code",
   "execution_count": null,
   "metadata": {},
   "outputs": [],
   "source": [
    "#timeseries\n",
    "import polars as pl\n",
    "import random\n",
    "from datetime import datetime, timedelta\n",
    "\n",
    "def tank_timeseries_with_value() -> pl.DataFrame:\n",
    "    time_series = []\n",
    "\n",
    "    for tank in new_new_df.iter_rows(named=True):\n",
    "        key_metric = tank[\"key_metric\"]\n",
    "        primo_id = tank[\"source_id\"]\n",
    "        identifier = tank[\"metric_nice_name\"]\n",
    "\n",
    "        if \"Volume\" in identifier:\n",
    "            value = random.uniform(120, 480)\n",
    "        elif \"Level\" in identifier:\n",
    "            value = random.uniform(60, 98)\n",
    "        elif \"ID\" in identifier:\n",
    "            if \"Oil\" in identifier:\n",
    "                value = random.randint(1, tank[\"oil_tank_count\"])\n",
    "            else:\n",
    "                value = random.randint(1, tank[\"water_tank_count\"])\n",
    "        else:\n",
    "            value = random.uniform(60, 400)\n",
    "\n",
    "        end_date = datetime.now()\n",
    "        start_date = end_date - timedelta(days=365)\n",
    "        create_ts = start_date + (end_date - start_date) * random.random()\n",
    "\n",
    "        time_series.append({\n",
    "            \"key_metric\": key_metric,\n",
    "            \"ts\": create_ts,\n",
    "            \"value\": value\n",
    "        })\n",
    "\n",
    "    time_series_df = pl.DataFrame(time_series)\n",
    "    return time_series_df"
   ]
  },
  {
   "cell_type": "code",
   "execution_count": null,
   "metadata": {},
   "outputs": [],
   "source": [
    "tank_timeseries_with_value()"
   ]
  },
  {
   "cell_type": "code",
   "execution_count": null,
   "metadata": {},
   "outputs": [],
   "source": [
    "from src.pool import PG\n",
    "\n",
    "await PG.insert(tank_timeseries_with_value(), \"sdm_dba.timeseries_data\")"
   ]
  },
  {
   "cell_type": "code",
   "execution_count": 3,
   "metadata": {},
   "outputs": [
    {
     "data": {
      "text/html": [
       "<div><style>\n",
       ".dataframe > thead > tr,\n",
       ".dataframe > tbody > tr {\n",
       "  text-align: right;\n",
       "  white-space: pre-wrap;\n",
       "}\n",
       "</style>\n",
       "<small>shape: (966, 6)</small><table border=\"1\" class=\"dataframe\"><thead><tr><th>key_metric</th><th>source_key</th><th>source_id</th><th>metric_nice_name</th><th>uom</th><th>division_id</th></tr><tr><td>object</td><td>str</td><td>str</td><td>str</td><td>str</td><td>i64</td></tr></thead><tbody><tr><td>b8617380-2882-437b-9f94-03dadab9fd05</td><td>&quot;9876101&quot;</td><td>&quot;98761&quot;</td><td>&quot;OilTank1Level&quot;</td><td>&quot;in&quot;</td><td>26</td></tr><tr><td>33ee354e-42cc-4abc-aee9-fb0849e4428c</td><td>&quot;9876101&quot;</td><td>&quot;98761&quot;</td><td>&quot;OilTank1Volume&quot;</td><td>&quot;bbl&quot;</td><td>26</td></tr><tr><td>5807e474-79e8-4a6e-a4ed-89052d866f68</td><td>&quot;9876102&quot;</td><td>&quot;98761&quot;</td><td>&quot;OilTank2Level&quot;</td><td>&quot;in&quot;</td><td>26</td></tr><tr><td>d45c7df0-f839-47fa-8392-7d6e3c3f09bb</td><td>&quot;9876102&quot;</td><td>&quot;98761&quot;</td><td>&quot;OilTank2Volume&quot;</td><td>&quot;bbl&quot;</td><td>26</td></tr><tr><td>9857c559-844c-420c-b64d-9fd458d27a58</td><td>&quot;9876103&quot;</td><td>&quot;98761&quot;</td><td>&quot;OilTank3Level&quot;</td><td>&quot;in&quot;</td><td>26</td></tr><tr><td>&hellip;</td><td>&hellip;</td><td>&hellip;</td><td>&hellip;</td><td>&hellip;</td><td>&hellip;</td></tr><tr><td>1158ad41-4c78-4d2f-83ec-2ff717c2d445</td><td>&quot;9884003&quot;</td><td>&quot;98840&quot;</td><td>&quot;OilTank3Volume&quot;</td><td>&quot;bbl&quot;</td><td>40</td></tr><tr><td>b40ee794-21e3-4424-b0c5-b7fa205eb2f8</td><td>&quot;98840W1&quot;</td><td>&quot;98840&quot;</td><td>&quot;WaterTank1Level&quot;</td><td>&quot;in&quot;</td><td>40</td></tr><tr><td>2cd89218-f881-41d7-a97a-7d06deacb5f5</td><td>&quot;98840W1&quot;</td><td>&quot;98840&quot;</td><td>&quot;WaterTank1Volume&quot;</td><td>&quot;bbl&quot;</td><td>40</td></tr><tr><td>b5a48faa-1f40-4887-a0e9-7a84a3a83366</td><td>&quot;98840W2&quot;</td><td>&quot;98840&quot;</td><td>&quot;WaterTank2Level&quot;</td><td>&quot;in&quot;</td><td>40</td></tr><tr><td>106e51eb-4faa-4d5c-b43e-210c92016f98</td><td>&quot;98840W2&quot;</td><td>&quot;98840&quot;</td><td>&quot;WaterTank2Volume&quot;</td><td>&quot;bbl&quot;</td><td>40</td></tr></tbody></table></div>"
      ],
      "text/plain": [
       "shape: (966, 6)\n",
       "┌─────────────────────────────────┬────────────┬───────────┬──────────────────┬─────┬─────────────┐\n",
       "│ key_metric                      ┆ source_key ┆ source_id ┆ metric_nice_name ┆ uom ┆ division_id │\n",
       "│ ---                             ┆ ---        ┆ ---       ┆ ---              ┆ --- ┆ ---         │\n",
       "│ object                          ┆ str        ┆ str       ┆ str              ┆ str ┆ i64         │\n",
       "╞═════════════════════════════════╪════════════╪═══════════╪══════════════════╪═════╪═════════════╡\n",
       "│ b8617380-2882-437b-9f94-03dada… ┆ 9876101    ┆ 98761     ┆ OilTank1Level    ┆ in  ┆ 26          │\n",
       "│ 33ee354e-42cc-4abc-aee9-fb0849… ┆ 9876101    ┆ 98761     ┆ OilTank1Volume   ┆ bbl ┆ 26          │\n",
       "│ 5807e474-79e8-4a6e-a4ed-89052d… ┆ 9876102    ┆ 98761     ┆ OilTank2Level    ┆ in  ┆ 26          │\n",
       "│ d45c7df0-f839-47fa-8392-7d6e3c… ┆ 9876102    ┆ 98761     ┆ OilTank2Volume   ┆ bbl ┆ 26          │\n",
       "│ 9857c559-844c-420c-b64d-9fd458… ┆ 9876103    ┆ 98761     ┆ OilTank3Level    ┆ in  ┆ 26          │\n",
       "│ …                               ┆ …          ┆ …         ┆ …                ┆ …   ┆ …           │\n",
       "│ 1158ad41-4c78-4d2f-83ec-2ff717… ┆ 9884003    ┆ 98840     ┆ OilTank3Volume   ┆ bbl ┆ 40          │\n",
       "│ b40ee794-21e3-4424-b0c5-b7fa20… ┆ 98840W1    ┆ 98840     ┆ WaterTank1Level  ┆ in  ┆ 40          │\n",
       "│ 2cd89218-f881-41d7-a97a-7d06de… ┆ 98840W1    ┆ 98840     ┆ WaterTank1Volume ┆ bbl ┆ 40          │\n",
       "│ b5a48faa-1f40-4887-a0e9-7a84a3… ┆ 98840W2    ┆ 98840     ┆ WaterTank2Level  ┆ in  ┆ 40          │\n",
       "│ 106e51eb-4faa-4d5c-b43e-210c92… ┆ 98840W2    ┆ 98840     ┆ WaterTank2Volume ┆ bbl ┆ 40          │\n",
       "└─────────────────────────────────┴────────────┴───────────┴──────────────────┴─────┴─────────────┘"
      ]
     },
     "execution_count": 3,
     "metadata": {},
     "output_type": "execute_result"
    }
   ],
   "source": [
    "from src.pool import PG\n",
    "\n",
    "NEW_TANKS_QUERY = \"\"\"--sql \n",
    "    SELECT *\n",
    "    FROM sdm_dba.data_catalog dc\n",
    "    WHERE source_id NOT IN ('69419', '98750', '98743', '480001', '110009')\n",
    "    AND source_key NOT LIKE '%FAC%'\n",
    "    ORDER BY source_key;\n",
    "\"\"\"\n",
    "\n",
    "wee = await PG.fetch(NEW_TANKS_QUERY)\n",
    "if wee is None:\n",
    "    raise ValueError(\"df is None\")\n",
    "if wee.shape[0] == 0:\n",
    "        raise ValueError(\"The fetched DataFrame is empty.\")\n",
    "\n",
    "wee"
   ]
  },
  {
   "cell_type": "code",
   "execution_count": 4,
   "metadata": {},
   "outputs": [],
   "source": [
    "#timeseries\n",
    "import polars as pl\n",
    "import random\n",
    "from datetime import datetime, timedelta\n",
    "\n",
    "def tank_timeseries_with_value2() -> pl.DataFrame:\n",
    "    time_series = []\n",
    "\n",
    "    for tank in wee.iter_rows(named=True):\n",
    "        key_metric = tank[\"key_metric\"]\n",
    "        identifier = tank[\"metric_nice_name\"]\n",
    "\n",
    "        if \"Volume\" in identifier:\n",
    "            value = random.uniform(120, 480)\n",
    "        elif \"Level\" in identifier:\n",
    "            value = random.uniform(60, 98)\n",
    "        else:\n",
    "            value = random.uniform(60, 400)\n",
    "\n",
    "        end_date = datetime.now()\n",
    "        start_date = end_date - timedelta(days=365 * 10)\n",
    "        create_ts = start_date + (end_date - start_date) * random.random()\n",
    "\n",
    "        time_series.append({\n",
    "            \"key_metric\": key_metric,\n",
    "            \"ts\": create_ts,\n",
    "            \"value\": value\n",
    "        })\n",
    "\n",
    "    time_series_df = pl.DataFrame(time_series)\n",
    "    return time_series_df"
   ]
  },
  {
   "cell_type": "code",
   "execution_count": 5,
   "metadata": {},
   "outputs": [
    {
     "data": {
      "text/html": [
       "<div><style>\n",
       ".dataframe > thead > tr,\n",
       ".dataframe > tbody > tr {\n",
       "  text-align: right;\n",
       "  white-space: pre-wrap;\n",
       "}\n",
       "</style>\n",
       "<small>shape: (966, 3)</small><table border=\"1\" class=\"dataframe\"><thead><tr><th>key_metric</th><th>ts</th><th>value</th></tr><tr><td>object</td><td>datetime[μs]</td><td>f64</td></tr></thead><tbody><tr><td>b8617380-2882-437b-9f94-03dadab9fd05</td><td>2021-01-28 07:10:08.740329</td><td>72.854823</td></tr><tr><td>33ee354e-42cc-4abc-aee9-fb0849e4428c</td><td>2021-01-30 09:59:08.716424</td><td>283.979243</td></tr><tr><td>5807e474-79e8-4a6e-a4ed-89052d866f68</td><td>2020-11-19 08:30:33.617495</td><td>71.274095</td></tr><tr><td>d45c7df0-f839-47fa-8392-7d6e3c3f09bb</td><td>2021-11-11 23:21:35.864098</td><td>330.280975</td></tr><tr><td>9857c559-844c-420c-b64d-9fd458d27a58</td><td>2023-09-26 01:44:20.103393</td><td>96.652057</td></tr><tr><td>&hellip;</td><td>&hellip;</td><td>&hellip;</td></tr><tr><td>1158ad41-4c78-4d2f-83ec-2ff717c2d445</td><td>2015-10-28 10:18:01.309117</td><td>231.267616</td></tr><tr><td>b40ee794-21e3-4424-b0c5-b7fa205eb2f8</td><td>2018-07-07 14:35:15.327882</td><td>67.140568</td></tr><tr><td>2cd89218-f881-41d7-a97a-7d06deacb5f5</td><td>2022-01-11 18:45:39.995484</td><td>413.046722</td></tr><tr><td>b5a48faa-1f40-4887-a0e9-7a84a3a83366</td><td>2019-01-18 23:13:24.136746</td><td>65.397125</td></tr><tr><td>106e51eb-4faa-4d5c-b43e-210c92016f98</td><td>2022-01-16 22:29:11.683744</td><td>303.785114</td></tr></tbody></table></div>"
      ],
      "text/plain": [
       "shape: (966, 3)\n",
       "┌─────────────────────────────────┬────────────────────────────┬────────────┐\n",
       "│ key_metric                      ┆ ts                         ┆ value      │\n",
       "│ ---                             ┆ ---                        ┆ ---        │\n",
       "│ object                          ┆ datetime[μs]               ┆ f64        │\n",
       "╞═════════════════════════════════╪════════════════════════════╪════════════╡\n",
       "│ b8617380-2882-437b-9f94-03dada… ┆ 2021-01-28 07:10:08.740329 ┆ 72.854823  │\n",
       "│ 33ee354e-42cc-4abc-aee9-fb0849… ┆ 2021-01-30 09:59:08.716424 ┆ 283.979243 │\n",
       "│ 5807e474-79e8-4a6e-a4ed-89052d… ┆ 2020-11-19 08:30:33.617495 ┆ 71.274095  │\n",
       "│ d45c7df0-f839-47fa-8392-7d6e3c… ┆ 2021-11-11 23:21:35.864098 ┆ 330.280975 │\n",
       "│ 9857c559-844c-420c-b64d-9fd458… ┆ 2023-09-26 01:44:20.103393 ┆ 96.652057  │\n",
       "│ …                               ┆ …                          ┆ …          │\n",
       "│ 1158ad41-4c78-4d2f-83ec-2ff717… ┆ 2015-10-28 10:18:01.309117 ┆ 231.267616 │\n",
       "│ b40ee794-21e3-4424-b0c5-b7fa20… ┆ 2018-07-07 14:35:15.327882 ┆ 67.140568  │\n",
       "│ 2cd89218-f881-41d7-a97a-7d06de… ┆ 2022-01-11 18:45:39.995484 ┆ 413.046722 │\n",
       "│ b5a48faa-1f40-4887-a0e9-7a84a3… ┆ 2019-01-18 23:13:24.136746 ┆ 65.397125  │\n",
       "│ 106e51eb-4faa-4d5c-b43e-210c92… ┆ 2022-01-16 22:29:11.683744 ┆ 303.785114 │\n",
       "└─────────────────────────────────┴────────────────────────────┴────────────┘"
      ]
     },
     "execution_count": 5,
     "metadata": {},
     "output_type": "execute_result"
    }
   ],
   "source": [
    "tank_timeseries_with_value2()"
   ]
  },
  {
   "cell_type": "code",
   "execution_count": null,
   "metadata": {},
   "outputs": [],
   "source": [
    "await PG.insert(tank_timeseries_with_value2(), \"sdm_dba.timeseries_data\")"
   ]
  }
 ],
 "metadata": {
  "kernelspec": {
   "display_name": ".venv",
   "language": "python",
   "name": "python3"
  },
  "language_info": {
   "codemirror_mode": {
    "name": "ipython",
    "version": 3
   },
   "file_extension": ".py",
   "mimetype": "text/x-python",
   "name": "python",
   "nbconvert_exporter": "python",
   "pygments_lexer": "ipython3",
   "version": "3.12.2"
  }
 },
 "nbformat": 4,
 "nbformat_minor": 2
}
