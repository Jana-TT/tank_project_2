{
 "cells": [
  {
   "cell_type": "code",
   "execution_count": 1,
   "metadata": {},
   "outputs": [
    {
     "name": "stdout",
     "output_type": "stream",
     "text": [
      "Oil|Water\n",
      "pp Water|Oil\n"
     ]
    },
    {
     "data": {
      "text/html": [
       "<div><style>\n",
       ".dataframe > thead > tr,\n",
       ".dataframe > tbody > tr {\n",
       "  text-align: right;\n",
       "  white-space: pre-wrap;\n",
       "}\n",
       "</style>\n",
       "<small>shape: (14, 6)</small><table border=\"1\" class=\"dataframe\"><thead><tr><th>primo_id</th><th>scada_id</th><th>metric_nice_name</th><th>unique_id</th><th>timestamp</th><th>value</th></tr><tr><td>str</td><td>str</td><td>str</td><td>object</td><td>datetime[μs]</td><td>f64</td></tr></thead><tbody><tr><td>&quot;98743&quot;</td><td>&quot;9874303&quot;</td><td>&quot;OilTank3Volume&quot;</td><td>03da9be5-603d-41fe-9750-9912cbbb3d9c</td><td>2024-03-06 04:11:03.447424</td><td>0.053431</td></tr><tr><td>&quot;98743&quot;</td><td>&quot;98743FAC&quot;</td><td>&quot;ESD-WaterTankInchesUntilAlarm&quot;</td><td>2099e404-65fb-45a7-a0f7-d61611ef4b2c</td><td>2024-03-06 04:15:21.870747</td><td>203.940865</td></tr><tr><td>&quot;98743&quot;</td><td>&quot;9874301&quot;</td><td>&quot;OilTank1Volume&quot;</td><td>22594084-61ec-4c68-8a6d-bb5a0549ca96</td><td>2024-03-06 04:11:23.348001</td><td>254.343449</td></tr><tr><td>&quot;98743&quot;</td><td>&quot;9874302&quot;</td><td>&quot;OilTank2Level&quot;</td><td>395bae9a-3fbc-4618-b55a-54d81e322e18</td><td>2024-03-06 04:14:37.850008</td><td>105.227232</td></tr><tr><td>&quot;98743&quot;</td><td>&quot;98743FAC&quot;</td><td>&quot;ESD-OilTankInchesUntilAlarm&quot;</td><td>6d884ea0-cc9a-49a4-a73a-037eef3d2d14</td><td>2024-03-06 04:11:07.373313</td><td>395.101262</td></tr><tr><td>&hellip;</td><td>&hellip;</td><td>&hellip;</td><td>&hellip;</td><td>&hellip;</td><td>&hellip;</td></tr><tr><td>&quot;98743&quot;</td><td>&quot;98743W1&quot;</td><td>&quot;WaterTank1Volume&quot;</td><td>a0344de9-5574-4617-a3cd-42b00e59826d</td><td>2024-03-06 04:15:23.114434</td><td>267.388301</td></tr><tr><td>&quot;98743&quot;</td><td>&quot;9874301&quot;</td><td>&quot;OilTank1Level&quot;</td><td>dab4845a-93d0-4259-b44a-eb909f5b2eec</td><td>2024-03-06 04:11:23.348001</td><td>91.563642</td></tr><tr><td>&quot;98743&quot;</td><td>&quot;98743FAC&quot;</td><td>&quot;ESD-WaterTankID&quot;</td><td>de925327-bbae-4c3d-b93c-c65094656a58</td><td>2023-11-07 09:00:00</td><td>1.0</td></tr><tr><td>&quot;98743&quot;</td><td>&quot;98743W2&quot;</td><td>&quot;WaterTank2Volume&quot;</td><td>f8a8c53d-1a7d-41a8-ac11-1202ea35fb0b</td><td>2024-03-06 04:12:51.208327</td><td>182.731649</td></tr><tr><td>&quot;98743&quot;</td><td>&quot;98743W1&quot;</td><td>&quot;WaterTank1Level&quot;</td><td>f9dba55d-c34f-4cdc-92a6-49c4f9cd314c</td><td>2024-03-06 04:15:23.114434</td><td>96.259788</td></tr></tbody></table></div>"
      ],
      "text/plain": [
       "shape: (14, 6)\n",
       "┌──────────┬──────────┬──────────────────────┬──────────────────────┬─────────────────┬────────────┐\n",
       "│ primo_id ┆ scada_id ┆ metric_nice_name     ┆ unique_id            ┆ timestamp       ┆ value      │\n",
       "│ ---      ┆ ---      ┆ ---                  ┆ ---                  ┆ ---             ┆ ---        │\n",
       "│ str      ┆ str      ┆ str                  ┆ object               ┆ datetime[μs]    ┆ f64        │\n",
       "╞══════════╪══════════╪══════════════════════╪══════════════════════╪═════════════════╪════════════╡\n",
       "│ 98743    ┆ 9874303  ┆ OilTank3Volume       ┆ 03da9be5-603d-41fe-9 ┆ 2024-03-06      ┆ 0.053431   │\n",
       "│          ┆          ┆                      ┆ 750-9912cb…          ┆ 04:11:03.447424 ┆            │\n",
       "│ 98743    ┆ 98743FAC ┆ ESD-WaterTankInchesU ┆ 2099e404-65fb-45a7-a ┆ 2024-03-06      ┆ 203.940865 │\n",
       "│          ┆          ┆ ntilAlarm            ┆ 0f7-d61611…          ┆ 04:15:21.870747 ┆            │\n",
       "│ 98743    ┆ 9874301  ┆ OilTank1Volume       ┆ 22594084-61ec-4c68-8 ┆ 2024-03-06      ┆ 254.343449 │\n",
       "│          ┆          ┆                      ┆ a6d-bb5a05…          ┆ 04:11:23.348001 ┆            │\n",
       "│ 98743    ┆ 9874302  ┆ OilTank2Level        ┆ 395bae9a-3fbc-4618-b ┆ 2024-03-06      ┆ 105.227232 │\n",
       "│          ┆          ┆                      ┆ 55a-54d81e…          ┆ 04:14:37.850008 ┆            │\n",
       "│ 98743    ┆ 98743FAC ┆ ESD-OilTankInchesUnt ┆ 6d884ea0-cc9a-49a4-a ┆ 2024-03-06      ┆ 395.101262 │\n",
       "│          ┆          ┆ ilAlarm              ┆ 73a-037eef…          ┆ 04:11:07.373313 ┆            │\n",
       "│ …        ┆ …        ┆ …                    ┆ …                    ┆ …               ┆ …          │\n",
       "│ 98743    ┆ 98743W1  ┆ WaterTank1Volume     ┆ a0344de9-5574-4617-a ┆ 2024-03-06      ┆ 267.388301 │\n",
       "│          ┆          ┆                      ┆ 3cd-42b00e…          ┆ 04:15:23.114434 ┆            │\n",
       "│ 98743    ┆ 9874301  ┆ OilTank1Level        ┆ dab4845a-93d0-4259-b ┆ 2024-03-06      ┆ 91.563642  │\n",
       "│          ┆          ┆                      ┆ 44a-eb909f…          ┆ 04:11:23.348001 ┆            │\n",
       "│ 98743    ┆ 98743FAC ┆ ESD-WaterTankID      ┆ de925327-bbae-4c3d-b ┆ 2023-11-07      ┆ 1.0        │\n",
       "│          ┆          ┆                      ┆ 93c-c65094…          ┆ 09:00:00        ┆            │\n",
       "│ 98743    ┆ 98743W2  ┆ WaterTank2Volume     ┆ f8a8c53d-1a7d-41a8-a ┆ 2024-03-06      ┆ 182.731649 │\n",
       "│          ┆          ┆                      ┆ c11-1202ea…          ┆ 04:12:51.208327 ┆            │\n",
       "│ 98743    ┆ 98743W1  ┆ WaterTank1Level      ┆ f9dba55d-c34f-4cdc-9 ┆ 2024-03-06      ┆ 96.259788  │\n",
       "│          ┆          ┆                      ┆ 2a6-49c4f9…          ┆ 04:15:23.114434 ┆            │\n",
       "└──────────┴──────────┴──────────────────────┴──────────────────────┴─────────────────┴────────────┘"
      ]
     },
     "execution_count": 1,
     "metadata": {},
     "output_type": "execute_result"
    }
   ],
   "source": [
    "import polars as pl\n",
    "from src.main import GetTanksReq, fetch_tank_data\n",
    "\n",
    "req = GetTanksReq(primo_ids={\"98743\"})\n",
    "\n",
    "df = await fetch_tank_data(req)\n",
    "if df is None:\n",
    "    raise ValueError(\"df is None\")\n",
    "lf = df.lazy()\n",
    "lf.collect()"
   ]
  },
  {
   "cell_type": "code",
   "execution_count": 2,
   "metadata": {},
   "outputs": [
    {
     "data": {
      "text/html": [
       "<div><style>\n",
       ".dataframe > thead > tr,\n",
       ".dataframe > tbody > tr {\n",
       "  text-align: right;\n",
       "  white-space: pre-wrap;\n",
       "}\n",
       "</style>\n",
       "<small>shape: (14, 5)</small><table border=\"1\" class=\"dataframe\"><thead><tr><th>primo_id</th><th>scada_id</th><th>metric_nice_name</th><th>timestamp</th><th>value</th></tr><tr><td>str</td><td>str</td><td>str</td><td>datetime[μs]</td><td>f64</td></tr></thead><tbody><tr><td>&quot;98743&quot;</td><td>&quot;9874303&quot;</td><td>&quot;OilTank3Volume&quot;</td><td>2024-03-06 04:11:03.447424</td><td>0.053431</td></tr><tr><td>&quot;98743&quot;</td><td>&quot;98743FAC&quot;</td><td>&quot;ESD-WaterTankInchesUntilAlarm&quot;</td><td>2024-03-06 04:15:21.870747</td><td>203.940865</td></tr><tr><td>&quot;98743&quot;</td><td>&quot;9874301&quot;</td><td>&quot;OilTank1Volume&quot;</td><td>2024-03-06 04:11:23.348001</td><td>254.343449</td></tr><tr><td>&quot;98743&quot;</td><td>&quot;9874302&quot;</td><td>&quot;OilTank2Level&quot;</td><td>2024-03-06 04:14:37.850008</td><td>105.227232</td></tr><tr><td>&quot;98743&quot;</td><td>&quot;98743FAC&quot;</td><td>&quot;ESD-OilTankInchesUntilAlarm&quot;</td><td>2024-03-06 04:11:07.373313</td><td>395.101262</td></tr><tr><td>&hellip;</td><td>&hellip;</td><td>&hellip;</td><td>&hellip;</td><td>&hellip;</td></tr><tr><td>&quot;98743&quot;</td><td>&quot;98743W1&quot;</td><td>&quot;WaterTank1Volume&quot;</td><td>2024-03-06 04:15:23.114434</td><td>267.388301</td></tr><tr><td>&quot;98743&quot;</td><td>&quot;9874301&quot;</td><td>&quot;OilTank1Level&quot;</td><td>2024-03-06 04:11:23.348001</td><td>91.563642</td></tr><tr><td>&quot;98743&quot;</td><td>&quot;98743FAC&quot;</td><td>&quot;ESD-WaterTankID&quot;</td><td>2023-11-07 09:00:00</td><td>1.0</td></tr><tr><td>&quot;98743&quot;</td><td>&quot;98743W2&quot;</td><td>&quot;WaterTank2Volume&quot;</td><td>2024-03-06 04:12:51.208327</td><td>182.731649</td></tr><tr><td>&quot;98743&quot;</td><td>&quot;98743W1&quot;</td><td>&quot;WaterTank1Level&quot;</td><td>2024-03-06 04:15:23.114434</td><td>96.259788</td></tr></tbody></table></div>"
      ],
      "text/plain": [
       "shape: (14, 5)\n",
       "┌──────────┬──────────┬───────────────────────────────┬────────────────────────────┬────────────┐\n",
       "│ primo_id ┆ scada_id ┆ metric_nice_name              ┆ timestamp                  ┆ value      │\n",
       "│ ---      ┆ ---      ┆ ---                           ┆ ---                        ┆ ---        │\n",
       "│ str      ┆ str      ┆ str                           ┆ datetime[μs]               ┆ f64        │\n",
       "╞══════════╪══════════╪═══════════════════════════════╪════════════════════════════╪════════════╡\n",
       "│ 98743    ┆ 9874303  ┆ OilTank3Volume                ┆ 2024-03-06 04:11:03.447424 ┆ 0.053431   │\n",
       "│ 98743    ┆ 98743FAC ┆ ESD-WaterTankInchesUntilAlarm ┆ 2024-03-06 04:15:21.870747 ┆ 203.940865 │\n",
       "│ 98743    ┆ 9874301  ┆ OilTank1Volume                ┆ 2024-03-06 04:11:23.348001 ┆ 254.343449 │\n",
       "│ 98743    ┆ 9874302  ┆ OilTank2Level                 ┆ 2024-03-06 04:14:37.850008 ┆ 105.227232 │\n",
       "│ 98743    ┆ 98743FAC ┆ ESD-OilTankInchesUntilAlarm   ┆ 2024-03-06 04:11:07.373313 ┆ 395.101262 │\n",
       "│ …        ┆ …        ┆ …                             ┆ …                          ┆ …          │\n",
       "│ 98743    ┆ 98743W1  ┆ WaterTank1Volume              ┆ 2024-03-06 04:15:23.114434 ┆ 267.388301 │\n",
       "│ 98743    ┆ 9874301  ┆ OilTank1Level                 ┆ 2024-03-06 04:11:23.348001 ┆ 91.563642  │\n",
       "│ 98743    ┆ 98743FAC ┆ ESD-WaterTankID               ┆ 2023-11-07 09:00:00        ┆ 1.0        │\n",
       "│ 98743    ┆ 98743W2  ┆ WaterTank2Volume              ┆ 2024-03-06 04:12:51.208327 ┆ 182.731649 │\n",
       "│ 98743    ┆ 98743W1  ┆ WaterTank1Level               ┆ 2024-03-06 04:15:23.114434 ┆ 96.259788  │\n",
       "└──────────┴──────────┴───────────────────────────────┴────────────────────────────┴────────────┘"
      ]
     },
     "execution_count": 2,
     "metadata": {},
     "output_type": "execute_result"
    }
   ],
   "source": [
    "lf = lf.drop(\"unique_id\")\n",
    "lf.collect()"
   ]
  },
  {
   "cell_type": "code",
   "execution_count": 3,
   "metadata": {},
   "outputs": [
    {
     "data": {
      "text/html": [
       "<div><style>\n",
       ".dataframe > thead > tr,\n",
       ".dataframe > tbody > tr {\n",
       "  text-align: right;\n",
       "  white-space: pre-wrap;\n",
       "}\n",
       "</style>\n",
       "<small>shape: (14, 6)</small><table border=\"1\" class=\"dataframe\"><thead><tr><th>primo_id</th><th>scada_id</th><th>metric_nice_name</th><th>timestamp</th><th>value</th><th>separated_metrics</th></tr><tr><td>str</td><td>str</td><td>str</td><td>datetime[μs]</td><td>f64</td><td>struct[4]</td></tr></thead><tbody><tr><td>&quot;98743&quot;</td><td>&quot;9874303&quot;</td><td>&quot;OilTank3Volume&quot;</td><td>2024-03-06 04:11:03.447424</td><td>0.053431</td><td>{null,&quot;Oil&quot;,&quot;3&quot;,&quot;Volume&quot;}</td></tr><tr><td>&quot;98743&quot;</td><td>&quot;98743FAC&quot;</td><td>&quot;ESD-WaterTankInchesUntilAlarm&quot;</td><td>2024-03-06 04:15:21.870747</td><td>203.940865</td><td>{&quot;ESD-&quot;,&quot;Water&quot;,&quot;&quot;,&quot;InchesUntilAlarm&quot;}</td></tr><tr><td>&quot;98743&quot;</td><td>&quot;9874301&quot;</td><td>&quot;OilTank1Volume&quot;</td><td>2024-03-06 04:11:23.348001</td><td>254.343449</td><td>{null,&quot;Oil&quot;,&quot;1&quot;,&quot;Volume&quot;}</td></tr><tr><td>&quot;98743&quot;</td><td>&quot;9874302&quot;</td><td>&quot;OilTank2Level&quot;</td><td>2024-03-06 04:14:37.850008</td><td>105.227232</td><td>{null,&quot;Oil&quot;,&quot;2&quot;,&quot;Level&quot;}</td></tr><tr><td>&quot;98743&quot;</td><td>&quot;98743FAC&quot;</td><td>&quot;ESD-OilTankInchesUntilAlarm&quot;</td><td>2024-03-06 04:11:07.373313</td><td>395.101262</td><td>{&quot;ESD-&quot;,&quot;Oil&quot;,&quot;&quot;,&quot;InchesUntilAlarm&quot;}</td></tr><tr><td>&hellip;</td><td>&hellip;</td><td>&hellip;</td><td>&hellip;</td><td>&hellip;</td><td>&hellip;</td></tr><tr><td>&quot;98743&quot;</td><td>&quot;98743W1&quot;</td><td>&quot;WaterTank1Volume&quot;</td><td>2024-03-06 04:15:23.114434</td><td>267.388301</td><td>{null,&quot;Water&quot;,&quot;1&quot;,&quot;Volume&quot;}</td></tr><tr><td>&quot;98743&quot;</td><td>&quot;9874301&quot;</td><td>&quot;OilTank1Level&quot;</td><td>2024-03-06 04:11:23.348001</td><td>91.563642</td><td>{null,&quot;Oil&quot;,&quot;1&quot;,&quot;Level&quot;}</td></tr><tr><td>&quot;98743&quot;</td><td>&quot;98743FAC&quot;</td><td>&quot;ESD-WaterTankID&quot;</td><td>2023-11-07 09:00:00</td><td>1.0</td><td>{&quot;ESD-&quot;,&quot;Water&quot;,&quot;&quot;,&quot;ID&quot;}</td></tr><tr><td>&quot;98743&quot;</td><td>&quot;98743W2&quot;</td><td>&quot;WaterTank2Volume&quot;</td><td>2024-03-06 04:12:51.208327</td><td>182.731649</td><td>{null,&quot;Water&quot;,&quot;2&quot;,&quot;Volume&quot;}</td></tr><tr><td>&quot;98743&quot;</td><td>&quot;98743W1&quot;</td><td>&quot;WaterTank1Level&quot;</td><td>2024-03-06 04:15:23.114434</td><td>96.259788</td><td>{null,&quot;Water&quot;,&quot;1&quot;,&quot;Level&quot;}</td></tr></tbody></table></div>"
      ],
      "text/plain": [
       "shape: (14, 6)\n",
       "┌──────────┬──────────┬──────────────────────┬─────────────────┬────────────┬──────────────────────┐\n",
       "│ primo_id ┆ scada_id ┆ metric_nice_name     ┆ timestamp       ┆ value      ┆ separated_metrics    │\n",
       "│ ---      ┆ ---      ┆ ---                  ┆ ---             ┆ ---        ┆ ---                  │\n",
       "│ str      ┆ str      ┆ str                  ┆ datetime[μs]    ┆ f64        ┆ struct[4]            │\n",
       "╞══════════╪══════════╪══════════════════════╪═════════════════╪════════════╪══════════════════════╡\n",
       "│ 98743    ┆ 9874303  ┆ OilTank3Volume       ┆ 2024-03-06      ┆ 0.053431   ┆ {null,\"Oil\",\"3\",\"Vol │\n",
       "│          ┆          ┆                      ┆ 04:11:03.447424 ┆            ┆ ume\"}                │\n",
       "│ 98743    ┆ 98743FAC ┆ ESD-WaterTankInchesU ┆ 2024-03-06      ┆ 203.940865 ┆ {\"ESD-\",\"Water\",\"\",\" │\n",
       "│          ┆          ┆ ntilAlarm            ┆ 04:15:21.870747 ┆            ┆ InchesUnti…          │\n",
       "│ 98743    ┆ 9874301  ┆ OilTank1Volume       ┆ 2024-03-06      ┆ 254.343449 ┆ {null,\"Oil\",\"1\",\"Vol │\n",
       "│          ┆          ┆                      ┆ 04:11:23.348001 ┆            ┆ ume\"}                │\n",
       "│ 98743    ┆ 9874302  ┆ OilTank2Level        ┆ 2024-03-06      ┆ 105.227232 ┆ {null,\"Oil\",\"2\",\"Lev │\n",
       "│          ┆          ┆                      ┆ 04:14:37.850008 ┆            ┆ el\"}                 │\n",
       "│ 98743    ┆ 98743FAC ┆ ESD-OilTankInchesUnt ┆ 2024-03-06      ┆ 395.101262 ┆ {\"ESD-\",\"Oil\",\"\",\"In │\n",
       "│          ┆          ┆ ilAlarm              ┆ 04:11:07.373313 ┆            ┆ chesUntilA…          │\n",
       "│ …        ┆ …        ┆ …                    ┆ …               ┆ …          ┆ …                    │\n",
       "│ 98743    ┆ 98743W1  ┆ WaterTank1Volume     ┆ 2024-03-06      ┆ 267.388301 ┆ {null,\"Water\",\"1\",\"V │\n",
       "│          ┆          ┆                      ┆ 04:15:23.114434 ┆            ┆ olume\"}              │\n",
       "│ 98743    ┆ 9874301  ┆ OilTank1Level        ┆ 2024-03-06      ┆ 91.563642  ┆ {null,\"Oil\",\"1\",\"Lev │\n",
       "│          ┆          ┆                      ┆ 04:11:23.348001 ┆            ┆ el\"}                 │\n",
       "│ 98743    ┆ 98743FAC ┆ ESD-WaterTankID      ┆ 2023-11-07      ┆ 1.0        ┆ {\"ESD-\",\"Water\",\"\",\" │\n",
       "│          ┆          ┆                      ┆ 09:00:00        ┆            ┆ ID\"}                 │\n",
       "│ 98743    ┆ 98743W2  ┆ WaterTank2Volume     ┆ 2024-03-06      ┆ 182.731649 ┆ {null,\"Water\",\"2\",\"V │\n",
       "│          ┆          ┆                      ┆ 04:12:51.208327 ┆            ┆ olume\"}              │\n",
       "│ 98743    ┆ 98743W1  ┆ WaterTank1Level      ┆ 2024-03-06      ┆ 96.259788  ┆ {null,\"Water\",\"1\",\"L │\n",
       "│          ┆          ┆                      ┆ 04:15:23.114434 ┆            ┆ evel\"}               │\n",
       "└──────────┴──────────┴──────────────────────┴─────────────────┴────────────┴──────────────────────┘"
      ]
     },
     "execution_count": 3,
     "metadata": {},
     "output_type": "execute_result"
    }
   ],
   "source": [
    "tank_metrics = [\"Level\", \"Volume\", \"InchesUntilAlarm\", \"InchesToESD\", \"TimeUntilESD\", \"Capacity\", \"ID\"]\n",
    "tank_types = [\"Water\", \"Oil\"]\n",
    "\n",
    "tank_metrics_str= \"|\".join(tank_metrics)\n",
    "tank_types_str = \"|\".join(tank_types)\n",
    "\n",
    "pattern = f'^(?<is_ESD>ESD-)?(?<tank_type>{tank_types_str})Tank(?<tank_number>[0-9]*)(?<tank_metric>{tank_metrics_str})'\n",
    "\n",
    "lf = lf.with_columns(separated_metrics = pl.col(\"metric_nice_name\").str.extract_groups(pattern))\n",
    "lf.collect()"
   ]
  },
  {
   "cell_type": "code",
   "execution_count": 4,
   "metadata": {},
   "outputs": [
    {
     "data": {
      "text/html": [
       "<div><style>\n",
       ".dataframe > thead > tr,\n",
       ".dataframe > tbody > tr {\n",
       "  text-align: right;\n",
       "  white-space: pre-wrap;\n",
       "}\n",
       "</style>\n",
       "<small>shape: (14, 9)</small><table border=\"1\" class=\"dataframe\"><thead><tr><th>primo_id</th><th>scada_id</th><th>metric_nice_name</th><th>timestamp</th><th>value</th><th>is_ESD</th><th>tank_type</th><th>tank_number</th><th>tank_metric</th></tr><tr><td>str</td><td>str</td><td>str</td><td>datetime[μs]</td><td>f64</td><td>str</td><td>str</td><td>str</td><td>str</td></tr></thead><tbody><tr><td>&quot;98743&quot;</td><td>&quot;9874303&quot;</td><td>&quot;OilTank3Volume&quot;</td><td>2024-03-06 04:11:03.447424</td><td>0.053431</td><td>null</td><td>&quot;Oil&quot;</td><td>&quot;3&quot;</td><td>&quot;Volume&quot;</td></tr><tr><td>&quot;98743&quot;</td><td>&quot;98743FAC&quot;</td><td>&quot;ESD-WaterTankInchesUntilAlarm&quot;</td><td>2024-03-06 04:15:21.870747</td><td>203.940865</td><td>&quot;ESD-&quot;</td><td>&quot;Water&quot;</td><td>&quot;&quot;</td><td>&quot;InchesUntilAlarm&quot;</td></tr><tr><td>&quot;98743&quot;</td><td>&quot;9874301&quot;</td><td>&quot;OilTank1Volume&quot;</td><td>2024-03-06 04:11:23.348001</td><td>254.343449</td><td>null</td><td>&quot;Oil&quot;</td><td>&quot;1&quot;</td><td>&quot;Volume&quot;</td></tr><tr><td>&quot;98743&quot;</td><td>&quot;9874302&quot;</td><td>&quot;OilTank2Level&quot;</td><td>2024-03-06 04:14:37.850008</td><td>105.227232</td><td>null</td><td>&quot;Oil&quot;</td><td>&quot;2&quot;</td><td>&quot;Level&quot;</td></tr><tr><td>&quot;98743&quot;</td><td>&quot;98743FAC&quot;</td><td>&quot;ESD-OilTankInchesUntilAlarm&quot;</td><td>2024-03-06 04:11:07.373313</td><td>395.101262</td><td>&quot;ESD-&quot;</td><td>&quot;Oil&quot;</td><td>&quot;&quot;</td><td>&quot;InchesUntilAlarm&quot;</td></tr><tr><td>&hellip;</td><td>&hellip;</td><td>&hellip;</td><td>&hellip;</td><td>&hellip;</td><td>&hellip;</td><td>&hellip;</td><td>&hellip;</td><td>&hellip;</td></tr><tr><td>&quot;98743&quot;</td><td>&quot;98743W1&quot;</td><td>&quot;WaterTank1Volume&quot;</td><td>2024-03-06 04:15:23.114434</td><td>267.388301</td><td>null</td><td>&quot;Water&quot;</td><td>&quot;1&quot;</td><td>&quot;Volume&quot;</td></tr><tr><td>&quot;98743&quot;</td><td>&quot;9874301&quot;</td><td>&quot;OilTank1Level&quot;</td><td>2024-03-06 04:11:23.348001</td><td>91.563642</td><td>null</td><td>&quot;Oil&quot;</td><td>&quot;1&quot;</td><td>&quot;Level&quot;</td></tr><tr><td>&quot;98743&quot;</td><td>&quot;98743FAC&quot;</td><td>&quot;ESD-WaterTankID&quot;</td><td>2023-11-07 09:00:00</td><td>1.0</td><td>&quot;ESD-&quot;</td><td>&quot;Water&quot;</td><td>&quot;&quot;</td><td>&quot;ID&quot;</td></tr><tr><td>&quot;98743&quot;</td><td>&quot;98743W2&quot;</td><td>&quot;WaterTank2Volume&quot;</td><td>2024-03-06 04:12:51.208327</td><td>182.731649</td><td>null</td><td>&quot;Water&quot;</td><td>&quot;2&quot;</td><td>&quot;Volume&quot;</td></tr><tr><td>&quot;98743&quot;</td><td>&quot;98743W1&quot;</td><td>&quot;WaterTank1Level&quot;</td><td>2024-03-06 04:15:23.114434</td><td>96.259788</td><td>null</td><td>&quot;Water&quot;</td><td>&quot;1&quot;</td><td>&quot;Level&quot;</td></tr></tbody></table></div>"
      ],
      "text/plain": [
       "shape: (14, 9)\n",
       "┌──────────┬──────────┬────────────┬────────────┬───┬────────┬───────────┬────────────┬────────────┐\n",
       "│ primo_id ┆ scada_id ┆ metric_nic ┆ timestamp  ┆ … ┆ is_ESD ┆ tank_type ┆ tank_numbe ┆ tank_metri │\n",
       "│ ---      ┆ ---      ┆ e_name     ┆ ---        ┆   ┆ ---    ┆ ---       ┆ r          ┆ c          │\n",
       "│ str      ┆ str      ┆ ---        ┆ datetime[μ ┆   ┆ str    ┆ str       ┆ ---        ┆ ---        │\n",
       "│          ┆          ┆ str        ┆ s]         ┆   ┆        ┆           ┆ str        ┆ str        │\n",
       "╞══════════╪══════════╪════════════╪════════════╪═══╪════════╪═══════════╪════════════╪════════════╡\n",
       "│ 98743    ┆ 9874303  ┆ OilTank3Vo ┆ 2024-03-06 ┆ … ┆ null   ┆ Oil       ┆ 3          ┆ Volume     │\n",
       "│          ┆          ┆ lume       ┆ 04:11:03.4 ┆   ┆        ┆           ┆            ┆            │\n",
       "│          ┆          ┆            ┆ 47424      ┆   ┆        ┆           ┆            ┆            │\n",
       "│ 98743    ┆ 98743FAC ┆ ESD-WaterT ┆ 2024-03-06 ┆ … ┆ ESD-   ┆ Water     ┆            ┆ InchesUnti │\n",
       "│          ┆          ┆ ankInchesU ┆ 04:15:21.8 ┆   ┆        ┆           ┆            ┆ lAlarm     │\n",
       "│          ┆          ┆ ntilAlarm  ┆ 70747      ┆   ┆        ┆           ┆            ┆            │\n",
       "│ 98743    ┆ 9874301  ┆ OilTank1Vo ┆ 2024-03-06 ┆ … ┆ null   ┆ Oil       ┆ 1          ┆ Volume     │\n",
       "│          ┆          ┆ lume       ┆ 04:11:23.3 ┆   ┆        ┆           ┆            ┆            │\n",
       "│          ┆          ┆            ┆ 48001      ┆   ┆        ┆           ┆            ┆            │\n",
       "│ 98743    ┆ 9874302  ┆ OilTank2Le ┆ 2024-03-06 ┆ … ┆ null   ┆ Oil       ┆ 2          ┆ Level      │\n",
       "│          ┆          ┆ vel        ┆ 04:14:37.8 ┆   ┆        ┆           ┆            ┆            │\n",
       "│          ┆          ┆            ┆ 50008      ┆   ┆        ┆           ┆            ┆            │\n",
       "│ 98743    ┆ 98743FAC ┆ ESD-OilTan ┆ 2024-03-06 ┆ … ┆ ESD-   ┆ Oil       ┆            ┆ InchesUnti │\n",
       "│          ┆          ┆ kInchesUnt ┆ 04:11:07.3 ┆   ┆        ┆           ┆            ┆ lAlarm     │\n",
       "│          ┆          ┆ ilAlarm    ┆ 73313      ┆   ┆        ┆           ┆            ┆            │\n",
       "│ …        ┆ …        ┆ …          ┆ …          ┆ … ┆ …      ┆ …         ┆ …          ┆ …          │\n",
       "│ 98743    ┆ 98743W1  ┆ WaterTank1 ┆ 2024-03-06 ┆ … ┆ null   ┆ Water     ┆ 1          ┆ Volume     │\n",
       "│          ┆          ┆ Volume     ┆ 04:15:23.1 ┆   ┆        ┆           ┆            ┆            │\n",
       "│          ┆          ┆            ┆ 14434      ┆   ┆        ┆           ┆            ┆            │\n",
       "│ 98743    ┆ 9874301  ┆ OilTank1Le ┆ 2024-03-06 ┆ … ┆ null   ┆ Oil       ┆ 1          ┆ Level      │\n",
       "│          ┆          ┆ vel        ┆ 04:11:23.3 ┆   ┆        ┆           ┆            ┆            │\n",
       "│          ┆          ┆            ┆ 48001      ┆   ┆        ┆           ┆            ┆            │\n",
       "│ 98743    ┆ 98743FAC ┆ ESD-WaterT ┆ 2023-11-07 ┆ … ┆ ESD-   ┆ Water     ┆            ┆ ID         │\n",
       "│          ┆          ┆ ankID      ┆ 09:00:00   ┆   ┆        ┆           ┆            ┆            │\n",
       "│ 98743    ┆ 98743W2  ┆ WaterTank2 ┆ 2024-03-06 ┆ … ┆ null   ┆ Water     ┆ 2          ┆ Volume     │\n",
       "│          ┆          ┆ Volume     ┆ 04:12:51.2 ┆   ┆        ┆           ┆            ┆            │\n",
       "│          ┆          ┆            ┆ 08327      ┆   ┆        ┆           ┆            ┆            │\n",
       "│ 98743    ┆ 98743W1  ┆ WaterTank1 ┆ 2024-03-06 ┆ … ┆ null   ┆ Water     ┆ 1          ┆ Level      │\n",
       "│          ┆          ┆ Level      ┆ 04:15:23.1 ┆   ┆        ┆           ┆            ┆            │\n",
       "│          ┆          ┆            ┆ 14434      ┆   ┆        ┆           ┆            ┆            │\n",
       "└──────────┴──────────┴────────────┴────────────┴───┴────────┴───────────┴────────────┴────────────┘"
      ]
     },
     "execution_count": 4,
     "metadata": {},
     "output_type": "execute_result"
    }
   ],
   "source": [
    "#unnesting the new columns we created\n",
    "\n",
    "lf = lf.unnest(\"separated_metrics\")\n",
    "lf.collect()"
   ]
  },
  {
   "cell_type": "code",
   "execution_count": 5,
   "metadata": {},
   "outputs": [
    {
     "data": {
      "text/html": [
       "<div><style>\n",
       ".dataframe > thead > tr,\n",
       ".dataframe > tbody > tr {\n",
       "  text-align: right;\n",
       "  white-space: pre-wrap;\n",
       "}\n",
       "</style>\n",
       "<small>shape: (14, 9)</small><table border=\"1\" class=\"dataframe\"><thead><tr><th>primo_id</th><th>scada_id</th><th>metric_nice_name</th><th>timestamp</th><th>value</th><th>is_ESD</th><th>tank_type</th><th>tank_number</th><th>tank_metric</th></tr><tr><td>str</td><td>str</td><td>str</td><td>datetime[μs]</td><td>f64</td><td>str</td><td>str</td><td>u8</td><td>str</td></tr></thead><tbody><tr><td>&quot;98743&quot;</td><td>&quot;9874303&quot;</td><td>&quot;OilTank3Volume&quot;</td><td>2024-03-06 04:11:03.447424</td><td>0.053431</td><td>null</td><td>&quot;Oil&quot;</td><td>3</td><td>&quot;Volume&quot;</td></tr><tr><td>&quot;98743&quot;</td><td>&quot;98743FAC&quot;</td><td>&quot;ESD-WaterTankInchesUntilAlarm&quot;</td><td>2024-03-06 04:15:21.870747</td><td>203.940865</td><td>&quot;ESD-&quot;</td><td>&quot;Water&quot;</td><td>null</td><td>&quot;InchesUntilAlarm&quot;</td></tr><tr><td>&quot;98743&quot;</td><td>&quot;9874301&quot;</td><td>&quot;OilTank1Volume&quot;</td><td>2024-03-06 04:11:23.348001</td><td>254.343449</td><td>null</td><td>&quot;Oil&quot;</td><td>1</td><td>&quot;Volume&quot;</td></tr><tr><td>&quot;98743&quot;</td><td>&quot;9874302&quot;</td><td>&quot;OilTank2Level&quot;</td><td>2024-03-06 04:14:37.850008</td><td>105.227232</td><td>null</td><td>&quot;Oil&quot;</td><td>2</td><td>&quot;Level&quot;</td></tr><tr><td>&quot;98743&quot;</td><td>&quot;98743FAC&quot;</td><td>&quot;ESD-OilTankInchesUntilAlarm&quot;</td><td>2024-03-06 04:11:07.373313</td><td>395.101262</td><td>&quot;ESD-&quot;</td><td>&quot;Oil&quot;</td><td>null</td><td>&quot;InchesUntilAlarm&quot;</td></tr><tr><td>&hellip;</td><td>&hellip;</td><td>&hellip;</td><td>&hellip;</td><td>&hellip;</td><td>&hellip;</td><td>&hellip;</td><td>&hellip;</td><td>&hellip;</td></tr><tr><td>&quot;98743&quot;</td><td>&quot;98743W1&quot;</td><td>&quot;WaterTank1Volume&quot;</td><td>2024-03-06 04:15:23.114434</td><td>267.388301</td><td>null</td><td>&quot;Water&quot;</td><td>1</td><td>&quot;Volume&quot;</td></tr><tr><td>&quot;98743&quot;</td><td>&quot;9874301&quot;</td><td>&quot;OilTank1Level&quot;</td><td>2024-03-06 04:11:23.348001</td><td>91.563642</td><td>null</td><td>&quot;Oil&quot;</td><td>1</td><td>&quot;Level&quot;</td></tr><tr><td>&quot;98743&quot;</td><td>&quot;98743FAC&quot;</td><td>&quot;ESD-WaterTankID&quot;</td><td>2023-11-07 09:00:00</td><td>1.0</td><td>&quot;ESD-&quot;</td><td>&quot;Water&quot;</td><td>null</td><td>&quot;ID&quot;</td></tr><tr><td>&quot;98743&quot;</td><td>&quot;98743W2&quot;</td><td>&quot;WaterTank2Volume&quot;</td><td>2024-03-06 04:12:51.208327</td><td>182.731649</td><td>null</td><td>&quot;Water&quot;</td><td>2</td><td>&quot;Volume&quot;</td></tr><tr><td>&quot;98743&quot;</td><td>&quot;98743W1&quot;</td><td>&quot;WaterTank1Level&quot;</td><td>2024-03-06 04:15:23.114434</td><td>96.259788</td><td>null</td><td>&quot;Water&quot;</td><td>1</td><td>&quot;Level&quot;</td></tr></tbody></table></div>"
      ],
      "text/plain": [
       "shape: (14, 9)\n",
       "┌──────────┬──────────┬────────────┬────────────┬───┬────────┬───────────┬────────────┬────────────┐\n",
       "│ primo_id ┆ scada_id ┆ metric_nic ┆ timestamp  ┆ … ┆ is_ESD ┆ tank_type ┆ tank_numbe ┆ tank_metri │\n",
       "│ ---      ┆ ---      ┆ e_name     ┆ ---        ┆   ┆ ---    ┆ ---       ┆ r          ┆ c          │\n",
       "│ str      ┆ str      ┆ ---        ┆ datetime[μ ┆   ┆ str    ┆ str       ┆ ---        ┆ ---        │\n",
       "│          ┆          ┆ str        ┆ s]         ┆   ┆        ┆           ┆ u8         ┆ str        │\n",
       "╞══════════╪══════════╪════════════╪════════════╪═══╪════════╪═══════════╪════════════╪════════════╡\n",
       "│ 98743    ┆ 9874303  ┆ OilTank3Vo ┆ 2024-03-06 ┆ … ┆ null   ┆ Oil       ┆ 3          ┆ Volume     │\n",
       "│          ┆          ┆ lume       ┆ 04:11:03.4 ┆   ┆        ┆           ┆            ┆            │\n",
       "│          ┆          ┆            ┆ 47424      ┆   ┆        ┆           ┆            ┆            │\n",
       "│ 98743    ┆ 98743FAC ┆ ESD-WaterT ┆ 2024-03-06 ┆ … ┆ ESD-   ┆ Water     ┆ null       ┆ InchesUnti │\n",
       "│          ┆          ┆ ankInchesU ┆ 04:15:21.8 ┆   ┆        ┆           ┆            ┆ lAlarm     │\n",
       "│          ┆          ┆ ntilAlarm  ┆ 70747      ┆   ┆        ┆           ┆            ┆            │\n",
       "│ 98743    ┆ 9874301  ┆ OilTank1Vo ┆ 2024-03-06 ┆ … ┆ null   ┆ Oil       ┆ 1          ┆ Volume     │\n",
       "│          ┆          ┆ lume       ┆ 04:11:23.3 ┆   ┆        ┆           ┆            ┆            │\n",
       "│          ┆          ┆            ┆ 48001      ┆   ┆        ┆           ┆            ┆            │\n",
       "│ 98743    ┆ 9874302  ┆ OilTank2Le ┆ 2024-03-06 ┆ … ┆ null   ┆ Oil       ┆ 2          ┆ Level      │\n",
       "│          ┆          ┆ vel        ┆ 04:14:37.8 ┆   ┆        ┆           ┆            ┆            │\n",
       "│          ┆          ┆            ┆ 50008      ┆   ┆        ┆           ┆            ┆            │\n",
       "│ 98743    ┆ 98743FAC ┆ ESD-OilTan ┆ 2024-03-06 ┆ … ┆ ESD-   ┆ Oil       ┆ null       ┆ InchesUnti │\n",
       "│          ┆          ┆ kInchesUnt ┆ 04:11:07.3 ┆   ┆        ┆           ┆            ┆ lAlarm     │\n",
       "│          ┆          ┆ ilAlarm    ┆ 73313      ┆   ┆        ┆           ┆            ┆            │\n",
       "│ …        ┆ …        ┆ …          ┆ …          ┆ … ┆ …      ┆ …         ┆ …          ┆ …          │\n",
       "│ 98743    ┆ 98743W1  ┆ WaterTank1 ┆ 2024-03-06 ┆ … ┆ null   ┆ Water     ┆ 1          ┆ Volume     │\n",
       "│          ┆          ┆ Volume     ┆ 04:15:23.1 ┆   ┆        ┆           ┆            ┆            │\n",
       "│          ┆          ┆            ┆ 14434      ┆   ┆        ┆           ┆            ┆            │\n",
       "│ 98743    ┆ 9874301  ┆ OilTank1Le ┆ 2024-03-06 ┆ … ┆ null   ┆ Oil       ┆ 1          ┆ Level      │\n",
       "│          ┆          ┆ vel        ┆ 04:11:23.3 ┆   ┆        ┆           ┆            ┆            │\n",
       "│          ┆          ┆            ┆ 48001      ┆   ┆        ┆           ┆            ┆            │\n",
       "│ 98743    ┆ 98743FAC ┆ ESD-WaterT ┆ 2023-11-07 ┆ … ┆ ESD-   ┆ Water     ┆ null       ┆ ID         │\n",
       "│          ┆          ┆ ankID      ┆ 09:00:00   ┆   ┆        ┆           ┆            ┆            │\n",
       "│ 98743    ┆ 98743W2  ┆ WaterTank2 ┆ 2024-03-06 ┆ … ┆ null   ┆ Water     ┆ 2          ┆ Volume     │\n",
       "│          ┆          ┆ Volume     ┆ 04:12:51.2 ┆   ┆        ┆           ┆            ┆            │\n",
       "│          ┆          ┆            ┆ 08327      ┆   ┆        ┆           ┆            ┆            │\n",
       "│ 98743    ┆ 98743W1  ┆ WaterTank1 ┆ 2024-03-06 ┆ … ┆ null   ┆ Water     ┆ 1          ┆ Level      │\n",
       "│          ┆          ┆ Level      ┆ 04:15:23.1 ┆   ┆        ┆           ┆            ┆            │\n",
       "│          ┆          ┆            ┆ 14434      ┆   ┆        ┆           ┆            ┆            │\n",
       "└──────────┴──────────┴────────────┴────────────┴───┴────────┴───────────┴────────────┴────────────┘"
      ]
     },
     "execution_count": 5,
     "metadata": {},
     "output_type": "execute_result"
    }
   ],
   "source": [
    "#casting the tank_number column into an int\n",
    "\n",
    "lf = lf.with_columns(pl.col(\"tank_number\").cast(pl.UInt8, strict=False))\n",
    "lf.collect()"
   ]
  },
  {
   "cell_type": "code",
   "execution_count": 6,
   "metadata": {},
   "outputs": [
    {
     "data": {
      "text/html": [
       "<div><style>\n",
       ".dataframe > thead > tr,\n",
       ".dataframe > tbody > tr {\n",
       "  text-align: right;\n",
       "  white-space: pre-wrap;\n",
       "}\n",
       "</style>\n",
       "<small>shape: (7, 10)</small><table border=\"1\" class=\"dataframe\"><thead><tr><th>primo_id</th><th>tank_type</th><th>tank_number</th><th>Level</th><th>Volume</th><th>InchesUntilAlarm</th><th>InchesToESD</th><th>TimeUntilESD</th><th>Capacity</th><th>ID</th></tr><tr><td>str</td><td>str</td><td>u8</td><td>f64</td><td>f64</td><td>f64</td><td>f64</td><td>f64</td><td>f64</td><td>f64</td></tr></thead><tbody><tr><td>&quot;98743&quot;</td><td>&quot;Oil&quot;</td><td>null</td><td>null</td><td>null</td><td>395.101262</td><td>null</td><td>null</td><td>null</td><td>2.0</td></tr><tr><td>&quot;98743&quot;</td><td>&quot;Water&quot;</td><td>1</td><td>96.259788</td><td>267.388301</td><td>null</td><td>null</td><td>null</td><td>null</td><td>null</td></tr><tr><td>&quot;98743&quot;</td><td>&quot;Oil&quot;</td><td>3</td><td>0.019235</td><td>0.053431</td><td>null</td><td>null</td><td>null</td><td>null</td><td>null</td></tr><tr><td>&quot;98743&quot;</td><td>&quot;Oil&quot;</td><td>2</td><td>105.227232</td><td>292.297867</td><td>null</td><td>null</td><td>null</td><td>null</td><td>null</td></tr><tr><td>&quot;98743&quot;</td><td>&quot;Water&quot;</td><td>null</td><td>null</td><td>null</td><td>203.940865</td><td>null</td><td>null</td><td>null</td><td>1.0</td></tr><tr><td>&quot;98743&quot;</td><td>&quot;Oil&quot;</td><td>1</td><td>91.563642</td><td>254.343449</td><td>null</td><td>null</td><td>null</td><td>null</td><td>null</td></tr><tr><td>&quot;98743&quot;</td><td>&quot;Water&quot;</td><td>2</td><td>65.783394</td><td>182.731649</td><td>null</td><td>null</td><td>null</td><td>null</td><td>null</td></tr></tbody></table></div>"
      ],
      "text/plain": [
       "shape: (7, 10)\n",
       "┌──────────┬───────────┬─────────────┬────────────┬───┬─────────────┬────────────┬──────────┬──────┐\n",
       "│ primo_id ┆ tank_type ┆ tank_number ┆ Level      ┆ … ┆ InchesToESD ┆ TimeUntilE ┆ Capacity ┆ ID   │\n",
       "│ ---      ┆ ---       ┆ ---         ┆ ---        ┆   ┆ ---         ┆ SD         ┆ ---      ┆ ---  │\n",
       "│ str      ┆ str       ┆ u8          ┆ f64        ┆   ┆ f64         ┆ ---        ┆ f64      ┆ f64  │\n",
       "│          ┆           ┆             ┆            ┆   ┆             ┆ f64        ┆          ┆      │\n",
       "╞══════════╪═══════════╪═════════════╪════════════╪═══╪═════════════╪════════════╪══════════╪══════╡\n",
       "│ 98743    ┆ Oil       ┆ null        ┆ null       ┆ … ┆ null        ┆ null       ┆ null     ┆ 2.0  │\n",
       "│ 98743    ┆ Water     ┆ 1           ┆ 96.259788  ┆ … ┆ null        ┆ null       ┆ null     ┆ null │\n",
       "│ 98743    ┆ Oil       ┆ 3           ┆ 0.019235   ┆ … ┆ null        ┆ null       ┆ null     ┆ null │\n",
       "│ 98743    ┆ Oil       ┆ 2           ┆ 105.227232 ┆ … ┆ null        ┆ null       ┆ null     ┆ null │\n",
       "│ 98743    ┆ Water     ┆ null        ┆ null       ┆ … ┆ null        ┆ null       ┆ null     ┆ 1.0  │\n",
       "│ 98743    ┆ Oil       ┆ 1           ┆ 91.563642  ┆ … ┆ null        ┆ null       ┆ null     ┆ null │\n",
       "│ 98743    ┆ Water     ┆ 2           ┆ 65.783394  ┆ … ┆ null        ┆ null       ┆ null     ┆ null │\n",
       "└──────────┴───────────┴─────────────┴────────────┴───┴─────────────┴────────────┴──────────┴──────┘"
      ]
     },
     "execution_count": 6,
     "metadata": {},
     "output_type": "execute_result"
    }
   ],
   "source": [
    "#https://docs.pola.rs/py-polars/html/reference/dataframe/api/polars.DataFrame.pivot.html#polars.DataF3rame.pivot\n",
    "\n",
    "values = pl.col(\"value\")\n",
    "columns = pl.col(\"tank_metric\")\n",
    "\n",
    "lf = lf.group_by(\"primo_id\", \"tank_type\", \"tank_number\").agg(values.filter(columns == metric).first().alias(metric) for metric in tank_metrics)\n",
    "lf.collect()"
   ]
  },
  {
   "cell_type": "code",
   "execution_count": 7,
   "metadata": {},
   "outputs": [],
   "source": [
    "#lf = lf.with_columns(pl.all().fill_null(0))\n",
    "#lf.collect()"
   ]
  },
  {
   "cell_type": "code",
   "execution_count": 8,
   "metadata": {},
   "outputs": [
    {
     "name": "stdout",
     "output_type": "stream",
     "text": [
      "pp Water|Oil\n"
     ]
    },
    {
     "data": {
      "text/plain": [
       "[{'primo_id': '98743',\n",
       "  'tank_type': 'Water',\n",
       "  'tank_number': 1,\n",
       "  'Level': 96.2597881775083,\n",
       "  'Volume': 267.3883005144697,\n",
       "  'InchesUntilAlarm': None,\n",
       "  'InchesToESD': None,\n",
       "  'TimeUntilESD': None,\n",
       "  'Capacity': None,\n",
       "  'ID': None},\n",
       " {'primo_id': '98743',\n",
       "  'tank_type': 'Oil',\n",
       "  'tank_number': None,\n",
       "  'Level': None,\n",
       "  'Volume': None,\n",
       "  'InchesUntilAlarm': 395.10126173502414,\n",
       "  'InchesToESD': None,\n",
       "  'TimeUntilESD': None,\n",
       "  'Capacity': None,\n",
       "  'ID': 2.0},\n",
       " {'primo_id': '98743',\n",
       "  'tank_type': 'Water',\n",
       "  'tank_number': None,\n",
       "  'Level': None,\n",
       "  'Volume': None,\n",
       "  'InchesUntilAlarm': 203.9408651839826,\n",
       "  'InchesToESD': None,\n",
       "  'TimeUntilESD': None,\n",
       "  'Capacity': None,\n",
       "  'ID': 1.0},\n",
       " {'primo_id': '98743',\n",
       "  'tank_type': 'Oil',\n",
       "  'tank_number': 3,\n",
       "  'Level': 0.019235296405780034,\n",
       "  'Volume': 0.05343137890921905,\n",
       "  'InchesUntilAlarm': None,\n",
       "  'InchesToESD': None,\n",
       "  'TimeUntilESD': None,\n",
       "  'Capacity': None,\n",
       "  'ID': None},\n",
       " {'primo_id': '98743',\n",
       "  'tank_type': 'Water',\n",
       "  'tank_number': 2,\n",
       "  'Level': 65.7833935359874,\n",
       "  'Volume': 182.73164872569464,\n",
       "  'InchesUntilAlarm': None,\n",
       "  'InchesToESD': None,\n",
       "  'TimeUntilESD': None,\n",
       "  'Capacity': None,\n",
       "  'ID': None},\n",
       " {'primo_id': '98743',\n",
       "  'tank_type': 'Oil',\n",
       "  'tank_number': 2,\n",
       "  'Level': 105.22723226420521,\n",
       "  'Volume': 292.29786742395385,\n",
       "  'InchesUntilAlarm': None,\n",
       "  'InchesToESD': None,\n",
       "  'TimeUntilESD': None,\n",
       "  'Capacity': None,\n",
       "  'ID': None},\n",
       " {'primo_id': '98743',\n",
       "  'tank_type': 'Oil',\n",
       "  'tank_number': 1,\n",
       "  'Level': 91.56364177735247,\n",
       "  'Volume': 254.3434494018821,\n",
       "  'InchesUntilAlarm': None,\n",
       "  'InchesToESD': None,\n",
       "  'TimeUntilESD': None,\n",
       "  'Capacity': None,\n",
       "  'ID': None}]"
      ]
     },
     "execution_count": 8,
     "metadata": {},
     "output_type": "execute_result"
    }
   ],
   "source": [
    "from src.main import transform_tank_data\n",
    "\n",
    "req = GetTanksReq(primo_ids={\"98743\"})\n",
    "\n",
    "df = await fetch_tank_data(req)\n",
    "df = transform_tank_data(df)\n",
    "if df is None:\n",
    "    raise ValueError(\"df is None\")\n",
    "df"
   ]
  }
 ],
 "metadata": {
  "kernelspec": {
   "display_name": "tank-project-9-HCZibD-py3.12",
   "language": "python",
   "name": "python3"
  },
  "language_info": {
   "codemirror_mode": {
    "name": "ipython",
    "version": 3
   },
   "file_extension": ".py",
   "mimetype": "text/x-python",
   "name": "python",
   "nbconvert_exporter": "python",
   "pygments_lexer": "ipython3",
   "version": "3.12.2"
  }
 },
 "nbformat": 4,
 "nbformat_minor": 2
}
