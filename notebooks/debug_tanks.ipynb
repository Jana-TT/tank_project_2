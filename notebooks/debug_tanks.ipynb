{
 "cells": [
  {
   "cell_type": "code",
   "execution_count": 1,
   "metadata": {},
   "outputs": [
    {
     "data": {
      "text/html": [
       "<div><style>\n",
       ".dataframe > thead > tr,\n",
       ".dataframe > tbody > tr {\n",
       "  text-align: right;\n",
       "  white-space: pre-wrap;\n",
       "}\n",
       "</style>\n",
       "<small>shape: (16, 7)</small><table border=\"1\" class=\"dataframe\"><thead><tr><th>primo_id</th><th>scada_id</th><th>metric_nice_name</th><th>unique_id</th><th>uom</th><th>timestamp</th><th>value</th></tr><tr><td>str</td><td>str</td><td>str</td><td>object</td><td>str</td><td>datetime[μs]</td><td>f64</td></tr></thead><tbody><tr><td>&quot;480001&quot;</td><td>&quot;FTW480001&quot;</td><td>&quot;ESD-OilTankInchesUntilAlarm&quot;</td><td>0a5456a7-80da-44cd-b191-130a0a579c33</td><td>&quot;in&quot;</td><td>2024-03-06 04:14:39.113032</td><td>66.518221</td></tr><tr><td>&quot;480001&quot;</td><td>&quot;FTW480001&quot;</td><td>&quot;WaterTank1Capacity&quot;</td><td>1a909c77-d910-4862-b7f4-0ae902c9cbab</td><td>&quot;bbl&quot;</td><td>2023-11-07 09:00:00</td><td>410.476513</td></tr><tr><td>&quot;480001&quot;</td><td>&quot;FTW480001&quot;</td><td>&quot;WaterTank1Volume&quot;</td><td>33b18ec5-4680-4279-bc0e-b9f8761d9b04</td><td>&quot;bbl&quot;</td><td>2024-03-06 04:11:04.372011</td><td>58.378953</td></tr><tr><td>&quot;480001&quot;</td><td>&quot;FTW480001&quot;</td><td>&quot;WaterTank2Volume&quot;</td><td>393a9fd5-866d-45d9-98f2-3145da3eab20</td><td>&quot;bbl&quot;</td><td>2024-03-06 04:11:21.206990</td><td>232.610547</td></tr><tr><td>&quot;480001&quot;</td><td>&quot;FTW480001&quot;</td><td>&quot;OilTank1Level&quot;</td><td>3eb86565-9a8c-4645-9e3b-ead0c0a61245</td><td>&quot;in&quot;</td><td>2024-03-06 04:12:36.242968</td><td>81.727208</td></tr><tr><td>&hellip;</td><td>&hellip;</td><td>&hellip;</td><td>&hellip;</td><td>&hellip;</td><td>&hellip;</td><td>&hellip;</td></tr><tr><td>&quot;480001&quot;</td><td>&quot;FTW480001&quot;</td><td>&quot;ESD-OilTankID&quot;</td><td>91346655-25a8-4a44-a3ac-c8fc14457107</td><td>null</td><td>2023-11-07 09:00:00</td><td>1.0</td></tr><tr><td>&quot;480001&quot;</td><td>&quot;FTW480001&quot;</td><td>&quot;OilTank1Volume&quot;</td><td>970e57ed-34f9-4306-b0a3-5cd7b57cd20e</td><td>&quot;bbl&quot;</td><td>2024-03-06 04:12:36.242968</td><td>227.020022</td></tr><tr><td>&quot;480001&quot;</td><td>&quot;FTW480001&quot;</td><td>&quot;OilTank2Capacity&quot;</td><td>9e41a2e8-78d5-4dd9-b63f-66fa4676dcfb</td><td>&quot;bbl&quot;</td><td>2023-11-07 09:00:00</td><td>406.099328</td></tr><tr><td>&quot;480001&quot;</td><td>&quot;FTW480001&quot;</td><td>&quot;OilTank2Level&quot;</td><td>b2b972c2-8685-4877-8363-484e0003ac37</td><td>&quot;in&quot;</td><td>2024-03-06 04:14:00.321573</td><td>98.825588</td></tr><tr><td>&quot;480001&quot;</td><td>&quot;FTW480001&quot;</td><td>&quot;ESD-WaterTankID&quot;</td><td>bf404389-f86f-47fe-8eb6-aac06db9bd77</td><td>null</td><td>2023-11-07 09:00:00</td><td>1.0</td></tr></tbody></table></div>"
      ],
      "text/plain": [
       "shape: (16, 7)\n",
       "┌──────────┬───────────┬──────────────────┬──────────────────┬──────┬─────────────────┬────────────┐\n",
       "│ primo_id ┆ scada_id  ┆ metric_nice_name ┆ unique_id        ┆ uom  ┆ timestamp       ┆ value      │\n",
       "│ ---      ┆ ---       ┆ ---              ┆ ---              ┆ ---  ┆ ---             ┆ ---        │\n",
       "│ str      ┆ str       ┆ str              ┆ object           ┆ str  ┆ datetime[μs]    ┆ f64        │\n",
       "╞══════════╪═══════════╪══════════════════╪══════════════════╪══════╪═════════════════╪════════════╡\n",
       "│ 480001   ┆ FTW480001 ┆ ESD-OilTankInche ┆ 0a5456a7-80da-44 ┆ in   ┆ 2024-03-06      ┆ 66.518221  │\n",
       "│          ┆           ┆ sUntilAlarm      ┆ cd-b191-130a0a…  ┆      ┆ 04:14:39.113032 ┆            │\n",
       "│ 480001   ┆ FTW480001 ┆ WaterTank1Capaci ┆ 1a909c77-d910-48 ┆ bbl  ┆ 2023-11-07      ┆ 410.476513 │\n",
       "│          ┆           ┆ ty               ┆ 62-b7f4-0ae902…  ┆      ┆ 09:00:00        ┆            │\n",
       "│ 480001   ┆ FTW480001 ┆ WaterTank1Volume ┆ 33b18ec5-4680-42 ┆ bbl  ┆ 2024-03-06      ┆ 58.378953  │\n",
       "│          ┆           ┆                  ┆ 79-bc0e-b9f876…  ┆      ┆ 04:11:04.372011 ┆            │\n",
       "│ 480001   ┆ FTW480001 ┆ WaterTank2Volume ┆ 393a9fd5-866d-45 ┆ bbl  ┆ 2024-03-06      ┆ 232.610547 │\n",
       "│          ┆           ┆                  ┆ d9-98f2-3145da…  ┆      ┆ 04:11:21.206990 ┆            │\n",
       "│ 480001   ┆ FTW480001 ┆ OilTank1Level    ┆ 3eb86565-9a8c-46 ┆ in   ┆ 2024-03-06      ┆ 81.727208  │\n",
       "│          ┆           ┆                  ┆ 45-9e3b-ead0c0…  ┆      ┆ 04:12:36.242968 ┆            │\n",
       "│ …        ┆ …         ┆ …                ┆ …                ┆ …    ┆ …               ┆ …          │\n",
       "│ 480001   ┆ FTW480001 ┆ ESD-OilTankID    ┆ 91346655-25a8-4a ┆ null ┆ 2023-11-07      ┆ 1.0        │\n",
       "│          ┆           ┆                  ┆ 44-a3ac-c8fc14…  ┆      ┆ 09:00:00        ┆            │\n",
       "│ 480001   ┆ FTW480001 ┆ OilTank1Volume   ┆ 970e57ed-34f9-43 ┆ bbl  ┆ 2024-03-06      ┆ 227.020022 │\n",
       "│          ┆           ┆                  ┆ 06-b0a3-5cd7b5…  ┆      ┆ 04:12:36.242968 ┆            │\n",
       "│ 480001   ┆ FTW480001 ┆ OilTank2Capacity ┆ 9e41a2e8-78d5-4d ┆ bbl  ┆ 2023-11-07      ┆ 406.099328 │\n",
       "│          ┆           ┆                  ┆ d9-b63f-66fa46…  ┆      ┆ 09:00:00        ┆            │\n",
       "│ 480001   ┆ FTW480001 ┆ OilTank2Level    ┆ b2b972c2-8685-48 ┆ in   ┆ 2024-03-06      ┆ 98.825588  │\n",
       "│          ┆           ┆                  ┆ 77-8363-484e00…  ┆      ┆ 04:14:00.321573 ┆            │\n",
       "│ 480001   ┆ FTW480001 ┆ ESD-WaterTankID  ┆ bf404389-f86f-47 ┆ null ┆ 2023-11-07      ┆ 1.0        │\n",
       "│          ┆           ┆                  ┆ fe-8eb6-aac06d…  ┆      ┆ 09:00:00        ┆            │\n",
       "└──────────┴───────────┴──────────────────┴──────────────────┴──────┴─────────────────┴────────────┘"
      ]
     },
     "execution_count": 1,
     "metadata": {},
     "output_type": "execute_result"
    }
   ],
   "source": [
    "import polars as pl\n",
    "from src.main import GetTanksReq, fetch_tank_data\n",
    "\n",
    "req = GetTanksReq(primo_ids={\"480001\"})\n",
    "\n",
    "df = await fetch_tank_data(req)\n",
    "if df is None:\n",
    "    raise ValueError(\"df is None\")\n",
    "lf = df.lazy()\n",
    "lf.collect()"
   ]
  },
  {
   "cell_type": "code",
   "execution_count": 2,
   "metadata": {},
   "outputs": [
    {
     "data": {
      "text/html": [
       "<div><style>\n",
       ".dataframe > thead > tr,\n",
       ".dataframe > tbody > tr {\n",
       "  text-align: right;\n",
       "  white-space: pre-wrap;\n",
       "}\n",
       "</style>\n",
       "<small>shape: (16, 6)</small><table border=\"1\" class=\"dataframe\"><thead><tr><th>primo_id</th><th>scada_id</th><th>metric_nice_name</th><th>uom</th><th>timestamp</th><th>value</th></tr><tr><td>str</td><td>str</td><td>str</td><td>str</td><td>datetime[μs]</td><td>f64</td></tr></thead><tbody><tr><td>&quot;480001&quot;</td><td>&quot;FTW480001&quot;</td><td>&quot;ESD-OilTankInchesUntilAlarm&quot;</td><td>&quot;in&quot;</td><td>2024-03-06 04:14:39.113032</td><td>66.518221</td></tr><tr><td>&quot;480001&quot;</td><td>&quot;FTW480001&quot;</td><td>&quot;WaterTank1Capacity&quot;</td><td>&quot;bbl&quot;</td><td>2023-11-07 09:00:00</td><td>410.476513</td></tr><tr><td>&quot;480001&quot;</td><td>&quot;FTW480001&quot;</td><td>&quot;WaterTank1Volume&quot;</td><td>&quot;bbl&quot;</td><td>2024-03-06 04:11:04.372011</td><td>58.378953</td></tr><tr><td>&quot;480001&quot;</td><td>&quot;FTW480001&quot;</td><td>&quot;WaterTank2Volume&quot;</td><td>&quot;bbl&quot;</td><td>2024-03-06 04:11:21.206990</td><td>232.610547</td></tr><tr><td>&quot;480001&quot;</td><td>&quot;FTW480001&quot;</td><td>&quot;OilTank1Level&quot;</td><td>&quot;in&quot;</td><td>2024-03-06 04:12:36.242968</td><td>81.727208</td></tr><tr><td>&hellip;</td><td>&hellip;</td><td>&hellip;</td><td>&hellip;</td><td>&hellip;</td><td>&hellip;</td></tr><tr><td>&quot;480001&quot;</td><td>&quot;FTW480001&quot;</td><td>&quot;ESD-OilTankID&quot;</td><td>null</td><td>2023-11-07 09:00:00</td><td>1.0</td></tr><tr><td>&quot;480001&quot;</td><td>&quot;FTW480001&quot;</td><td>&quot;OilTank1Volume&quot;</td><td>&quot;bbl&quot;</td><td>2024-03-06 04:12:36.242968</td><td>227.020022</td></tr><tr><td>&quot;480001&quot;</td><td>&quot;FTW480001&quot;</td><td>&quot;OilTank2Capacity&quot;</td><td>&quot;bbl&quot;</td><td>2023-11-07 09:00:00</td><td>406.099328</td></tr><tr><td>&quot;480001&quot;</td><td>&quot;FTW480001&quot;</td><td>&quot;OilTank2Level&quot;</td><td>&quot;in&quot;</td><td>2024-03-06 04:14:00.321573</td><td>98.825588</td></tr><tr><td>&quot;480001&quot;</td><td>&quot;FTW480001&quot;</td><td>&quot;ESD-WaterTankID&quot;</td><td>null</td><td>2023-11-07 09:00:00</td><td>1.0</td></tr></tbody></table></div>"
      ],
      "text/plain": [
       "shape: (16, 6)\n",
       "┌──────────┬───────────┬─────────────────────────────┬──────┬─────────────────────┬────────────┐\n",
       "│ primo_id ┆ scada_id  ┆ metric_nice_name            ┆ uom  ┆ timestamp           ┆ value      │\n",
       "│ ---      ┆ ---       ┆ ---                         ┆ ---  ┆ ---                 ┆ ---        │\n",
       "│ str      ┆ str       ┆ str                         ┆ str  ┆ datetime[μs]        ┆ f64        │\n",
       "╞══════════╪═══════════╪═════════════════════════════╪══════╪═════════════════════╪════════════╡\n",
       "│ 480001   ┆ FTW480001 ┆ ESD-OilTankInchesUntilAlarm ┆ in   ┆ 2024-03-06          ┆ 66.518221  │\n",
       "│          ┆           ┆                             ┆      ┆ 04:14:39.113032     ┆            │\n",
       "│ 480001   ┆ FTW480001 ┆ WaterTank1Capacity          ┆ bbl  ┆ 2023-11-07 09:00:00 ┆ 410.476513 │\n",
       "│ 480001   ┆ FTW480001 ┆ WaterTank1Volume            ┆ bbl  ┆ 2024-03-06          ┆ 58.378953  │\n",
       "│          ┆           ┆                             ┆      ┆ 04:11:04.372011     ┆            │\n",
       "│ 480001   ┆ FTW480001 ┆ WaterTank2Volume            ┆ bbl  ┆ 2024-03-06          ┆ 232.610547 │\n",
       "│          ┆           ┆                             ┆      ┆ 04:11:21.206990     ┆            │\n",
       "│ 480001   ┆ FTW480001 ┆ OilTank1Level               ┆ in   ┆ 2024-03-06          ┆ 81.727208  │\n",
       "│          ┆           ┆                             ┆      ┆ 04:12:36.242968     ┆            │\n",
       "│ …        ┆ …         ┆ …                           ┆ …    ┆ …                   ┆ …          │\n",
       "│ 480001   ┆ FTW480001 ┆ ESD-OilTankID               ┆ null ┆ 2023-11-07 09:00:00 ┆ 1.0        │\n",
       "│ 480001   ┆ FTW480001 ┆ OilTank1Volume              ┆ bbl  ┆ 2024-03-06          ┆ 227.020022 │\n",
       "│          ┆           ┆                             ┆      ┆ 04:12:36.242968     ┆            │\n",
       "│ 480001   ┆ FTW480001 ┆ OilTank2Capacity            ┆ bbl  ┆ 2023-11-07 09:00:00 ┆ 406.099328 │\n",
       "│ 480001   ┆ FTW480001 ┆ OilTank2Level               ┆ in   ┆ 2024-03-06          ┆ 98.825588  │\n",
       "│          ┆           ┆                             ┆      ┆ 04:14:00.321573     ┆            │\n",
       "│ 480001   ┆ FTW480001 ┆ ESD-WaterTankID             ┆ null ┆ 2023-11-07 09:00:00 ┆ 1.0        │\n",
       "└──────────┴───────────┴─────────────────────────────┴──────┴─────────────────────┴────────────┘"
      ]
     },
     "execution_count": 2,
     "metadata": {},
     "output_type": "execute_result"
    }
   ],
   "source": [
    "lf = lf.drop(\"unique_id\")\n",
    "lf.collect()"
   ]
  },
  {
   "cell_type": "code",
   "execution_count": 3,
   "metadata": {},
   "outputs": [
    {
     "data": {
      "text/html": [
       "<div><style>\n",
       ".dataframe > thead > tr,\n",
       ".dataframe > tbody > tr {\n",
       "  text-align: right;\n",
       "  white-space: pre-wrap;\n",
       "}\n",
       "</style>\n",
       "<small>shape: (16, 7)</small><table border=\"1\" class=\"dataframe\"><thead><tr><th>primo_id</th><th>scada_id</th><th>metric_nice_name</th><th>uom</th><th>timestamp</th><th>value</th><th>separated_metrics</th></tr><tr><td>str</td><td>str</td><td>str</td><td>str</td><td>datetime[μs]</td><td>f64</td><td>struct[4]</td></tr></thead><tbody><tr><td>&quot;480001&quot;</td><td>&quot;FTW480001&quot;</td><td>&quot;ESD-OilTankInchesUntilAlarm&quot;</td><td>&quot;in&quot;</td><td>2024-03-06 04:14:39.113032</td><td>66.518221</td><td>{&quot;ESD-&quot;,&quot;Oil&quot;,&quot;&quot;,&quot;InchesUntilAlarm&quot;}</td></tr><tr><td>&quot;480001&quot;</td><td>&quot;FTW480001&quot;</td><td>&quot;WaterTank1Capacity&quot;</td><td>&quot;bbl&quot;</td><td>2023-11-07 09:00:00</td><td>410.476513</td><td>{null,&quot;Water&quot;,&quot;1&quot;,&quot;Capacity&quot;}</td></tr><tr><td>&quot;480001&quot;</td><td>&quot;FTW480001&quot;</td><td>&quot;WaterTank1Volume&quot;</td><td>&quot;bbl&quot;</td><td>2024-03-06 04:11:04.372011</td><td>58.378953</td><td>{null,&quot;Water&quot;,&quot;1&quot;,&quot;Volume&quot;}</td></tr><tr><td>&quot;480001&quot;</td><td>&quot;FTW480001&quot;</td><td>&quot;WaterTank2Volume&quot;</td><td>&quot;bbl&quot;</td><td>2024-03-06 04:11:21.206990</td><td>232.610547</td><td>{null,&quot;Water&quot;,&quot;2&quot;,&quot;Volume&quot;}</td></tr><tr><td>&quot;480001&quot;</td><td>&quot;FTW480001&quot;</td><td>&quot;OilTank1Level&quot;</td><td>&quot;in&quot;</td><td>2024-03-06 04:12:36.242968</td><td>81.727208</td><td>{null,&quot;Oil&quot;,&quot;1&quot;,&quot;Level&quot;}</td></tr><tr><td>&hellip;</td><td>&hellip;</td><td>&hellip;</td><td>&hellip;</td><td>&hellip;</td><td>&hellip;</td><td>&hellip;</td></tr><tr><td>&quot;480001&quot;</td><td>&quot;FTW480001&quot;</td><td>&quot;ESD-OilTankID&quot;</td><td>null</td><td>2023-11-07 09:00:00</td><td>1.0</td><td>{&quot;ESD-&quot;,&quot;Oil&quot;,&quot;&quot;,&quot;ID&quot;}</td></tr><tr><td>&quot;480001&quot;</td><td>&quot;FTW480001&quot;</td><td>&quot;OilTank1Volume&quot;</td><td>&quot;bbl&quot;</td><td>2024-03-06 04:12:36.242968</td><td>227.020022</td><td>{null,&quot;Oil&quot;,&quot;1&quot;,&quot;Volume&quot;}</td></tr><tr><td>&quot;480001&quot;</td><td>&quot;FTW480001&quot;</td><td>&quot;OilTank2Capacity&quot;</td><td>&quot;bbl&quot;</td><td>2023-11-07 09:00:00</td><td>406.099328</td><td>{null,&quot;Oil&quot;,&quot;2&quot;,&quot;Capacity&quot;}</td></tr><tr><td>&quot;480001&quot;</td><td>&quot;FTW480001&quot;</td><td>&quot;OilTank2Level&quot;</td><td>&quot;in&quot;</td><td>2024-03-06 04:14:00.321573</td><td>98.825588</td><td>{null,&quot;Oil&quot;,&quot;2&quot;,&quot;Level&quot;}</td></tr><tr><td>&quot;480001&quot;</td><td>&quot;FTW480001&quot;</td><td>&quot;ESD-WaterTankID&quot;</td><td>null</td><td>2023-11-07 09:00:00</td><td>1.0</td><td>{&quot;ESD-&quot;,&quot;Water&quot;,&quot;&quot;,&quot;ID&quot;}</td></tr></tbody></table></div>"
      ],
      "text/plain": [
       "shape: (16, 7)\n",
       "┌──────────┬───────────┬──────────────────┬──────┬──────────────────┬────────────┬─────────────────┐\n",
       "│ primo_id ┆ scada_id  ┆ metric_nice_name ┆ uom  ┆ timestamp        ┆ value      ┆ separated_metri │\n",
       "│ ---      ┆ ---       ┆ ---              ┆ ---  ┆ ---              ┆ ---        ┆ cs              │\n",
       "│ str      ┆ str       ┆ str              ┆ str  ┆ datetime[μs]     ┆ f64        ┆ ---             │\n",
       "│          ┆           ┆                  ┆      ┆                  ┆            ┆ struct[4]       │\n",
       "╞══════════╪═══════════╪══════════════════╪══════╪══════════════════╪════════════╪═════════════════╡\n",
       "│ 480001   ┆ FTW480001 ┆ ESD-OilTankInche ┆ in   ┆ 2024-03-06       ┆ 66.518221  ┆ {\"ESD-\",\"Oil\",\" │\n",
       "│          ┆           ┆ sUntilAlarm      ┆      ┆ 04:14:39.113032  ┆            ┆ \",\"InchesUntilA │\n",
       "│          ┆           ┆                  ┆      ┆                  ┆            ┆ …               │\n",
       "│ 480001   ┆ FTW480001 ┆ WaterTank1Capaci ┆ bbl  ┆ 2023-11-07       ┆ 410.476513 ┆ {null,\"Water\",\" │\n",
       "│          ┆           ┆ ty               ┆      ┆ 09:00:00         ┆            ┆ 1\",\"Capacity\"}  │\n",
       "│ 480001   ┆ FTW480001 ┆ WaterTank1Volume ┆ bbl  ┆ 2024-03-06       ┆ 58.378953  ┆ {null,\"Water\",\" │\n",
       "│          ┆           ┆                  ┆      ┆ 04:11:04.372011  ┆            ┆ 1\",\"Volume\"}    │\n",
       "│ 480001   ┆ FTW480001 ┆ WaterTank2Volume ┆ bbl  ┆ 2024-03-06       ┆ 232.610547 ┆ {null,\"Water\",\" │\n",
       "│          ┆           ┆                  ┆      ┆ 04:11:21.206990  ┆            ┆ 2\",\"Volume\"}    │\n",
       "│ 480001   ┆ FTW480001 ┆ OilTank1Level    ┆ in   ┆ 2024-03-06       ┆ 81.727208  ┆ {null,\"Oil\",\"1\" │\n",
       "│          ┆           ┆                  ┆      ┆ 04:12:36.242968  ┆            ┆ ,\"Level\"}       │\n",
       "│ …        ┆ …         ┆ …                ┆ …    ┆ …                ┆ …          ┆ …               │\n",
       "│ 480001   ┆ FTW480001 ┆ ESD-OilTankID    ┆ null ┆ 2023-11-07       ┆ 1.0        ┆ {\"ESD-\",\"Oil\",\" │\n",
       "│          ┆           ┆                  ┆      ┆ 09:00:00         ┆            ┆ \",\"ID\"}         │\n",
       "│ 480001   ┆ FTW480001 ┆ OilTank1Volume   ┆ bbl  ┆ 2024-03-06       ┆ 227.020022 ┆ {null,\"Oil\",\"1\" │\n",
       "│          ┆           ┆                  ┆      ┆ 04:12:36.242968  ┆            ┆ ,\"Volume\"}      │\n",
       "│ 480001   ┆ FTW480001 ┆ OilTank2Capacity ┆ bbl  ┆ 2023-11-07       ┆ 406.099328 ┆ {null,\"Oil\",\"2\" │\n",
       "│          ┆           ┆                  ┆      ┆ 09:00:00         ┆            ┆ ,\"Capacity\"}    │\n",
       "│ 480001   ┆ FTW480001 ┆ OilTank2Level    ┆ in   ┆ 2024-03-06       ┆ 98.825588  ┆ {null,\"Oil\",\"2\" │\n",
       "│          ┆           ┆                  ┆      ┆ 04:14:00.321573  ┆            ┆ ,\"Level\"}       │\n",
       "│ 480001   ┆ FTW480001 ┆ ESD-WaterTankID  ┆ null ┆ 2023-11-07       ┆ 1.0        ┆ {\"ESD-\",\"Water\" │\n",
       "│          ┆           ┆                  ┆      ┆ 09:00:00         ┆            ┆ ,\"\",\"ID\"}       │\n",
       "└──────────┴───────────┴──────────────────┴──────┴──────────────────┴────────────┴─────────────────┘"
      ]
     },
     "execution_count": 3,
     "metadata": {},
     "output_type": "execute_result"
    }
   ],
   "source": [
    "tank_metrics = [\"Level\", \"Volume\", \"InchesUntilAlarm\", \"InchesToESD\", \"TimeUntilESD\", \"Capacity\", \"ID\"]\n",
    "tank_types = [\"Water\", \"Oil\"]\n",
    "\n",
    "tank_metrics_str= \"|\".join(tank_metrics)\n",
    "tank_types_str = \"|\".join(tank_types)\n",
    "\n",
    "pattern = f'^(?<is_ESD>ESD-)?(?<tank_type>{tank_types_str})Tank(?<tank_number>[0-9]*)(?<tank_metric>{tank_metrics_str})'\n",
    "\n",
    "lf = lf.with_columns(separated_metrics = pl.col(\"metric_nice_name\").str.extract_groups(pattern))\n",
    "lf.collect()"
   ]
  },
  {
   "cell_type": "code",
   "execution_count": 4,
   "metadata": {},
   "outputs": [
    {
     "data": {
      "text/html": [
       "<div><style>\n",
       ".dataframe > thead > tr,\n",
       ".dataframe > tbody > tr {\n",
       "  text-align: right;\n",
       "  white-space: pre-wrap;\n",
       "}\n",
       "</style>\n",
       "<small>shape: (16, 10)</small><table border=\"1\" class=\"dataframe\"><thead><tr><th>primo_id</th><th>scada_id</th><th>metric_nice_name</th><th>uom</th><th>timestamp</th><th>value</th><th>is_ESD</th><th>tank_type</th><th>tank_number</th><th>tank_metric</th></tr><tr><td>str</td><td>str</td><td>str</td><td>str</td><td>datetime[μs]</td><td>f64</td><td>str</td><td>str</td><td>str</td><td>str</td></tr></thead><tbody><tr><td>&quot;480001&quot;</td><td>&quot;FTW480001&quot;</td><td>&quot;ESD-OilTankInchesUntilAlarm&quot;</td><td>&quot;in&quot;</td><td>2024-03-06 04:14:39.113032</td><td>66.518221</td><td>&quot;ESD-&quot;</td><td>&quot;Oil&quot;</td><td>&quot;&quot;</td><td>&quot;InchesUntilAlarm&quot;</td></tr><tr><td>&quot;480001&quot;</td><td>&quot;FTW480001&quot;</td><td>&quot;WaterTank1Capacity&quot;</td><td>&quot;bbl&quot;</td><td>2023-11-07 09:00:00</td><td>410.476513</td><td>null</td><td>&quot;Water&quot;</td><td>&quot;1&quot;</td><td>&quot;Capacity&quot;</td></tr><tr><td>&quot;480001&quot;</td><td>&quot;FTW480001&quot;</td><td>&quot;WaterTank1Volume&quot;</td><td>&quot;bbl&quot;</td><td>2024-03-06 04:11:04.372011</td><td>58.378953</td><td>null</td><td>&quot;Water&quot;</td><td>&quot;1&quot;</td><td>&quot;Volume&quot;</td></tr><tr><td>&quot;480001&quot;</td><td>&quot;FTW480001&quot;</td><td>&quot;WaterTank2Volume&quot;</td><td>&quot;bbl&quot;</td><td>2024-03-06 04:11:21.206990</td><td>232.610547</td><td>null</td><td>&quot;Water&quot;</td><td>&quot;2&quot;</td><td>&quot;Volume&quot;</td></tr><tr><td>&quot;480001&quot;</td><td>&quot;FTW480001&quot;</td><td>&quot;OilTank1Level&quot;</td><td>&quot;in&quot;</td><td>2024-03-06 04:12:36.242968</td><td>81.727208</td><td>null</td><td>&quot;Oil&quot;</td><td>&quot;1&quot;</td><td>&quot;Level&quot;</td></tr><tr><td>&hellip;</td><td>&hellip;</td><td>&hellip;</td><td>&hellip;</td><td>&hellip;</td><td>&hellip;</td><td>&hellip;</td><td>&hellip;</td><td>&hellip;</td><td>&hellip;</td></tr><tr><td>&quot;480001&quot;</td><td>&quot;FTW480001&quot;</td><td>&quot;ESD-OilTankID&quot;</td><td>null</td><td>2023-11-07 09:00:00</td><td>1.0</td><td>&quot;ESD-&quot;</td><td>&quot;Oil&quot;</td><td>&quot;&quot;</td><td>&quot;ID&quot;</td></tr><tr><td>&quot;480001&quot;</td><td>&quot;FTW480001&quot;</td><td>&quot;OilTank1Volume&quot;</td><td>&quot;bbl&quot;</td><td>2024-03-06 04:12:36.242968</td><td>227.020022</td><td>null</td><td>&quot;Oil&quot;</td><td>&quot;1&quot;</td><td>&quot;Volume&quot;</td></tr><tr><td>&quot;480001&quot;</td><td>&quot;FTW480001&quot;</td><td>&quot;OilTank2Capacity&quot;</td><td>&quot;bbl&quot;</td><td>2023-11-07 09:00:00</td><td>406.099328</td><td>null</td><td>&quot;Oil&quot;</td><td>&quot;2&quot;</td><td>&quot;Capacity&quot;</td></tr><tr><td>&quot;480001&quot;</td><td>&quot;FTW480001&quot;</td><td>&quot;OilTank2Level&quot;</td><td>&quot;in&quot;</td><td>2024-03-06 04:14:00.321573</td><td>98.825588</td><td>null</td><td>&quot;Oil&quot;</td><td>&quot;2&quot;</td><td>&quot;Level&quot;</td></tr><tr><td>&quot;480001&quot;</td><td>&quot;FTW480001&quot;</td><td>&quot;ESD-WaterTankID&quot;</td><td>null</td><td>2023-11-07 09:00:00</td><td>1.0</td><td>&quot;ESD-&quot;</td><td>&quot;Water&quot;</td><td>&quot;&quot;</td><td>&quot;ID&quot;</td></tr></tbody></table></div>"
      ],
      "text/plain": [
       "shape: (16, 10)\n",
       "┌──────────┬───────────┬──────────────┬──────┬───┬────────┬───────────┬─────────────┬──────────────┐\n",
       "│ primo_id ┆ scada_id  ┆ metric_nice_ ┆ uom  ┆ … ┆ is_ESD ┆ tank_type ┆ tank_number ┆ tank_metric  │\n",
       "│ ---      ┆ ---       ┆ name         ┆ ---  ┆   ┆ ---    ┆ ---       ┆ ---         ┆ ---          │\n",
       "│ str      ┆ str       ┆ ---          ┆ str  ┆   ┆ str    ┆ str       ┆ str         ┆ str          │\n",
       "│          ┆           ┆ str          ┆      ┆   ┆        ┆           ┆             ┆              │\n",
       "╞══════════╪═══════════╪══════════════╪══════╪═══╪════════╪═══════════╪═════════════╪══════════════╡\n",
       "│ 480001   ┆ FTW480001 ┆ ESD-OilTankI ┆ in   ┆ … ┆ ESD-   ┆ Oil       ┆             ┆ InchesUntilA │\n",
       "│          ┆           ┆ nchesUntilAl ┆      ┆   ┆        ┆           ┆             ┆ larm         │\n",
       "│          ┆           ┆ arm          ┆      ┆   ┆        ┆           ┆             ┆              │\n",
       "│ 480001   ┆ FTW480001 ┆ WaterTank1Ca ┆ bbl  ┆ … ┆ null   ┆ Water     ┆ 1           ┆ Capacity     │\n",
       "│          ┆           ┆ pacity       ┆      ┆   ┆        ┆           ┆             ┆              │\n",
       "│ 480001   ┆ FTW480001 ┆ WaterTank1Vo ┆ bbl  ┆ … ┆ null   ┆ Water     ┆ 1           ┆ Volume       │\n",
       "│          ┆           ┆ lume         ┆      ┆   ┆        ┆           ┆             ┆              │\n",
       "│ 480001   ┆ FTW480001 ┆ WaterTank2Vo ┆ bbl  ┆ … ┆ null   ┆ Water     ┆ 2           ┆ Volume       │\n",
       "│          ┆           ┆ lume         ┆      ┆   ┆        ┆           ┆             ┆              │\n",
       "│ 480001   ┆ FTW480001 ┆ OilTank1Leve ┆ in   ┆ … ┆ null   ┆ Oil       ┆ 1           ┆ Level        │\n",
       "│          ┆           ┆ l            ┆      ┆   ┆        ┆           ┆             ┆              │\n",
       "│ …        ┆ …         ┆ …            ┆ …    ┆ … ┆ …      ┆ …         ┆ …           ┆ …            │\n",
       "│ 480001   ┆ FTW480001 ┆ ESD-OilTankI ┆ null ┆ … ┆ ESD-   ┆ Oil       ┆             ┆ ID           │\n",
       "│          ┆           ┆ D            ┆      ┆   ┆        ┆           ┆             ┆              │\n",
       "│ 480001   ┆ FTW480001 ┆ OilTank1Volu ┆ bbl  ┆ … ┆ null   ┆ Oil       ┆ 1           ┆ Volume       │\n",
       "│          ┆           ┆ me           ┆      ┆   ┆        ┆           ┆             ┆              │\n",
       "│ 480001   ┆ FTW480001 ┆ OilTank2Capa ┆ bbl  ┆ … ┆ null   ┆ Oil       ┆ 2           ┆ Capacity     │\n",
       "│          ┆           ┆ city         ┆      ┆   ┆        ┆           ┆             ┆              │\n",
       "│ 480001   ┆ FTW480001 ┆ OilTank2Leve ┆ in   ┆ … ┆ null   ┆ Oil       ┆ 2           ┆ Level        │\n",
       "│          ┆           ┆ l            ┆      ┆   ┆        ┆           ┆             ┆              │\n",
       "│ 480001   ┆ FTW480001 ┆ ESD-WaterTan ┆ null ┆ … ┆ ESD-   ┆ Water     ┆             ┆ ID           │\n",
       "│          ┆           ┆ kID          ┆      ┆   ┆        ┆           ┆             ┆              │\n",
       "└──────────┴───────────┴──────────────┴──────┴───┴────────┴───────────┴─────────────┴──────────────┘"
      ]
     },
     "execution_count": 4,
     "metadata": {},
     "output_type": "execute_result"
    }
   ],
   "source": [
    "#unnesting the new columns we created\n",
    "\n",
    "lf = lf.unnest(\"separated_metrics\")\n",
    "lf.collect()"
   ]
  },
  {
   "cell_type": "code",
   "execution_count": 5,
   "metadata": {},
   "outputs": [
    {
     "data": {
      "text/html": [
       "<div><style>\n",
       ".dataframe > thead > tr,\n",
       ".dataframe > tbody > tr {\n",
       "  text-align: right;\n",
       "  white-space: pre-wrap;\n",
       "}\n",
       "</style>\n",
       "<small>shape: (16, 10)</small><table border=\"1\" class=\"dataframe\"><thead><tr><th>primo_id</th><th>scada_id</th><th>metric_nice_name</th><th>uom</th><th>timestamp</th><th>value</th><th>is_ESD</th><th>tank_type</th><th>tank_number</th><th>tank_metric</th></tr><tr><td>str</td><td>str</td><td>str</td><td>str</td><td>datetime[μs]</td><td>f64</td><td>str</td><td>str</td><td>u8</td><td>str</td></tr></thead><tbody><tr><td>&quot;480001&quot;</td><td>&quot;FTW480001&quot;</td><td>&quot;ESD-OilTankInchesUntilAlarm&quot;</td><td>&quot;in&quot;</td><td>2024-03-06 04:14:39.113032</td><td>66.518221</td><td>&quot;ESD-&quot;</td><td>&quot;Oil&quot;</td><td>null</td><td>&quot;InchesUntilAlarm&quot;</td></tr><tr><td>&quot;480001&quot;</td><td>&quot;FTW480001&quot;</td><td>&quot;WaterTank1Capacity&quot;</td><td>&quot;bbl&quot;</td><td>2023-11-07 09:00:00</td><td>410.476513</td><td>null</td><td>&quot;Water&quot;</td><td>1</td><td>&quot;Capacity&quot;</td></tr><tr><td>&quot;480001&quot;</td><td>&quot;FTW480001&quot;</td><td>&quot;WaterTank1Volume&quot;</td><td>&quot;bbl&quot;</td><td>2024-03-06 04:11:04.372011</td><td>58.378953</td><td>null</td><td>&quot;Water&quot;</td><td>1</td><td>&quot;Volume&quot;</td></tr><tr><td>&quot;480001&quot;</td><td>&quot;FTW480001&quot;</td><td>&quot;WaterTank2Volume&quot;</td><td>&quot;bbl&quot;</td><td>2024-03-06 04:11:21.206990</td><td>232.610547</td><td>null</td><td>&quot;Water&quot;</td><td>2</td><td>&quot;Volume&quot;</td></tr><tr><td>&quot;480001&quot;</td><td>&quot;FTW480001&quot;</td><td>&quot;OilTank1Level&quot;</td><td>&quot;in&quot;</td><td>2024-03-06 04:12:36.242968</td><td>81.727208</td><td>null</td><td>&quot;Oil&quot;</td><td>1</td><td>&quot;Level&quot;</td></tr><tr><td>&hellip;</td><td>&hellip;</td><td>&hellip;</td><td>&hellip;</td><td>&hellip;</td><td>&hellip;</td><td>&hellip;</td><td>&hellip;</td><td>&hellip;</td><td>&hellip;</td></tr><tr><td>&quot;480001&quot;</td><td>&quot;FTW480001&quot;</td><td>&quot;ESD-OilTankID&quot;</td><td>null</td><td>2023-11-07 09:00:00</td><td>1.0</td><td>&quot;ESD-&quot;</td><td>&quot;Oil&quot;</td><td>null</td><td>&quot;ID&quot;</td></tr><tr><td>&quot;480001&quot;</td><td>&quot;FTW480001&quot;</td><td>&quot;OilTank1Volume&quot;</td><td>&quot;bbl&quot;</td><td>2024-03-06 04:12:36.242968</td><td>227.020022</td><td>null</td><td>&quot;Oil&quot;</td><td>1</td><td>&quot;Volume&quot;</td></tr><tr><td>&quot;480001&quot;</td><td>&quot;FTW480001&quot;</td><td>&quot;OilTank2Capacity&quot;</td><td>&quot;bbl&quot;</td><td>2023-11-07 09:00:00</td><td>406.099328</td><td>null</td><td>&quot;Oil&quot;</td><td>2</td><td>&quot;Capacity&quot;</td></tr><tr><td>&quot;480001&quot;</td><td>&quot;FTW480001&quot;</td><td>&quot;OilTank2Level&quot;</td><td>&quot;in&quot;</td><td>2024-03-06 04:14:00.321573</td><td>98.825588</td><td>null</td><td>&quot;Oil&quot;</td><td>2</td><td>&quot;Level&quot;</td></tr><tr><td>&quot;480001&quot;</td><td>&quot;FTW480001&quot;</td><td>&quot;ESD-WaterTankID&quot;</td><td>null</td><td>2023-11-07 09:00:00</td><td>1.0</td><td>&quot;ESD-&quot;</td><td>&quot;Water&quot;</td><td>null</td><td>&quot;ID&quot;</td></tr></tbody></table></div>"
      ],
      "text/plain": [
       "shape: (16, 10)\n",
       "┌──────────┬───────────┬──────────────┬──────┬───┬────────┬───────────┬─────────────┬──────────────┐\n",
       "│ primo_id ┆ scada_id  ┆ metric_nice_ ┆ uom  ┆ … ┆ is_ESD ┆ tank_type ┆ tank_number ┆ tank_metric  │\n",
       "│ ---      ┆ ---       ┆ name         ┆ ---  ┆   ┆ ---    ┆ ---       ┆ ---         ┆ ---          │\n",
       "│ str      ┆ str       ┆ ---          ┆ str  ┆   ┆ str    ┆ str       ┆ u8          ┆ str          │\n",
       "│          ┆           ┆ str          ┆      ┆   ┆        ┆           ┆             ┆              │\n",
       "╞══════════╪═══════════╪══════════════╪══════╪═══╪════════╪═══════════╪═════════════╪══════════════╡\n",
       "│ 480001   ┆ FTW480001 ┆ ESD-OilTankI ┆ in   ┆ … ┆ ESD-   ┆ Oil       ┆ null        ┆ InchesUntilA │\n",
       "│          ┆           ┆ nchesUntilAl ┆      ┆   ┆        ┆           ┆             ┆ larm         │\n",
       "│          ┆           ┆ arm          ┆      ┆   ┆        ┆           ┆             ┆              │\n",
       "│ 480001   ┆ FTW480001 ┆ WaterTank1Ca ┆ bbl  ┆ … ┆ null   ┆ Water     ┆ 1           ┆ Capacity     │\n",
       "│          ┆           ┆ pacity       ┆      ┆   ┆        ┆           ┆             ┆              │\n",
       "│ 480001   ┆ FTW480001 ┆ WaterTank1Vo ┆ bbl  ┆ … ┆ null   ┆ Water     ┆ 1           ┆ Volume       │\n",
       "│          ┆           ┆ lume         ┆      ┆   ┆        ┆           ┆             ┆              │\n",
       "│ 480001   ┆ FTW480001 ┆ WaterTank2Vo ┆ bbl  ┆ … ┆ null   ┆ Water     ┆ 2           ┆ Volume       │\n",
       "│          ┆           ┆ lume         ┆      ┆   ┆        ┆           ┆             ┆              │\n",
       "│ 480001   ┆ FTW480001 ┆ OilTank1Leve ┆ in   ┆ … ┆ null   ┆ Oil       ┆ 1           ┆ Level        │\n",
       "│          ┆           ┆ l            ┆      ┆   ┆        ┆           ┆             ┆              │\n",
       "│ …        ┆ …         ┆ …            ┆ …    ┆ … ┆ …      ┆ …         ┆ …           ┆ …            │\n",
       "│ 480001   ┆ FTW480001 ┆ ESD-OilTankI ┆ null ┆ … ┆ ESD-   ┆ Oil       ┆ null        ┆ ID           │\n",
       "│          ┆           ┆ D            ┆      ┆   ┆        ┆           ┆             ┆              │\n",
       "│ 480001   ┆ FTW480001 ┆ OilTank1Volu ┆ bbl  ┆ … ┆ null   ┆ Oil       ┆ 1           ┆ Volume       │\n",
       "│          ┆           ┆ me           ┆      ┆   ┆        ┆           ┆             ┆              │\n",
       "│ 480001   ┆ FTW480001 ┆ OilTank2Capa ┆ bbl  ┆ … ┆ null   ┆ Oil       ┆ 2           ┆ Capacity     │\n",
       "│          ┆           ┆ city         ┆      ┆   ┆        ┆           ┆             ┆              │\n",
       "│ 480001   ┆ FTW480001 ┆ OilTank2Leve ┆ in   ┆ … ┆ null   ┆ Oil       ┆ 2           ┆ Level        │\n",
       "│          ┆           ┆ l            ┆      ┆   ┆        ┆           ┆             ┆              │\n",
       "│ 480001   ┆ FTW480001 ┆ ESD-WaterTan ┆ null ┆ … ┆ ESD-   ┆ Water     ┆ null        ┆ ID           │\n",
       "│          ┆           ┆ kID          ┆      ┆   ┆        ┆           ┆             ┆              │\n",
       "└──────────┴───────────┴──────────────┴──────┴───┴────────┴───────────┴─────────────┴──────────────┘"
      ]
     },
     "execution_count": 5,
     "metadata": {},
     "output_type": "execute_result"
    }
   ],
   "source": [
    "#casting the tank_number column into an int\n",
    "\n",
    "lf = lf.with_columns(pl.col(\"tank_number\").cast(pl.UInt8, strict=False))\n",
    "lf.collect()"
   ]
  },
  {
   "cell_type": "code",
   "execution_count": 6,
   "metadata": {},
   "outputs": [
    {
     "data": {
      "text/html": [
       "<div><style>\n",
       ".dataframe > thead > tr,\n",
       ".dataframe > tbody > tr {\n",
       "  text-align: right;\n",
       "  white-space: pre-wrap;\n",
       "}\n",
       "</style>\n",
       "<small>shape: (6, 10)</small><table border=\"1\" class=\"dataframe\"><thead><tr><th>primo_id</th><th>tank_type</th><th>tank_number</th><th>Level</th><th>Volume</th><th>InchesUntilAlarm</th><th>InchesToESD</th><th>TimeUntilESD</th><th>Capacity</th><th>ID</th></tr><tr><td>str</td><td>str</td><td>u8</td><td>f64</td><td>f64</td><td>f64</td><td>f64</td><td>f64</td><td>f64</td><td>f64</td></tr></thead><tbody><tr><td>&quot;480001&quot;</td><td>&quot;Water&quot;</td><td>2</td><td>83.739797</td><td>232.610547</td><td>null</td><td>null</td><td>null</td><td>409.718222</td><td>null</td></tr><tr><td>&quot;480001&quot;</td><td>&quot;Water&quot;</td><td>1</td><td>21.016423</td><td>58.378953</td><td>null</td><td>null</td><td>null</td><td>410.476513</td><td>null</td></tr><tr><td>&quot;480001&quot;</td><td>&quot;Oil&quot;</td><td>2</td><td>98.825588</td><td>274.515522</td><td>null</td><td>null</td><td>null</td><td>406.099328</td><td>null</td></tr><tr><td>&quot;480001&quot;</td><td>&quot;Oil&quot;</td><td>1</td><td>81.727208</td><td>227.020022</td><td>null</td><td>null</td><td>null</td><td>413.344118</td><td>null</td></tr><tr><td>&quot;480001&quot;</td><td>&quot;Oil&quot;</td><td>null</td><td>null</td><td>null</td><td>66.518221</td><td>null</td><td>null</td><td>null</td><td>1.0</td></tr><tr><td>&quot;480001&quot;</td><td>&quot;Water&quot;</td><td>null</td><td>null</td><td>null</td><td>173.40877</td><td>null</td><td>null</td><td>null</td><td>1.0</td></tr></tbody></table></div>"
      ],
      "text/plain": [
       "shape: (6, 10)\n",
       "┌──────────┬───────────┬─────────────┬───────────┬───┬────────────┬────────────┬────────────┬──────┐\n",
       "│ primo_id ┆ tank_type ┆ tank_number ┆ Level     ┆ … ┆ InchesToES ┆ TimeUntilE ┆ Capacity   ┆ ID   │\n",
       "│ ---      ┆ ---       ┆ ---         ┆ ---       ┆   ┆ D          ┆ SD         ┆ ---        ┆ ---  │\n",
       "│ str      ┆ str       ┆ u8          ┆ f64       ┆   ┆ ---        ┆ ---        ┆ f64        ┆ f64  │\n",
       "│          ┆           ┆             ┆           ┆   ┆ f64        ┆ f64        ┆            ┆      │\n",
       "╞══════════╪═══════════╪═════════════╪═══════════╪═══╪════════════╪════════════╪════════════╪══════╡\n",
       "│ 480001   ┆ Water     ┆ 2           ┆ 83.739797 ┆ … ┆ null       ┆ null       ┆ 409.718222 ┆ null │\n",
       "│ 480001   ┆ Water     ┆ 1           ┆ 21.016423 ┆ … ┆ null       ┆ null       ┆ 410.476513 ┆ null │\n",
       "│ 480001   ┆ Oil       ┆ 2           ┆ 98.825588 ┆ … ┆ null       ┆ null       ┆ 406.099328 ┆ null │\n",
       "│ 480001   ┆ Oil       ┆ 1           ┆ 81.727208 ┆ … ┆ null       ┆ null       ┆ 413.344118 ┆ null │\n",
       "│ 480001   ┆ Oil       ┆ null        ┆ null      ┆ … ┆ null       ┆ null       ┆ null       ┆ 1.0  │\n",
       "│ 480001   ┆ Water     ┆ null        ┆ null      ┆ … ┆ null       ┆ null       ┆ null       ┆ 1.0  │\n",
       "└──────────┴───────────┴─────────────┴───────────┴───┴────────────┴────────────┴────────────┴──────┘"
      ]
     },
     "execution_count": 6,
     "metadata": {},
     "output_type": "execute_result"
    }
   ],
   "source": [
    "#https://docs.pola.rs/py-polars/html/reference/dataframe/api/polars.DataFrame.pivot.html#polars.DataF3rame.pivot\n",
    "\n",
    "values = pl.col(\"value\")\n",
    "columns = pl.col(\"tank_metric\")\n",
    "\n",
    "lf = lf.group_by(\"primo_id\", \"tank_type\", \"tank_number\").agg(values.filter(columns == metric).first().alias(metric) for metric in tank_metrics)\n",
    "lf.collect()"
   ]
  },
  {
   "cell_type": "code",
   "execution_count": 7,
   "metadata": {},
   "outputs": [],
   "source": [
    "null_condition = pl.col(\"tank_number\").is_null()\n",
    "not_null_condition = pl.col(\"tank_number\").is_not_null()\n",
    "\n",
    "null_tanks = lf.filter(null_condition)\n",
    "numbered_tanks = lf.filter(not_null_condition)"
   ]
  },
  {
   "cell_type": "code",
   "execution_count": 8,
   "metadata": {},
   "outputs": [],
   "source": [
    "null_tanks = null_tanks.with_columns(pl.col(\"ID\").alias(\"tank_number\"))\n",
    "null_tanks = null_tanks.drop(\"ID\")\n",
    "null_tanks = null_tanks.with_columns(pl.col(\"tank_number\").cast(pl.UInt8, strict=False))"
   ]
  },
  {
   "cell_type": "code",
   "execution_count": 9,
   "metadata": {},
   "outputs": [
    {
     "data": {
      "text/html": [
       "<div><style>\n",
       ".dataframe > thead > tr,\n",
       ".dataframe > tbody > tr {\n",
       "  text-align: right;\n",
       "  white-space: pre-wrap;\n",
       "}\n",
       "</style>\n",
       "<small>shape: (2, 9)</small><table border=\"1\" class=\"dataframe\"><thead><tr><th>primo_id</th><th>tank_type</th><th>tank_number</th><th>Level</th><th>Volume</th><th>InchesUntilAlarm</th><th>InchesToESD</th><th>TimeUntilESD</th><th>Capacity</th></tr><tr><td>str</td><td>str</td><td>u8</td><td>f64</td><td>f64</td><td>f64</td><td>f64</td><td>f64</td><td>f64</td></tr></thead><tbody><tr><td>&quot;480001&quot;</td><td>&quot;Water&quot;</td><td>1</td><td>null</td><td>null</td><td>173.40877</td><td>null</td><td>null</td><td>null</td></tr><tr><td>&quot;480001&quot;</td><td>&quot;Oil&quot;</td><td>1</td><td>null</td><td>null</td><td>66.518221</td><td>null</td><td>null</td><td>null</td></tr></tbody></table></div>"
      ],
      "text/plain": [
       "shape: (2, 9)\n",
       "┌──────────┬───────────┬─────────────┬───────┬───┬────────────┬────────────┬────────────┬──────────┐\n",
       "│ primo_id ┆ tank_type ┆ tank_number ┆ Level ┆ … ┆ InchesUnti ┆ InchesToES ┆ TimeUntilE ┆ Capacity │\n",
       "│ ---      ┆ ---       ┆ ---         ┆ ---   ┆   ┆ lAlarm     ┆ D          ┆ SD         ┆ ---      │\n",
       "│ str      ┆ str       ┆ u8          ┆ f64   ┆   ┆ ---        ┆ ---        ┆ ---        ┆ f64      │\n",
       "│          ┆           ┆             ┆       ┆   ┆ f64        ┆ f64        ┆ f64        ┆          │\n",
       "╞══════════╪═══════════╪═════════════╪═══════╪═══╪════════════╪════════════╪════════════╪══════════╡\n",
       "│ 480001   ┆ Water     ┆ 1           ┆ null  ┆ … ┆ 173.40877  ┆ null       ┆ null       ┆ null     │\n",
       "│ 480001   ┆ Oil       ┆ 1           ┆ null  ┆ … ┆ 66.518221  ┆ null       ┆ null       ┆ null     │\n",
       "└──────────┴───────────┴─────────────┴───────┴───┴────────────┴────────────┴────────────┴──────────┘"
      ]
     },
     "execution_count": 9,
     "metadata": {},
     "output_type": "execute_result"
    }
   ],
   "source": [
    "null_tanks.collect()"
   ]
  },
  {
   "cell_type": "code",
   "execution_count": 10,
   "metadata": {},
   "outputs": [],
   "source": [
    "joined_lf = numbered_tanks.join(null_tanks, on=[\"primo_id\", \"tank_type\", \"tank_number\"], how=\"left\")"
   ]
  },
  {
   "cell_type": "code",
   "execution_count": 11,
   "metadata": {},
   "outputs": [
    {
     "data": {
      "text/html": [
       "<div><style>\n",
       ".dataframe > thead > tr,\n",
       ".dataframe > tbody > tr {\n",
       "  text-align: right;\n",
       "  white-space: pre-wrap;\n",
       "}\n",
       "</style>\n",
       "<small>shape: (4, 15)</small><table border=\"1\" class=\"dataframe\"><thead><tr><th>primo_id</th><th>tank_type</th><th>tank_number</th><th>Level</th><th>Volume</th><th>InchesUntilAlarm</th><th>InchesToESD</th><th>TimeUntilESD</th><th>Capacity</th><th>Level_right</th><th>Volume_right</th><th>InchesUntilAlarm_right</th><th>InchesToESD_right</th><th>TimeUntilESD_right</th><th>Capacity_right</th></tr><tr><td>str</td><td>str</td><td>u8</td><td>f64</td><td>f64</td><td>f64</td><td>f64</td><td>f64</td><td>f64</td><td>f64</td><td>f64</td><td>f64</td><td>f64</td><td>f64</td><td>f64</td></tr></thead><tbody><tr><td>&quot;480001&quot;</td><td>&quot;Water&quot;</td><td>1</td><td>21.016423</td><td>58.378953</td><td>null</td><td>null</td><td>null</td><td>410.476513</td><td>null</td><td>null</td><td>173.40877</td><td>null</td><td>null</td><td>null</td></tr><tr><td>&quot;480001&quot;</td><td>&quot;Oil&quot;</td><td>2</td><td>98.825588</td><td>274.515522</td><td>null</td><td>null</td><td>null</td><td>406.099328</td><td>null</td><td>null</td><td>null</td><td>null</td><td>null</td><td>null</td></tr><tr><td>&quot;480001&quot;</td><td>&quot;Water&quot;</td><td>2</td><td>83.739797</td><td>232.610547</td><td>null</td><td>null</td><td>null</td><td>409.718222</td><td>null</td><td>null</td><td>null</td><td>null</td><td>null</td><td>null</td></tr><tr><td>&quot;480001&quot;</td><td>&quot;Oil&quot;</td><td>1</td><td>81.727208</td><td>227.020022</td><td>null</td><td>null</td><td>null</td><td>413.344118</td><td>null</td><td>null</td><td>66.518221</td><td>null</td><td>null</td><td>null</td></tr></tbody></table></div>"
      ],
      "text/plain": [
       "shape: (4, 15)\n",
       "┌──────────┬───────────┬───────────┬───────────┬───┬───────────┬───────────┬───────────┬───────────┐\n",
       "│ primo_id ┆ tank_type ┆ tank_numb ┆ Level     ┆ … ┆ InchesUnt ┆ InchesToE ┆ TimeUntil ┆ Capacity_ │\n",
       "│ ---      ┆ ---       ┆ er        ┆ ---       ┆   ┆ ilAlarm_r ┆ SD_right  ┆ ESD_right ┆ right     │\n",
       "│ str      ┆ str       ┆ ---       ┆ f64       ┆   ┆ ight      ┆ ---       ┆ ---       ┆ ---       │\n",
       "│          ┆           ┆ u8        ┆           ┆   ┆ ---       ┆ f64       ┆ f64       ┆ f64       │\n",
       "│          ┆           ┆           ┆           ┆   ┆ f64       ┆           ┆           ┆           │\n",
       "╞══════════╪═══════════╪═══════════╪═══════════╪═══╪═══════════╪═══════════╪═══════════╪═══════════╡\n",
       "│ 480001   ┆ Water     ┆ 1         ┆ 21.016423 ┆ … ┆ 173.40877 ┆ null      ┆ null      ┆ null      │\n",
       "│ 480001   ┆ Oil       ┆ 2         ┆ 98.825588 ┆ … ┆ null      ┆ null      ┆ null      ┆ null      │\n",
       "│ 480001   ┆ Water     ┆ 2         ┆ 83.739797 ┆ … ┆ null      ┆ null      ┆ null      ┆ null      │\n",
       "│ 480001   ┆ Oil       ┆ 1         ┆ 81.727208 ┆ … ┆ 66.518221 ┆ null      ┆ null      ┆ null      │\n",
       "└──────────┴───────────┴───────────┴───────────┴───┴───────────┴───────────┴───────────┴───────────┘"
      ]
     },
     "execution_count": 11,
     "metadata": {},
     "output_type": "execute_result"
    }
   ],
   "source": [
    "joined_lf = joined_lf.drop(\"ID\")\n",
    "joined_lf.collect()"
   ]
  },
  {
   "cell_type": "code",
   "execution_count": 12,
   "metadata": {},
   "outputs": [],
   "source": [
    "joined_lf = joined_lf.with_columns(\n",
    "    pl.col(\"primo_id\"),\n",
    "    pl.col(\"tank_type\"),\n",
    "    pl.col(\"tank_number\"),\n",
    "    pl.coalesce(pl.col(\"Level\"), pl.col(\"Level_right\")).alias(\"Level\"),\n",
    "    pl.coalesce(pl.col(\"Volume\"), pl.col(\"Volume_right\")).alias(\"Volume\"),\n",
    "    pl.coalesce(pl.col(\"InchesToESD\"), pl.col(\"InchesUntilAlarm_right\")).alias(\"InchesToESD\"),\n",
    "    pl.coalesce(pl.col(\"TimeUntilESD\"), pl.col(\"TimeUntilESD_right\")).alias(\"TimeUntilESD\"),\n",
    "    pl.coalesce(pl.col(\"Capacity\"), pl.col(\"Capacity_right\")).alias(\"Capacity\")\n",
    ")\n",
    "\n",
    "joined_lf = joined_lf.drop(\"Level_right\", \"Volume_right\", \"InchesUntilAlarm_right\", \"InchesToESD_right\", \"TimeUntilESD_right\", \"Capacity_right\")\n",
    "joined_lf = joined_lf.drop(\"InchesUntilAlarm\")\n"
   ]
  },
  {
   "cell_type": "code",
   "execution_count": 13,
   "metadata": {},
   "outputs": [
    {
     "data": {
      "text/html": [
       "<div><style>\n",
       ".dataframe > thead > tr,\n",
       ".dataframe > tbody > tr {\n",
       "  text-align: right;\n",
       "  white-space: pre-wrap;\n",
       "}\n",
       "</style>\n",
       "<small>shape: (4, 8)</small><table border=\"1\" class=\"dataframe\"><thead><tr><th>primo_id</th><th>tank_type</th><th>tank_number</th><th>Level</th><th>Volume</th><th>InchesToESD</th><th>TimeUntilESD</th><th>Capacity</th></tr><tr><td>str</td><td>str</td><td>u8</td><td>f64</td><td>f64</td><td>f64</td><td>f64</td><td>f64</td></tr></thead><tbody><tr><td>&quot;480001&quot;</td><td>&quot;Oil&quot;</td><td>1</td><td>81.727208</td><td>227.020022</td><td>66.518221</td><td>null</td><td>413.344118</td></tr><tr><td>&quot;480001&quot;</td><td>&quot;Oil&quot;</td><td>2</td><td>98.825588</td><td>274.515522</td><td>null</td><td>null</td><td>406.099328</td></tr><tr><td>&quot;480001&quot;</td><td>&quot;Water&quot;</td><td>1</td><td>21.016423</td><td>58.378953</td><td>173.40877</td><td>null</td><td>410.476513</td></tr><tr><td>&quot;480001&quot;</td><td>&quot;Water&quot;</td><td>2</td><td>83.739797</td><td>232.610547</td><td>null</td><td>null</td><td>409.718222</td></tr></tbody></table></div>"
      ],
      "text/plain": [
       "shape: (4, 8)\n",
       "┌──────────┬───────────┬────────────┬───────────┬────────────┬────────────┬────────────┬───────────┐\n",
       "│ primo_id ┆ tank_type ┆ tank_numbe ┆ Level     ┆ Volume     ┆ InchesToES ┆ TimeUntilE ┆ Capacity  │\n",
       "│ ---      ┆ ---       ┆ r          ┆ ---       ┆ ---        ┆ D          ┆ SD         ┆ ---       │\n",
       "│ str      ┆ str       ┆ ---        ┆ f64       ┆ f64        ┆ ---        ┆ ---        ┆ f64       │\n",
       "│          ┆           ┆ u8         ┆           ┆            ┆ f64        ┆ f64        ┆           │\n",
       "╞══════════╪═══════════╪════════════╪═══════════╪════════════╪════════════╪════════════╪═══════════╡\n",
       "│ 480001   ┆ Oil       ┆ 1          ┆ 81.727208 ┆ 227.020022 ┆ 66.518221  ┆ null       ┆ 413.34411 │\n",
       "│          ┆           ┆            ┆           ┆            ┆            ┆            ┆ 8         │\n",
       "│ 480001   ┆ Oil       ┆ 2          ┆ 98.825588 ┆ 274.515522 ┆ null       ┆ null       ┆ 406.09932 │\n",
       "│          ┆           ┆            ┆           ┆            ┆            ┆            ┆ 8         │\n",
       "│ 480001   ┆ Water     ┆ 1          ┆ 21.016423 ┆ 58.378953  ┆ 173.40877  ┆ null       ┆ 410.47651 │\n",
       "│          ┆           ┆            ┆           ┆            ┆            ┆            ┆ 3         │\n",
       "│ 480001   ┆ Water     ┆ 2          ┆ 83.739797 ┆ 232.610547 ┆ null       ┆ null       ┆ 409.71822 │\n",
       "│          ┆           ┆            ┆           ┆            ┆            ┆            ┆ 2         │\n",
       "└──────────┴───────────┴────────────┴───────────┴────────────┴────────────┴────────────┴───────────┘"
      ]
     },
     "execution_count": 13,
     "metadata": {},
     "output_type": "execute_result"
    }
   ],
   "source": [
    "joined_lf = joined_lf.sort(\"primo_id\", \"tank_type\", \"tank_number\")\n",
    "joined_lf.collect()"
   ]
  },
  {
   "cell_type": "code",
   "execution_count": 14,
   "metadata": {},
   "outputs": [
    {
     "data": {
      "text/plain": [
       "[{'primo_id': '480001',\n",
       "  'tank_type': 'Oil',\n",
       "  'tank_number': 1,\n",
       "  'Level': 81.72720798516754,\n",
       "  'Volume': 227.02002219918253,\n",
       "  'InchesToESD': 66.51822085848261,\n",
       "  'TimeUntilESD': None,\n",
       "  'Capacity': 413.3441179158123,\n",
       "  'ID': None},\n",
       " {'primo_id': '480001',\n",
       "  'tank_type': 'Oil',\n",
       "  'tank_number': 2,\n",
       "  'Level': 98.8255878510396,\n",
       "  'Volume': 274.51552183040457,\n",
       "  'InchesToESD': None,\n",
       "  'TimeUntilESD': None,\n",
       "  'Capacity': 406.0993284457526,\n",
       "  'ID': None},\n",
       " {'primo_id': '480001',\n",
       "  'tank_type': 'Water',\n",
       "  'tank_number': 1,\n",
       "  'Level': 21.016423102141978,\n",
       "  'Volume': 58.37895306617581,\n",
       "  'InchesToESD': 173.40877049684963,\n",
       "  'TimeUntilESD': None,\n",
       "  'Capacity': 410.47651296829395,\n",
       "  'ID': None},\n",
       " {'primo_id': '480001',\n",
       "  'tank_type': 'Water',\n",
       "  'tank_number': 2,\n",
       "  'Level': 83.73979690380081,\n",
       "  'Volume': 232.6105469736111,\n",
       "  'InchesToESD': None,\n",
       "  'TimeUntilESD': None,\n",
       "  'Capacity': 409.7182218610325,\n",
       "  'ID': None}]"
      ]
     },
     "execution_count": 14,
     "metadata": {},
     "output_type": "execute_result"
    }
   ],
   "source": [
    "from src.main import transform_tank_data\n",
    "\n",
    "req = GetTanksReq(primo_ids={\"480001\"})\n",
    "\n",
    "df = await fetch_tank_data(req)\n",
    "df = transform_tank_data(df)\n",
    "if df is None:\n",
    "    raise ValueError(\"df is None\")\n",
    "df"
   ]
  }
 ],
 "metadata": {
  "kernelspec": {
   "display_name": "tank-project-9-HCZibD-py3.12",
   "language": "python",
   "name": "python3"
  },
  "language_info": {
   "codemirror_mode": {
    "name": "ipython",
    "version": 3
   },
   "file_extension": ".py",
   "mimetype": "text/x-python",
   "name": "python",
   "nbconvert_exporter": "python",
   "pygments_lexer": "ipython3",
   "version": "3.12.2"
  }
 },
 "nbformat": 4,
 "nbformat_minor": 2
}
