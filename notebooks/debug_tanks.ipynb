{
 "cells": [
  {
   "cell_type": "code",
   "execution_count": 1,
   "metadata": {},
   "outputs": [
    {
     "data": {
      "text/html": [
       "<div><style>\n",
       ".dataframe > thead > tr,\n",
       ".dataframe > tbody > tr {\n",
       "  text-align: right;\n",
       "  white-space: pre-wrap;\n",
       "}\n",
       "</style>\n",
       "<small>shape: (22, 8)</small><table border=\"1\" class=\"dataframe\"><thead><tr><th>unique_id</th><th>property_id</th><th>source_key</th><th>metric_nice_name</th><th>uom</th><th>timestamp</th><th>value</th><th>tanksize</th></tr><tr><td>object</td><td>str</td><td>str</td><td>str</td><td>str</td><td>datetime[μs]</td><td>f64</td><td>f64</td></tr></thead><tbody><tr><td>0046e74d-807d-4dc3-832f-50e81fc585a1</td><td>&quot;11009&quot;</td><td>&quot;11009FAC&quot;</td><td>&quot;ESD-OilTankInchesUntilAlarm&quot;</td><td>&quot;in&quot;</td><td>2024-08-29 15:49:58.875497</td><td>270.015925</td><td>null</td></tr><tr><td>00df10ed-9159-4b71-b564-0cb0b14dfa07</td><td>&quot;11009&quot;</td><td>&quot;11009W1&quot;</td><td>&quot;WaterTank1Volume&quot;</td><td>&quot;bbl&quot;</td><td>2024-08-29 15:02:32.480785</td><td>345.259648</td><td>832.309683</td></tr><tr><td>0284e85b-a66d-4deb-b26b-898e73525f34</td><td>&quot;11009&quot;</td><td>&quot;1100905&quot;</td><td>&quot;OilTank5Volume&quot;</td><td>&quot;bbl&quot;</td><td>2024-08-29 11:56:12.578042</td><td>351.646441</td><td>594.738209</td></tr><tr><td>028aa180-e62d-4079-9b7b-8020a093c4cb</td><td>&quot;11009&quot;</td><td>&quot;11009W2&quot;</td><td>&quot;WaterTank2Volume&quot;</td><td>&quot;bbl&quot;</td><td>2024-08-29 08:09:43.832419</td><td>346.863257</td><td>653.644903</td></tr><tr><td>12129608-bf60-4cf9-a056-872d4494001f</td><td>&quot;11009&quot;</td><td>&quot;1100903&quot;</td><td>&quot;OilTank3Volume&quot;</td><td>&quot;bbl&quot;</td><td>2024-08-29 16:06:31.381841</td><td>341.268066</td><td>455.738209</td></tr><tr><td>&hellip;</td><td>&hellip;</td><td>&hellip;</td><td>&hellip;</td><td>&hellip;</td><td>&hellip;</td><td>&hellip;</td><td>&hellip;</td></tr><tr><td>b50f29bd-b5a2-4194-a465-5cc630910860</td><td>&quot;11009&quot;</td><td>&quot;1100906&quot;</td><td>&quot;OilTank6Level&quot;</td><td>&quot;in&quot;</td><td>2024-08-29 17:03:44.224613</td><td>82.921132</td><td>594.483209</td></tr><tr><td>c7105e6f-8a8e-4b3d-872d-ed2072f4a655</td><td>&quot;11009&quot;</td><td>&quot;1100902&quot;</td><td>&quot;OilTank2Level&quot;</td><td>&quot;in&quot;</td><td>2024-08-29 05:11:34.923631</td><td>82.691424</td><td>531.081137</td></tr><tr><td>d6589a9f-f49b-4304-afcb-909c6cf38ba2</td><td>&quot;11009&quot;</td><td>&quot;1100901&quot;</td><td>&quot;OilTank1Volume&quot;</td><td>&quot;bbl&quot;</td><td>2024-08-29 11:41:36.209056</td><td>351.760979</td><td>479.54315</td></tr><tr><td>e427e0f4-55fc-4af9-93e7-b77c206a2b11</td><td>&quot;11009&quot;</td><td>&quot;1100903&quot;</td><td>&quot;OilTank3Level&quot;</td><td>&quot;in&quot;</td><td>2024-08-28 22:20:34.568712</td><td>79.202608</td><td>455.738209</td></tr><tr><td>ec846e9e-1741-4044-8382-a7e1ec4ef4fb</td><td>&quot;11009&quot;</td><td>&quot;1100902&quot;</td><td>&quot;OilTank2Volume&quot;</td><td>&quot;bbl&quot;</td><td>2024-08-29 09:30:47.351412</td><td>350.138454</td><td>531.081137</td></tr></tbody></table></div>"
      ],
      "text/plain": [
       "shape: (22, 8)\n",
       "┌─────────────┬─────────────┬────────────┬────────────┬─────┬────────────┬────────────┬────────────┐\n",
       "│ unique_id   ┆ property_id ┆ source_key ┆ metric_nic ┆ uom ┆ timestamp  ┆ value      ┆ tanksize   │\n",
       "│ ---         ┆ ---         ┆ ---        ┆ e_name     ┆ --- ┆ ---        ┆ ---        ┆ ---        │\n",
       "│ object      ┆ str         ┆ str        ┆ ---        ┆ str ┆ datetime[μ ┆ f64        ┆ f64        │\n",
       "│             ┆             ┆            ┆ str        ┆     ┆ s]         ┆            ┆            │\n",
       "╞═════════════╪═════════════╪════════════╪════════════╪═════╪════════════╪════════════╪════════════╡\n",
       "│ 0046e74d-80 ┆ 11009       ┆ 11009FAC   ┆ ESD-OilTan ┆ in  ┆ 2024-08-29 ┆ 270.015925 ┆ null       │\n",
       "│ 7d-4dc3-832 ┆             ┆            ┆ kInchesUnt ┆     ┆ 15:49:58.8 ┆            ┆            │\n",
       "│ f-50e81f…   ┆             ┆            ┆ ilAlarm    ┆     ┆ 75497      ┆            ┆            │\n",
       "│ 00df10ed-91 ┆ 11009       ┆ 11009W1    ┆ WaterTank1 ┆ bbl ┆ 2024-08-29 ┆ 345.259648 ┆ 832.309683 │\n",
       "│ 59-4b71-b56 ┆             ┆            ┆ Volume     ┆     ┆ 15:02:32.4 ┆            ┆            │\n",
       "│ 4-0cb0b1…   ┆             ┆            ┆            ┆     ┆ 80785      ┆            ┆            │\n",
       "│ 0284e85b-a6 ┆ 11009       ┆ 1100905    ┆ OilTank5Vo ┆ bbl ┆ 2024-08-29 ┆ 351.646441 ┆ 594.738209 │\n",
       "│ 6d-4deb-b26 ┆             ┆            ┆ lume       ┆     ┆ 11:56:12.5 ┆            ┆            │\n",
       "│ b-898e73…   ┆             ┆            ┆            ┆     ┆ 78042      ┆            ┆            │\n",
       "│ 028aa180-e6 ┆ 11009       ┆ 11009W2    ┆ WaterTank2 ┆ bbl ┆ 2024-08-29 ┆ 346.863257 ┆ 653.644903 │\n",
       "│ 2d-4079-9b7 ┆             ┆            ┆ Volume     ┆     ┆ 08:09:43.8 ┆            ┆            │\n",
       "│ b-8020a0…   ┆             ┆            ┆            ┆     ┆ 32419      ┆            ┆            │\n",
       "│ 12129608-bf ┆ 11009       ┆ 1100903    ┆ OilTank3Vo ┆ bbl ┆ 2024-08-29 ┆ 341.268066 ┆ 455.738209 │\n",
       "│ 60-4cf9-a05 ┆             ┆            ┆ lume       ┆     ┆ 16:06:31.3 ┆            ┆            │\n",
       "│ 6-872d44…   ┆             ┆            ┆            ┆     ┆ 81841      ┆            ┆            │\n",
       "│ …           ┆ …           ┆ …          ┆ …          ┆ …   ┆ …          ┆ …          ┆ …          │\n",
       "│ b50f29bd-b5 ┆ 11009       ┆ 1100906    ┆ OilTank6Le ┆ in  ┆ 2024-08-29 ┆ 82.921132  ┆ 594.483209 │\n",
       "│ a2-4194-a46 ┆             ┆            ┆ vel        ┆     ┆ 17:03:44.2 ┆            ┆            │\n",
       "│ 5-5cc630…   ┆             ┆            ┆            ┆     ┆ 24613      ┆            ┆            │\n",
       "│ c7105e6f-8a ┆ 11009       ┆ 1100902    ┆ OilTank2Le ┆ in  ┆ 2024-08-29 ┆ 82.691424  ┆ 531.081137 │\n",
       "│ 8e-4b3d-872 ┆             ┆            ┆ vel        ┆     ┆ 05:11:34.9 ┆            ┆            │\n",
       "│ d-ed2072…   ┆             ┆            ┆            ┆     ┆ 23631      ┆            ┆            │\n",
       "│ d6589a9f-f4 ┆ 11009       ┆ 1100901    ┆ OilTank1Vo ┆ bbl ┆ 2024-08-29 ┆ 351.760979 ┆ 479.54315  │\n",
       "│ 9b-4304-afc ┆             ┆            ┆ lume       ┆     ┆ 11:41:36.2 ┆            ┆            │\n",
       "│ b-909c6c…   ┆             ┆            ┆            ┆     ┆ 09056      ┆            ┆            │\n",
       "│ e427e0f4-55 ┆ 11009       ┆ 1100903    ┆ OilTank3Le ┆ in  ┆ 2024-08-28 ┆ 79.202608  ┆ 455.738209 │\n",
       "│ fc-4af9-93e ┆             ┆            ┆ vel        ┆     ┆ 22:20:34.5 ┆            ┆            │\n",
       "│ 7-b77c20…   ┆             ┆            ┆            ┆     ┆ 68712      ┆            ┆            │\n",
       "│ ec846e9e-17 ┆ 11009       ┆ 1100902    ┆ OilTank2Vo ┆ bbl ┆ 2024-08-29 ┆ 350.138454 ┆ 531.081137 │\n",
       "│ 41-4044-838 ┆             ┆            ┆ lume       ┆     ┆ 09:30:47.3 ┆            ┆            │\n",
       "│ 2-a7e1ec…   ┆             ┆            ┆            ┆     ┆ 51412      ┆            ┆            │\n",
       "└─────────────┴─────────────┴────────────┴────────────┴─────┴────────────┴────────────┴────────────┘"
      ]
     },
     "execution_count": 1,
     "metadata": {},
     "output_type": "execute_result"
    }
   ],
   "source": [
    "import polars as pl\n",
    "from src.main import GetTanksReq, fetch_tank_data\n",
    "\n",
    "req = GetTanksReq(property_ids={\"11009\"})\n",
    "\n",
    "df = await fetch_tank_data(req)\n",
    "if df is None:\n",
    "    raise ValueError(\"df is None\")\n",
    "lf = df.lazy()\n",
    "lf.collect()"
   ]
  },
  {
   "cell_type": "code",
   "execution_count": 3,
   "metadata": {},
   "outputs": [
    {
     "data": {
      "text/html": [
       "<div><style>\n",
       ".dataframe > thead > tr,\n",
       ".dataframe > tbody > tr {\n",
       "  text-align: right;\n",
       "  white-space: pre-wrap;\n",
       "}\n",
       "</style>\n",
       "<small>shape: (9, 10)</small><table border=\"1\" class=\"dataframe\"><thead><tr><th>property_id</th><th>source_key</th><th>tank_type</th><th>tank_number</th><th>level</th><th>volume</th><th>inches_to_esd</th><th>time_until_esd</th><th>capacity</th><th>percent_full</th></tr><tr><td>str</td><td>str</td><td>str</td><td>u8</td><td>f64</td><td>u64</td><td>f64</td><td>f64</td><td>f64</td><td>u8</td></tr></thead><tbody><tr><td>&quot;11009&quot;</td><td>&quot;1100901&quot;</td><td>&quot;Oil&quot;</td><td>1</td><td>83.291167</td><td>352</td><td>null</td><td>null</td><td>480.0</td><td>73</td></tr><tr><td>&quot;11009&quot;</td><td>&quot;1100902&quot;</td><td>&quot;Oil&quot;</td><td>2</td><td>82.691424</td><td>350</td><td>null</td><td>null</td><td>531.0</td><td>66</td></tr><tr><td>&quot;11009&quot;</td><td>&quot;1100903&quot;</td><td>&quot;Oil&quot;</td><td>3</td><td>79.202608</td><td>341</td><td>null</td><td>null</td><td>456.0</td><td>75</td></tr><tr><td>&quot;11009&quot;</td><td>&quot;1100904&quot;</td><td>&quot;Oil&quot;</td><td>4</td><td>84.438585</td><td>349</td><td>270.015925</td><td>null</td><td>535.0</td><td>65</td></tr><tr><td>&quot;11009&quot;</td><td>&quot;1100905&quot;</td><td>&quot;Oil&quot;</td><td>5</td><td>83.172086</td><td>352</td><td>null</td><td>null</td><td>595.0</td><td>59</td></tr><tr><td>&quot;11009&quot;</td><td>&quot;1100906&quot;</td><td>&quot;Oil&quot;</td><td>6</td><td>82.921132</td><td>352</td><td>null</td><td>null</td><td>594.0</td><td>59</td></tr><tr><td>&quot;11009&quot;</td><td>&quot;11009W1&quot;</td><td>&quot;Water&quot;</td><td>1</td><td>84.156545</td><td>345</td><td>265.538665</td><td>null</td><td>832.0</td><td>41</td></tr><tr><td>&quot;11009&quot;</td><td>&quot;11009W2&quot;</td><td>&quot;Water&quot;</td><td>2</td><td>84.370506</td><td>347</td><td>null</td><td>null</td><td>654.0</td><td>53</td></tr><tr><td>&quot;11009&quot;</td><td>&quot;11009W3&quot;</td><td>&quot;Water&quot;</td><td>3</td><td>82.710045</td><td>347</td><td>null</td><td>null</td><td>683.0</td><td>51</td></tr></tbody></table></div>"
      ],
      "text/plain": [
       "shape: (9, 10)\n",
       "┌───────────┬───────────┬───────────┬───────────┬───┬───────────┬───────────┬──────────┬───────────┐\n",
       "│ property_ ┆ source_ke ┆ tank_type ┆ tank_numb ┆ … ┆ inches_to ┆ time_unti ┆ capacity ┆ percent_f │\n",
       "│ id        ┆ y         ┆ ---       ┆ er        ┆   ┆ _esd      ┆ l_esd     ┆ ---      ┆ ull       │\n",
       "│ ---       ┆ ---       ┆ str       ┆ ---       ┆   ┆ ---       ┆ ---       ┆ f64      ┆ ---       │\n",
       "│ str       ┆ str       ┆           ┆ u8        ┆   ┆ f64       ┆ f64       ┆          ┆ u8        │\n",
       "╞═══════════╪═══════════╪═══════════╪═══════════╪═══╪═══════════╪═══════════╪══════════╪═══════════╡\n",
       "│ 11009     ┆ 1100901   ┆ Oil       ┆ 1         ┆ … ┆ null      ┆ null      ┆ 480.0    ┆ 73        │\n",
       "│ 11009     ┆ 1100902   ┆ Oil       ┆ 2         ┆ … ┆ null      ┆ null      ┆ 531.0    ┆ 66        │\n",
       "│ 11009     ┆ 1100903   ┆ Oil       ┆ 3         ┆ … ┆ null      ┆ null      ┆ 456.0    ┆ 75        │\n",
       "│ 11009     ┆ 1100904   ┆ Oil       ┆ 4         ┆ … ┆ 270.01592 ┆ null      ┆ 535.0    ┆ 65        │\n",
       "│           ┆           ┆           ┆           ┆   ┆ 5         ┆           ┆          ┆           │\n",
       "│ 11009     ┆ 1100905   ┆ Oil       ┆ 5         ┆ … ┆ null      ┆ null      ┆ 595.0    ┆ 59        │\n",
       "│ 11009     ┆ 1100906   ┆ Oil       ┆ 6         ┆ … ┆ null      ┆ null      ┆ 594.0    ┆ 59        │\n",
       "│ 11009     ┆ 11009W1   ┆ Water     ┆ 1         ┆ … ┆ 265.53866 ┆ null      ┆ 832.0    ┆ 41        │\n",
       "│           ┆           ┆           ┆           ┆   ┆ 5         ┆           ┆          ┆           │\n",
       "│ 11009     ┆ 11009W2   ┆ Water     ┆ 2         ┆ … ┆ null      ┆ null      ┆ 654.0    ┆ 53        │\n",
       "│ 11009     ┆ 11009W3   ┆ Water     ┆ 3         ┆ … ┆ null      ┆ null      ┆ 683.0    ┆ 51        │\n",
       "└───────────┴───────────┴───────────┴───────────┴───┴───────────┴───────────┴──────────┴───────────┘"
      ]
     },
     "execution_count": 3,
     "metadata": {},
     "output_type": "execute_result"
    }
   ],
   "source": [
    "lf = df.lazy()\n",
    "\n",
    "tank_metrics = [\"Level\", \"Volume\", \"InchesUntilAlarm\", \"InchesToESD\", \"TimeUntilESD\", \"Capacity\", \"ID\"]\n",
    "tank_types = [\"Water\", \"Oil\"]\n",
    "\n",
    "tank_metrics_str= \"|\".join(tank_metrics)\n",
    "tank_types_str = \"|\".join(tank_types)\n",
    "\n",
    "pattern = f\"^(?<is_ESD>ESD-)?(?<tank_type>{tank_types_str})Tank(?<tank_number>[0-9]*)(?<tank_metric>{tank_metrics_str})\"\n",
    "lf = lf.with_columns(\n",
    "    separated_metrics=pl.col(\"metric_nice_name\").str.extract_groups(pattern)\n",
    ")\n",
    "lf = lf.unnest(\"separated_metrics\")\n",
    "\n",
    "lf = lf.with_columns(pl.col(\"tank_number\").cast(pl.UInt8, strict=False))\n",
    "\n",
    "\n",
    "# pivoting the data\n",
    "values = pl.col(\"value\")\n",
    "columns = pl.col(\"tank_metric\")\n",
    "pivoted_lf = lf.group_by(\"property_id\", \"tank_type\", \"tank_number\", \"source_key\").agg(\n",
    "    values.filter(columns == metric).first().alias(metric) for metric in tank_metrics\n",
    ")\n",
    "\n",
    "null_condition = pl.col(\"tank_number\").is_null()\n",
    "not_null_condition = pl.col(\"tank_number\").is_not_null()\n",
    "\n",
    "null_tanks = pivoted_lf.filter(null_condition)\n",
    "numbered_tanks = pivoted_lf.filter(not_null_condition)\n",
    "\n",
    "null_tanks = null_tanks.with_columns(pl.col(\"ID\").alias(\"tank_number\"))\n",
    "null_tanks = null_tanks.drop(\"ID\")\n",
    "null_tanks = null_tanks.with_columns(\n",
    "    pl.col(\"tank_number\").cast(pl.UInt8, strict=False)\n",
    ")\n",
    "\n",
    "joined_lf = numbered_tanks.join(\n",
    "    null_tanks, on=[\"property_id\", \"tank_type\", \"tank_number\"], how=\"left\"\n",
    ")\n",
    "\n",
    "final_lf = joined_lf.join(lf, on=[\"source_key\"], how=\"left\")\n",
    "final_lf = final_lf.group_by(\"property_id\", \"tank_type\", \"tank_number\").agg(\n",
    "    pl.all().first()\n",
    ")\n",
    "\n",
    "final_lf = final_lf.with_columns(\n",
    "    pl.col(\"property_id\"),\n",
    "    pl.col(\"tank_type\"),\n",
    "    pl.col(\"tank_number\"),\n",
    "    pl.coalesce(pl.col(\"Level\"), pl.col(\"Level_right\")).alias(\"level\"),\n",
    "    pl.coalesce(pl.col(\"Volume\"), pl.col(\"Volume_right\")).alias(\"volume\"),\n",
    "    pl.coalesce(pl.col(\"InchesToESD\"), pl.col(\"InchesUntilAlarm_right\")).alias(\n",
    "        \"inches_to_esd\"\n",
    "    ),\n",
    "    pl.coalesce(pl.col(\"TimeUntilESD\"), pl.col(\"TimeUntilESD_right\")).alias(\n",
    "        \"time_until_esd\"\n",
    "    ),\n",
    "    pl.coalesce(pl.col(\"Capacity\"), pl.col(\"tanksize\")).alias(\"capacity\"),\n",
    "    pl.coalesce(pl.col(\"unique_id\")).alias(\"unique_id\")\n",
    ")\n",
    "\n",
    "required_columns = [\n",
    "    \"property_id\",\n",
    "    \"source_key\",\n",
    "    \"tank_type\",\n",
    "    \"tank_number\",\n",
    "    \"level\",\n",
    "    \"volume\",\n",
    "    \"inches_to_esd\",\n",
    "    \"time_until_esd\",\n",
    "    \"capacity\",\n",
    "]\n",
    "final_lf = final_lf.select(required_columns)\n",
    "\n",
    "final_lf = final_lf.sort(\"property_id\", \"tank_type\", \"tank_number\")\n",
    "\n",
    "percent_tank_full = (\n",
    "    (pl.col(\"volume\") / pl.col(\"capacity\") * 100).round().cast(pl.UInt8)\n",
    ")\n",
    "final_lf = final_lf.with_columns(percent_tank_full.alias(\"percent_full\"))\n",
    "\n",
    "capacity_rounded = pl.col(\"capacity\").round()\n",
    "final_lf = final_lf.with_columns(capacity_rounded.alias(\"capacity\"))\n",
    "\n",
    "volume_to_feet = pl.col(\"volume\").round().cast(pl.UInt64)\n",
    "final_lf = final_lf.with_columns(volume_to_feet.alias(\"volume\"))\n",
    "\n",
    "result = final_lf.collect()\n",
    "result"
   ]
  },
  {
   "cell_type": "code",
   "execution_count": null,
   "metadata": {},
   "outputs": [],
   "source": [
    "lf = df.lazy()\n",
    "\n",
    "tank_metrics = [\"Level\", \"Volume\", \"InchesUntilAlarm\", \"InchesToESD\", \"TimeUntilESD\", \"Capacity\", \"ID\"]\n",
    "tank_types = [\"Water\", \"Oil\"]\n",
    "\n",
    "tank_metrics_str= \"|\".join(tank_metrics)\n",
    "tank_types_str = \"|\".join(tank_types)\n",
    "\n",
    "pattern = f'^(?<is_esd>ESD-)?(?<tank_type>{tank_types_str})Tank(?<tank_number>[0-9]*)(?<tank_metric>{tank_metrics_str})'\n",
    "lf = lf.with_columns(separated_metrics = pl.col(\"tank_name\").str.extract_groups(pattern))\n",
    "\n",
    "lf = lf.unnest(\"separated_metrics\")\n",
    "\n",
    "lf = lf.with_columns(pl.col(\"tank_number\").cast(pl.UInt8, strict=False))\n",
    "\n",
    "values = pl.col(\"value\")\n",
    "columns = pl.col(\"tank_metric\")\n",
    "pivoted_lf = lf.group_by(\"property_id\", \"tank_type\", \"tank_number\", \"source_key\", \"unique_id\").agg(\n",
    "    values.filter(columns == metric).first().alias(metric) for metric in tank_metrics\n",
    ")\n",
    "\n",
    "null_condition = pl.col(\"tank_number\").is_null()\n",
    "not_null_condition = pl.col(\"tank_number\").is_not_null()\n",
    "\n",
    "null_tanks = pivoted_lf.filter(null_condition)\n",
    "numbered_tanks = pivoted_lf.filter(not_null_condition)\n",
    "\n",
    "null_tanks = null_tanks.with_columns(pl.col(\"ID\").alias(\"tank_number\"))\n",
    "null_tanks = null_tanks.drop(\"ID\")\n",
    "null_tanks = null_tanks.with_columns(pl.col(\"tank_number\").cast(pl.UInt8, strict=False))\n",
    "\n",
    "numbered_tanks = numbered_tanks.with_columns(pl.col(\"unique_id\").alias(\"identifier\"))\n",
    "numbered_tanks = numbered_tanks.drop(\"unique_id\")\n",
    "\n",
    "null_tanks_merged = null_tanks.group_by([\"property_id\", \"tank_type\", \"source_key\"]).agg(\n",
    "    [\n",
    "        pl.col(\"tank_number\").max(),  # Use max or min to fill missing values\n",
    "        pl.col(\"unique_id\").last(),  # Use first() or last() for string-like columns\n",
    "        pl.col(\"Level\").max(),\n",
    "        pl.col(\"Volume\").max(),\n",
    "        pl.col(\"InchesUntilAlarm\").max(),\n",
    "        pl.col(\"InchesToESD\").max(),\n",
    "        pl.col(\"TimeUntilESD\").max(),\n",
    "        pl.col(\"Capacity\").max(),\n",
    "    ]\n",
    ")\n",
    "\n",
    "joined_lf = numbered_tanks.join(null_tanks_merged, on=[\"property_id\", \"tank_type\", \"tank_number\"], how=\"left\")\n",
    "\n",
    "final_lf = joined_lf.join(lf, on=[\"source_key\"], how=\"left\")\n",
    "\n",
    "final_lf = final_lf.with_columns(\n",
    "    pl.col(\"unique_id\").alias(\"identifier\"),\n",
    "    pl.col(\"property_id\"),\n",
    "    pl.col(\"tank_type\"),\n",
    "    pl.col(\"tank_number\"),\n",
    "    pl.coalesce(pl.col(\"Level\"), pl.col(\"Level_right\")).alias(\"level\"),\n",
    "    pl.coalesce(pl.col(\"Volume\"), pl.col(\"Volume_right\")).alias(\"volume\"),\n",
    "    pl.coalesce(pl.col(\"InchesToESD\"), pl.col(\"InchesUntilAlarm_right\")).alias(\"inches_to_esd\"),\n",
    "    pl.coalesce(pl.col(\"TimeUntilESD\"), pl.col(\"TimeUntilESD_right\")).alias(\"time_until_esd\"),\n",
    "    pl.coalesce(pl.col(\"Capacity\"), pl.col(\"tanksize\")).alias(\"capacity\")\n",
    ")\n",
    "\n",
    "required_columns = [\"identifier\", \"property_id\", \"source_key\", \"tank_type\", \"tank_number\", \"level\", \"volume\", \"inches_to_esd\", \"time_until_esd\", \"capacity\"]\n",
    "final_lf = final_lf.select(required_columns)\n",
    "\n",
    "final_lf = final_lf.sort(\"property_id\", \"tank_type\", \"tank_number\")\n",
    "\n",
    "percent_tank_full = (pl.col(\"volume\") / pl.col(\"capacity\") * 100).round().cast(pl.UInt8)\n",
    "final_lf = final_lf.with_columns(percent_tank_full.alias(\"percent_full\"))\n",
    "\n",
    "capacity_rounded = pl.col(\"capacity\").round()\n",
    "final_lf = final_lf.with_columns(capacity_rounded.alias(\"capacity\"))\n",
    "\n",
    "volume_to_feet = pl.col(\"volume\").round().cast(pl.UInt64)\n",
    "\n",
    "final_lf = final_lf.with_columns(volume_to_feet.alias(\"volume\"))\n",
    "\n",
    "result = final_lf.group_by([\"property_id\", \"source_key\", \"tank_type\", \"tank_number\"]).agg(\n",
    "    [\n",
    "        pl.col(\"identifier\").first(),  # Use first() or last() for non-numeric columns\n",
    "        pl.col(\"level\").max(),  # Use max() to get the highest value (fill missing)\n",
    "        pl.col(\"volume\").max(),\n",
    "        pl.col(\"inches_to_esd\").max(),\n",
    "        pl.col(\"time_until_esd\").max(),\n",
    "        pl.col(\"capacity\").max(),\n",
    "        pl.col(\"percent_full\").max(),\n",
    "    ]\n",
    ")\n",
    "\n",
    "result = result.sort(\"property_id\", \"tank_type\", \"tank_number\")\n",
    "result = result.select([\"identifier\", \"property_id\", \"source_key\", \"tank_type\", \"tank_number\", \"level\", \"volume\", \"inches_to_esd\", \"time_until_esd\", \"capacity\", \"percent_full\"])\n",
    "result = result.with_columns(pl.col(\"identifier\").map_elements(lambda x: str(x) if x is not None else None, return_dtype=pl.Utf8).alias(\"identifier\"))\n",
    "result.collect()\n"
   ]
  },
  {
   "cell_type": "code",
   "execution_count": 2,
   "metadata": {},
   "outputs": [],
   "source": [
    "lf = df.lazy()\n"
   ]
  },
  {
   "cell_type": "code",
   "execution_count": 3,
   "metadata": {},
   "outputs": [
    {
     "data": {
      "text/html": [
       "<div><style>\n",
       ".dataframe > thead > tr,\n",
       ".dataframe > tbody > tr {\n",
       "  text-align: right;\n",
       "  white-space: pre-wrap;\n",
       "}\n",
       "</style>\n",
       "<small>shape: (22, 7)</small><table border=\"1\" class=\"dataframe\"><thead><tr><th>property_id</th><th>source_key</th><th>metric_nice_name</th><th>uom</th><th>timestamp</th><th>value</th><th>tanksize</th></tr><tr><td>str</td><td>str</td><td>str</td><td>str</td><td>datetime[μs]</td><td>f64</td><td>f64</td></tr></thead><tbody><tr><td>&quot;11009&quot;</td><td>&quot;11009FAC&quot;</td><td>&quot;ESD-OilTankInchesUntilAlarm&quot;</td><td>&quot;in&quot;</td><td>2024-08-29 15:49:58.875497</td><td>270.015925</td><td>null</td></tr><tr><td>&quot;11009&quot;</td><td>&quot;11009W1&quot;</td><td>&quot;WaterTank1Volume&quot;</td><td>&quot;bbl&quot;</td><td>2024-08-29 15:02:32.480785</td><td>345.259648</td><td>832.309683</td></tr><tr><td>&quot;11009&quot;</td><td>&quot;1100905&quot;</td><td>&quot;OilTank5Volume&quot;</td><td>&quot;bbl&quot;</td><td>2024-08-29 11:56:12.578042</td><td>351.646441</td><td>594.738209</td></tr><tr><td>&quot;11009&quot;</td><td>&quot;11009W2&quot;</td><td>&quot;WaterTank2Volume&quot;</td><td>&quot;bbl&quot;</td><td>2024-08-29 08:09:43.832419</td><td>346.863257</td><td>653.644903</td></tr><tr><td>&quot;11009&quot;</td><td>&quot;1100903&quot;</td><td>&quot;OilTank3Volume&quot;</td><td>&quot;bbl&quot;</td><td>2024-08-29 16:06:31.381841</td><td>341.268066</td><td>455.738209</td></tr><tr><td>&hellip;</td><td>&hellip;</td><td>&hellip;</td><td>&hellip;</td><td>&hellip;</td><td>&hellip;</td><td>&hellip;</td></tr><tr><td>&quot;11009&quot;</td><td>&quot;1100906&quot;</td><td>&quot;OilTank6Level&quot;</td><td>&quot;in&quot;</td><td>2024-08-29 17:03:44.224613</td><td>82.921132</td><td>594.483209</td></tr><tr><td>&quot;11009&quot;</td><td>&quot;1100902&quot;</td><td>&quot;OilTank2Level&quot;</td><td>&quot;in&quot;</td><td>2024-08-29 05:11:34.923631</td><td>82.691424</td><td>531.081137</td></tr><tr><td>&quot;11009&quot;</td><td>&quot;1100901&quot;</td><td>&quot;OilTank1Volume&quot;</td><td>&quot;bbl&quot;</td><td>2024-08-29 11:41:36.209056</td><td>351.760979</td><td>479.54315</td></tr><tr><td>&quot;11009&quot;</td><td>&quot;1100903&quot;</td><td>&quot;OilTank3Level&quot;</td><td>&quot;in&quot;</td><td>2024-08-28 22:20:34.568712</td><td>79.202608</td><td>455.738209</td></tr><tr><td>&quot;11009&quot;</td><td>&quot;1100902&quot;</td><td>&quot;OilTank2Volume&quot;</td><td>&quot;bbl&quot;</td><td>2024-08-29 09:30:47.351412</td><td>350.138454</td><td>531.081137</td></tr></tbody></table></div>"
      ],
      "text/plain": [
       "shape: (22, 7)\n",
       "┌─────────────┬────────────┬───────────────────┬─────┬───────────────────┬────────────┬────────────┐\n",
       "│ property_id ┆ source_key ┆ metric_nice_name  ┆ uom ┆ timestamp         ┆ value      ┆ tanksize   │\n",
       "│ ---         ┆ ---        ┆ ---               ┆ --- ┆ ---               ┆ ---        ┆ ---        │\n",
       "│ str         ┆ str        ┆ str               ┆ str ┆ datetime[μs]      ┆ f64        ┆ f64        │\n",
       "╞═════════════╪════════════╪═══════════════════╪═════╪═══════════════════╪════════════╪════════════╡\n",
       "│ 11009       ┆ 11009FAC   ┆ ESD-OilTankInches ┆ in  ┆ 2024-08-29        ┆ 270.015925 ┆ null       │\n",
       "│             ┆            ┆ UntilAlarm        ┆     ┆ 15:49:58.875497   ┆            ┆            │\n",
       "│ 11009       ┆ 11009W1    ┆ WaterTank1Volume  ┆ bbl ┆ 2024-08-29        ┆ 345.259648 ┆ 832.309683 │\n",
       "│             ┆            ┆                   ┆     ┆ 15:02:32.480785   ┆            ┆            │\n",
       "│ 11009       ┆ 1100905    ┆ OilTank5Volume    ┆ bbl ┆ 2024-08-29        ┆ 351.646441 ┆ 594.738209 │\n",
       "│             ┆            ┆                   ┆     ┆ 11:56:12.578042   ┆            ┆            │\n",
       "│ 11009       ┆ 11009W2    ┆ WaterTank2Volume  ┆ bbl ┆ 2024-08-29        ┆ 346.863257 ┆ 653.644903 │\n",
       "│             ┆            ┆                   ┆     ┆ 08:09:43.832419   ┆            ┆            │\n",
       "│ 11009       ┆ 1100903    ┆ OilTank3Volume    ┆ bbl ┆ 2024-08-29        ┆ 341.268066 ┆ 455.738209 │\n",
       "│             ┆            ┆                   ┆     ┆ 16:06:31.381841   ┆            ┆            │\n",
       "│ …           ┆ …          ┆ …                 ┆ …   ┆ …                 ┆ …          ┆ …          │\n",
       "│ 11009       ┆ 1100906    ┆ OilTank6Level     ┆ in  ┆ 2024-08-29        ┆ 82.921132  ┆ 594.483209 │\n",
       "│             ┆            ┆                   ┆     ┆ 17:03:44.224613   ┆            ┆            │\n",
       "│ 11009       ┆ 1100902    ┆ OilTank2Level     ┆ in  ┆ 2024-08-29        ┆ 82.691424  ┆ 531.081137 │\n",
       "│             ┆            ┆                   ┆     ┆ 05:11:34.923631   ┆            ┆            │\n",
       "│ 11009       ┆ 1100901    ┆ OilTank1Volume    ┆ bbl ┆ 2024-08-29        ┆ 351.760979 ┆ 479.54315  │\n",
       "│             ┆            ┆                   ┆     ┆ 11:41:36.209056   ┆            ┆            │\n",
       "│ 11009       ┆ 1100903    ┆ OilTank3Level     ┆ in  ┆ 2024-08-28        ┆ 79.202608  ┆ 455.738209 │\n",
       "│             ┆            ┆                   ┆     ┆ 22:20:34.568712   ┆            ┆            │\n",
       "│ 11009       ┆ 1100902    ┆ OilTank2Volume    ┆ bbl ┆ 2024-08-29        ┆ 350.138454 ┆ 531.081137 │\n",
       "│             ┆            ┆                   ┆     ┆ 09:30:47.351412   ┆            ┆            │\n",
       "└─────────────┴────────────┴───────────────────┴─────┴───────────────────┴────────────┴────────────┘"
      ]
     },
     "execution_count": 3,
     "metadata": {},
     "output_type": "execute_result"
    }
   ],
   "source": [
    "lf = lf.drop(\"unique_id\")\n",
    "lf.collect()"
   ]
  },
  {
   "cell_type": "code",
   "execution_count": 4,
   "metadata": {},
   "outputs": [
    {
     "data": {
      "text/html": [
       "<div><style>\n",
       ".dataframe > thead > tr,\n",
       ".dataframe > tbody > tr {\n",
       "  text-align: right;\n",
       "  white-space: pre-wrap;\n",
       "}\n",
       "</style>\n",
       "<small>shape: (22, 8)</small><table border=\"1\" class=\"dataframe\"><thead><tr><th>property_id</th><th>source_key</th><th>metric_nice_name</th><th>uom</th><th>timestamp</th><th>value</th><th>tanksize</th><th>separated_metrics</th></tr><tr><td>str</td><td>str</td><td>str</td><td>str</td><td>datetime[μs]</td><td>f64</td><td>f64</td><td>struct[4]</td></tr></thead><tbody><tr><td>&quot;11009&quot;</td><td>&quot;11009FAC&quot;</td><td>&quot;ESD-OilTankInchesUntilAlarm&quot;</td><td>&quot;in&quot;</td><td>2024-08-29 15:49:58.875497</td><td>270.015925</td><td>null</td><td>{&quot;ESD-&quot;,&quot;Oil&quot;,&quot;&quot;,&quot;InchesUntilAlarm&quot;}</td></tr><tr><td>&quot;11009&quot;</td><td>&quot;11009W1&quot;</td><td>&quot;WaterTank1Volume&quot;</td><td>&quot;bbl&quot;</td><td>2024-08-29 15:02:32.480785</td><td>345.259648</td><td>832.309683</td><td>{null,&quot;Water&quot;,&quot;1&quot;,&quot;Volume&quot;}</td></tr><tr><td>&quot;11009&quot;</td><td>&quot;1100905&quot;</td><td>&quot;OilTank5Volume&quot;</td><td>&quot;bbl&quot;</td><td>2024-08-29 11:56:12.578042</td><td>351.646441</td><td>594.738209</td><td>{null,&quot;Oil&quot;,&quot;5&quot;,&quot;Volume&quot;}</td></tr><tr><td>&quot;11009&quot;</td><td>&quot;11009W2&quot;</td><td>&quot;WaterTank2Volume&quot;</td><td>&quot;bbl&quot;</td><td>2024-08-29 08:09:43.832419</td><td>346.863257</td><td>653.644903</td><td>{null,&quot;Water&quot;,&quot;2&quot;,&quot;Volume&quot;}</td></tr><tr><td>&quot;11009&quot;</td><td>&quot;1100903&quot;</td><td>&quot;OilTank3Volume&quot;</td><td>&quot;bbl&quot;</td><td>2024-08-29 16:06:31.381841</td><td>341.268066</td><td>455.738209</td><td>{null,&quot;Oil&quot;,&quot;3&quot;,&quot;Volume&quot;}</td></tr><tr><td>&hellip;</td><td>&hellip;</td><td>&hellip;</td><td>&hellip;</td><td>&hellip;</td><td>&hellip;</td><td>&hellip;</td><td>&hellip;</td></tr><tr><td>&quot;11009&quot;</td><td>&quot;1100906&quot;</td><td>&quot;OilTank6Level&quot;</td><td>&quot;in&quot;</td><td>2024-08-29 17:03:44.224613</td><td>82.921132</td><td>594.483209</td><td>{null,&quot;Oil&quot;,&quot;6&quot;,&quot;Level&quot;}</td></tr><tr><td>&quot;11009&quot;</td><td>&quot;1100902&quot;</td><td>&quot;OilTank2Level&quot;</td><td>&quot;in&quot;</td><td>2024-08-29 05:11:34.923631</td><td>82.691424</td><td>531.081137</td><td>{null,&quot;Oil&quot;,&quot;2&quot;,&quot;Level&quot;}</td></tr><tr><td>&quot;11009&quot;</td><td>&quot;1100901&quot;</td><td>&quot;OilTank1Volume&quot;</td><td>&quot;bbl&quot;</td><td>2024-08-29 11:41:36.209056</td><td>351.760979</td><td>479.54315</td><td>{null,&quot;Oil&quot;,&quot;1&quot;,&quot;Volume&quot;}</td></tr><tr><td>&quot;11009&quot;</td><td>&quot;1100903&quot;</td><td>&quot;OilTank3Level&quot;</td><td>&quot;in&quot;</td><td>2024-08-28 22:20:34.568712</td><td>79.202608</td><td>455.738209</td><td>{null,&quot;Oil&quot;,&quot;3&quot;,&quot;Level&quot;}</td></tr><tr><td>&quot;11009&quot;</td><td>&quot;1100902&quot;</td><td>&quot;OilTank2Volume&quot;</td><td>&quot;bbl&quot;</td><td>2024-08-29 09:30:47.351412</td><td>350.138454</td><td>531.081137</td><td>{null,&quot;Oil&quot;,&quot;2&quot;,&quot;Volume&quot;}</td></tr></tbody></table></div>"
      ],
      "text/plain": [
       "shape: (22, 8)\n",
       "┌─────────────┬────────────┬─────────────┬─────┬────────────┬────────────┬────────────┬────────────┐\n",
       "│ property_id ┆ source_key ┆ metric_nice ┆ uom ┆ timestamp  ┆ value      ┆ tanksize   ┆ separated_ │\n",
       "│ ---         ┆ ---        ┆ _name       ┆ --- ┆ ---        ┆ ---        ┆ ---        ┆ metrics    │\n",
       "│ str         ┆ str        ┆ ---         ┆ str ┆ datetime[μ ┆ f64        ┆ f64        ┆ ---        │\n",
       "│             ┆            ┆ str         ┆     ┆ s]         ┆            ┆            ┆ struct[4]  │\n",
       "╞═════════════╪════════════╪═════════════╪═════╪════════════╪════════════╪════════════╪════════════╡\n",
       "│ 11009       ┆ 11009FAC   ┆ ESD-OilTank ┆ in  ┆ 2024-08-29 ┆ 270.015925 ┆ null       ┆ {\"ESD-\",\"O │\n",
       "│             ┆            ┆ InchesUntil ┆     ┆ 15:49:58.8 ┆            ┆            ┆ il\",\"\",\"In │\n",
       "│             ┆            ┆ Alarm       ┆     ┆ 75497      ┆            ┆            ┆ chesUntilA │\n",
       "│             ┆            ┆             ┆     ┆            ┆            ┆            ┆ …          │\n",
       "│ 11009       ┆ 11009W1    ┆ WaterTank1V ┆ bbl ┆ 2024-08-29 ┆ 345.259648 ┆ 832.309683 ┆ {null,\"Wat │\n",
       "│             ┆            ┆ olume       ┆     ┆ 15:02:32.4 ┆            ┆            ┆ er\",\"1\",\"V │\n",
       "│             ┆            ┆             ┆     ┆ 80785      ┆            ┆            ┆ olume\"}    │\n",
       "│ 11009       ┆ 1100905    ┆ OilTank5Vol ┆ bbl ┆ 2024-08-29 ┆ 351.646441 ┆ 594.738209 ┆ {null,\"Oil │\n",
       "│             ┆            ┆ ume         ┆     ┆ 11:56:12.5 ┆            ┆            ┆ \",\"5\",\"Vol │\n",
       "│             ┆            ┆             ┆     ┆ 78042      ┆            ┆            ┆ ume\"}      │\n",
       "│ 11009       ┆ 11009W2    ┆ WaterTank2V ┆ bbl ┆ 2024-08-29 ┆ 346.863257 ┆ 653.644903 ┆ {null,\"Wat │\n",
       "│             ┆            ┆ olume       ┆     ┆ 08:09:43.8 ┆            ┆            ┆ er\",\"2\",\"V │\n",
       "│             ┆            ┆             ┆     ┆ 32419      ┆            ┆            ┆ olume\"}    │\n",
       "│ 11009       ┆ 1100903    ┆ OilTank3Vol ┆ bbl ┆ 2024-08-29 ┆ 341.268066 ┆ 455.738209 ┆ {null,\"Oil │\n",
       "│             ┆            ┆ ume         ┆     ┆ 16:06:31.3 ┆            ┆            ┆ \",\"3\",\"Vol │\n",
       "│             ┆            ┆             ┆     ┆ 81841      ┆            ┆            ┆ ume\"}      │\n",
       "│ …           ┆ …          ┆ …           ┆ …   ┆ …          ┆ …          ┆ …          ┆ …          │\n",
       "│ 11009       ┆ 1100906    ┆ OilTank6Lev ┆ in  ┆ 2024-08-29 ┆ 82.921132  ┆ 594.483209 ┆ {null,\"Oil │\n",
       "│             ┆            ┆ el          ┆     ┆ 17:03:44.2 ┆            ┆            ┆ \",\"6\",\"Lev │\n",
       "│             ┆            ┆             ┆     ┆ 24613      ┆            ┆            ┆ el\"}       │\n",
       "│ 11009       ┆ 1100902    ┆ OilTank2Lev ┆ in  ┆ 2024-08-29 ┆ 82.691424  ┆ 531.081137 ┆ {null,\"Oil │\n",
       "│             ┆            ┆ el          ┆     ┆ 05:11:34.9 ┆            ┆            ┆ \",\"2\",\"Lev │\n",
       "│             ┆            ┆             ┆     ┆ 23631      ┆            ┆            ┆ el\"}       │\n",
       "│ 11009       ┆ 1100901    ┆ OilTank1Vol ┆ bbl ┆ 2024-08-29 ┆ 351.760979 ┆ 479.54315  ┆ {null,\"Oil │\n",
       "│             ┆            ┆ ume         ┆     ┆ 11:41:36.2 ┆            ┆            ┆ \",\"1\",\"Vol │\n",
       "│             ┆            ┆             ┆     ┆ 09056      ┆            ┆            ┆ ume\"}      │\n",
       "│ 11009       ┆ 1100903    ┆ OilTank3Lev ┆ in  ┆ 2024-08-28 ┆ 79.202608  ┆ 455.738209 ┆ {null,\"Oil │\n",
       "│             ┆            ┆ el          ┆     ┆ 22:20:34.5 ┆            ┆            ┆ \",\"3\",\"Lev │\n",
       "│             ┆            ┆             ┆     ┆ 68712      ┆            ┆            ┆ el\"}       │\n",
       "│ 11009       ┆ 1100902    ┆ OilTank2Vol ┆ bbl ┆ 2024-08-29 ┆ 350.138454 ┆ 531.081137 ┆ {null,\"Oil │\n",
       "│             ┆            ┆ ume         ┆     ┆ 09:30:47.3 ┆            ┆            ┆ \",\"2\",\"Vol │\n",
       "│             ┆            ┆             ┆     ┆ 51412      ┆            ┆            ┆ ume\"}      │\n",
       "└─────────────┴────────────┴─────────────┴─────┴────────────┴────────────┴────────────┴────────────┘"
      ]
     },
     "execution_count": 4,
     "metadata": {},
     "output_type": "execute_result"
    }
   ],
   "source": [
    "tank_metrics = [\"Level\", \"Volume\", \"InchesUntilAlarm\", \"InchesToESD\", \"TimeUntilESD\", \"Capacity\", \"ID\"]\n",
    "tank_types = [\"Water\", \"Oil\"]\n",
    "\n",
    "tank_metrics_str= \"|\".join(tank_metrics)\n",
    "tank_types_str = \"|\".join(tank_types)\n",
    "\n",
    "pattern = f'^(?<is_esd>ESD-)?(?<tank_type>{tank_types_str})Tank(?<tank_number>[0-9]*)(?<tank_metric>{tank_metrics_str})'\n",
    "lf = lf.with_columns(separated_metrics = pl.col(\"metric_nice_name\").str.extract_groups(pattern))\n",
    "lf.collect()"
   ]
  },
  {
   "cell_type": "code",
   "execution_count": 5,
   "metadata": {},
   "outputs": [
    {
     "data": {
      "text/html": [
       "<div><style>\n",
       ".dataframe > thead > tr,\n",
       ".dataframe > tbody > tr {\n",
       "  text-align: right;\n",
       "  white-space: pre-wrap;\n",
       "}\n",
       "</style>\n",
       "<small>shape: (22, 11)</small><table border=\"1\" class=\"dataframe\"><thead><tr><th>property_id</th><th>source_key</th><th>metric_nice_name</th><th>uom</th><th>timestamp</th><th>value</th><th>tanksize</th><th>is_esd</th><th>tank_type</th><th>tank_number</th><th>tank_metric</th></tr><tr><td>str</td><td>str</td><td>str</td><td>str</td><td>datetime[μs]</td><td>f64</td><td>f64</td><td>str</td><td>str</td><td>str</td><td>str</td></tr></thead><tbody><tr><td>&quot;11009&quot;</td><td>&quot;11009FAC&quot;</td><td>&quot;ESD-OilTankInchesUntilAlarm&quot;</td><td>&quot;in&quot;</td><td>2024-08-29 15:49:58.875497</td><td>270.015925</td><td>null</td><td>&quot;ESD-&quot;</td><td>&quot;Oil&quot;</td><td>&quot;&quot;</td><td>&quot;InchesUntilAlarm&quot;</td></tr><tr><td>&quot;11009&quot;</td><td>&quot;11009W1&quot;</td><td>&quot;WaterTank1Volume&quot;</td><td>&quot;bbl&quot;</td><td>2024-08-29 15:02:32.480785</td><td>345.259648</td><td>832.309683</td><td>null</td><td>&quot;Water&quot;</td><td>&quot;1&quot;</td><td>&quot;Volume&quot;</td></tr><tr><td>&quot;11009&quot;</td><td>&quot;1100905&quot;</td><td>&quot;OilTank5Volume&quot;</td><td>&quot;bbl&quot;</td><td>2024-08-29 11:56:12.578042</td><td>351.646441</td><td>594.738209</td><td>null</td><td>&quot;Oil&quot;</td><td>&quot;5&quot;</td><td>&quot;Volume&quot;</td></tr><tr><td>&quot;11009&quot;</td><td>&quot;11009W2&quot;</td><td>&quot;WaterTank2Volume&quot;</td><td>&quot;bbl&quot;</td><td>2024-08-29 08:09:43.832419</td><td>346.863257</td><td>653.644903</td><td>null</td><td>&quot;Water&quot;</td><td>&quot;2&quot;</td><td>&quot;Volume&quot;</td></tr><tr><td>&quot;11009&quot;</td><td>&quot;1100903&quot;</td><td>&quot;OilTank3Volume&quot;</td><td>&quot;bbl&quot;</td><td>2024-08-29 16:06:31.381841</td><td>341.268066</td><td>455.738209</td><td>null</td><td>&quot;Oil&quot;</td><td>&quot;3&quot;</td><td>&quot;Volume&quot;</td></tr><tr><td>&hellip;</td><td>&hellip;</td><td>&hellip;</td><td>&hellip;</td><td>&hellip;</td><td>&hellip;</td><td>&hellip;</td><td>&hellip;</td><td>&hellip;</td><td>&hellip;</td><td>&hellip;</td></tr><tr><td>&quot;11009&quot;</td><td>&quot;1100906&quot;</td><td>&quot;OilTank6Level&quot;</td><td>&quot;in&quot;</td><td>2024-08-29 17:03:44.224613</td><td>82.921132</td><td>594.483209</td><td>null</td><td>&quot;Oil&quot;</td><td>&quot;6&quot;</td><td>&quot;Level&quot;</td></tr><tr><td>&quot;11009&quot;</td><td>&quot;1100902&quot;</td><td>&quot;OilTank2Level&quot;</td><td>&quot;in&quot;</td><td>2024-08-29 05:11:34.923631</td><td>82.691424</td><td>531.081137</td><td>null</td><td>&quot;Oil&quot;</td><td>&quot;2&quot;</td><td>&quot;Level&quot;</td></tr><tr><td>&quot;11009&quot;</td><td>&quot;1100901&quot;</td><td>&quot;OilTank1Volume&quot;</td><td>&quot;bbl&quot;</td><td>2024-08-29 11:41:36.209056</td><td>351.760979</td><td>479.54315</td><td>null</td><td>&quot;Oil&quot;</td><td>&quot;1&quot;</td><td>&quot;Volume&quot;</td></tr><tr><td>&quot;11009&quot;</td><td>&quot;1100903&quot;</td><td>&quot;OilTank3Level&quot;</td><td>&quot;in&quot;</td><td>2024-08-28 22:20:34.568712</td><td>79.202608</td><td>455.738209</td><td>null</td><td>&quot;Oil&quot;</td><td>&quot;3&quot;</td><td>&quot;Level&quot;</td></tr><tr><td>&quot;11009&quot;</td><td>&quot;1100902&quot;</td><td>&quot;OilTank2Volume&quot;</td><td>&quot;bbl&quot;</td><td>2024-08-29 09:30:47.351412</td><td>350.138454</td><td>531.081137</td><td>null</td><td>&quot;Oil&quot;</td><td>&quot;2&quot;</td><td>&quot;Volume&quot;</td></tr></tbody></table></div>"
      ],
      "text/plain": [
       "shape: (22, 11)\n",
       "┌─────────────┬────────────┬─────────────┬─────┬───┬────────┬───────────┬─────────────┬────────────┐\n",
       "│ property_id ┆ source_key ┆ metric_nice ┆ uom ┆ … ┆ is_esd ┆ tank_type ┆ tank_number ┆ tank_metri │\n",
       "│ ---         ┆ ---        ┆ _name       ┆ --- ┆   ┆ ---    ┆ ---       ┆ ---         ┆ c          │\n",
       "│ str         ┆ str        ┆ ---         ┆ str ┆   ┆ str    ┆ str       ┆ str         ┆ ---        │\n",
       "│             ┆            ┆ str         ┆     ┆   ┆        ┆           ┆             ┆ str        │\n",
       "╞═════════════╪════════════╪═════════════╪═════╪═══╪════════╪═══════════╪═════════════╪════════════╡\n",
       "│ 11009       ┆ 11009FAC   ┆ ESD-OilTank ┆ in  ┆ … ┆ ESD-   ┆ Oil       ┆             ┆ InchesUnti │\n",
       "│             ┆            ┆ InchesUntil ┆     ┆   ┆        ┆           ┆             ┆ lAlarm     │\n",
       "│             ┆            ┆ Alarm       ┆     ┆   ┆        ┆           ┆             ┆            │\n",
       "│ 11009       ┆ 11009W1    ┆ WaterTank1V ┆ bbl ┆ … ┆ null   ┆ Water     ┆ 1           ┆ Volume     │\n",
       "│             ┆            ┆ olume       ┆     ┆   ┆        ┆           ┆             ┆            │\n",
       "│ 11009       ┆ 1100905    ┆ OilTank5Vol ┆ bbl ┆ … ┆ null   ┆ Oil       ┆ 5           ┆ Volume     │\n",
       "│             ┆            ┆ ume         ┆     ┆   ┆        ┆           ┆             ┆            │\n",
       "│ 11009       ┆ 11009W2    ┆ WaterTank2V ┆ bbl ┆ … ┆ null   ┆ Water     ┆ 2           ┆ Volume     │\n",
       "│             ┆            ┆ olume       ┆     ┆   ┆        ┆           ┆             ┆            │\n",
       "│ 11009       ┆ 1100903    ┆ OilTank3Vol ┆ bbl ┆ … ┆ null   ┆ Oil       ┆ 3           ┆ Volume     │\n",
       "│             ┆            ┆ ume         ┆     ┆   ┆        ┆           ┆             ┆            │\n",
       "│ …           ┆ …          ┆ …           ┆ …   ┆ … ┆ …      ┆ …         ┆ …           ┆ …          │\n",
       "│ 11009       ┆ 1100906    ┆ OilTank6Lev ┆ in  ┆ … ┆ null   ┆ Oil       ┆ 6           ┆ Level      │\n",
       "│             ┆            ┆ el          ┆     ┆   ┆        ┆           ┆             ┆            │\n",
       "│ 11009       ┆ 1100902    ┆ OilTank2Lev ┆ in  ┆ … ┆ null   ┆ Oil       ┆ 2           ┆ Level      │\n",
       "│             ┆            ┆ el          ┆     ┆   ┆        ┆           ┆             ┆            │\n",
       "│ 11009       ┆ 1100901    ┆ OilTank1Vol ┆ bbl ┆ … ┆ null   ┆ Oil       ┆ 1           ┆ Volume     │\n",
       "│             ┆            ┆ ume         ┆     ┆   ┆        ┆           ┆             ┆            │\n",
       "│ 11009       ┆ 1100903    ┆ OilTank3Lev ┆ in  ┆ … ┆ null   ┆ Oil       ┆ 3           ┆ Level      │\n",
       "│             ┆            ┆ el          ┆     ┆   ┆        ┆           ┆             ┆            │\n",
       "│ 11009       ┆ 1100902    ┆ OilTank2Vol ┆ bbl ┆ … ┆ null   ┆ Oil       ┆ 2           ┆ Volume     │\n",
       "│             ┆            ┆ ume         ┆     ┆   ┆        ┆           ┆             ┆            │\n",
       "└─────────────┴────────────┴─────────────┴─────┴───┴────────┴───────────┴─────────────┴────────────┘"
      ]
     },
     "execution_count": 5,
     "metadata": {},
     "output_type": "execute_result"
    }
   ],
   "source": [
    "lf = lf.unnest(\"separated_metrics\")\n",
    "lf.collect()"
   ]
  },
  {
   "cell_type": "code",
   "execution_count": 6,
   "metadata": {},
   "outputs": [
    {
     "data": {
      "text/html": [
       "<div><style>\n",
       ".dataframe > thead > tr,\n",
       ".dataframe > tbody > tr {\n",
       "  text-align: right;\n",
       "  white-space: pre-wrap;\n",
       "}\n",
       "</style>\n",
       "<small>shape: (22, 11)</small><table border=\"1\" class=\"dataframe\"><thead><tr><th>property_id</th><th>source_key</th><th>metric_nice_name</th><th>uom</th><th>timestamp</th><th>value</th><th>tanksize</th><th>is_esd</th><th>tank_type</th><th>tank_number</th><th>tank_metric</th></tr><tr><td>str</td><td>str</td><td>str</td><td>str</td><td>datetime[μs]</td><td>f64</td><td>f64</td><td>str</td><td>str</td><td>u8</td><td>str</td></tr></thead><tbody><tr><td>&quot;11009&quot;</td><td>&quot;11009FAC&quot;</td><td>&quot;ESD-OilTankInchesUntilAlarm&quot;</td><td>&quot;in&quot;</td><td>2024-08-29 15:49:58.875497</td><td>270.015925</td><td>null</td><td>&quot;ESD-&quot;</td><td>&quot;Oil&quot;</td><td>null</td><td>&quot;InchesUntilAlarm&quot;</td></tr><tr><td>&quot;11009&quot;</td><td>&quot;11009W1&quot;</td><td>&quot;WaterTank1Volume&quot;</td><td>&quot;bbl&quot;</td><td>2024-08-29 15:02:32.480785</td><td>345.259648</td><td>832.309683</td><td>null</td><td>&quot;Water&quot;</td><td>1</td><td>&quot;Volume&quot;</td></tr><tr><td>&quot;11009&quot;</td><td>&quot;1100905&quot;</td><td>&quot;OilTank5Volume&quot;</td><td>&quot;bbl&quot;</td><td>2024-08-29 11:56:12.578042</td><td>351.646441</td><td>594.738209</td><td>null</td><td>&quot;Oil&quot;</td><td>5</td><td>&quot;Volume&quot;</td></tr><tr><td>&quot;11009&quot;</td><td>&quot;11009W2&quot;</td><td>&quot;WaterTank2Volume&quot;</td><td>&quot;bbl&quot;</td><td>2024-08-29 08:09:43.832419</td><td>346.863257</td><td>653.644903</td><td>null</td><td>&quot;Water&quot;</td><td>2</td><td>&quot;Volume&quot;</td></tr><tr><td>&quot;11009&quot;</td><td>&quot;1100903&quot;</td><td>&quot;OilTank3Volume&quot;</td><td>&quot;bbl&quot;</td><td>2024-08-29 16:06:31.381841</td><td>341.268066</td><td>455.738209</td><td>null</td><td>&quot;Oil&quot;</td><td>3</td><td>&quot;Volume&quot;</td></tr><tr><td>&hellip;</td><td>&hellip;</td><td>&hellip;</td><td>&hellip;</td><td>&hellip;</td><td>&hellip;</td><td>&hellip;</td><td>&hellip;</td><td>&hellip;</td><td>&hellip;</td><td>&hellip;</td></tr><tr><td>&quot;11009&quot;</td><td>&quot;1100906&quot;</td><td>&quot;OilTank6Level&quot;</td><td>&quot;in&quot;</td><td>2024-08-29 17:03:44.224613</td><td>82.921132</td><td>594.483209</td><td>null</td><td>&quot;Oil&quot;</td><td>6</td><td>&quot;Level&quot;</td></tr><tr><td>&quot;11009&quot;</td><td>&quot;1100902&quot;</td><td>&quot;OilTank2Level&quot;</td><td>&quot;in&quot;</td><td>2024-08-29 05:11:34.923631</td><td>82.691424</td><td>531.081137</td><td>null</td><td>&quot;Oil&quot;</td><td>2</td><td>&quot;Level&quot;</td></tr><tr><td>&quot;11009&quot;</td><td>&quot;1100901&quot;</td><td>&quot;OilTank1Volume&quot;</td><td>&quot;bbl&quot;</td><td>2024-08-29 11:41:36.209056</td><td>351.760979</td><td>479.54315</td><td>null</td><td>&quot;Oil&quot;</td><td>1</td><td>&quot;Volume&quot;</td></tr><tr><td>&quot;11009&quot;</td><td>&quot;1100903&quot;</td><td>&quot;OilTank3Level&quot;</td><td>&quot;in&quot;</td><td>2024-08-28 22:20:34.568712</td><td>79.202608</td><td>455.738209</td><td>null</td><td>&quot;Oil&quot;</td><td>3</td><td>&quot;Level&quot;</td></tr><tr><td>&quot;11009&quot;</td><td>&quot;1100902&quot;</td><td>&quot;OilTank2Volume&quot;</td><td>&quot;bbl&quot;</td><td>2024-08-29 09:30:47.351412</td><td>350.138454</td><td>531.081137</td><td>null</td><td>&quot;Oil&quot;</td><td>2</td><td>&quot;Volume&quot;</td></tr></tbody></table></div>"
      ],
      "text/plain": [
       "shape: (22, 11)\n",
       "┌─────────────┬────────────┬─────────────┬─────┬───┬────────┬───────────┬─────────────┬────────────┐\n",
       "│ property_id ┆ source_key ┆ metric_nice ┆ uom ┆ … ┆ is_esd ┆ tank_type ┆ tank_number ┆ tank_metri │\n",
       "│ ---         ┆ ---        ┆ _name       ┆ --- ┆   ┆ ---    ┆ ---       ┆ ---         ┆ c          │\n",
       "│ str         ┆ str        ┆ ---         ┆ str ┆   ┆ str    ┆ str       ┆ u8          ┆ ---        │\n",
       "│             ┆            ┆ str         ┆     ┆   ┆        ┆           ┆             ┆ str        │\n",
       "╞═════════════╪════════════╪═════════════╪═════╪═══╪════════╪═══════════╪═════════════╪════════════╡\n",
       "│ 11009       ┆ 11009FAC   ┆ ESD-OilTank ┆ in  ┆ … ┆ ESD-   ┆ Oil       ┆ null        ┆ InchesUnti │\n",
       "│             ┆            ┆ InchesUntil ┆     ┆   ┆        ┆           ┆             ┆ lAlarm     │\n",
       "│             ┆            ┆ Alarm       ┆     ┆   ┆        ┆           ┆             ┆            │\n",
       "│ 11009       ┆ 11009W1    ┆ WaterTank1V ┆ bbl ┆ … ┆ null   ┆ Water     ┆ 1           ┆ Volume     │\n",
       "│             ┆            ┆ olume       ┆     ┆   ┆        ┆           ┆             ┆            │\n",
       "│ 11009       ┆ 1100905    ┆ OilTank5Vol ┆ bbl ┆ … ┆ null   ┆ Oil       ┆ 5           ┆ Volume     │\n",
       "│             ┆            ┆ ume         ┆     ┆   ┆        ┆           ┆             ┆            │\n",
       "│ 11009       ┆ 11009W2    ┆ WaterTank2V ┆ bbl ┆ … ┆ null   ┆ Water     ┆ 2           ┆ Volume     │\n",
       "│             ┆            ┆ olume       ┆     ┆   ┆        ┆           ┆             ┆            │\n",
       "│ 11009       ┆ 1100903    ┆ OilTank3Vol ┆ bbl ┆ … ┆ null   ┆ Oil       ┆ 3           ┆ Volume     │\n",
       "│             ┆            ┆ ume         ┆     ┆   ┆        ┆           ┆             ┆            │\n",
       "│ …           ┆ …          ┆ …           ┆ …   ┆ … ┆ …      ┆ …         ┆ …           ┆ …          │\n",
       "│ 11009       ┆ 1100906    ┆ OilTank6Lev ┆ in  ┆ … ┆ null   ┆ Oil       ┆ 6           ┆ Level      │\n",
       "│             ┆            ┆ el          ┆     ┆   ┆        ┆           ┆             ┆            │\n",
       "│ 11009       ┆ 1100902    ┆ OilTank2Lev ┆ in  ┆ … ┆ null   ┆ Oil       ┆ 2           ┆ Level      │\n",
       "│             ┆            ┆ el          ┆     ┆   ┆        ┆           ┆             ┆            │\n",
       "│ 11009       ┆ 1100901    ┆ OilTank1Vol ┆ bbl ┆ … ┆ null   ┆ Oil       ┆ 1           ┆ Volume     │\n",
       "│             ┆            ┆ ume         ┆     ┆   ┆        ┆           ┆             ┆            │\n",
       "│ 11009       ┆ 1100903    ┆ OilTank3Lev ┆ in  ┆ … ┆ null   ┆ Oil       ┆ 3           ┆ Level      │\n",
       "│             ┆            ┆ el          ┆     ┆   ┆        ┆           ┆             ┆            │\n",
       "│ 11009       ┆ 1100902    ┆ OilTank2Vol ┆ bbl ┆ … ┆ null   ┆ Oil       ┆ 2           ┆ Volume     │\n",
       "│             ┆            ┆ ume         ┆     ┆   ┆        ┆           ┆             ┆            │\n",
       "└─────────────┴────────────┴─────────────┴─────┴───┴────────┴───────────┴─────────────┴────────────┘"
      ]
     },
     "execution_count": 6,
     "metadata": {},
     "output_type": "execute_result"
    }
   ],
   "source": [
    "lf = lf.with_columns(pl.col(\"tank_number\").cast(pl.UInt8, strict=False))\n",
    "lf.collect()"
   ]
  },
  {
   "cell_type": "code",
   "execution_count": 7,
   "metadata": {},
   "outputs": [
    {
     "data": {
      "text/html": [
       "<div><style>\n",
       ".dataframe > thead > tr,\n",
       ".dataframe > tbody > tr {\n",
       "  text-align: right;\n",
       "  white-space: pre-wrap;\n",
       "}\n",
       "</style>\n",
       "<small>shape: (11, 11)</small><table border=\"1\" class=\"dataframe\"><thead><tr><th>property_id</th><th>tank_type</th><th>tank_number</th><th>source_key</th><th>Level</th><th>Volume</th><th>InchesUntilAlarm</th><th>InchesToESD</th><th>TimeUntilESD</th><th>Capacity</th><th>ID</th></tr><tr><td>str</td><td>str</td><td>u8</td><td>str</td><td>f64</td><td>f64</td><td>f64</td><td>f64</td><td>f64</td><td>f64</td><td>f64</td></tr></thead><tbody><tr><td>&quot;11009&quot;</td><td>&quot;Oil&quot;</td><td>3</td><td>&quot;1100903&quot;</td><td>79.202608</td><td>341.268066</td><td>null</td><td>null</td><td>null</td><td>null</td><td>null</td></tr><tr><td>&quot;11009&quot;</td><td>&quot;Oil&quot;</td><td>null</td><td>&quot;11009FAC&quot;</td><td>null</td><td>null</td><td>270.015925</td><td>null</td><td>null</td><td>null</td><td>4.0</td></tr><tr><td>&quot;11009&quot;</td><td>&quot;Water&quot;</td><td>2</td><td>&quot;11009W2&quot;</td><td>84.370506</td><td>346.863257</td><td>null</td><td>null</td><td>null</td><td>null</td><td>null</td></tr><tr><td>&quot;11009&quot;</td><td>&quot;Water&quot;</td><td>3</td><td>&quot;11009W3&quot;</td><td>82.710045</td><td>347.302192</td><td>null</td><td>null</td><td>null</td><td>null</td><td>null</td></tr><tr><td>&quot;11009&quot;</td><td>&quot;Water&quot;</td><td>null</td><td>&quot;11009FAC&quot;</td><td>null</td><td>null</td><td>265.538665</td><td>null</td><td>null</td><td>null</td><td>1.0</td></tr><tr><td>&hellip;</td><td>&hellip;</td><td>&hellip;</td><td>&hellip;</td><td>&hellip;</td><td>&hellip;</td><td>&hellip;</td><td>&hellip;</td><td>&hellip;</td><td>&hellip;</td><td>&hellip;</td></tr><tr><td>&quot;11009&quot;</td><td>&quot;Oil&quot;</td><td>6</td><td>&quot;1100906&quot;</td><td>82.921132</td><td>351.742534</td><td>null</td><td>null</td><td>null</td><td>null</td><td>null</td></tr><tr><td>&quot;11009&quot;</td><td>&quot;Oil&quot;</td><td>5</td><td>&quot;1100905&quot;</td><td>83.172086</td><td>351.646441</td><td>null</td><td>null</td><td>null</td><td>null</td><td>null</td></tr><tr><td>&quot;11009&quot;</td><td>&quot;Oil&quot;</td><td>4</td><td>&quot;1100904&quot;</td><td>84.438585</td><td>348.998913</td><td>null</td><td>null</td><td>null</td><td>null</td><td>null</td></tr><tr><td>&quot;11009&quot;</td><td>&quot;Oil&quot;</td><td>1</td><td>&quot;1100901&quot;</td><td>83.291167</td><td>351.760979</td><td>null</td><td>null</td><td>null</td><td>null</td><td>null</td></tr><tr><td>&quot;11009&quot;</td><td>&quot;Water&quot;</td><td>1</td><td>&quot;11009W1&quot;</td><td>84.156545</td><td>345.259648</td><td>null</td><td>null</td><td>null</td><td>null</td><td>null</td></tr></tbody></table></div>"
      ],
      "text/plain": [
       "shape: (11, 11)\n",
       "┌────────────┬───────────┬────────────┬────────────┬───┬────────────┬────────────┬──────────┬──────┐\n",
       "│ property_i ┆ tank_type ┆ tank_numbe ┆ source_key ┆ … ┆ InchesToES ┆ TimeUntilE ┆ Capacity ┆ ID   │\n",
       "│ d          ┆ ---       ┆ r          ┆ ---        ┆   ┆ D          ┆ SD         ┆ ---      ┆ ---  │\n",
       "│ ---        ┆ str       ┆ ---        ┆ str        ┆   ┆ ---        ┆ ---        ┆ f64      ┆ f64  │\n",
       "│ str        ┆           ┆ u8         ┆            ┆   ┆ f64        ┆ f64        ┆          ┆      │\n",
       "╞════════════╪═══════════╪════════════╪════════════╪═══╪════════════╪════════════╪══════════╪══════╡\n",
       "│ 11009      ┆ Oil       ┆ 3          ┆ 1100903    ┆ … ┆ null       ┆ null       ┆ null     ┆ null │\n",
       "│ 11009      ┆ Oil       ┆ null       ┆ 11009FAC   ┆ … ┆ null       ┆ null       ┆ null     ┆ 4.0  │\n",
       "│ 11009      ┆ Water     ┆ 2          ┆ 11009W2    ┆ … ┆ null       ┆ null       ┆ null     ┆ null │\n",
       "│ 11009      ┆ Water     ┆ 3          ┆ 11009W3    ┆ … ┆ null       ┆ null       ┆ null     ┆ null │\n",
       "│ 11009      ┆ Water     ┆ null       ┆ 11009FAC   ┆ … ┆ null       ┆ null       ┆ null     ┆ 1.0  │\n",
       "│ …          ┆ …         ┆ …          ┆ …          ┆ … ┆ …          ┆ …          ┆ …        ┆ …    │\n",
       "│ 11009      ┆ Oil       ┆ 6          ┆ 1100906    ┆ … ┆ null       ┆ null       ┆ null     ┆ null │\n",
       "│ 11009      ┆ Oil       ┆ 5          ┆ 1100905    ┆ … ┆ null       ┆ null       ┆ null     ┆ null │\n",
       "│ 11009      ┆ Oil       ┆ 4          ┆ 1100904    ┆ … ┆ null       ┆ null       ┆ null     ┆ null │\n",
       "│ 11009      ┆ Oil       ┆ 1          ┆ 1100901    ┆ … ┆ null       ┆ null       ┆ null     ┆ null │\n",
       "│ 11009      ┆ Water     ┆ 1          ┆ 11009W1    ┆ … ┆ null       ┆ null       ┆ null     ┆ null │\n",
       "└────────────┴───────────┴────────────┴────────────┴───┴────────────┴────────────┴──────────┴──────┘"
      ]
     },
     "execution_count": 7,
     "metadata": {},
     "output_type": "execute_result"
    }
   ],
   "source": [
    "#pivoting the data\n",
    "values = pl.col(\"value\")\n",
    "columns = pl.col(\"tank_metric\")\n",
    "pivoted_lf = lf.group_by(\"property_id\", \"tank_type\", \"tank_number\", \"source_key\").agg(\n",
    "    values.filter(columns == metric).first().alias(metric) for metric in tank_metrics\n",
    ")\n",
    "\n",
    "pivoted_lf.collect()"
   ]
  },
  {
   "cell_type": "code",
   "execution_count": 8,
   "metadata": {},
   "outputs": [
    {
     "data": {
      "text/html": [
       "<div><style>\n",
       ".dataframe > thead > tr,\n",
       ".dataframe > tbody > tr {\n",
       "  text-align: right;\n",
       "  white-space: pre-wrap;\n",
       "}\n",
       "</style>\n",
       "<small>shape: (2, 10)</small><table border=\"1\" class=\"dataframe\"><thead><tr><th>property_id</th><th>tank_type</th><th>tank_number</th><th>source_key</th><th>Level</th><th>Volume</th><th>InchesUntilAlarm</th><th>InchesToESD</th><th>TimeUntilESD</th><th>Capacity</th></tr><tr><td>str</td><td>str</td><td>u8</td><td>str</td><td>f64</td><td>f64</td><td>f64</td><td>f64</td><td>f64</td><td>f64</td></tr></thead><tbody><tr><td>&quot;11009&quot;</td><td>&quot;Water&quot;</td><td>1</td><td>&quot;11009FAC&quot;</td><td>null</td><td>null</td><td>265.538665</td><td>null</td><td>null</td><td>null</td></tr><tr><td>&quot;11009&quot;</td><td>&quot;Oil&quot;</td><td>4</td><td>&quot;11009FAC&quot;</td><td>null</td><td>null</td><td>270.015925</td><td>null</td><td>null</td><td>null</td></tr></tbody></table></div>"
      ],
      "text/plain": [
       "shape: (2, 10)\n",
       "┌───────────┬───────────┬───────────┬───────────┬───┬───────────┬───────────┬───────────┬──────────┐\n",
       "│ property_ ┆ tank_type ┆ tank_numb ┆ source_ke ┆ … ┆ InchesUnt ┆ InchesToE ┆ TimeUntil ┆ Capacity │\n",
       "│ id        ┆ ---       ┆ er        ┆ y         ┆   ┆ ilAlarm   ┆ SD        ┆ ESD       ┆ ---      │\n",
       "│ ---       ┆ str       ┆ ---       ┆ ---       ┆   ┆ ---       ┆ ---       ┆ ---       ┆ f64      │\n",
       "│ str       ┆           ┆ u8        ┆ str       ┆   ┆ f64       ┆ f64       ┆ f64       ┆          │\n",
       "╞═══════════╪═══════════╪═══════════╪═══════════╪═══╪═══════════╪═══════════╪═══════════╪══════════╡\n",
       "│ 11009     ┆ Water     ┆ 1         ┆ 11009FAC  ┆ … ┆ 265.53866 ┆ null      ┆ null      ┆ null     │\n",
       "│           ┆           ┆           ┆           ┆   ┆ 5         ┆           ┆           ┆          │\n",
       "│ 11009     ┆ Oil       ┆ 4         ┆ 11009FAC  ┆ … ┆ 270.01592 ┆ null      ┆ null      ┆ null     │\n",
       "│           ┆           ┆           ┆           ┆   ┆ 5         ┆           ┆           ┆          │\n",
       "└───────────┴───────────┴───────────┴───────────┴───┴───────────┴───────────┴───────────┴──────────┘"
      ]
     },
     "execution_count": 8,
     "metadata": {},
     "output_type": "execute_result"
    }
   ],
   "source": [
    "null_condition = pl.col(\"tank_number\").is_null()\n",
    "not_null_condition = pl.col(\"tank_number\").is_not_null()\n",
    "\n",
    "null_tanks = pivoted_lf.filter(null_condition)\n",
    "numbered_tanks = pivoted_lf.filter(not_null_condition)\n",
    "\n",
    "null_tanks = null_tanks.with_columns(pl.col(\"ID\").alias(\"tank_number\"))\n",
    "null_tanks = null_tanks.drop(\"ID\")\n",
    "null_tanks = null_tanks.with_columns(pl.col(\"tank_number\").cast(pl.UInt8, strict=False))\n",
    "\n",
    "null_tanks.collect()"
   ]
  },
  {
   "cell_type": "code",
   "execution_count": 9,
   "metadata": {},
   "outputs": [
    {
     "data": {
      "text/html": [
       "<div><style>\n",
       ".dataframe > thead > tr,\n",
       ".dataframe > tbody > tr {\n",
       "  text-align: right;\n",
       "  white-space: pre-wrap;\n",
       "}\n",
       "</style>\n",
       "<small>shape: (9, 11)</small><table border=\"1\" class=\"dataframe\"><thead><tr><th>property_id</th><th>tank_type</th><th>tank_number</th><th>source_key</th><th>Level</th><th>Volume</th><th>InchesUntilAlarm</th><th>InchesToESD</th><th>TimeUntilESD</th><th>Capacity</th><th>ID</th></tr><tr><td>str</td><td>str</td><td>u8</td><td>str</td><td>f64</td><td>f64</td><td>f64</td><td>f64</td><td>f64</td><td>f64</td><td>f64</td></tr></thead><tbody><tr><td>&quot;11009&quot;</td><td>&quot;Oil&quot;</td><td>5</td><td>&quot;1100905&quot;</td><td>83.172086</td><td>351.646441</td><td>null</td><td>null</td><td>null</td><td>null</td><td>null</td></tr><tr><td>&quot;11009&quot;</td><td>&quot;Oil&quot;</td><td>3</td><td>&quot;1100903&quot;</td><td>79.202608</td><td>341.268066</td><td>null</td><td>null</td><td>null</td><td>null</td><td>null</td></tr><tr><td>&quot;11009&quot;</td><td>&quot;Oil&quot;</td><td>2</td><td>&quot;1100902&quot;</td><td>82.691424</td><td>350.138454</td><td>null</td><td>null</td><td>null</td><td>null</td><td>null</td></tr><tr><td>&quot;11009&quot;</td><td>&quot;Oil&quot;</td><td>4</td><td>&quot;1100904&quot;</td><td>84.438585</td><td>348.998913</td><td>null</td><td>null</td><td>null</td><td>null</td><td>null</td></tr><tr><td>&quot;11009&quot;</td><td>&quot;Water&quot;</td><td>2</td><td>&quot;11009W2&quot;</td><td>84.370506</td><td>346.863257</td><td>null</td><td>null</td><td>null</td><td>null</td><td>null</td></tr><tr><td>&quot;11009&quot;</td><td>&quot;Oil&quot;</td><td>1</td><td>&quot;1100901&quot;</td><td>83.291167</td><td>351.760979</td><td>null</td><td>null</td><td>null</td><td>null</td><td>null</td></tr><tr><td>&quot;11009&quot;</td><td>&quot;Water&quot;</td><td>1</td><td>&quot;11009W1&quot;</td><td>84.156545</td><td>345.259648</td><td>null</td><td>null</td><td>null</td><td>null</td><td>null</td></tr><tr><td>&quot;11009&quot;</td><td>&quot;Water&quot;</td><td>3</td><td>&quot;11009W3&quot;</td><td>82.710045</td><td>347.302192</td><td>null</td><td>null</td><td>null</td><td>null</td><td>null</td></tr><tr><td>&quot;11009&quot;</td><td>&quot;Oil&quot;</td><td>6</td><td>&quot;1100906&quot;</td><td>82.921132</td><td>351.742534</td><td>null</td><td>null</td><td>null</td><td>null</td><td>null</td></tr></tbody></table></div>"
      ],
      "text/plain": [
       "shape: (9, 11)\n",
       "┌────────────┬───────────┬────────────┬────────────┬───┬────────────┬────────────┬──────────┬──────┐\n",
       "│ property_i ┆ tank_type ┆ tank_numbe ┆ source_key ┆ … ┆ InchesToES ┆ TimeUntilE ┆ Capacity ┆ ID   │\n",
       "│ d          ┆ ---       ┆ r          ┆ ---        ┆   ┆ D          ┆ SD         ┆ ---      ┆ ---  │\n",
       "│ ---        ┆ str       ┆ ---        ┆ str        ┆   ┆ ---        ┆ ---        ┆ f64      ┆ f64  │\n",
       "│ str        ┆           ┆ u8         ┆            ┆   ┆ f64        ┆ f64        ┆          ┆      │\n",
       "╞════════════╪═══════════╪════════════╪════════════╪═══╪════════════╪════════════╪══════════╪══════╡\n",
       "│ 11009      ┆ Oil       ┆ 5          ┆ 1100905    ┆ … ┆ null       ┆ null       ┆ null     ┆ null │\n",
       "│ 11009      ┆ Oil       ┆ 3          ┆ 1100903    ┆ … ┆ null       ┆ null       ┆ null     ┆ null │\n",
       "│ 11009      ┆ Oil       ┆ 2          ┆ 1100902    ┆ … ┆ null       ┆ null       ┆ null     ┆ null │\n",
       "│ 11009      ┆ Oil       ┆ 4          ┆ 1100904    ┆ … ┆ null       ┆ null       ┆ null     ┆ null │\n",
       "│ 11009      ┆ Water     ┆ 2          ┆ 11009W2    ┆ … ┆ null       ┆ null       ┆ null     ┆ null │\n",
       "│ 11009      ┆ Oil       ┆ 1          ┆ 1100901    ┆ … ┆ null       ┆ null       ┆ null     ┆ null │\n",
       "│ 11009      ┆ Water     ┆ 1          ┆ 11009W1    ┆ … ┆ null       ┆ null       ┆ null     ┆ null │\n",
       "│ 11009      ┆ Water     ┆ 3          ┆ 11009W3    ┆ … ┆ null       ┆ null       ┆ null     ┆ null │\n",
       "│ 11009      ┆ Oil       ┆ 6          ┆ 1100906    ┆ … ┆ null       ┆ null       ┆ null     ┆ null │\n",
       "└────────────┴───────────┴────────────┴────────────┴───┴────────────┴────────────┴──────────┴──────┘"
      ]
     },
     "execution_count": 9,
     "metadata": {},
     "output_type": "execute_result"
    }
   ],
   "source": [
    "numbered_tanks.collect()"
   ]
  },
  {
   "cell_type": "code",
   "execution_count": 13,
   "metadata": {},
   "outputs": [
    {
     "data": {
      "text/html": [
       "<div><style>\n",
       ".dataframe > thead > tr,\n",
       ".dataframe > tbody > tr {\n",
       "  text-align: right;\n",
       "  white-space: pre-wrap;\n",
       "}\n",
       "</style>\n",
       "<small>shape: (2, 10)</small><table border=\"1\" class=\"dataframe\"><thead><tr><th>property_id</th><th>tank_type</th><th>source_key</th><th>tank_number</th><th>Level</th><th>Volume</th><th>InchesUntilAlarm</th><th>InchesToESD</th><th>TimeUntilESD</th><th>Capacity</th></tr><tr><td>str</td><td>str</td><td>str</td><td>u8</td><td>f64</td><td>f64</td><td>f64</td><td>f64</td><td>f64</td><td>f64</td></tr></thead><tbody><tr><td>&quot;11009&quot;</td><td>&quot;Oil&quot;</td><td>&quot;11009FAC&quot;</td><td>4</td><td>null</td><td>null</td><td>270.015925</td><td>null</td><td>null</td><td>null</td></tr><tr><td>&quot;11009&quot;</td><td>&quot;Water&quot;</td><td>&quot;11009FAC&quot;</td><td>1</td><td>null</td><td>null</td><td>265.538665</td><td>null</td><td>null</td><td>null</td></tr></tbody></table></div>"
      ],
      "text/plain": [
       "shape: (2, 10)\n",
       "┌───────────┬───────────┬───────────┬───────────┬───┬───────────┬───────────┬───────────┬──────────┐\n",
       "│ property_ ┆ tank_type ┆ source_ke ┆ tank_numb ┆ … ┆ InchesUnt ┆ InchesToE ┆ TimeUntil ┆ Capacity │\n",
       "│ id        ┆ ---       ┆ y         ┆ er        ┆   ┆ ilAlarm   ┆ SD        ┆ ESD       ┆ ---      │\n",
       "│ ---       ┆ str       ┆ ---       ┆ ---       ┆   ┆ ---       ┆ ---       ┆ ---       ┆ f64      │\n",
       "│ str       ┆           ┆ str       ┆ u8        ┆   ┆ f64       ┆ f64       ┆ f64       ┆          │\n",
       "╞═══════════╪═══════════╪═══════════╪═══════════╪═══╪═══════════╪═══════════╪═══════════╪══════════╡\n",
       "│ 11009     ┆ Oil       ┆ 11009FAC  ┆ 4         ┆ … ┆ 270.01592 ┆ null      ┆ null      ┆ null     │\n",
       "│           ┆           ┆           ┆           ┆   ┆ 5         ┆           ┆           ┆          │\n",
       "│ 11009     ┆ Water     ┆ 11009FAC  ┆ 1         ┆ … ┆ 265.53866 ┆ null      ┆ null      ┆ null     │\n",
       "│           ┆           ┆           ┆           ┆   ┆ 5         ┆           ┆           ┆          │\n",
       "└───────────┴───────────┴───────────┴───────────┴───┴───────────┴───────────┴───────────┴──────────┘"
      ]
     },
     "execution_count": 13,
     "metadata": {},
     "output_type": "execute_result"
    }
   ],
   "source": [
    "pp = null_tanks.group_by([\"property_id\", \"tank_type\", \"source_key\"]).agg(\n",
    "    [\n",
    "        pl.col(\"tank_number\").max(),  # Use max or min to fill missing values  # Use first() or last() for string-like columns\n",
    "        pl.col(\"Level\").max(),\n",
    "        pl.col(\"Volume\").max(),\n",
    "        pl.col(\"InchesUntilAlarm\").max(),\n",
    "        pl.col(\"InchesToESD\").max(),\n",
    "        pl.col(\"TimeUntilESD\").max(),\n",
    "        pl.col(\"Capacity\").max(),\n",
    "    ]\n",
    ")\n",
    "\n",
    "pp.collect()"
   ]
  },
  {
   "cell_type": "code",
   "execution_count": 14,
   "metadata": {},
   "outputs": [
    {
     "ename": "ColumnNotFoundError",
     "evalue": "unique_id\n\nThis error occurred with the following context stack:\n\t[1] 'with_columns' failed\n\t[2] 'drop' input failed to resolve\n\t[3] 'join left' input failed to resolve\n",
     "output_type": "error",
     "traceback": [
      "\u001b[0;31m---------------------------------------------------------------------------\u001b[0m",
      "\u001b[0;31mColumnNotFoundError\u001b[0m                       Traceback (most recent call last)",
      "Cell \u001b[0;32mIn[14], line 2\u001b[0m\n\u001b[1;32m      1\u001b[0m joined_lf \u001b[38;5;241m=\u001b[39m numbered_tanks\u001b[38;5;241m.\u001b[39mjoin(pp, on\u001b[38;5;241m=\u001b[39m[\u001b[38;5;124m\"\u001b[39m\u001b[38;5;124mproperty_id\u001b[39m\u001b[38;5;124m\"\u001b[39m, \u001b[38;5;124m\"\u001b[39m\u001b[38;5;124mtank_type\u001b[39m\u001b[38;5;124m\"\u001b[39m, \u001b[38;5;124m\"\u001b[39m\u001b[38;5;124mtank_number\u001b[39m\u001b[38;5;124m\"\u001b[39m], how\u001b[38;5;241m=\u001b[39m\u001b[38;5;124m\"\u001b[39m\u001b[38;5;124mleft\u001b[39m\u001b[38;5;124m\"\u001b[39m)\n\u001b[0;32m----> 2\u001b[0m \u001b[43mjoined_lf\u001b[49m\u001b[38;5;241;43m.\u001b[39;49m\u001b[43mcollect\u001b[49m\u001b[43m(\u001b[49m\u001b[43m)\u001b[49m\n",
      "File \u001b[0;32m~/code/tank_project/.venv/lib/python3.12/site-packages/polars/lazyframe/frame.py:1816\u001b[0m, in \u001b[0;36mLazyFrame.collect\u001b[0;34m(self, type_coercion, predicate_pushdown, projection_pushdown, simplify_expression, slice_pushdown, comm_subplan_elim, comm_subexpr_elim, no_optimization, streaming, background, _eager, **_kwargs)\u001b[0m\n\u001b[1;32m   1813\u001b[0m \u001b[38;5;66;03m# Only for testing purposes atm.\u001b[39;00m\n\u001b[1;32m   1814\u001b[0m callback \u001b[38;5;241m=\u001b[39m _kwargs\u001b[38;5;241m.\u001b[39mget(\u001b[38;5;124m\"\u001b[39m\u001b[38;5;124mpost_opt_callback\u001b[39m\u001b[38;5;124m\"\u001b[39m)\n\u001b[0;32m-> 1816\u001b[0m \u001b[38;5;28;01mreturn\u001b[39;00m wrap_df(\u001b[43mldf\u001b[49m\u001b[38;5;241;43m.\u001b[39;49m\u001b[43mcollect\u001b[49m\u001b[43m(\u001b[49m\u001b[43mcallback\u001b[49m\u001b[43m)\u001b[49m)\n",
      "\u001b[0;31mColumnNotFoundError\u001b[0m: unique_id\n\nThis error occurred with the following context stack:\n\t[1] 'with_columns' failed\n\t[2] 'drop' input failed to resolve\n\t[3] 'join left' input failed to resolve\n"
     ]
    }
   ],
   "source": [
    "joined_lf = numbered_tanks.join(pp, on=[\"property_id\", \"tank_type\", \"tank_number\"], how=\"left\")\n",
    "joined_lf.collect()"
   ]
  },
  {
   "cell_type": "code",
   "execution_count": null,
   "metadata": {},
   "outputs": [],
   "source": [
    "final_lf = joined_lf.join(lf, on=[\"scada_id\"], how=\"left\")\n",
    "final_lf.collect()"
   ]
  },
  {
   "cell_type": "code",
   "execution_count": null,
   "metadata": {},
   "outputs": [],
   "source": [
    "final_lf = final_lf.with_columns(\n",
    "    pl.col(\"unique_id\").alias(\"identifier\"),\n",
    "    pl.col(\"property_id\"),\n",
    "    pl.col(\"tank_type\"),\n",
    "    pl.col(\"tank_number\"),\n",
    "    pl.coalesce(pl.col(\"Level\"), pl.col(\"Level_right\")).alias(\"level\"),\n",
    "    pl.coalesce(pl.col(\"Volume\"), pl.col(\"Volume_right\")).alias(\"volume\"),\n",
    "    pl.coalesce(pl.col(\"InchesToESD\"), pl.col(\"InchesUntilAlarm_right\")).alias(\"inches_to_esd\"),\n",
    "    pl.coalesce(pl.col(\"TimeUntilESD\"), pl.col(\"TimeUntilESD_right\")).alias(\"time_until_esd\"),\n",
    "    pl.coalesce(pl.col(\"Capacity\"), pl.col(\"tanksize\")).alias(\"capacity\")\n",
    ")\n",
    "\n",
    "required_columns = [\"identifier\", \"property_id\", \"scada_id\", \"tank_type\", \"tank_number\", \"level\", \"volume\", \"inches_to_esd\", \"time_until_esd\", \"capacity\"]\n",
    "final_lf = final_lf.select(required_columns)\n",
    "final_lf.collect()"
   ]
  },
  {
   "cell_type": "code",
   "execution_count": null,
   "metadata": {},
   "outputs": [],
   "source": [
    "final_lf = final_lf.sort(\"property_id\", \"tank_type\", \"tank_number\")\n",
    "final_lf.collect()"
   ]
  },
  {
   "cell_type": "code",
   "execution_count": null,
   "metadata": {},
   "outputs": [],
   "source": [
    "percent_tank_full = (pl.col(\"volume\") / pl.col(\"capacity\") * 100).round().cast(pl.UInt8)\n",
    "final_lf = final_lf.with_columns(percent_tank_full.alias(\"percent_full\"))\n",
    "\n",
    "final_lf.collect()"
   ]
  },
  {
   "cell_type": "code",
   "execution_count": null,
   "metadata": {},
   "outputs": [],
   "source": [
    "capacity_rounded = pl.col(\"capacity\").round()\n",
    "final_lf = final_lf.with_columns(capacity_rounded.alias(\"capacity\"))\n",
    "final_lf.collect()"
   ]
  },
  {
   "cell_type": "code",
   "execution_count": null,
   "metadata": {},
   "outputs": [],
   "source": [
    "volume_to_feet = pl.col(\"volume\").round().cast(pl.UInt64)\n",
    "\n",
    "final_lf = final_lf.with_columns(volume_to_feet.alias(\"volume\"))\n",
    "\n",
    "final_lf.collect()"
   ]
  },
  {
   "cell_type": "code",
   "execution_count": null,
   "metadata": {},
   "outputs": [],
   "source": [
    "new_pp = final_lf.group_by([\"property_id\", \"scada_id\", \"tank_type\", \"tank_number\"]).agg(\n",
    "    [\n",
    "        pl.col(\"identifier\").first(),  # Use first() or last() for non-numeric columns\n",
    "        pl.col(\"level\").max(),  # Use max() to get the highest value (fill missing)\n",
    "        pl.col(\"volume\").max(),\n",
    "        pl.col(\"inches_to_esd\").max(),\n",
    "        pl.col(\"time_until_esd\").max(),\n",
    "        pl.col(\"capacity\").max(),\n",
    "        pl.col(\"percent_full\").max(),\n",
    "    ]\n",
    ")\n",
    "\n",
    "\n",
    "\n",
    "new_pp.collect()"
   ]
  },
  {
   "cell_type": "code",
   "execution_count": null,
   "metadata": {},
   "outputs": [],
   "source": [
    "new_pp = new_pp.sort(\"property_id\", \"tank_type\", \"tank_number\")\n",
    "new_pp.collect()"
   ]
  }
 ],
 "metadata": {
  "kernelspec": {
   "display_name": "tank-project-9-HCZibD-py3.12",
   "language": "python",
   "name": "python3"
  },
  "language_info": {
   "codemirror_mode": {
    "name": "ipython",
    "version": 3
   },
   "file_extension": ".py",
   "mimetype": "text/x-python",
   "name": "python",
   "nbconvert_exporter": "python",
   "pygments_lexer": "ipython3",
   "version": "3.12.2"
  }
 },
 "nbformat": 4,
 "nbformat_minor": 2
}
