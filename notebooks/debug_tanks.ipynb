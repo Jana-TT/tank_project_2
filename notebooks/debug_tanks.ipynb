{
 "cells": [
  {
   "cell_type": "code",
   "execution_count": 2,
   "metadata": {},
   "outputs": [
    {
     "data": {
      "text/plain": [
       "{'tanks': [{'primo_id': '69419',\n",
       "   'scada_id': '69419W3',\n",
       "   'metric_nice_name': 'WaterTank3Level',\n",
       "   'key_metric': UUID('439a014a-2d27-4dff-9c81-818f61a6cf79'),\n",
       "   'ts': datetime.datetime(2024, 3, 6, 4, 15, 26, 315094),\n",
       "   'value': 136.96039146412448},\n",
       "  {'primo_id': '69419',\n",
       "   'scada_id': '6941902',\n",
       "   'metric_nice_name': 'OilTank2InchesToESD',\n",
       "   'key_metric': UUID('6467561f-e9ac-4ba0-ac6b-1f1584ee029f'),\n",
       "   'ts': datetime.datetime(2024, 3, 6, 4, 15, 22, 3985),\n",
       "   'value': 25.078137133421528},\n",
       "  {'primo_id': '69419',\n",
       "   'scada_id': '6941903',\n",
       "   'metric_nice_name': 'OilTank4Level',\n",
       "   'key_metric': UUID('9f31b503-6a7b-4203-ba81-c63efb0170ae'),\n",
       "   'ts': datetime.datetime(2024, 3, 6, 4, 15, 49, 277547),\n",
       "   'value': 139.5930314490188},\n",
       "  {'primo_id': '69419',\n",
       "   'scada_id': '6941903',\n",
       "   'metric_nice_name': 'OilTank3Level',\n",
       "   'key_metric': UUID('a5de3be7-73fe-489b-b861-2ab88c3b0029'),\n",
       "   'ts': datetime.datetime(2024, 3, 6, 4, 14, 39, 496037),\n",
       "   'value': 44.37074197804353},\n",
       "  {'primo_id': '69419',\n",
       "   'scada_id': '69419W1',\n",
       "   'metric_nice_name': 'WaterTank1Level',\n",
       "   'key_metric': UUID('aecb01ea-c950-4f6e-8477-f422c224c430'),\n",
       "   'ts': datetime.datetime(2024, 3, 6, 4, 12, 21, 545042),\n",
       "   'value': 49.26034096839767},\n",
       "  {'primo_id': '69419',\n",
       "   'scada_id': '6941901',\n",
       "   'metric_nice_name': 'OilTank1Level',\n",
       "   'key_metric': UUID('b17f11ac-d318-429a-b607-a5ba24b3d6a2'),\n",
       "   'ts': datetime.datetime(2024, 3, 6, 4, 11, 36, 465651),\n",
       "   'value': 62.15902076750906},\n",
       "  {'primo_id': '69419',\n",
       "   'scada_id': '6941902',\n",
       "   'metric_nice_name': 'OilTank2Level',\n",
       "   'key_metric': UUID('d0613649-4688-445b-aca9-b83858a7476d'),\n",
       "   'ts': datetime.datetime(2024, 3, 6, 4, 10, 57, 773391),\n",
       "   'value': 88.5245761267483},\n",
       "  {'primo_id': '69419',\n",
       "   'scada_id': '69419W2',\n",
       "   'metric_nice_name': 'WaterTank2Level',\n",
       "   'key_metric': UUID('e8e4b4d8-d08a-441a-be72-91f1f4868f5f'),\n",
       "   'ts': datetime.datetime(2024, 3, 6, 4, 15, 18, 255919),\n",
       "   'value': 51.414077345495755},\n",
       "  {'primo_id': '69419',\n",
       "   'scada_id': '69419W2',\n",
       "   'metric_nice_name': 'WaterTank2InchesToESD',\n",
       "   'key_metric': UUID('f10fb018-82a9-48aa-acf1-18c770f8569a'),\n",
       "   'ts': datetime.datetime(2024, 3, 6, 4, 15, 32, 294849),\n",
       "   'value': 284.3424966571911}]}"
      ]
     },
     "execution_count": 2,
     "metadata": {},
     "output_type": "execute_result"
    }
   ],
   "source": [
    "from src.main import GetTanksReq, get_tank_data\n",
    "\n",
    "req = GetTanksReq(primo_ids={\"69419\"})\n",
    "res = await get_tank_data(req)\n",
    "res"
   ]
  },
  {
   "cell_type": "code",
   "execution_count": 13,
   "metadata": {},
   "outputs": [
    {
     "name": "stdout",
     "output_type": "stream",
     "text": [
      "['specified in RFC 4122', 'specified in RFC 4122', 'specified in RFC 4122', 'specified in RFC 4122', 'specified in RFC 4122', 'specified in RFC 4122', 'specified in RFC 4122', 'specified in RFC 4122', 'specified in RFC 4122']\n"
     ]
    }
   ],
   "source": [
    "uuid_list = []\n",
    "\n",
    "for tank in res['tanks']:\n",
    "    uuid_list.append(tank['key_metric'].variant)\n",
    "\n",
    "print(uuid_list)\n",
    "\n"
   ]
  }
 ],
 "metadata": {
  "kernelspec": {
   "display_name": "tank-project-9-HCZibD-py3.12",
   "language": "python",
   "name": "python3"
  },
  "language_info": {
   "codemirror_mode": {
    "name": "ipython",
    "version": 3
   },
   "file_extension": ".py",
   "mimetype": "text/x-python",
   "name": "python",
   "nbconvert_exporter": "python",
   "pygments_lexer": "ipython3",
   "version": "3.12.2"
  }
 },
 "nbformat": 4,
 "nbformat_minor": 2
}
