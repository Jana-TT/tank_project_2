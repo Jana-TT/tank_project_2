{
 "cells": [
  {
   "cell_type": "code",
   "execution_count": 15,
   "metadata": {},
   "outputs": [
    {
     "data": {
      "text/html": [
       "<div><style>\n",
       ".dataframe > thead > tr,\n",
       ".dataframe > tbody > tr {\n",
       "  text-align: right;\n",
       "  white-space: pre-wrap;\n",
       "}\n",
       "</style>\n",
       "<small>shape: (16, 8)</small><table border=\"1\" class=\"dataframe\"><thead><tr><th>primo_id</th><th>scada_id</th><th>metric_nice_name</th><th>unique_id</th><th>uom</th><th>timestamp</th><th>value</th><th>tanksize</th></tr><tr><td>str</td><td>str</td><td>str</td><td>object</td><td>str</td><td>datetime[μs]</td><td>f64</td><td>f64</td></tr></thead><tbody><tr><td>&quot;110009&quot;</td><td>&quot;110009W1&quot;</td><td>&quot;WaterTank1Volume&quot;</td><td>00df10ed-9159-4b71-b564-0cb0b14dfa07</td><td>&quot;bbl&quot;</td><td>2024-03-06 04:11:30.972475</td><td>214.328095</td><td>832.309683</td></tr><tr><td>&quot;110009&quot;</td><td>&quot;110009W2&quot;</td><td>&quot;WaterTank2Volume&quot;</td><td>028aa180-e62d-4079-9b7b-8020a093c4cb</td><td>&quot;bbl&quot;</td><td>2024-03-06 04:12:19.965126</td><td>270.125642</td><td>653.644903</td></tr><tr><td>&quot;110009&quot;</td><td>&quot;110009W2&quot;</td><td>&quot;WaterTank2InchesToESD&quot;</td><td>19ac5155-212e-4848-8385-c75bb90fe624</td><td>&quot;bbl&quot;</td><td>2024-03-06 04:12:52.161838</td><td>201.847233</td><td>653.644903</td></tr><tr><td>&quot;110009&quot;</td><td>&quot;11000901&quot;</td><td>&quot;OilTank1Level&quot;</td><td>1ac3dc19-5a49-441a-92ed-64710d48b4f6</td><td>&quot;in&quot;</td><td>2024-03-06 04:12:34.255959</td><td>82.727023</td><td>479.54315</td></tr><tr><td>&quot;110009&quot;</td><td>&quot;110009W2&quot;</td><td>&quot;WaterTank2Level&quot;</td><td>299d6f76-46e8-49bc-b523-673d70d83097</td><td>&quot;in&quot;</td><td>2024-03-06 04:12:19.965126</td><td>97.245231</td><td>653.644903</td></tr><tr><td>&hellip;</td><td>&hellip;</td><td>&hellip;</td><td>&hellip;</td><td>&hellip;</td><td>&hellip;</td><td>&hellip;</td><td>&hellip;</td></tr><tr><td>&quot;110009&quot;</td><td>&quot;11000902&quot;</td><td>&quot;OilTank2Level&quot;</td><td>c7105e6f-8a8e-4b3d-872d-ed2072f4a655</td><td>&quot;in&quot;</td><td>2024-03-06 04:12:44.646494</td><td>59.778672</td><td>531.081137</td></tr><tr><td>&quot;110009&quot;</td><td>&quot;110009W2&quot;</td><td>&quot;WaterTank2TimeUntilESD&quot;</td><td>d0819024-ab0d-4065-894d-8234e28a8ad3</td><td>&quot;days&quot;</td><td>2024-03-06 04:10:54.038954</td><td>3.161176</td><td>653.644903</td></tr><tr><td>&quot;110009&quot;</td><td>&quot;11000901&quot;</td><td>&quot;OilTank1Volume&quot;</td><td>d6589a9f-f49b-4304-afcb-909c6cf38ba2</td><td>&quot;bbl&quot;</td><td>2024-03-06 04:12:34.255959</td><td>229.797286</td><td>479.54315</td></tr><tr><td>&quot;110009&quot;</td><td>&quot;11000902&quot;</td><td>&quot;OilTank2Volume&quot;</td><td>ec846e9e-1741-4044-8382-a7e1ec4ef4fb</td><td>&quot;bbl&quot;</td><td>2024-03-06 04:12:44.646494</td><td>166.051867</td><td>531.081137</td></tr><tr><td>&quot;110009&quot;</td><td>&quot;11000901&quot;</td><td>&quot;OilTank1InchesToESD&quot;</td><td>eee558fb-cedd-4842-9f78-0b8f421a0148</td><td>&quot;in&quot;</td><td>2024-03-06 04:10:55.545766</td><td>248.584227</td><td>479.54315</td></tr></tbody></table></div>"
      ],
      "text/plain": [
       "shape: (16, 8)\n",
       "┌──────────┬──────────┬──────────────┬──────────────┬──────┬─────────────┬────────────┬────────────┐\n",
       "│ primo_id ┆ scada_id ┆ metric_nice_ ┆ unique_id    ┆ uom  ┆ timestamp   ┆ value      ┆ tanksize   │\n",
       "│ ---      ┆ ---      ┆ name         ┆ ---          ┆ ---  ┆ ---         ┆ ---        ┆ ---        │\n",
       "│ str      ┆ str      ┆ ---          ┆ object       ┆ str  ┆ datetime[μs ┆ f64        ┆ f64        │\n",
       "│          ┆          ┆ str          ┆              ┆      ┆ ]           ┆            ┆            │\n",
       "╞══════════╪══════════╪══════════════╪══════════════╪══════╪═════════════╪════════════╪════════════╡\n",
       "│ 110009   ┆ 110009W1 ┆ WaterTank1Vo ┆ 00df10ed-915 ┆ bbl  ┆ 2024-03-06  ┆ 214.328095 ┆ 832.309683 │\n",
       "│          ┆          ┆ lume         ┆ 9-4b71-b564- ┆      ┆ 04:11:30.97 ┆            ┆            │\n",
       "│          ┆          ┆              ┆ 0cb0b1…      ┆      ┆ 2475        ┆            ┆            │\n",
       "│ 110009   ┆ 110009W2 ┆ WaterTank2Vo ┆ 028aa180-e62 ┆ bbl  ┆ 2024-03-06  ┆ 270.125642 ┆ 653.644903 │\n",
       "│          ┆          ┆ lume         ┆ d-4079-9b7b- ┆      ┆ 04:12:19.96 ┆            ┆            │\n",
       "│          ┆          ┆              ┆ 8020a0…      ┆      ┆ 5126        ┆            ┆            │\n",
       "│ 110009   ┆ 110009W2 ┆ WaterTank2In ┆ 19ac5155-212 ┆ bbl  ┆ 2024-03-06  ┆ 201.847233 ┆ 653.644903 │\n",
       "│          ┆          ┆ chesToESD    ┆ e-4848-8385- ┆      ┆ 04:12:52.16 ┆            ┆            │\n",
       "│          ┆          ┆              ┆ c75bb9…      ┆      ┆ 1838        ┆            ┆            │\n",
       "│ 110009   ┆ 11000901 ┆ OilTank1Leve ┆ 1ac3dc19-5a4 ┆ in   ┆ 2024-03-06  ┆ 82.727023  ┆ 479.54315  │\n",
       "│          ┆          ┆ l            ┆ 9-441a-92ed- ┆      ┆ 04:12:34.25 ┆            ┆            │\n",
       "│          ┆          ┆              ┆ 64710d…      ┆      ┆ 5959        ┆            ┆            │\n",
       "│ 110009   ┆ 110009W2 ┆ WaterTank2Le ┆ 299d6f76-46e ┆ in   ┆ 2024-03-06  ┆ 97.245231  ┆ 653.644903 │\n",
       "│          ┆          ┆ vel          ┆ 8-49bc-b523- ┆      ┆ 04:12:19.96 ┆            ┆            │\n",
       "│          ┆          ┆              ┆ 673d70…      ┆      ┆ 5126        ┆            ┆            │\n",
       "│ …        ┆ …        ┆ …            ┆ …            ┆ …    ┆ …           ┆ …          ┆ …          │\n",
       "│ 110009   ┆ 11000902 ┆ OilTank2Leve ┆ c7105e6f-8a8 ┆ in   ┆ 2024-03-06  ┆ 59.778672  ┆ 531.081137 │\n",
       "│          ┆          ┆ l            ┆ e-4b3d-872d- ┆      ┆ 04:12:44.64 ┆            ┆            │\n",
       "│          ┆          ┆              ┆ ed2072…      ┆      ┆ 6494        ┆            ┆            │\n",
       "│ 110009   ┆ 110009W2 ┆ WaterTank2Ti ┆ d0819024-ab0 ┆ days ┆ 2024-03-06  ┆ 3.161176   ┆ 653.644903 │\n",
       "│          ┆          ┆ meUntilESD   ┆ d-4065-894d- ┆      ┆ 04:10:54.03 ┆            ┆            │\n",
       "│          ┆          ┆              ┆ 8234e2…      ┆      ┆ 8954        ┆            ┆            │\n",
       "│ 110009   ┆ 11000901 ┆ OilTank1Volu ┆ d6589a9f-f49 ┆ bbl  ┆ 2024-03-06  ┆ 229.797286 ┆ 479.54315  │\n",
       "│          ┆          ┆ me           ┆ b-4304-afcb- ┆      ┆ 04:12:34.25 ┆            ┆            │\n",
       "│          ┆          ┆              ┆ 909c6c…      ┆      ┆ 5959        ┆            ┆            │\n",
       "│ 110009   ┆ 11000902 ┆ OilTank2Volu ┆ ec846e9e-174 ┆ bbl  ┆ 2024-03-06  ┆ 166.051867 ┆ 531.081137 │\n",
       "│          ┆          ┆ me           ┆ 1-4044-8382- ┆      ┆ 04:12:44.64 ┆            ┆            │\n",
       "│          ┆          ┆              ┆ a7e1ec…      ┆      ┆ 6494        ┆            ┆            │\n",
       "│ 110009   ┆ 11000901 ┆ OilTank1Inch ┆ eee558fb-ced ┆ in   ┆ 2024-03-06  ┆ 248.584227 ┆ 479.54315  │\n",
       "│          ┆          ┆ esToESD      ┆ d-4842-9f78- ┆      ┆ 04:10:55.54 ┆            ┆            │\n",
       "│          ┆          ┆              ┆ 0b8f42…      ┆      ┆ 5766        ┆            ┆            │\n",
       "└──────────┴──────────┴──────────────┴──────────────┴──────┴─────────────┴────────────┴────────────┘"
      ]
     },
     "execution_count": 15,
     "metadata": {},
     "output_type": "execute_result"
    }
   ],
   "source": [
    "import polars as pl\n",
    "from src.main import GetTanksReq, fetch_tank_data\n",
    "\n",
    "req = GetTanksReq(primo_ids={\"110009\"})\n",
    "\n",
    "df = await fetch_tank_data(req)\n",
    "if df is None:\n",
    "    raise ValueError(\"df is None\")\n",
    "lf = df.lazy()\n",
    "lf.collect()"
   ]
  },
  {
   "cell_type": "code",
   "execution_count": 16,
   "metadata": {},
   "outputs": [
    {
     "data": {
      "text/html": [
       "<div><style>\n",
       ".dataframe > thead > tr,\n",
       ".dataframe > tbody > tr {\n",
       "  text-align: right;\n",
       "  white-space: pre-wrap;\n",
       "}\n",
       "</style>\n",
       "<small>shape: (16, 7)</small><table border=\"1\" class=\"dataframe\"><thead><tr><th>primo_id</th><th>scada_id</th><th>metric_nice_name</th><th>uom</th><th>timestamp</th><th>value</th><th>tanksize</th></tr><tr><td>str</td><td>str</td><td>str</td><td>str</td><td>datetime[μs]</td><td>f64</td><td>f64</td></tr></thead><tbody><tr><td>&quot;110009&quot;</td><td>&quot;110009W1&quot;</td><td>&quot;WaterTank1Volume&quot;</td><td>&quot;bbl&quot;</td><td>2024-03-06 04:11:30.972475</td><td>214.328095</td><td>832.309683</td></tr><tr><td>&quot;110009&quot;</td><td>&quot;110009W2&quot;</td><td>&quot;WaterTank2Volume&quot;</td><td>&quot;bbl&quot;</td><td>2024-03-06 04:12:19.965126</td><td>270.125642</td><td>653.644903</td></tr><tr><td>&quot;110009&quot;</td><td>&quot;110009W2&quot;</td><td>&quot;WaterTank2InchesToESD&quot;</td><td>&quot;bbl&quot;</td><td>2024-03-06 04:12:52.161838</td><td>201.847233</td><td>653.644903</td></tr><tr><td>&quot;110009&quot;</td><td>&quot;11000901&quot;</td><td>&quot;OilTank1Level&quot;</td><td>&quot;in&quot;</td><td>2024-03-06 04:12:34.255959</td><td>82.727023</td><td>479.54315</td></tr><tr><td>&quot;110009&quot;</td><td>&quot;110009W2&quot;</td><td>&quot;WaterTank2Level&quot;</td><td>&quot;in&quot;</td><td>2024-03-06 04:12:19.965126</td><td>97.245231</td><td>653.644903</td></tr><tr><td>&hellip;</td><td>&hellip;</td><td>&hellip;</td><td>&hellip;</td><td>&hellip;</td><td>&hellip;</td><td>&hellip;</td></tr><tr><td>&quot;110009&quot;</td><td>&quot;11000902&quot;</td><td>&quot;OilTank2Level&quot;</td><td>&quot;in&quot;</td><td>2024-03-06 04:12:44.646494</td><td>59.778672</td><td>531.081137</td></tr><tr><td>&quot;110009&quot;</td><td>&quot;110009W2&quot;</td><td>&quot;WaterTank2TimeUntilESD&quot;</td><td>&quot;days&quot;</td><td>2024-03-06 04:10:54.038954</td><td>3.161176</td><td>653.644903</td></tr><tr><td>&quot;110009&quot;</td><td>&quot;11000901&quot;</td><td>&quot;OilTank1Volume&quot;</td><td>&quot;bbl&quot;</td><td>2024-03-06 04:12:34.255959</td><td>229.797286</td><td>479.54315</td></tr><tr><td>&quot;110009&quot;</td><td>&quot;11000902&quot;</td><td>&quot;OilTank2Volume&quot;</td><td>&quot;bbl&quot;</td><td>2024-03-06 04:12:44.646494</td><td>166.051867</td><td>531.081137</td></tr><tr><td>&quot;110009&quot;</td><td>&quot;11000901&quot;</td><td>&quot;OilTank1InchesToESD&quot;</td><td>&quot;in&quot;</td><td>2024-03-06 04:10:55.545766</td><td>248.584227</td><td>479.54315</td></tr></tbody></table></div>"
      ],
      "text/plain": [
       "shape: (16, 7)\n",
       "┌──────────┬──────────┬─────────────────────────┬──────┬─────────────────┬────────────┬────────────┐\n",
       "│ primo_id ┆ scada_id ┆ metric_nice_name        ┆ uom  ┆ timestamp       ┆ value      ┆ tanksize   │\n",
       "│ ---      ┆ ---      ┆ ---                     ┆ ---  ┆ ---             ┆ ---        ┆ ---        │\n",
       "│ str      ┆ str      ┆ str                     ┆ str  ┆ datetime[μs]    ┆ f64        ┆ f64        │\n",
       "╞══════════╪══════════╪═════════════════════════╪══════╪═════════════════╪════════════╪════════════╡\n",
       "│ 110009   ┆ 110009W1 ┆ WaterTank1Volume        ┆ bbl  ┆ 2024-03-06      ┆ 214.328095 ┆ 832.309683 │\n",
       "│          ┆          ┆                         ┆      ┆ 04:11:30.972475 ┆            ┆            │\n",
       "│ 110009   ┆ 110009W2 ┆ WaterTank2Volume        ┆ bbl  ┆ 2024-03-06      ┆ 270.125642 ┆ 653.644903 │\n",
       "│          ┆          ┆                         ┆      ┆ 04:12:19.965126 ┆            ┆            │\n",
       "│ 110009   ┆ 110009W2 ┆ WaterTank2InchesToESD   ┆ bbl  ┆ 2024-03-06      ┆ 201.847233 ┆ 653.644903 │\n",
       "│          ┆          ┆                         ┆      ┆ 04:12:52.161838 ┆            ┆            │\n",
       "│ 110009   ┆ 11000901 ┆ OilTank1Level           ┆ in   ┆ 2024-03-06      ┆ 82.727023  ┆ 479.54315  │\n",
       "│          ┆          ┆                         ┆      ┆ 04:12:34.255959 ┆            ┆            │\n",
       "│ 110009   ┆ 110009W2 ┆ WaterTank2Level         ┆ in   ┆ 2024-03-06      ┆ 97.245231  ┆ 653.644903 │\n",
       "│          ┆          ┆                         ┆      ┆ 04:12:19.965126 ┆            ┆            │\n",
       "│ …        ┆ …        ┆ …                       ┆ …    ┆ …               ┆ …          ┆ …          │\n",
       "│ 110009   ┆ 11000902 ┆ OilTank2Level           ┆ in   ┆ 2024-03-06      ┆ 59.778672  ┆ 531.081137 │\n",
       "│          ┆          ┆                         ┆      ┆ 04:12:44.646494 ┆            ┆            │\n",
       "│ 110009   ┆ 110009W2 ┆ WaterTank2TimeUntilESD  ┆ days ┆ 2024-03-06      ┆ 3.161176   ┆ 653.644903 │\n",
       "│          ┆          ┆                         ┆      ┆ 04:10:54.038954 ┆            ┆            │\n",
       "│ 110009   ┆ 11000901 ┆ OilTank1Volume          ┆ bbl  ┆ 2024-03-06      ┆ 229.797286 ┆ 479.54315  │\n",
       "│          ┆          ┆                         ┆      ┆ 04:12:34.255959 ┆            ┆            │\n",
       "│ 110009   ┆ 11000902 ┆ OilTank2Volume          ┆ bbl  ┆ 2024-03-06      ┆ 166.051867 ┆ 531.081137 │\n",
       "│          ┆          ┆                         ┆      ┆ 04:12:44.646494 ┆            ┆            │\n",
       "│ 110009   ┆ 11000901 ┆ OilTank1InchesToESD     ┆ in   ┆ 2024-03-06      ┆ 248.584227 ┆ 479.54315  │\n",
       "│          ┆          ┆                         ┆      ┆ 04:10:55.545766 ┆            ┆            │\n",
       "└──────────┴──────────┴─────────────────────────┴──────┴─────────────────┴────────────┴────────────┘"
      ]
     },
     "execution_count": 16,
     "metadata": {},
     "output_type": "execute_result"
    }
   ],
   "source": [
    "lf = lf.drop(\"unique_id\")\n",
    "lf.collect()"
   ]
  },
  {
   "cell_type": "code",
   "execution_count": 17,
   "metadata": {},
   "outputs": [
    {
     "data": {
      "text/html": [
       "<div><style>\n",
       ".dataframe > thead > tr,\n",
       ".dataframe > tbody > tr {\n",
       "  text-align: right;\n",
       "  white-space: pre-wrap;\n",
       "}\n",
       "</style>\n",
       "<small>shape: (16, 8)</small><table border=\"1\" class=\"dataframe\"><thead><tr><th>primo_id</th><th>scada_id</th><th>metric_nice_name</th><th>uom</th><th>timestamp</th><th>value</th><th>tanksize</th><th>separated_metrics</th></tr><tr><td>str</td><td>str</td><td>str</td><td>str</td><td>datetime[μs]</td><td>f64</td><td>f64</td><td>struct[4]</td></tr></thead><tbody><tr><td>&quot;110009&quot;</td><td>&quot;110009W1&quot;</td><td>&quot;WaterTank1Volume&quot;</td><td>&quot;bbl&quot;</td><td>2024-03-06 04:11:30.972475</td><td>214.328095</td><td>832.309683</td><td>{null,&quot;Water&quot;,&quot;1&quot;,&quot;Volume&quot;}</td></tr><tr><td>&quot;110009&quot;</td><td>&quot;110009W2&quot;</td><td>&quot;WaterTank2Volume&quot;</td><td>&quot;bbl&quot;</td><td>2024-03-06 04:12:19.965126</td><td>270.125642</td><td>653.644903</td><td>{null,&quot;Water&quot;,&quot;2&quot;,&quot;Volume&quot;}</td></tr><tr><td>&quot;110009&quot;</td><td>&quot;110009W2&quot;</td><td>&quot;WaterTank2InchesToESD&quot;</td><td>&quot;bbl&quot;</td><td>2024-03-06 04:12:52.161838</td><td>201.847233</td><td>653.644903</td><td>{null,&quot;Water&quot;,&quot;2&quot;,&quot;InchesToESD&quot;}</td></tr><tr><td>&quot;110009&quot;</td><td>&quot;11000901&quot;</td><td>&quot;OilTank1Level&quot;</td><td>&quot;in&quot;</td><td>2024-03-06 04:12:34.255959</td><td>82.727023</td><td>479.54315</td><td>{null,&quot;Oil&quot;,&quot;1&quot;,&quot;Level&quot;}</td></tr><tr><td>&quot;110009&quot;</td><td>&quot;110009W2&quot;</td><td>&quot;WaterTank2Level&quot;</td><td>&quot;in&quot;</td><td>2024-03-06 04:12:19.965126</td><td>97.245231</td><td>653.644903</td><td>{null,&quot;Water&quot;,&quot;2&quot;,&quot;Level&quot;}</td></tr><tr><td>&hellip;</td><td>&hellip;</td><td>&hellip;</td><td>&hellip;</td><td>&hellip;</td><td>&hellip;</td><td>&hellip;</td><td>&hellip;</td></tr><tr><td>&quot;110009&quot;</td><td>&quot;11000902&quot;</td><td>&quot;OilTank2Level&quot;</td><td>&quot;in&quot;</td><td>2024-03-06 04:12:44.646494</td><td>59.778672</td><td>531.081137</td><td>{null,&quot;Oil&quot;,&quot;2&quot;,&quot;Level&quot;}</td></tr><tr><td>&quot;110009&quot;</td><td>&quot;110009W2&quot;</td><td>&quot;WaterTank2TimeUntilESD&quot;</td><td>&quot;days&quot;</td><td>2024-03-06 04:10:54.038954</td><td>3.161176</td><td>653.644903</td><td>{null,&quot;Water&quot;,&quot;2&quot;,&quot;TimeUntilESD&quot;}</td></tr><tr><td>&quot;110009&quot;</td><td>&quot;11000901&quot;</td><td>&quot;OilTank1Volume&quot;</td><td>&quot;bbl&quot;</td><td>2024-03-06 04:12:34.255959</td><td>229.797286</td><td>479.54315</td><td>{null,&quot;Oil&quot;,&quot;1&quot;,&quot;Volume&quot;}</td></tr><tr><td>&quot;110009&quot;</td><td>&quot;11000902&quot;</td><td>&quot;OilTank2Volume&quot;</td><td>&quot;bbl&quot;</td><td>2024-03-06 04:12:44.646494</td><td>166.051867</td><td>531.081137</td><td>{null,&quot;Oil&quot;,&quot;2&quot;,&quot;Volume&quot;}</td></tr><tr><td>&quot;110009&quot;</td><td>&quot;11000901&quot;</td><td>&quot;OilTank1InchesToESD&quot;</td><td>&quot;in&quot;</td><td>2024-03-06 04:10:55.545766</td><td>248.584227</td><td>479.54315</td><td>{null,&quot;Oil&quot;,&quot;1&quot;,&quot;InchesToESD&quot;}</td></tr></tbody></table></div>"
      ],
      "text/plain": [
       "shape: (16, 8)\n",
       "┌──────────┬──────────┬──────────────┬──────┬──────────────┬────────────┬────────────┬─────────────┐\n",
       "│ primo_id ┆ scada_id ┆ metric_nice_ ┆ uom  ┆ timestamp    ┆ value      ┆ tanksize   ┆ separated_m │\n",
       "│ ---      ┆ ---      ┆ name         ┆ ---  ┆ ---          ┆ ---        ┆ ---        ┆ etrics      │\n",
       "│ str      ┆ str      ┆ ---          ┆ str  ┆ datetime[μs] ┆ f64        ┆ f64        ┆ ---         │\n",
       "│          ┆          ┆ str          ┆      ┆              ┆            ┆            ┆ struct[4]   │\n",
       "╞══════════╪══════════╪══════════════╪══════╪══════════════╪════════════╪════════════╪═════════════╡\n",
       "│ 110009   ┆ 110009W1 ┆ WaterTank1Vo ┆ bbl  ┆ 2024-03-06   ┆ 214.328095 ┆ 832.309683 ┆ {null,\"Wate │\n",
       "│          ┆          ┆ lume         ┆      ┆ 04:11:30.972 ┆            ┆            ┆ r\",\"1\",\"Vol │\n",
       "│          ┆          ┆              ┆      ┆ 475          ┆            ┆            ┆ ume\"}       │\n",
       "│ 110009   ┆ 110009W2 ┆ WaterTank2Vo ┆ bbl  ┆ 2024-03-06   ┆ 270.125642 ┆ 653.644903 ┆ {null,\"Wate │\n",
       "│          ┆          ┆ lume         ┆      ┆ 04:12:19.965 ┆            ┆            ┆ r\",\"2\",\"Vol │\n",
       "│          ┆          ┆              ┆      ┆ 126          ┆            ┆            ┆ ume\"}       │\n",
       "│ 110009   ┆ 110009W2 ┆ WaterTank2In ┆ bbl  ┆ 2024-03-06   ┆ 201.847233 ┆ 653.644903 ┆ {null,\"Wate │\n",
       "│          ┆          ┆ chesToESD    ┆      ┆ 04:12:52.161 ┆            ┆            ┆ r\",\"2\",\"Inc │\n",
       "│          ┆          ┆              ┆      ┆ 838          ┆            ┆            ┆ hesToESD…   │\n",
       "│ 110009   ┆ 11000901 ┆ OilTank1Leve ┆ in   ┆ 2024-03-06   ┆ 82.727023  ┆ 479.54315  ┆ {null,\"Oil\" │\n",
       "│          ┆          ┆ l            ┆      ┆ 04:12:34.255 ┆            ┆            ┆ ,\"1\",\"Level │\n",
       "│          ┆          ┆              ┆      ┆ 959          ┆            ┆            ┆ \"}          │\n",
       "│ 110009   ┆ 110009W2 ┆ WaterTank2Le ┆ in   ┆ 2024-03-06   ┆ 97.245231  ┆ 653.644903 ┆ {null,\"Wate │\n",
       "│          ┆          ┆ vel          ┆      ┆ 04:12:19.965 ┆            ┆            ┆ r\",\"2\",\"Lev │\n",
       "│          ┆          ┆              ┆      ┆ 126          ┆            ┆            ┆ el\"}        │\n",
       "│ …        ┆ …        ┆ …            ┆ …    ┆ …            ┆ …          ┆ …          ┆ …           │\n",
       "│ 110009   ┆ 11000902 ┆ OilTank2Leve ┆ in   ┆ 2024-03-06   ┆ 59.778672  ┆ 531.081137 ┆ {null,\"Oil\" │\n",
       "│          ┆          ┆ l            ┆      ┆ 04:12:44.646 ┆            ┆            ┆ ,\"2\",\"Level │\n",
       "│          ┆          ┆              ┆      ┆ 494          ┆            ┆            ┆ \"}          │\n",
       "│ 110009   ┆ 110009W2 ┆ WaterTank2Ti ┆ days ┆ 2024-03-06   ┆ 3.161176   ┆ 653.644903 ┆ {null,\"Wate │\n",
       "│          ┆          ┆ meUntilESD   ┆      ┆ 04:10:54.038 ┆            ┆            ┆ r\",\"2\",\"Tim │\n",
       "│          ┆          ┆              ┆      ┆ 954          ┆            ┆            ┆ eUntilES…   │\n",
       "│ 110009   ┆ 11000901 ┆ OilTank1Volu ┆ bbl  ┆ 2024-03-06   ┆ 229.797286 ┆ 479.54315  ┆ {null,\"Oil\" │\n",
       "│          ┆          ┆ me           ┆      ┆ 04:12:34.255 ┆            ┆            ┆ ,\"1\",\"Volum │\n",
       "│          ┆          ┆              ┆      ┆ 959          ┆            ┆            ┆ e\"}         │\n",
       "│ 110009   ┆ 11000902 ┆ OilTank2Volu ┆ bbl  ┆ 2024-03-06   ┆ 166.051867 ┆ 531.081137 ┆ {null,\"Oil\" │\n",
       "│          ┆          ┆ me           ┆      ┆ 04:12:44.646 ┆            ┆            ┆ ,\"2\",\"Volum │\n",
       "│          ┆          ┆              ┆      ┆ 494          ┆            ┆            ┆ e\"}         │\n",
       "│ 110009   ┆ 11000901 ┆ OilTank1Inch ┆ in   ┆ 2024-03-06   ┆ 248.584227 ┆ 479.54315  ┆ {null,\"Oil\" │\n",
       "│          ┆          ┆ esToESD      ┆      ┆ 04:10:55.545 ┆            ┆            ┆ ,\"1\",\"Inche │\n",
       "│          ┆          ┆              ┆      ┆ 766          ┆            ┆            ┆ sToESD\"}    │\n",
       "└──────────┴──────────┴──────────────┴──────┴──────────────┴────────────┴────────────┴─────────────┘"
      ]
     },
     "execution_count": 17,
     "metadata": {},
     "output_type": "execute_result"
    }
   ],
   "source": [
    "tank_metrics = [\"Level\", \"Volume\", \"InchesUntilAlarm\", \"InchesToESD\", \"TimeUntilESD\", \"Capacity\", \"ID\"]\n",
    "tank_types = [\"Water\", \"Oil\"]\n",
    "\n",
    "tank_metrics_str= \"|\".join(tank_metrics)\n",
    "tank_types_str = \"|\".join(tank_types)\n",
    "\n",
    "pattern = f'^(?<is_ESD>ESD-)?(?<tank_type>{tank_types_str})Tank(?<tank_number>[0-9]*)(?<tank_metric>{tank_metrics_str})'\n",
    "lf = lf.with_columns(separated_metrics = pl.col(\"metric_nice_name\").str.extract_groups(pattern))\n",
    "lf.collect()"
   ]
  },
  {
   "cell_type": "code",
   "execution_count": 18,
   "metadata": {},
   "outputs": [
    {
     "data": {
      "text/html": [
       "<div><style>\n",
       ".dataframe > thead > tr,\n",
       ".dataframe > tbody > tr {\n",
       "  text-align: right;\n",
       "  white-space: pre-wrap;\n",
       "}\n",
       "</style>\n",
       "<small>shape: (16, 11)</small><table border=\"1\" class=\"dataframe\"><thead><tr><th>primo_id</th><th>scada_id</th><th>metric_nice_name</th><th>uom</th><th>timestamp</th><th>value</th><th>tanksize</th><th>is_ESD</th><th>tank_type</th><th>tank_number</th><th>tank_metric</th></tr><tr><td>str</td><td>str</td><td>str</td><td>str</td><td>datetime[μs]</td><td>f64</td><td>f64</td><td>str</td><td>str</td><td>str</td><td>str</td></tr></thead><tbody><tr><td>&quot;110009&quot;</td><td>&quot;110009W1&quot;</td><td>&quot;WaterTank1Volume&quot;</td><td>&quot;bbl&quot;</td><td>2024-03-06 04:11:30.972475</td><td>214.328095</td><td>832.309683</td><td>null</td><td>&quot;Water&quot;</td><td>&quot;1&quot;</td><td>&quot;Volume&quot;</td></tr><tr><td>&quot;110009&quot;</td><td>&quot;110009W2&quot;</td><td>&quot;WaterTank2Volume&quot;</td><td>&quot;bbl&quot;</td><td>2024-03-06 04:12:19.965126</td><td>270.125642</td><td>653.644903</td><td>null</td><td>&quot;Water&quot;</td><td>&quot;2&quot;</td><td>&quot;Volume&quot;</td></tr><tr><td>&quot;110009&quot;</td><td>&quot;110009W2&quot;</td><td>&quot;WaterTank2InchesToESD&quot;</td><td>&quot;bbl&quot;</td><td>2024-03-06 04:12:52.161838</td><td>201.847233</td><td>653.644903</td><td>null</td><td>&quot;Water&quot;</td><td>&quot;2&quot;</td><td>&quot;InchesToESD&quot;</td></tr><tr><td>&quot;110009&quot;</td><td>&quot;11000901&quot;</td><td>&quot;OilTank1Level&quot;</td><td>&quot;in&quot;</td><td>2024-03-06 04:12:34.255959</td><td>82.727023</td><td>479.54315</td><td>null</td><td>&quot;Oil&quot;</td><td>&quot;1&quot;</td><td>&quot;Level&quot;</td></tr><tr><td>&quot;110009&quot;</td><td>&quot;110009W2&quot;</td><td>&quot;WaterTank2Level&quot;</td><td>&quot;in&quot;</td><td>2024-03-06 04:12:19.965126</td><td>97.245231</td><td>653.644903</td><td>null</td><td>&quot;Water&quot;</td><td>&quot;2&quot;</td><td>&quot;Level&quot;</td></tr><tr><td>&hellip;</td><td>&hellip;</td><td>&hellip;</td><td>&hellip;</td><td>&hellip;</td><td>&hellip;</td><td>&hellip;</td><td>&hellip;</td><td>&hellip;</td><td>&hellip;</td><td>&hellip;</td></tr><tr><td>&quot;110009&quot;</td><td>&quot;11000902&quot;</td><td>&quot;OilTank2Level&quot;</td><td>&quot;in&quot;</td><td>2024-03-06 04:12:44.646494</td><td>59.778672</td><td>531.081137</td><td>null</td><td>&quot;Oil&quot;</td><td>&quot;2&quot;</td><td>&quot;Level&quot;</td></tr><tr><td>&quot;110009&quot;</td><td>&quot;110009W2&quot;</td><td>&quot;WaterTank2TimeUntilESD&quot;</td><td>&quot;days&quot;</td><td>2024-03-06 04:10:54.038954</td><td>3.161176</td><td>653.644903</td><td>null</td><td>&quot;Water&quot;</td><td>&quot;2&quot;</td><td>&quot;TimeUntilESD&quot;</td></tr><tr><td>&quot;110009&quot;</td><td>&quot;11000901&quot;</td><td>&quot;OilTank1Volume&quot;</td><td>&quot;bbl&quot;</td><td>2024-03-06 04:12:34.255959</td><td>229.797286</td><td>479.54315</td><td>null</td><td>&quot;Oil&quot;</td><td>&quot;1&quot;</td><td>&quot;Volume&quot;</td></tr><tr><td>&quot;110009&quot;</td><td>&quot;11000902&quot;</td><td>&quot;OilTank2Volume&quot;</td><td>&quot;bbl&quot;</td><td>2024-03-06 04:12:44.646494</td><td>166.051867</td><td>531.081137</td><td>null</td><td>&quot;Oil&quot;</td><td>&quot;2&quot;</td><td>&quot;Volume&quot;</td></tr><tr><td>&quot;110009&quot;</td><td>&quot;11000901&quot;</td><td>&quot;OilTank1InchesToESD&quot;</td><td>&quot;in&quot;</td><td>2024-03-06 04:10:55.545766</td><td>248.584227</td><td>479.54315</td><td>null</td><td>&quot;Oil&quot;</td><td>&quot;1&quot;</td><td>&quot;InchesToESD&quot;</td></tr></tbody></table></div>"
      ],
      "text/plain": [
       "shape: (16, 11)\n",
       "┌──────────┬──────────┬───────────────┬──────┬───┬────────┬───────────┬─────────────┬──────────────┐\n",
       "│ primo_id ┆ scada_id ┆ metric_nice_n ┆ uom  ┆ … ┆ is_ESD ┆ tank_type ┆ tank_number ┆ tank_metric  │\n",
       "│ ---      ┆ ---      ┆ ame           ┆ ---  ┆   ┆ ---    ┆ ---       ┆ ---         ┆ ---          │\n",
       "│ str      ┆ str      ┆ ---           ┆ str  ┆   ┆ str    ┆ str       ┆ str         ┆ str          │\n",
       "│          ┆          ┆ str           ┆      ┆   ┆        ┆           ┆             ┆              │\n",
       "╞══════════╪══════════╪═══════════════╪══════╪═══╪════════╪═══════════╪═════════════╪══════════════╡\n",
       "│ 110009   ┆ 110009W1 ┆ WaterTank1Vol ┆ bbl  ┆ … ┆ null   ┆ Water     ┆ 1           ┆ Volume       │\n",
       "│          ┆          ┆ ume           ┆      ┆   ┆        ┆           ┆             ┆              │\n",
       "│ 110009   ┆ 110009W2 ┆ WaterTank2Vol ┆ bbl  ┆ … ┆ null   ┆ Water     ┆ 2           ┆ Volume       │\n",
       "│          ┆          ┆ ume           ┆      ┆   ┆        ┆           ┆             ┆              │\n",
       "│ 110009   ┆ 110009W2 ┆ WaterTank2Inc ┆ bbl  ┆ … ┆ null   ┆ Water     ┆ 2           ┆ InchesToESD  │\n",
       "│          ┆          ┆ hesToESD      ┆      ┆   ┆        ┆           ┆             ┆              │\n",
       "│ 110009   ┆ 11000901 ┆ OilTank1Level ┆ in   ┆ … ┆ null   ┆ Oil       ┆ 1           ┆ Level        │\n",
       "│ 110009   ┆ 110009W2 ┆ WaterTank2Lev ┆ in   ┆ … ┆ null   ┆ Water     ┆ 2           ┆ Level        │\n",
       "│          ┆          ┆ el            ┆      ┆   ┆        ┆           ┆             ┆              │\n",
       "│ …        ┆ …        ┆ …             ┆ …    ┆ … ┆ …      ┆ …         ┆ …           ┆ …            │\n",
       "│ 110009   ┆ 11000902 ┆ OilTank2Level ┆ in   ┆ … ┆ null   ┆ Oil       ┆ 2           ┆ Level        │\n",
       "│ 110009   ┆ 110009W2 ┆ WaterTank2Tim ┆ days ┆ … ┆ null   ┆ Water     ┆ 2           ┆ TimeUntilESD │\n",
       "│          ┆          ┆ eUntilESD     ┆      ┆   ┆        ┆           ┆             ┆              │\n",
       "│ 110009   ┆ 11000901 ┆ OilTank1Volum ┆ bbl  ┆ … ┆ null   ┆ Oil       ┆ 1           ┆ Volume       │\n",
       "│          ┆          ┆ e             ┆      ┆   ┆        ┆           ┆             ┆              │\n",
       "│ 110009   ┆ 11000902 ┆ OilTank2Volum ┆ bbl  ┆ … ┆ null   ┆ Oil       ┆ 2           ┆ Volume       │\n",
       "│          ┆          ┆ e             ┆      ┆   ┆        ┆           ┆             ┆              │\n",
       "│ 110009   ┆ 11000901 ┆ OilTank1Inche ┆ in   ┆ … ┆ null   ┆ Oil       ┆ 1           ┆ InchesToESD  │\n",
       "│          ┆          ┆ sToESD        ┆      ┆   ┆        ┆           ┆             ┆              │\n",
       "└──────────┴──────────┴───────────────┴──────┴───┴────────┴───────────┴─────────────┴──────────────┘"
      ]
     },
     "execution_count": 18,
     "metadata": {},
     "output_type": "execute_result"
    }
   ],
   "source": [
    "lf = lf.unnest(\"separated_metrics\")\n",
    "lf.collect()"
   ]
  },
  {
   "cell_type": "code",
   "execution_count": 19,
   "metadata": {},
   "outputs": [
    {
     "data": {
      "text/html": [
       "<div><style>\n",
       ".dataframe > thead > tr,\n",
       ".dataframe > tbody > tr {\n",
       "  text-align: right;\n",
       "  white-space: pre-wrap;\n",
       "}\n",
       "</style>\n",
       "<small>shape: (16, 11)</small><table border=\"1\" class=\"dataframe\"><thead><tr><th>primo_id</th><th>scada_id</th><th>metric_nice_name</th><th>uom</th><th>timestamp</th><th>value</th><th>tanksize</th><th>is_ESD</th><th>tank_type</th><th>tank_number</th><th>tank_metric</th></tr><tr><td>str</td><td>str</td><td>str</td><td>str</td><td>datetime[μs]</td><td>f64</td><td>f64</td><td>str</td><td>str</td><td>u8</td><td>str</td></tr></thead><tbody><tr><td>&quot;110009&quot;</td><td>&quot;110009W1&quot;</td><td>&quot;WaterTank1Volume&quot;</td><td>&quot;bbl&quot;</td><td>2024-03-06 04:11:30.972475</td><td>214.328095</td><td>832.309683</td><td>null</td><td>&quot;Water&quot;</td><td>1</td><td>&quot;Volume&quot;</td></tr><tr><td>&quot;110009&quot;</td><td>&quot;110009W2&quot;</td><td>&quot;WaterTank2Volume&quot;</td><td>&quot;bbl&quot;</td><td>2024-03-06 04:12:19.965126</td><td>270.125642</td><td>653.644903</td><td>null</td><td>&quot;Water&quot;</td><td>2</td><td>&quot;Volume&quot;</td></tr><tr><td>&quot;110009&quot;</td><td>&quot;110009W2&quot;</td><td>&quot;WaterTank2InchesToESD&quot;</td><td>&quot;bbl&quot;</td><td>2024-03-06 04:12:52.161838</td><td>201.847233</td><td>653.644903</td><td>null</td><td>&quot;Water&quot;</td><td>2</td><td>&quot;InchesToESD&quot;</td></tr><tr><td>&quot;110009&quot;</td><td>&quot;11000901&quot;</td><td>&quot;OilTank1Level&quot;</td><td>&quot;in&quot;</td><td>2024-03-06 04:12:34.255959</td><td>82.727023</td><td>479.54315</td><td>null</td><td>&quot;Oil&quot;</td><td>1</td><td>&quot;Level&quot;</td></tr><tr><td>&quot;110009&quot;</td><td>&quot;110009W2&quot;</td><td>&quot;WaterTank2Level&quot;</td><td>&quot;in&quot;</td><td>2024-03-06 04:12:19.965126</td><td>97.245231</td><td>653.644903</td><td>null</td><td>&quot;Water&quot;</td><td>2</td><td>&quot;Level&quot;</td></tr><tr><td>&hellip;</td><td>&hellip;</td><td>&hellip;</td><td>&hellip;</td><td>&hellip;</td><td>&hellip;</td><td>&hellip;</td><td>&hellip;</td><td>&hellip;</td><td>&hellip;</td><td>&hellip;</td></tr><tr><td>&quot;110009&quot;</td><td>&quot;11000902&quot;</td><td>&quot;OilTank2Level&quot;</td><td>&quot;in&quot;</td><td>2024-03-06 04:12:44.646494</td><td>59.778672</td><td>531.081137</td><td>null</td><td>&quot;Oil&quot;</td><td>2</td><td>&quot;Level&quot;</td></tr><tr><td>&quot;110009&quot;</td><td>&quot;110009W2&quot;</td><td>&quot;WaterTank2TimeUntilESD&quot;</td><td>&quot;days&quot;</td><td>2024-03-06 04:10:54.038954</td><td>3.161176</td><td>653.644903</td><td>null</td><td>&quot;Water&quot;</td><td>2</td><td>&quot;TimeUntilESD&quot;</td></tr><tr><td>&quot;110009&quot;</td><td>&quot;11000901&quot;</td><td>&quot;OilTank1Volume&quot;</td><td>&quot;bbl&quot;</td><td>2024-03-06 04:12:34.255959</td><td>229.797286</td><td>479.54315</td><td>null</td><td>&quot;Oil&quot;</td><td>1</td><td>&quot;Volume&quot;</td></tr><tr><td>&quot;110009&quot;</td><td>&quot;11000902&quot;</td><td>&quot;OilTank2Volume&quot;</td><td>&quot;bbl&quot;</td><td>2024-03-06 04:12:44.646494</td><td>166.051867</td><td>531.081137</td><td>null</td><td>&quot;Oil&quot;</td><td>2</td><td>&quot;Volume&quot;</td></tr><tr><td>&quot;110009&quot;</td><td>&quot;11000901&quot;</td><td>&quot;OilTank1InchesToESD&quot;</td><td>&quot;in&quot;</td><td>2024-03-06 04:10:55.545766</td><td>248.584227</td><td>479.54315</td><td>null</td><td>&quot;Oil&quot;</td><td>1</td><td>&quot;InchesToESD&quot;</td></tr></tbody></table></div>"
      ],
      "text/plain": [
       "shape: (16, 11)\n",
       "┌──────────┬──────────┬───────────────┬──────┬───┬────────┬───────────┬─────────────┬──────────────┐\n",
       "│ primo_id ┆ scada_id ┆ metric_nice_n ┆ uom  ┆ … ┆ is_ESD ┆ tank_type ┆ tank_number ┆ tank_metric  │\n",
       "│ ---      ┆ ---      ┆ ame           ┆ ---  ┆   ┆ ---    ┆ ---       ┆ ---         ┆ ---          │\n",
       "│ str      ┆ str      ┆ ---           ┆ str  ┆   ┆ str    ┆ str       ┆ u8          ┆ str          │\n",
       "│          ┆          ┆ str           ┆      ┆   ┆        ┆           ┆             ┆              │\n",
       "╞══════════╪══════════╪═══════════════╪══════╪═══╪════════╪═══════════╪═════════════╪══════════════╡\n",
       "│ 110009   ┆ 110009W1 ┆ WaterTank1Vol ┆ bbl  ┆ … ┆ null   ┆ Water     ┆ 1           ┆ Volume       │\n",
       "│          ┆          ┆ ume           ┆      ┆   ┆        ┆           ┆             ┆              │\n",
       "│ 110009   ┆ 110009W2 ┆ WaterTank2Vol ┆ bbl  ┆ … ┆ null   ┆ Water     ┆ 2           ┆ Volume       │\n",
       "│          ┆          ┆ ume           ┆      ┆   ┆        ┆           ┆             ┆              │\n",
       "│ 110009   ┆ 110009W2 ┆ WaterTank2Inc ┆ bbl  ┆ … ┆ null   ┆ Water     ┆ 2           ┆ InchesToESD  │\n",
       "│          ┆          ┆ hesToESD      ┆      ┆   ┆        ┆           ┆             ┆              │\n",
       "│ 110009   ┆ 11000901 ┆ OilTank1Level ┆ in   ┆ … ┆ null   ┆ Oil       ┆ 1           ┆ Level        │\n",
       "│ 110009   ┆ 110009W2 ┆ WaterTank2Lev ┆ in   ┆ … ┆ null   ┆ Water     ┆ 2           ┆ Level        │\n",
       "│          ┆          ┆ el            ┆      ┆   ┆        ┆           ┆             ┆              │\n",
       "│ …        ┆ …        ┆ …             ┆ …    ┆ … ┆ …      ┆ …         ┆ …           ┆ …            │\n",
       "│ 110009   ┆ 11000902 ┆ OilTank2Level ┆ in   ┆ … ┆ null   ┆ Oil       ┆ 2           ┆ Level        │\n",
       "│ 110009   ┆ 110009W2 ┆ WaterTank2Tim ┆ days ┆ … ┆ null   ┆ Water     ┆ 2           ┆ TimeUntilESD │\n",
       "│          ┆          ┆ eUntilESD     ┆      ┆   ┆        ┆           ┆             ┆              │\n",
       "│ 110009   ┆ 11000901 ┆ OilTank1Volum ┆ bbl  ┆ … ┆ null   ┆ Oil       ┆ 1           ┆ Volume       │\n",
       "│          ┆          ┆ e             ┆      ┆   ┆        ┆           ┆             ┆              │\n",
       "│ 110009   ┆ 11000902 ┆ OilTank2Volum ┆ bbl  ┆ … ┆ null   ┆ Oil       ┆ 2           ┆ Volume       │\n",
       "│          ┆          ┆ e             ┆      ┆   ┆        ┆           ┆             ┆              │\n",
       "│ 110009   ┆ 11000901 ┆ OilTank1Inche ┆ in   ┆ … ┆ null   ┆ Oil       ┆ 1           ┆ InchesToESD  │\n",
       "│          ┆          ┆ sToESD        ┆      ┆   ┆        ┆           ┆             ┆              │\n",
       "└──────────┴──────────┴───────────────┴──────┴───┴────────┴───────────┴─────────────┴──────────────┘"
      ]
     },
     "execution_count": 19,
     "metadata": {},
     "output_type": "execute_result"
    }
   ],
   "source": [
    "lf = lf.with_columns(pl.col(\"tank_number\").cast(pl.UInt8, strict=False))\n",
    "lf.collect()"
   ]
  },
  {
   "cell_type": "code",
   "execution_count": 20,
   "metadata": {},
   "outputs": [
    {
     "data": {
      "text/html": [
       "<div><style>\n",
       ".dataframe > thead > tr,\n",
       ".dataframe > tbody > tr {\n",
       "  text-align: right;\n",
       "  white-space: pre-wrap;\n",
       "}\n",
       "</style>\n",
       "<small>shape: (4, 11)</small><table border=\"1\" class=\"dataframe\"><thead><tr><th>primo_id</th><th>tank_type</th><th>tank_number</th><th>scada_id</th><th>Level</th><th>Volume</th><th>InchesUntilAlarm</th><th>InchesToESD</th><th>TimeUntilESD</th><th>Capacity</th><th>ID</th></tr><tr><td>str</td><td>str</td><td>u8</td><td>str</td><td>f64</td><td>f64</td><td>f64</td><td>f64</td><td>f64</td><td>f64</td><td>f64</td></tr></thead><tbody><tr><td>&quot;110009&quot;</td><td>&quot;Water&quot;</td><td>1</td><td>&quot;110009W1&quot;</td><td>77.158114</td><td>214.328095</td><td>null</td><td>251.702173</td><td>6.658088</td><td>null</td><td>null</td></tr><tr><td>&quot;110009&quot;</td><td>&quot;Oil&quot;</td><td>1</td><td>&quot;11000901&quot;</td><td>82.727023</td><td>229.797286</td><td>null</td><td>248.584227</td><td>6.659328</td><td>null</td><td>null</td></tr><tr><td>&quot;110009&quot;</td><td>&quot;Oil&quot;</td><td>2</td><td>&quot;11000902&quot;</td><td>59.778672</td><td>166.051867</td><td>null</td><td>176.820281</td><td>6.314359</td><td>null</td><td>null</td></tr><tr><td>&quot;110009&quot;</td><td>&quot;Water&quot;</td><td>2</td><td>&quot;110009W2&quot;</td><td>97.245231</td><td>270.125642</td><td>null</td><td>201.847233</td><td>3.161176</td><td>null</td><td>null</td></tr></tbody></table></div>"
      ],
      "text/plain": [
       "shape: (4, 11)\n",
       "┌──────────┬───────────┬─────────────┬──────────┬───┬─────────────┬──────────────┬──────────┬──────┐\n",
       "│ primo_id ┆ tank_type ┆ tank_number ┆ scada_id ┆ … ┆ InchesToESD ┆ TimeUntilESD ┆ Capacity ┆ ID   │\n",
       "│ ---      ┆ ---       ┆ ---         ┆ ---      ┆   ┆ ---         ┆ ---          ┆ ---      ┆ ---  │\n",
       "│ str      ┆ str       ┆ u8          ┆ str      ┆   ┆ f64         ┆ f64          ┆ f64      ┆ f64  │\n",
       "╞══════════╪═══════════╪═════════════╪══════════╪═══╪═════════════╪══════════════╪══════════╪══════╡\n",
       "│ 110009   ┆ Water     ┆ 1           ┆ 110009W1 ┆ … ┆ 251.702173  ┆ 6.658088     ┆ null     ┆ null │\n",
       "│ 110009   ┆ Oil       ┆ 1           ┆ 11000901 ┆ … ┆ 248.584227  ┆ 6.659328     ┆ null     ┆ null │\n",
       "│ 110009   ┆ Oil       ┆ 2           ┆ 11000902 ┆ … ┆ 176.820281  ┆ 6.314359     ┆ null     ┆ null │\n",
       "│ 110009   ┆ Water     ┆ 2           ┆ 110009W2 ┆ … ┆ 201.847233  ┆ 3.161176     ┆ null     ┆ null │\n",
       "└──────────┴───────────┴─────────────┴──────────┴───┴─────────────┴──────────────┴──────────┴──────┘"
      ]
     },
     "execution_count": 20,
     "metadata": {},
     "output_type": "execute_result"
    }
   ],
   "source": [
    "#pivoting the data\n",
    "values = pl.col(\"value\")\n",
    "columns = pl.col(\"tank_metric\")\n",
    "pivoted_lf = lf.group_by(\"primo_id\", \"tank_type\", \"tank_number\", \"scada_id\").agg(\n",
    "    values.filter(columns == metric).first().alias(metric) for metric in tank_metrics\n",
    ")\n",
    "\n",
    "pivoted_lf.collect()"
   ]
  },
  {
   "cell_type": "code",
   "execution_count": 21,
   "metadata": {},
   "outputs": [
    {
     "data": {
      "text/html": [
       "<div><style>\n",
       ".dataframe > thead > tr,\n",
       ".dataframe > tbody > tr {\n",
       "  text-align: right;\n",
       "  white-space: pre-wrap;\n",
       "}\n",
       "</style>\n",
       "<small>shape: (0, 10)</small><table border=\"1\" class=\"dataframe\"><thead><tr><th>primo_id</th><th>tank_type</th><th>tank_number</th><th>scada_id</th><th>Level</th><th>Volume</th><th>InchesUntilAlarm</th><th>InchesToESD</th><th>TimeUntilESD</th><th>Capacity</th></tr><tr><td>str</td><td>str</td><td>u8</td><td>str</td><td>f64</td><td>f64</td><td>f64</td><td>f64</td><td>f64</td><td>f64</td></tr></thead><tbody></tbody></table></div>"
      ],
      "text/plain": [
       "shape: (0, 10)\n",
       "┌──────────┬───────────┬────────────┬──────────┬───┬────────────┬───────────┬───────────┬──────────┐\n",
       "│ primo_id ┆ tank_type ┆ tank_numbe ┆ scada_id ┆ … ┆ InchesUnti ┆ InchesToE ┆ TimeUntil ┆ Capacity │\n",
       "│ ---      ┆ ---       ┆ r          ┆ ---      ┆   ┆ lAlarm     ┆ SD        ┆ ESD       ┆ ---      │\n",
       "│ str      ┆ str       ┆ ---        ┆ str      ┆   ┆ ---        ┆ ---       ┆ ---       ┆ f64      │\n",
       "│          ┆           ┆ u8         ┆          ┆   ┆ f64        ┆ f64       ┆ f64       ┆          │\n",
       "╞══════════╪═══════════╪════════════╪══════════╪═══╪════════════╪═══════════╪═══════════╪══════════╡\n",
       "└──────────┴───────────┴────────────┴──────────┴───┴────────────┴───────────┴───────────┴──────────┘"
      ]
     },
     "execution_count": 21,
     "metadata": {},
     "output_type": "execute_result"
    }
   ],
   "source": [
    "null_condition = pl.col(\"tank_number\").is_null()\n",
    "not_null_condition = pl.col(\"tank_number\").is_not_null()\n",
    "\n",
    "null_tanks = pivoted_lf.filter(null_condition)\n",
    "numbered_tanks = pivoted_lf.filter(not_null_condition)\n",
    "\n",
    "null_tanks = null_tanks.with_columns(pl.col(\"ID\").alias(\"tank_number\"))\n",
    "null_tanks = null_tanks.drop(\"ID\")\n",
    "null_tanks = null_tanks.with_columns(pl.col(\"tank_number\").cast(pl.UInt8, strict=False))\n",
    "\n",
    "null_tanks.collect()"
   ]
  },
  {
   "cell_type": "code",
   "execution_count": 22,
   "metadata": {},
   "outputs": [
    {
     "data": {
      "text/html": [
       "<div><style>\n",
       ".dataframe > thead > tr,\n",
       ".dataframe > tbody > tr {\n",
       "  text-align: right;\n",
       "  white-space: pre-wrap;\n",
       "}\n",
       "</style>\n",
       "<small>shape: (4, 18)</small><table border=\"1\" class=\"dataframe\"><thead><tr><th>primo_id</th><th>tank_type</th><th>tank_number</th><th>scada_id</th><th>Level</th><th>Volume</th><th>InchesUntilAlarm</th><th>InchesToESD</th><th>TimeUntilESD</th><th>Capacity</th><th>ID</th><th>scada_id_right</th><th>Level_right</th><th>Volume_right</th><th>InchesUntilAlarm_right</th><th>InchesToESD_right</th><th>TimeUntilESD_right</th><th>Capacity_right</th></tr><tr><td>str</td><td>str</td><td>u8</td><td>str</td><td>f64</td><td>f64</td><td>f64</td><td>f64</td><td>f64</td><td>f64</td><td>f64</td><td>str</td><td>f64</td><td>f64</td><td>f64</td><td>f64</td><td>f64</td><td>f64</td></tr></thead><tbody><tr><td>&quot;110009&quot;</td><td>&quot;Water&quot;</td><td>2</td><td>&quot;110009W2&quot;</td><td>97.245231</td><td>270.125642</td><td>null</td><td>201.847233</td><td>3.161176</td><td>null</td><td>null</td><td>null</td><td>null</td><td>null</td><td>null</td><td>null</td><td>null</td><td>null</td></tr><tr><td>&quot;110009&quot;</td><td>&quot;Water&quot;</td><td>1</td><td>&quot;110009W1&quot;</td><td>77.158114</td><td>214.328095</td><td>null</td><td>251.702173</td><td>6.658088</td><td>null</td><td>null</td><td>null</td><td>null</td><td>null</td><td>null</td><td>null</td><td>null</td><td>null</td></tr><tr><td>&quot;110009&quot;</td><td>&quot;Oil&quot;</td><td>2</td><td>&quot;11000902&quot;</td><td>59.778672</td><td>166.051867</td><td>null</td><td>176.820281</td><td>6.314359</td><td>null</td><td>null</td><td>null</td><td>null</td><td>null</td><td>null</td><td>null</td><td>null</td><td>null</td></tr><tr><td>&quot;110009&quot;</td><td>&quot;Oil&quot;</td><td>1</td><td>&quot;11000901&quot;</td><td>82.727023</td><td>229.797286</td><td>null</td><td>248.584227</td><td>6.659328</td><td>null</td><td>null</td><td>null</td><td>null</td><td>null</td><td>null</td><td>null</td><td>null</td><td>null</td></tr></tbody></table></div>"
      ],
      "text/plain": [
       "shape: (4, 18)\n",
       "┌──────────┬───────────┬────────────┬──────────┬───┬───────────┬───────────┬───────────┬───────────┐\n",
       "│ primo_id ┆ tank_type ┆ tank_numbe ┆ scada_id ┆ … ┆ InchesUnt ┆ InchesToE ┆ TimeUntil ┆ Capacity_ │\n",
       "│ ---      ┆ ---       ┆ r          ┆ ---      ┆   ┆ ilAlarm_r ┆ SD_right  ┆ ESD_right ┆ right     │\n",
       "│ str      ┆ str       ┆ ---        ┆ str      ┆   ┆ ight      ┆ ---       ┆ ---       ┆ ---       │\n",
       "│          ┆           ┆ u8         ┆          ┆   ┆ ---       ┆ f64       ┆ f64       ┆ f64       │\n",
       "│          ┆           ┆            ┆          ┆   ┆ f64       ┆           ┆           ┆           │\n",
       "╞══════════╪═══════════╪════════════╪══════════╪═══╪═══════════╪═══════════╪═══════════╪═══════════╡\n",
       "│ 110009   ┆ Water     ┆ 2          ┆ 110009W2 ┆ … ┆ null      ┆ null      ┆ null      ┆ null      │\n",
       "│ 110009   ┆ Water     ┆ 1          ┆ 110009W1 ┆ … ┆ null      ┆ null      ┆ null      ┆ null      │\n",
       "│ 110009   ┆ Oil       ┆ 2          ┆ 11000902 ┆ … ┆ null      ┆ null      ┆ null      ┆ null      │\n",
       "│ 110009   ┆ Oil       ┆ 1          ┆ 11000901 ┆ … ┆ null      ┆ null      ┆ null      ┆ null      │\n",
       "└──────────┴───────────┴────────────┴──────────┴───┴───────────┴───────────┴───────────┴───────────┘"
      ]
     },
     "execution_count": 22,
     "metadata": {},
     "output_type": "execute_result"
    }
   ],
   "source": [
    "joined_lf = numbered_tanks.join(null_tanks, on=[\"primo_id\", \"tank_type\", \"tank_number\"], how=\"left\")\n",
    "joined_lf.collect()"
   ]
  },
  {
   "cell_type": "code",
   "execution_count": 23,
   "metadata": {},
   "outputs": [
    {
     "data": {
      "text/html": [
       "<div><style>\n",
       ".dataframe > thead > tr,\n",
       ".dataframe > tbody > tr {\n",
       "  text-align: right;\n",
       "  white-space: pre-wrap;\n",
       "}\n",
       "</style>\n",
       "<small>shape: (4, 28)</small><table border=\"1\" class=\"dataframe\"><thead><tr><th>primo_id</th><th>tank_type</th><th>tank_number</th><th>scada_id</th><th>Level</th><th>Volume</th><th>InchesUntilAlarm</th><th>InchesToESD</th><th>TimeUntilESD</th><th>Capacity</th><th>ID</th><th>scada_id_right</th><th>Level_right</th><th>Volume_right</th><th>InchesUntilAlarm_right</th><th>InchesToESD_right</th><th>TimeUntilESD_right</th><th>Capacity_right</th><th>primo_id_right</th><th>metric_nice_name</th><th>uom</th><th>timestamp</th><th>value</th><th>tanksize</th><th>is_ESD</th><th>tank_type_right</th><th>tank_number_right</th><th>tank_metric</th></tr><tr><td>str</td><td>str</td><td>u8</td><td>str</td><td>f64</td><td>f64</td><td>f64</td><td>f64</td><td>f64</td><td>f64</td><td>f64</td><td>str</td><td>f64</td><td>f64</td><td>f64</td><td>f64</td><td>f64</td><td>f64</td><td>str</td><td>str</td><td>str</td><td>datetime[μs]</td><td>f64</td><td>f64</td><td>str</td><td>str</td><td>u8</td><td>str</td></tr></thead><tbody><tr><td>&quot;110009&quot;</td><td>&quot;Oil&quot;</td><td>2</td><td>&quot;11000902&quot;</td><td>59.778672</td><td>166.051867</td><td>null</td><td>176.820281</td><td>6.314359</td><td>null</td><td>null</td><td>null</td><td>null</td><td>null</td><td>null</td><td>null</td><td>null</td><td>null</td><td>&quot;110009&quot;</td><td>&quot;OilTank2TimeUntilESD&quot;</td><td>&quot;days&quot;</td><td>2024-03-06 04:12:10.970106</td><td>6.314359</td><td>531.081137</td><td>null</td><td>&quot;Oil&quot;</td><td>2</td><td>&quot;TimeUntilESD&quot;</td></tr><tr><td>&quot;110009&quot;</td><td>&quot;Water&quot;</td><td>1</td><td>&quot;110009W1&quot;</td><td>77.158114</td><td>214.328095</td><td>null</td><td>251.702173</td><td>6.658088</td><td>null</td><td>null</td><td>null</td><td>null</td><td>null</td><td>null</td><td>null</td><td>null</td><td>null</td><td>&quot;110009&quot;</td><td>&quot;WaterTank1Volume&quot;</td><td>&quot;bbl&quot;</td><td>2024-03-06 04:11:30.972475</td><td>214.328095</td><td>832.309683</td><td>null</td><td>&quot;Water&quot;</td><td>1</td><td>&quot;Volume&quot;</td></tr><tr><td>&quot;110009&quot;</td><td>&quot;Oil&quot;</td><td>1</td><td>&quot;11000901&quot;</td><td>82.727023</td><td>229.797286</td><td>null</td><td>248.584227</td><td>6.659328</td><td>null</td><td>null</td><td>null</td><td>null</td><td>null</td><td>null</td><td>null</td><td>null</td><td>null</td><td>&quot;110009&quot;</td><td>&quot;OilTank1Level&quot;</td><td>&quot;in&quot;</td><td>2024-03-06 04:12:34.255959</td><td>82.727023</td><td>479.54315</td><td>null</td><td>&quot;Oil&quot;</td><td>1</td><td>&quot;Level&quot;</td></tr><tr><td>&quot;110009&quot;</td><td>&quot;Water&quot;</td><td>2</td><td>&quot;110009W2&quot;</td><td>97.245231</td><td>270.125642</td><td>null</td><td>201.847233</td><td>3.161176</td><td>null</td><td>null</td><td>null</td><td>null</td><td>null</td><td>null</td><td>null</td><td>null</td><td>null</td><td>&quot;110009&quot;</td><td>&quot;WaterTank2Volume&quot;</td><td>&quot;bbl&quot;</td><td>2024-03-06 04:12:19.965126</td><td>270.125642</td><td>653.644903</td><td>null</td><td>&quot;Water&quot;</td><td>2</td><td>&quot;Volume&quot;</td></tr></tbody></table></div>"
      ],
      "text/plain": [
       "shape: (4, 28)\n",
       "┌──────────┬───────────┬────────────┬──────────┬───┬────────┬────────────┬────────────┬────────────┐\n",
       "│ primo_id ┆ tank_type ┆ tank_numbe ┆ scada_id ┆ … ┆ is_ESD ┆ tank_type_ ┆ tank_numbe ┆ tank_metri │\n",
       "│ ---      ┆ ---       ┆ r          ┆ ---      ┆   ┆ ---    ┆ right      ┆ r_right    ┆ c          │\n",
       "│ str      ┆ str       ┆ ---        ┆ str      ┆   ┆ str    ┆ ---        ┆ ---        ┆ ---        │\n",
       "│          ┆           ┆ u8         ┆          ┆   ┆        ┆ str        ┆ u8         ┆ str        │\n",
       "╞══════════╪═══════════╪════════════╪══════════╪═══╪════════╪════════════╪════════════╪════════════╡\n",
       "│ 110009   ┆ Oil       ┆ 2          ┆ 11000902 ┆ … ┆ null   ┆ Oil        ┆ 2          ┆ TimeUntilE │\n",
       "│          ┆           ┆            ┆          ┆   ┆        ┆            ┆            ┆ SD         │\n",
       "│ 110009   ┆ Water     ┆ 1          ┆ 110009W1 ┆ … ┆ null   ┆ Water      ┆ 1          ┆ Volume     │\n",
       "│ 110009   ┆ Oil       ┆ 1          ┆ 11000901 ┆ … ┆ null   ┆ Oil        ┆ 1          ┆ Level      │\n",
       "│ 110009   ┆ Water     ┆ 2          ┆ 110009W2 ┆ … ┆ null   ┆ Water      ┆ 2          ┆ Volume     │\n",
       "└──────────┴───────────┴────────────┴──────────┴───┴────────┴────────────┴────────────┴────────────┘"
      ]
     },
     "execution_count": 23,
     "metadata": {},
     "output_type": "execute_result"
    }
   ],
   "source": [
    "final_lf = joined_lf.join(lf, on=[\"scada_id\"], how=\"left\")\n",
    "final_lf = final_lf.group_by(\"primo_id\", \"tank_type\", \"tank_number\").agg(pl.all().first())\n",
    "final_lf.collect()"
   ]
  },
  {
   "cell_type": "code",
   "execution_count": 24,
   "metadata": {},
   "outputs": [
    {
     "data": {
      "text/html": [
       "<div><style>\n",
       ".dataframe > thead > tr,\n",
       ".dataframe > tbody > tr {\n",
       "  text-align: right;\n",
       "  white-space: pre-wrap;\n",
       "}\n",
       "</style>\n",
       "<small>shape: (4, 8)</small><table border=\"1\" class=\"dataframe\"><thead><tr><th>primo_id</th><th>tank_type</th><th>tank_number</th><th>Level</th><th>Volume</th><th>InchesToESD</th><th>TimeUntilESD</th><th>Capacity</th></tr><tr><td>str</td><td>str</td><td>u8</td><td>f64</td><td>f64</td><td>f64</td><td>f64</td><td>f64</td></tr></thead><tbody><tr><td>&quot;110009&quot;</td><td>&quot;Oil&quot;</td><td>2</td><td>59.778672</td><td>166.051867</td><td>176.820281</td><td>6.314359</td><td>531.081137</td></tr><tr><td>&quot;110009&quot;</td><td>&quot;Oil&quot;</td><td>1</td><td>82.727023</td><td>229.797286</td><td>248.584227</td><td>6.659328</td><td>479.54315</td></tr><tr><td>&quot;110009&quot;</td><td>&quot;Water&quot;</td><td>2</td><td>97.245231</td><td>270.125642</td><td>201.847233</td><td>3.161176</td><td>653.644903</td></tr><tr><td>&quot;110009&quot;</td><td>&quot;Water&quot;</td><td>1</td><td>77.158114</td><td>214.328095</td><td>251.702173</td><td>6.658088</td><td>832.309683</td></tr></tbody></table></div>"
      ],
      "text/plain": [
       "shape: (4, 8)\n",
       "┌──────────┬───────────┬────────────┬───────────┬────────────┬────────────┬────────────┬───────────┐\n",
       "│ primo_id ┆ tank_type ┆ tank_numbe ┆ Level     ┆ Volume     ┆ InchesToES ┆ TimeUntilE ┆ Capacity  │\n",
       "│ ---      ┆ ---       ┆ r          ┆ ---       ┆ ---        ┆ D          ┆ SD         ┆ ---       │\n",
       "│ str      ┆ str       ┆ ---        ┆ f64       ┆ f64        ┆ ---        ┆ ---        ┆ f64       │\n",
       "│          ┆           ┆ u8         ┆           ┆            ┆ f64        ┆ f64        ┆           │\n",
       "╞══════════╪═══════════╪════════════╪═══════════╪════════════╪════════════╪════════════╪═══════════╡\n",
       "│ 110009   ┆ Oil       ┆ 2          ┆ 59.778672 ┆ 166.051867 ┆ 176.820281 ┆ 6.314359   ┆ 531.08113 │\n",
       "│          ┆           ┆            ┆           ┆            ┆            ┆            ┆ 7         │\n",
       "│ 110009   ┆ Oil       ┆ 1          ┆ 82.727023 ┆ 229.797286 ┆ 248.584227 ┆ 6.659328   ┆ 479.54315 │\n",
       "│ 110009   ┆ Water     ┆ 2          ┆ 97.245231 ┆ 270.125642 ┆ 201.847233 ┆ 3.161176   ┆ 653.64490 │\n",
       "│          ┆           ┆            ┆           ┆            ┆            ┆            ┆ 3         │\n",
       "│ 110009   ┆ Water     ┆ 1          ┆ 77.158114 ┆ 214.328095 ┆ 251.702173 ┆ 6.658088   ┆ 832.30968 │\n",
       "│          ┆           ┆            ┆           ┆            ┆            ┆            ┆ 3         │\n",
       "└──────────┴───────────┴────────────┴───────────┴────────────┴────────────┴────────────┴───────────┘"
      ]
     },
     "execution_count": 24,
     "metadata": {},
     "output_type": "execute_result"
    }
   ],
   "source": [
    "final_lf = final_lf.with_columns(\n",
    "    pl.col(\"primo_id\"),\n",
    "    pl.col(\"tank_type\"),\n",
    "    pl.col(\"tank_number\"),\n",
    "    pl.coalesce(pl.col(\"Level\"), pl.col(\"Level_right\")).alias(\"Level\"),\n",
    "    pl.coalesce(pl.col(\"Volume\"), pl.col(\"Volume_right\")).alias(\"Volume\"),\n",
    "    pl.coalesce(pl.col(\"InchesToESD\"), pl.col(\"InchesUntilAlarm_right\")).alias(\"InchesToESD\"),\n",
    "    pl.coalesce(pl.col(\"TimeUntilESD\"), pl.col(\"TimeUntilESD_right\")).alias(\"TimeUntilESD\"),\n",
    "    pl.coalesce(pl.col(\"Capacity\"), pl.col(\"tanksize\")).alias(\"Capacity\")\n",
    ")\n",
    "\n",
    "required_columns = [\"primo_id\", \"tank_type\", \"tank_number\", \"Level\", \"Volume\", \"InchesToESD\", \"TimeUntilESD\", \"Capacity\"]\n",
    "final_lf = final_lf.select(required_columns)\n",
    "final_lf.collect()"
   ]
  },
  {
   "cell_type": "code",
   "execution_count": 25,
   "metadata": {},
   "outputs": [
    {
     "data": {
      "text/html": [
       "<div><style>\n",
       ".dataframe > thead > tr,\n",
       ".dataframe > tbody > tr {\n",
       "  text-align: right;\n",
       "  white-space: pre-wrap;\n",
       "}\n",
       "</style>\n",
       "<small>shape: (4, 8)</small><table border=\"1\" class=\"dataframe\"><thead><tr><th>primo_id</th><th>tank_type</th><th>tank_number</th><th>Level</th><th>Volume</th><th>InchesToESD</th><th>TimeUntilESD</th><th>Capacity</th></tr><tr><td>str</td><td>str</td><td>u8</td><td>f64</td><td>f64</td><td>f64</td><td>f64</td><td>f64</td></tr></thead><tbody><tr><td>&quot;110009&quot;</td><td>&quot;Oil&quot;</td><td>1</td><td>82.727023</td><td>229.797286</td><td>248.584227</td><td>6.659328</td><td>479.54315</td></tr><tr><td>&quot;110009&quot;</td><td>&quot;Oil&quot;</td><td>2</td><td>59.778672</td><td>166.051867</td><td>176.820281</td><td>6.314359</td><td>531.081137</td></tr><tr><td>&quot;110009&quot;</td><td>&quot;Water&quot;</td><td>1</td><td>77.158114</td><td>214.328095</td><td>251.702173</td><td>6.658088</td><td>832.309683</td></tr><tr><td>&quot;110009&quot;</td><td>&quot;Water&quot;</td><td>2</td><td>97.245231</td><td>270.125642</td><td>201.847233</td><td>3.161176</td><td>653.644903</td></tr></tbody></table></div>"
      ],
      "text/plain": [
       "shape: (4, 8)\n",
       "┌──────────┬───────────┬────────────┬───────────┬────────────┬────────────┬────────────┬───────────┐\n",
       "│ primo_id ┆ tank_type ┆ tank_numbe ┆ Level     ┆ Volume     ┆ InchesToES ┆ TimeUntilE ┆ Capacity  │\n",
       "│ ---      ┆ ---       ┆ r          ┆ ---       ┆ ---        ┆ D          ┆ SD         ┆ ---       │\n",
       "│ str      ┆ str       ┆ ---        ┆ f64       ┆ f64        ┆ ---        ┆ ---        ┆ f64       │\n",
       "│          ┆           ┆ u8         ┆           ┆            ┆ f64        ┆ f64        ┆           │\n",
       "╞══════════╪═══════════╪════════════╪═══════════╪════════════╪════════════╪════════════╪═══════════╡\n",
       "│ 110009   ┆ Oil       ┆ 1          ┆ 82.727023 ┆ 229.797286 ┆ 248.584227 ┆ 6.659328   ┆ 479.54315 │\n",
       "│ 110009   ┆ Oil       ┆ 2          ┆ 59.778672 ┆ 166.051867 ┆ 176.820281 ┆ 6.314359   ┆ 531.08113 │\n",
       "│          ┆           ┆            ┆           ┆            ┆            ┆            ┆ 7         │\n",
       "│ 110009   ┆ Water     ┆ 1          ┆ 77.158114 ┆ 214.328095 ┆ 251.702173 ┆ 6.658088   ┆ 832.30968 │\n",
       "│          ┆           ┆            ┆           ┆            ┆            ┆            ┆ 3         │\n",
       "│ 110009   ┆ Water     ┆ 2          ┆ 97.245231 ┆ 270.125642 ┆ 201.847233 ┆ 3.161176   ┆ 653.64490 │\n",
       "│          ┆           ┆            ┆           ┆            ┆            ┆            ┆ 3         │\n",
       "└──────────┴───────────┴────────────┴───────────┴────────────┴────────────┴────────────┴───────────┘"
      ]
     },
     "execution_count": 25,
     "metadata": {},
     "output_type": "execute_result"
    }
   ],
   "source": [
    "final_lf = final_lf.sort(\"primo_id\", \"tank_type\", \"tank_number\")\n",
    "final_lf.collect()"
   ]
  },
  {
   "cell_type": "code",
   "execution_count": 26,
   "metadata": {},
   "outputs": [
    {
     "data": {
      "text/html": [
       "<div><style>\n",
       ".dataframe > thead > tr,\n",
       ".dataframe > tbody > tr {\n",
       "  text-align: right;\n",
       "  white-space: pre-wrap;\n",
       "}\n",
       "</style>\n",
       "<small>shape: (4, 9)</small><table border=\"1\" class=\"dataframe\"><thead><tr><th>primo_id</th><th>tank_type</th><th>tank_number</th><th>Level</th><th>Volume</th><th>InchesToESD</th><th>TimeUntilESD</th><th>Capacity</th><th>percent_full</th></tr><tr><td>str</td><td>str</td><td>u8</td><td>f64</td><td>f64</td><td>f64</td><td>f64</td><td>f64</td><td>u8</td></tr></thead><tbody><tr><td>&quot;110009&quot;</td><td>&quot;Oil&quot;</td><td>1</td><td>82.727023</td><td>229.797286</td><td>248.584227</td><td>6.659328</td><td>479.54315</td><td>48</td></tr><tr><td>&quot;110009&quot;</td><td>&quot;Oil&quot;</td><td>2</td><td>59.778672</td><td>166.051867</td><td>176.820281</td><td>6.314359</td><td>531.081137</td><td>31</td></tr><tr><td>&quot;110009&quot;</td><td>&quot;Water&quot;</td><td>1</td><td>77.158114</td><td>214.328095</td><td>251.702173</td><td>6.658088</td><td>832.309683</td><td>26</td></tr><tr><td>&quot;110009&quot;</td><td>&quot;Water&quot;</td><td>2</td><td>97.245231</td><td>270.125642</td><td>201.847233</td><td>3.161176</td><td>653.644903</td><td>41</td></tr></tbody></table></div>"
      ],
      "text/plain": [
       "shape: (4, 9)\n",
       "┌──────────┬───────────┬───────────┬───────────┬───┬───────────┬───────────┬───────────┬───────────┐\n",
       "│ primo_id ┆ tank_type ┆ tank_numb ┆ Level     ┆ … ┆ InchesToE ┆ TimeUntil ┆ Capacity  ┆ percent_f │\n",
       "│ ---      ┆ ---       ┆ er        ┆ ---       ┆   ┆ SD        ┆ ESD       ┆ ---       ┆ ull       │\n",
       "│ str      ┆ str       ┆ ---       ┆ f64       ┆   ┆ ---       ┆ ---       ┆ f64       ┆ ---       │\n",
       "│          ┆           ┆ u8        ┆           ┆   ┆ f64       ┆ f64       ┆           ┆ u8        │\n",
       "╞══════════╪═══════════╪═══════════╪═══════════╪═══╪═══════════╪═══════════╪═══════════╪═══════════╡\n",
       "│ 110009   ┆ Oil       ┆ 1         ┆ 82.727023 ┆ … ┆ 248.58422 ┆ 6.659328  ┆ 479.54315 ┆ 48        │\n",
       "│          ┆           ┆           ┆           ┆   ┆ 7         ┆           ┆           ┆           │\n",
       "│ 110009   ┆ Oil       ┆ 2         ┆ 59.778672 ┆ … ┆ 176.82028 ┆ 6.314359  ┆ 531.08113 ┆ 31        │\n",
       "│          ┆           ┆           ┆           ┆   ┆ 1         ┆           ┆ 7         ┆           │\n",
       "│ 110009   ┆ Water     ┆ 1         ┆ 77.158114 ┆ … ┆ 251.70217 ┆ 6.658088  ┆ 832.30968 ┆ 26        │\n",
       "│          ┆           ┆           ┆           ┆   ┆ 3         ┆           ┆ 3         ┆           │\n",
       "│ 110009   ┆ Water     ┆ 2         ┆ 97.245231 ┆ … ┆ 201.84723 ┆ 3.161176  ┆ 653.64490 ┆ 41        │\n",
       "│          ┆           ┆           ┆           ┆   ┆ 3         ┆           ┆ 3         ┆           │\n",
       "└──────────┴───────────┴───────────┴───────────┴───┴───────────┴───────────┴───────────┴───────────┘"
      ]
     },
     "execution_count": 26,
     "metadata": {},
     "output_type": "execute_result"
    }
   ],
   "source": [
    "percent_tank_full = (pl.col(\"Volume\") / pl.col(\"Capacity\") * 100).round().cast(pl.UInt8)\n",
    "final_lf = final_lf.with_columns(percent_tank_full.alias(\"percent_full\"))\n",
    "\n",
    "final_lf.collect()"
   ]
  },
  {
   "cell_type": "code",
   "execution_count": 27,
   "metadata": {},
   "outputs": [
    {
     "data": {
      "text/html": [
       "<div><style>\n",
       ".dataframe > thead > tr,\n",
       ".dataframe > tbody > tr {\n",
       "  text-align: right;\n",
       "  white-space: pre-wrap;\n",
       "}\n",
       "</style>\n",
       "<small>shape: (4, 9)</small><table border=\"1\" class=\"dataframe\"><thead><tr><th>primo_id</th><th>tank_type</th><th>tank_number</th><th>Level</th><th>Volume</th><th>InchesToESD</th><th>TimeUntilESD</th><th>Capacity</th><th>percent_full</th></tr><tr><td>str</td><td>str</td><td>u8</td><td>f64</td><td>f64</td><td>f64</td><td>f64</td><td>f64</td><td>u8</td></tr></thead><tbody><tr><td>&quot;110009&quot;</td><td>&quot;Oil&quot;</td><td>1</td><td>82.727023</td><td>229.797286</td><td>248.584227</td><td>6.659328</td><td>480.0</td><td>48</td></tr><tr><td>&quot;110009&quot;</td><td>&quot;Oil&quot;</td><td>2</td><td>59.778672</td><td>166.051867</td><td>176.820281</td><td>6.314359</td><td>531.0</td><td>31</td></tr><tr><td>&quot;110009&quot;</td><td>&quot;Water&quot;</td><td>1</td><td>77.158114</td><td>214.328095</td><td>251.702173</td><td>6.658088</td><td>832.0</td><td>26</td></tr><tr><td>&quot;110009&quot;</td><td>&quot;Water&quot;</td><td>2</td><td>97.245231</td><td>270.125642</td><td>201.847233</td><td>3.161176</td><td>654.0</td><td>41</td></tr></tbody></table></div>"
      ],
      "text/plain": [
       "shape: (4, 9)\n",
       "┌──────────┬───────────┬────────────┬───────────┬───┬───────────┬───────────┬──────────┬───────────┐\n",
       "│ primo_id ┆ tank_type ┆ tank_numbe ┆ Level     ┆ … ┆ InchesToE ┆ TimeUntil ┆ Capacity ┆ percent_f │\n",
       "│ ---      ┆ ---       ┆ r          ┆ ---       ┆   ┆ SD        ┆ ESD       ┆ ---      ┆ ull       │\n",
       "│ str      ┆ str       ┆ ---        ┆ f64       ┆   ┆ ---       ┆ ---       ┆ f64      ┆ ---       │\n",
       "│          ┆           ┆ u8         ┆           ┆   ┆ f64       ┆ f64       ┆          ┆ u8        │\n",
       "╞══════════╪═══════════╪════════════╪═══════════╪═══╪═══════════╪═══════════╪══════════╪═══════════╡\n",
       "│ 110009   ┆ Oil       ┆ 1          ┆ 82.727023 ┆ … ┆ 248.58422 ┆ 6.659328  ┆ 480.0    ┆ 48        │\n",
       "│          ┆           ┆            ┆           ┆   ┆ 7         ┆           ┆          ┆           │\n",
       "│ 110009   ┆ Oil       ┆ 2          ┆ 59.778672 ┆ … ┆ 176.82028 ┆ 6.314359  ┆ 531.0    ┆ 31        │\n",
       "│          ┆           ┆            ┆           ┆   ┆ 1         ┆           ┆          ┆           │\n",
       "│ 110009   ┆ Water     ┆ 1          ┆ 77.158114 ┆ … ┆ 251.70217 ┆ 6.658088  ┆ 832.0    ┆ 26        │\n",
       "│          ┆           ┆            ┆           ┆   ┆ 3         ┆           ┆          ┆           │\n",
       "│ 110009   ┆ Water     ┆ 2          ┆ 97.245231 ┆ … ┆ 201.84723 ┆ 3.161176  ┆ 654.0    ┆ 41        │\n",
       "│          ┆           ┆            ┆           ┆   ┆ 3         ┆           ┆          ┆           │\n",
       "└──────────┴───────────┴────────────┴───────────┴───┴───────────┴───────────┴──────────┴───────────┘"
      ]
     },
     "execution_count": 27,
     "metadata": {},
     "output_type": "execute_result"
    }
   ],
   "source": [
    "capacity_rounded = pl.col(\"Capacity\").round()\n",
    "final_lf = final_lf.with_columns(capacity_rounded.alias(\"Capacity\"))\n",
    "\n",
    "final_lf.collect()"
   ]
  },
  {
   "cell_type": "code",
   "execution_count": 28,
   "metadata": {},
   "outputs": [
    {
     "data": {
      "text/html": [
       "<div><style>\n",
       ".dataframe > thead > tr,\n",
       ".dataframe > tbody > tr {\n",
       "  text-align: right;\n",
       "  white-space: pre-wrap;\n",
       "}\n",
       "</style>\n",
       "<small>shape: (4, 9)</small><table border=\"1\" class=\"dataframe\"><thead><tr><th>primo_id</th><th>tank_type</th><th>tank_number</th><th>Level</th><th>Volume</th><th>InchesToESD</th><th>TimeUntilESD</th><th>Capacity</th><th>percent_full</th></tr><tr><td>str</td><td>str</td><td>u8</td><td>f64</td><td>u64</td><td>f64</td><td>f64</td><td>f64</td><td>u8</td></tr></thead><tbody><tr><td>&quot;110009&quot;</td><td>&quot;Oil&quot;</td><td>1</td><td>82.727023</td><td>230</td><td>248.584227</td><td>6.659328</td><td>480.0</td><td>48</td></tr><tr><td>&quot;110009&quot;</td><td>&quot;Oil&quot;</td><td>2</td><td>59.778672</td><td>166</td><td>176.820281</td><td>6.314359</td><td>531.0</td><td>31</td></tr><tr><td>&quot;110009&quot;</td><td>&quot;Water&quot;</td><td>1</td><td>77.158114</td><td>214</td><td>251.702173</td><td>6.658088</td><td>832.0</td><td>26</td></tr><tr><td>&quot;110009&quot;</td><td>&quot;Water&quot;</td><td>2</td><td>97.245231</td><td>270</td><td>201.847233</td><td>3.161176</td><td>654.0</td><td>41</td></tr></tbody></table></div>"
      ],
      "text/plain": [
       "shape: (4, 9)\n",
       "┌──────────┬───────────┬────────────┬───────────┬───┬───────────┬───────────┬──────────┬───────────┐\n",
       "│ primo_id ┆ tank_type ┆ tank_numbe ┆ Level     ┆ … ┆ InchesToE ┆ TimeUntil ┆ Capacity ┆ percent_f │\n",
       "│ ---      ┆ ---       ┆ r          ┆ ---       ┆   ┆ SD        ┆ ESD       ┆ ---      ┆ ull       │\n",
       "│ str      ┆ str       ┆ ---        ┆ f64       ┆   ┆ ---       ┆ ---       ┆ f64      ┆ ---       │\n",
       "│          ┆           ┆ u8         ┆           ┆   ┆ f64       ┆ f64       ┆          ┆ u8        │\n",
       "╞══════════╪═══════════╪════════════╪═══════════╪═══╪═══════════╪═══════════╪══════════╪═══════════╡\n",
       "│ 110009   ┆ Oil       ┆ 1          ┆ 82.727023 ┆ … ┆ 248.58422 ┆ 6.659328  ┆ 480.0    ┆ 48        │\n",
       "│          ┆           ┆            ┆           ┆   ┆ 7         ┆           ┆          ┆           │\n",
       "│ 110009   ┆ Oil       ┆ 2          ┆ 59.778672 ┆ … ┆ 176.82028 ┆ 6.314359  ┆ 531.0    ┆ 31        │\n",
       "│          ┆           ┆            ┆           ┆   ┆ 1         ┆           ┆          ┆           │\n",
       "│ 110009   ┆ Water     ┆ 1          ┆ 77.158114 ┆ … ┆ 251.70217 ┆ 6.658088  ┆ 832.0    ┆ 26        │\n",
       "│          ┆           ┆            ┆           ┆   ┆ 3         ┆           ┆          ┆           │\n",
       "│ 110009   ┆ Water     ┆ 2          ┆ 97.245231 ┆ … ┆ 201.84723 ┆ 3.161176  ┆ 654.0    ┆ 41        │\n",
       "│          ┆           ┆            ┆           ┆   ┆ 3         ┆           ┆          ┆           │\n",
       "└──────────┴───────────┴────────────┴───────────┴───┴───────────┴───────────┴──────────┴───────────┘"
      ]
     },
     "execution_count": 28,
     "metadata": {},
     "output_type": "execute_result"
    }
   ],
   "source": [
    "volume_to_feet = pl.col(\"Volume\").round().cast(pl.UInt64)\n",
    "\n",
    "final_lf = final_lf.with_columns(volume_to_feet.alias(\"Volume\"))\n",
    "\n",
    "final_lf.collect()"
   ]
  }
 ],
 "metadata": {
  "kernelspec": {
   "display_name": "tank-project-9-HCZibD-py3.12",
   "language": "python",
   "name": "python3"
  },
  "language_info": {
   "codemirror_mode": {
    "name": "ipython",
    "version": 3
   },
   "file_extension": ".py",
   "mimetype": "text/x-python",
   "name": "python",
   "nbconvert_exporter": "python",
   "pygments_lexer": "ipython3",
   "version": "3.12.2"
  }
 },
 "nbformat": 4,
 "nbformat_minor": 2
}
