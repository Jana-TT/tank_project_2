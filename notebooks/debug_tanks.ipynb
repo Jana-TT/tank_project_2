{
 "cells": [
  {
   "cell_type": "code",
   "execution_count": 153,
   "metadata": {},
   "outputs": [
    {
     "data": {
      "text/html": [
       "<div><style>\n",
       ".dataframe > thead > tr,\n",
       ".dataframe > tbody > tr {\n",
       "  text-align: right;\n",
       "  white-space: pre-wrap;\n",
       "}\n",
       "</style>\n",
       "<small>shape: (16, 8)</small><table border=\"1\" class=\"dataframe\"><thead><tr><th>primo_id</th><th>scada_id</th><th>metric_nice_name</th><th>unique_id</th><th>uom</th><th>timestamp</th><th>value</th><th>tanksize</th></tr><tr><td>str</td><td>str</td><td>str</td><td>object</td><td>str</td><td>datetime[μs]</td><td>f64</td><td>f64</td></tr></thead><tbody><tr><td>&quot;69419&quot;</td><td>&quot;6941901&quot;</td><td>&quot;OilTank1Level&quot;</td><td>b17f11ac-d318-429a-b607-a5ba24b3d6a2</td><td>&quot;in&quot;</td><td>2024-03-06 04:11:36.465651</td><td>62.159021</td><td>757.185625</td></tr><tr><td>&quot;69419&quot;</td><td>&quot;6941902&quot;</td><td>&quot;OilTank2Level&quot;</td><td>d0613649-4688-445b-aca9-b83858a7476d</td><td>&quot;in&quot;</td><td>2024-03-06 04:10:57.773391</td><td>88.524576</td><td>732.273245</td></tr><tr><td>&quot;69419&quot;</td><td>&quot;6941903&quot;</td><td>&quot;OilTank3Level&quot;</td><td>a5de3be7-73fe-489b-b861-2ab88c3b0029</td><td>&quot;in&quot;</td><td>2024-03-06 04:14:39.496037</td><td>44.370742</td><td>821.72405</td></tr><tr><td>&quot;69419&quot;</td><td>&quot;6941901&quot;</td><td>&quot;OilTank1Volume&quot;</td><td>4ac0b7d9-55fe-4865-bc29-6c202ff6349e</td><td>&quot;bbl&quot;</td><td>2024-03-06 04:11:36.465651</td><td>172.663947</td><td>757.185625</td></tr><tr><td>&quot;69419&quot;</td><td>&quot;6941902&quot;</td><td>&quot;OilTank2Volume&quot;</td><td>a99b4283-d21f-4840-b1ae-d91a55011b27</td><td>&quot;bbl&quot;</td><td>2024-03-06 04:10:57.773391</td><td>245.9016</td><td>732.273245</td></tr><tr><td>&hellip;</td><td>&hellip;</td><td>&hellip;</td><td>&hellip;</td><td>&hellip;</td><td>&hellip;</td><td>&hellip;</td><td>&hellip;</td></tr><tr><td>&quot;69419&quot;</td><td>&quot;69419W2&quot;</td><td>&quot;WaterTank2Volume&quot;</td><td>79a95737-e857-45fa-b887-23f4a9e85821</td><td>&quot;bbl&quot;</td><td>2024-03-06 04:15:18.255919</td><td>142.816882</td><td>870.104407</td></tr><tr><td>&quot;69419&quot;</td><td>&quot;69419W3&quot;</td><td>&quot;WaterTank3Volume&quot;</td><td>322f605e-bf6d-4299-8c93-e58883ac65e8</td><td>&quot;bbl&quot;</td><td>2024-03-06 04:15:26.315094</td><td>380.445532</td><td>534.368456</td></tr><tr><td>&quot;69419&quot;</td><td>&quot;69419W2&quot;</td><td>&quot;WaterTank2InchesToESD&quot;</td><td>f10fb018-82a9-48aa-acf1-18c770f8569a</td><td>&quot;in&quot;</td><td>2024-03-06 04:15:32.294849</td><td>284.342497</td><td>870.104407</td></tr><tr><td>&quot;69419&quot;</td><td>&quot;6941904&quot;</td><td>&quot;OilTank4Level&quot;</td><td>9f31b503-6a7b-4203-ba81-c63efb0170ae</td><td>&quot;in&quot;</td><td>2024-03-06 04:15:49.277547</td><td>139.593031</td><td>463.741131</td></tr><tr><td>&quot;69419&quot;</td><td>&quot;6941904&quot;</td><td>&quot;OilTank4Volume&quot;</td><td>0c7822d0-97c0-4b75-b3f3-b8b17c2dabd5</td><td>&quot;bbl&quot;</td><td>2024-03-06 04:15:49.277547</td><td>387.758421</td><td>463.741131</td></tr></tbody></table></div>"
      ],
      "text/plain": [
       "shape: (16, 8)\n",
       "┌──────────┬──────────┬──────────────┬──────────────┬─────┬──────────────┬────────────┬────────────┐\n",
       "│ primo_id ┆ scada_id ┆ metric_nice_ ┆ unique_id    ┆ uom ┆ timestamp    ┆ value      ┆ tanksize   │\n",
       "│ ---      ┆ ---      ┆ name         ┆ ---          ┆ --- ┆ ---          ┆ ---        ┆ ---        │\n",
       "│ str      ┆ str      ┆ ---          ┆ object       ┆ str ┆ datetime[μs] ┆ f64        ┆ f64        │\n",
       "│          ┆          ┆ str          ┆              ┆     ┆              ┆            ┆            │\n",
       "╞══════════╪══════════╪══════════════╪══════════════╪═════╪══════════════╪════════════╪════════════╡\n",
       "│ 69419    ┆ 6941901  ┆ OilTank1Leve ┆ b17f11ac-d31 ┆ in  ┆ 2024-03-06   ┆ 62.159021  ┆ 757.185625 │\n",
       "│          ┆          ┆ l            ┆ 8-429a-b607- ┆     ┆ 04:11:36.465 ┆            ┆            │\n",
       "│          ┆          ┆              ┆ a5ba24…      ┆     ┆ 651          ┆            ┆            │\n",
       "│ 69419    ┆ 6941902  ┆ OilTank2Leve ┆ d0613649-468 ┆ in  ┆ 2024-03-06   ┆ 88.524576  ┆ 732.273245 │\n",
       "│          ┆          ┆ l            ┆ 8-445b-aca9- ┆     ┆ 04:10:57.773 ┆            ┆            │\n",
       "│          ┆          ┆              ┆ b83858…      ┆     ┆ 391          ┆            ┆            │\n",
       "│ 69419    ┆ 6941903  ┆ OilTank3Leve ┆ a5de3be7-73f ┆ in  ┆ 2024-03-06   ┆ 44.370742  ┆ 821.72405  │\n",
       "│          ┆          ┆ l            ┆ e-489b-b861- ┆     ┆ 04:14:39.496 ┆            ┆            │\n",
       "│          ┆          ┆              ┆ 2ab88c…      ┆     ┆ 037          ┆            ┆            │\n",
       "│ 69419    ┆ 6941901  ┆ OilTank1Volu ┆ 4ac0b7d9-55f ┆ bbl ┆ 2024-03-06   ┆ 172.663947 ┆ 757.185625 │\n",
       "│          ┆          ┆ me           ┆ e-4865-bc29- ┆     ┆ 04:11:36.465 ┆            ┆            │\n",
       "│          ┆          ┆              ┆ 6c202f…      ┆     ┆ 651          ┆            ┆            │\n",
       "│ 69419    ┆ 6941902  ┆ OilTank2Volu ┆ a99b4283-d21 ┆ bbl ┆ 2024-03-06   ┆ 245.9016   ┆ 732.273245 │\n",
       "│          ┆          ┆ me           ┆ f-4840-b1ae- ┆     ┆ 04:10:57.773 ┆            ┆            │\n",
       "│          ┆          ┆              ┆ d91a55…      ┆     ┆ 391          ┆            ┆            │\n",
       "│ …        ┆ …        ┆ …            ┆ …            ┆ …   ┆ …            ┆ …          ┆ …          │\n",
       "│ 69419    ┆ 69419W2  ┆ WaterTank2Vo ┆ 79a95737-e85 ┆ bbl ┆ 2024-03-06   ┆ 142.816882 ┆ 870.104407 │\n",
       "│          ┆          ┆ lume         ┆ 7-45fa-b887- ┆     ┆ 04:15:18.255 ┆            ┆            │\n",
       "│          ┆          ┆              ┆ 23f4a9…      ┆     ┆ 919          ┆            ┆            │\n",
       "│ 69419    ┆ 69419W3  ┆ WaterTank3Vo ┆ 322f605e-bf6 ┆ bbl ┆ 2024-03-06   ┆ 380.445532 ┆ 534.368456 │\n",
       "│          ┆          ┆ lume         ┆ d-4299-8c93- ┆     ┆ 04:15:26.315 ┆            ┆            │\n",
       "│          ┆          ┆              ┆ e58883…      ┆     ┆ 094          ┆            ┆            │\n",
       "│ 69419    ┆ 69419W2  ┆ WaterTank2In ┆ f10fb018-82a ┆ in  ┆ 2024-03-06   ┆ 284.342497 ┆ 870.104407 │\n",
       "│          ┆          ┆ chesToESD    ┆ 9-48aa-acf1- ┆     ┆ 04:15:32.294 ┆            ┆            │\n",
       "│          ┆          ┆              ┆ 18c770…      ┆     ┆ 849          ┆            ┆            │\n",
       "│ 69419    ┆ 6941904  ┆ OilTank4Leve ┆ 9f31b503-6a7 ┆ in  ┆ 2024-03-06   ┆ 139.593031 ┆ 463.741131 │\n",
       "│          ┆          ┆ l            ┆ b-4203-ba81- ┆     ┆ 04:15:49.277 ┆            ┆            │\n",
       "│          ┆          ┆              ┆ c63efb…      ┆     ┆ 547          ┆            ┆            │\n",
       "│ 69419    ┆ 6941904  ┆ OilTank4Volu ┆ 0c7822d0-97c ┆ bbl ┆ 2024-03-06   ┆ 387.758421 ┆ 463.741131 │\n",
       "│          ┆          ┆ me           ┆ 0-4b75-b3f3- ┆     ┆ 04:15:49.277 ┆            ┆            │\n",
       "│          ┆          ┆              ┆ b8b17c…      ┆     ┆ 547          ┆            ┆            │\n",
       "└──────────┴──────────┴──────────────┴──────────────┴─────┴──────────────┴────────────┴────────────┘"
      ]
     },
     "execution_count": 153,
     "metadata": {},
     "output_type": "execute_result"
    }
   ],
   "source": [
    "import polars as pl\n",
    "from src.main import GetTanksReq, fetch_tank_data\n",
    "\n",
    "req = GetTanksReq(primo_ids={\"69419\"})\n",
    "\n",
    "df = await fetch_tank_data(req)\n",
    "if df is None:\n",
    "    raise ValueError(\"df is None\")\n",
    "lf = df.lazy()\n",
    "lf.collect()"
   ]
  },
  {
   "cell_type": "code",
   "execution_count": 154,
   "metadata": {},
   "outputs": [
    {
     "data": {
      "text/html": [
       "<div><style>\n",
       ".dataframe > thead > tr,\n",
       ".dataframe > tbody > tr {\n",
       "  text-align: right;\n",
       "  white-space: pre-wrap;\n",
       "}\n",
       "</style>\n",
       "<small>shape: (16, 7)</small><table border=\"1\" class=\"dataframe\"><thead><tr><th>primo_id</th><th>scada_id</th><th>metric_nice_name</th><th>uom</th><th>timestamp</th><th>value</th><th>tanksize</th></tr><tr><td>str</td><td>str</td><td>str</td><td>str</td><td>datetime[μs]</td><td>f64</td><td>f64</td></tr></thead><tbody><tr><td>&quot;69419&quot;</td><td>&quot;6941901&quot;</td><td>&quot;OilTank1Level&quot;</td><td>&quot;in&quot;</td><td>2024-03-06 04:11:36.465651</td><td>62.159021</td><td>757.185625</td></tr><tr><td>&quot;69419&quot;</td><td>&quot;6941902&quot;</td><td>&quot;OilTank2Level&quot;</td><td>&quot;in&quot;</td><td>2024-03-06 04:10:57.773391</td><td>88.524576</td><td>732.273245</td></tr><tr><td>&quot;69419&quot;</td><td>&quot;6941903&quot;</td><td>&quot;OilTank3Level&quot;</td><td>&quot;in&quot;</td><td>2024-03-06 04:14:39.496037</td><td>44.370742</td><td>821.72405</td></tr><tr><td>&quot;69419&quot;</td><td>&quot;6941901&quot;</td><td>&quot;OilTank1Volume&quot;</td><td>&quot;bbl&quot;</td><td>2024-03-06 04:11:36.465651</td><td>172.663947</td><td>757.185625</td></tr><tr><td>&quot;69419&quot;</td><td>&quot;6941902&quot;</td><td>&quot;OilTank2Volume&quot;</td><td>&quot;bbl&quot;</td><td>2024-03-06 04:10:57.773391</td><td>245.9016</td><td>732.273245</td></tr><tr><td>&hellip;</td><td>&hellip;</td><td>&hellip;</td><td>&hellip;</td><td>&hellip;</td><td>&hellip;</td><td>&hellip;</td></tr><tr><td>&quot;69419&quot;</td><td>&quot;69419W2&quot;</td><td>&quot;WaterTank2Volume&quot;</td><td>&quot;bbl&quot;</td><td>2024-03-06 04:15:18.255919</td><td>142.816882</td><td>870.104407</td></tr><tr><td>&quot;69419&quot;</td><td>&quot;69419W3&quot;</td><td>&quot;WaterTank3Volume&quot;</td><td>&quot;bbl&quot;</td><td>2024-03-06 04:15:26.315094</td><td>380.445532</td><td>534.368456</td></tr><tr><td>&quot;69419&quot;</td><td>&quot;69419W2&quot;</td><td>&quot;WaterTank2InchesToESD&quot;</td><td>&quot;in&quot;</td><td>2024-03-06 04:15:32.294849</td><td>284.342497</td><td>870.104407</td></tr><tr><td>&quot;69419&quot;</td><td>&quot;6941904&quot;</td><td>&quot;OilTank4Level&quot;</td><td>&quot;in&quot;</td><td>2024-03-06 04:15:49.277547</td><td>139.593031</td><td>463.741131</td></tr><tr><td>&quot;69419&quot;</td><td>&quot;6941904&quot;</td><td>&quot;OilTank4Volume&quot;</td><td>&quot;bbl&quot;</td><td>2024-03-06 04:15:49.277547</td><td>387.758421</td><td>463.741131</td></tr></tbody></table></div>"
      ],
      "text/plain": [
       "shape: (16, 7)\n",
       "┌──────────┬──────────┬───────────────────────┬─────┬─────────────────┬────────────┬────────────┐\n",
       "│ primo_id ┆ scada_id ┆ metric_nice_name      ┆ uom ┆ timestamp       ┆ value      ┆ tanksize   │\n",
       "│ ---      ┆ ---      ┆ ---                   ┆ --- ┆ ---             ┆ ---        ┆ ---        │\n",
       "│ str      ┆ str      ┆ str                   ┆ str ┆ datetime[μs]    ┆ f64        ┆ f64        │\n",
       "╞══════════╪══════════╪═══════════════════════╪═════╪═════════════════╪════════════╪════════════╡\n",
       "│ 69419    ┆ 6941901  ┆ OilTank1Level         ┆ in  ┆ 2024-03-06      ┆ 62.159021  ┆ 757.185625 │\n",
       "│          ┆          ┆                       ┆     ┆ 04:11:36.465651 ┆            ┆            │\n",
       "│ 69419    ┆ 6941902  ┆ OilTank2Level         ┆ in  ┆ 2024-03-06      ┆ 88.524576  ┆ 732.273245 │\n",
       "│          ┆          ┆                       ┆     ┆ 04:10:57.773391 ┆            ┆            │\n",
       "│ 69419    ┆ 6941903  ┆ OilTank3Level         ┆ in  ┆ 2024-03-06      ┆ 44.370742  ┆ 821.72405  │\n",
       "│          ┆          ┆                       ┆     ┆ 04:14:39.496037 ┆            ┆            │\n",
       "│ 69419    ┆ 6941901  ┆ OilTank1Volume        ┆ bbl ┆ 2024-03-06      ┆ 172.663947 ┆ 757.185625 │\n",
       "│          ┆          ┆                       ┆     ┆ 04:11:36.465651 ┆            ┆            │\n",
       "│ 69419    ┆ 6941902  ┆ OilTank2Volume        ┆ bbl ┆ 2024-03-06      ┆ 245.9016   ┆ 732.273245 │\n",
       "│          ┆          ┆                       ┆     ┆ 04:10:57.773391 ┆            ┆            │\n",
       "│ …        ┆ …        ┆ …                     ┆ …   ┆ …               ┆ …          ┆ …          │\n",
       "│ 69419    ┆ 69419W2  ┆ WaterTank2Volume      ┆ bbl ┆ 2024-03-06      ┆ 142.816882 ┆ 870.104407 │\n",
       "│          ┆          ┆                       ┆     ┆ 04:15:18.255919 ┆            ┆            │\n",
       "│ 69419    ┆ 69419W3  ┆ WaterTank3Volume      ┆ bbl ┆ 2024-03-06      ┆ 380.445532 ┆ 534.368456 │\n",
       "│          ┆          ┆                       ┆     ┆ 04:15:26.315094 ┆            ┆            │\n",
       "│ 69419    ┆ 69419W2  ┆ WaterTank2InchesToESD ┆ in  ┆ 2024-03-06      ┆ 284.342497 ┆ 870.104407 │\n",
       "│          ┆          ┆                       ┆     ┆ 04:15:32.294849 ┆            ┆            │\n",
       "│ 69419    ┆ 6941904  ┆ OilTank4Level         ┆ in  ┆ 2024-03-06      ┆ 139.593031 ┆ 463.741131 │\n",
       "│          ┆          ┆                       ┆     ┆ 04:15:49.277547 ┆            ┆            │\n",
       "│ 69419    ┆ 6941904  ┆ OilTank4Volume        ┆ bbl ┆ 2024-03-06      ┆ 387.758421 ┆ 463.741131 │\n",
       "│          ┆          ┆                       ┆     ┆ 04:15:49.277547 ┆            ┆            │\n",
       "└──────────┴──────────┴───────────────────────┴─────┴─────────────────┴────────────┴────────────┘"
      ]
     },
     "execution_count": 154,
     "metadata": {},
     "output_type": "execute_result"
    }
   ],
   "source": [
    "lf = lf.drop(\"unique_id\")\n",
    "lf.collect()"
   ]
  },
  {
   "cell_type": "code",
   "execution_count": 155,
   "metadata": {},
   "outputs": [
    {
     "data": {
      "text/html": [
       "<div><style>\n",
       ".dataframe > thead > tr,\n",
       ".dataframe > tbody > tr {\n",
       "  text-align: right;\n",
       "  white-space: pre-wrap;\n",
       "}\n",
       "</style>\n",
       "<small>shape: (16, 8)</small><table border=\"1\" class=\"dataframe\"><thead><tr><th>primo_id</th><th>scada_id</th><th>metric_nice_name</th><th>uom</th><th>timestamp</th><th>value</th><th>tanksize</th><th>separated_metrics</th></tr><tr><td>str</td><td>str</td><td>str</td><td>str</td><td>datetime[μs]</td><td>f64</td><td>f64</td><td>struct[4]</td></tr></thead><tbody><tr><td>&quot;69419&quot;</td><td>&quot;6941901&quot;</td><td>&quot;OilTank1Level&quot;</td><td>&quot;in&quot;</td><td>2024-03-06 04:11:36.465651</td><td>62.159021</td><td>757.185625</td><td>{null,&quot;Oil&quot;,&quot;1&quot;,&quot;Level&quot;}</td></tr><tr><td>&quot;69419&quot;</td><td>&quot;6941902&quot;</td><td>&quot;OilTank2Level&quot;</td><td>&quot;in&quot;</td><td>2024-03-06 04:10:57.773391</td><td>88.524576</td><td>732.273245</td><td>{null,&quot;Oil&quot;,&quot;2&quot;,&quot;Level&quot;}</td></tr><tr><td>&quot;69419&quot;</td><td>&quot;6941903&quot;</td><td>&quot;OilTank3Level&quot;</td><td>&quot;in&quot;</td><td>2024-03-06 04:14:39.496037</td><td>44.370742</td><td>821.72405</td><td>{null,&quot;Oil&quot;,&quot;3&quot;,&quot;Level&quot;}</td></tr><tr><td>&quot;69419&quot;</td><td>&quot;6941901&quot;</td><td>&quot;OilTank1Volume&quot;</td><td>&quot;bbl&quot;</td><td>2024-03-06 04:11:36.465651</td><td>172.663947</td><td>757.185625</td><td>{null,&quot;Oil&quot;,&quot;1&quot;,&quot;Volume&quot;}</td></tr><tr><td>&quot;69419&quot;</td><td>&quot;6941902&quot;</td><td>&quot;OilTank2Volume&quot;</td><td>&quot;bbl&quot;</td><td>2024-03-06 04:10:57.773391</td><td>245.9016</td><td>732.273245</td><td>{null,&quot;Oil&quot;,&quot;2&quot;,&quot;Volume&quot;}</td></tr><tr><td>&hellip;</td><td>&hellip;</td><td>&hellip;</td><td>&hellip;</td><td>&hellip;</td><td>&hellip;</td><td>&hellip;</td><td>&hellip;</td></tr><tr><td>&quot;69419&quot;</td><td>&quot;69419W2&quot;</td><td>&quot;WaterTank2Volume&quot;</td><td>&quot;bbl&quot;</td><td>2024-03-06 04:15:18.255919</td><td>142.816882</td><td>870.104407</td><td>{null,&quot;Water&quot;,&quot;2&quot;,&quot;Volume&quot;}</td></tr><tr><td>&quot;69419&quot;</td><td>&quot;69419W3&quot;</td><td>&quot;WaterTank3Volume&quot;</td><td>&quot;bbl&quot;</td><td>2024-03-06 04:15:26.315094</td><td>380.445532</td><td>534.368456</td><td>{null,&quot;Water&quot;,&quot;3&quot;,&quot;Volume&quot;}</td></tr><tr><td>&quot;69419&quot;</td><td>&quot;69419W2&quot;</td><td>&quot;WaterTank2InchesToESD&quot;</td><td>&quot;in&quot;</td><td>2024-03-06 04:15:32.294849</td><td>284.342497</td><td>870.104407</td><td>{null,&quot;Water&quot;,&quot;2&quot;,&quot;InchesToESD&quot;}</td></tr><tr><td>&quot;69419&quot;</td><td>&quot;6941904&quot;</td><td>&quot;OilTank4Level&quot;</td><td>&quot;in&quot;</td><td>2024-03-06 04:15:49.277547</td><td>139.593031</td><td>463.741131</td><td>{null,&quot;Oil&quot;,&quot;4&quot;,&quot;Level&quot;}</td></tr><tr><td>&quot;69419&quot;</td><td>&quot;6941904&quot;</td><td>&quot;OilTank4Volume&quot;</td><td>&quot;bbl&quot;</td><td>2024-03-06 04:15:49.277547</td><td>387.758421</td><td>463.741131</td><td>{null,&quot;Oil&quot;,&quot;4&quot;,&quot;Volume&quot;}</td></tr></tbody></table></div>"
      ],
      "text/plain": [
       "shape: (16, 8)\n",
       "┌──────────┬──────────┬──────────────┬─────┬──────────────┬────────────┬────────────┬──────────────┐\n",
       "│ primo_id ┆ scada_id ┆ metric_nice_ ┆ uom ┆ timestamp    ┆ value      ┆ tanksize   ┆ separated_me │\n",
       "│ ---      ┆ ---      ┆ name         ┆ --- ┆ ---          ┆ ---        ┆ ---        ┆ trics        │\n",
       "│ str      ┆ str      ┆ ---          ┆ str ┆ datetime[μs] ┆ f64        ┆ f64        ┆ ---          │\n",
       "│          ┆          ┆ str          ┆     ┆              ┆            ┆            ┆ struct[4]    │\n",
       "╞══════════╪══════════╪══════════════╪═════╪══════════════╪════════════╪════════════╪══════════════╡\n",
       "│ 69419    ┆ 6941901  ┆ OilTank1Leve ┆ in  ┆ 2024-03-06   ┆ 62.159021  ┆ 757.185625 ┆ {null,\"Oil\", │\n",
       "│          ┆          ┆ l            ┆     ┆ 04:11:36.465 ┆            ┆            ┆ \"1\",\"Level\"} │\n",
       "│          ┆          ┆              ┆     ┆ 651          ┆            ┆            ┆              │\n",
       "│ 69419    ┆ 6941902  ┆ OilTank2Leve ┆ in  ┆ 2024-03-06   ┆ 88.524576  ┆ 732.273245 ┆ {null,\"Oil\", │\n",
       "│          ┆          ┆ l            ┆     ┆ 04:10:57.773 ┆            ┆            ┆ \"2\",\"Level\"} │\n",
       "│          ┆          ┆              ┆     ┆ 391          ┆            ┆            ┆              │\n",
       "│ 69419    ┆ 6941903  ┆ OilTank3Leve ┆ in  ┆ 2024-03-06   ┆ 44.370742  ┆ 821.72405  ┆ {null,\"Oil\", │\n",
       "│          ┆          ┆ l            ┆     ┆ 04:14:39.496 ┆            ┆            ┆ \"3\",\"Level\"} │\n",
       "│          ┆          ┆              ┆     ┆ 037          ┆            ┆            ┆              │\n",
       "│ 69419    ┆ 6941901  ┆ OilTank1Volu ┆ bbl ┆ 2024-03-06   ┆ 172.663947 ┆ 757.185625 ┆ {null,\"Oil\", │\n",
       "│          ┆          ┆ me           ┆     ┆ 04:11:36.465 ┆            ┆            ┆ \"1\",\"Volume\" │\n",
       "│          ┆          ┆              ┆     ┆ 651          ┆            ┆            ┆ }            │\n",
       "│ 69419    ┆ 6941902  ┆ OilTank2Volu ┆ bbl ┆ 2024-03-06   ┆ 245.9016   ┆ 732.273245 ┆ {null,\"Oil\", │\n",
       "│          ┆          ┆ me           ┆     ┆ 04:10:57.773 ┆            ┆            ┆ \"2\",\"Volume\" │\n",
       "│          ┆          ┆              ┆     ┆ 391          ┆            ┆            ┆ }            │\n",
       "│ …        ┆ …        ┆ …            ┆ …   ┆ …            ┆ …          ┆ …          ┆ …            │\n",
       "│ 69419    ┆ 69419W2  ┆ WaterTank2Vo ┆ bbl ┆ 2024-03-06   ┆ 142.816882 ┆ 870.104407 ┆ {null,\"Water │\n",
       "│          ┆          ┆ lume         ┆     ┆ 04:15:18.255 ┆            ┆            ┆ \",\"2\",\"Volum │\n",
       "│          ┆          ┆              ┆     ┆ 919          ┆            ┆            ┆ e\"}          │\n",
       "│ 69419    ┆ 69419W3  ┆ WaterTank3Vo ┆ bbl ┆ 2024-03-06   ┆ 380.445532 ┆ 534.368456 ┆ {null,\"Water │\n",
       "│          ┆          ┆ lume         ┆     ┆ 04:15:26.315 ┆            ┆            ┆ \",\"3\",\"Volum │\n",
       "│          ┆          ┆              ┆     ┆ 094          ┆            ┆            ┆ e\"}          │\n",
       "│ 69419    ┆ 69419W2  ┆ WaterTank2In ┆ in  ┆ 2024-03-06   ┆ 284.342497 ┆ 870.104407 ┆ {null,\"Water │\n",
       "│          ┆          ┆ chesToESD    ┆     ┆ 04:15:32.294 ┆            ┆            ┆ \",\"2\",\"Inche │\n",
       "│          ┆          ┆              ┆     ┆ 849          ┆            ┆            ┆ sToESD…      │\n",
       "│ 69419    ┆ 6941904  ┆ OilTank4Leve ┆ in  ┆ 2024-03-06   ┆ 139.593031 ┆ 463.741131 ┆ {null,\"Oil\", │\n",
       "│          ┆          ┆ l            ┆     ┆ 04:15:49.277 ┆            ┆            ┆ \"4\",\"Level\"} │\n",
       "│          ┆          ┆              ┆     ┆ 547          ┆            ┆            ┆              │\n",
       "│ 69419    ┆ 6941904  ┆ OilTank4Volu ┆ bbl ┆ 2024-03-06   ┆ 387.758421 ┆ 463.741131 ┆ {null,\"Oil\", │\n",
       "│          ┆          ┆ me           ┆     ┆ 04:15:49.277 ┆            ┆            ┆ \"4\",\"Volume\" │\n",
       "│          ┆          ┆              ┆     ┆ 547          ┆            ┆            ┆ }            │\n",
       "└──────────┴──────────┴──────────────┴─────┴──────────────┴────────────┴────────────┴──────────────┘"
      ]
     },
     "execution_count": 155,
     "metadata": {},
     "output_type": "execute_result"
    }
   ],
   "source": [
    "tank_metrics = [\"Level\", \"Volume\", \"InchesUntilAlarm\", \"InchesToESD\", \"TimeUntilESD\", \"Capacity\", \"ID\"]\n",
    "tank_types = [\"Water\", \"Oil\"]\n",
    "\n",
    "tank_metrics_str= \"|\".join(tank_metrics)\n",
    "tank_types_str = \"|\".join(tank_types)\n",
    "\n",
    "pattern = f'^(?<is_ESD>ESD-)?(?<tank_type>{tank_types_str})Tank(?<tank_number>[0-9]*)(?<tank_metric>{tank_metrics_str})'\n",
    "lf = lf.with_columns(separated_metrics = pl.col(\"metric_nice_name\").str.extract_groups(pattern))\n",
    "lf.collect()"
   ]
  },
  {
   "cell_type": "code",
   "execution_count": 156,
   "metadata": {},
   "outputs": [
    {
     "data": {
      "text/html": [
       "<div><style>\n",
       ".dataframe > thead > tr,\n",
       ".dataframe > tbody > tr {\n",
       "  text-align: right;\n",
       "  white-space: pre-wrap;\n",
       "}\n",
       "</style>\n",
       "<small>shape: (16, 11)</small><table border=\"1\" class=\"dataframe\"><thead><tr><th>primo_id</th><th>scada_id</th><th>metric_nice_name</th><th>uom</th><th>timestamp</th><th>value</th><th>tanksize</th><th>is_ESD</th><th>tank_type</th><th>tank_number</th><th>tank_metric</th></tr><tr><td>str</td><td>str</td><td>str</td><td>str</td><td>datetime[μs]</td><td>f64</td><td>f64</td><td>str</td><td>str</td><td>str</td><td>str</td></tr></thead><tbody><tr><td>&quot;69419&quot;</td><td>&quot;6941901&quot;</td><td>&quot;OilTank1Level&quot;</td><td>&quot;in&quot;</td><td>2024-03-06 04:11:36.465651</td><td>62.159021</td><td>757.185625</td><td>null</td><td>&quot;Oil&quot;</td><td>&quot;1&quot;</td><td>&quot;Level&quot;</td></tr><tr><td>&quot;69419&quot;</td><td>&quot;6941902&quot;</td><td>&quot;OilTank2Level&quot;</td><td>&quot;in&quot;</td><td>2024-03-06 04:10:57.773391</td><td>88.524576</td><td>732.273245</td><td>null</td><td>&quot;Oil&quot;</td><td>&quot;2&quot;</td><td>&quot;Level&quot;</td></tr><tr><td>&quot;69419&quot;</td><td>&quot;6941903&quot;</td><td>&quot;OilTank3Level&quot;</td><td>&quot;in&quot;</td><td>2024-03-06 04:14:39.496037</td><td>44.370742</td><td>821.72405</td><td>null</td><td>&quot;Oil&quot;</td><td>&quot;3&quot;</td><td>&quot;Level&quot;</td></tr><tr><td>&quot;69419&quot;</td><td>&quot;6941901&quot;</td><td>&quot;OilTank1Volume&quot;</td><td>&quot;bbl&quot;</td><td>2024-03-06 04:11:36.465651</td><td>172.663947</td><td>757.185625</td><td>null</td><td>&quot;Oil&quot;</td><td>&quot;1&quot;</td><td>&quot;Volume&quot;</td></tr><tr><td>&quot;69419&quot;</td><td>&quot;6941902&quot;</td><td>&quot;OilTank2Volume&quot;</td><td>&quot;bbl&quot;</td><td>2024-03-06 04:10:57.773391</td><td>245.9016</td><td>732.273245</td><td>null</td><td>&quot;Oil&quot;</td><td>&quot;2&quot;</td><td>&quot;Volume&quot;</td></tr><tr><td>&hellip;</td><td>&hellip;</td><td>&hellip;</td><td>&hellip;</td><td>&hellip;</td><td>&hellip;</td><td>&hellip;</td><td>&hellip;</td><td>&hellip;</td><td>&hellip;</td><td>&hellip;</td></tr><tr><td>&quot;69419&quot;</td><td>&quot;69419W2&quot;</td><td>&quot;WaterTank2Volume&quot;</td><td>&quot;bbl&quot;</td><td>2024-03-06 04:15:18.255919</td><td>142.816882</td><td>870.104407</td><td>null</td><td>&quot;Water&quot;</td><td>&quot;2&quot;</td><td>&quot;Volume&quot;</td></tr><tr><td>&quot;69419&quot;</td><td>&quot;69419W3&quot;</td><td>&quot;WaterTank3Volume&quot;</td><td>&quot;bbl&quot;</td><td>2024-03-06 04:15:26.315094</td><td>380.445532</td><td>534.368456</td><td>null</td><td>&quot;Water&quot;</td><td>&quot;3&quot;</td><td>&quot;Volume&quot;</td></tr><tr><td>&quot;69419&quot;</td><td>&quot;69419W2&quot;</td><td>&quot;WaterTank2InchesToESD&quot;</td><td>&quot;in&quot;</td><td>2024-03-06 04:15:32.294849</td><td>284.342497</td><td>870.104407</td><td>null</td><td>&quot;Water&quot;</td><td>&quot;2&quot;</td><td>&quot;InchesToESD&quot;</td></tr><tr><td>&quot;69419&quot;</td><td>&quot;6941904&quot;</td><td>&quot;OilTank4Level&quot;</td><td>&quot;in&quot;</td><td>2024-03-06 04:15:49.277547</td><td>139.593031</td><td>463.741131</td><td>null</td><td>&quot;Oil&quot;</td><td>&quot;4&quot;</td><td>&quot;Level&quot;</td></tr><tr><td>&quot;69419&quot;</td><td>&quot;6941904&quot;</td><td>&quot;OilTank4Volume&quot;</td><td>&quot;bbl&quot;</td><td>2024-03-06 04:15:49.277547</td><td>387.758421</td><td>463.741131</td><td>null</td><td>&quot;Oil&quot;</td><td>&quot;4&quot;</td><td>&quot;Volume&quot;</td></tr></tbody></table></div>"
      ],
      "text/plain": [
       "shape: (16, 11)\n",
       "┌──────────┬──────────┬─────────────────┬─────┬───┬────────┬───────────┬─────────────┬─────────────┐\n",
       "│ primo_id ┆ scada_id ┆ metric_nice_nam ┆ uom ┆ … ┆ is_ESD ┆ tank_type ┆ tank_number ┆ tank_metric │\n",
       "│ ---      ┆ ---      ┆ e               ┆ --- ┆   ┆ ---    ┆ ---       ┆ ---         ┆ ---         │\n",
       "│ str      ┆ str      ┆ ---             ┆ str ┆   ┆ str    ┆ str       ┆ str         ┆ str         │\n",
       "│          ┆          ┆ str             ┆     ┆   ┆        ┆           ┆             ┆             │\n",
       "╞══════════╪══════════╪═════════════════╪═════╪═══╪════════╪═══════════╪═════════════╪═════════════╡\n",
       "│ 69419    ┆ 6941901  ┆ OilTank1Level   ┆ in  ┆ … ┆ null   ┆ Oil       ┆ 1           ┆ Level       │\n",
       "│ 69419    ┆ 6941902  ┆ OilTank2Level   ┆ in  ┆ … ┆ null   ┆ Oil       ┆ 2           ┆ Level       │\n",
       "│ 69419    ┆ 6941903  ┆ OilTank3Level   ┆ in  ┆ … ┆ null   ┆ Oil       ┆ 3           ┆ Level       │\n",
       "│ 69419    ┆ 6941901  ┆ OilTank1Volume  ┆ bbl ┆ … ┆ null   ┆ Oil       ┆ 1           ┆ Volume      │\n",
       "│ 69419    ┆ 6941902  ┆ OilTank2Volume  ┆ bbl ┆ … ┆ null   ┆ Oil       ┆ 2           ┆ Volume      │\n",
       "│ …        ┆ …        ┆ …               ┆ …   ┆ … ┆ …      ┆ …         ┆ …           ┆ …           │\n",
       "│ 69419    ┆ 69419W2  ┆ WaterTank2Volum ┆ bbl ┆ … ┆ null   ┆ Water     ┆ 2           ┆ Volume      │\n",
       "│          ┆          ┆ e               ┆     ┆   ┆        ┆           ┆             ┆             │\n",
       "│ 69419    ┆ 69419W3  ┆ WaterTank3Volum ┆ bbl ┆ … ┆ null   ┆ Water     ┆ 3           ┆ Volume      │\n",
       "│          ┆          ┆ e               ┆     ┆   ┆        ┆           ┆             ┆             │\n",
       "│ 69419    ┆ 69419W2  ┆ WaterTank2Inche ┆ in  ┆ … ┆ null   ┆ Water     ┆ 2           ┆ InchesToESD │\n",
       "│          ┆          ┆ sToESD          ┆     ┆   ┆        ┆           ┆             ┆             │\n",
       "│ 69419    ┆ 6941904  ┆ OilTank4Level   ┆ in  ┆ … ┆ null   ┆ Oil       ┆ 4           ┆ Level       │\n",
       "│ 69419    ┆ 6941904  ┆ OilTank4Volume  ┆ bbl ┆ … ┆ null   ┆ Oil       ┆ 4           ┆ Volume      │\n",
       "└──────────┴──────────┴─────────────────┴─────┴───┴────────┴───────────┴─────────────┴─────────────┘"
      ]
     },
     "execution_count": 156,
     "metadata": {},
     "output_type": "execute_result"
    }
   ],
   "source": [
    "lf = lf.unnest(\"separated_metrics\")\n",
    "lf.collect()"
   ]
  },
  {
   "cell_type": "code",
   "execution_count": 157,
   "metadata": {},
   "outputs": [
    {
     "data": {
      "text/html": [
       "<div><style>\n",
       ".dataframe > thead > tr,\n",
       ".dataframe > tbody > tr {\n",
       "  text-align: right;\n",
       "  white-space: pre-wrap;\n",
       "}\n",
       "</style>\n",
       "<small>shape: (16, 11)</small><table border=\"1\" class=\"dataframe\"><thead><tr><th>primo_id</th><th>scada_id</th><th>metric_nice_name</th><th>uom</th><th>timestamp</th><th>value</th><th>tanksize</th><th>is_ESD</th><th>tank_type</th><th>tank_number</th><th>tank_metric</th></tr><tr><td>str</td><td>str</td><td>str</td><td>str</td><td>datetime[μs]</td><td>f64</td><td>f64</td><td>str</td><td>str</td><td>u8</td><td>str</td></tr></thead><tbody><tr><td>&quot;69419&quot;</td><td>&quot;6941901&quot;</td><td>&quot;OilTank1Level&quot;</td><td>&quot;in&quot;</td><td>2024-03-06 04:11:36.465651</td><td>62.159021</td><td>757.185625</td><td>null</td><td>&quot;Oil&quot;</td><td>1</td><td>&quot;Level&quot;</td></tr><tr><td>&quot;69419&quot;</td><td>&quot;6941902&quot;</td><td>&quot;OilTank2Level&quot;</td><td>&quot;in&quot;</td><td>2024-03-06 04:10:57.773391</td><td>88.524576</td><td>732.273245</td><td>null</td><td>&quot;Oil&quot;</td><td>2</td><td>&quot;Level&quot;</td></tr><tr><td>&quot;69419&quot;</td><td>&quot;6941903&quot;</td><td>&quot;OilTank3Level&quot;</td><td>&quot;in&quot;</td><td>2024-03-06 04:14:39.496037</td><td>44.370742</td><td>821.72405</td><td>null</td><td>&quot;Oil&quot;</td><td>3</td><td>&quot;Level&quot;</td></tr><tr><td>&quot;69419&quot;</td><td>&quot;6941901&quot;</td><td>&quot;OilTank1Volume&quot;</td><td>&quot;bbl&quot;</td><td>2024-03-06 04:11:36.465651</td><td>172.663947</td><td>757.185625</td><td>null</td><td>&quot;Oil&quot;</td><td>1</td><td>&quot;Volume&quot;</td></tr><tr><td>&quot;69419&quot;</td><td>&quot;6941902&quot;</td><td>&quot;OilTank2Volume&quot;</td><td>&quot;bbl&quot;</td><td>2024-03-06 04:10:57.773391</td><td>245.9016</td><td>732.273245</td><td>null</td><td>&quot;Oil&quot;</td><td>2</td><td>&quot;Volume&quot;</td></tr><tr><td>&hellip;</td><td>&hellip;</td><td>&hellip;</td><td>&hellip;</td><td>&hellip;</td><td>&hellip;</td><td>&hellip;</td><td>&hellip;</td><td>&hellip;</td><td>&hellip;</td><td>&hellip;</td></tr><tr><td>&quot;69419&quot;</td><td>&quot;69419W2&quot;</td><td>&quot;WaterTank2Volume&quot;</td><td>&quot;bbl&quot;</td><td>2024-03-06 04:15:18.255919</td><td>142.816882</td><td>870.104407</td><td>null</td><td>&quot;Water&quot;</td><td>2</td><td>&quot;Volume&quot;</td></tr><tr><td>&quot;69419&quot;</td><td>&quot;69419W3&quot;</td><td>&quot;WaterTank3Volume&quot;</td><td>&quot;bbl&quot;</td><td>2024-03-06 04:15:26.315094</td><td>380.445532</td><td>534.368456</td><td>null</td><td>&quot;Water&quot;</td><td>3</td><td>&quot;Volume&quot;</td></tr><tr><td>&quot;69419&quot;</td><td>&quot;69419W2&quot;</td><td>&quot;WaterTank2InchesToESD&quot;</td><td>&quot;in&quot;</td><td>2024-03-06 04:15:32.294849</td><td>284.342497</td><td>870.104407</td><td>null</td><td>&quot;Water&quot;</td><td>2</td><td>&quot;InchesToESD&quot;</td></tr><tr><td>&quot;69419&quot;</td><td>&quot;6941904&quot;</td><td>&quot;OilTank4Level&quot;</td><td>&quot;in&quot;</td><td>2024-03-06 04:15:49.277547</td><td>139.593031</td><td>463.741131</td><td>null</td><td>&quot;Oil&quot;</td><td>4</td><td>&quot;Level&quot;</td></tr><tr><td>&quot;69419&quot;</td><td>&quot;6941904&quot;</td><td>&quot;OilTank4Volume&quot;</td><td>&quot;bbl&quot;</td><td>2024-03-06 04:15:49.277547</td><td>387.758421</td><td>463.741131</td><td>null</td><td>&quot;Oil&quot;</td><td>4</td><td>&quot;Volume&quot;</td></tr></tbody></table></div>"
      ],
      "text/plain": [
       "shape: (16, 11)\n",
       "┌──────────┬──────────┬─────────────────┬─────┬───┬────────┬───────────┬─────────────┬─────────────┐\n",
       "│ primo_id ┆ scada_id ┆ metric_nice_nam ┆ uom ┆ … ┆ is_ESD ┆ tank_type ┆ tank_number ┆ tank_metric │\n",
       "│ ---      ┆ ---      ┆ e               ┆ --- ┆   ┆ ---    ┆ ---       ┆ ---         ┆ ---         │\n",
       "│ str      ┆ str      ┆ ---             ┆ str ┆   ┆ str    ┆ str       ┆ u8          ┆ str         │\n",
       "│          ┆          ┆ str             ┆     ┆   ┆        ┆           ┆             ┆             │\n",
       "╞══════════╪══════════╪═════════════════╪═════╪═══╪════════╪═══════════╪═════════════╪═════════════╡\n",
       "│ 69419    ┆ 6941901  ┆ OilTank1Level   ┆ in  ┆ … ┆ null   ┆ Oil       ┆ 1           ┆ Level       │\n",
       "│ 69419    ┆ 6941902  ┆ OilTank2Level   ┆ in  ┆ … ┆ null   ┆ Oil       ┆ 2           ┆ Level       │\n",
       "│ 69419    ┆ 6941903  ┆ OilTank3Level   ┆ in  ┆ … ┆ null   ┆ Oil       ┆ 3           ┆ Level       │\n",
       "│ 69419    ┆ 6941901  ┆ OilTank1Volume  ┆ bbl ┆ … ┆ null   ┆ Oil       ┆ 1           ┆ Volume      │\n",
       "│ 69419    ┆ 6941902  ┆ OilTank2Volume  ┆ bbl ┆ … ┆ null   ┆ Oil       ┆ 2           ┆ Volume      │\n",
       "│ …        ┆ …        ┆ …               ┆ …   ┆ … ┆ …      ┆ …         ┆ …           ┆ …           │\n",
       "│ 69419    ┆ 69419W2  ┆ WaterTank2Volum ┆ bbl ┆ … ┆ null   ┆ Water     ┆ 2           ┆ Volume      │\n",
       "│          ┆          ┆ e               ┆     ┆   ┆        ┆           ┆             ┆             │\n",
       "│ 69419    ┆ 69419W3  ┆ WaterTank3Volum ┆ bbl ┆ … ┆ null   ┆ Water     ┆ 3           ┆ Volume      │\n",
       "│          ┆          ┆ e               ┆     ┆   ┆        ┆           ┆             ┆             │\n",
       "│ 69419    ┆ 69419W2  ┆ WaterTank2Inche ┆ in  ┆ … ┆ null   ┆ Water     ┆ 2           ┆ InchesToESD │\n",
       "│          ┆          ┆ sToESD          ┆     ┆   ┆        ┆           ┆             ┆             │\n",
       "│ 69419    ┆ 6941904  ┆ OilTank4Level   ┆ in  ┆ … ┆ null   ┆ Oil       ┆ 4           ┆ Level       │\n",
       "│ 69419    ┆ 6941904  ┆ OilTank4Volume  ┆ bbl ┆ … ┆ null   ┆ Oil       ┆ 4           ┆ Volume      │\n",
       "└──────────┴──────────┴─────────────────┴─────┴───┴────────┴───────────┴─────────────┴─────────────┘"
      ]
     },
     "execution_count": 157,
     "metadata": {},
     "output_type": "execute_result"
    }
   ],
   "source": [
    "lf = lf.with_columns(pl.col(\"tank_number\").cast(pl.UInt8, strict=False))\n",
    "lf.collect()"
   ]
  },
  {
   "cell_type": "code",
   "execution_count": 158,
   "metadata": {},
   "outputs": [
    {
     "data": {
      "text/html": [
       "<div><style>\n",
       ".dataframe > thead > tr,\n",
       ".dataframe > tbody > tr {\n",
       "  text-align: right;\n",
       "  white-space: pre-wrap;\n",
       "}\n",
       "</style>\n",
       "<small>shape: (7, 11)</small><table border=\"1\" class=\"dataframe\"><thead><tr><th>primo_id</th><th>tank_type</th><th>tank_number</th><th>scada_id</th><th>Level</th><th>Volume</th><th>InchesUntilAlarm</th><th>InchesToESD</th><th>TimeUntilESD</th><th>Capacity</th><th>ID</th></tr><tr><td>str</td><td>str</td><td>u8</td><td>str</td><td>f64</td><td>f64</td><td>f64</td><td>f64</td><td>f64</td><td>f64</td><td>f64</td></tr></thead><tbody><tr><td>&quot;69419&quot;</td><td>&quot;Oil&quot;</td><td>4</td><td>&quot;6941904&quot;</td><td>139.593031</td><td>387.758421</td><td>null</td><td>null</td><td>null</td><td>null</td><td>null</td></tr><tr><td>&quot;69419&quot;</td><td>&quot;Oil&quot;</td><td>3</td><td>&quot;6941903&quot;</td><td>44.370742</td><td>123.252061</td><td>null</td><td>null</td><td>null</td><td>null</td><td>null</td></tr><tr><td>&quot;69419&quot;</td><td>&quot;Oil&quot;</td><td>1</td><td>&quot;6941901&quot;</td><td>62.159021</td><td>172.663947</td><td>null</td><td>null</td><td>null</td><td>null</td><td>null</td></tr><tr><td>&quot;69419&quot;</td><td>&quot;Water&quot;</td><td>1</td><td>&quot;69419W1&quot;</td><td>49.260341</td><td>136.83428</td><td>null</td><td>null</td><td>null</td><td>null</td><td>null</td></tr><tr><td>&quot;69419&quot;</td><td>&quot;Water&quot;</td><td>3</td><td>&quot;69419W3&quot;</td><td>136.960391</td><td>380.445532</td><td>null</td><td>null</td><td>null</td><td>null</td><td>null</td></tr><tr><td>&quot;69419&quot;</td><td>&quot;Water&quot;</td><td>2</td><td>&quot;69419W2&quot;</td><td>51.414077</td><td>142.816882</td><td>null</td><td>284.342497</td><td>null</td><td>null</td><td>null</td></tr><tr><td>&quot;69419&quot;</td><td>&quot;Oil&quot;</td><td>2</td><td>&quot;6941902&quot;</td><td>88.524576</td><td>245.9016</td><td>null</td><td>25.078137</td><td>null</td><td>null</td><td>null</td></tr></tbody></table></div>"
      ],
      "text/plain": [
       "shape: (7, 11)\n",
       "┌──────────┬───────────┬─────────────┬──────────┬───┬─────────────┬──────────────┬──────────┬──────┐\n",
       "│ primo_id ┆ tank_type ┆ tank_number ┆ scada_id ┆ … ┆ InchesToESD ┆ TimeUntilESD ┆ Capacity ┆ ID   │\n",
       "│ ---      ┆ ---       ┆ ---         ┆ ---      ┆   ┆ ---         ┆ ---          ┆ ---      ┆ ---  │\n",
       "│ str      ┆ str       ┆ u8          ┆ str      ┆   ┆ f64         ┆ f64          ┆ f64      ┆ f64  │\n",
       "╞══════════╪═══════════╪═════════════╪══════════╪═══╪═════════════╪══════════════╪══════════╪══════╡\n",
       "│ 69419    ┆ Oil       ┆ 4           ┆ 6941904  ┆ … ┆ null        ┆ null         ┆ null     ┆ null │\n",
       "│ 69419    ┆ Oil       ┆ 3           ┆ 6941903  ┆ … ┆ null        ┆ null         ┆ null     ┆ null │\n",
       "│ 69419    ┆ Oil       ┆ 1           ┆ 6941901  ┆ … ┆ null        ┆ null         ┆ null     ┆ null │\n",
       "│ 69419    ┆ Water     ┆ 1           ┆ 69419W1  ┆ … ┆ null        ┆ null         ┆ null     ┆ null │\n",
       "│ 69419    ┆ Water     ┆ 3           ┆ 69419W3  ┆ … ┆ null        ┆ null         ┆ null     ┆ null │\n",
       "│ 69419    ┆ Water     ┆ 2           ┆ 69419W2  ┆ … ┆ 284.342497  ┆ null         ┆ null     ┆ null │\n",
       "│ 69419    ┆ Oil       ┆ 2           ┆ 6941902  ┆ … ┆ 25.078137   ┆ null         ┆ null     ┆ null │\n",
       "└──────────┴───────────┴─────────────┴──────────┴───┴─────────────┴──────────────┴──────────┴──────┘"
      ]
     },
     "execution_count": 158,
     "metadata": {},
     "output_type": "execute_result"
    }
   ],
   "source": [
    "#pivoting the data\n",
    "values = pl.col(\"value\")\n",
    "columns = pl.col(\"tank_metric\")\n",
    "pivoted_lf = lf.group_by(\"primo_id\", \"tank_type\", \"tank_number\", \"scada_id\").agg(\n",
    "    values.filter(columns == metric).first().alias(metric) for metric in tank_metrics\n",
    ")\n",
    "\n",
    "pivoted_lf.collect()"
   ]
  },
  {
   "cell_type": "code",
   "execution_count": 159,
   "metadata": {},
   "outputs": [
    {
     "data": {
      "text/html": [
       "<div><style>\n",
       ".dataframe > thead > tr,\n",
       ".dataframe > tbody > tr {\n",
       "  text-align: right;\n",
       "  white-space: pre-wrap;\n",
       "}\n",
       "</style>\n",
       "<small>shape: (0, 10)</small><table border=\"1\" class=\"dataframe\"><thead><tr><th>primo_id</th><th>tank_type</th><th>tank_number</th><th>scada_id</th><th>Level</th><th>Volume</th><th>InchesUntilAlarm</th><th>InchesToESD</th><th>TimeUntilESD</th><th>Capacity</th></tr><tr><td>str</td><td>str</td><td>u8</td><td>str</td><td>f64</td><td>f64</td><td>f64</td><td>f64</td><td>f64</td><td>f64</td></tr></thead><tbody></tbody></table></div>"
      ],
      "text/plain": [
       "shape: (0, 10)\n",
       "┌──────────┬───────────┬────────────┬──────────┬───┬────────────┬───────────┬───────────┬──────────┐\n",
       "│ primo_id ┆ tank_type ┆ tank_numbe ┆ scada_id ┆ … ┆ InchesUnti ┆ InchesToE ┆ TimeUntil ┆ Capacity │\n",
       "│ ---      ┆ ---       ┆ r          ┆ ---      ┆   ┆ lAlarm     ┆ SD        ┆ ESD       ┆ ---      │\n",
       "│ str      ┆ str       ┆ ---        ┆ str      ┆   ┆ ---        ┆ ---       ┆ ---       ┆ f64      │\n",
       "│          ┆           ┆ u8         ┆          ┆   ┆ f64        ┆ f64       ┆ f64       ┆          │\n",
       "╞══════════╪═══════════╪════════════╪══════════╪═══╪════════════╪═══════════╪═══════════╪══════════╡\n",
       "└──────────┴───────────┴────────────┴──────────┴───┴────────────┴───────────┴───────────┴──────────┘"
      ]
     },
     "execution_count": 159,
     "metadata": {},
     "output_type": "execute_result"
    }
   ],
   "source": [
    "null_condition = pl.col(\"tank_number\").is_null()\n",
    "not_null_condition = pl.col(\"tank_number\").is_not_null()\n",
    "\n",
    "null_tanks = pivoted_lf.filter(null_condition)\n",
    "numbered_tanks = pivoted_lf.filter(not_null_condition)\n",
    "\n",
    "null_tanks = null_tanks.with_columns(pl.col(\"ID\").alias(\"tank_number\"))\n",
    "null_tanks = null_tanks.drop(\"ID\")\n",
    "null_tanks = null_tanks.with_columns(pl.col(\"tank_number\").cast(pl.UInt8, strict=False))\n",
    "\n",
    "null_tanks.collect()"
   ]
  },
  {
   "cell_type": "code",
   "execution_count": 160,
   "metadata": {},
   "outputs": [
    {
     "data": {
      "text/html": [
       "<div><style>\n",
       ".dataframe > thead > tr,\n",
       ".dataframe > tbody > tr {\n",
       "  text-align: right;\n",
       "  white-space: pre-wrap;\n",
       "}\n",
       "</style>\n",
       "<small>shape: (7, 18)</small><table border=\"1\" class=\"dataframe\"><thead><tr><th>primo_id</th><th>tank_type</th><th>tank_number</th><th>scada_id</th><th>Level</th><th>Volume</th><th>InchesUntilAlarm</th><th>InchesToESD</th><th>TimeUntilESD</th><th>Capacity</th><th>ID</th><th>scada_id_right</th><th>Level_right</th><th>Volume_right</th><th>InchesUntilAlarm_right</th><th>InchesToESD_right</th><th>TimeUntilESD_right</th><th>Capacity_right</th></tr><tr><td>str</td><td>str</td><td>u8</td><td>str</td><td>f64</td><td>f64</td><td>f64</td><td>f64</td><td>f64</td><td>f64</td><td>f64</td><td>str</td><td>f64</td><td>f64</td><td>f64</td><td>f64</td><td>f64</td><td>f64</td></tr></thead><tbody><tr><td>&quot;69419&quot;</td><td>&quot;Oil&quot;</td><td>2</td><td>&quot;6941902&quot;</td><td>88.524576</td><td>245.9016</td><td>null</td><td>25.078137</td><td>null</td><td>null</td><td>null</td><td>null</td><td>null</td><td>null</td><td>null</td><td>null</td><td>null</td><td>null</td></tr><tr><td>&quot;69419&quot;</td><td>&quot;Oil&quot;</td><td>3</td><td>&quot;6941903&quot;</td><td>44.370742</td><td>123.252061</td><td>null</td><td>null</td><td>null</td><td>null</td><td>null</td><td>null</td><td>null</td><td>null</td><td>null</td><td>null</td><td>null</td><td>null</td></tr><tr><td>&quot;69419&quot;</td><td>&quot;Water&quot;</td><td>2</td><td>&quot;69419W2&quot;</td><td>51.414077</td><td>142.816882</td><td>null</td><td>284.342497</td><td>null</td><td>null</td><td>null</td><td>null</td><td>null</td><td>null</td><td>null</td><td>null</td><td>null</td><td>null</td></tr><tr><td>&quot;69419&quot;</td><td>&quot;Water&quot;</td><td>1</td><td>&quot;69419W1&quot;</td><td>49.260341</td><td>136.83428</td><td>null</td><td>null</td><td>null</td><td>null</td><td>null</td><td>null</td><td>null</td><td>null</td><td>null</td><td>null</td><td>null</td><td>null</td></tr><tr><td>&quot;69419&quot;</td><td>&quot;Water&quot;</td><td>3</td><td>&quot;69419W3&quot;</td><td>136.960391</td><td>380.445532</td><td>null</td><td>null</td><td>null</td><td>null</td><td>null</td><td>null</td><td>null</td><td>null</td><td>null</td><td>null</td><td>null</td><td>null</td></tr><tr><td>&quot;69419&quot;</td><td>&quot;Oil&quot;</td><td>4</td><td>&quot;6941904&quot;</td><td>139.593031</td><td>387.758421</td><td>null</td><td>null</td><td>null</td><td>null</td><td>null</td><td>null</td><td>null</td><td>null</td><td>null</td><td>null</td><td>null</td><td>null</td></tr><tr><td>&quot;69419&quot;</td><td>&quot;Oil&quot;</td><td>1</td><td>&quot;6941901&quot;</td><td>62.159021</td><td>172.663947</td><td>null</td><td>null</td><td>null</td><td>null</td><td>null</td><td>null</td><td>null</td><td>null</td><td>null</td><td>null</td><td>null</td><td>null</td></tr></tbody></table></div>"
      ],
      "text/plain": [
       "shape: (7, 18)\n",
       "┌──────────┬───────────┬────────────┬──────────┬───┬───────────┬───────────┬───────────┬───────────┐\n",
       "│ primo_id ┆ tank_type ┆ tank_numbe ┆ scada_id ┆ … ┆ InchesUnt ┆ InchesToE ┆ TimeUntil ┆ Capacity_ │\n",
       "│ ---      ┆ ---       ┆ r          ┆ ---      ┆   ┆ ilAlarm_r ┆ SD_right  ┆ ESD_right ┆ right     │\n",
       "│ str      ┆ str       ┆ ---        ┆ str      ┆   ┆ ight      ┆ ---       ┆ ---       ┆ ---       │\n",
       "│          ┆           ┆ u8         ┆          ┆   ┆ ---       ┆ f64       ┆ f64       ┆ f64       │\n",
       "│          ┆           ┆            ┆          ┆   ┆ f64       ┆           ┆           ┆           │\n",
       "╞══════════╪═══════════╪════════════╪══════════╪═══╪═══════════╪═══════════╪═══════════╪═══════════╡\n",
       "│ 69419    ┆ Oil       ┆ 2          ┆ 6941902  ┆ … ┆ null      ┆ null      ┆ null      ┆ null      │\n",
       "│ 69419    ┆ Oil       ┆ 3          ┆ 6941903  ┆ … ┆ null      ┆ null      ┆ null      ┆ null      │\n",
       "│ 69419    ┆ Water     ┆ 2          ┆ 69419W2  ┆ … ┆ null      ┆ null      ┆ null      ┆ null      │\n",
       "│ 69419    ┆ Water     ┆ 1          ┆ 69419W1  ┆ … ┆ null      ┆ null      ┆ null      ┆ null      │\n",
       "│ 69419    ┆ Water     ┆ 3          ┆ 69419W3  ┆ … ┆ null      ┆ null      ┆ null      ┆ null      │\n",
       "│ 69419    ┆ Oil       ┆ 4          ┆ 6941904  ┆ … ┆ null      ┆ null      ┆ null      ┆ null      │\n",
       "│ 69419    ┆ Oil       ┆ 1          ┆ 6941901  ┆ … ┆ null      ┆ null      ┆ null      ┆ null      │\n",
       "└──────────┴───────────┴────────────┴──────────┴───┴───────────┴───────────┴───────────┴───────────┘"
      ]
     },
     "execution_count": 160,
     "metadata": {},
     "output_type": "execute_result"
    }
   ],
   "source": [
    "joined_lf = numbered_tanks.join(null_tanks, on=[\"primo_id\", \"tank_type\", \"tank_number\"], how=\"left\")\n",
    "joined_lf.collect()"
   ]
  },
  {
   "cell_type": "code",
   "execution_count": 161,
   "metadata": {},
   "outputs": [
    {
     "data": {
      "text/html": [
       "<div><style>\n",
       ".dataframe > thead > tr,\n",
       ".dataframe > tbody > tr {\n",
       "  text-align: right;\n",
       "  white-space: pre-wrap;\n",
       "}\n",
       "</style>\n",
       "<small>shape: (7, 28)</small><table border=\"1\" class=\"dataframe\"><thead><tr><th>primo_id</th><th>tank_type</th><th>tank_number</th><th>scada_id</th><th>Level</th><th>Volume</th><th>InchesUntilAlarm</th><th>InchesToESD</th><th>TimeUntilESD</th><th>Capacity</th><th>ID</th><th>scada_id_right</th><th>Level_right</th><th>Volume_right</th><th>InchesUntilAlarm_right</th><th>InchesToESD_right</th><th>TimeUntilESD_right</th><th>Capacity_right</th><th>primo_id_right</th><th>metric_nice_name</th><th>uom</th><th>timestamp</th><th>value</th><th>tanksize</th><th>is_ESD</th><th>tank_type_right</th><th>tank_number_right</th><th>tank_metric</th></tr><tr><td>str</td><td>str</td><td>u8</td><td>str</td><td>f64</td><td>f64</td><td>f64</td><td>f64</td><td>f64</td><td>f64</td><td>f64</td><td>str</td><td>f64</td><td>f64</td><td>f64</td><td>f64</td><td>f64</td><td>f64</td><td>str</td><td>str</td><td>str</td><td>datetime[μs]</td><td>f64</td><td>f64</td><td>str</td><td>str</td><td>u8</td><td>str</td></tr></thead><tbody><tr><td>&quot;69419&quot;</td><td>&quot;Oil&quot;</td><td>4</td><td>&quot;6941904&quot;</td><td>139.593031</td><td>387.758421</td><td>null</td><td>null</td><td>null</td><td>null</td><td>null</td><td>null</td><td>null</td><td>null</td><td>null</td><td>null</td><td>null</td><td>null</td><td>&quot;69419&quot;</td><td>&quot;OilTank4Level&quot;</td><td>&quot;in&quot;</td><td>2024-03-06 04:15:49.277547</td><td>139.593031</td><td>463.741131</td><td>null</td><td>&quot;Oil&quot;</td><td>4</td><td>&quot;Level&quot;</td></tr><tr><td>&quot;69419&quot;</td><td>&quot;Oil&quot;</td><td>2</td><td>&quot;6941902&quot;</td><td>88.524576</td><td>245.9016</td><td>null</td><td>25.078137</td><td>null</td><td>null</td><td>null</td><td>null</td><td>null</td><td>null</td><td>null</td><td>null</td><td>null</td><td>null</td><td>&quot;69419&quot;</td><td>&quot;OilTank2Level&quot;</td><td>&quot;in&quot;</td><td>2024-03-06 04:10:57.773391</td><td>88.524576</td><td>732.273245</td><td>null</td><td>&quot;Oil&quot;</td><td>2</td><td>&quot;Level&quot;</td></tr><tr><td>&quot;69419&quot;</td><td>&quot;Water&quot;</td><td>1</td><td>&quot;69419W1&quot;</td><td>49.260341</td><td>136.83428</td><td>null</td><td>null</td><td>null</td><td>null</td><td>null</td><td>null</td><td>null</td><td>null</td><td>null</td><td>null</td><td>null</td><td>null</td><td>&quot;69419&quot;</td><td>&quot;WaterTank1Level&quot;</td><td>&quot;in&quot;</td><td>2024-03-06 04:12:21.545042</td><td>49.260341</td><td>478.511501</td><td>null</td><td>&quot;Water&quot;</td><td>1</td><td>&quot;Level&quot;</td></tr><tr><td>&quot;69419&quot;</td><td>&quot;Water&quot;</td><td>3</td><td>&quot;69419W3&quot;</td><td>136.960391</td><td>380.445532</td><td>null</td><td>null</td><td>null</td><td>null</td><td>null</td><td>null</td><td>null</td><td>null</td><td>null</td><td>null</td><td>null</td><td>null</td><td>&quot;69419&quot;</td><td>&quot;WaterTank3Level&quot;</td><td>&quot;in&quot;</td><td>2024-03-06 04:15:26.315094</td><td>136.960391</td><td>534.368456</td><td>null</td><td>&quot;Water&quot;</td><td>3</td><td>&quot;Level&quot;</td></tr><tr><td>&quot;69419&quot;</td><td>&quot;Oil&quot;</td><td>1</td><td>&quot;6941901&quot;</td><td>62.159021</td><td>172.663947</td><td>null</td><td>null</td><td>null</td><td>null</td><td>null</td><td>null</td><td>null</td><td>null</td><td>null</td><td>null</td><td>null</td><td>null</td><td>&quot;69419&quot;</td><td>&quot;OilTank1Level&quot;</td><td>&quot;in&quot;</td><td>2024-03-06 04:11:36.465651</td><td>62.159021</td><td>757.185625</td><td>null</td><td>&quot;Oil&quot;</td><td>1</td><td>&quot;Level&quot;</td></tr><tr><td>&quot;69419&quot;</td><td>&quot;Water&quot;</td><td>2</td><td>&quot;69419W2&quot;</td><td>51.414077</td><td>142.816882</td><td>null</td><td>284.342497</td><td>null</td><td>null</td><td>null</td><td>null</td><td>null</td><td>null</td><td>null</td><td>null</td><td>null</td><td>null</td><td>&quot;69419&quot;</td><td>&quot;WaterTank2Level&quot;</td><td>&quot;in&quot;</td><td>2024-03-06 04:15:18.255919</td><td>51.414077</td><td>870.104407</td><td>null</td><td>&quot;Water&quot;</td><td>2</td><td>&quot;Level&quot;</td></tr><tr><td>&quot;69419&quot;</td><td>&quot;Oil&quot;</td><td>3</td><td>&quot;6941903&quot;</td><td>44.370742</td><td>123.252061</td><td>null</td><td>null</td><td>null</td><td>null</td><td>null</td><td>null</td><td>null</td><td>null</td><td>null</td><td>null</td><td>null</td><td>null</td><td>&quot;69419&quot;</td><td>&quot;OilTank3Level&quot;</td><td>&quot;in&quot;</td><td>2024-03-06 04:14:39.496037</td><td>44.370742</td><td>821.72405</td><td>null</td><td>&quot;Oil&quot;</td><td>3</td><td>&quot;Level&quot;</td></tr></tbody></table></div>"
      ],
      "text/plain": [
       "shape: (7, 28)\n",
       "┌──────────┬───────────┬────────────┬──────────┬───┬────────┬────────────┬────────────┬────────────┐\n",
       "│ primo_id ┆ tank_type ┆ tank_numbe ┆ scada_id ┆ … ┆ is_ESD ┆ tank_type_ ┆ tank_numbe ┆ tank_metri │\n",
       "│ ---      ┆ ---       ┆ r          ┆ ---      ┆   ┆ ---    ┆ right      ┆ r_right    ┆ c          │\n",
       "│ str      ┆ str       ┆ ---        ┆ str      ┆   ┆ str    ┆ ---        ┆ ---        ┆ ---        │\n",
       "│          ┆           ┆ u8         ┆          ┆   ┆        ┆ str        ┆ u8         ┆ str        │\n",
       "╞══════════╪═══════════╪════════════╪══════════╪═══╪════════╪════════════╪════════════╪════════════╡\n",
       "│ 69419    ┆ Oil       ┆ 4          ┆ 6941904  ┆ … ┆ null   ┆ Oil        ┆ 4          ┆ Level      │\n",
       "│ 69419    ┆ Oil       ┆ 2          ┆ 6941902  ┆ … ┆ null   ┆ Oil        ┆ 2          ┆ Level      │\n",
       "│ 69419    ┆ Water     ┆ 1          ┆ 69419W1  ┆ … ┆ null   ┆ Water      ┆ 1          ┆ Level      │\n",
       "│ 69419    ┆ Water     ┆ 3          ┆ 69419W3  ┆ … ┆ null   ┆ Water      ┆ 3          ┆ Level      │\n",
       "│ 69419    ┆ Oil       ┆ 1          ┆ 6941901  ┆ … ┆ null   ┆ Oil        ┆ 1          ┆ Level      │\n",
       "│ 69419    ┆ Water     ┆ 2          ┆ 69419W2  ┆ … ┆ null   ┆ Water      ┆ 2          ┆ Level      │\n",
       "│ 69419    ┆ Oil       ┆ 3          ┆ 6941903  ┆ … ┆ null   ┆ Oil        ┆ 3          ┆ Level      │\n",
       "└──────────┴───────────┴────────────┴──────────┴───┴────────┴────────────┴────────────┴────────────┘"
      ]
     },
     "execution_count": 161,
     "metadata": {},
     "output_type": "execute_result"
    }
   ],
   "source": [
    "final_lf = joined_lf.join(lf, on=[\"scada_id\"], how=\"left\")\n",
    "final_lf = final_lf.group_by(\"primo_id\", \"tank_type\", \"tank_number\").agg(pl.all().first())\n",
    "final_lf.collect()"
   ]
  },
  {
   "cell_type": "code",
   "execution_count": 162,
   "metadata": {},
   "outputs": [
    {
     "data": {
      "text/html": [
       "<div><style>\n",
       ".dataframe > thead > tr,\n",
       ".dataframe > tbody > tr {\n",
       "  text-align: right;\n",
       "  white-space: pre-wrap;\n",
       "}\n",
       "</style>\n",
       "<small>shape: (7, 8)</small><table border=\"1\" class=\"dataframe\"><thead><tr><th>primo_id</th><th>tank_type</th><th>tank_number</th><th>Level</th><th>Volume</th><th>InchesToESD</th><th>TimeUntilESD</th><th>Capacity</th></tr><tr><td>str</td><td>str</td><td>u8</td><td>f64</td><td>f64</td><td>f64</td><td>f64</td><td>f64</td></tr></thead><tbody><tr><td>&quot;69419&quot;</td><td>&quot;Water&quot;</td><td>1</td><td>49.260341</td><td>136.83428</td><td>null</td><td>null</td><td>478.511501</td></tr><tr><td>&quot;69419&quot;</td><td>&quot;Oil&quot;</td><td>1</td><td>62.159021</td><td>172.663947</td><td>null</td><td>null</td><td>757.185625</td></tr><tr><td>&quot;69419&quot;</td><td>&quot;Oil&quot;</td><td>3</td><td>44.370742</td><td>123.252061</td><td>null</td><td>null</td><td>821.72405</td></tr><tr><td>&quot;69419&quot;</td><td>&quot;Water&quot;</td><td>3</td><td>136.960391</td><td>380.445532</td><td>null</td><td>null</td><td>534.368456</td></tr><tr><td>&quot;69419&quot;</td><td>&quot;Oil&quot;</td><td>2</td><td>88.524576</td><td>245.9016</td><td>25.078137</td><td>null</td><td>732.273245</td></tr><tr><td>&quot;69419&quot;</td><td>&quot;Water&quot;</td><td>2</td><td>51.414077</td><td>142.816882</td><td>284.342497</td><td>null</td><td>870.104407</td></tr><tr><td>&quot;69419&quot;</td><td>&quot;Oil&quot;</td><td>4</td><td>139.593031</td><td>387.758421</td><td>null</td><td>null</td><td>463.741131</td></tr></tbody></table></div>"
      ],
      "text/plain": [
       "shape: (7, 8)\n",
       "┌──────────┬───────────┬────────────┬────────────┬────────────┬────────────┬───────────┬───────────┐\n",
       "│ primo_id ┆ tank_type ┆ tank_numbe ┆ Level      ┆ Volume     ┆ InchesToES ┆ TimeUntil ┆ Capacity  │\n",
       "│ ---      ┆ ---       ┆ r          ┆ ---        ┆ ---        ┆ D          ┆ ESD       ┆ ---       │\n",
       "│ str      ┆ str       ┆ ---        ┆ f64        ┆ f64        ┆ ---        ┆ ---       ┆ f64       │\n",
       "│          ┆           ┆ u8         ┆            ┆            ┆ f64        ┆ f64       ┆           │\n",
       "╞══════════╪═══════════╪════════════╪════════════╪════════════╪════════════╪═══════════╪═══════════╡\n",
       "│ 69419    ┆ Water     ┆ 1          ┆ 49.260341  ┆ 136.83428  ┆ null       ┆ null      ┆ 478.51150 │\n",
       "│          ┆           ┆            ┆            ┆            ┆            ┆           ┆ 1         │\n",
       "│ 69419    ┆ Oil       ┆ 1          ┆ 62.159021  ┆ 172.663947 ┆ null       ┆ null      ┆ 757.18562 │\n",
       "│          ┆           ┆            ┆            ┆            ┆            ┆           ┆ 5         │\n",
       "│ 69419    ┆ Oil       ┆ 3          ┆ 44.370742  ┆ 123.252061 ┆ null       ┆ null      ┆ 821.72405 │\n",
       "│ 69419    ┆ Water     ┆ 3          ┆ 136.960391 ┆ 380.445532 ┆ null       ┆ null      ┆ 534.36845 │\n",
       "│          ┆           ┆            ┆            ┆            ┆            ┆           ┆ 6         │\n",
       "│ 69419    ┆ Oil       ┆ 2          ┆ 88.524576  ┆ 245.9016   ┆ 25.078137  ┆ null      ┆ 732.27324 │\n",
       "│          ┆           ┆            ┆            ┆            ┆            ┆           ┆ 5         │\n",
       "│ 69419    ┆ Water     ┆ 2          ┆ 51.414077  ┆ 142.816882 ┆ 284.342497 ┆ null      ┆ 870.10440 │\n",
       "│          ┆           ┆            ┆            ┆            ┆            ┆           ┆ 7         │\n",
       "│ 69419    ┆ Oil       ┆ 4          ┆ 139.593031 ┆ 387.758421 ┆ null       ┆ null      ┆ 463.74113 │\n",
       "│          ┆           ┆            ┆            ┆            ┆            ┆           ┆ 1         │\n",
       "└──────────┴───────────┴────────────┴────────────┴────────────┴────────────┴───────────┴───────────┘"
      ]
     },
     "execution_count": 162,
     "metadata": {},
     "output_type": "execute_result"
    }
   ],
   "source": [
    "final_lf = final_lf.with_columns(\n",
    "    pl.col(\"primo_id\"),\n",
    "    pl.col(\"tank_type\"),\n",
    "    pl.col(\"tank_number\"),\n",
    "    pl.coalesce(pl.col(\"Level\"), pl.col(\"Level_right\")).alias(\"Level\"),\n",
    "    pl.coalesce(pl.col(\"Volume\"), pl.col(\"Volume_right\")).alias(\"Volume\"),\n",
    "    pl.coalesce(pl.col(\"InchesToESD\"), pl.col(\"InchesUntilAlarm_right\")).alias(\"InchesToESD\"),\n",
    "    pl.coalesce(pl.col(\"TimeUntilESD\"), pl.col(\"TimeUntilESD_right\")).alias(\"TimeUntilESD\"),\n",
    "    pl.coalesce(pl.col(\"Capacity\"), pl.col(\"tanksize\")).alias(\"Capacity\")\n",
    ")\n",
    "\n",
    "required_columns = [\"primo_id\", \"tank_type\", \"tank_number\", \"Level\", \"Volume\", \"InchesToESD\", \"TimeUntilESD\", \"Capacity\"]\n",
    "final_lf = final_lf.select(required_columns)\n",
    "final_lf.collect()"
   ]
  },
  {
   "cell_type": "code",
   "execution_count": 163,
   "metadata": {},
   "outputs": [
    {
     "data": {
      "text/html": [
       "<div><style>\n",
       ".dataframe > thead > tr,\n",
       ".dataframe > tbody > tr {\n",
       "  text-align: right;\n",
       "  white-space: pre-wrap;\n",
       "}\n",
       "</style>\n",
       "<small>shape: (7, 8)</small><table border=\"1\" class=\"dataframe\"><thead><tr><th>primo_id</th><th>tank_type</th><th>tank_number</th><th>Level</th><th>Volume</th><th>InchesToESD</th><th>TimeUntilESD</th><th>Capacity</th></tr><tr><td>str</td><td>str</td><td>u8</td><td>f64</td><td>f64</td><td>f64</td><td>f64</td><td>f64</td></tr></thead><tbody><tr><td>&quot;69419&quot;</td><td>&quot;Oil&quot;</td><td>1</td><td>62.159021</td><td>172.663947</td><td>null</td><td>null</td><td>757.185625</td></tr><tr><td>&quot;69419&quot;</td><td>&quot;Oil&quot;</td><td>2</td><td>88.524576</td><td>245.9016</td><td>25.078137</td><td>null</td><td>732.273245</td></tr><tr><td>&quot;69419&quot;</td><td>&quot;Oil&quot;</td><td>3</td><td>44.370742</td><td>123.252061</td><td>null</td><td>null</td><td>821.72405</td></tr><tr><td>&quot;69419&quot;</td><td>&quot;Oil&quot;</td><td>4</td><td>139.593031</td><td>387.758421</td><td>null</td><td>null</td><td>463.741131</td></tr><tr><td>&quot;69419&quot;</td><td>&quot;Water&quot;</td><td>1</td><td>49.260341</td><td>136.83428</td><td>null</td><td>null</td><td>478.511501</td></tr><tr><td>&quot;69419&quot;</td><td>&quot;Water&quot;</td><td>2</td><td>51.414077</td><td>142.816882</td><td>284.342497</td><td>null</td><td>870.104407</td></tr><tr><td>&quot;69419&quot;</td><td>&quot;Water&quot;</td><td>3</td><td>136.960391</td><td>380.445532</td><td>null</td><td>null</td><td>534.368456</td></tr></tbody></table></div>"
      ],
      "text/plain": [
       "shape: (7, 8)\n",
       "┌──────────┬───────────┬────────────┬────────────┬────────────┬────────────┬───────────┬───────────┐\n",
       "│ primo_id ┆ tank_type ┆ tank_numbe ┆ Level      ┆ Volume     ┆ InchesToES ┆ TimeUntil ┆ Capacity  │\n",
       "│ ---      ┆ ---       ┆ r          ┆ ---        ┆ ---        ┆ D          ┆ ESD       ┆ ---       │\n",
       "│ str      ┆ str       ┆ ---        ┆ f64        ┆ f64        ┆ ---        ┆ ---       ┆ f64       │\n",
       "│          ┆           ┆ u8         ┆            ┆            ┆ f64        ┆ f64       ┆           │\n",
       "╞══════════╪═══════════╪════════════╪════════════╪════════════╪════════════╪═══════════╪═══════════╡\n",
       "│ 69419    ┆ Oil       ┆ 1          ┆ 62.159021  ┆ 172.663947 ┆ null       ┆ null      ┆ 757.18562 │\n",
       "│          ┆           ┆            ┆            ┆            ┆            ┆           ┆ 5         │\n",
       "│ 69419    ┆ Oil       ┆ 2          ┆ 88.524576  ┆ 245.9016   ┆ 25.078137  ┆ null      ┆ 732.27324 │\n",
       "│          ┆           ┆            ┆            ┆            ┆            ┆           ┆ 5         │\n",
       "│ 69419    ┆ Oil       ┆ 3          ┆ 44.370742  ┆ 123.252061 ┆ null       ┆ null      ┆ 821.72405 │\n",
       "│ 69419    ┆ Oil       ┆ 4          ┆ 139.593031 ┆ 387.758421 ┆ null       ┆ null      ┆ 463.74113 │\n",
       "│          ┆           ┆            ┆            ┆            ┆            ┆           ┆ 1         │\n",
       "│ 69419    ┆ Water     ┆ 1          ┆ 49.260341  ┆ 136.83428  ┆ null       ┆ null      ┆ 478.51150 │\n",
       "│          ┆           ┆            ┆            ┆            ┆            ┆           ┆ 1         │\n",
       "│ 69419    ┆ Water     ┆ 2          ┆ 51.414077  ┆ 142.816882 ┆ 284.342497 ┆ null      ┆ 870.10440 │\n",
       "│          ┆           ┆            ┆            ┆            ┆            ┆           ┆ 7         │\n",
       "│ 69419    ┆ Water     ┆ 3          ┆ 136.960391 ┆ 380.445532 ┆ null       ┆ null      ┆ 534.36845 │\n",
       "│          ┆           ┆            ┆            ┆            ┆            ┆           ┆ 6         │\n",
       "└──────────┴───────────┴────────────┴────────────┴────────────┴────────────┴───────────┴───────────┘"
      ]
     },
     "execution_count": 163,
     "metadata": {},
     "output_type": "execute_result"
    }
   ],
   "source": [
    "final_lf = final_lf.sort(\"primo_id\", \"tank_type\", \"tank_number\")\n",
    "final_lf.collect()"
   ]
  },
  {
   "cell_type": "code",
   "execution_count": 164,
   "metadata": {},
   "outputs": [
    {
     "data": {
      "text/html": [
       "<div><style>\n",
       ".dataframe > thead > tr,\n",
       ".dataframe > tbody > tr {\n",
       "  text-align: right;\n",
       "  white-space: pre-wrap;\n",
       "}\n",
       "</style>\n",
       "<small>shape: (7, 9)</small><table border=\"1\" class=\"dataframe\"><thead><tr><th>primo_id</th><th>tank_type</th><th>tank_number</th><th>Level</th><th>Volume</th><th>InchesToESD</th><th>TimeUntilESD</th><th>Capacity</th><th>percent_full</th></tr><tr><td>str</td><td>str</td><td>u8</td><td>f64</td><td>f64</td><td>f64</td><td>f64</td><td>f64</td><td>u8</td></tr></thead><tbody><tr><td>&quot;69419&quot;</td><td>&quot;Oil&quot;</td><td>1</td><td>62.159021</td><td>172.663947</td><td>null</td><td>null</td><td>757.185625</td><td>23</td></tr><tr><td>&quot;69419&quot;</td><td>&quot;Oil&quot;</td><td>2</td><td>88.524576</td><td>245.9016</td><td>25.078137</td><td>null</td><td>732.273245</td><td>34</td></tr><tr><td>&quot;69419&quot;</td><td>&quot;Oil&quot;</td><td>3</td><td>44.370742</td><td>123.252061</td><td>null</td><td>null</td><td>821.72405</td><td>15</td></tr><tr><td>&quot;69419&quot;</td><td>&quot;Oil&quot;</td><td>4</td><td>139.593031</td><td>387.758421</td><td>null</td><td>null</td><td>463.741131</td><td>84</td></tr><tr><td>&quot;69419&quot;</td><td>&quot;Water&quot;</td><td>1</td><td>49.260341</td><td>136.83428</td><td>null</td><td>null</td><td>478.511501</td><td>29</td></tr><tr><td>&quot;69419&quot;</td><td>&quot;Water&quot;</td><td>2</td><td>51.414077</td><td>142.816882</td><td>284.342497</td><td>null</td><td>870.104407</td><td>16</td></tr><tr><td>&quot;69419&quot;</td><td>&quot;Water&quot;</td><td>3</td><td>136.960391</td><td>380.445532</td><td>null</td><td>null</td><td>534.368456</td><td>71</td></tr></tbody></table></div>"
      ],
      "text/plain": [
       "shape: (7, 9)\n",
       "┌──────────┬───────────┬───────────┬───────────┬───┬───────────┬───────────┬───────────┬───────────┐\n",
       "│ primo_id ┆ tank_type ┆ tank_numb ┆ Level     ┆ … ┆ InchesToE ┆ TimeUntil ┆ Capacity  ┆ percent_f │\n",
       "│ ---      ┆ ---       ┆ er        ┆ ---       ┆   ┆ SD        ┆ ESD       ┆ ---       ┆ ull       │\n",
       "│ str      ┆ str       ┆ ---       ┆ f64       ┆   ┆ ---       ┆ ---       ┆ f64       ┆ ---       │\n",
       "│          ┆           ┆ u8        ┆           ┆   ┆ f64       ┆ f64       ┆           ┆ u8        │\n",
       "╞══════════╪═══════════╪═══════════╪═══════════╪═══╪═══════════╪═══════════╪═══════════╪═══════════╡\n",
       "│ 69419    ┆ Oil       ┆ 1         ┆ 62.159021 ┆ … ┆ null      ┆ null      ┆ 757.18562 ┆ 23        │\n",
       "│          ┆           ┆           ┆           ┆   ┆           ┆           ┆ 5         ┆           │\n",
       "│ 69419    ┆ Oil       ┆ 2         ┆ 88.524576 ┆ … ┆ 25.078137 ┆ null      ┆ 732.27324 ┆ 34        │\n",
       "│          ┆           ┆           ┆           ┆   ┆           ┆           ┆ 5         ┆           │\n",
       "│ 69419    ┆ Oil       ┆ 3         ┆ 44.370742 ┆ … ┆ null      ┆ null      ┆ 821.72405 ┆ 15        │\n",
       "│ 69419    ┆ Oil       ┆ 4         ┆ 139.59303 ┆ … ┆ null      ┆ null      ┆ 463.74113 ┆ 84        │\n",
       "│          ┆           ┆           ┆ 1         ┆   ┆           ┆           ┆ 1         ┆           │\n",
       "│ 69419    ┆ Water     ┆ 1         ┆ 49.260341 ┆ … ┆ null      ┆ null      ┆ 478.51150 ┆ 29        │\n",
       "│          ┆           ┆           ┆           ┆   ┆           ┆           ┆ 1         ┆           │\n",
       "│ 69419    ┆ Water     ┆ 2         ┆ 51.414077 ┆ … ┆ 284.34249 ┆ null      ┆ 870.10440 ┆ 16        │\n",
       "│          ┆           ┆           ┆           ┆   ┆ 7         ┆           ┆ 7         ┆           │\n",
       "│ 69419    ┆ Water     ┆ 3         ┆ 136.96039 ┆ … ┆ null      ┆ null      ┆ 534.36845 ┆ 71        │\n",
       "│          ┆           ┆           ┆ 1         ┆   ┆           ┆           ┆ 6         ┆           │\n",
       "└──────────┴───────────┴───────────┴───────────┴───┴───────────┴───────────┴───────────┴───────────┘"
      ]
     },
     "execution_count": 164,
     "metadata": {},
     "output_type": "execute_result"
    }
   ],
   "source": [
    "percent_tank_full = (pl.col(\"Volume\") / pl.col(\"Capacity\") * 100).round().cast(pl.UInt8)\n",
    "final_lf = final_lf.with_columns(percent_tank_full.alias(\"percent_full\"))\n",
    "\n",
    "final_lf.collect()"
   ]
  },
  {
   "cell_type": "code",
   "execution_count": 165,
   "metadata": {},
   "outputs": [
    {
     "data": {
      "text/html": [
       "<div><style>\n",
       ".dataframe > thead > tr,\n",
       ".dataframe > tbody > tr {\n",
       "  text-align: right;\n",
       "  white-space: pre-wrap;\n",
       "}\n",
       "</style>\n",
       "<small>shape: (7, 10)</small><table border=\"1\" class=\"dataframe\"><thead><tr><th>primo_id</th><th>tank_type</th><th>tank_number</th><th>Level</th><th>Volume</th><th>InchesToESD</th><th>TimeUntilESD</th><th>Capacity</th><th>percent_full</th><th>tank_level_str</th></tr><tr><td>str</td><td>str</td><td>u8</td><td>f64</td><td>f64</td><td>f64</td><td>f64</td><td>f64</td><td>u8</td><td>str</td></tr></thead><tbody><tr><td>&quot;69419&quot;</td><td>&quot;Oil&quot;</td><td>1</td><td>62.159021</td><td>172.663947</td><td>null</td><td>null</td><td>757.185625</td><td>23</td><td>&quot;5&#x27;2&quot;&quot;</td></tr><tr><td>&quot;69419&quot;</td><td>&quot;Oil&quot;</td><td>2</td><td>88.524576</td><td>245.9016</td><td>25.078137</td><td>null</td><td>732.273245</td><td>34</td><td>&quot;7&#x27;4&quot;&quot;</td></tr><tr><td>&quot;69419&quot;</td><td>&quot;Oil&quot;</td><td>3</td><td>44.370742</td><td>123.252061</td><td>null</td><td>null</td><td>821.72405</td><td>15</td><td>&quot;3&#x27;7&quot;&quot;</td></tr><tr><td>&quot;69419&quot;</td><td>&quot;Oil&quot;</td><td>4</td><td>139.593031</td><td>387.758421</td><td>null</td><td>null</td><td>463.741131</td><td>84</td><td>&quot;11&#x27;6&quot;&quot;</td></tr><tr><td>&quot;69419&quot;</td><td>&quot;Water&quot;</td><td>1</td><td>49.260341</td><td>136.83428</td><td>null</td><td>null</td><td>478.511501</td><td>29</td><td>&quot;4&#x27;1&quot;&quot;</td></tr><tr><td>&quot;69419&quot;</td><td>&quot;Water&quot;</td><td>2</td><td>51.414077</td><td>142.816882</td><td>284.342497</td><td>null</td><td>870.104407</td><td>16</td><td>&quot;4&#x27;3&quot;&quot;</td></tr><tr><td>&quot;69419&quot;</td><td>&quot;Water&quot;</td><td>3</td><td>136.960391</td><td>380.445532</td><td>null</td><td>null</td><td>534.368456</td><td>71</td><td>&quot;11&#x27;4&quot;&quot;</td></tr></tbody></table></div>"
      ],
      "text/plain": [
       "shape: (7, 10)\n",
       "┌──────────┬───────────┬───────────┬───────────┬───┬───────────┬───────────┬───────────┬───────────┐\n",
       "│ primo_id ┆ tank_type ┆ tank_numb ┆ Level     ┆ … ┆ TimeUntil ┆ Capacity  ┆ percent_f ┆ tank_leve │\n",
       "│ ---      ┆ ---       ┆ er        ┆ ---       ┆   ┆ ESD       ┆ ---       ┆ ull       ┆ l_str     │\n",
       "│ str      ┆ str       ┆ ---       ┆ f64       ┆   ┆ ---       ┆ f64       ┆ ---       ┆ ---       │\n",
       "│          ┆           ┆ u8        ┆           ┆   ┆ f64       ┆           ┆ u8        ┆ str       │\n",
       "╞══════════╪═══════════╪═══════════╪═══════════╪═══╪═══════════╪═══════════╪═══════════╪═══════════╡\n",
       "│ 69419    ┆ Oil       ┆ 1         ┆ 62.159021 ┆ … ┆ null      ┆ 757.18562 ┆ 23        ┆ 5'2\"      │\n",
       "│          ┆           ┆           ┆           ┆   ┆           ┆ 5         ┆           ┆           │\n",
       "│ 69419    ┆ Oil       ┆ 2         ┆ 88.524576 ┆ … ┆ null      ┆ 732.27324 ┆ 34        ┆ 7'4\"      │\n",
       "│          ┆           ┆           ┆           ┆   ┆           ┆ 5         ┆           ┆           │\n",
       "│ 69419    ┆ Oil       ┆ 3         ┆ 44.370742 ┆ … ┆ null      ┆ 821.72405 ┆ 15        ┆ 3'7\"      │\n",
       "│ 69419    ┆ Oil       ┆ 4         ┆ 139.59303 ┆ … ┆ null      ┆ 463.74113 ┆ 84        ┆ 11'6\"     │\n",
       "│          ┆           ┆           ┆ 1         ┆   ┆           ┆ 1         ┆           ┆           │\n",
       "│ 69419    ┆ Water     ┆ 1         ┆ 49.260341 ┆ … ┆ null      ┆ 478.51150 ┆ 29        ┆ 4'1\"      │\n",
       "│          ┆           ┆           ┆           ┆   ┆           ┆ 1         ┆           ┆           │\n",
       "│ 69419    ┆ Water     ┆ 2         ┆ 51.414077 ┆ … ┆ null      ┆ 870.10440 ┆ 16        ┆ 4'3\"      │\n",
       "│          ┆           ┆           ┆           ┆   ┆           ┆ 7         ┆           ┆           │\n",
       "│ 69419    ┆ Water     ┆ 3         ┆ 136.96039 ┆ … ┆ null      ┆ 534.36845 ┆ 71        ┆ 11'4\"     │\n",
       "│          ┆           ┆           ┆ 1         ┆   ┆           ┆ 6         ┆           ┆           │\n",
       "└──────────┴───────────┴───────────┴───────────┴───┴───────────┴───────────┴───────────┴───────────┘"
      ]
     },
     "execution_count": 165,
     "metadata": {},
     "output_type": "execute_result"
    }
   ],
   "source": [
    "inches_to_feet = (pl.col(\"Level\") / 12).round(1)\n",
    "tank_level_to_str = inches_to_feet.cast(pl.Utf8)\n",
    "\n",
    "split_col = tank_level_to_str.str.split('.')\n",
    "\n",
    "tank_level_split_feet = split_col.list.get(0)\n",
    "tank_level_split_inches = split_col.list.get(1)\n",
    "\n",
    "tank_level_uom = pl.concat_str([tank_level_split_feet, pl.lit(\"'\"), tank_level_split_inches, pl.lit('\"')])\n",
    "\n",
    "final_lf = final_lf.with_columns(tank_level_uom.alias(\"tank_level_str\"))\n",
    "\n",
    "final_lf.collect()"
   ]
  },
  {
   "cell_type": "code",
   "execution_count": 166,
   "metadata": {},
   "outputs": [
    {
     "data": {
      "text/html": [
       "<div><style>\n",
       ".dataframe > thead > tr,\n",
       ".dataframe > tbody > tr {\n",
       "  text-align: right;\n",
       "  white-space: pre-wrap;\n",
       "}\n",
       "</style>\n",
       "<small>shape: (7, 11)</small><table border=\"1\" class=\"dataframe\"><thead><tr><th>primo_id</th><th>tank_type</th><th>tank_number</th><th>Level</th><th>Volume</th><th>InchesToESD</th><th>TimeUntilESD</th><th>Capacity</th><th>percent_full</th><th>tank_level_str</th><th>to_ESD</th></tr><tr><td>str</td><td>str</td><td>u8</td><td>f64</td><td>f64</td><td>f64</td><td>f64</td><td>f64</td><td>u8</td><td>str</td><td>str</td></tr></thead><tbody><tr><td>&quot;69419&quot;</td><td>&quot;Oil&quot;</td><td>1</td><td>62.159021</td><td>172.663947</td><td>null</td><td>null</td><td>757.185625</td><td>23</td><td>&quot;5&#x27;2&quot;&quot;</td><td>null</td></tr><tr><td>&quot;69419&quot;</td><td>&quot;Oil&quot;</td><td>2</td><td>88.524576</td><td>245.9016</td><td>25.078137</td><td>null</td><td>732.273245</td><td>34</td><td>&quot;7&#x27;4&quot;&quot;</td><td>&quot;2&#x27;1&quot;&quot;</td></tr><tr><td>&quot;69419&quot;</td><td>&quot;Oil&quot;</td><td>3</td><td>44.370742</td><td>123.252061</td><td>null</td><td>null</td><td>821.72405</td><td>15</td><td>&quot;3&#x27;7&quot;&quot;</td><td>null</td></tr><tr><td>&quot;69419&quot;</td><td>&quot;Oil&quot;</td><td>4</td><td>139.593031</td><td>387.758421</td><td>null</td><td>null</td><td>463.741131</td><td>84</td><td>&quot;11&#x27;6&quot;&quot;</td><td>null</td></tr><tr><td>&quot;69419&quot;</td><td>&quot;Water&quot;</td><td>1</td><td>49.260341</td><td>136.83428</td><td>null</td><td>null</td><td>478.511501</td><td>29</td><td>&quot;4&#x27;1&quot;&quot;</td><td>null</td></tr><tr><td>&quot;69419&quot;</td><td>&quot;Water&quot;</td><td>2</td><td>51.414077</td><td>142.816882</td><td>284.342497</td><td>null</td><td>870.104407</td><td>16</td><td>&quot;4&#x27;3&quot;&quot;</td><td>&quot;23&#x27;7&quot;&quot;</td></tr><tr><td>&quot;69419&quot;</td><td>&quot;Water&quot;</td><td>3</td><td>136.960391</td><td>380.445532</td><td>null</td><td>null</td><td>534.368456</td><td>71</td><td>&quot;11&#x27;4&quot;&quot;</td><td>null</td></tr></tbody></table></div>"
      ],
      "text/plain": [
       "shape: (7, 11)\n",
       "┌──────────┬───────────┬────────────┬────────────┬───┬────────────┬───────────┬───────────┬────────┐\n",
       "│ primo_id ┆ tank_type ┆ tank_numbe ┆ Level      ┆ … ┆ Capacity   ┆ percent_f ┆ tank_leve ┆ to_ESD │\n",
       "│ ---      ┆ ---       ┆ r          ┆ ---        ┆   ┆ ---        ┆ ull       ┆ l_str     ┆ ---    │\n",
       "│ str      ┆ str       ┆ ---        ┆ f64        ┆   ┆ f64        ┆ ---       ┆ ---       ┆ str    │\n",
       "│          ┆           ┆ u8         ┆            ┆   ┆            ┆ u8        ┆ str       ┆        │\n",
       "╞══════════╪═══════════╪════════════╪════════════╪═══╪════════════╪═══════════╪═══════════╪════════╡\n",
       "│ 69419    ┆ Oil       ┆ 1          ┆ 62.159021  ┆ … ┆ 757.185625 ┆ 23        ┆ 5'2\"      ┆ null   │\n",
       "│ 69419    ┆ Oil       ┆ 2          ┆ 88.524576  ┆ … ┆ 732.273245 ┆ 34        ┆ 7'4\"      ┆ 2'1\"   │\n",
       "│ 69419    ┆ Oil       ┆ 3          ┆ 44.370742  ┆ … ┆ 821.72405  ┆ 15        ┆ 3'7\"      ┆ null   │\n",
       "│ 69419    ┆ Oil       ┆ 4          ┆ 139.593031 ┆ … ┆ 463.741131 ┆ 84        ┆ 11'6\"     ┆ null   │\n",
       "│ 69419    ┆ Water     ┆ 1          ┆ 49.260341  ┆ … ┆ 478.511501 ┆ 29        ┆ 4'1\"      ┆ null   │\n",
       "│ 69419    ┆ Water     ┆ 2          ┆ 51.414077  ┆ … ┆ 870.104407 ┆ 16        ┆ 4'3\"      ┆ 23'7\"  │\n",
       "│ 69419    ┆ Water     ┆ 3          ┆ 136.960391 ┆ … ┆ 534.368456 ┆ 71        ┆ 11'4\"     ┆ null   │\n",
       "└──────────┴───────────┴────────────┴────────────┴───┴────────────┴───────────┴───────────┴────────┘"
      ]
     },
     "execution_count": 166,
     "metadata": {},
     "output_type": "execute_result"
    }
   ],
   "source": [
    "inches_to_feet_esd = (pl.col(\"InchesToESD\") / 12).round(1)\n",
    "\n",
    "inchesESD_to_feet = inches_to_feet_esd.cast(pl.Utf8)\n",
    "\n",
    "split_esd = inchesESD_to_feet.str.split('.')\n",
    "\n",
    "esd_split_feet = split_esd.list.get(0)\n",
    "esd_split_inches = split_esd.list.get(1)\n",
    "\n",
    "esd_final = pl.concat_str([esd_split_feet, pl.lit(\"'\"), esd_split_inches, pl.lit('\"')])\n",
    "\n",
    "final_lf = final_lf.with_columns(esd_final.alias(\"to_ESD\"))\n",
    "\n",
    "final_lf.collect()"
   ]
  }
 ],
 "metadata": {
  "kernelspec": {
   "display_name": "tank-project-9-HCZibD-py3.12",
   "language": "python",
   "name": "python3"
  },
  "language_info": {
   "codemirror_mode": {
    "name": "ipython",
    "version": 3
   },
   "file_extension": ".py",
   "mimetype": "text/x-python",
   "name": "python",
   "nbconvert_exporter": "python",
   "pygments_lexer": "ipython3",
   "version": "3.12.2"
  }
 },
 "nbformat": 4,
 "nbformat_minor": 2
}
