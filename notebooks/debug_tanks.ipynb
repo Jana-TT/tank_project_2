{
 "cells": [
  {
   "cell_type": "code",
   "execution_count": 1,
   "metadata": {},
   "outputs": [
    {
     "data": {
      "text/html": [
       "<div><style>\n",
       ".dataframe > thead > tr,\n",
       ".dataframe > tbody > tr {\n",
       "  text-align: right;\n",
       "  white-space: pre-wrap;\n",
       "}\n",
       "</style>\n",
       "<small>shape: (20, 8)</small><table border=\"1\" class=\"dataframe\"><thead><tr><th>unique_id</th><th>property_id</th><th>source_key</th><th>tank_name</th><th>uom</th><th>timestamp</th><th>value</th><th>tanksize</th></tr><tr><td>object</td><td>str</td><td>str</td><td>str</td><td>str</td><td>datetime[μs]</td><td>f64</td><td>f64</td></tr></thead><tbody><tr><td>0d96d173-3c6a-469f-901b-5cea8aa4210e</td><td>&quot;98840&quot;</td><td>&quot;9884005&quot;</td><td>&quot;OilTank5Level&quot;</td><td>&quot;in&quot;</td><td>2015-05-01 05:05:54.083239</td><td>74.240695</td><td>790.375905</td></tr><tr><td>106e51eb-4faa-4d5c-b43e-210c92016f98</td><td>&quot;98840&quot;</td><td>&quot;98840W2&quot;</td><td>&quot;WaterTank2Volume&quot;</td><td>&quot;bbl&quot;</td><td>2023-08-16 19:52:13.787936</td><td>357.148125</td><td>653.135767</td></tr><tr><td>1158ad41-4c78-4d2f-83ec-2ff717c2d445</td><td>&quot;98840&quot;</td><td>&quot;9884003&quot;</td><td>&quot;OilTank3Volume&quot;</td><td>&quot;bbl&quot;</td><td>2024-02-11 04:10:55.839466</td><td>284.213132</td><td>624.069952</td></tr><tr><td>2748bdd4-4b4b-4add-aa16-251efbb55639</td><td>&quot;98840&quot;</td><td>&quot;98840FAC&quot;</td><td>&quot;ESD-OilTankID&quot;</td><td>&quot;&quot;</td><td>2024-07-05 18:19:24.387492</td><td>4.0</td><td>null</td></tr><tr><td>29576772-cde6-4767-a478-c7337a1c8c39</td><td>&quot;98840&quot;</td><td>&quot;9884004&quot;</td><td>&quot;OilTank4Level&quot;</td><td>&quot;in&quot;</td><td>2021-06-18 15:33:10.557032</td><td>75.002393</td><td>417.5281</td></tr><tr><td>&hellip;</td><td>&hellip;</td><td>&hellip;</td><td>&hellip;</td><td>&hellip;</td><td>&hellip;</td><td>&hellip;</td><td>&hellip;</td></tr><tr><td>b5a48faa-1f40-4887-a0e9-7a84a3a83366</td><td>&quot;98840&quot;</td><td>&quot;98840W2&quot;</td><td>&quot;WaterTank2Level&quot;</td><td>&quot;in&quot;</td><td>2019-04-05 01:41:07.809116</td><td>76.456344</td><td>653.135767</td></tr><tr><td>c4abef08-5ca3-43b2-a9a4-fdf5aa6210df</td><td>&quot;98840&quot;</td><td>&quot;98840FAC&quot;</td><td>&quot;ESD-WaterTankInchesUntilAlarm&quot;</td><td>&quot;in&quot;</td><td>2024-08-16 04:45:27.763083</td><td>257.847738</td><td>null</td></tr><tr><td>db762e5e-9c0c-4f77-864b-df5e66865f2e</td><td>&quot;98840&quot;</td><td>&quot;9884005&quot;</td><td>&quot;OilTank5Volume&quot;</td><td>&quot;bbl&quot;</td><td>2023-03-17 20:34:17.444289</td><td>300.447955</td><td>790.375905</td></tr><tr><td>f3c718bf-58e8-488e-9445-99fae307d251</td><td>&quot;98840&quot;</td><td>&quot;98840FAC&quot;</td><td>&quot;ESD-OilTankInchesUntilAlarm&quot;</td><td>&quot;in&quot;</td><td>2024-08-22 10:59:43.894659</td><td>102.478181</td><td>null</td></tr><tr><td>fa6552b3-1dce-4452-a35b-b5fb35868a02</td><td>&quot;98840&quot;</td><td>&quot;9884002&quot;</td><td>&quot;OilTank2Volume&quot;</td><td>&quot;bbl&quot;</td><td>2021-03-20 22:08:34.417192</td><td>293.977423</td><td>735.848157</td></tr></tbody></table></div>"
      ],
      "text/plain": [
       "shape: (20, 8)\n",
       "┌─────────────┬─────────────┬────────────┬────────────┬─────┬────────────┬────────────┬────────────┐\n",
       "│ unique_id   ┆ property_id ┆ source_key ┆ tank_name  ┆ uom ┆ timestamp  ┆ value      ┆ tanksize   │\n",
       "│ ---         ┆ ---         ┆ ---        ┆ ---        ┆ --- ┆ ---        ┆ ---        ┆ ---        │\n",
       "│ object      ┆ str         ┆ str        ┆ str        ┆ str ┆ datetime[μ ┆ f64        ┆ f64        │\n",
       "│             ┆             ┆            ┆            ┆     ┆ s]         ┆            ┆            │\n",
       "╞═════════════╪═════════════╪════════════╪════════════╪═════╪════════════╪════════════╪════════════╡\n",
       "│ 0d96d173-3c ┆ 98840       ┆ 9884005    ┆ OilTank5Le ┆ in  ┆ 2015-05-01 ┆ 74.240695  ┆ 790.375905 │\n",
       "│ 6a-469f-901 ┆             ┆            ┆ vel        ┆     ┆ 05:05:54.0 ┆            ┆            │\n",
       "│ b-5cea8a…   ┆             ┆            ┆            ┆     ┆ 83239      ┆            ┆            │\n",
       "│ 106e51eb-4f ┆ 98840       ┆ 98840W2    ┆ WaterTank2 ┆ bbl ┆ 2023-08-16 ┆ 357.148125 ┆ 653.135767 │\n",
       "│ aa-4d5c-b43 ┆             ┆            ┆ Volume     ┆     ┆ 19:52:13.7 ┆            ┆            │\n",
       "│ e-210c92…   ┆             ┆            ┆            ┆     ┆ 87936      ┆            ┆            │\n",
       "│ 1158ad41-4c ┆ 98840       ┆ 9884003    ┆ OilTank3Vo ┆ bbl ┆ 2024-02-11 ┆ 284.213132 ┆ 624.069952 │\n",
       "│ 78-4d2f-83e ┆             ┆            ┆ lume       ┆     ┆ 04:10:55.8 ┆            ┆            │\n",
       "│ c-2ff717…   ┆             ┆            ┆            ┆     ┆ 39466      ┆            ┆            │\n",
       "│ 2748bdd4-4b ┆ 98840       ┆ 98840FAC   ┆ ESD-OilTan ┆     ┆ 2024-07-05 ┆ 4.0        ┆ null       │\n",
       "│ 4b-4add-aa1 ┆             ┆            ┆ kID        ┆     ┆ 18:19:24.3 ┆            ┆            │\n",
       "│ 6-251efb…   ┆             ┆            ┆            ┆     ┆ 87492      ┆            ┆            │\n",
       "│ 29576772-cd ┆ 98840       ┆ 9884004    ┆ OilTank4Le ┆ in  ┆ 2021-06-18 ┆ 75.002393  ┆ 417.5281   │\n",
       "│ e6-4767-a47 ┆             ┆            ┆ vel        ┆     ┆ 15:33:10.5 ┆            ┆            │\n",
       "│ 8-c7337a…   ┆             ┆            ┆            ┆     ┆ 57032      ┆            ┆            │\n",
       "│ …           ┆ …           ┆ …          ┆ …          ┆ …   ┆ …          ┆ …          ┆ …          │\n",
       "│ b5a48faa-1f ┆ 98840       ┆ 98840W2    ┆ WaterTank2 ┆ in  ┆ 2019-04-05 ┆ 76.456344  ┆ 653.135767 │\n",
       "│ 40-4887-a0e ┆             ┆            ┆ Level      ┆     ┆ 01:41:07.8 ┆            ┆            │\n",
       "│ 9-7a84a3…   ┆             ┆            ┆            ┆     ┆ 09116      ┆            ┆            │\n",
       "│ c4abef08-5c ┆ 98840       ┆ 98840FAC   ┆ ESD-WaterT ┆ in  ┆ 2024-08-16 ┆ 257.847738 ┆ null       │\n",
       "│ a3-43b2-a9a ┆             ┆            ┆ ankInchesU ┆     ┆ 04:45:27.7 ┆            ┆            │\n",
       "│ 4-fdf5aa…   ┆             ┆            ┆ ntilAlarm  ┆     ┆ 63083      ┆            ┆            │\n",
       "│ db762e5e-9c ┆ 98840       ┆ 9884005    ┆ OilTank5Vo ┆ bbl ┆ 2023-03-17 ┆ 300.447955 ┆ 790.375905 │\n",
       "│ 0c-4f77-864 ┆             ┆            ┆ lume       ┆     ┆ 20:34:17.4 ┆            ┆            │\n",
       "│ b-df5e66…   ┆             ┆            ┆            ┆     ┆ 44289      ┆            ┆            │\n",
       "│ f3c718bf-58 ┆ 98840       ┆ 98840FAC   ┆ ESD-OilTan ┆ in  ┆ 2024-08-22 ┆ 102.478181 ┆ null       │\n",
       "│ e8-488e-944 ┆             ┆            ┆ kInchesUnt ┆     ┆ 10:59:43.8 ┆            ┆            │\n",
       "│ 5-99fae3…   ┆             ┆            ┆ ilAlarm    ┆     ┆ 94659      ┆            ┆            │\n",
       "│ fa6552b3-1d ┆ 98840       ┆ 9884002    ┆ OilTank2Vo ┆ bbl ┆ 2021-03-20 ┆ 293.977423 ┆ 735.848157 │\n",
       "│ ce-4452-a35 ┆             ┆            ┆ lume       ┆     ┆ 22:08:34.4 ┆            ┆            │\n",
       "│ b-b5fb35…   ┆             ┆            ┆            ┆     ┆ 17192      ┆            ┆            │\n",
       "└─────────────┴─────────────┴────────────┴────────────┴─────┴────────────┴────────────┴────────────┘"
      ]
     },
     "execution_count": 1,
     "metadata": {},
     "output_type": "execute_result"
    }
   ],
   "source": [
    "import polars as pl\n",
    "from src.main import GetTanksReq, fetch_tank_data\n",
    "\n",
    "req = GetTanksReq(property_ids={\"98840\"})\n",
    "\n",
    "df = await fetch_tank_data(req)\n",
    "if df is None:\n",
    "    raise ValueError(\"df is None\")\n",
    "lf = df.lazy()\n",
    "lf.collect()"
   ]
  },
  {
   "cell_type": "code",
   "execution_count": 2,
   "metadata": {},
   "outputs": [
    {
     "data": {
      "text/html": [
       "<div><style>\n",
       ".dataframe > thead > tr,\n",
       ".dataframe > tbody > tr {\n",
       "  text-align: right;\n",
       "  white-space: pre-wrap;\n",
       "}\n",
       "</style>\n",
       "<small>shape: (8, 11)</small><table border=\"1\" class=\"dataframe\"><thead><tr><th>unique_id</th><th>property_id</th><th>source_key</th><th>tank_type</th><th>tank_number</th><th>level</th><th>volume</th><th>inches_to_esd</th><th>time_until_esd</th><th>capacity</th><th>percent_full</th></tr><tr><td>object</td><td>str</td><td>str</td><td>str</td><td>u8</td><td>f64</td><td>u64</td><td>f64</td><td>f64</td><td>f64</td><td>u8</td></tr></thead><tbody><tr><td>8748b483-ee0b-460d-bc01-d1e37319d283</td><td>&quot;98840&quot;</td><td>&quot;9884001&quot;</td><td>&quot;Oil&quot;</td><td>1</td><td>79.02198</td><td>299</td><td>null</td><td>null</td><td>554.0</td><td>54</td></tr><tr><td>686fc368-3d98-4608-aef0-5af0eb416e8c</td><td>&quot;98840&quot;</td><td>&quot;9884002&quot;</td><td>&quot;Oil&quot;</td><td>2</td><td>77.590071</td><td>294</td><td>null</td><td>null</td><td>736.0</td><td>40</td></tr><tr><td>1158ad41-4c78-4d2f-83ec-2ff717c2d445</td><td>&quot;98840&quot;</td><td>&quot;9884003&quot;</td><td>&quot;Oil&quot;</td><td>3</td><td>77.392763</td><td>284</td><td>null</td><td>null</td><td>624.0</td><td>46</td></tr><tr><td>29576772-cde6-4767-a478-c7337a1c8c39</td><td>&quot;98840&quot;</td><td>&quot;9884004&quot;</td><td>&quot;Oil&quot;</td><td>4</td><td>75.002393</td><td>268</td><td>102.478181</td><td>null</td><td>418.0</td><td>64</td></tr><tr><td>0d96d173-3c6a-469f-901b-5cea8aa4210e</td><td>&quot;98840&quot;</td><td>&quot;9884005&quot;</td><td>&quot;Oil&quot;</td><td>5</td><td>74.240695</td><td>300</td><td>null</td><td>null</td><td>790.0</td><td>38</td></tr><tr><td>63176073-1766-4d40-8a15-72822e6c7220</td><td>&quot;98840&quot;</td><td>&quot;9884006&quot;</td><td>&quot;Oil&quot;</td><td>6</td><td>82.279163</td><td>310</td><td>null</td><td>null</td><td>400.0</td><td>77</td></tr><tr><td>2cd89218-f881-41d7-a97a-7d06deacb5f5</td><td>&quot;98840&quot;</td><td>&quot;98840W1&quot;</td><td>&quot;Water&quot;</td><td>1</td><td>79.941493</td><td>268</td><td>null</td><td>null</td><td>697.0</td><td>38</td></tr><tr><td>106e51eb-4faa-4d5c-b43e-210c92016f98</td><td>&quot;98840&quot;</td><td>&quot;98840W2&quot;</td><td>&quot;Water&quot;</td><td>2</td><td>76.456344</td><td>357</td><td>257.847738</td><td>null</td><td>653.0</td><td>55</td></tr></tbody></table></div>"
      ],
      "text/plain": [
       "shape: (8, 11)\n",
       "┌───────────┬───────────┬───────────┬───────────┬───┬───────────┬───────────┬──────────┬───────────┐\n",
       "│ unique_id ┆ property_ ┆ source_ke ┆ tank_type ┆ … ┆ inches_to ┆ time_unti ┆ capacity ┆ percent_f │\n",
       "│ ---       ┆ id        ┆ y         ┆ ---       ┆   ┆ _esd      ┆ l_esd     ┆ ---      ┆ ull       │\n",
       "│ object    ┆ ---       ┆ ---       ┆ str       ┆   ┆ ---       ┆ ---       ┆ f64      ┆ ---       │\n",
       "│           ┆ str       ┆ str       ┆           ┆   ┆ f64       ┆ f64       ┆          ┆ u8        │\n",
       "╞═══════════╪═══════════╪═══════════╪═══════════╪═══╪═══════════╪═══════════╪══════════╪═══════════╡\n",
       "│ 8748b483- ┆ 98840     ┆ 9884001   ┆ Oil       ┆ … ┆ null      ┆ null      ┆ 554.0    ┆ 54        │\n",
       "│ ee0b-460d ┆           ┆           ┆           ┆   ┆           ┆           ┆          ┆           │\n",
       "│ -bc01-d1e ┆           ┆           ┆           ┆   ┆           ┆           ┆          ┆           │\n",
       "│ 373…      ┆           ┆           ┆           ┆   ┆           ┆           ┆          ┆           │\n",
       "│ 686fc368- ┆ 98840     ┆ 9884002   ┆ Oil       ┆ … ┆ null      ┆ null      ┆ 736.0    ┆ 40        │\n",
       "│ 3d98-4608 ┆           ┆           ┆           ┆   ┆           ┆           ┆          ┆           │\n",
       "│ -aef0-5af ┆           ┆           ┆           ┆   ┆           ┆           ┆          ┆           │\n",
       "│ 0eb…      ┆           ┆           ┆           ┆   ┆           ┆           ┆          ┆           │\n",
       "│ 1158ad41- ┆ 98840     ┆ 9884003   ┆ Oil       ┆ … ┆ null      ┆ null      ┆ 624.0    ┆ 46        │\n",
       "│ 4c78-4d2f ┆           ┆           ┆           ┆   ┆           ┆           ┆          ┆           │\n",
       "│ -83ec-2ff ┆           ┆           ┆           ┆   ┆           ┆           ┆          ┆           │\n",
       "│ 717…      ┆           ┆           ┆           ┆   ┆           ┆           ┆          ┆           │\n",
       "│ 29576772- ┆ 98840     ┆ 9884004   ┆ Oil       ┆ … ┆ 102.47818 ┆ null      ┆ 418.0    ┆ 64        │\n",
       "│ cde6-4767 ┆           ┆           ┆           ┆   ┆ 1         ┆           ┆          ┆           │\n",
       "│ -a478-c73 ┆           ┆           ┆           ┆   ┆           ┆           ┆          ┆           │\n",
       "│ 37a…      ┆           ┆           ┆           ┆   ┆           ┆           ┆          ┆           │\n",
       "│ 0d96d173- ┆ 98840     ┆ 9884005   ┆ Oil       ┆ … ┆ null      ┆ null      ┆ 790.0    ┆ 38        │\n",
       "│ 3c6a-469f ┆           ┆           ┆           ┆   ┆           ┆           ┆          ┆           │\n",
       "│ -901b-5ce ┆           ┆           ┆           ┆   ┆           ┆           ┆          ┆           │\n",
       "│ a8a…      ┆           ┆           ┆           ┆   ┆           ┆           ┆          ┆           │\n",
       "│ 63176073- ┆ 98840     ┆ 9884006   ┆ Oil       ┆ … ┆ null      ┆ null      ┆ 400.0    ┆ 77        │\n",
       "│ 1766-4d40 ┆           ┆           ┆           ┆   ┆           ┆           ┆          ┆           │\n",
       "│ -8a15-728 ┆           ┆           ┆           ┆   ┆           ┆           ┆          ┆           │\n",
       "│ 22e…      ┆           ┆           ┆           ┆   ┆           ┆           ┆          ┆           │\n",
       "│ 2cd89218- ┆ 98840     ┆ 98840W1   ┆ Water     ┆ … ┆ null      ┆ null      ┆ 697.0    ┆ 38        │\n",
       "│ f881-41d7 ┆           ┆           ┆           ┆   ┆           ┆           ┆          ┆           │\n",
       "│ -a97a-7d0 ┆           ┆           ┆           ┆   ┆           ┆           ┆          ┆           │\n",
       "│ 6de…      ┆           ┆           ┆           ┆   ┆           ┆           ┆          ┆           │\n",
       "│ 106e51eb- ┆ 98840     ┆ 98840W2   ┆ Water     ┆ … ┆ 257.84773 ┆ null      ┆ 653.0    ┆ 55        │\n",
       "│ 4faa-4d5c ┆           ┆           ┆           ┆   ┆ 8         ┆           ┆          ┆           │\n",
       "│ -b43e-210 ┆           ┆           ┆           ┆   ┆           ┆           ┆          ┆           │\n",
       "│ c92…      ┆           ┆           ┆           ┆   ┆           ┆           ┆          ┆           │\n",
       "└───────────┴───────────┴───────────┴───────────┴───┴───────────┴───────────┴──────────┴───────────┘"
      ]
     },
     "execution_count": 2,
     "metadata": {},
     "output_type": "execute_result"
    }
   ],
   "source": [
    "lf = df.lazy()\n",
    "\n",
    "tank_metrics = [\"Level\", \"Volume\", \"InchesUntilAlarm\", \"InchesToESD\", \"TimeUntilESD\", \"Capacity\", \"ID\"]\n",
    "tank_types = [\"Water\", \"Oil\"]\n",
    "\n",
    "tank_metrics_str= \"|\".join(tank_metrics)\n",
    "tank_types_str = \"|\".join(tank_types)\n",
    "\n",
    "pattern = f\"^(?<is_ESD>ESD-)?(?<tank_type>{tank_types_str})Tank(?<tank_number>[0-9]*)(?<tank_metric>{tank_metrics_str})\"\n",
    "lf = lf.with_columns(\n",
    "    separated_metrics=pl.col(\"tank_name\").str.extract_groups(pattern)\n",
    ")\n",
    "lf = lf.unnest(\"separated_metrics\")\n",
    "\n",
    "lf = lf.with_columns(pl.col(\"tank_number\").cast(pl.UInt8, strict=False))\n",
    "\n",
    "\n",
    "# pivoting the data\n",
    "values = pl.col(\"value\")\n",
    "columns = pl.col(\"tank_metric\")\n",
    "pivoted_lf = lf.group_by(\"property_id\", \"tank_type\", \"tank_number\", \"source_key\").agg(\n",
    "    values.filter(columns == metric).first().alias(metric) for metric in tank_metrics\n",
    ")\n",
    "\n",
    "null_condition = pl.col(\"tank_number\").is_null()\n",
    "not_null_condition = pl.col(\"tank_number\").is_not_null()\n",
    "\n",
    "null_tanks = pivoted_lf.filter(null_condition)\n",
    "numbered_tanks = pivoted_lf.filter(not_null_condition)\n",
    "\n",
    "null_tanks = null_tanks.with_columns(pl.col(\"ID\").alias(\"tank_number\"))\n",
    "null_tanks = null_tanks.drop(\"ID\")\n",
    "null_tanks = null_tanks.with_columns(\n",
    "    pl.col(\"tank_number\").cast(pl.UInt8, strict=False)\n",
    ")\n",
    "\n",
    "joined_lf = numbered_tanks.join(\n",
    "    null_tanks, on=[\"property_id\", \"tank_type\", \"tank_number\"], how=\"left\"\n",
    ")\n",
    "\n",
    "final_lf = joined_lf.join(lf, on=[\"source_key\"], how=\"left\")\n",
    "final_lf = final_lf.group_by(\"property_id\", \"tank_type\", \"tank_number\").agg(\n",
    "    pl.all().first()\n",
    ")\n",
    "\n",
    "final_lf = final_lf.with_columns(\n",
    "    pl.col(\"property_id\"),\n",
    "    pl.col(\"tank_type\"),\n",
    "    pl.col(\"tank_number\"),\n",
    "    pl.coalesce(pl.col(\"Level\"), pl.col(\"Level_right\")).alias(\"level\"),\n",
    "    pl.coalesce(pl.col(\"Volume\"), pl.col(\"Volume_right\")).alias(\"volume\"),\n",
    "    pl.coalesce(pl.col(\"InchesToESD\"), pl.col(\"InchesUntilAlarm_right\")).alias(\n",
    "        \"inches_to_esd\"\n",
    "    ),\n",
    "    pl.coalesce(pl.col(\"TimeUntilESD\"), pl.col(\"TimeUntilESD_right\")).alias(\n",
    "        \"time_until_esd\"\n",
    "    ),\n",
    "    pl.coalesce(pl.col(\"Capacity\"), pl.col(\"tanksize\")).alias(\"capacity\"),\n",
    "    pl.coalesce(pl.col(\"unique_id\")).alias(\"unique_id\")\n",
    ")\n",
    "\n",
    "required_columns = [\n",
    "    \"unique_id\",\n",
    "    \"property_id\",\n",
    "    \"source_key\",\n",
    "    \"tank_type\",\n",
    "    \"tank_number\",\n",
    "    \"level\",\n",
    "    \"volume\",\n",
    "    \"inches_to_esd\",\n",
    "    \"time_until_esd\",\n",
    "    \"capacity\",\n",
    "]\n",
    "final_lf = final_lf.select(required_columns)\n",
    "\n",
    "final_lf = final_lf.sort(\"property_id\", \"tank_type\", \"tank_number\")\n",
    "\n",
    "percent_tank_full = (\n",
    "    (pl.col(\"volume\") / pl.col(\"capacity\") * 100).round().cast(pl.UInt8)\n",
    ")\n",
    "final_lf = final_lf.with_columns(percent_tank_full.alias(\"percent_full\"))\n",
    "\n",
    "capacity_rounded = pl.col(\"capacity\").round()\n",
    "final_lf = final_lf.with_columns(capacity_rounded.alias(\"capacity\"))\n",
    "\n",
    "volume_to_feet = pl.col(\"volume\").round().cast(pl.UInt64)\n",
    "final_lf = final_lf.with_columns(volume_to_feet.alias(\"volume\"))\n",
    "\n",
    "result = final_lf.collect()\n",
    "result"
   ]
  },
  {
   "cell_type": "code",
   "execution_count": 3,
   "metadata": {},
   "outputs": [
    {
     "data": {
      "text/html": [
       "<div><style>\n",
       ".dataframe > thead > tr,\n",
       ".dataframe > tbody > tr {\n",
       "  text-align: right;\n",
       "  white-space: pre-wrap;\n",
       "}\n",
       "</style>\n",
       "<small>shape: (8, 11)</small><table border=\"1\" class=\"dataframe\"><thead><tr><th>identifier</th><th>property_id</th><th>source_key</th><th>tank_type</th><th>tank_number</th><th>level</th><th>volume</th><th>inches_to_esd</th><th>time_until_esd</th><th>capacity</th><th>percent_full</th></tr><tr><td>str</td><td>str</td><td>str</td><td>str</td><td>u8</td><td>f64</td><td>u64</td><td>f64</td><td>f64</td><td>f64</td><td>u8</td></tr></thead><tbody><tr><td>null</td><td>&quot;98840&quot;</td><td>&quot;9884001&quot;</td><td>&quot;Oil&quot;</td><td>1</td><td>79.02198</td><td>299</td><td>null</td><td>null</td><td>554.0</td><td>54</td></tr><tr><td>null</td><td>&quot;98840&quot;</td><td>&quot;9884002&quot;</td><td>&quot;Oil&quot;</td><td>2</td><td>77.590071</td><td>294</td><td>null</td><td>null</td><td>736.0</td><td>40</td></tr><tr><td>null</td><td>&quot;98840&quot;</td><td>&quot;9884003&quot;</td><td>&quot;Oil&quot;</td><td>3</td><td>77.392763</td><td>284</td><td>null</td><td>null</td><td>624.0</td><td>46</td></tr><tr><td>&quot;f3c718bf-58e8-488e-9445-99fae3…</td><td>&quot;98840&quot;</td><td>&quot;9884004&quot;</td><td>&quot;Oil&quot;</td><td>4</td><td>75.002393</td><td>268</td><td>102.478181</td><td>null</td><td>418.0</td><td>64</td></tr><tr><td>null</td><td>&quot;98840&quot;</td><td>&quot;9884005&quot;</td><td>&quot;Oil&quot;</td><td>5</td><td>74.240695</td><td>300</td><td>null</td><td>null</td><td>790.0</td><td>38</td></tr><tr><td>null</td><td>&quot;98840&quot;</td><td>&quot;9884006&quot;</td><td>&quot;Oil&quot;</td><td>6</td><td>82.279163</td><td>310</td><td>null</td><td>null</td><td>400.0</td><td>77</td></tr><tr><td>null</td><td>&quot;98840&quot;</td><td>&quot;98840W1&quot;</td><td>&quot;Water&quot;</td><td>1</td><td>79.941493</td><td>268</td><td>null</td><td>null</td><td>697.0</td><td>38</td></tr><tr><td>&quot;c4abef08-5ca3-43b2-a9a4-fdf5aa…</td><td>&quot;98840&quot;</td><td>&quot;98840W2&quot;</td><td>&quot;Water&quot;</td><td>2</td><td>76.456344</td><td>357</td><td>257.847738</td><td>null</td><td>653.0</td><td>55</td></tr></tbody></table></div>"
      ],
      "text/plain": [
       "shape: (8, 11)\n",
       "┌───────────┬───────────┬───────────┬───────────┬───┬───────────┬───────────┬──────────┬───────────┐\n",
       "│ identifie ┆ property_ ┆ source_ke ┆ tank_type ┆ … ┆ inches_to ┆ time_unti ┆ capacity ┆ percent_f │\n",
       "│ r         ┆ id        ┆ y         ┆ ---       ┆   ┆ _esd      ┆ l_esd     ┆ ---      ┆ ull       │\n",
       "│ ---       ┆ ---       ┆ ---       ┆ str       ┆   ┆ ---       ┆ ---       ┆ f64      ┆ ---       │\n",
       "│ str       ┆ str       ┆ str       ┆           ┆   ┆ f64       ┆ f64       ┆          ┆ u8        │\n",
       "╞═══════════╪═══════════╪═══════════╪═══════════╪═══╪═══════════╪═══════════╪══════════╪═══════════╡\n",
       "│ null      ┆ 98840     ┆ 9884001   ┆ Oil       ┆ … ┆ null      ┆ null      ┆ 554.0    ┆ 54        │\n",
       "│ null      ┆ 98840     ┆ 9884002   ┆ Oil       ┆ … ┆ null      ┆ null      ┆ 736.0    ┆ 40        │\n",
       "│ null      ┆ 98840     ┆ 9884003   ┆ Oil       ┆ … ┆ null      ┆ null      ┆ 624.0    ┆ 46        │\n",
       "│ f3c718bf- ┆ 98840     ┆ 9884004   ┆ Oil       ┆ … ┆ 102.47818 ┆ null      ┆ 418.0    ┆ 64        │\n",
       "│ 58e8-488e ┆           ┆           ┆           ┆   ┆ 1         ┆           ┆          ┆           │\n",
       "│ -9445-99f ┆           ┆           ┆           ┆   ┆           ┆           ┆          ┆           │\n",
       "│ ae3…      ┆           ┆           ┆           ┆   ┆           ┆           ┆          ┆           │\n",
       "│ null      ┆ 98840     ┆ 9884005   ┆ Oil       ┆ … ┆ null      ┆ null      ┆ 790.0    ┆ 38        │\n",
       "│ null      ┆ 98840     ┆ 9884006   ┆ Oil       ┆ … ┆ null      ┆ null      ┆ 400.0    ┆ 77        │\n",
       "│ null      ┆ 98840     ┆ 98840W1   ┆ Water     ┆ … ┆ null      ┆ null      ┆ 697.0    ┆ 38        │\n",
       "│ c4abef08- ┆ 98840     ┆ 98840W2   ┆ Water     ┆ … ┆ 257.84773 ┆ null      ┆ 653.0    ┆ 55        │\n",
       "│ 5ca3-43b2 ┆           ┆           ┆           ┆   ┆ 8         ┆           ┆          ┆           │\n",
       "│ -a9a4-fdf ┆           ┆           ┆           ┆   ┆           ┆           ┆          ┆           │\n",
       "│ 5aa…      ┆           ┆           ┆           ┆   ┆           ┆           ┆          ┆           │\n",
       "└───────────┴───────────┴───────────┴───────────┴───┴───────────┴───────────┴──────────┴───────────┘"
      ]
     },
     "execution_count": 3,
     "metadata": {},
     "output_type": "execute_result"
    }
   ],
   "source": [
    "lf = df.lazy()\n",
    "\n",
    "tank_metrics = [\"Level\", \"Volume\", \"InchesUntilAlarm\", \"InchesToESD\", \"TimeUntilESD\", \"Capacity\", \"ID\"]\n",
    "tank_types = [\"Water\", \"Oil\"]\n",
    "\n",
    "tank_metrics_str= \"|\".join(tank_metrics)\n",
    "tank_types_str = \"|\".join(tank_types)\n",
    "\n",
    "pattern = f'^(?<is_esd>ESD-)?(?<tank_type>{tank_types_str})Tank(?<tank_number>[0-9]*)(?<tank_metric>{tank_metrics_str})'\n",
    "lf = lf.with_columns(separated_metrics = pl.col(\"tank_name\").str.extract_groups(pattern))\n",
    "\n",
    "lf = lf.unnest(\"separated_metrics\")\n",
    "\n",
    "lf = lf.with_columns(pl.col(\"tank_number\").cast(pl.UInt8, strict=False))\n",
    "\n",
    "values = pl.col(\"value\")\n",
    "columns = pl.col(\"tank_metric\")\n",
    "pivoted_lf = lf.group_by(\"property_id\", \"tank_type\", \"tank_number\", \"source_key\", \"unique_id\").agg(\n",
    "    values.filter(columns == metric).first().alias(metric) for metric in tank_metrics\n",
    ")\n",
    "\n",
    "null_condition = pl.col(\"tank_number\").is_null()\n",
    "not_null_condition = pl.col(\"tank_number\").is_not_null()\n",
    "\n",
    "null_tanks = pivoted_lf.filter(null_condition)\n",
    "numbered_tanks = pivoted_lf.filter(not_null_condition)\n",
    "\n",
    "null_tanks = null_tanks.with_columns(pl.col(\"ID\").alias(\"tank_number\"))\n",
    "null_tanks = null_tanks.drop(\"ID\")\n",
    "null_tanks = null_tanks.with_columns(pl.col(\"tank_number\").cast(pl.UInt8, strict=False))\n",
    "\n",
    "numbered_tanks = numbered_tanks.with_columns(pl.col(\"unique_id\").alias(\"identifier\"))\n",
    "numbered_tanks = numbered_tanks.drop(\"unique_id\")\n",
    "\n",
    "null_tanks_merged = null_tanks.group_by([\"property_id\", \"tank_type\", \"source_key\"]).agg(\n",
    "    [\n",
    "        pl.col(\"tank_number\").max(),  # Use max or min to fill missing values\n",
    "        pl.col(\"unique_id\").last(),  # Use first() or last() for string-like columns\n",
    "        pl.col(\"Level\").max(),\n",
    "        pl.col(\"Volume\").max(),\n",
    "        pl.col(\"InchesUntilAlarm\").max(),\n",
    "        pl.col(\"InchesToESD\").max(),\n",
    "        pl.col(\"TimeUntilESD\").max(),\n",
    "        pl.col(\"Capacity\").max(),\n",
    "    ]\n",
    ")\n",
    "\n",
    "joined_lf = numbered_tanks.join(null_tanks_merged, on=[\"property_id\", \"tank_type\", \"tank_number\"], how=\"left\")\n",
    "\n",
    "final_lf = joined_lf.join(lf, on=[\"source_key\"], how=\"left\")\n",
    "\n",
    "final_lf = final_lf.with_columns(\n",
    "    pl.col(\"unique_id\").alias(\"identifier\"),\n",
    "    pl.col(\"property_id\"),\n",
    "    pl.col(\"tank_type\"),\n",
    "    pl.col(\"tank_number\"),\n",
    "    pl.coalesce(pl.col(\"Level\"), pl.col(\"Level_right\")).alias(\"level\"),\n",
    "    pl.coalesce(pl.col(\"Volume\"), pl.col(\"Volume_right\")).alias(\"volume\"),\n",
    "    pl.coalesce(pl.col(\"InchesToESD\"), pl.col(\"InchesUntilAlarm_right\")).alias(\"inches_to_esd\"),\n",
    "    pl.coalesce(pl.col(\"TimeUntilESD\"), pl.col(\"TimeUntilESD_right\")).alias(\"time_until_esd\"),\n",
    "    pl.coalesce(pl.col(\"Capacity\"), pl.col(\"tanksize\")).alias(\"capacity\")\n",
    ")\n",
    "\n",
    "required_columns = [\"identifier\", \"property_id\", \"source_key\", \"tank_type\", \"tank_number\", \"level\", \"volume\", \"inches_to_esd\", \"time_until_esd\", \"capacity\"]\n",
    "final_lf = final_lf.select(required_columns)\n",
    "\n",
    "final_lf = final_lf.sort(\"property_id\", \"tank_type\", \"tank_number\")\n",
    "\n",
    "percent_tank_full = (pl.col(\"volume\") / pl.col(\"capacity\") * 100).round().cast(pl.UInt8)\n",
    "final_lf = final_lf.with_columns(percent_tank_full.alias(\"percent_full\"))\n",
    "\n",
    "capacity_rounded = pl.col(\"capacity\").round()\n",
    "final_lf = final_lf.with_columns(capacity_rounded.alias(\"capacity\"))\n",
    "\n",
    "volume_to_feet = pl.col(\"volume\").round().cast(pl.UInt64)\n",
    "\n",
    "final_lf = final_lf.with_columns(volume_to_feet.alias(\"volume\"))\n",
    "\n",
    "result = final_lf.group_by([\"property_id\", \"source_key\", \"tank_type\", \"tank_number\"]).agg(\n",
    "    [\n",
    "        pl.col(\"identifier\").first(),  # Use first() or last() for non-numeric columns\n",
    "        pl.col(\"level\").max(),  # Use max() to get the highest value (fill missing)\n",
    "        pl.col(\"volume\").max(),\n",
    "        pl.col(\"inches_to_esd\").max(),\n",
    "        pl.col(\"time_until_esd\").max(),\n",
    "        pl.col(\"capacity\").max(),\n",
    "        pl.col(\"percent_full\").max(),\n",
    "    ]\n",
    ")\n",
    "\n",
    "result = result.sort(\"property_id\", \"tank_type\", \"tank_number\")\n",
    "result = result.select([\"identifier\", \"property_id\", \"source_key\", \"tank_type\", \"tank_number\", \"level\", \"volume\", \"inches_to_esd\", \"time_until_esd\", \"capacity\", \"percent_full\"])\n",
    "result = result.with_columns(pl.col(\"identifier\").map_elements(lambda x: str(x) if x is not None else None, return_dtype=pl.Utf8).alias(\"identifier\"))\n",
    "result.collect()\n"
   ]
  },
  {
   "cell_type": "code",
   "execution_count": 4,
   "metadata": {},
   "outputs": [],
   "source": [
    "lf = df.lazy()\n"
   ]
  },
  {
   "cell_type": "code",
   "execution_count": 5,
   "metadata": {},
   "outputs": [
    {
     "ename": "ColumnNotFoundError",
     "evalue": "metric_nice_name",
     "output_type": "error",
     "traceback": [
      "\u001b[0;31m---------------------------------------------------------------------------\u001b[0m",
      "\u001b[0;31mColumnNotFoundError\u001b[0m                       Traceback (most recent call last)",
      "Cell \u001b[0;32mIn[5], line 9\u001b[0m\n\u001b[1;32m      7\u001b[0m pattern \u001b[38;5;241m=\u001b[39m \u001b[38;5;124mf\u001b[39m\u001b[38;5;124m'\u001b[39m\u001b[38;5;124m^(?<is_esd>ESD-)?(?<tank_type>\u001b[39m\u001b[38;5;132;01m{\u001b[39;00mtank_types_str\u001b[38;5;132;01m}\u001b[39;00m\u001b[38;5;124m)Tank(?<tank_number>[0-9]*)(?<tank_metric>\u001b[39m\u001b[38;5;132;01m{\u001b[39;00mtank_metrics_str\u001b[38;5;132;01m}\u001b[39;00m\u001b[38;5;124m)\u001b[39m\u001b[38;5;124m'\u001b[39m\n\u001b[1;32m      8\u001b[0m lf \u001b[38;5;241m=\u001b[39m lf\u001b[38;5;241m.\u001b[39mwith_columns(separated_metrics \u001b[38;5;241m=\u001b[39m pl\u001b[38;5;241m.\u001b[39mcol(\u001b[38;5;124m\"\u001b[39m\u001b[38;5;124mmetric_nice_name\u001b[39m\u001b[38;5;124m\"\u001b[39m)\u001b[38;5;241m.\u001b[39mstr\u001b[38;5;241m.\u001b[39mextract_groups(pattern))\n\u001b[0;32m----> 9\u001b[0m \u001b[43mlf\u001b[49m\u001b[38;5;241;43m.\u001b[39;49m\u001b[43mcollect\u001b[49m\u001b[43m(\u001b[49m\u001b[43m)\u001b[49m\n",
      "File \u001b[0;32m~/code/tank_project/.venv/lib/python3.12/site-packages/polars/lazyframe/frame.py:1816\u001b[0m, in \u001b[0;36mLazyFrame.collect\u001b[0;34m(self, type_coercion, predicate_pushdown, projection_pushdown, simplify_expression, slice_pushdown, comm_subplan_elim, comm_subexpr_elim, no_optimization, streaming, background, _eager, **_kwargs)\u001b[0m\n\u001b[1;32m   1813\u001b[0m \u001b[38;5;66;03m# Only for testing purposes atm.\u001b[39;00m\n\u001b[1;32m   1814\u001b[0m callback \u001b[38;5;241m=\u001b[39m _kwargs\u001b[38;5;241m.\u001b[39mget(\u001b[38;5;124m\"\u001b[39m\u001b[38;5;124mpost_opt_callback\u001b[39m\u001b[38;5;124m\"\u001b[39m)\n\u001b[0;32m-> 1816\u001b[0m \u001b[38;5;28;01mreturn\u001b[39;00m wrap_df(\u001b[43mldf\u001b[49m\u001b[38;5;241;43m.\u001b[39;49m\u001b[43mcollect\u001b[49m\u001b[43m(\u001b[49m\u001b[43mcallback\u001b[49m\u001b[43m)\u001b[49m)\n",
      "\u001b[0;31mColumnNotFoundError\u001b[0m: metric_nice_name"
     ]
    }
   ],
   "source": [
    "tank_metrics = [\"Level\", \"Volume\", \"InchesUntilAlarm\", \"InchesToESD\", \"TimeUntilESD\", \"Capacity\", \"ID\"]\n",
    "tank_types = [\"Water\", \"Oil\"]\n",
    "\n",
    "tank_metrics_str= \"|\".join(tank_metrics)\n",
    "tank_types_str = \"|\".join(tank_types)\n",
    "\n",
    "pattern = f'^(?<is_esd>ESD-)?(?<tank_type>{tank_types_str})Tank(?<tank_number>[0-9]*)(?<tank_metric>{tank_metrics_str})'\n",
    "lf = lf.with_columns(separated_metrics = pl.col(\"metric_nice_name\").str.extract_groups(pattern))\n",
    "lf.collect()"
   ]
  },
  {
   "cell_type": "code",
   "execution_count": null,
   "metadata": {},
   "outputs": [],
   "source": [
    "lf = lf.unnest(\"separated_metrics\")\n",
    "lf.collect()"
   ]
  },
  {
   "cell_type": "code",
   "execution_count": null,
   "metadata": {},
   "outputs": [],
   "source": [
    "lf = lf.with_columns(pl.col(\"tank_number\").cast(pl.UInt8, strict=False))\n",
    "lf.collect()"
   ]
  },
  {
   "cell_type": "code",
   "execution_count": null,
   "metadata": {},
   "outputs": [],
   "source": [
    "#pivoting the data\n",
    "values = pl.col(\"value\")\n",
    "columns = pl.col(\"tank_metric\")\n",
    "pivoted_lf = lf.group_by(\"property_id\", \"tank_type\", \"tank_number\", \"scada_id\", \"unique_id\").agg(\n",
    "    values.filter(columns == metric).first().alias(metric) for metric in tank_metrics\n",
    ")\n",
    "\n",
    "pivoted_lf.collect()"
   ]
  },
  {
   "cell_type": "code",
   "execution_count": null,
   "metadata": {},
   "outputs": [],
   "source": [
    "null_condition = pl.col(\"tank_number\").is_null()\n",
    "not_null_condition = pl.col(\"tank_number\").is_not_null()\n",
    "\n",
    "null_tanks = pivoted_lf.filter(null_condition)\n",
    "numbered_tanks = pivoted_lf.filter(not_null_condition)\n",
    "\n",
    "null_tanks = null_tanks.with_columns(pl.col(\"ID\").alias(\"tank_number\"))\n",
    "null_tanks = null_tanks.drop(\"ID\")\n",
    "null_tanks = null_tanks.with_columns(pl.col(\"tank_number\").cast(pl.UInt8, strict=False))\n",
    "\n",
    "null_tanks.collect()"
   ]
  },
  {
   "cell_type": "code",
   "execution_count": null,
   "metadata": {},
   "outputs": [],
   "source": [
    "numbered_tanks.collect()"
   ]
  },
  {
   "cell_type": "code",
   "execution_count": null,
   "metadata": {},
   "outputs": [],
   "source": [
    "numbered_tanks = numbered_tanks.with_columns(pl.col(\"unique_id\").alias(\"identifier\"))\n",
    "numbered_tanks = numbered_tanks.drop(\"unique_id\")\n",
    "numbered_tanks.collect()"
   ]
  },
  {
   "cell_type": "code",
   "execution_count": null,
   "metadata": {},
   "outputs": [],
   "source": [
    "pp = null_tanks.group_by([\"property_id\", \"tank_type\", \"scada_id\"]).agg(\n",
    "    [\n",
    "        pl.col(\"tank_number\").max(),  # Use max or min to fill missing values\n",
    "        pl.col(\"unique_id\").last(),  # Use first() or last() for string-like columns\n",
    "        pl.col(\"Level\").max(),\n",
    "        pl.col(\"Volume\").max(),\n",
    "        pl.col(\"InchesUntilAlarm\").max(),\n",
    "        pl.col(\"InchesToESD\").max(),\n",
    "        pl.col(\"TimeUntilESD\").max(),\n",
    "        pl.col(\"Capacity\").max(),\n",
    "    ]\n",
    ")\n",
    "\n",
    "pp.collect()"
   ]
  },
  {
   "cell_type": "code",
   "execution_count": null,
   "metadata": {},
   "outputs": [],
   "source": [
    "joined_lf = numbered_tanks.join(pp, on=[\"property_id\", \"tank_type\", \"tank_number\"], how=\"left\")\n",
    "joined_lf.collect()"
   ]
  },
  {
   "cell_type": "code",
   "execution_count": null,
   "metadata": {},
   "outputs": [],
   "source": [
    "final_lf = joined_lf.join(lf, on=[\"scada_id\"], how=\"left\")\n",
    "final_lf.collect()"
   ]
  },
  {
   "cell_type": "code",
   "execution_count": null,
   "metadata": {},
   "outputs": [],
   "source": [
    "final_lf = final_lf.with_columns(\n",
    "    pl.col(\"unique_id\").alias(\"identifier\"),\n",
    "    pl.col(\"property_id\"),\n",
    "    pl.col(\"tank_type\"),\n",
    "    pl.col(\"tank_number\"),\n",
    "    pl.coalesce(pl.col(\"Level\"), pl.col(\"Level_right\")).alias(\"level\"),\n",
    "    pl.coalesce(pl.col(\"Volume\"), pl.col(\"Volume_right\")).alias(\"volume\"),\n",
    "    pl.coalesce(pl.col(\"InchesToESD\"), pl.col(\"InchesUntilAlarm_right\")).alias(\"inches_to_esd\"),\n",
    "    pl.coalesce(pl.col(\"TimeUntilESD\"), pl.col(\"TimeUntilESD_right\")).alias(\"time_until_esd\"),\n",
    "    pl.coalesce(pl.col(\"Capacity\"), pl.col(\"tanksize\")).alias(\"capacity\")\n",
    ")\n",
    "\n",
    "required_columns = [\"identifier\", \"property_id\", \"scada_id\", \"tank_type\", \"tank_number\", \"level\", \"volume\", \"inches_to_esd\", \"time_until_esd\", \"capacity\"]\n",
    "final_lf = final_lf.select(required_columns)\n",
    "final_lf.collect()"
   ]
  },
  {
   "cell_type": "code",
   "execution_count": null,
   "metadata": {},
   "outputs": [],
   "source": [
    "final_lf = final_lf.sort(\"property_id\", \"tank_type\", \"tank_number\")\n",
    "final_lf.collect()"
   ]
  },
  {
   "cell_type": "code",
   "execution_count": null,
   "metadata": {},
   "outputs": [],
   "source": [
    "percent_tank_full = (pl.col(\"volume\") / pl.col(\"capacity\") * 100).round().cast(pl.UInt8)\n",
    "final_lf = final_lf.with_columns(percent_tank_full.alias(\"percent_full\"))\n",
    "\n",
    "final_lf.collect()"
   ]
  },
  {
   "cell_type": "code",
   "execution_count": null,
   "metadata": {},
   "outputs": [],
   "source": [
    "capacity_rounded = pl.col(\"capacity\").round()\n",
    "final_lf = final_lf.with_columns(capacity_rounded.alias(\"capacity\"))\n",
    "final_lf.collect()"
   ]
  },
  {
   "cell_type": "code",
   "execution_count": null,
   "metadata": {},
   "outputs": [],
   "source": [
    "volume_to_feet = pl.col(\"volume\").round().cast(pl.UInt64)\n",
    "\n",
    "final_lf = final_lf.with_columns(volume_to_feet.alias(\"volume\"))\n",
    "\n",
    "final_lf.collect()"
   ]
  },
  {
   "cell_type": "code",
   "execution_count": null,
   "metadata": {},
   "outputs": [],
   "source": [
    "new_pp = final_lf.group_by([\"property_id\", \"scada_id\", \"tank_type\", \"tank_number\"]).agg(\n",
    "    [\n",
    "        pl.col(\"identifier\").first(),  # Use first() or last() for non-numeric columns\n",
    "        pl.col(\"level\").max(),  # Use max() to get the highest value (fill missing)\n",
    "        pl.col(\"volume\").max(),\n",
    "        pl.col(\"inches_to_esd\").max(),\n",
    "        pl.col(\"time_until_esd\").max(),\n",
    "        pl.col(\"capacity\").max(),\n",
    "        pl.col(\"percent_full\").max(),\n",
    "    ]\n",
    ")\n",
    "\n",
    "\n",
    "\n",
    "new_pp.collect()"
   ]
  },
  {
   "cell_type": "code",
   "execution_count": null,
   "metadata": {},
   "outputs": [],
   "source": [
    "new_pp = new_pp.sort(\"property_id\", \"tank_type\", \"tank_number\")\n",
    "new_pp.collect()"
   ]
  }
 ],
 "metadata": {
  "kernelspec": {
   "display_name": "tank-project-9-HCZibD-py3.12",
   "language": "python",
   "name": "python3"
  },
  "language_info": {
   "codemirror_mode": {
    "name": "ipython",
    "version": 3
   },
   "file_extension": ".py",
   "mimetype": "text/x-python",
   "name": "python",
   "nbconvert_exporter": "python",
   "pygments_lexer": "ipython3",
   "version": "3.12.2"
  }
 },
 "nbformat": 4,
 "nbformat_minor": 2
}
