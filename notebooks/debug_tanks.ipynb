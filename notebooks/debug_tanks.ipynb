{
 "cells": [
  {
   "cell_type": "code",
   "execution_count": 139,
   "metadata": {},
   "outputs": [
    {
     "data": {
      "text/html": [
       "<div><style>\n",
       ".dataframe > thead > tr,\n",
       ".dataframe > tbody > tr {\n",
       "  text-align: right;\n",
       "  white-space: pre-wrap;\n",
       "}\n",
       "</style>\n",
       "<small>shape: (16, 8)</small><table border=\"1\" class=\"dataframe\"><thead><tr><th>primo_id</th><th>scada_id</th><th>metric_nice_name</th><th>unique_id</th><th>uom</th><th>timestamp</th><th>value</th><th>tanksize</th></tr><tr><td>str</td><td>str</td><td>str</td><td>object</td><td>str</td><td>datetime[μs]</td><td>f64</td><td>null</td></tr></thead><tbody><tr><td>&quot;480001&quot;</td><td>&quot;FTW480001&quot;</td><td>&quot;ESD-OilTankInchesUntilAlarm&quot;</td><td>0a5456a7-80da-44cd-b191-130a0a579c33</td><td>&quot;in&quot;</td><td>2024-03-06 04:14:39.113032</td><td>66.518221</td><td>null</td></tr><tr><td>&quot;480001&quot;</td><td>&quot;FTW480001&quot;</td><td>&quot;WaterTank1Capacity&quot;</td><td>1a909c77-d910-4862-b7f4-0ae902c9cbab</td><td>&quot;bbl&quot;</td><td>2023-11-07 09:00:00</td><td>410.476513</td><td>null</td></tr><tr><td>&quot;480001&quot;</td><td>&quot;FTW480001&quot;</td><td>&quot;WaterTank1Volume&quot;</td><td>33b18ec5-4680-4279-bc0e-b9f8761d9b04</td><td>&quot;bbl&quot;</td><td>2024-03-06 04:11:04.372011</td><td>58.378953</td><td>null</td></tr><tr><td>&quot;480001&quot;</td><td>&quot;FTW480001&quot;</td><td>&quot;WaterTank2Volume&quot;</td><td>393a9fd5-866d-45d9-98f2-3145da3eab20</td><td>&quot;bbl&quot;</td><td>2024-03-06 04:11:21.206990</td><td>232.610547</td><td>null</td></tr><tr><td>&quot;480001&quot;</td><td>&quot;FTW480001&quot;</td><td>&quot;OilTank1Level&quot;</td><td>3eb86565-9a8c-4645-9e3b-ead0c0a61245</td><td>&quot;in&quot;</td><td>2024-03-06 04:12:36.242968</td><td>81.727208</td><td>null</td></tr><tr><td>&hellip;</td><td>&hellip;</td><td>&hellip;</td><td>&hellip;</td><td>&hellip;</td><td>&hellip;</td><td>&hellip;</td><td>&hellip;</td></tr><tr><td>&quot;480001&quot;</td><td>&quot;FTW480001&quot;</td><td>&quot;ESD-OilTankID&quot;</td><td>91346655-25a8-4a44-a3ac-c8fc14457107</td><td>null</td><td>2023-11-07 09:00:00</td><td>1.0</td><td>null</td></tr><tr><td>&quot;480001&quot;</td><td>&quot;FTW480001&quot;</td><td>&quot;OilTank1Volume&quot;</td><td>970e57ed-34f9-4306-b0a3-5cd7b57cd20e</td><td>&quot;bbl&quot;</td><td>2024-03-06 04:12:36.242968</td><td>227.020022</td><td>null</td></tr><tr><td>&quot;480001&quot;</td><td>&quot;FTW480001&quot;</td><td>&quot;OilTank2Capacity&quot;</td><td>9e41a2e8-78d5-4dd9-b63f-66fa4676dcfb</td><td>&quot;bbl&quot;</td><td>2023-11-07 09:00:00</td><td>406.099328</td><td>null</td></tr><tr><td>&quot;480001&quot;</td><td>&quot;FTW480001&quot;</td><td>&quot;OilTank2Level&quot;</td><td>b2b972c2-8685-4877-8363-484e0003ac37</td><td>&quot;in&quot;</td><td>2024-03-06 04:14:00.321573</td><td>98.825588</td><td>null</td></tr><tr><td>&quot;480001&quot;</td><td>&quot;FTW480001&quot;</td><td>&quot;ESD-WaterTankID&quot;</td><td>bf404389-f86f-47fe-8eb6-aac06db9bd77</td><td>null</td><td>2023-11-07 09:00:00</td><td>1.0</td><td>null</td></tr></tbody></table></div>"
      ],
      "text/plain": [
       "shape: (16, 8)\n",
       "┌──────────┬───────────┬──────────────┬──────────────┬──────┬──────────────┬────────────┬──────────┐\n",
       "│ primo_id ┆ scada_id  ┆ metric_nice_ ┆ unique_id    ┆ uom  ┆ timestamp    ┆ value      ┆ tanksize │\n",
       "│ ---      ┆ ---       ┆ name         ┆ ---          ┆ ---  ┆ ---          ┆ ---        ┆ ---      │\n",
       "│ str      ┆ str       ┆ ---          ┆ object       ┆ str  ┆ datetime[μs] ┆ f64        ┆ null     │\n",
       "│          ┆           ┆ str          ┆              ┆      ┆              ┆            ┆          │\n",
       "╞══════════╪═══════════╪══════════════╪══════════════╪══════╪══════════════╪════════════╪══════════╡\n",
       "│ 480001   ┆ FTW480001 ┆ ESD-OilTankI ┆ 0a5456a7-80d ┆ in   ┆ 2024-03-06   ┆ 66.518221  ┆ null     │\n",
       "│          ┆           ┆ nchesUntilAl ┆ a-44cd-b191- ┆      ┆ 04:14:39.113 ┆            ┆          │\n",
       "│          ┆           ┆ arm          ┆ 130a0a…      ┆      ┆ 032          ┆            ┆          │\n",
       "│ 480001   ┆ FTW480001 ┆ WaterTank1Ca ┆ 1a909c77-d91 ┆ bbl  ┆ 2023-11-07   ┆ 410.476513 ┆ null     │\n",
       "│          ┆           ┆ pacity       ┆ 0-4862-b7f4- ┆      ┆ 09:00:00     ┆            ┆          │\n",
       "│          ┆           ┆              ┆ 0ae902…      ┆      ┆              ┆            ┆          │\n",
       "│ 480001   ┆ FTW480001 ┆ WaterTank1Vo ┆ 33b18ec5-468 ┆ bbl  ┆ 2024-03-06   ┆ 58.378953  ┆ null     │\n",
       "│          ┆           ┆ lume         ┆ 0-4279-bc0e- ┆      ┆ 04:11:04.372 ┆            ┆          │\n",
       "│          ┆           ┆              ┆ b9f876…      ┆      ┆ 011          ┆            ┆          │\n",
       "│ 480001   ┆ FTW480001 ┆ WaterTank2Vo ┆ 393a9fd5-866 ┆ bbl  ┆ 2024-03-06   ┆ 232.610547 ┆ null     │\n",
       "│          ┆           ┆ lume         ┆ d-45d9-98f2- ┆      ┆ 04:11:21.206 ┆            ┆          │\n",
       "│          ┆           ┆              ┆ 3145da…      ┆      ┆ 990          ┆            ┆          │\n",
       "│ 480001   ┆ FTW480001 ┆ OilTank1Leve ┆ 3eb86565-9a8 ┆ in   ┆ 2024-03-06   ┆ 81.727208  ┆ null     │\n",
       "│          ┆           ┆ l            ┆ c-4645-9e3b- ┆      ┆ 04:12:36.242 ┆            ┆          │\n",
       "│          ┆           ┆              ┆ ead0c0…      ┆      ┆ 968          ┆            ┆          │\n",
       "│ …        ┆ …         ┆ …            ┆ …            ┆ …    ┆ …            ┆ …          ┆ …        │\n",
       "│ 480001   ┆ FTW480001 ┆ ESD-OilTankI ┆ 91346655-25a ┆ null ┆ 2023-11-07   ┆ 1.0        ┆ null     │\n",
       "│          ┆           ┆ D            ┆ 8-4a44-a3ac- ┆      ┆ 09:00:00     ┆            ┆          │\n",
       "│          ┆           ┆              ┆ c8fc14…      ┆      ┆              ┆            ┆          │\n",
       "│ 480001   ┆ FTW480001 ┆ OilTank1Volu ┆ 970e57ed-34f ┆ bbl  ┆ 2024-03-06   ┆ 227.020022 ┆ null     │\n",
       "│          ┆           ┆ me           ┆ 9-4306-b0a3- ┆      ┆ 04:12:36.242 ┆            ┆          │\n",
       "│          ┆           ┆              ┆ 5cd7b5…      ┆      ┆ 968          ┆            ┆          │\n",
       "│ 480001   ┆ FTW480001 ┆ OilTank2Capa ┆ 9e41a2e8-78d ┆ bbl  ┆ 2023-11-07   ┆ 406.099328 ┆ null     │\n",
       "│          ┆           ┆ city         ┆ 5-4dd9-b63f- ┆      ┆ 09:00:00     ┆            ┆          │\n",
       "│          ┆           ┆              ┆ 66fa46…      ┆      ┆              ┆            ┆          │\n",
       "│ 480001   ┆ FTW480001 ┆ OilTank2Leve ┆ b2b972c2-868 ┆ in   ┆ 2024-03-06   ┆ 98.825588  ┆ null     │\n",
       "│          ┆           ┆ l            ┆ 5-4877-8363- ┆      ┆ 04:14:00.321 ┆            ┆          │\n",
       "│          ┆           ┆              ┆ 484e00…      ┆      ┆ 573          ┆            ┆          │\n",
       "│ 480001   ┆ FTW480001 ┆ ESD-WaterTan ┆ bf404389-f86 ┆ null ┆ 2023-11-07   ┆ 1.0        ┆ null     │\n",
       "│          ┆           ┆ kID          ┆ f-47fe-8eb6- ┆      ┆ 09:00:00     ┆            ┆          │\n",
       "│          ┆           ┆              ┆ aac06d…      ┆      ┆              ┆            ┆          │\n",
       "└──────────┴───────────┴──────────────┴──────────────┴──────┴──────────────┴────────────┴──────────┘"
      ]
     },
     "execution_count": 139,
     "metadata": {},
     "output_type": "execute_result"
    }
   ],
   "source": [
    "import polars as pl\n",
    "from src.main import GetTanksReq, fetch_tank_data\n",
    "\n",
    "req = GetTanksReq(primo_ids={\"480001\"})\n",
    "\n",
    "df = await fetch_tank_data(req)\n",
    "if df is None:\n",
    "    raise ValueError(\"df is None\")\n",
    "lf = df.lazy()\n",
    "lf.collect()"
   ]
  },
  {
   "cell_type": "code",
   "execution_count": 140,
   "metadata": {},
   "outputs": [
    {
     "data": {
      "text/html": [
       "<div><style>\n",
       ".dataframe > thead > tr,\n",
       ".dataframe > tbody > tr {\n",
       "  text-align: right;\n",
       "  white-space: pre-wrap;\n",
       "}\n",
       "</style>\n",
       "<small>shape: (16, 7)</small><table border=\"1\" class=\"dataframe\"><thead><tr><th>primo_id</th><th>scada_id</th><th>metric_nice_name</th><th>uom</th><th>timestamp</th><th>value</th><th>tanksize</th></tr><tr><td>str</td><td>str</td><td>str</td><td>str</td><td>datetime[μs]</td><td>f64</td><td>null</td></tr></thead><tbody><tr><td>&quot;480001&quot;</td><td>&quot;FTW480001&quot;</td><td>&quot;ESD-OilTankInchesUntilAlarm&quot;</td><td>&quot;in&quot;</td><td>2024-03-06 04:14:39.113032</td><td>66.518221</td><td>null</td></tr><tr><td>&quot;480001&quot;</td><td>&quot;FTW480001&quot;</td><td>&quot;WaterTank1Capacity&quot;</td><td>&quot;bbl&quot;</td><td>2023-11-07 09:00:00</td><td>410.476513</td><td>null</td></tr><tr><td>&quot;480001&quot;</td><td>&quot;FTW480001&quot;</td><td>&quot;WaterTank1Volume&quot;</td><td>&quot;bbl&quot;</td><td>2024-03-06 04:11:04.372011</td><td>58.378953</td><td>null</td></tr><tr><td>&quot;480001&quot;</td><td>&quot;FTW480001&quot;</td><td>&quot;WaterTank2Volume&quot;</td><td>&quot;bbl&quot;</td><td>2024-03-06 04:11:21.206990</td><td>232.610547</td><td>null</td></tr><tr><td>&quot;480001&quot;</td><td>&quot;FTW480001&quot;</td><td>&quot;OilTank1Level&quot;</td><td>&quot;in&quot;</td><td>2024-03-06 04:12:36.242968</td><td>81.727208</td><td>null</td></tr><tr><td>&hellip;</td><td>&hellip;</td><td>&hellip;</td><td>&hellip;</td><td>&hellip;</td><td>&hellip;</td><td>&hellip;</td></tr><tr><td>&quot;480001&quot;</td><td>&quot;FTW480001&quot;</td><td>&quot;ESD-OilTankID&quot;</td><td>null</td><td>2023-11-07 09:00:00</td><td>1.0</td><td>null</td></tr><tr><td>&quot;480001&quot;</td><td>&quot;FTW480001&quot;</td><td>&quot;OilTank1Volume&quot;</td><td>&quot;bbl&quot;</td><td>2024-03-06 04:12:36.242968</td><td>227.020022</td><td>null</td></tr><tr><td>&quot;480001&quot;</td><td>&quot;FTW480001&quot;</td><td>&quot;OilTank2Capacity&quot;</td><td>&quot;bbl&quot;</td><td>2023-11-07 09:00:00</td><td>406.099328</td><td>null</td></tr><tr><td>&quot;480001&quot;</td><td>&quot;FTW480001&quot;</td><td>&quot;OilTank2Level&quot;</td><td>&quot;in&quot;</td><td>2024-03-06 04:14:00.321573</td><td>98.825588</td><td>null</td></tr><tr><td>&quot;480001&quot;</td><td>&quot;FTW480001&quot;</td><td>&quot;ESD-WaterTankID&quot;</td><td>null</td><td>2023-11-07 09:00:00</td><td>1.0</td><td>null</td></tr></tbody></table></div>"
      ],
      "text/plain": [
       "shape: (16, 7)\n",
       "┌──────────┬───────────┬──────────────────────┬──────┬─────────────────────┬────────────┬──────────┐\n",
       "│ primo_id ┆ scada_id  ┆ metric_nice_name     ┆ uom  ┆ timestamp           ┆ value      ┆ tanksize │\n",
       "│ ---      ┆ ---       ┆ ---                  ┆ ---  ┆ ---                 ┆ ---        ┆ ---      │\n",
       "│ str      ┆ str       ┆ str                  ┆ str  ┆ datetime[μs]        ┆ f64        ┆ null     │\n",
       "╞══════════╪═══════════╪══════════════════════╪══════╪═════════════════════╪════════════╪══════════╡\n",
       "│ 480001   ┆ FTW480001 ┆ ESD-OilTankInchesUnt ┆ in   ┆ 2024-03-06          ┆ 66.518221  ┆ null     │\n",
       "│          ┆           ┆ ilAlarm              ┆      ┆ 04:14:39.113032     ┆            ┆          │\n",
       "│ 480001   ┆ FTW480001 ┆ WaterTank1Capacity   ┆ bbl  ┆ 2023-11-07 09:00:00 ┆ 410.476513 ┆ null     │\n",
       "│ 480001   ┆ FTW480001 ┆ WaterTank1Volume     ┆ bbl  ┆ 2024-03-06          ┆ 58.378953  ┆ null     │\n",
       "│          ┆           ┆                      ┆      ┆ 04:11:04.372011     ┆            ┆          │\n",
       "│ 480001   ┆ FTW480001 ┆ WaterTank2Volume     ┆ bbl  ┆ 2024-03-06          ┆ 232.610547 ┆ null     │\n",
       "│          ┆           ┆                      ┆      ┆ 04:11:21.206990     ┆            ┆          │\n",
       "│ 480001   ┆ FTW480001 ┆ OilTank1Level        ┆ in   ┆ 2024-03-06          ┆ 81.727208  ┆ null     │\n",
       "│          ┆           ┆                      ┆      ┆ 04:12:36.242968     ┆            ┆          │\n",
       "│ …        ┆ …         ┆ …                    ┆ …    ┆ …                   ┆ …          ┆ …        │\n",
       "│ 480001   ┆ FTW480001 ┆ ESD-OilTankID        ┆ null ┆ 2023-11-07 09:00:00 ┆ 1.0        ┆ null     │\n",
       "│ 480001   ┆ FTW480001 ┆ OilTank1Volume       ┆ bbl  ┆ 2024-03-06          ┆ 227.020022 ┆ null     │\n",
       "│          ┆           ┆                      ┆      ┆ 04:12:36.242968     ┆            ┆          │\n",
       "│ 480001   ┆ FTW480001 ┆ OilTank2Capacity     ┆ bbl  ┆ 2023-11-07 09:00:00 ┆ 406.099328 ┆ null     │\n",
       "│ 480001   ┆ FTW480001 ┆ OilTank2Level        ┆ in   ┆ 2024-03-06          ┆ 98.825588  ┆ null     │\n",
       "│          ┆           ┆                      ┆      ┆ 04:14:00.321573     ┆            ┆          │\n",
       "│ 480001   ┆ FTW480001 ┆ ESD-WaterTankID      ┆ null ┆ 2023-11-07 09:00:00 ┆ 1.0        ┆ null     │\n",
       "└──────────┴───────────┴──────────────────────┴──────┴─────────────────────┴────────────┴──────────┘"
      ]
     },
     "execution_count": 140,
     "metadata": {},
     "output_type": "execute_result"
    }
   ],
   "source": [
    "lf = lf.drop(\"unique_id\")\n",
    "lf.collect()"
   ]
  },
  {
   "cell_type": "code",
   "execution_count": 141,
   "metadata": {},
   "outputs": [
    {
     "data": {
      "text/html": [
       "<div><style>\n",
       ".dataframe > thead > tr,\n",
       ".dataframe > tbody > tr {\n",
       "  text-align: right;\n",
       "  white-space: pre-wrap;\n",
       "}\n",
       "</style>\n",
       "<small>shape: (16, 8)</small><table border=\"1\" class=\"dataframe\"><thead><tr><th>primo_id</th><th>scada_id</th><th>metric_nice_name</th><th>uom</th><th>timestamp</th><th>value</th><th>tanksize</th><th>separated_metrics</th></tr><tr><td>str</td><td>str</td><td>str</td><td>str</td><td>datetime[μs]</td><td>f64</td><td>null</td><td>struct[4]</td></tr></thead><tbody><tr><td>&quot;480001&quot;</td><td>&quot;FTW480001&quot;</td><td>&quot;ESD-OilTankInchesUntilAlarm&quot;</td><td>&quot;in&quot;</td><td>2024-03-06 04:14:39.113032</td><td>66.518221</td><td>null</td><td>{&quot;ESD-&quot;,&quot;Oil&quot;,&quot;&quot;,&quot;InchesUntilAlarm&quot;}</td></tr><tr><td>&quot;480001&quot;</td><td>&quot;FTW480001&quot;</td><td>&quot;WaterTank1Capacity&quot;</td><td>&quot;bbl&quot;</td><td>2023-11-07 09:00:00</td><td>410.476513</td><td>null</td><td>{null,&quot;Water&quot;,&quot;1&quot;,&quot;Capacity&quot;}</td></tr><tr><td>&quot;480001&quot;</td><td>&quot;FTW480001&quot;</td><td>&quot;WaterTank1Volume&quot;</td><td>&quot;bbl&quot;</td><td>2024-03-06 04:11:04.372011</td><td>58.378953</td><td>null</td><td>{null,&quot;Water&quot;,&quot;1&quot;,&quot;Volume&quot;}</td></tr><tr><td>&quot;480001&quot;</td><td>&quot;FTW480001&quot;</td><td>&quot;WaterTank2Volume&quot;</td><td>&quot;bbl&quot;</td><td>2024-03-06 04:11:21.206990</td><td>232.610547</td><td>null</td><td>{null,&quot;Water&quot;,&quot;2&quot;,&quot;Volume&quot;}</td></tr><tr><td>&quot;480001&quot;</td><td>&quot;FTW480001&quot;</td><td>&quot;OilTank1Level&quot;</td><td>&quot;in&quot;</td><td>2024-03-06 04:12:36.242968</td><td>81.727208</td><td>null</td><td>{null,&quot;Oil&quot;,&quot;1&quot;,&quot;Level&quot;}</td></tr><tr><td>&hellip;</td><td>&hellip;</td><td>&hellip;</td><td>&hellip;</td><td>&hellip;</td><td>&hellip;</td><td>&hellip;</td><td>&hellip;</td></tr><tr><td>&quot;480001&quot;</td><td>&quot;FTW480001&quot;</td><td>&quot;ESD-OilTankID&quot;</td><td>null</td><td>2023-11-07 09:00:00</td><td>1.0</td><td>null</td><td>{&quot;ESD-&quot;,&quot;Oil&quot;,&quot;&quot;,&quot;ID&quot;}</td></tr><tr><td>&quot;480001&quot;</td><td>&quot;FTW480001&quot;</td><td>&quot;OilTank1Volume&quot;</td><td>&quot;bbl&quot;</td><td>2024-03-06 04:12:36.242968</td><td>227.020022</td><td>null</td><td>{null,&quot;Oil&quot;,&quot;1&quot;,&quot;Volume&quot;}</td></tr><tr><td>&quot;480001&quot;</td><td>&quot;FTW480001&quot;</td><td>&quot;OilTank2Capacity&quot;</td><td>&quot;bbl&quot;</td><td>2023-11-07 09:00:00</td><td>406.099328</td><td>null</td><td>{null,&quot;Oil&quot;,&quot;2&quot;,&quot;Capacity&quot;}</td></tr><tr><td>&quot;480001&quot;</td><td>&quot;FTW480001&quot;</td><td>&quot;OilTank2Level&quot;</td><td>&quot;in&quot;</td><td>2024-03-06 04:14:00.321573</td><td>98.825588</td><td>null</td><td>{null,&quot;Oil&quot;,&quot;2&quot;,&quot;Level&quot;}</td></tr><tr><td>&quot;480001&quot;</td><td>&quot;FTW480001&quot;</td><td>&quot;ESD-WaterTankID&quot;</td><td>null</td><td>2023-11-07 09:00:00</td><td>1.0</td><td>null</td><td>{&quot;ESD-&quot;,&quot;Water&quot;,&quot;&quot;,&quot;ID&quot;}</td></tr></tbody></table></div>"
      ],
      "text/plain": [
       "shape: (16, 8)\n",
       "┌──────────┬───────────┬──────────────┬──────┬──────────────┬────────────┬──────────┬──────────────┐\n",
       "│ primo_id ┆ scada_id  ┆ metric_nice_ ┆ uom  ┆ timestamp    ┆ value      ┆ tanksize ┆ separated_me │\n",
       "│ ---      ┆ ---       ┆ name         ┆ ---  ┆ ---          ┆ ---        ┆ ---      ┆ trics        │\n",
       "│ str      ┆ str       ┆ ---          ┆ str  ┆ datetime[μs] ┆ f64        ┆ null     ┆ ---          │\n",
       "│          ┆           ┆ str          ┆      ┆              ┆            ┆          ┆ struct[4]    │\n",
       "╞══════════╪═══════════╪══════════════╪══════╪══════════════╪════════════╪══════════╪══════════════╡\n",
       "│ 480001   ┆ FTW480001 ┆ ESD-OilTankI ┆ in   ┆ 2024-03-06   ┆ 66.518221  ┆ null     ┆ {\"ESD-\",\"Oil │\n",
       "│          ┆           ┆ nchesUntilAl ┆      ┆ 04:14:39.113 ┆            ┆          ┆ \",\"\",\"Inches │\n",
       "│          ┆           ┆ arm          ┆      ┆ 032          ┆            ┆          ┆ UntilA…      │\n",
       "│ 480001   ┆ FTW480001 ┆ WaterTank1Ca ┆ bbl  ┆ 2023-11-07   ┆ 410.476513 ┆ null     ┆ {null,\"Water │\n",
       "│          ┆           ┆ pacity       ┆      ┆ 09:00:00     ┆            ┆          ┆ \",\"1\",\"Capac │\n",
       "│          ┆           ┆              ┆      ┆              ┆            ┆          ┆ ity\"}        │\n",
       "│ 480001   ┆ FTW480001 ┆ WaterTank1Vo ┆ bbl  ┆ 2024-03-06   ┆ 58.378953  ┆ null     ┆ {null,\"Water │\n",
       "│          ┆           ┆ lume         ┆      ┆ 04:11:04.372 ┆            ┆          ┆ \",\"1\",\"Volum │\n",
       "│          ┆           ┆              ┆      ┆ 011          ┆            ┆          ┆ e\"}          │\n",
       "│ 480001   ┆ FTW480001 ┆ WaterTank2Vo ┆ bbl  ┆ 2024-03-06   ┆ 232.610547 ┆ null     ┆ {null,\"Water │\n",
       "│          ┆           ┆ lume         ┆      ┆ 04:11:21.206 ┆            ┆          ┆ \",\"2\",\"Volum │\n",
       "│          ┆           ┆              ┆      ┆ 990          ┆            ┆          ┆ e\"}          │\n",
       "│ 480001   ┆ FTW480001 ┆ OilTank1Leve ┆ in   ┆ 2024-03-06   ┆ 81.727208  ┆ null     ┆ {null,\"Oil\", │\n",
       "│          ┆           ┆ l            ┆      ┆ 04:12:36.242 ┆            ┆          ┆ \"1\",\"Level\"} │\n",
       "│          ┆           ┆              ┆      ┆ 968          ┆            ┆          ┆              │\n",
       "│ …        ┆ …         ┆ …            ┆ …    ┆ …            ┆ …          ┆ …        ┆ …            │\n",
       "│ 480001   ┆ FTW480001 ┆ ESD-OilTankI ┆ null ┆ 2023-11-07   ┆ 1.0        ┆ null     ┆ {\"ESD-\",\"Oil │\n",
       "│          ┆           ┆ D            ┆      ┆ 09:00:00     ┆            ┆          ┆ \",\"\",\"ID\"}   │\n",
       "│ 480001   ┆ FTW480001 ┆ OilTank1Volu ┆ bbl  ┆ 2024-03-06   ┆ 227.020022 ┆ null     ┆ {null,\"Oil\", │\n",
       "│          ┆           ┆ me           ┆      ┆ 04:12:36.242 ┆            ┆          ┆ \"1\",\"Volume\" │\n",
       "│          ┆           ┆              ┆      ┆ 968          ┆            ┆          ┆ }            │\n",
       "│ 480001   ┆ FTW480001 ┆ OilTank2Capa ┆ bbl  ┆ 2023-11-07   ┆ 406.099328 ┆ null     ┆ {null,\"Oil\", │\n",
       "│          ┆           ┆ city         ┆      ┆ 09:00:00     ┆            ┆          ┆ \"2\",\"Capacit │\n",
       "│          ┆           ┆              ┆      ┆              ┆            ┆          ┆ y\"}          │\n",
       "│ 480001   ┆ FTW480001 ┆ OilTank2Leve ┆ in   ┆ 2024-03-06   ┆ 98.825588  ┆ null     ┆ {null,\"Oil\", │\n",
       "│          ┆           ┆ l            ┆      ┆ 04:14:00.321 ┆            ┆          ┆ \"2\",\"Level\"} │\n",
       "│          ┆           ┆              ┆      ┆ 573          ┆            ┆          ┆              │\n",
       "│ 480001   ┆ FTW480001 ┆ ESD-WaterTan ┆ null ┆ 2023-11-07   ┆ 1.0        ┆ null     ┆ {\"ESD-\",\"Wat │\n",
       "│          ┆           ┆ kID          ┆      ┆ 09:00:00     ┆            ┆          ┆ er\",\"\",\"ID\"} │\n",
       "└──────────┴───────────┴──────────────┴──────┴──────────────┴────────────┴──────────┴──────────────┘"
      ]
     },
     "execution_count": 141,
     "metadata": {},
     "output_type": "execute_result"
    }
   ],
   "source": [
    "tank_metrics = [\"Level\", \"Volume\", \"InchesUntilAlarm\", \"InchesToESD\", \"TimeUntilESD\", \"Capacity\", \"ID\"]\n",
    "tank_types = [\"Water\", \"Oil\"]\n",
    "\n",
    "tank_metrics_str= \"|\".join(tank_metrics)\n",
    "tank_types_str = \"|\".join(tank_types)\n",
    "\n",
    "pattern = f'^(?<is_ESD>ESD-)?(?<tank_type>{tank_types_str})Tank(?<tank_number>[0-9]*)(?<tank_metric>{tank_metrics_str})'\n",
    "lf = lf.with_columns(separated_metrics = pl.col(\"metric_nice_name\").str.extract_groups(pattern))\n",
    "lf.collect()"
   ]
  },
  {
   "cell_type": "code",
   "execution_count": 142,
   "metadata": {},
   "outputs": [
    {
     "data": {
      "text/html": [
       "<div><style>\n",
       ".dataframe > thead > tr,\n",
       ".dataframe > tbody > tr {\n",
       "  text-align: right;\n",
       "  white-space: pre-wrap;\n",
       "}\n",
       "</style>\n",
       "<small>shape: (16, 11)</small><table border=\"1\" class=\"dataframe\"><thead><tr><th>primo_id</th><th>scada_id</th><th>metric_nice_name</th><th>uom</th><th>timestamp</th><th>value</th><th>tanksize</th><th>is_ESD</th><th>tank_type</th><th>tank_number</th><th>tank_metric</th></tr><tr><td>str</td><td>str</td><td>str</td><td>str</td><td>datetime[μs]</td><td>f64</td><td>null</td><td>str</td><td>str</td><td>str</td><td>str</td></tr></thead><tbody><tr><td>&quot;480001&quot;</td><td>&quot;FTW480001&quot;</td><td>&quot;ESD-OilTankInchesUntilAlarm&quot;</td><td>&quot;in&quot;</td><td>2024-03-06 04:14:39.113032</td><td>66.518221</td><td>null</td><td>&quot;ESD-&quot;</td><td>&quot;Oil&quot;</td><td>&quot;&quot;</td><td>&quot;InchesUntilAlarm&quot;</td></tr><tr><td>&quot;480001&quot;</td><td>&quot;FTW480001&quot;</td><td>&quot;WaterTank1Capacity&quot;</td><td>&quot;bbl&quot;</td><td>2023-11-07 09:00:00</td><td>410.476513</td><td>null</td><td>null</td><td>&quot;Water&quot;</td><td>&quot;1&quot;</td><td>&quot;Capacity&quot;</td></tr><tr><td>&quot;480001&quot;</td><td>&quot;FTW480001&quot;</td><td>&quot;WaterTank1Volume&quot;</td><td>&quot;bbl&quot;</td><td>2024-03-06 04:11:04.372011</td><td>58.378953</td><td>null</td><td>null</td><td>&quot;Water&quot;</td><td>&quot;1&quot;</td><td>&quot;Volume&quot;</td></tr><tr><td>&quot;480001&quot;</td><td>&quot;FTW480001&quot;</td><td>&quot;WaterTank2Volume&quot;</td><td>&quot;bbl&quot;</td><td>2024-03-06 04:11:21.206990</td><td>232.610547</td><td>null</td><td>null</td><td>&quot;Water&quot;</td><td>&quot;2&quot;</td><td>&quot;Volume&quot;</td></tr><tr><td>&quot;480001&quot;</td><td>&quot;FTW480001&quot;</td><td>&quot;OilTank1Level&quot;</td><td>&quot;in&quot;</td><td>2024-03-06 04:12:36.242968</td><td>81.727208</td><td>null</td><td>null</td><td>&quot;Oil&quot;</td><td>&quot;1&quot;</td><td>&quot;Level&quot;</td></tr><tr><td>&hellip;</td><td>&hellip;</td><td>&hellip;</td><td>&hellip;</td><td>&hellip;</td><td>&hellip;</td><td>&hellip;</td><td>&hellip;</td><td>&hellip;</td><td>&hellip;</td><td>&hellip;</td></tr><tr><td>&quot;480001&quot;</td><td>&quot;FTW480001&quot;</td><td>&quot;ESD-OilTankID&quot;</td><td>null</td><td>2023-11-07 09:00:00</td><td>1.0</td><td>null</td><td>&quot;ESD-&quot;</td><td>&quot;Oil&quot;</td><td>&quot;&quot;</td><td>&quot;ID&quot;</td></tr><tr><td>&quot;480001&quot;</td><td>&quot;FTW480001&quot;</td><td>&quot;OilTank1Volume&quot;</td><td>&quot;bbl&quot;</td><td>2024-03-06 04:12:36.242968</td><td>227.020022</td><td>null</td><td>null</td><td>&quot;Oil&quot;</td><td>&quot;1&quot;</td><td>&quot;Volume&quot;</td></tr><tr><td>&quot;480001&quot;</td><td>&quot;FTW480001&quot;</td><td>&quot;OilTank2Capacity&quot;</td><td>&quot;bbl&quot;</td><td>2023-11-07 09:00:00</td><td>406.099328</td><td>null</td><td>null</td><td>&quot;Oil&quot;</td><td>&quot;2&quot;</td><td>&quot;Capacity&quot;</td></tr><tr><td>&quot;480001&quot;</td><td>&quot;FTW480001&quot;</td><td>&quot;OilTank2Level&quot;</td><td>&quot;in&quot;</td><td>2024-03-06 04:14:00.321573</td><td>98.825588</td><td>null</td><td>null</td><td>&quot;Oil&quot;</td><td>&quot;2&quot;</td><td>&quot;Level&quot;</td></tr><tr><td>&quot;480001&quot;</td><td>&quot;FTW480001&quot;</td><td>&quot;ESD-WaterTankID&quot;</td><td>null</td><td>2023-11-07 09:00:00</td><td>1.0</td><td>null</td><td>&quot;ESD-&quot;</td><td>&quot;Water&quot;</td><td>&quot;&quot;</td><td>&quot;ID&quot;</td></tr></tbody></table></div>"
      ],
      "text/plain": [
       "shape: (16, 11)\n",
       "┌──────────┬───────────┬──────────────┬──────┬───┬────────┬───────────┬─────────────┬──────────────┐\n",
       "│ primo_id ┆ scada_id  ┆ metric_nice_ ┆ uom  ┆ … ┆ is_ESD ┆ tank_type ┆ tank_number ┆ tank_metric  │\n",
       "│ ---      ┆ ---       ┆ name         ┆ ---  ┆   ┆ ---    ┆ ---       ┆ ---         ┆ ---          │\n",
       "│ str      ┆ str       ┆ ---          ┆ str  ┆   ┆ str    ┆ str       ┆ str         ┆ str          │\n",
       "│          ┆           ┆ str          ┆      ┆   ┆        ┆           ┆             ┆              │\n",
       "╞══════════╪═══════════╪══════════════╪══════╪═══╪════════╪═══════════╪═════════════╪══════════════╡\n",
       "│ 480001   ┆ FTW480001 ┆ ESD-OilTankI ┆ in   ┆ … ┆ ESD-   ┆ Oil       ┆             ┆ InchesUntilA │\n",
       "│          ┆           ┆ nchesUntilAl ┆      ┆   ┆        ┆           ┆             ┆ larm         │\n",
       "│          ┆           ┆ arm          ┆      ┆   ┆        ┆           ┆             ┆              │\n",
       "│ 480001   ┆ FTW480001 ┆ WaterTank1Ca ┆ bbl  ┆ … ┆ null   ┆ Water     ┆ 1           ┆ Capacity     │\n",
       "│          ┆           ┆ pacity       ┆      ┆   ┆        ┆           ┆             ┆              │\n",
       "│ 480001   ┆ FTW480001 ┆ WaterTank1Vo ┆ bbl  ┆ … ┆ null   ┆ Water     ┆ 1           ┆ Volume       │\n",
       "│          ┆           ┆ lume         ┆      ┆   ┆        ┆           ┆             ┆              │\n",
       "│ 480001   ┆ FTW480001 ┆ WaterTank2Vo ┆ bbl  ┆ … ┆ null   ┆ Water     ┆ 2           ┆ Volume       │\n",
       "│          ┆           ┆ lume         ┆      ┆   ┆        ┆           ┆             ┆              │\n",
       "│ 480001   ┆ FTW480001 ┆ OilTank1Leve ┆ in   ┆ … ┆ null   ┆ Oil       ┆ 1           ┆ Level        │\n",
       "│          ┆           ┆ l            ┆      ┆   ┆        ┆           ┆             ┆              │\n",
       "│ …        ┆ …         ┆ …            ┆ …    ┆ … ┆ …      ┆ …         ┆ …           ┆ …            │\n",
       "│ 480001   ┆ FTW480001 ┆ ESD-OilTankI ┆ null ┆ … ┆ ESD-   ┆ Oil       ┆             ┆ ID           │\n",
       "│          ┆           ┆ D            ┆      ┆   ┆        ┆           ┆             ┆              │\n",
       "│ 480001   ┆ FTW480001 ┆ OilTank1Volu ┆ bbl  ┆ … ┆ null   ┆ Oil       ┆ 1           ┆ Volume       │\n",
       "│          ┆           ┆ me           ┆      ┆   ┆        ┆           ┆             ┆              │\n",
       "│ 480001   ┆ FTW480001 ┆ OilTank2Capa ┆ bbl  ┆ … ┆ null   ┆ Oil       ┆ 2           ┆ Capacity     │\n",
       "│          ┆           ┆ city         ┆      ┆   ┆        ┆           ┆             ┆              │\n",
       "│ 480001   ┆ FTW480001 ┆ OilTank2Leve ┆ in   ┆ … ┆ null   ┆ Oil       ┆ 2           ┆ Level        │\n",
       "│          ┆           ┆ l            ┆      ┆   ┆        ┆           ┆             ┆              │\n",
       "│ 480001   ┆ FTW480001 ┆ ESD-WaterTan ┆ null ┆ … ┆ ESD-   ┆ Water     ┆             ┆ ID           │\n",
       "│          ┆           ┆ kID          ┆      ┆   ┆        ┆           ┆             ┆              │\n",
       "└──────────┴───────────┴──────────────┴──────┴───┴────────┴───────────┴─────────────┴──────────────┘"
      ]
     },
     "execution_count": 142,
     "metadata": {},
     "output_type": "execute_result"
    }
   ],
   "source": [
    "lf = lf.unnest(\"separated_metrics\")\n",
    "lf.collect()"
   ]
  },
  {
   "cell_type": "code",
   "execution_count": 143,
   "metadata": {},
   "outputs": [
    {
     "data": {
      "text/html": [
       "<div><style>\n",
       ".dataframe > thead > tr,\n",
       ".dataframe > tbody > tr {\n",
       "  text-align: right;\n",
       "  white-space: pre-wrap;\n",
       "}\n",
       "</style>\n",
       "<small>shape: (16, 11)</small><table border=\"1\" class=\"dataframe\"><thead><tr><th>primo_id</th><th>scada_id</th><th>metric_nice_name</th><th>uom</th><th>timestamp</th><th>value</th><th>tanksize</th><th>is_ESD</th><th>tank_type</th><th>tank_number</th><th>tank_metric</th></tr><tr><td>str</td><td>str</td><td>str</td><td>str</td><td>datetime[μs]</td><td>f64</td><td>null</td><td>str</td><td>str</td><td>u8</td><td>str</td></tr></thead><tbody><tr><td>&quot;480001&quot;</td><td>&quot;FTW480001&quot;</td><td>&quot;ESD-OilTankInchesUntilAlarm&quot;</td><td>&quot;in&quot;</td><td>2024-03-06 04:14:39.113032</td><td>66.518221</td><td>null</td><td>&quot;ESD-&quot;</td><td>&quot;Oil&quot;</td><td>null</td><td>&quot;InchesUntilAlarm&quot;</td></tr><tr><td>&quot;480001&quot;</td><td>&quot;FTW480001&quot;</td><td>&quot;WaterTank1Capacity&quot;</td><td>&quot;bbl&quot;</td><td>2023-11-07 09:00:00</td><td>410.476513</td><td>null</td><td>null</td><td>&quot;Water&quot;</td><td>1</td><td>&quot;Capacity&quot;</td></tr><tr><td>&quot;480001&quot;</td><td>&quot;FTW480001&quot;</td><td>&quot;WaterTank1Volume&quot;</td><td>&quot;bbl&quot;</td><td>2024-03-06 04:11:04.372011</td><td>58.378953</td><td>null</td><td>null</td><td>&quot;Water&quot;</td><td>1</td><td>&quot;Volume&quot;</td></tr><tr><td>&quot;480001&quot;</td><td>&quot;FTW480001&quot;</td><td>&quot;WaterTank2Volume&quot;</td><td>&quot;bbl&quot;</td><td>2024-03-06 04:11:21.206990</td><td>232.610547</td><td>null</td><td>null</td><td>&quot;Water&quot;</td><td>2</td><td>&quot;Volume&quot;</td></tr><tr><td>&quot;480001&quot;</td><td>&quot;FTW480001&quot;</td><td>&quot;OilTank1Level&quot;</td><td>&quot;in&quot;</td><td>2024-03-06 04:12:36.242968</td><td>81.727208</td><td>null</td><td>null</td><td>&quot;Oil&quot;</td><td>1</td><td>&quot;Level&quot;</td></tr><tr><td>&hellip;</td><td>&hellip;</td><td>&hellip;</td><td>&hellip;</td><td>&hellip;</td><td>&hellip;</td><td>&hellip;</td><td>&hellip;</td><td>&hellip;</td><td>&hellip;</td><td>&hellip;</td></tr><tr><td>&quot;480001&quot;</td><td>&quot;FTW480001&quot;</td><td>&quot;ESD-OilTankID&quot;</td><td>null</td><td>2023-11-07 09:00:00</td><td>1.0</td><td>null</td><td>&quot;ESD-&quot;</td><td>&quot;Oil&quot;</td><td>null</td><td>&quot;ID&quot;</td></tr><tr><td>&quot;480001&quot;</td><td>&quot;FTW480001&quot;</td><td>&quot;OilTank1Volume&quot;</td><td>&quot;bbl&quot;</td><td>2024-03-06 04:12:36.242968</td><td>227.020022</td><td>null</td><td>null</td><td>&quot;Oil&quot;</td><td>1</td><td>&quot;Volume&quot;</td></tr><tr><td>&quot;480001&quot;</td><td>&quot;FTW480001&quot;</td><td>&quot;OilTank2Capacity&quot;</td><td>&quot;bbl&quot;</td><td>2023-11-07 09:00:00</td><td>406.099328</td><td>null</td><td>null</td><td>&quot;Oil&quot;</td><td>2</td><td>&quot;Capacity&quot;</td></tr><tr><td>&quot;480001&quot;</td><td>&quot;FTW480001&quot;</td><td>&quot;OilTank2Level&quot;</td><td>&quot;in&quot;</td><td>2024-03-06 04:14:00.321573</td><td>98.825588</td><td>null</td><td>null</td><td>&quot;Oil&quot;</td><td>2</td><td>&quot;Level&quot;</td></tr><tr><td>&quot;480001&quot;</td><td>&quot;FTW480001&quot;</td><td>&quot;ESD-WaterTankID&quot;</td><td>null</td><td>2023-11-07 09:00:00</td><td>1.0</td><td>null</td><td>&quot;ESD-&quot;</td><td>&quot;Water&quot;</td><td>null</td><td>&quot;ID&quot;</td></tr></tbody></table></div>"
      ],
      "text/plain": [
       "shape: (16, 11)\n",
       "┌──────────┬───────────┬──────────────┬──────┬───┬────────┬───────────┬─────────────┬──────────────┐\n",
       "│ primo_id ┆ scada_id  ┆ metric_nice_ ┆ uom  ┆ … ┆ is_ESD ┆ tank_type ┆ tank_number ┆ tank_metric  │\n",
       "│ ---      ┆ ---       ┆ name         ┆ ---  ┆   ┆ ---    ┆ ---       ┆ ---         ┆ ---          │\n",
       "│ str      ┆ str       ┆ ---          ┆ str  ┆   ┆ str    ┆ str       ┆ u8          ┆ str          │\n",
       "│          ┆           ┆ str          ┆      ┆   ┆        ┆           ┆             ┆              │\n",
       "╞══════════╪═══════════╪══════════════╪══════╪═══╪════════╪═══════════╪═════════════╪══════════════╡\n",
       "│ 480001   ┆ FTW480001 ┆ ESD-OilTankI ┆ in   ┆ … ┆ ESD-   ┆ Oil       ┆ null        ┆ InchesUntilA │\n",
       "│          ┆           ┆ nchesUntilAl ┆      ┆   ┆        ┆           ┆             ┆ larm         │\n",
       "│          ┆           ┆ arm          ┆      ┆   ┆        ┆           ┆             ┆              │\n",
       "│ 480001   ┆ FTW480001 ┆ WaterTank1Ca ┆ bbl  ┆ … ┆ null   ┆ Water     ┆ 1           ┆ Capacity     │\n",
       "│          ┆           ┆ pacity       ┆      ┆   ┆        ┆           ┆             ┆              │\n",
       "│ 480001   ┆ FTW480001 ┆ WaterTank1Vo ┆ bbl  ┆ … ┆ null   ┆ Water     ┆ 1           ┆ Volume       │\n",
       "│          ┆           ┆ lume         ┆      ┆   ┆        ┆           ┆             ┆              │\n",
       "│ 480001   ┆ FTW480001 ┆ WaterTank2Vo ┆ bbl  ┆ … ┆ null   ┆ Water     ┆ 2           ┆ Volume       │\n",
       "│          ┆           ┆ lume         ┆      ┆   ┆        ┆           ┆             ┆              │\n",
       "│ 480001   ┆ FTW480001 ┆ OilTank1Leve ┆ in   ┆ … ┆ null   ┆ Oil       ┆ 1           ┆ Level        │\n",
       "│          ┆           ┆ l            ┆      ┆   ┆        ┆           ┆             ┆              │\n",
       "│ …        ┆ …         ┆ …            ┆ …    ┆ … ┆ …      ┆ …         ┆ …           ┆ …            │\n",
       "│ 480001   ┆ FTW480001 ┆ ESD-OilTankI ┆ null ┆ … ┆ ESD-   ┆ Oil       ┆ null        ┆ ID           │\n",
       "│          ┆           ┆ D            ┆      ┆   ┆        ┆           ┆             ┆              │\n",
       "│ 480001   ┆ FTW480001 ┆ OilTank1Volu ┆ bbl  ┆ … ┆ null   ┆ Oil       ┆ 1           ┆ Volume       │\n",
       "│          ┆           ┆ me           ┆      ┆   ┆        ┆           ┆             ┆              │\n",
       "│ 480001   ┆ FTW480001 ┆ OilTank2Capa ┆ bbl  ┆ … ┆ null   ┆ Oil       ┆ 2           ┆ Capacity     │\n",
       "│          ┆           ┆ city         ┆      ┆   ┆        ┆           ┆             ┆              │\n",
       "│ 480001   ┆ FTW480001 ┆ OilTank2Leve ┆ in   ┆ … ┆ null   ┆ Oil       ┆ 2           ┆ Level        │\n",
       "│          ┆           ┆ l            ┆      ┆   ┆        ┆           ┆             ┆              │\n",
       "│ 480001   ┆ FTW480001 ┆ ESD-WaterTan ┆ null ┆ … ┆ ESD-   ┆ Water     ┆ null        ┆ ID           │\n",
       "│          ┆           ┆ kID          ┆      ┆   ┆        ┆           ┆             ┆              │\n",
       "└──────────┴───────────┴──────────────┴──────┴───┴────────┴───────────┴─────────────┴──────────────┘"
      ]
     },
     "execution_count": 143,
     "metadata": {},
     "output_type": "execute_result"
    }
   ],
   "source": [
    "lf = lf.with_columns(pl.col(\"tank_number\").cast(pl.UInt8, strict=False))\n",
    "lf.collect()"
   ]
  },
  {
   "cell_type": "code",
   "execution_count": 144,
   "metadata": {},
   "outputs": [
    {
     "data": {
      "text/html": [
       "<div><style>\n",
       ".dataframe > thead > tr,\n",
       ".dataframe > tbody > tr {\n",
       "  text-align: right;\n",
       "  white-space: pre-wrap;\n",
       "}\n",
       "</style>\n",
       "<small>shape: (6, 11)</small><table border=\"1\" class=\"dataframe\"><thead><tr><th>primo_id</th><th>tank_type</th><th>tank_number</th><th>scada_id</th><th>Level</th><th>Volume</th><th>InchesUntilAlarm</th><th>InchesToESD</th><th>TimeUntilESD</th><th>Capacity</th><th>ID</th></tr><tr><td>str</td><td>str</td><td>u8</td><td>str</td><td>f64</td><td>f64</td><td>f64</td><td>f64</td><td>f64</td><td>f64</td><td>f64</td></tr></thead><tbody><tr><td>&quot;480001&quot;</td><td>&quot;Oil&quot;</td><td>1</td><td>&quot;FTW480001&quot;</td><td>81.727208</td><td>227.020022</td><td>null</td><td>null</td><td>null</td><td>413.344118</td><td>null</td></tr><tr><td>&quot;480001&quot;</td><td>&quot;Oil&quot;</td><td>2</td><td>&quot;FTW480001&quot;</td><td>98.825588</td><td>274.515522</td><td>null</td><td>null</td><td>null</td><td>406.099328</td><td>null</td></tr><tr><td>&quot;480001&quot;</td><td>&quot;Water&quot;</td><td>null</td><td>&quot;FTW480001&quot;</td><td>null</td><td>null</td><td>173.40877</td><td>null</td><td>null</td><td>null</td><td>1.0</td></tr><tr><td>&quot;480001&quot;</td><td>&quot;Water&quot;</td><td>1</td><td>&quot;FTW480001&quot;</td><td>21.016423</td><td>58.378953</td><td>null</td><td>null</td><td>null</td><td>410.476513</td><td>null</td></tr><tr><td>&quot;480001&quot;</td><td>&quot;Water&quot;</td><td>2</td><td>&quot;FTW480001&quot;</td><td>83.739797</td><td>232.610547</td><td>null</td><td>null</td><td>null</td><td>409.718222</td><td>null</td></tr><tr><td>&quot;480001&quot;</td><td>&quot;Oil&quot;</td><td>null</td><td>&quot;FTW480001&quot;</td><td>null</td><td>null</td><td>66.518221</td><td>null</td><td>null</td><td>null</td><td>1.0</td></tr></tbody></table></div>"
      ],
      "text/plain": [
       "shape: (6, 11)\n",
       "┌──────────┬───────────┬─────────────┬───────────┬───┬────────────┬────────────┬────────────┬──────┐\n",
       "│ primo_id ┆ tank_type ┆ tank_number ┆ scada_id  ┆ … ┆ InchesToES ┆ TimeUntilE ┆ Capacity   ┆ ID   │\n",
       "│ ---      ┆ ---       ┆ ---         ┆ ---       ┆   ┆ D          ┆ SD         ┆ ---        ┆ ---  │\n",
       "│ str      ┆ str       ┆ u8          ┆ str       ┆   ┆ ---        ┆ ---        ┆ f64        ┆ f64  │\n",
       "│          ┆           ┆             ┆           ┆   ┆ f64        ┆ f64        ┆            ┆      │\n",
       "╞══════════╪═══════════╪═════════════╪═══════════╪═══╪════════════╪════════════╪════════════╪══════╡\n",
       "│ 480001   ┆ Oil       ┆ 1           ┆ FTW480001 ┆ … ┆ null       ┆ null       ┆ 413.344118 ┆ null │\n",
       "│ 480001   ┆ Oil       ┆ 2           ┆ FTW480001 ┆ … ┆ null       ┆ null       ┆ 406.099328 ┆ null │\n",
       "│ 480001   ┆ Water     ┆ null        ┆ FTW480001 ┆ … ┆ null       ┆ null       ┆ null       ┆ 1.0  │\n",
       "│ 480001   ┆ Water     ┆ 1           ┆ FTW480001 ┆ … ┆ null       ┆ null       ┆ 410.476513 ┆ null │\n",
       "│ 480001   ┆ Water     ┆ 2           ┆ FTW480001 ┆ … ┆ null       ┆ null       ┆ 409.718222 ┆ null │\n",
       "│ 480001   ┆ Oil       ┆ null        ┆ FTW480001 ┆ … ┆ null       ┆ null       ┆ null       ┆ 1.0  │\n",
       "└──────────┴───────────┴─────────────┴───────────┴───┴────────────┴────────────┴────────────┴──────┘"
      ]
     },
     "execution_count": 144,
     "metadata": {},
     "output_type": "execute_result"
    }
   ],
   "source": [
    "#pivoting the data\n",
    "values = pl.col(\"value\")\n",
    "columns = pl.col(\"tank_metric\")\n",
    "pivoted_lf = lf.group_by(\"primo_id\", \"tank_type\", \"tank_number\", \"scada_id\").agg(\n",
    "    values.filter(columns == metric).first().alias(metric) for metric in tank_metrics\n",
    ")\n",
    "\n",
    "pivoted_lf.collect()"
   ]
  },
  {
   "cell_type": "code",
   "execution_count": 145,
   "metadata": {},
   "outputs": [
    {
     "data": {
      "text/html": [
       "<div><style>\n",
       ".dataframe > thead > tr,\n",
       ".dataframe > tbody > tr {\n",
       "  text-align: right;\n",
       "  white-space: pre-wrap;\n",
       "}\n",
       "</style>\n",
       "<small>shape: (2, 10)</small><table border=\"1\" class=\"dataframe\"><thead><tr><th>primo_id</th><th>tank_type</th><th>tank_number</th><th>scada_id</th><th>Level</th><th>Volume</th><th>InchesUntilAlarm</th><th>InchesToESD</th><th>TimeUntilESD</th><th>Capacity</th></tr><tr><td>str</td><td>str</td><td>u8</td><td>str</td><td>f64</td><td>f64</td><td>f64</td><td>f64</td><td>f64</td><td>f64</td></tr></thead><tbody><tr><td>&quot;480001&quot;</td><td>&quot;Water&quot;</td><td>1</td><td>&quot;FTW480001&quot;</td><td>null</td><td>null</td><td>173.40877</td><td>null</td><td>null</td><td>null</td></tr><tr><td>&quot;480001&quot;</td><td>&quot;Oil&quot;</td><td>1</td><td>&quot;FTW480001&quot;</td><td>null</td><td>null</td><td>66.518221</td><td>null</td><td>null</td><td>null</td></tr></tbody></table></div>"
      ],
      "text/plain": [
       "shape: (2, 10)\n",
       "┌──────────┬───────────┬────────────┬───────────┬───┬───────────┬───────────┬───────────┬──────────┐\n",
       "│ primo_id ┆ tank_type ┆ tank_numbe ┆ scada_id  ┆ … ┆ InchesUnt ┆ InchesToE ┆ TimeUntil ┆ Capacity │\n",
       "│ ---      ┆ ---       ┆ r          ┆ ---       ┆   ┆ ilAlarm   ┆ SD        ┆ ESD       ┆ ---      │\n",
       "│ str      ┆ str       ┆ ---        ┆ str       ┆   ┆ ---       ┆ ---       ┆ ---       ┆ f64      │\n",
       "│          ┆           ┆ u8         ┆           ┆   ┆ f64       ┆ f64       ┆ f64       ┆          │\n",
       "╞══════════╪═══════════╪════════════╪═══════════╪═══╪═══════════╪═══════════╪═══════════╪══════════╡\n",
       "│ 480001   ┆ Water     ┆ 1          ┆ FTW480001 ┆ … ┆ 173.40877 ┆ null      ┆ null      ┆ null     │\n",
       "│ 480001   ┆ Oil       ┆ 1          ┆ FTW480001 ┆ … ┆ 66.518221 ┆ null      ┆ null      ┆ null     │\n",
       "└──────────┴───────────┴────────────┴───────────┴───┴───────────┴───────────┴───────────┴──────────┘"
      ]
     },
     "execution_count": 145,
     "metadata": {},
     "output_type": "execute_result"
    }
   ],
   "source": [
    "null_condition = pl.col(\"tank_number\").is_null()\n",
    "not_null_condition = pl.col(\"tank_number\").is_not_null()\n",
    "\n",
    "null_tanks = pivoted_lf.filter(null_condition)\n",
    "numbered_tanks = pivoted_lf.filter(not_null_condition)\n",
    "\n",
    "null_tanks = null_tanks.with_columns(pl.col(\"ID\").alias(\"tank_number\"))\n",
    "null_tanks = null_tanks.drop(\"ID\")\n",
    "null_tanks = null_tanks.with_columns(pl.col(\"tank_number\").cast(pl.UInt8, strict=False))\n",
    "\n",
    "null_tanks.collect()"
   ]
  },
  {
   "cell_type": "code",
   "execution_count": 146,
   "metadata": {},
   "outputs": [
    {
     "data": {
      "text/html": [
       "<div><style>\n",
       ".dataframe > thead > tr,\n",
       ".dataframe > tbody > tr {\n",
       "  text-align: right;\n",
       "  white-space: pre-wrap;\n",
       "}\n",
       "</style>\n",
       "<small>shape: (4, 18)</small><table border=\"1\" class=\"dataframe\"><thead><tr><th>primo_id</th><th>tank_type</th><th>tank_number</th><th>scada_id</th><th>Level</th><th>Volume</th><th>InchesUntilAlarm</th><th>InchesToESD</th><th>TimeUntilESD</th><th>Capacity</th><th>ID</th><th>scada_id_right</th><th>Level_right</th><th>Volume_right</th><th>InchesUntilAlarm_right</th><th>InchesToESD_right</th><th>TimeUntilESD_right</th><th>Capacity_right</th></tr><tr><td>str</td><td>str</td><td>u8</td><td>str</td><td>f64</td><td>f64</td><td>f64</td><td>f64</td><td>f64</td><td>f64</td><td>f64</td><td>str</td><td>f64</td><td>f64</td><td>f64</td><td>f64</td><td>f64</td><td>f64</td></tr></thead><tbody><tr><td>&quot;480001&quot;</td><td>&quot;Water&quot;</td><td>1</td><td>&quot;FTW480001&quot;</td><td>21.016423</td><td>58.378953</td><td>null</td><td>null</td><td>null</td><td>410.476513</td><td>null</td><td>&quot;FTW480001&quot;</td><td>null</td><td>null</td><td>173.40877</td><td>null</td><td>null</td><td>null</td></tr><tr><td>&quot;480001&quot;</td><td>&quot;Oil&quot;</td><td>1</td><td>&quot;FTW480001&quot;</td><td>81.727208</td><td>227.020022</td><td>null</td><td>null</td><td>null</td><td>413.344118</td><td>null</td><td>&quot;FTW480001&quot;</td><td>null</td><td>null</td><td>66.518221</td><td>null</td><td>null</td><td>null</td></tr><tr><td>&quot;480001&quot;</td><td>&quot;Water&quot;</td><td>2</td><td>&quot;FTW480001&quot;</td><td>83.739797</td><td>232.610547</td><td>null</td><td>null</td><td>null</td><td>409.718222</td><td>null</td><td>null</td><td>null</td><td>null</td><td>null</td><td>null</td><td>null</td><td>null</td></tr><tr><td>&quot;480001&quot;</td><td>&quot;Oil&quot;</td><td>2</td><td>&quot;FTW480001&quot;</td><td>98.825588</td><td>274.515522</td><td>null</td><td>null</td><td>null</td><td>406.099328</td><td>null</td><td>null</td><td>null</td><td>null</td><td>null</td><td>null</td><td>null</td><td>null</td></tr></tbody></table></div>"
      ],
      "text/plain": [
       "shape: (4, 18)\n",
       "┌──────────┬───────────┬───────────┬───────────┬───┬───────────┬───────────┬───────────┬───────────┐\n",
       "│ primo_id ┆ tank_type ┆ tank_numb ┆ scada_id  ┆ … ┆ InchesUnt ┆ InchesToE ┆ TimeUntil ┆ Capacity_ │\n",
       "│ ---      ┆ ---       ┆ er        ┆ ---       ┆   ┆ ilAlarm_r ┆ SD_right  ┆ ESD_right ┆ right     │\n",
       "│ str      ┆ str       ┆ ---       ┆ str       ┆   ┆ ight      ┆ ---       ┆ ---       ┆ ---       │\n",
       "│          ┆           ┆ u8        ┆           ┆   ┆ ---       ┆ f64       ┆ f64       ┆ f64       │\n",
       "│          ┆           ┆           ┆           ┆   ┆ f64       ┆           ┆           ┆           │\n",
       "╞══════════╪═══════════╪═══════════╪═══════════╪═══╪═══════════╪═══════════╪═══════════╪═══════════╡\n",
       "│ 480001   ┆ Water     ┆ 1         ┆ FTW480001 ┆ … ┆ 173.40877 ┆ null      ┆ null      ┆ null      │\n",
       "│ 480001   ┆ Oil       ┆ 1         ┆ FTW480001 ┆ … ┆ 66.518221 ┆ null      ┆ null      ┆ null      │\n",
       "│ 480001   ┆ Water     ┆ 2         ┆ FTW480001 ┆ … ┆ null      ┆ null      ┆ null      ┆ null      │\n",
       "│ 480001   ┆ Oil       ┆ 2         ┆ FTW480001 ┆ … ┆ null      ┆ null      ┆ null      ┆ null      │\n",
       "└──────────┴───────────┴───────────┴───────────┴───┴───────────┴───────────┴───────────┴───────────┘"
      ]
     },
     "execution_count": 146,
     "metadata": {},
     "output_type": "execute_result"
    }
   ],
   "source": [
    "joined_lf = numbered_tanks.join(null_tanks, on=[\"primo_id\", \"tank_type\", \"tank_number\"], how=\"left\")\n",
    "joined_lf.collect()"
   ]
  },
  {
   "cell_type": "code",
   "execution_count": 147,
   "metadata": {},
   "outputs": [
    {
     "data": {
      "text/html": [
       "<div><style>\n",
       ".dataframe > thead > tr,\n",
       ".dataframe > tbody > tr {\n",
       "  text-align: right;\n",
       "  white-space: pre-wrap;\n",
       "}\n",
       "</style>\n",
       "<small>shape: (4, 28)</small><table border=\"1\" class=\"dataframe\"><thead><tr><th>primo_id</th><th>tank_type</th><th>tank_number</th><th>scada_id</th><th>Level</th><th>Volume</th><th>InchesUntilAlarm</th><th>InchesToESD</th><th>TimeUntilESD</th><th>Capacity</th><th>ID</th><th>scada_id_right</th><th>Level_right</th><th>Volume_right</th><th>InchesUntilAlarm_right</th><th>InchesToESD_right</th><th>TimeUntilESD_right</th><th>Capacity_right</th><th>primo_id_right</th><th>metric_nice_name</th><th>uom</th><th>timestamp</th><th>value</th><th>tanksize</th><th>is_ESD</th><th>tank_type_right</th><th>tank_number_right</th><th>tank_metric</th></tr><tr><td>str</td><td>str</td><td>u8</td><td>str</td><td>f64</td><td>f64</td><td>f64</td><td>f64</td><td>f64</td><td>f64</td><td>f64</td><td>str</td><td>f64</td><td>f64</td><td>f64</td><td>f64</td><td>f64</td><td>f64</td><td>str</td><td>str</td><td>str</td><td>datetime[μs]</td><td>f64</td><td>null</td><td>str</td><td>str</td><td>u8</td><td>str</td></tr></thead><tbody><tr><td>&quot;480001&quot;</td><td>&quot;Water&quot;</td><td>2</td><td>&quot;FTW480001&quot;</td><td>83.739797</td><td>232.610547</td><td>null</td><td>null</td><td>null</td><td>409.718222</td><td>null</td><td>null</td><td>null</td><td>null</td><td>null</td><td>null</td><td>null</td><td>null</td><td>&quot;480001&quot;</td><td>&quot;ESD-OilTankInchesUntilAlarm&quot;</td><td>&quot;in&quot;</td><td>2024-03-06 04:14:39.113032</td><td>66.518221</td><td>null</td><td>&quot;ESD-&quot;</td><td>&quot;Oil&quot;</td><td>null</td><td>&quot;InchesUntilAlarm&quot;</td></tr><tr><td>&quot;480001&quot;</td><td>&quot;Water&quot;</td><td>1</td><td>&quot;FTW480001&quot;</td><td>21.016423</td><td>58.378953</td><td>null</td><td>null</td><td>null</td><td>410.476513</td><td>null</td><td>&quot;FTW480001&quot;</td><td>null</td><td>null</td><td>173.40877</td><td>null</td><td>null</td><td>null</td><td>&quot;480001&quot;</td><td>&quot;ESD-OilTankInchesUntilAlarm&quot;</td><td>&quot;in&quot;</td><td>2024-03-06 04:14:39.113032</td><td>66.518221</td><td>null</td><td>&quot;ESD-&quot;</td><td>&quot;Oil&quot;</td><td>null</td><td>&quot;InchesUntilAlarm&quot;</td></tr><tr><td>&quot;480001&quot;</td><td>&quot;Oil&quot;</td><td>2</td><td>&quot;FTW480001&quot;</td><td>98.825588</td><td>274.515522</td><td>null</td><td>null</td><td>null</td><td>406.099328</td><td>null</td><td>null</td><td>null</td><td>null</td><td>null</td><td>null</td><td>null</td><td>null</td><td>&quot;480001&quot;</td><td>&quot;ESD-OilTankInchesUntilAlarm&quot;</td><td>&quot;in&quot;</td><td>2024-03-06 04:14:39.113032</td><td>66.518221</td><td>null</td><td>&quot;ESD-&quot;</td><td>&quot;Oil&quot;</td><td>null</td><td>&quot;InchesUntilAlarm&quot;</td></tr><tr><td>&quot;480001&quot;</td><td>&quot;Oil&quot;</td><td>1</td><td>&quot;FTW480001&quot;</td><td>81.727208</td><td>227.020022</td><td>null</td><td>null</td><td>null</td><td>413.344118</td><td>null</td><td>&quot;FTW480001&quot;</td><td>null</td><td>null</td><td>66.518221</td><td>null</td><td>null</td><td>null</td><td>&quot;480001&quot;</td><td>&quot;ESD-OilTankInchesUntilAlarm&quot;</td><td>&quot;in&quot;</td><td>2024-03-06 04:14:39.113032</td><td>66.518221</td><td>null</td><td>&quot;ESD-&quot;</td><td>&quot;Oil&quot;</td><td>null</td><td>&quot;InchesUntilAlarm&quot;</td></tr></tbody></table></div>"
      ],
      "text/plain": [
       "shape: (4, 28)\n",
       "┌──────────┬───────────┬────────────┬───────────┬───┬────────┬────────────┬────────────┬───────────┐\n",
       "│ primo_id ┆ tank_type ┆ tank_numbe ┆ scada_id  ┆ … ┆ is_ESD ┆ tank_type_ ┆ tank_numbe ┆ tank_metr │\n",
       "│ ---      ┆ ---       ┆ r          ┆ ---       ┆   ┆ ---    ┆ right      ┆ r_right    ┆ ic        │\n",
       "│ str      ┆ str       ┆ ---        ┆ str       ┆   ┆ str    ┆ ---        ┆ ---        ┆ ---       │\n",
       "│          ┆           ┆ u8         ┆           ┆   ┆        ┆ str        ┆ u8         ┆ str       │\n",
       "╞══════════╪═══════════╪════════════╪═══════════╪═══╪════════╪════════════╪════════════╪═══════════╡\n",
       "│ 480001   ┆ Water     ┆ 2          ┆ FTW480001 ┆ … ┆ ESD-   ┆ Oil        ┆ null       ┆ InchesUnt │\n",
       "│          ┆           ┆            ┆           ┆   ┆        ┆            ┆            ┆ ilAlarm   │\n",
       "│ 480001   ┆ Water     ┆ 1          ┆ FTW480001 ┆ … ┆ ESD-   ┆ Oil        ┆ null       ┆ InchesUnt │\n",
       "│          ┆           ┆            ┆           ┆   ┆        ┆            ┆            ┆ ilAlarm   │\n",
       "│ 480001   ┆ Oil       ┆ 2          ┆ FTW480001 ┆ … ┆ ESD-   ┆ Oil        ┆ null       ┆ InchesUnt │\n",
       "│          ┆           ┆            ┆           ┆   ┆        ┆            ┆            ┆ ilAlarm   │\n",
       "│ 480001   ┆ Oil       ┆ 1          ┆ FTW480001 ┆ … ┆ ESD-   ┆ Oil        ┆ null       ┆ InchesUnt │\n",
       "│          ┆           ┆            ┆           ┆   ┆        ┆            ┆            ┆ ilAlarm   │\n",
       "└──────────┴───────────┴────────────┴───────────┴───┴────────┴────────────┴────────────┴───────────┘"
      ]
     },
     "execution_count": 147,
     "metadata": {},
     "output_type": "execute_result"
    }
   ],
   "source": [
    "final_lf = joined_lf.join(lf, on=[\"scada_id\"], how=\"left\")\n",
    "final_lf = final_lf.group_by(\"primo_id\", \"tank_type\", \"tank_number\").agg(pl.all().first())\n",
    "final_lf.collect()"
   ]
  },
  {
   "cell_type": "code",
   "execution_count": 148,
   "metadata": {},
   "outputs": [
    {
     "data": {
      "text/html": [
       "<div><style>\n",
       ".dataframe > thead > tr,\n",
       ".dataframe > tbody > tr {\n",
       "  text-align: right;\n",
       "  white-space: pre-wrap;\n",
       "}\n",
       "</style>\n",
       "<small>shape: (4, 8)</small><table border=\"1\" class=\"dataframe\"><thead><tr><th>primo_id</th><th>tank_type</th><th>tank_number</th><th>Level</th><th>Volume</th><th>InchesToESD</th><th>TimeUntilESD</th><th>Capacity</th></tr><tr><td>str</td><td>str</td><td>u8</td><td>f64</td><td>f64</td><td>f64</td><td>f64</td><td>f64</td></tr></thead><tbody><tr><td>&quot;480001&quot;</td><td>&quot;Oil&quot;</td><td>1</td><td>81.727208</td><td>227.020022</td><td>66.518221</td><td>null</td><td>413.344118</td></tr><tr><td>&quot;480001&quot;</td><td>&quot;Oil&quot;</td><td>2</td><td>98.825588</td><td>274.515522</td><td>null</td><td>null</td><td>406.099328</td></tr><tr><td>&quot;480001&quot;</td><td>&quot;Water&quot;</td><td>1</td><td>21.016423</td><td>58.378953</td><td>173.40877</td><td>null</td><td>410.476513</td></tr><tr><td>&quot;480001&quot;</td><td>&quot;Water&quot;</td><td>2</td><td>83.739797</td><td>232.610547</td><td>null</td><td>null</td><td>409.718222</td></tr></tbody></table></div>"
      ],
      "text/plain": [
       "shape: (4, 8)\n",
       "┌──────────┬───────────┬────────────┬───────────┬────────────┬────────────┬────────────┬───────────┐\n",
       "│ primo_id ┆ tank_type ┆ tank_numbe ┆ Level     ┆ Volume     ┆ InchesToES ┆ TimeUntilE ┆ Capacity  │\n",
       "│ ---      ┆ ---       ┆ r          ┆ ---       ┆ ---        ┆ D          ┆ SD         ┆ ---       │\n",
       "│ str      ┆ str       ┆ ---        ┆ f64       ┆ f64        ┆ ---        ┆ ---        ┆ f64       │\n",
       "│          ┆           ┆ u8         ┆           ┆            ┆ f64        ┆ f64        ┆           │\n",
       "╞══════════╪═══════════╪════════════╪═══════════╪════════════╪════════════╪════════════╪═══════════╡\n",
       "│ 480001   ┆ Oil       ┆ 1          ┆ 81.727208 ┆ 227.020022 ┆ 66.518221  ┆ null       ┆ 413.34411 │\n",
       "│          ┆           ┆            ┆           ┆            ┆            ┆            ┆ 8         │\n",
       "│ 480001   ┆ Oil       ┆ 2          ┆ 98.825588 ┆ 274.515522 ┆ null       ┆ null       ┆ 406.09932 │\n",
       "│          ┆           ┆            ┆           ┆            ┆            ┆            ┆ 8         │\n",
       "│ 480001   ┆ Water     ┆ 1          ┆ 21.016423 ┆ 58.378953  ┆ 173.40877  ┆ null       ┆ 410.47651 │\n",
       "│          ┆           ┆            ┆           ┆            ┆            ┆            ┆ 3         │\n",
       "│ 480001   ┆ Water     ┆ 2          ┆ 83.739797 ┆ 232.610547 ┆ null       ┆ null       ┆ 409.71822 │\n",
       "│          ┆           ┆            ┆           ┆            ┆            ┆            ┆ 2         │\n",
       "└──────────┴───────────┴────────────┴───────────┴────────────┴────────────┴────────────┴───────────┘"
      ]
     },
     "execution_count": 148,
     "metadata": {},
     "output_type": "execute_result"
    }
   ],
   "source": [
    "final_lf = final_lf.with_columns(\n",
    "    pl.col(\"primo_id\"),\n",
    "    pl.col(\"tank_type\"),\n",
    "    pl.col(\"tank_number\"),\n",
    "    pl.coalesce(pl.col(\"Level\"), pl.col(\"Level_right\")).alias(\"Level\"),\n",
    "    pl.coalesce(pl.col(\"Volume\"), pl.col(\"Volume_right\")).alias(\"Volume\"),\n",
    "    pl.coalesce(pl.col(\"InchesToESD\"), pl.col(\"InchesUntilAlarm_right\")).alias(\"InchesToESD\"),\n",
    "    pl.coalesce(pl.col(\"TimeUntilESD\"), pl.col(\"TimeUntilESD_right\")).alias(\"TimeUntilESD\"),\n",
    "    pl.coalesce(pl.col(\"Capacity\"), pl.col(\"tanksize\")).alias(\"Capacity\")\n",
    ")\n",
    "\n",
    "required_columns = [\"primo_id\", \"tank_type\", \"tank_number\", \"Level\", \"Volume\", \"InchesToESD\", \"TimeUntilESD\", \"Capacity\"]\n",
    "final_lf = final_lf.select(required_columns)\n",
    "final_lf.collect()"
   ]
  },
  {
   "cell_type": "code",
   "execution_count": 149,
   "metadata": {},
   "outputs": [
    {
     "data": {
      "text/html": [
       "<div><style>\n",
       ".dataframe > thead > tr,\n",
       ".dataframe > tbody > tr {\n",
       "  text-align: right;\n",
       "  white-space: pre-wrap;\n",
       "}\n",
       "</style>\n",
       "<small>shape: (4, 8)</small><table border=\"1\" class=\"dataframe\"><thead><tr><th>primo_id</th><th>tank_type</th><th>tank_number</th><th>Level</th><th>Volume</th><th>InchesToESD</th><th>TimeUntilESD</th><th>Capacity</th></tr><tr><td>str</td><td>str</td><td>u8</td><td>f64</td><td>f64</td><td>f64</td><td>f64</td><td>f64</td></tr></thead><tbody><tr><td>&quot;480001&quot;</td><td>&quot;Oil&quot;</td><td>1</td><td>81.727208</td><td>227.020022</td><td>66.518221</td><td>null</td><td>413.344118</td></tr><tr><td>&quot;480001&quot;</td><td>&quot;Oil&quot;</td><td>2</td><td>98.825588</td><td>274.515522</td><td>null</td><td>null</td><td>406.099328</td></tr><tr><td>&quot;480001&quot;</td><td>&quot;Water&quot;</td><td>1</td><td>21.016423</td><td>58.378953</td><td>173.40877</td><td>null</td><td>410.476513</td></tr><tr><td>&quot;480001&quot;</td><td>&quot;Water&quot;</td><td>2</td><td>83.739797</td><td>232.610547</td><td>null</td><td>null</td><td>409.718222</td></tr></tbody></table></div>"
      ],
      "text/plain": [
       "shape: (4, 8)\n",
       "┌──────────┬───────────┬────────────┬───────────┬────────────┬────────────┬────────────┬───────────┐\n",
       "│ primo_id ┆ tank_type ┆ tank_numbe ┆ Level     ┆ Volume     ┆ InchesToES ┆ TimeUntilE ┆ Capacity  │\n",
       "│ ---      ┆ ---       ┆ r          ┆ ---       ┆ ---        ┆ D          ┆ SD         ┆ ---       │\n",
       "│ str      ┆ str       ┆ ---        ┆ f64       ┆ f64        ┆ ---        ┆ ---        ┆ f64       │\n",
       "│          ┆           ┆ u8         ┆           ┆            ┆ f64        ┆ f64        ┆           │\n",
       "╞══════════╪═══════════╪════════════╪═══════════╪════════════╪════════════╪════════════╪═══════════╡\n",
       "│ 480001   ┆ Oil       ┆ 1          ┆ 81.727208 ┆ 227.020022 ┆ 66.518221  ┆ null       ┆ 413.34411 │\n",
       "│          ┆           ┆            ┆           ┆            ┆            ┆            ┆ 8         │\n",
       "│ 480001   ┆ Oil       ┆ 2          ┆ 98.825588 ┆ 274.515522 ┆ null       ┆ null       ┆ 406.09932 │\n",
       "│          ┆           ┆            ┆           ┆            ┆            ┆            ┆ 8         │\n",
       "│ 480001   ┆ Water     ┆ 1          ┆ 21.016423 ┆ 58.378953  ┆ 173.40877  ┆ null       ┆ 410.47651 │\n",
       "│          ┆           ┆            ┆           ┆            ┆            ┆            ┆ 3         │\n",
       "│ 480001   ┆ Water     ┆ 2          ┆ 83.739797 ┆ 232.610547 ┆ null       ┆ null       ┆ 409.71822 │\n",
       "│          ┆           ┆            ┆           ┆            ┆            ┆            ┆ 2         │\n",
       "└──────────┴───────────┴────────────┴───────────┴────────────┴────────────┴────────────┴───────────┘"
      ]
     },
     "execution_count": 149,
     "metadata": {},
     "output_type": "execute_result"
    }
   ],
   "source": [
    "final_lf = final_lf.sort(\"primo_id\", \"tank_type\", \"tank_number\")\n",
    "final_lf.collect()"
   ]
  },
  {
   "cell_type": "code",
   "execution_count": 150,
   "metadata": {},
   "outputs": [
    {
     "data": {
      "text/html": [
       "<div><style>\n",
       ".dataframe > thead > tr,\n",
       ".dataframe > tbody > tr {\n",
       "  text-align: right;\n",
       "  white-space: pre-wrap;\n",
       "}\n",
       "</style>\n",
       "<small>shape: (4, 9)</small><table border=\"1\" class=\"dataframe\"><thead><tr><th>primo_id</th><th>tank_type</th><th>tank_number</th><th>Level</th><th>Volume</th><th>InchesToESD</th><th>TimeUntilESD</th><th>Capacity</th><th>percent_full</th></tr><tr><td>str</td><td>str</td><td>u8</td><td>f64</td><td>f64</td><td>f64</td><td>f64</td><td>f64</td><td>u8</td></tr></thead><tbody><tr><td>&quot;480001&quot;</td><td>&quot;Oil&quot;</td><td>1</td><td>81.727208</td><td>227.020022</td><td>66.518221</td><td>null</td><td>413.344118</td><td>55</td></tr><tr><td>&quot;480001&quot;</td><td>&quot;Oil&quot;</td><td>2</td><td>98.825588</td><td>274.515522</td><td>null</td><td>null</td><td>406.099328</td><td>68</td></tr><tr><td>&quot;480001&quot;</td><td>&quot;Water&quot;</td><td>1</td><td>21.016423</td><td>58.378953</td><td>173.40877</td><td>null</td><td>410.476513</td><td>14</td></tr><tr><td>&quot;480001&quot;</td><td>&quot;Water&quot;</td><td>2</td><td>83.739797</td><td>232.610547</td><td>null</td><td>null</td><td>409.718222</td><td>57</td></tr></tbody></table></div>"
      ],
      "text/plain": [
       "shape: (4, 9)\n",
       "┌──────────┬───────────┬───────────┬───────────┬───┬───────────┬───────────┬───────────┬───────────┐\n",
       "│ primo_id ┆ tank_type ┆ tank_numb ┆ Level     ┆ … ┆ InchesToE ┆ TimeUntil ┆ Capacity  ┆ percent_f │\n",
       "│ ---      ┆ ---       ┆ er        ┆ ---       ┆   ┆ SD        ┆ ESD       ┆ ---       ┆ ull       │\n",
       "│ str      ┆ str       ┆ ---       ┆ f64       ┆   ┆ ---       ┆ ---       ┆ f64       ┆ ---       │\n",
       "│          ┆           ┆ u8        ┆           ┆   ┆ f64       ┆ f64       ┆           ┆ u8        │\n",
       "╞══════════╪═══════════╪═══════════╪═══════════╪═══╪═══════════╪═══════════╪═══════════╪═══════════╡\n",
       "│ 480001   ┆ Oil       ┆ 1         ┆ 81.727208 ┆ … ┆ 66.518221 ┆ null      ┆ 413.34411 ┆ 55        │\n",
       "│          ┆           ┆           ┆           ┆   ┆           ┆           ┆ 8         ┆           │\n",
       "│ 480001   ┆ Oil       ┆ 2         ┆ 98.825588 ┆ … ┆ null      ┆ null      ┆ 406.09932 ┆ 68        │\n",
       "│          ┆           ┆           ┆           ┆   ┆           ┆           ┆ 8         ┆           │\n",
       "│ 480001   ┆ Water     ┆ 1         ┆ 21.016423 ┆ … ┆ 173.40877 ┆ null      ┆ 410.47651 ┆ 14        │\n",
       "│          ┆           ┆           ┆           ┆   ┆           ┆           ┆ 3         ┆           │\n",
       "│ 480001   ┆ Water     ┆ 2         ┆ 83.739797 ┆ … ┆ null      ┆ null      ┆ 409.71822 ┆ 57        │\n",
       "│          ┆           ┆           ┆           ┆   ┆           ┆           ┆ 2         ┆           │\n",
       "└──────────┴───────────┴───────────┴───────────┴───┴───────────┴───────────┴───────────┴───────────┘"
      ]
     },
     "execution_count": 150,
     "metadata": {},
     "output_type": "execute_result"
    }
   ],
   "source": [
    "percent_tank_full = (pl.col(\"Volume\") / pl.col(\"Capacity\") * 100).round().cast(pl.UInt8)\n",
    "final_lf = final_lf.with_columns(percent_tank_full.alias(\"percent_full\"))\n",
    "\n",
    "final_lf.collect()"
   ]
  },
  {
   "cell_type": "code",
   "execution_count": 151,
   "metadata": {},
   "outputs": [
    {
     "data": {
      "text/html": [
       "<div><style>\n",
       ".dataframe > thead > tr,\n",
       ".dataframe > tbody > tr {\n",
       "  text-align: right;\n",
       "  white-space: pre-wrap;\n",
       "}\n",
       "</style>\n",
       "<small>shape: (4, 10)</small><table border=\"1\" class=\"dataframe\"><thead><tr><th>primo_id</th><th>tank_type</th><th>tank_number</th><th>Level</th><th>Volume</th><th>InchesToESD</th><th>TimeUntilESD</th><th>Capacity</th><th>percent_full</th><th>tank_level_str</th></tr><tr><td>str</td><td>str</td><td>u8</td><td>f64</td><td>f64</td><td>f64</td><td>f64</td><td>f64</td><td>u8</td><td>str</td></tr></thead><tbody><tr><td>&quot;480001&quot;</td><td>&quot;Oil&quot;</td><td>1</td><td>81.727208</td><td>227.020022</td><td>66.518221</td><td>null</td><td>413.344118</td><td>55</td><td>&quot;6&#x27;8&quot;&quot;</td></tr><tr><td>&quot;480001&quot;</td><td>&quot;Oil&quot;</td><td>2</td><td>98.825588</td><td>274.515522</td><td>null</td><td>null</td><td>406.099328</td><td>68</td><td>&quot;8&#x27;2&quot;&quot;</td></tr><tr><td>&quot;480001&quot;</td><td>&quot;Water&quot;</td><td>1</td><td>21.016423</td><td>58.378953</td><td>173.40877</td><td>null</td><td>410.476513</td><td>14</td><td>&quot;1&#x27;8&quot;&quot;</td></tr><tr><td>&quot;480001&quot;</td><td>&quot;Water&quot;</td><td>2</td><td>83.739797</td><td>232.610547</td><td>null</td><td>null</td><td>409.718222</td><td>57</td><td>&quot;7&#x27;0&quot;&quot;</td></tr></tbody></table></div>"
      ],
      "text/plain": [
       "shape: (4, 10)\n",
       "┌──────────┬───────────┬───────────┬───────────┬───┬───────────┬───────────┬───────────┬───────────┐\n",
       "│ primo_id ┆ tank_type ┆ tank_numb ┆ Level     ┆ … ┆ TimeUntil ┆ Capacity  ┆ percent_f ┆ tank_leve │\n",
       "│ ---      ┆ ---       ┆ er        ┆ ---       ┆   ┆ ESD       ┆ ---       ┆ ull       ┆ l_str     │\n",
       "│ str      ┆ str       ┆ ---       ┆ f64       ┆   ┆ ---       ┆ f64       ┆ ---       ┆ ---       │\n",
       "│          ┆           ┆ u8        ┆           ┆   ┆ f64       ┆           ┆ u8        ┆ str       │\n",
       "╞══════════╪═══════════╪═══════════╪═══════════╪═══╪═══════════╪═══════════╪═══════════╪═══════════╡\n",
       "│ 480001   ┆ Oil       ┆ 1         ┆ 81.727208 ┆ … ┆ null      ┆ 413.34411 ┆ 55        ┆ 6'8\"      │\n",
       "│          ┆           ┆           ┆           ┆   ┆           ┆ 8         ┆           ┆           │\n",
       "│ 480001   ┆ Oil       ┆ 2         ┆ 98.825588 ┆ … ┆ null      ┆ 406.09932 ┆ 68        ┆ 8'2\"      │\n",
       "│          ┆           ┆           ┆           ┆   ┆           ┆ 8         ┆           ┆           │\n",
       "│ 480001   ┆ Water     ┆ 1         ┆ 21.016423 ┆ … ┆ null      ┆ 410.47651 ┆ 14        ┆ 1'8\"      │\n",
       "│          ┆           ┆           ┆           ┆   ┆           ┆ 3         ┆           ┆           │\n",
       "│ 480001   ┆ Water     ┆ 2         ┆ 83.739797 ┆ … ┆ null      ┆ 409.71822 ┆ 57        ┆ 7'0\"      │\n",
       "│          ┆           ┆           ┆           ┆   ┆           ┆ 2         ┆           ┆           │\n",
       "└──────────┴───────────┴───────────┴───────────┴───┴───────────┴───────────┴───────────┴───────────┘"
      ]
     },
     "execution_count": 151,
     "metadata": {},
     "output_type": "execute_result"
    }
   ],
   "source": [
    "inches_to_feet = (pl.col(\"Level\") / 12).round(1)\n",
    "tank_level_to_str = inches_to_feet.cast(pl.Utf8)\n",
    "\n",
    "split_col = tank_level_to_str.str.split('.')\n",
    "\n",
    "tank_level_split_feet = split_col.list.get(0)\n",
    "tank_level_split_inches = split_col.list.get(1)\n",
    "\n",
    "tank_level_uom = pl.concat_str([tank_level_split_feet, pl.lit(\"'\"), tank_level_split_inches, pl.lit('\"')])\n",
    "\n",
    "final_lf = final_lf.with_columns(tank_level_uom.alias(\"tank_level_str\"))\n",
    "\n",
    "final_lf.collect()"
   ]
  },
  {
   "cell_type": "code",
   "execution_count": 152,
   "metadata": {},
   "outputs": [
    {
     "data": {
      "text/html": [
       "<div><style>\n",
       ".dataframe > thead > tr,\n",
       ".dataframe > tbody > tr {\n",
       "  text-align: right;\n",
       "  white-space: pre-wrap;\n",
       "}\n",
       "</style>\n",
       "<small>shape: (4, 11)</small><table border=\"1\" class=\"dataframe\"><thead><tr><th>primo_id</th><th>tank_type</th><th>tank_number</th><th>Level</th><th>Volume</th><th>InchesToESD</th><th>TimeUntilESD</th><th>Capacity</th><th>percent_full</th><th>tank_level_str</th><th>to_ESD</th></tr><tr><td>str</td><td>str</td><td>u8</td><td>f64</td><td>f64</td><td>f64</td><td>f64</td><td>f64</td><td>u8</td><td>str</td><td>str</td></tr></thead><tbody><tr><td>&quot;480001&quot;</td><td>&quot;Oil&quot;</td><td>1</td><td>81.727208</td><td>227.020022</td><td>66.518221</td><td>null</td><td>413.344118</td><td>55</td><td>&quot;6&#x27;8&quot;&quot;</td><td>&quot;5&#x27;5&quot;&quot;</td></tr><tr><td>&quot;480001&quot;</td><td>&quot;Oil&quot;</td><td>2</td><td>98.825588</td><td>274.515522</td><td>null</td><td>null</td><td>406.099328</td><td>68</td><td>&quot;8&#x27;2&quot;&quot;</td><td>null</td></tr><tr><td>&quot;480001&quot;</td><td>&quot;Water&quot;</td><td>1</td><td>21.016423</td><td>58.378953</td><td>173.40877</td><td>null</td><td>410.476513</td><td>14</td><td>&quot;1&#x27;8&quot;&quot;</td><td>&quot;14&#x27;5&quot;&quot;</td></tr><tr><td>&quot;480001&quot;</td><td>&quot;Water&quot;</td><td>2</td><td>83.739797</td><td>232.610547</td><td>null</td><td>null</td><td>409.718222</td><td>57</td><td>&quot;7&#x27;0&quot;&quot;</td><td>null</td></tr></tbody></table></div>"
      ],
      "text/plain": [
       "shape: (4, 11)\n",
       "┌──────────┬───────────┬────────────┬───────────┬───┬────────────┬────────────┬───────────┬────────┐\n",
       "│ primo_id ┆ tank_type ┆ tank_numbe ┆ Level     ┆ … ┆ Capacity   ┆ percent_fu ┆ tank_leve ┆ to_ESD │\n",
       "│ ---      ┆ ---       ┆ r          ┆ ---       ┆   ┆ ---        ┆ ll         ┆ l_str     ┆ ---    │\n",
       "│ str      ┆ str       ┆ ---        ┆ f64       ┆   ┆ f64        ┆ ---        ┆ ---       ┆ str    │\n",
       "│          ┆           ┆ u8         ┆           ┆   ┆            ┆ u8         ┆ str       ┆        │\n",
       "╞══════════╪═══════════╪════════════╪═══════════╪═══╪════════════╪════════════╪═══════════╪════════╡\n",
       "│ 480001   ┆ Oil       ┆ 1          ┆ 81.727208 ┆ … ┆ 413.344118 ┆ 55         ┆ 6'8\"      ┆ 5'5\"   │\n",
       "│ 480001   ┆ Oil       ┆ 2          ┆ 98.825588 ┆ … ┆ 406.099328 ┆ 68         ┆ 8'2\"      ┆ null   │\n",
       "│ 480001   ┆ Water     ┆ 1          ┆ 21.016423 ┆ … ┆ 410.476513 ┆ 14         ┆ 1'8\"      ┆ 14'5\"  │\n",
       "│ 480001   ┆ Water     ┆ 2          ┆ 83.739797 ┆ … ┆ 409.718222 ┆ 57         ┆ 7'0\"      ┆ null   │\n",
       "└──────────┴───────────┴────────────┴───────────┴───┴────────────┴────────────┴───────────┴────────┘"
      ]
     },
     "execution_count": 152,
     "metadata": {},
     "output_type": "execute_result"
    }
   ],
   "source": [
    "inches_to_feet_esd = (pl.col(\"InchesToESD\") / 12).round(1)\n",
    "\n",
    "inchesESD_to_feet = inches_to_feet_esd.cast(pl.Utf8)\n",
    "\n",
    "split_esd = inchesESD_to_feet.str.split('.')\n",
    "\n",
    "esd_split_feet = split_esd.list.get(0)\n",
    "esd_split_inches = split_esd.list.get(1)\n",
    "\n",
    "esd_final = pl.concat_str([esd_split_feet, pl.lit(\"'\"), esd_split_inches, pl.lit('\"')])\n",
    "\n",
    "final_lf = final_lf.with_columns(esd_final.alias(\"to_ESD\"))\n",
    "\n",
    "final_lf.collect()"
   ]
  }
 ],
 "metadata": {
  "kernelspec": {
   "display_name": "tank-project-9-HCZibD-py3.12",
   "language": "python",
   "name": "python3"
  },
  "language_info": {
   "codemirror_mode": {
    "name": "ipython",
    "version": 3
   },
   "file_extension": ".py",
   "mimetype": "text/x-python",
   "name": "python",
   "nbconvert_exporter": "python",
   "pygments_lexer": "ipython3",
   "version": "3.12.2"
  }
 },
 "nbformat": 4,
 "nbformat_minor": 2
}
