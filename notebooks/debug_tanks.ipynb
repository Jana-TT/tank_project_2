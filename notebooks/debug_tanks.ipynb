{
 "cells": [
  {
   "cell_type": "code",
   "execution_count": 15,
   "metadata": {},
   "outputs": [
    {
     "data": {
      "text/html": [
       "<div><style>\n",
       ".dataframe > thead > tr,\n",
       ".dataframe > tbody > tr {\n",
       "  text-align: right;\n",
       "  white-space: pre-wrap;\n",
       "}\n",
       "</style>\n",
       "<small>shape: (14, 8)</small><table border=\"1\" class=\"dataframe\"><thead><tr><th>primo_id</th><th>scada_id</th><th>metric_nice_name</th><th>unique_id</th><th>uom</th><th>timestamp</th><th>value</th><th>tanksize</th></tr><tr><td>str</td><td>str</td><td>str</td><td>object</td><td>str</td><td>datetime[μs]</td><td>f64</td><td>f64</td></tr></thead><tbody><tr><td>&quot;98743&quot;</td><td>&quot;9874303&quot;</td><td>&quot;OilTank3Volume&quot;</td><td>03da9be5-603d-41fe-9750-9912cbbb3d9c</td><td>&quot;bbl&quot;</td><td>2024-03-06 04:11:03.447424</td><td>0.053431</td><td>634.112531</td></tr><tr><td>&quot;98743&quot;</td><td>&quot;98743FAC&quot;</td><td>&quot;ESD-WaterTankInchesUntilAlarm&quot;</td><td>2099e404-65fb-45a7-a0f7-d61611ef4b2c</td><td>&quot;in&quot;</td><td>2024-03-06 04:15:21.870747</td><td>203.940865</td><td>null</td></tr><tr><td>&quot;98743&quot;</td><td>&quot;9874301&quot;</td><td>&quot;OilTank1Volume&quot;</td><td>22594084-61ec-4c68-8a6d-bb5a0549ca96</td><td>&quot;bbl&quot;</td><td>2024-03-06 04:11:23.348001</td><td>254.343449</td><td>539.673672</td></tr><tr><td>&quot;98743&quot;</td><td>&quot;9874302&quot;</td><td>&quot;OilTank2Level&quot;</td><td>395bae9a-3fbc-4618-b55a-54d81e322e18</td><td>&quot;in&quot;</td><td>2024-03-06 04:14:37.850008</td><td>105.227232</td><td>622.745711</td></tr><tr><td>&quot;98743&quot;</td><td>&quot;98743FAC&quot;</td><td>&quot;ESD-OilTankInchesUntilAlarm&quot;</td><td>6d884ea0-cc9a-49a4-a73a-037eef3d2d14</td><td>&quot;in&quot;</td><td>2024-03-06 04:11:07.373313</td><td>395.101262</td><td>null</td></tr><tr><td>&hellip;</td><td>&hellip;</td><td>&hellip;</td><td>&hellip;</td><td>&hellip;</td><td>&hellip;</td><td>&hellip;</td><td>&hellip;</td></tr><tr><td>&quot;98743&quot;</td><td>&quot;98743W1&quot;</td><td>&quot;WaterTank1Volume&quot;</td><td>a0344de9-5574-4617-a3cd-42b00e59826d</td><td>&quot;bbl&quot;</td><td>2024-03-06 04:15:23.114434</td><td>267.388301</td><td>788.375819</td></tr><tr><td>&quot;98743&quot;</td><td>&quot;9874301&quot;</td><td>&quot;OilTank1Level&quot;</td><td>dab4845a-93d0-4259-b44a-eb909f5b2eec</td><td>&quot;in&quot;</td><td>2024-03-06 04:11:23.348001</td><td>91.563642</td><td>539.673672</td></tr><tr><td>&quot;98743&quot;</td><td>&quot;98743FAC&quot;</td><td>&quot;ESD-WaterTankID&quot;</td><td>de925327-bbae-4c3d-b93c-c65094656a58</td><td>null</td><td>2023-11-07 09:00:00</td><td>1.0</td><td>null</td></tr><tr><td>&quot;98743&quot;</td><td>&quot;98743W2&quot;</td><td>&quot;WaterTank2Volume&quot;</td><td>f8a8c53d-1a7d-41a8-ac11-1202ea35fb0b</td><td>&quot;bbl&quot;</td><td>2024-03-06 04:12:51.208327</td><td>182.731649</td><td>785.452495</td></tr><tr><td>&quot;98743&quot;</td><td>&quot;98743W1&quot;</td><td>&quot;WaterTank1Level&quot;</td><td>f9dba55d-c34f-4cdc-92a6-49c4f9cd314c</td><td>&quot;in&quot;</td><td>2024-03-06 04:15:23.114434</td><td>96.259788</td><td>788.375819</td></tr></tbody></table></div>"
      ],
      "text/plain": [
       "shape: (14, 8)\n",
       "┌──────────┬──────────┬──────────────┬──────────────┬──────┬─────────────┬────────────┬────────────┐\n",
       "│ primo_id ┆ scada_id ┆ metric_nice_ ┆ unique_id    ┆ uom  ┆ timestamp   ┆ value      ┆ tanksize   │\n",
       "│ ---      ┆ ---      ┆ name         ┆ ---          ┆ ---  ┆ ---         ┆ ---        ┆ ---        │\n",
       "│ str      ┆ str      ┆ ---          ┆ object       ┆ str  ┆ datetime[μs ┆ f64        ┆ f64        │\n",
       "│          ┆          ┆ str          ┆              ┆      ┆ ]           ┆            ┆            │\n",
       "╞══════════╪══════════╪══════════════╪══════════════╪══════╪═════════════╪════════════╪════════════╡\n",
       "│ 98743    ┆ 9874303  ┆ OilTank3Volu ┆ 03da9be5-603 ┆ bbl  ┆ 2024-03-06  ┆ 0.053431   ┆ 634.112531 │\n",
       "│          ┆          ┆ me           ┆ d-41fe-9750- ┆      ┆ 04:11:03.44 ┆            ┆            │\n",
       "│          ┆          ┆              ┆ 9912cb…      ┆      ┆ 7424        ┆            ┆            │\n",
       "│ 98743    ┆ 98743FAC ┆ ESD-WaterTan ┆ 2099e404-65f ┆ in   ┆ 2024-03-06  ┆ 203.940865 ┆ null       │\n",
       "│          ┆          ┆ kInchesUntil ┆ b-45a7-a0f7- ┆      ┆ 04:15:21.87 ┆            ┆            │\n",
       "│          ┆          ┆ Alarm        ┆ d61611…      ┆      ┆ 0747        ┆            ┆            │\n",
       "│ 98743    ┆ 9874301  ┆ OilTank1Volu ┆ 22594084-61e ┆ bbl  ┆ 2024-03-06  ┆ 254.343449 ┆ 539.673672 │\n",
       "│          ┆          ┆ me           ┆ c-4c68-8a6d- ┆      ┆ 04:11:23.34 ┆            ┆            │\n",
       "│          ┆          ┆              ┆ bb5a05…      ┆      ┆ 8001        ┆            ┆            │\n",
       "│ 98743    ┆ 9874302  ┆ OilTank2Leve ┆ 395bae9a-3fb ┆ in   ┆ 2024-03-06  ┆ 105.227232 ┆ 622.745711 │\n",
       "│          ┆          ┆ l            ┆ c-4618-b55a- ┆      ┆ 04:14:37.85 ┆            ┆            │\n",
       "│          ┆          ┆              ┆ 54d81e…      ┆      ┆ 0008        ┆            ┆            │\n",
       "│ 98743    ┆ 98743FAC ┆ ESD-OilTankI ┆ 6d884ea0-cc9 ┆ in   ┆ 2024-03-06  ┆ 395.101262 ┆ null       │\n",
       "│          ┆          ┆ nchesUntilAl ┆ a-49a4-a73a- ┆      ┆ 04:11:07.37 ┆            ┆            │\n",
       "│          ┆          ┆ arm          ┆ 037eef…      ┆      ┆ 3313        ┆            ┆            │\n",
       "│ …        ┆ …        ┆ …            ┆ …            ┆ …    ┆ …           ┆ …          ┆ …          │\n",
       "│ 98743    ┆ 98743W1  ┆ WaterTank1Vo ┆ a0344de9-557 ┆ bbl  ┆ 2024-03-06  ┆ 267.388301 ┆ 788.375819 │\n",
       "│          ┆          ┆ lume         ┆ 4-4617-a3cd- ┆      ┆ 04:15:23.11 ┆            ┆            │\n",
       "│          ┆          ┆              ┆ 42b00e…      ┆      ┆ 4434        ┆            ┆            │\n",
       "│ 98743    ┆ 9874301  ┆ OilTank1Leve ┆ dab4845a-93d ┆ in   ┆ 2024-03-06  ┆ 91.563642  ┆ 539.673672 │\n",
       "│          ┆          ┆ l            ┆ 0-4259-b44a- ┆      ┆ 04:11:23.34 ┆            ┆            │\n",
       "│          ┆          ┆              ┆ eb909f…      ┆      ┆ 8001        ┆            ┆            │\n",
       "│ 98743    ┆ 98743FAC ┆ ESD-WaterTan ┆ de925327-bba ┆ null ┆ 2023-11-07  ┆ 1.0        ┆ null       │\n",
       "│          ┆          ┆ kID          ┆ e-4c3d-b93c- ┆      ┆ 09:00:00    ┆            ┆            │\n",
       "│          ┆          ┆              ┆ c65094…      ┆      ┆             ┆            ┆            │\n",
       "│ 98743    ┆ 98743W2  ┆ WaterTank2Vo ┆ f8a8c53d-1a7 ┆ bbl  ┆ 2024-03-06  ┆ 182.731649 ┆ 785.452495 │\n",
       "│          ┆          ┆ lume         ┆ d-41a8-ac11- ┆      ┆ 04:12:51.20 ┆            ┆            │\n",
       "│          ┆          ┆              ┆ 1202ea…      ┆      ┆ 8327        ┆            ┆            │\n",
       "│ 98743    ┆ 98743W1  ┆ WaterTank1Le ┆ f9dba55d-c34 ┆ in   ┆ 2024-03-06  ┆ 96.259788  ┆ 788.375819 │\n",
       "│          ┆          ┆ vel          ┆ f-4cdc-92a6- ┆      ┆ 04:15:23.11 ┆            ┆            │\n",
       "│          ┆          ┆              ┆ 49c4f9…      ┆      ┆ 4434        ┆            ┆            │\n",
       "└──────────┴──────────┴──────────────┴──────────────┴──────┴─────────────┴────────────┴────────────┘"
      ]
     },
     "execution_count": 15,
     "metadata": {},
     "output_type": "execute_result"
    }
   ],
   "source": [
    "import polars as pl\n",
    "from src.main import GetTanksReq, fetch_tank_data\n",
    "\n",
    "req = GetTanksReq(primo_ids={\"98743\"})\n",
    "\n",
    "df = await fetch_tank_data(req)\n",
    "if df is None:\n",
    "    raise ValueError(\"df is None\")\n",
    "lf = df.lazy()\n",
    "lf.collect()"
   ]
  },
  {
   "cell_type": "code",
   "execution_count": 16,
   "metadata": {},
   "outputs": [
    {
     "data": {
      "text/html": [
       "<div><style>\n",
       ".dataframe > thead > tr,\n",
       ".dataframe > tbody > tr {\n",
       "  text-align: right;\n",
       "  white-space: pre-wrap;\n",
       "}\n",
       "</style>\n",
       "<small>shape: (14, 7)</small><table border=\"1\" class=\"dataframe\"><thead><tr><th>primo_id</th><th>scada_id</th><th>metric_nice_name</th><th>uom</th><th>timestamp</th><th>value</th><th>tanksize</th></tr><tr><td>str</td><td>str</td><td>str</td><td>str</td><td>datetime[μs]</td><td>f64</td><td>f64</td></tr></thead><tbody><tr><td>&quot;98743&quot;</td><td>&quot;9874303&quot;</td><td>&quot;OilTank3Volume&quot;</td><td>&quot;bbl&quot;</td><td>2024-03-06 04:11:03.447424</td><td>0.053431</td><td>634.112531</td></tr><tr><td>&quot;98743&quot;</td><td>&quot;98743FAC&quot;</td><td>&quot;ESD-WaterTankInchesUntilAlarm&quot;</td><td>&quot;in&quot;</td><td>2024-03-06 04:15:21.870747</td><td>203.940865</td><td>null</td></tr><tr><td>&quot;98743&quot;</td><td>&quot;9874301&quot;</td><td>&quot;OilTank1Volume&quot;</td><td>&quot;bbl&quot;</td><td>2024-03-06 04:11:23.348001</td><td>254.343449</td><td>539.673672</td></tr><tr><td>&quot;98743&quot;</td><td>&quot;9874302&quot;</td><td>&quot;OilTank2Level&quot;</td><td>&quot;in&quot;</td><td>2024-03-06 04:14:37.850008</td><td>105.227232</td><td>622.745711</td></tr><tr><td>&quot;98743&quot;</td><td>&quot;98743FAC&quot;</td><td>&quot;ESD-OilTankInchesUntilAlarm&quot;</td><td>&quot;in&quot;</td><td>2024-03-06 04:11:07.373313</td><td>395.101262</td><td>null</td></tr><tr><td>&hellip;</td><td>&hellip;</td><td>&hellip;</td><td>&hellip;</td><td>&hellip;</td><td>&hellip;</td><td>&hellip;</td></tr><tr><td>&quot;98743&quot;</td><td>&quot;98743W1&quot;</td><td>&quot;WaterTank1Volume&quot;</td><td>&quot;bbl&quot;</td><td>2024-03-06 04:15:23.114434</td><td>267.388301</td><td>788.375819</td></tr><tr><td>&quot;98743&quot;</td><td>&quot;9874301&quot;</td><td>&quot;OilTank1Level&quot;</td><td>&quot;in&quot;</td><td>2024-03-06 04:11:23.348001</td><td>91.563642</td><td>539.673672</td></tr><tr><td>&quot;98743&quot;</td><td>&quot;98743FAC&quot;</td><td>&quot;ESD-WaterTankID&quot;</td><td>null</td><td>2023-11-07 09:00:00</td><td>1.0</td><td>null</td></tr><tr><td>&quot;98743&quot;</td><td>&quot;98743W2&quot;</td><td>&quot;WaterTank2Volume&quot;</td><td>&quot;bbl&quot;</td><td>2024-03-06 04:12:51.208327</td><td>182.731649</td><td>785.452495</td></tr><tr><td>&quot;98743&quot;</td><td>&quot;98743W1&quot;</td><td>&quot;WaterTank1Level&quot;</td><td>&quot;in&quot;</td><td>2024-03-06 04:15:23.114434</td><td>96.259788</td><td>788.375819</td></tr></tbody></table></div>"
      ],
      "text/plain": [
       "shape: (14, 7)\n",
       "┌──────────┬──────────┬─────────────────────┬──────┬─────────────────────┬────────────┬────────────┐\n",
       "│ primo_id ┆ scada_id ┆ metric_nice_name    ┆ uom  ┆ timestamp           ┆ value      ┆ tanksize   │\n",
       "│ ---      ┆ ---      ┆ ---                 ┆ ---  ┆ ---                 ┆ ---        ┆ ---        │\n",
       "│ str      ┆ str      ┆ str                 ┆ str  ┆ datetime[μs]        ┆ f64        ┆ f64        │\n",
       "╞══════════╪══════════╪═════════════════════╪══════╪═════════════════════╪════════════╪════════════╡\n",
       "│ 98743    ┆ 9874303  ┆ OilTank3Volume      ┆ bbl  ┆ 2024-03-06          ┆ 0.053431   ┆ 634.112531 │\n",
       "│          ┆          ┆                     ┆      ┆ 04:11:03.447424     ┆            ┆            │\n",
       "│ 98743    ┆ 98743FAC ┆ ESD-WaterTankInches ┆ in   ┆ 2024-03-06          ┆ 203.940865 ┆ null       │\n",
       "│          ┆          ┆ UntilAlarm          ┆      ┆ 04:15:21.870747     ┆            ┆            │\n",
       "│ 98743    ┆ 9874301  ┆ OilTank1Volume      ┆ bbl  ┆ 2024-03-06          ┆ 254.343449 ┆ 539.673672 │\n",
       "│          ┆          ┆                     ┆      ┆ 04:11:23.348001     ┆            ┆            │\n",
       "│ 98743    ┆ 9874302  ┆ OilTank2Level       ┆ in   ┆ 2024-03-06          ┆ 105.227232 ┆ 622.745711 │\n",
       "│          ┆          ┆                     ┆      ┆ 04:14:37.850008     ┆            ┆            │\n",
       "│ 98743    ┆ 98743FAC ┆ ESD-OilTankInchesUn ┆ in   ┆ 2024-03-06          ┆ 395.101262 ┆ null       │\n",
       "│          ┆          ┆ tilAlarm            ┆      ┆ 04:11:07.373313     ┆            ┆            │\n",
       "│ …        ┆ …        ┆ …                   ┆ …    ┆ …                   ┆ …          ┆ …          │\n",
       "│ 98743    ┆ 98743W1  ┆ WaterTank1Volume    ┆ bbl  ┆ 2024-03-06          ┆ 267.388301 ┆ 788.375819 │\n",
       "│          ┆          ┆                     ┆      ┆ 04:15:23.114434     ┆            ┆            │\n",
       "│ 98743    ┆ 9874301  ┆ OilTank1Level       ┆ in   ┆ 2024-03-06          ┆ 91.563642  ┆ 539.673672 │\n",
       "│          ┆          ┆                     ┆      ┆ 04:11:23.348001     ┆            ┆            │\n",
       "│ 98743    ┆ 98743FAC ┆ ESD-WaterTankID     ┆ null ┆ 2023-11-07 09:00:00 ┆ 1.0        ┆ null       │\n",
       "│ 98743    ┆ 98743W2  ┆ WaterTank2Volume    ┆ bbl  ┆ 2024-03-06          ┆ 182.731649 ┆ 785.452495 │\n",
       "│          ┆          ┆                     ┆      ┆ 04:12:51.208327     ┆            ┆            │\n",
       "│ 98743    ┆ 98743W1  ┆ WaterTank1Level     ┆ in   ┆ 2024-03-06          ┆ 96.259788  ┆ 788.375819 │\n",
       "│          ┆          ┆                     ┆      ┆ 04:15:23.114434     ┆            ┆            │\n",
       "└──────────┴──────────┴─────────────────────┴──────┴─────────────────────┴────────────┴────────────┘"
      ]
     },
     "execution_count": 16,
     "metadata": {},
     "output_type": "execute_result"
    }
   ],
   "source": [
    "lf = lf.drop(\"unique_id\")\n",
    "lf.collect()"
   ]
  },
  {
   "cell_type": "code",
   "execution_count": 17,
   "metadata": {},
   "outputs": [
    {
     "data": {
      "text/html": [
       "<div><style>\n",
       ".dataframe > thead > tr,\n",
       ".dataframe > tbody > tr {\n",
       "  text-align: right;\n",
       "  white-space: pre-wrap;\n",
       "}\n",
       "</style>\n",
       "<small>shape: (14, 8)</small><table border=\"1\" class=\"dataframe\"><thead><tr><th>primo_id</th><th>scada_id</th><th>metric_nice_name</th><th>uom</th><th>timestamp</th><th>value</th><th>tanksize</th><th>separated_metrics</th></tr><tr><td>str</td><td>str</td><td>str</td><td>str</td><td>datetime[μs]</td><td>f64</td><td>f64</td><td>struct[4]</td></tr></thead><tbody><tr><td>&quot;98743&quot;</td><td>&quot;9874303&quot;</td><td>&quot;OilTank3Volume&quot;</td><td>&quot;bbl&quot;</td><td>2024-03-06 04:11:03.447424</td><td>0.053431</td><td>634.112531</td><td>{null,&quot;Oil&quot;,&quot;3&quot;,&quot;Volume&quot;}</td></tr><tr><td>&quot;98743&quot;</td><td>&quot;98743FAC&quot;</td><td>&quot;ESD-WaterTankInchesUntilAlarm&quot;</td><td>&quot;in&quot;</td><td>2024-03-06 04:15:21.870747</td><td>203.940865</td><td>null</td><td>{&quot;ESD-&quot;,&quot;Water&quot;,&quot;&quot;,&quot;InchesUntilAlarm&quot;}</td></tr><tr><td>&quot;98743&quot;</td><td>&quot;9874301&quot;</td><td>&quot;OilTank1Volume&quot;</td><td>&quot;bbl&quot;</td><td>2024-03-06 04:11:23.348001</td><td>254.343449</td><td>539.673672</td><td>{null,&quot;Oil&quot;,&quot;1&quot;,&quot;Volume&quot;}</td></tr><tr><td>&quot;98743&quot;</td><td>&quot;9874302&quot;</td><td>&quot;OilTank2Level&quot;</td><td>&quot;in&quot;</td><td>2024-03-06 04:14:37.850008</td><td>105.227232</td><td>622.745711</td><td>{null,&quot;Oil&quot;,&quot;2&quot;,&quot;Level&quot;}</td></tr><tr><td>&quot;98743&quot;</td><td>&quot;98743FAC&quot;</td><td>&quot;ESD-OilTankInchesUntilAlarm&quot;</td><td>&quot;in&quot;</td><td>2024-03-06 04:11:07.373313</td><td>395.101262</td><td>null</td><td>{&quot;ESD-&quot;,&quot;Oil&quot;,&quot;&quot;,&quot;InchesUntilAlarm&quot;}</td></tr><tr><td>&hellip;</td><td>&hellip;</td><td>&hellip;</td><td>&hellip;</td><td>&hellip;</td><td>&hellip;</td><td>&hellip;</td><td>&hellip;</td></tr><tr><td>&quot;98743&quot;</td><td>&quot;98743W1&quot;</td><td>&quot;WaterTank1Volume&quot;</td><td>&quot;bbl&quot;</td><td>2024-03-06 04:15:23.114434</td><td>267.388301</td><td>788.375819</td><td>{null,&quot;Water&quot;,&quot;1&quot;,&quot;Volume&quot;}</td></tr><tr><td>&quot;98743&quot;</td><td>&quot;9874301&quot;</td><td>&quot;OilTank1Level&quot;</td><td>&quot;in&quot;</td><td>2024-03-06 04:11:23.348001</td><td>91.563642</td><td>539.673672</td><td>{null,&quot;Oil&quot;,&quot;1&quot;,&quot;Level&quot;}</td></tr><tr><td>&quot;98743&quot;</td><td>&quot;98743FAC&quot;</td><td>&quot;ESD-WaterTankID&quot;</td><td>null</td><td>2023-11-07 09:00:00</td><td>1.0</td><td>null</td><td>{&quot;ESD-&quot;,&quot;Water&quot;,&quot;&quot;,&quot;ID&quot;}</td></tr><tr><td>&quot;98743&quot;</td><td>&quot;98743W2&quot;</td><td>&quot;WaterTank2Volume&quot;</td><td>&quot;bbl&quot;</td><td>2024-03-06 04:12:51.208327</td><td>182.731649</td><td>785.452495</td><td>{null,&quot;Water&quot;,&quot;2&quot;,&quot;Volume&quot;}</td></tr><tr><td>&quot;98743&quot;</td><td>&quot;98743W1&quot;</td><td>&quot;WaterTank1Level&quot;</td><td>&quot;in&quot;</td><td>2024-03-06 04:15:23.114434</td><td>96.259788</td><td>788.375819</td><td>{null,&quot;Water&quot;,&quot;1&quot;,&quot;Level&quot;}</td></tr></tbody></table></div>"
      ],
      "text/plain": [
       "shape: (14, 8)\n",
       "┌──────────┬──────────┬──────────────┬──────┬──────────────┬────────────┬────────────┬─────────────┐\n",
       "│ primo_id ┆ scada_id ┆ metric_nice_ ┆ uom  ┆ timestamp    ┆ value      ┆ tanksize   ┆ separated_m │\n",
       "│ ---      ┆ ---      ┆ name         ┆ ---  ┆ ---          ┆ ---        ┆ ---        ┆ etrics      │\n",
       "│ str      ┆ str      ┆ ---          ┆ str  ┆ datetime[μs] ┆ f64        ┆ f64        ┆ ---         │\n",
       "│          ┆          ┆ str          ┆      ┆              ┆            ┆            ┆ struct[4]   │\n",
       "╞══════════╪══════════╪══════════════╪══════╪══════════════╪════════════╪════════════╪═════════════╡\n",
       "│ 98743    ┆ 9874303  ┆ OilTank3Volu ┆ bbl  ┆ 2024-03-06   ┆ 0.053431   ┆ 634.112531 ┆ {null,\"Oil\" │\n",
       "│          ┆          ┆ me           ┆      ┆ 04:11:03.447 ┆            ┆            ┆ ,\"3\",\"Volum │\n",
       "│          ┆          ┆              ┆      ┆ 424          ┆            ┆            ┆ e\"}         │\n",
       "│ 98743    ┆ 98743FAC ┆ ESD-WaterTan ┆ in   ┆ 2024-03-06   ┆ 203.940865 ┆ null       ┆ {\"ESD-\",\"Wa │\n",
       "│          ┆          ┆ kInchesUntil ┆      ┆ 04:15:21.870 ┆            ┆            ┆ ter\",\"\",\"In │\n",
       "│          ┆          ┆ Alarm        ┆      ┆ 747          ┆            ┆            ┆ chesUnti…   │\n",
       "│ 98743    ┆ 9874301  ┆ OilTank1Volu ┆ bbl  ┆ 2024-03-06   ┆ 254.343449 ┆ 539.673672 ┆ {null,\"Oil\" │\n",
       "│          ┆          ┆ me           ┆      ┆ 04:11:23.348 ┆            ┆            ┆ ,\"1\",\"Volum │\n",
       "│          ┆          ┆              ┆      ┆ 001          ┆            ┆            ┆ e\"}         │\n",
       "│ 98743    ┆ 9874302  ┆ OilTank2Leve ┆ in   ┆ 2024-03-06   ┆ 105.227232 ┆ 622.745711 ┆ {null,\"Oil\" │\n",
       "│          ┆          ┆ l            ┆      ┆ 04:14:37.850 ┆            ┆            ┆ ,\"2\",\"Level │\n",
       "│          ┆          ┆              ┆      ┆ 008          ┆            ┆            ┆ \"}          │\n",
       "│ 98743    ┆ 98743FAC ┆ ESD-OilTankI ┆ in   ┆ 2024-03-06   ┆ 395.101262 ┆ null       ┆ {\"ESD-\",\"Oi │\n",
       "│          ┆          ┆ nchesUntilAl ┆      ┆ 04:11:07.373 ┆            ┆            ┆ l\",\"\",\"Inch │\n",
       "│          ┆          ┆ arm          ┆      ┆ 313          ┆            ┆            ┆ esUntilA…   │\n",
       "│ …        ┆ …        ┆ …            ┆ …    ┆ …            ┆ …          ┆ …          ┆ …           │\n",
       "│ 98743    ┆ 98743W1  ┆ WaterTank1Vo ┆ bbl  ┆ 2024-03-06   ┆ 267.388301 ┆ 788.375819 ┆ {null,\"Wate │\n",
       "│          ┆          ┆ lume         ┆      ┆ 04:15:23.114 ┆            ┆            ┆ r\",\"1\",\"Vol │\n",
       "│          ┆          ┆              ┆      ┆ 434          ┆            ┆            ┆ ume\"}       │\n",
       "│ 98743    ┆ 9874301  ┆ OilTank1Leve ┆ in   ┆ 2024-03-06   ┆ 91.563642  ┆ 539.673672 ┆ {null,\"Oil\" │\n",
       "│          ┆          ┆ l            ┆      ┆ 04:11:23.348 ┆            ┆            ┆ ,\"1\",\"Level │\n",
       "│          ┆          ┆              ┆      ┆ 001          ┆            ┆            ┆ \"}          │\n",
       "│ 98743    ┆ 98743FAC ┆ ESD-WaterTan ┆ null ┆ 2023-11-07   ┆ 1.0        ┆ null       ┆ {\"ESD-\",\"Wa │\n",
       "│          ┆          ┆ kID          ┆      ┆ 09:00:00     ┆            ┆            ┆ ter\",\"\",\"ID │\n",
       "│          ┆          ┆              ┆      ┆              ┆            ┆            ┆ \"}          │\n",
       "│ 98743    ┆ 98743W2  ┆ WaterTank2Vo ┆ bbl  ┆ 2024-03-06   ┆ 182.731649 ┆ 785.452495 ┆ {null,\"Wate │\n",
       "│          ┆          ┆ lume         ┆      ┆ 04:12:51.208 ┆            ┆            ┆ r\",\"2\",\"Vol │\n",
       "│          ┆          ┆              ┆      ┆ 327          ┆            ┆            ┆ ume\"}       │\n",
       "│ 98743    ┆ 98743W1  ┆ WaterTank1Le ┆ in   ┆ 2024-03-06   ┆ 96.259788  ┆ 788.375819 ┆ {null,\"Wate │\n",
       "│          ┆          ┆ vel          ┆      ┆ 04:15:23.114 ┆            ┆            ┆ r\",\"1\",\"Lev │\n",
       "│          ┆          ┆              ┆      ┆ 434          ┆            ┆            ┆ el\"}        │\n",
       "└──────────┴──────────┴──────────────┴──────┴──────────────┴────────────┴────────────┴─────────────┘"
      ]
     },
     "execution_count": 17,
     "metadata": {},
     "output_type": "execute_result"
    }
   ],
   "source": [
    "tank_metrics = [\"Level\", \"Volume\", \"InchesUntilAlarm\", \"InchesToESD\", \"TimeUntilESD\", \"Capacity\", \"ID\"]\n",
    "tank_types = [\"Water\", \"Oil\"]\n",
    "\n",
    "tank_metrics_str= \"|\".join(tank_metrics)\n",
    "tank_types_str = \"|\".join(tank_types)\n",
    "\n",
    "pattern = f'^(?<is_ESD>ESD-)?(?<tank_type>{tank_types_str})Tank(?<tank_number>[0-9]*)(?<tank_metric>{tank_metrics_str})'\n",
    "lf = lf.with_columns(separated_metrics = pl.col(\"metric_nice_name\").str.extract_groups(pattern))\n",
    "lf.collect()"
   ]
  },
  {
   "cell_type": "code",
   "execution_count": 18,
   "metadata": {},
   "outputs": [
    {
     "data": {
      "text/html": [
       "<div><style>\n",
       ".dataframe > thead > tr,\n",
       ".dataframe > tbody > tr {\n",
       "  text-align: right;\n",
       "  white-space: pre-wrap;\n",
       "}\n",
       "</style>\n",
       "<small>shape: (14, 11)</small><table border=\"1\" class=\"dataframe\"><thead><tr><th>primo_id</th><th>scada_id</th><th>metric_nice_name</th><th>uom</th><th>timestamp</th><th>value</th><th>tanksize</th><th>is_ESD</th><th>tank_type</th><th>tank_number</th><th>tank_metric</th></tr><tr><td>str</td><td>str</td><td>str</td><td>str</td><td>datetime[μs]</td><td>f64</td><td>f64</td><td>str</td><td>str</td><td>str</td><td>str</td></tr></thead><tbody><tr><td>&quot;98743&quot;</td><td>&quot;9874303&quot;</td><td>&quot;OilTank3Volume&quot;</td><td>&quot;bbl&quot;</td><td>2024-03-06 04:11:03.447424</td><td>0.053431</td><td>634.112531</td><td>null</td><td>&quot;Oil&quot;</td><td>&quot;3&quot;</td><td>&quot;Volume&quot;</td></tr><tr><td>&quot;98743&quot;</td><td>&quot;98743FAC&quot;</td><td>&quot;ESD-WaterTankInchesUntilAlarm&quot;</td><td>&quot;in&quot;</td><td>2024-03-06 04:15:21.870747</td><td>203.940865</td><td>null</td><td>&quot;ESD-&quot;</td><td>&quot;Water&quot;</td><td>&quot;&quot;</td><td>&quot;InchesUntilAlarm&quot;</td></tr><tr><td>&quot;98743&quot;</td><td>&quot;9874301&quot;</td><td>&quot;OilTank1Volume&quot;</td><td>&quot;bbl&quot;</td><td>2024-03-06 04:11:23.348001</td><td>254.343449</td><td>539.673672</td><td>null</td><td>&quot;Oil&quot;</td><td>&quot;1&quot;</td><td>&quot;Volume&quot;</td></tr><tr><td>&quot;98743&quot;</td><td>&quot;9874302&quot;</td><td>&quot;OilTank2Level&quot;</td><td>&quot;in&quot;</td><td>2024-03-06 04:14:37.850008</td><td>105.227232</td><td>622.745711</td><td>null</td><td>&quot;Oil&quot;</td><td>&quot;2&quot;</td><td>&quot;Level&quot;</td></tr><tr><td>&quot;98743&quot;</td><td>&quot;98743FAC&quot;</td><td>&quot;ESD-OilTankInchesUntilAlarm&quot;</td><td>&quot;in&quot;</td><td>2024-03-06 04:11:07.373313</td><td>395.101262</td><td>null</td><td>&quot;ESD-&quot;</td><td>&quot;Oil&quot;</td><td>&quot;&quot;</td><td>&quot;InchesUntilAlarm&quot;</td></tr><tr><td>&hellip;</td><td>&hellip;</td><td>&hellip;</td><td>&hellip;</td><td>&hellip;</td><td>&hellip;</td><td>&hellip;</td><td>&hellip;</td><td>&hellip;</td><td>&hellip;</td><td>&hellip;</td></tr><tr><td>&quot;98743&quot;</td><td>&quot;98743W1&quot;</td><td>&quot;WaterTank1Volume&quot;</td><td>&quot;bbl&quot;</td><td>2024-03-06 04:15:23.114434</td><td>267.388301</td><td>788.375819</td><td>null</td><td>&quot;Water&quot;</td><td>&quot;1&quot;</td><td>&quot;Volume&quot;</td></tr><tr><td>&quot;98743&quot;</td><td>&quot;9874301&quot;</td><td>&quot;OilTank1Level&quot;</td><td>&quot;in&quot;</td><td>2024-03-06 04:11:23.348001</td><td>91.563642</td><td>539.673672</td><td>null</td><td>&quot;Oil&quot;</td><td>&quot;1&quot;</td><td>&quot;Level&quot;</td></tr><tr><td>&quot;98743&quot;</td><td>&quot;98743FAC&quot;</td><td>&quot;ESD-WaterTankID&quot;</td><td>null</td><td>2023-11-07 09:00:00</td><td>1.0</td><td>null</td><td>&quot;ESD-&quot;</td><td>&quot;Water&quot;</td><td>&quot;&quot;</td><td>&quot;ID&quot;</td></tr><tr><td>&quot;98743&quot;</td><td>&quot;98743W2&quot;</td><td>&quot;WaterTank2Volume&quot;</td><td>&quot;bbl&quot;</td><td>2024-03-06 04:12:51.208327</td><td>182.731649</td><td>785.452495</td><td>null</td><td>&quot;Water&quot;</td><td>&quot;2&quot;</td><td>&quot;Volume&quot;</td></tr><tr><td>&quot;98743&quot;</td><td>&quot;98743W1&quot;</td><td>&quot;WaterTank1Level&quot;</td><td>&quot;in&quot;</td><td>2024-03-06 04:15:23.114434</td><td>96.259788</td><td>788.375819</td><td>null</td><td>&quot;Water&quot;</td><td>&quot;1&quot;</td><td>&quot;Level&quot;</td></tr></tbody></table></div>"
      ],
      "text/plain": [
       "shape: (14, 11)\n",
       "┌──────────┬──────────┬───────────────┬──────┬───┬────────┬───────────┬─────────────┬──────────────┐\n",
       "│ primo_id ┆ scada_id ┆ metric_nice_n ┆ uom  ┆ … ┆ is_ESD ┆ tank_type ┆ tank_number ┆ tank_metric  │\n",
       "│ ---      ┆ ---      ┆ ame           ┆ ---  ┆   ┆ ---    ┆ ---       ┆ ---         ┆ ---          │\n",
       "│ str      ┆ str      ┆ ---           ┆ str  ┆   ┆ str    ┆ str       ┆ str         ┆ str          │\n",
       "│          ┆          ┆ str           ┆      ┆   ┆        ┆           ┆             ┆              │\n",
       "╞══════════╪══════════╪═══════════════╪══════╪═══╪════════╪═══════════╪═════════════╪══════════════╡\n",
       "│ 98743    ┆ 9874303  ┆ OilTank3Volum ┆ bbl  ┆ … ┆ null   ┆ Oil       ┆ 3           ┆ Volume       │\n",
       "│          ┆          ┆ e             ┆      ┆   ┆        ┆           ┆             ┆              │\n",
       "│ 98743    ┆ 98743FAC ┆ ESD-WaterTank ┆ in   ┆ … ┆ ESD-   ┆ Water     ┆             ┆ InchesUntilA │\n",
       "│          ┆          ┆ InchesUntilAl ┆      ┆   ┆        ┆           ┆             ┆ larm         │\n",
       "│          ┆          ┆ arm           ┆      ┆   ┆        ┆           ┆             ┆              │\n",
       "│ 98743    ┆ 9874301  ┆ OilTank1Volum ┆ bbl  ┆ … ┆ null   ┆ Oil       ┆ 1           ┆ Volume       │\n",
       "│          ┆          ┆ e             ┆      ┆   ┆        ┆           ┆             ┆              │\n",
       "│ 98743    ┆ 9874302  ┆ OilTank2Level ┆ in   ┆ … ┆ null   ┆ Oil       ┆ 2           ┆ Level        │\n",
       "│ 98743    ┆ 98743FAC ┆ ESD-OilTankIn ┆ in   ┆ … ┆ ESD-   ┆ Oil       ┆             ┆ InchesUntilA │\n",
       "│          ┆          ┆ chesUntilAlar ┆      ┆   ┆        ┆           ┆             ┆ larm         │\n",
       "│          ┆          ┆ m             ┆      ┆   ┆        ┆           ┆             ┆              │\n",
       "│ …        ┆ …        ┆ …             ┆ …    ┆ … ┆ …      ┆ …         ┆ …           ┆ …            │\n",
       "│ 98743    ┆ 98743W1  ┆ WaterTank1Vol ┆ bbl  ┆ … ┆ null   ┆ Water     ┆ 1           ┆ Volume       │\n",
       "│          ┆          ┆ ume           ┆      ┆   ┆        ┆           ┆             ┆              │\n",
       "│ 98743    ┆ 9874301  ┆ OilTank1Level ┆ in   ┆ … ┆ null   ┆ Oil       ┆ 1           ┆ Level        │\n",
       "│ 98743    ┆ 98743FAC ┆ ESD-WaterTank ┆ null ┆ … ┆ ESD-   ┆ Water     ┆             ┆ ID           │\n",
       "│          ┆          ┆ ID            ┆      ┆   ┆        ┆           ┆             ┆              │\n",
       "│ 98743    ┆ 98743W2  ┆ WaterTank2Vol ┆ bbl  ┆ … ┆ null   ┆ Water     ┆ 2           ┆ Volume       │\n",
       "│          ┆          ┆ ume           ┆      ┆   ┆        ┆           ┆             ┆              │\n",
       "│ 98743    ┆ 98743W1  ┆ WaterTank1Lev ┆ in   ┆ … ┆ null   ┆ Water     ┆ 1           ┆ Level        │\n",
       "│          ┆          ┆ el            ┆      ┆   ┆        ┆           ┆             ┆              │\n",
       "└──────────┴──────────┴───────────────┴──────┴───┴────────┴───────────┴─────────────┴──────────────┘"
      ]
     },
     "execution_count": 18,
     "metadata": {},
     "output_type": "execute_result"
    }
   ],
   "source": [
    "lf = lf.unnest(\"separated_metrics\")\n",
    "lf.collect()"
   ]
  },
  {
   "cell_type": "code",
   "execution_count": 19,
   "metadata": {},
   "outputs": [
    {
     "data": {
      "text/html": [
       "<div><style>\n",
       ".dataframe > thead > tr,\n",
       ".dataframe > tbody > tr {\n",
       "  text-align: right;\n",
       "  white-space: pre-wrap;\n",
       "}\n",
       "</style>\n",
       "<small>shape: (14, 11)</small><table border=\"1\" class=\"dataframe\"><thead><tr><th>primo_id</th><th>scada_id</th><th>metric_nice_name</th><th>uom</th><th>timestamp</th><th>value</th><th>tanksize</th><th>is_ESD</th><th>tank_type</th><th>tank_number</th><th>tank_metric</th></tr><tr><td>str</td><td>str</td><td>str</td><td>str</td><td>datetime[μs]</td><td>f64</td><td>f64</td><td>str</td><td>str</td><td>u8</td><td>str</td></tr></thead><tbody><tr><td>&quot;98743&quot;</td><td>&quot;9874303&quot;</td><td>&quot;OilTank3Volume&quot;</td><td>&quot;bbl&quot;</td><td>2024-03-06 04:11:03.447424</td><td>0.053431</td><td>634.112531</td><td>null</td><td>&quot;Oil&quot;</td><td>3</td><td>&quot;Volume&quot;</td></tr><tr><td>&quot;98743&quot;</td><td>&quot;98743FAC&quot;</td><td>&quot;ESD-WaterTankInchesUntilAlarm&quot;</td><td>&quot;in&quot;</td><td>2024-03-06 04:15:21.870747</td><td>203.940865</td><td>null</td><td>&quot;ESD-&quot;</td><td>&quot;Water&quot;</td><td>null</td><td>&quot;InchesUntilAlarm&quot;</td></tr><tr><td>&quot;98743&quot;</td><td>&quot;9874301&quot;</td><td>&quot;OilTank1Volume&quot;</td><td>&quot;bbl&quot;</td><td>2024-03-06 04:11:23.348001</td><td>254.343449</td><td>539.673672</td><td>null</td><td>&quot;Oil&quot;</td><td>1</td><td>&quot;Volume&quot;</td></tr><tr><td>&quot;98743&quot;</td><td>&quot;9874302&quot;</td><td>&quot;OilTank2Level&quot;</td><td>&quot;in&quot;</td><td>2024-03-06 04:14:37.850008</td><td>105.227232</td><td>622.745711</td><td>null</td><td>&quot;Oil&quot;</td><td>2</td><td>&quot;Level&quot;</td></tr><tr><td>&quot;98743&quot;</td><td>&quot;98743FAC&quot;</td><td>&quot;ESD-OilTankInchesUntilAlarm&quot;</td><td>&quot;in&quot;</td><td>2024-03-06 04:11:07.373313</td><td>395.101262</td><td>null</td><td>&quot;ESD-&quot;</td><td>&quot;Oil&quot;</td><td>null</td><td>&quot;InchesUntilAlarm&quot;</td></tr><tr><td>&hellip;</td><td>&hellip;</td><td>&hellip;</td><td>&hellip;</td><td>&hellip;</td><td>&hellip;</td><td>&hellip;</td><td>&hellip;</td><td>&hellip;</td><td>&hellip;</td><td>&hellip;</td></tr><tr><td>&quot;98743&quot;</td><td>&quot;98743W1&quot;</td><td>&quot;WaterTank1Volume&quot;</td><td>&quot;bbl&quot;</td><td>2024-03-06 04:15:23.114434</td><td>267.388301</td><td>788.375819</td><td>null</td><td>&quot;Water&quot;</td><td>1</td><td>&quot;Volume&quot;</td></tr><tr><td>&quot;98743&quot;</td><td>&quot;9874301&quot;</td><td>&quot;OilTank1Level&quot;</td><td>&quot;in&quot;</td><td>2024-03-06 04:11:23.348001</td><td>91.563642</td><td>539.673672</td><td>null</td><td>&quot;Oil&quot;</td><td>1</td><td>&quot;Level&quot;</td></tr><tr><td>&quot;98743&quot;</td><td>&quot;98743FAC&quot;</td><td>&quot;ESD-WaterTankID&quot;</td><td>null</td><td>2023-11-07 09:00:00</td><td>1.0</td><td>null</td><td>&quot;ESD-&quot;</td><td>&quot;Water&quot;</td><td>null</td><td>&quot;ID&quot;</td></tr><tr><td>&quot;98743&quot;</td><td>&quot;98743W2&quot;</td><td>&quot;WaterTank2Volume&quot;</td><td>&quot;bbl&quot;</td><td>2024-03-06 04:12:51.208327</td><td>182.731649</td><td>785.452495</td><td>null</td><td>&quot;Water&quot;</td><td>2</td><td>&quot;Volume&quot;</td></tr><tr><td>&quot;98743&quot;</td><td>&quot;98743W1&quot;</td><td>&quot;WaterTank1Level&quot;</td><td>&quot;in&quot;</td><td>2024-03-06 04:15:23.114434</td><td>96.259788</td><td>788.375819</td><td>null</td><td>&quot;Water&quot;</td><td>1</td><td>&quot;Level&quot;</td></tr></tbody></table></div>"
      ],
      "text/plain": [
       "shape: (14, 11)\n",
       "┌──────────┬──────────┬───────────────┬──────┬───┬────────┬───────────┬─────────────┬──────────────┐\n",
       "│ primo_id ┆ scada_id ┆ metric_nice_n ┆ uom  ┆ … ┆ is_ESD ┆ tank_type ┆ tank_number ┆ tank_metric  │\n",
       "│ ---      ┆ ---      ┆ ame           ┆ ---  ┆   ┆ ---    ┆ ---       ┆ ---         ┆ ---          │\n",
       "│ str      ┆ str      ┆ ---           ┆ str  ┆   ┆ str    ┆ str       ┆ u8          ┆ str          │\n",
       "│          ┆          ┆ str           ┆      ┆   ┆        ┆           ┆             ┆              │\n",
       "╞══════════╪══════════╪═══════════════╪══════╪═══╪════════╪═══════════╪═════════════╪══════════════╡\n",
       "│ 98743    ┆ 9874303  ┆ OilTank3Volum ┆ bbl  ┆ … ┆ null   ┆ Oil       ┆ 3           ┆ Volume       │\n",
       "│          ┆          ┆ e             ┆      ┆   ┆        ┆           ┆             ┆              │\n",
       "│ 98743    ┆ 98743FAC ┆ ESD-WaterTank ┆ in   ┆ … ┆ ESD-   ┆ Water     ┆ null        ┆ InchesUntilA │\n",
       "│          ┆          ┆ InchesUntilAl ┆      ┆   ┆        ┆           ┆             ┆ larm         │\n",
       "│          ┆          ┆ arm           ┆      ┆   ┆        ┆           ┆             ┆              │\n",
       "│ 98743    ┆ 9874301  ┆ OilTank1Volum ┆ bbl  ┆ … ┆ null   ┆ Oil       ┆ 1           ┆ Volume       │\n",
       "│          ┆          ┆ e             ┆      ┆   ┆        ┆           ┆             ┆              │\n",
       "│ 98743    ┆ 9874302  ┆ OilTank2Level ┆ in   ┆ … ┆ null   ┆ Oil       ┆ 2           ┆ Level        │\n",
       "│ 98743    ┆ 98743FAC ┆ ESD-OilTankIn ┆ in   ┆ … ┆ ESD-   ┆ Oil       ┆ null        ┆ InchesUntilA │\n",
       "│          ┆          ┆ chesUntilAlar ┆      ┆   ┆        ┆           ┆             ┆ larm         │\n",
       "│          ┆          ┆ m             ┆      ┆   ┆        ┆           ┆             ┆              │\n",
       "│ …        ┆ …        ┆ …             ┆ …    ┆ … ┆ …      ┆ …         ┆ …           ┆ …            │\n",
       "│ 98743    ┆ 98743W1  ┆ WaterTank1Vol ┆ bbl  ┆ … ┆ null   ┆ Water     ┆ 1           ┆ Volume       │\n",
       "│          ┆          ┆ ume           ┆      ┆   ┆        ┆           ┆             ┆              │\n",
       "│ 98743    ┆ 9874301  ┆ OilTank1Level ┆ in   ┆ … ┆ null   ┆ Oil       ┆ 1           ┆ Level        │\n",
       "│ 98743    ┆ 98743FAC ┆ ESD-WaterTank ┆ null ┆ … ┆ ESD-   ┆ Water     ┆ null        ┆ ID           │\n",
       "│          ┆          ┆ ID            ┆      ┆   ┆        ┆           ┆             ┆              │\n",
       "│ 98743    ┆ 98743W2  ┆ WaterTank2Vol ┆ bbl  ┆ … ┆ null   ┆ Water     ┆ 2           ┆ Volume       │\n",
       "│          ┆          ┆ ume           ┆      ┆   ┆        ┆           ┆             ┆              │\n",
       "│ 98743    ┆ 98743W1  ┆ WaterTank1Lev ┆ in   ┆ … ┆ null   ┆ Water     ┆ 1           ┆ Level        │\n",
       "│          ┆          ┆ el            ┆      ┆   ┆        ┆           ┆             ┆              │\n",
       "└──────────┴──────────┴───────────────┴──────┴───┴────────┴───────────┴─────────────┴──────────────┘"
      ]
     },
     "execution_count": 19,
     "metadata": {},
     "output_type": "execute_result"
    }
   ],
   "source": [
    "lf = lf.with_columns(pl.col(\"tank_number\").cast(pl.UInt8, strict=False))\n",
    "lf.collect()"
   ]
  },
  {
   "cell_type": "code",
   "execution_count": 20,
   "metadata": {},
   "outputs": [
    {
     "data": {
      "text/html": [
       "<div><style>\n",
       ".dataframe > thead > tr,\n",
       ".dataframe > tbody > tr {\n",
       "  text-align: right;\n",
       "  white-space: pre-wrap;\n",
       "}\n",
       "</style>\n",
       "<small>shape: (7, 11)</small><table border=\"1\" class=\"dataframe\"><thead><tr><th>primo_id</th><th>tank_type</th><th>tank_number</th><th>scada_id</th><th>Level</th><th>Volume</th><th>InchesUntilAlarm</th><th>InchesToESD</th><th>TimeUntilESD</th><th>Capacity</th><th>ID</th></tr><tr><td>str</td><td>str</td><td>u8</td><td>str</td><td>f64</td><td>f64</td><td>f64</td><td>f64</td><td>f64</td><td>f64</td><td>f64</td></tr></thead><tbody><tr><td>&quot;98743&quot;</td><td>&quot;Water&quot;</td><td>null</td><td>&quot;98743FAC&quot;</td><td>null</td><td>null</td><td>203.940865</td><td>null</td><td>null</td><td>null</td><td>1.0</td></tr><tr><td>&quot;98743&quot;</td><td>&quot;Oil&quot;</td><td>2</td><td>&quot;9874302&quot;</td><td>105.227232</td><td>292.297867</td><td>null</td><td>null</td><td>null</td><td>null</td><td>null</td></tr><tr><td>&quot;98743&quot;</td><td>&quot;Oil&quot;</td><td>null</td><td>&quot;98743FAC&quot;</td><td>null</td><td>null</td><td>395.101262</td><td>null</td><td>null</td><td>null</td><td>2.0</td></tr><tr><td>&quot;98743&quot;</td><td>&quot;Oil&quot;</td><td>3</td><td>&quot;9874303&quot;</td><td>0.019235</td><td>0.053431</td><td>null</td><td>null</td><td>null</td><td>null</td><td>null</td></tr><tr><td>&quot;98743&quot;</td><td>&quot;Water&quot;</td><td>2</td><td>&quot;98743W2&quot;</td><td>65.783394</td><td>182.731649</td><td>null</td><td>null</td><td>null</td><td>null</td><td>null</td></tr><tr><td>&quot;98743&quot;</td><td>&quot;Water&quot;</td><td>1</td><td>&quot;98743W1&quot;</td><td>96.259788</td><td>267.388301</td><td>null</td><td>null</td><td>null</td><td>null</td><td>null</td></tr><tr><td>&quot;98743&quot;</td><td>&quot;Oil&quot;</td><td>1</td><td>&quot;9874301&quot;</td><td>91.563642</td><td>254.343449</td><td>null</td><td>null</td><td>null</td><td>null</td><td>null</td></tr></tbody></table></div>"
      ],
      "text/plain": [
       "shape: (7, 11)\n",
       "┌──────────┬───────────┬─────────────┬──────────┬───┬─────────────┬──────────────┬──────────┬──────┐\n",
       "│ primo_id ┆ tank_type ┆ tank_number ┆ scada_id ┆ … ┆ InchesToESD ┆ TimeUntilESD ┆ Capacity ┆ ID   │\n",
       "│ ---      ┆ ---       ┆ ---         ┆ ---      ┆   ┆ ---         ┆ ---          ┆ ---      ┆ ---  │\n",
       "│ str      ┆ str       ┆ u8          ┆ str      ┆   ┆ f64         ┆ f64          ┆ f64      ┆ f64  │\n",
       "╞══════════╪═══════════╪═════════════╪══════════╪═══╪═════════════╪══════════════╪══════════╪══════╡\n",
       "│ 98743    ┆ Water     ┆ null        ┆ 98743FAC ┆ … ┆ null        ┆ null         ┆ null     ┆ 1.0  │\n",
       "│ 98743    ┆ Oil       ┆ 2           ┆ 9874302  ┆ … ┆ null        ┆ null         ┆ null     ┆ null │\n",
       "│ 98743    ┆ Oil       ┆ null        ┆ 98743FAC ┆ … ┆ null        ┆ null         ┆ null     ┆ 2.0  │\n",
       "│ 98743    ┆ Oil       ┆ 3           ┆ 9874303  ┆ … ┆ null        ┆ null         ┆ null     ┆ null │\n",
       "│ 98743    ┆ Water     ┆ 2           ┆ 98743W2  ┆ … ┆ null        ┆ null         ┆ null     ┆ null │\n",
       "│ 98743    ┆ Water     ┆ 1           ┆ 98743W1  ┆ … ┆ null        ┆ null         ┆ null     ┆ null │\n",
       "│ 98743    ┆ Oil       ┆ 1           ┆ 9874301  ┆ … ┆ null        ┆ null         ┆ null     ┆ null │\n",
       "└──────────┴───────────┴─────────────┴──────────┴───┴─────────────┴──────────────┴──────────┴──────┘"
      ]
     },
     "execution_count": 20,
     "metadata": {},
     "output_type": "execute_result"
    }
   ],
   "source": [
    "#pivoting the data\n",
    "values = pl.col(\"value\")\n",
    "columns = pl.col(\"tank_metric\")\n",
    "pivoted_lf = lf.group_by(\"primo_id\", \"tank_type\", \"tank_number\", \"scada_id\").agg(\n",
    "    values.filter(columns == metric).first().alias(metric) for metric in tank_metrics\n",
    ")\n",
    "\n",
    "pivoted_lf.collect()"
   ]
  },
  {
   "cell_type": "code",
   "execution_count": 21,
   "metadata": {},
   "outputs": [
    {
     "data": {
      "text/html": [
       "<div><style>\n",
       ".dataframe > thead > tr,\n",
       ".dataframe > tbody > tr {\n",
       "  text-align: right;\n",
       "  white-space: pre-wrap;\n",
       "}\n",
       "</style>\n",
       "<small>shape: (2, 10)</small><table border=\"1\" class=\"dataframe\"><thead><tr><th>primo_id</th><th>tank_type</th><th>tank_number</th><th>scada_id</th><th>Level</th><th>Volume</th><th>InchesUntilAlarm</th><th>InchesToESD</th><th>TimeUntilESD</th><th>Capacity</th></tr><tr><td>str</td><td>str</td><td>u8</td><td>str</td><td>f64</td><td>f64</td><td>f64</td><td>f64</td><td>f64</td><td>f64</td></tr></thead><tbody><tr><td>&quot;98743&quot;</td><td>&quot;Oil&quot;</td><td>2</td><td>&quot;98743FAC&quot;</td><td>null</td><td>null</td><td>395.101262</td><td>null</td><td>null</td><td>null</td></tr><tr><td>&quot;98743&quot;</td><td>&quot;Water&quot;</td><td>1</td><td>&quot;98743FAC&quot;</td><td>null</td><td>null</td><td>203.940865</td><td>null</td><td>null</td><td>null</td></tr></tbody></table></div>"
      ],
      "text/plain": [
       "shape: (2, 10)\n",
       "┌──────────┬───────────┬────────────┬──────────┬───┬────────────┬───────────┬───────────┬──────────┐\n",
       "│ primo_id ┆ tank_type ┆ tank_numbe ┆ scada_id ┆ … ┆ InchesUnti ┆ InchesToE ┆ TimeUntil ┆ Capacity │\n",
       "│ ---      ┆ ---       ┆ r          ┆ ---      ┆   ┆ lAlarm     ┆ SD        ┆ ESD       ┆ ---      │\n",
       "│ str      ┆ str       ┆ ---        ┆ str      ┆   ┆ ---        ┆ ---       ┆ ---       ┆ f64      │\n",
       "│          ┆           ┆ u8         ┆          ┆   ┆ f64        ┆ f64       ┆ f64       ┆          │\n",
       "╞══════════╪═══════════╪════════════╪══════════╪═══╪════════════╪═══════════╪═══════════╪══════════╡\n",
       "│ 98743    ┆ Oil       ┆ 2          ┆ 98743FAC ┆ … ┆ 395.101262 ┆ null      ┆ null      ┆ null     │\n",
       "│ 98743    ┆ Water     ┆ 1          ┆ 98743FAC ┆ … ┆ 203.940865 ┆ null      ┆ null      ┆ null     │\n",
       "└──────────┴───────────┴────────────┴──────────┴───┴────────────┴───────────┴───────────┴──────────┘"
      ]
     },
     "execution_count": 21,
     "metadata": {},
     "output_type": "execute_result"
    }
   ],
   "source": [
    "null_condition = pl.col(\"tank_number\").is_null()\n",
    "not_null_condition = pl.col(\"tank_number\").is_not_null()\n",
    "\n",
    "null_tanks = pivoted_lf.filter(null_condition)\n",
    "numbered_tanks = pivoted_lf.filter(not_null_condition)\n",
    "\n",
    "null_tanks = null_tanks.with_columns(pl.col(\"ID\").alias(\"tank_number\"))\n",
    "null_tanks = null_tanks.drop(\"ID\")\n",
    "null_tanks = null_tanks.with_columns(pl.col(\"tank_number\").cast(pl.UInt8, strict=False))\n",
    "\n",
    "null_tanks.collect()"
   ]
  },
  {
   "cell_type": "code",
   "execution_count": 22,
   "metadata": {},
   "outputs": [
    {
     "data": {
      "text/html": [
       "<div><style>\n",
       ".dataframe > thead > tr,\n",
       ".dataframe > tbody > tr {\n",
       "  text-align: right;\n",
       "  white-space: pre-wrap;\n",
       "}\n",
       "</style>\n",
       "<small>shape: (5, 18)</small><table border=\"1\" class=\"dataframe\"><thead><tr><th>primo_id</th><th>tank_type</th><th>tank_number</th><th>scada_id</th><th>Level</th><th>Volume</th><th>InchesUntilAlarm</th><th>InchesToESD</th><th>TimeUntilESD</th><th>Capacity</th><th>ID</th><th>scada_id_right</th><th>Level_right</th><th>Volume_right</th><th>InchesUntilAlarm_right</th><th>InchesToESD_right</th><th>TimeUntilESD_right</th><th>Capacity_right</th></tr><tr><td>str</td><td>str</td><td>u8</td><td>str</td><td>f64</td><td>f64</td><td>f64</td><td>f64</td><td>f64</td><td>f64</td><td>f64</td><td>str</td><td>f64</td><td>f64</td><td>f64</td><td>f64</td><td>f64</td><td>f64</td></tr></thead><tbody><tr><td>&quot;98743&quot;</td><td>&quot;Water&quot;</td><td>2</td><td>&quot;98743W2&quot;</td><td>65.783394</td><td>182.731649</td><td>null</td><td>null</td><td>null</td><td>null</td><td>null</td><td>null</td><td>null</td><td>null</td><td>null</td><td>null</td><td>null</td><td>null</td></tr><tr><td>&quot;98743&quot;</td><td>&quot;Oil&quot;</td><td>1</td><td>&quot;9874301&quot;</td><td>91.563642</td><td>254.343449</td><td>null</td><td>null</td><td>null</td><td>null</td><td>null</td><td>null</td><td>null</td><td>null</td><td>null</td><td>null</td><td>null</td><td>null</td></tr><tr><td>&quot;98743&quot;</td><td>&quot;Oil&quot;</td><td>3</td><td>&quot;9874303&quot;</td><td>0.019235</td><td>0.053431</td><td>null</td><td>null</td><td>null</td><td>null</td><td>null</td><td>null</td><td>null</td><td>null</td><td>null</td><td>null</td><td>null</td><td>null</td></tr><tr><td>&quot;98743&quot;</td><td>&quot;Oil&quot;</td><td>2</td><td>&quot;9874302&quot;</td><td>105.227232</td><td>292.297867</td><td>null</td><td>null</td><td>null</td><td>null</td><td>null</td><td>&quot;98743FAC&quot;</td><td>null</td><td>null</td><td>395.101262</td><td>null</td><td>null</td><td>null</td></tr><tr><td>&quot;98743&quot;</td><td>&quot;Water&quot;</td><td>1</td><td>&quot;98743W1&quot;</td><td>96.259788</td><td>267.388301</td><td>null</td><td>null</td><td>null</td><td>null</td><td>null</td><td>&quot;98743FAC&quot;</td><td>null</td><td>null</td><td>203.940865</td><td>null</td><td>null</td><td>null</td></tr></tbody></table></div>"
      ],
      "text/plain": [
       "shape: (5, 18)\n",
       "┌──────────┬───────────┬────────────┬──────────┬───┬───────────┬───────────┬───────────┬───────────┐\n",
       "│ primo_id ┆ tank_type ┆ tank_numbe ┆ scada_id ┆ … ┆ InchesUnt ┆ InchesToE ┆ TimeUntil ┆ Capacity_ │\n",
       "│ ---      ┆ ---       ┆ r          ┆ ---      ┆   ┆ ilAlarm_r ┆ SD_right  ┆ ESD_right ┆ right     │\n",
       "│ str      ┆ str       ┆ ---        ┆ str      ┆   ┆ ight      ┆ ---       ┆ ---       ┆ ---       │\n",
       "│          ┆           ┆ u8         ┆          ┆   ┆ ---       ┆ f64       ┆ f64       ┆ f64       │\n",
       "│          ┆           ┆            ┆          ┆   ┆ f64       ┆           ┆           ┆           │\n",
       "╞══════════╪═══════════╪════════════╪══════════╪═══╪═══════════╪═══════════╪═══════════╪═══════════╡\n",
       "│ 98743    ┆ Water     ┆ 2          ┆ 98743W2  ┆ … ┆ null      ┆ null      ┆ null      ┆ null      │\n",
       "│ 98743    ┆ Oil       ┆ 1          ┆ 9874301  ┆ … ┆ null      ┆ null      ┆ null      ┆ null      │\n",
       "│ 98743    ┆ Oil       ┆ 3          ┆ 9874303  ┆ … ┆ null      ┆ null      ┆ null      ┆ null      │\n",
       "│ 98743    ┆ Oil       ┆ 2          ┆ 9874302  ┆ … ┆ 395.10126 ┆ null      ┆ null      ┆ null      │\n",
       "│          ┆           ┆            ┆          ┆   ┆ 2         ┆           ┆           ┆           │\n",
       "│ 98743    ┆ Water     ┆ 1          ┆ 98743W1  ┆ … ┆ 203.94086 ┆ null      ┆ null      ┆ null      │\n",
       "│          ┆           ┆            ┆          ┆   ┆ 5         ┆           ┆           ┆           │\n",
       "└──────────┴───────────┴────────────┴──────────┴───┴───────────┴───────────┴───────────┴───────────┘"
      ]
     },
     "execution_count": 22,
     "metadata": {},
     "output_type": "execute_result"
    }
   ],
   "source": [
    "joined_lf = numbered_tanks.join(null_tanks, on=[\"primo_id\", \"tank_type\", \"tank_number\"], how=\"left\")\n",
    "joined_lf.collect()"
   ]
  },
  {
   "cell_type": "code",
   "execution_count": 23,
   "metadata": {},
   "outputs": [
    {
     "data": {
      "text/html": [
       "<div><style>\n",
       ".dataframe > thead > tr,\n",
       ".dataframe > tbody > tr {\n",
       "  text-align: right;\n",
       "  white-space: pre-wrap;\n",
       "}\n",
       "</style>\n",
       "<small>shape: (5, 28)</small><table border=\"1\" class=\"dataframe\"><thead><tr><th>primo_id</th><th>tank_type</th><th>tank_number</th><th>scada_id</th><th>Level</th><th>Volume</th><th>InchesUntilAlarm</th><th>InchesToESD</th><th>TimeUntilESD</th><th>Capacity</th><th>ID</th><th>scada_id_right</th><th>Level_right</th><th>Volume_right</th><th>InchesUntilAlarm_right</th><th>InchesToESD_right</th><th>TimeUntilESD_right</th><th>Capacity_right</th><th>primo_id_right</th><th>metric_nice_name</th><th>uom</th><th>timestamp</th><th>value</th><th>tanksize</th><th>is_ESD</th><th>tank_type_right</th><th>tank_number_right</th><th>tank_metric</th></tr><tr><td>str</td><td>str</td><td>u8</td><td>str</td><td>f64</td><td>f64</td><td>f64</td><td>f64</td><td>f64</td><td>f64</td><td>f64</td><td>str</td><td>f64</td><td>f64</td><td>f64</td><td>f64</td><td>f64</td><td>f64</td><td>str</td><td>str</td><td>str</td><td>datetime[μs]</td><td>f64</td><td>f64</td><td>str</td><td>str</td><td>u8</td><td>str</td></tr></thead><tbody><tr><td>&quot;98743&quot;</td><td>&quot;Oil&quot;</td><td>2</td><td>&quot;9874302&quot;</td><td>105.227232</td><td>292.297867</td><td>null</td><td>null</td><td>null</td><td>null</td><td>null</td><td>&quot;98743FAC&quot;</td><td>null</td><td>null</td><td>395.101262</td><td>null</td><td>null</td><td>null</td><td>&quot;98743&quot;</td><td>&quot;OilTank2Level&quot;</td><td>&quot;in&quot;</td><td>2024-03-06 04:14:37.850008</td><td>105.227232</td><td>622.745711</td><td>null</td><td>&quot;Oil&quot;</td><td>2</td><td>&quot;Level&quot;</td></tr><tr><td>&quot;98743&quot;</td><td>&quot;Water&quot;</td><td>2</td><td>&quot;98743W2&quot;</td><td>65.783394</td><td>182.731649</td><td>null</td><td>null</td><td>null</td><td>null</td><td>null</td><td>null</td><td>null</td><td>null</td><td>null</td><td>null</td><td>null</td><td>null</td><td>&quot;98743&quot;</td><td>&quot;WaterTank2Level&quot;</td><td>&quot;in&quot;</td><td>2024-03-06 04:12:51.208327</td><td>65.783394</td><td>785.452495</td><td>null</td><td>&quot;Water&quot;</td><td>2</td><td>&quot;Level&quot;</td></tr><tr><td>&quot;98743&quot;</td><td>&quot;Oil&quot;</td><td>1</td><td>&quot;9874301&quot;</td><td>91.563642</td><td>254.343449</td><td>null</td><td>null</td><td>null</td><td>null</td><td>null</td><td>null</td><td>null</td><td>null</td><td>null</td><td>null</td><td>null</td><td>null</td><td>&quot;98743&quot;</td><td>&quot;OilTank1Volume&quot;</td><td>&quot;bbl&quot;</td><td>2024-03-06 04:11:23.348001</td><td>254.343449</td><td>539.673672</td><td>null</td><td>&quot;Oil&quot;</td><td>1</td><td>&quot;Volume&quot;</td></tr><tr><td>&quot;98743&quot;</td><td>&quot;Water&quot;</td><td>1</td><td>&quot;98743W1&quot;</td><td>96.259788</td><td>267.388301</td><td>null</td><td>null</td><td>null</td><td>null</td><td>null</td><td>&quot;98743FAC&quot;</td><td>null</td><td>null</td><td>203.940865</td><td>null</td><td>null</td><td>null</td><td>&quot;98743&quot;</td><td>&quot;WaterTank1Volume&quot;</td><td>&quot;bbl&quot;</td><td>2024-03-06 04:15:23.114434</td><td>267.388301</td><td>788.375819</td><td>null</td><td>&quot;Water&quot;</td><td>1</td><td>&quot;Volume&quot;</td></tr><tr><td>&quot;98743&quot;</td><td>&quot;Oil&quot;</td><td>3</td><td>&quot;9874303&quot;</td><td>0.019235</td><td>0.053431</td><td>null</td><td>null</td><td>null</td><td>null</td><td>null</td><td>null</td><td>null</td><td>null</td><td>null</td><td>null</td><td>null</td><td>null</td><td>&quot;98743&quot;</td><td>&quot;OilTank3Volume&quot;</td><td>&quot;bbl&quot;</td><td>2024-03-06 04:11:03.447424</td><td>0.053431</td><td>634.112531</td><td>null</td><td>&quot;Oil&quot;</td><td>3</td><td>&quot;Volume&quot;</td></tr></tbody></table></div>"
      ],
      "text/plain": [
       "shape: (5, 28)\n",
       "┌──────────┬───────────┬────────────┬──────────┬───┬────────┬────────────┬────────────┬────────────┐\n",
       "│ primo_id ┆ tank_type ┆ tank_numbe ┆ scada_id ┆ … ┆ is_ESD ┆ tank_type_ ┆ tank_numbe ┆ tank_metri │\n",
       "│ ---      ┆ ---       ┆ r          ┆ ---      ┆   ┆ ---    ┆ right      ┆ r_right    ┆ c          │\n",
       "│ str      ┆ str       ┆ ---        ┆ str      ┆   ┆ str    ┆ ---        ┆ ---        ┆ ---        │\n",
       "│          ┆           ┆ u8         ┆          ┆   ┆        ┆ str        ┆ u8         ┆ str        │\n",
       "╞══════════╪═══════════╪════════════╪══════════╪═══╪════════╪════════════╪════════════╪════════════╡\n",
       "│ 98743    ┆ Oil       ┆ 2          ┆ 9874302  ┆ … ┆ null   ┆ Oil        ┆ 2          ┆ Level      │\n",
       "│ 98743    ┆ Water     ┆ 2          ┆ 98743W2  ┆ … ┆ null   ┆ Water      ┆ 2          ┆ Level      │\n",
       "│ 98743    ┆ Oil       ┆ 1          ┆ 9874301  ┆ … ┆ null   ┆ Oil        ┆ 1          ┆ Volume     │\n",
       "│ 98743    ┆ Water     ┆ 1          ┆ 98743W1  ┆ … ┆ null   ┆ Water      ┆ 1          ┆ Volume     │\n",
       "│ 98743    ┆ Oil       ┆ 3          ┆ 9874303  ┆ … ┆ null   ┆ Oil        ┆ 3          ┆ Volume     │\n",
       "└──────────┴───────────┴────────────┴──────────┴───┴────────┴────────────┴────────────┴────────────┘"
      ]
     },
     "execution_count": 23,
     "metadata": {},
     "output_type": "execute_result"
    }
   ],
   "source": [
    "final_lf = joined_lf.join(lf, on=[\"scada_id\"], how=\"left\")\n",
    "final_lf = final_lf.group_by(\"primo_id\", \"tank_type\", \"tank_number\").agg(pl.all().first())\n",
    "final_lf.collect()"
   ]
  },
  {
   "cell_type": "code",
   "execution_count": 24,
   "metadata": {},
   "outputs": [
    {
     "data": {
      "text/html": [
       "<div><style>\n",
       ".dataframe > thead > tr,\n",
       ".dataframe > tbody > tr {\n",
       "  text-align: right;\n",
       "  white-space: pre-wrap;\n",
       "}\n",
       "</style>\n",
       "<small>shape: (5, 8)</small><table border=\"1\" class=\"dataframe\"><thead><tr><th>primo_id</th><th>tank_type</th><th>tank_number</th><th>Level</th><th>Volume</th><th>InchesToESD</th><th>TimeUntilESD</th><th>Capacity</th></tr><tr><td>str</td><td>str</td><td>u8</td><td>f64</td><td>f64</td><td>f64</td><td>f64</td><td>f64</td></tr></thead><tbody><tr><td>&quot;98743&quot;</td><td>&quot;Water&quot;</td><td>2</td><td>65.783394</td><td>182.731649</td><td>null</td><td>null</td><td>785.452495</td></tr><tr><td>&quot;98743&quot;</td><td>&quot;Oil&quot;</td><td>1</td><td>91.563642</td><td>254.343449</td><td>null</td><td>null</td><td>539.673672</td></tr><tr><td>&quot;98743&quot;</td><td>&quot;Water&quot;</td><td>1</td><td>96.259788</td><td>267.388301</td><td>203.940865</td><td>null</td><td>788.375819</td></tr><tr><td>&quot;98743&quot;</td><td>&quot;Oil&quot;</td><td>2</td><td>105.227232</td><td>292.297867</td><td>395.101262</td><td>null</td><td>622.745711</td></tr><tr><td>&quot;98743&quot;</td><td>&quot;Oil&quot;</td><td>3</td><td>0.019235</td><td>0.053431</td><td>null</td><td>null</td><td>634.112531</td></tr></tbody></table></div>"
      ],
      "text/plain": [
       "shape: (5, 8)\n",
       "┌──────────┬───────────┬────────────┬────────────┬────────────┬────────────┬───────────┬───────────┐\n",
       "│ primo_id ┆ tank_type ┆ tank_numbe ┆ Level      ┆ Volume     ┆ InchesToES ┆ TimeUntil ┆ Capacity  │\n",
       "│ ---      ┆ ---       ┆ r          ┆ ---        ┆ ---        ┆ D          ┆ ESD       ┆ ---       │\n",
       "│ str      ┆ str       ┆ ---        ┆ f64        ┆ f64        ┆ ---        ┆ ---       ┆ f64       │\n",
       "│          ┆           ┆ u8         ┆            ┆            ┆ f64        ┆ f64       ┆           │\n",
       "╞══════════╪═══════════╪════════════╪════════════╪════════════╪════════════╪═══════════╪═══════════╡\n",
       "│ 98743    ┆ Water     ┆ 2          ┆ 65.783394  ┆ 182.731649 ┆ null       ┆ null      ┆ 785.45249 │\n",
       "│          ┆           ┆            ┆            ┆            ┆            ┆           ┆ 5         │\n",
       "│ 98743    ┆ Oil       ┆ 1          ┆ 91.563642  ┆ 254.343449 ┆ null       ┆ null      ┆ 539.67367 │\n",
       "│          ┆           ┆            ┆            ┆            ┆            ┆           ┆ 2         │\n",
       "│ 98743    ┆ Water     ┆ 1          ┆ 96.259788  ┆ 267.388301 ┆ 203.940865 ┆ null      ┆ 788.37581 │\n",
       "│          ┆           ┆            ┆            ┆            ┆            ┆           ┆ 9         │\n",
       "│ 98743    ┆ Oil       ┆ 2          ┆ 105.227232 ┆ 292.297867 ┆ 395.101262 ┆ null      ┆ 622.74571 │\n",
       "│          ┆           ┆            ┆            ┆            ┆            ┆           ┆ 1         │\n",
       "│ 98743    ┆ Oil       ┆ 3          ┆ 0.019235   ┆ 0.053431   ┆ null       ┆ null      ┆ 634.11253 │\n",
       "│          ┆           ┆            ┆            ┆            ┆            ┆           ┆ 1         │\n",
       "└──────────┴───────────┴────────────┴────────────┴────────────┴────────────┴───────────┴───────────┘"
      ]
     },
     "execution_count": 24,
     "metadata": {},
     "output_type": "execute_result"
    }
   ],
   "source": [
    "final_lf = final_lf.with_columns(\n",
    "    pl.col(\"primo_id\"),\n",
    "    pl.col(\"tank_type\"),\n",
    "    pl.col(\"tank_number\"),\n",
    "    pl.coalesce(pl.col(\"Level\"), pl.col(\"Level_right\")).alias(\"Level\"),\n",
    "    pl.coalesce(pl.col(\"Volume\"), pl.col(\"Volume_right\")).alias(\"Volume\"),\n",
    "    pl.coalesce(pl.col(\"InchesToESD\"), pl.col(\"InchesUntilAlarm_right\")).alias(\"InchesToESD\"),\n",
    "    pl.coalesce(pl.col(\"TimeUntilESD\"), pl.col(\"TimeUntilESD_right\")).alias(\"TimeUntilESD\"),\n",
    "    pl.coalesce(pl.col(\"Capacity\"), pl.col(\"tanksize\")).alias(\"Capacity\")\n",
    ")\n",
    "\n",
    "required_columns = [\"primo_id\", \"tank_type\", \"tank_number\", \"Level\", \"Volume\", \"InchesToESD\", \"TimeUntilESD\", \"Capacity\"]\n",
    "final_lf = final_lf.select(required_columns)\n",
    "final_lf.collect()"
   ]
  },
  {
   "cell_type": "code",
   "execution_count": 25,
   "metadata": {},
   "outputs": [
    {
     "data": {
      "text/html": [
       "<div><style>\n",
       ".dataframe > thead > tr,\n",
       ".dataframe > tbody > tr {\n",
       "  text-align: right;\n",
       "  white-space: pre-wrap;\n",
       "}\n",
       "</style>\n",
       "<small>shape: (5, 8)</small><table border=\"1\" class=\"dataframe\"><thead><tr><th>primo_id</th><th>tank_type</th><th>tank_number</th><th>Level</th><th>Volume</th><th>InchesToESD</th><th>TimeUntilESD</th><th>Capacity</th></tr><tr><td>str</td><td>str</td><td>u8</td><td>f64</td><td>f64</td><td>f64</td><td>f64</td><td>f64</td></tr></thead><tbody><tr><td>&quot;98743&quot;</td><td>&quot;Oil&quot;</td><td>1</td><td>91.563642</td><td>254.343449</td><td>null</td><td>null</td><td>539.673672</td></tr><tr><td>&quot;98743&quot;</td><td>&quot;Oil&quot;</td><td>2</td><td>105.227232</td><td>292.297867</td><td>395.101262</td><td>null</td><td>622.745711</td></tr><tr><td>&quot;98743&quot;</td><td>&quot;Oil&quot;</td><td>3</td><td>0.019235</td><td>0.053431</td><td>null</td><td>null</td><td>634.112531</td></tr><tr><td>&quot;98743&quot;</td><td>&quot;Water&quot;</td><td>1</td><td>96.259788</td><td>267.388301</td><td>203.940865</td><td>null</td><td>788.375819</td></tr><tr><td>&quot;98743&quot;</td><td>&quot;Water&quot;</td><td>2</td><td>65.783394</td><td>182.731649</td><td>null</td><td>null</td><td>785.452495</td></tr></tbody></table></div>"
      ],
      "text/plain": [
       "shape: (5, 8)\n",
       "┌──────────┬───────────┬────────────┬────────────┬────────────┬────────────┬───────────┬───────────┐\n",
       "│ primo_id ┆ tank_type ┆ tank_numbe ┆ Level      ┆ Volume     ┆ InchesToES ┆ TimeUntil ┆ Capacity  │\n",
       "│ ---      ┆ ---       ┆ r          ┆ ---        ┆ ---        ┆ D          ┆ ESD       ┆ ---       │\n",
       "│ str      ┆ str       ┆ ---        ┆ f64        ┆ f64        ┆ ---        ┆ ---       ┆ f64       │\n",
       "│          ┆           ┆ u8         ┆            ┆            ┆ f64        ┆ f64       ┆           │\n",
       "╞══════════╪═══════════╪════════════╪════════════╪════════════╪════════════╪═══════════╪═══════════╡\n",
       "│ 98743    ┆ Oil       ┆ 1          ┆ 91.563642  ┆ 254.343449 ┆ null       ┆ null      ┆ 539.67367 │\n",
       "│          ┆           ┆            ┆            ┆            ┆            ┆           ┆ 2         │\n",
       "│ 98743    ┆ Oil       ┆ 2          ┆ 105.227232 ┆ 292.297867 ┆ 395.101262 ┆ null      ┆ 622.74571 │\n",
       "│          ┆           ┆            ┆            ┆            ┆            ┆           ┆ 1         │\n",
       "│ 98743    ┆ Oil       ┆ 3          ┆ 0.019235   ┆ 0.053431   ┆ null       ┆ null      ┆ 634.11253 │\n",
       "│          ┆           ┆            ┆            ┆            ┆            ┆           ┆ 1         │\n",
       "│ 98743    ┆ Water     ┆ 1          ┆ 96.259788  ┆ 267.388301 ┆ 203.940865 ┆ null      ┆ 788.37581 │\n",
       "│          ┆           ┆            ┆            ┆            ┆            ┆           ┆ 9         │\n",
       "│ 98743    ┆ Water     ┆ 2          ┆ 65.783394  ┆ 182.731649 ┆ null       ┆ null      ┆ 785.45249 │\n",
       "│          ┆           ┆            ┆            ┆            ┆            ┆           ┆ 5         │\n",
       "└──────────┴───────────┴────────────┴────────────┴────────────┴────────────┴───────────┴───────────┘"
      ]
     },
     "execution_count": 25,
     "metadata": {},
     "output_type": "execute_result"
    }
   ],
   "source": [
    "final_lf = final_lf.sort(\"primo_id\", \"tank_type\", \"tank_number\")\n",
    "final_lf.collect()"
   ]
  },
  {
   "cell_type": "code",
   "execution_count": 26,
   "metadata": {},
   "outputs": [
    {
     "data": {
      "text/html": [
       "<div><style>\n",
       ".dataframe > thead > tr,\n",
       ".dataframe > tbody > tr {\n",
       "  text-align: right;\n",
       "  white-space: pre-wrap;\n",
       "}\n",
       "</style>\n",
       "<small>shape: (5, 9)</small><table border=\"1\" class=\"dataframe\"><thead><tr><th>primo_id</th><th>tank_type</th><th>tank_number</th><th>Level</th><th>Volume</th><th>InchesToESD</th><th>TimeUntilESD</th><th>Capacity</th><th>percent_full</th></tr><tr><td>str</td><td>str</td><td>u8</td><td>f64</td><td>f64</td><td>f64</td><td>f64</td><td>f64</td><td>u8</td></tr></thead><tbody><tr><td>&quot;98743&quot;</td><td>&quot;Oil&quot;</td><td>1</td><td>91.563642</td><td>254.343449</td><td>null</td><td>null</td><td>539.673672</td><td>47</td></tr><tr><td>&quot;98743&quot;</td><td>&quot;Oil&quot;</td><td>2</td><td>105.227232</td><td>292.297867</td><td>395.101262</td><td>null</td><td>622.745711</td><td>47</td></tr><tr><td>&quot;98743&quot;</td><td>&quot;Oil&quot;</td><td>3</td><td>0.019235</td><td>0.053431</td><td>null</td><td>null</td><td>634.112531</td><td>0</td></tr><tr><td>&quot;98743&quot;</td><td>&quot;Water&quot;</td><td>1</td><td>96.259788</td><td>267.388301</td><td>203.940865</td><td>null</td><td>788.375819</td><td>34</td></tr><tr><td>&quot;98743&quot;</td><td>&quot;Water&quot;</td><td>2</td><td>65.783394</td><td>182.731649</td><td>null</td><td>null</td><td>785.452495</td><td>23</td></tr></tbody></table></div>"
      ],
      "text/plain": [
       "shape: (5, 9)\n",
       "┌──────────┬───────────┬───────────┬───────────┬───┬───────────┬───────────┬───────────┬───────────┐\n",
       "│ primo_id ┆ tank_type ┆ tank_numb ┆ Level     ┆ … ┆ InchesToE ┆ TimeUntil ┆ Capacity  ┆ percent_f │\n",
       "│ ---      ┆ ---       ┆ er        ┆ ---       ┆   ┆ SD        ┆ ESD       ┆ ---       ┆ ull       │\n",
       "│ str      ┆ str       ┆ ---       ┆ f64       ┆   ┆ ---       ┆ ---       ┆ f64       ┆ ---       │\n",
       "│          ┆           ┆ u8        ┆           ┆   ┆ f64       ┆ f64       ┆           ┆ u8        │\n",
       "╞══════════╪═══════════╪═══════════╪═══════════╪═══╪═══════════╪═══════════╪═══════════╪═══════════╡\n",
       "│ 98743    ┆ Oil       ┆ 1         ┆ 91.563642 ┆ … ┆ null      ┆ null      ┆ 539.67367 ┆ 47        │\n",
       "│          ┆           ┆           ┆           ┆   ┆           ┆           ┆ 2         ┆           │\n",
       "│ 98743    ┆ Oil       ┆ 2         ┆ 105.22723 ┆ … ┆ 395.10126 ┆ null      ┆ 622.74571 ┆ 47        │\n",
       "│          ┆           ┆           ┆ 2         ┆   ┆ 2         ┆           ┆ 1         ┆           │\n",
       "│ 98743    ┆ Oil       ┆ 3         ┆ 0.019235  ┆ … ┆ null      ┆ null      ┆ 634.11253 ┆ 0         │\n",
       "│          ┆           ┆           ┆           ┆   ┆           ┆           ┆ 1         ┆           │\n",
       "│ 98743    ┆ Water     ┆ 1         ┆ 96.259788 ┆ … ┆ 203.94086 ┆ null      ┆ 788.37581 ┆ 34        │\n",
       "│          ┆           ┆           ┆           ┆   ┆ 5         ┆           ┆ 9         ┆           │\n",
       "│ 98743    ┆ Water     ┆ 2         ┆ 65.783394 ┆ … ┆ null      ┆ null      ┆ 785.45249 ┆ 23        │\n",
       "│          ┆           ┆           ┆           ┆   ┆           ┆           ┆ 5         ┆           │\n",
       "└──────────┴───────────┴───────────┴───────────┴───┴───────────┴───────────┴───────────┴───────────┘"
      ]
     },
     "execution_count": 26,
     "metadata": {},
     "output_type": "execute_result"
    }
   ],
   "source": [
    "percent_tank_full = (pl.col(\"Volume\") / pl.col(\"Capacity\") * 100).round().cast(pl.UInt8)\n",
    "final_lf = final_lf.with_columns(percent_tank_full.alias(\"percent_full\"))\n",
    "\n",
    "final_lf.collect()"
   ]
  },
  {
   "cell_type": "code",
   "execution_count": 27,
   "metadata": {},
   "outputs": [
    {
     "data": {
      "text/html": [
       "<div><style>\n",
       ".dataframe > thead > tr,\n",
       ".dataframe > tbody > tr {\n",
       "  text-align: right;\n",
       "  white-space: pre-wrap;\n",
       "}\n",
       "</style>\n",
       "<small>shape: (5, 9)</small><table border=\"1\" class=\"dataframe\"><thead><tr><th>primo_id</th><th>tank_type</th><th>tank_number</th><th>Level</th><th>Volume</th><th>InchesToESD</th><th>TimeUntilESD</th><th>Capacity</th><th>percent_full</th></tr><tr><td>str</td><td>str</td><td>u8</td><td>f64</td><td>f64</td><td>f64</td><td>f64</td><td>f64</td><td>u8</td></tr></thead><tbody><tr><td>&quot;98743&quot;</td><td>&quot;Oil&quot;</td><td>1</td><td>91.563642</td><td>254.343449</td><td>null</td><td>null</td><td>540.0</td><td>47</td></tr><tr><td>&quot;98743&quot;</td><td>&quot;Oil&quot;</td><td>2</td><td>105.227232</td><td>292.297867</td><td>395.101262</td><td>null</td><td>623.0</td><td>47</td></tr><tr><td>&quot;98743&quot;</td><td>&quot;Oil&quot;</td><td>3</td><td>0.019235</td><td>0.053431</td><td>null</td><td>null</td><td>634.0</td><td>0</td></tr><tr><td>&quot;98743&quot;</td><td>&quot;Water&quot;</td><td>1</td><td>96.259788</td><td>267.388301</td><td>203.940865</td><td>null</td><td>788.0</td><td>34</td></tr><tr><td>&quot;98743&quot;</td><td>&quot;Water&quot;</td><td>2</td><td>65.783394</td><td>182.731649</td><td>null</td><td>null</td><td>785.0</td><td>23</td></tr></tbody></table></div>"
      ],
      "text/plain": [
       "shape: (5, 9)\n",
       "┌──────────┬───────────┬────────────┬───────────┬───┬───────────┬───────────┬──────────┬───────────┐\n",
       "│ primo_id ┆ tank_type ┆ tank_numbe ┆ Level     ┆ … ┆ InchesToE ┆ TimeUntil ┆ Capacity ┆ percent_f │\n",
       "│ ---      ┆ ---       ┆ r          ┆ ---       ┆   ┆ SD        ┆ ESD       ┆ ---      ┆ ull       │\n",
       "│ str      ┆ str       ┆ ---        ┆ f64       ┆   ┆ ---       ┆ ---       ┆ f64      ┆ ---       │\n",
       "│          ┆           ┆ u8         ┆           ┆   ┆ f64       ┆ f64       ┆          ┆ u8        │\n",
       "╞══════════╪═══════════╪════════════╪═══════════╪═══╪═══════════╪═══════════╪══════════╪═══════════╡\n",
       "│ 98743    ┆ Oil       ┆ 1          ┆ 91.563642 ┆ … ┆ null      ┆ null      ┆ 540.0    ┆ 47        │\n",
       "│ 98743    ┆ Oil       ┆ 2          ┆ 105.22723 ┆ … ┆ 395.10126 ┆ null      ┆ 623.0    ┆ 47        │\n",
       "│          ┆           ┆            ┆ 2         ┆   ┆ 2         ┆           ┆          ┆           │\n",
       "│ 98743    ┆ Oil       ┆ 3          ┆ 0.019235  ┆ … ┆ null      ┆ null      ┆ 634.0    ┆ 0         │\n",
       "│ 98743    ┆ Water     ┆ 1          ┆ 96.259788 ┆ … ┆ 203.94086 ┆ null      ┆ 788.0    ┆ 34        │\n",
       "│          ┆           ┆            ┆           ┆   ┆ 5         ┆           ┆          ┆           │\n",
       "│ 98743    ┆ Water     ┆ 2          ┆ 65.783394 ┆ … ┆ null      ┆ null      ┆ 785.0    ┆ 23        │\n",
       "└──────────┴───────────┴────────────┴───────────┴───┴───────────┴───────────┴──────────┴───────────┘"
      ]
     },
     "execution_count": 27,
     "metadata": {},
     "output_type": "execute_result"
    }
   ],
   "source": [
    "capacity_rounded = pl.col(\"Capacity\").round()\n",
    "final_lf = final_lf.with_columns(capacity_rounded.alias(\"Capacity\"))\n",
    "\n",
    "final_lf.collect()"
   ]
  },
  {
   "cell_type": "code",
   "execution_count": 28,
   "metadata": {},
   "outputs": [
    {
     "data": {
      "text/html": [
       "<div><style>\n",
       ".dataframe > thead > tr,\n",
       ".dataframe > tbody > tr {\n",
       "  text-align: right;\n",
       "  white-space: pre-wrap;\n",
       "}\n",
       "</style>\n",
       "<small>shape: (5, 9)</small><table border=\"1\" class=\"dataframe\"><thead><tr><th>primo_id</th><th>tank_type</th><th>tank_number</th><th>Level</th><th>Volume</th><th>InchesToESD</th><th>TimeUntilESD</th><th>Capacity</th><th>percent_full</th></tr><tr><td>str</td><td>str</td><td>u8</td><td>f64</td><td>u64</td><td>f64</td><td>f64</td><td>f64</td><td>u8</td></tr></thead><tbody><tr><td>&quot;98743&quot;</td><td>&quot;Oil&quot;</td><td>1</td><td>91.563642</td><td>254</td><td>null</td><td>null</td><td>540.0</td><td>47</td></tr><tr><td>&quot;98743&quot;</td><td>&quot;Oil&quot;</td><td>2</td><td>105.227232</td><td>292</td><td>395.101262</td><td>null</td><td>623.0</td><td>47</td></tr><tr><td>&quot;98743&quot;</td><td>&quot;Oil&quot;</td><td>3</td><td>0.019235</td><td>0</td><td>null</td><td>null</td><td>634.0</td><td>0</td></tr><tr><td>&quot;98743&quot;</td><td>&quot;Water&quot;</td><td>1</td><td>96.259788</td><td>267</td><td>203.940865</td><td>null</td><td>788.0</td><td>34</td></tr><tr><td>&quot;98743&quot;</td><td>&quot;Water&quot;</td><td>2</td><td>65.783394</td><td>183</td><td>null</td><td>null</td><td>785.0</td><td>23</td></tr></tbody></table></div>"
      ],
      "text/plain": [
       "shape: (5, 9)\n",
       "┌──────────┬───────────┬────────────┬───────────┬───┬───────────┬───────────┬──────────┬───────────┐\n",
       "│ primo_id ┆ tank_type ┆ tank_numbe ┆ Level     ┆ … ┆ InchesToE ┆ TimeUntil ┆ Capacity ┆ percent_f │\n",
       "│ ---      ┆ ---       ┆ r          ┆ ---       ┆   ┆ SD        ┆ ESD       ┆ ---      ┆ ull       │\n",
       "│ str      ┆ str       ┆ ---        ┆ f64       ┆   ┆ ---       ┆ ---       ┆ f64      ┆ ---       │\n",
       "│          ┆           ┆ u8         ┆           ┆   ┆ f64       ┆ f64       ┆          ┆ u8        │\n",
       "╞══════════╪═══════════╪════════════╪═══════════╪═══╪═══════════╪═══════════╪══════════╪═══════════╡\n",
       "│ 98743    ┆ Oil       ┆ 1          ┆ 91.563642 ┆ … ┆ null      ┆ null      ┆ 540.0    ┆ 47        │\n",
       "│ 98743    ┆ Oil       ┆ 2          ┆ 105.22723 ┆ … ┆ 395.10126 ┆ null      ┆ 623.0    ┆ 47        │\n",
       "│          ┆           ┆            ┆ 2         ┆   ┆ 2         ┆           ┆          ┆           │\n",
       "│ 98743    ┆ Oil       ┆ 3          ┆ 0.019235  ┆ … ┆ null      ┆ null      ┆ 634.0    ┆ 0         │\n",
       "│ 98743    ┆ Water     ┆ 1          ┆ 96.259788 ┆ … ┆ 203.94086 ┆ null      ┆ 788.0    ┆ 34        │\n",
       "│          ┆           ┆            ┆           ┆   ┆ 5         ┆           ┆          ┆           │\n",
       "│ 98743    ┆ Water     ┆ 2          ┆ 65.783394 ┆ … ┆ null      ┆ null      ┆ 785.0    ┆ 23        │\n",
       "└──────────┴───────────┴────────────┴───────────┴───┴───────────┴───────────┴──────────┴───────────┘"
      ]
     },
     "execution_count": 28,
     "metadata": {},
     "output_type": "execute_result"
    }
   ],
   "source": [
    "volume_to_feet = pl.col(\"Volume\").round().cast(pl.UInt64)\n",
    "\n",
    "final_lf = final_lf.with_columns(volume_to_feet.alias(\"Volume\"))\n",
    "\n",
    "final_lf.collect()"
   ]
  }
 ],
 "metadata": {
  "kernelspec": {
   "display_name": "tank-project-9-HCZibD-py3.12",
   "language": "python",
   "name": "python3"
  },
  "language_info": {
   "codemirror_mode": {
    "name": "ipython",
    "version": 3
   },
   "file_extension": ".py",
   "mimetype": "text/x-python",
   "name": "python",
   "nbconvert_exporter": "python",
   "pygments_lexer": "ipython3",
   "version": "3.12.1"
  }
 },
 "nbformat": 4,
 "nbformat_minor": 2
}
