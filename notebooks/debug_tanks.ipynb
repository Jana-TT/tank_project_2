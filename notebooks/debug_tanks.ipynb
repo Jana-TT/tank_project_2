{
 "cells": [
  {
   "cell_type": "code",
   "execution_count": 25,
   "metadata": {},
   "outputs": [
    {
     "data": {
      "text/html": [
       "<div><style>\n",
       ".dataframe > thead > tr,\n",
       ".dataframe > tbody > tr {\n",
       "  text-align: right;\n",
       "  white-space: pre-wrap;\n",
       "}\n",
       "</style>\n",
       "<small>shape: (30, 8)</small><table border=\"1\" class=\"dataframe\"><thead><tr><th>primo_id</th><th>scada_id</th><th>metric_nice_name</th><th>unique_id</th><th>uom</th><th>timestamp</th><th>value</th><th>tanksize</th></tr><tr><td>str</td><td>str</td><td>str</td><td>object</td><td>str</td><td>datetime[μs]</td><td>f64</td><td>f64</td></tr></thead><tbody><tr><td>&quot;480001&quot;</td><td>&quot;FTW480001&quot;</td><td>&quot;ESD-OilTankInchesUntilAlarm&quot;</td><td>0a5456a7-80da-44cd-b191-130a0a579c33</td><td>&quot;in&quot;</td><td>2024-03-06 04:14:39.113032</td><td>66.518221</td><td>null</td></tr><tr><td>&quot;480001&quot;</td><td>&quot;FTW480001&quot;</td><td>&quot;WaterTank1Capacity&quot;</td><td>1a909c77-d910-4862-b7f4-0ae902c9cbab</td><td>&quot;bbl&quot;</td><td>2023-11-07 09:00:00</td><td>410.476513</td><td>null</td></tr><tr><td>&quot;98750&quot;</td><td>&quot;98750FAC&quot;</td><td>&quot;ESD-WaterTankInchesUntilAlarm&quot;</td><td>1ea07e70-08a4-4039-9e63-f3c720492664</td><td>&quot;in&quot;</td><td>2024-03-06 04:13:06.682826</td><td>6.389699</td><td>null</td></tr><tr><td>&quot;98750&quot;</td><td>&quot;98750FAC&quot;</td><td>&quot;ESD-OilTankID&quot;</td><td>2b9672ff-5a41-4954-bb31-174d434ae296</td><td>null</td><td>2023-11-07 09:00:00</td><td>2.0</td><td>null</td></tr><tr><td>&quot;480001&quot;</td><td>&quot;FTW480001&quot;</td><td>&quot;WaterTank1Volume&quot;</td><td>33b18ec5-4680-4279-bc0e-b9f8761d9b04</td><td>&quot;bbl&quot;</td><td>2024-03-06 04:11:04.372011</td><td>58.378953</td><td>null</td></tr><tr><td>&hellip;</td><td>&hellip;</td><td>&hellip;</td><td>&hellip;</td><td>&hellip;</td><td>&hellip;</td><td>&hellip;</td><td>&hellip;</td></tr><tr><td>&quot;480001&quot;</td><td>&quot;FTW480001&quot;</td><td>&quot;ESD-WaterTankID&quot;</td><td>bf404389-f86f-47fe-8eb6-aac06db9bd77</td><td>null</td><td>2023-11-07 09:00:00</td><td>1.0</td><td>null</td></tr><tr><td>&quot;98750&quot;</td><td>&quot;9875001&quot;</td><td>&quot;OilTank1Volume&quot;</td><td>c5d41a21-f9f1-4628-b6a6-31381c7a93ac</td><td>&quot;bbl&quot;</td><td>2024-03-06 04:12:17.090127</td><td>81.984276</td><td>759.852876</td></tr><tr><td>&quot;98750&quot;</td><td>&quot;9875002&quot;</td><td>&quot;OilTank2Level&quot;</td><td>df43b466-d04b-4396-ad6c-074c896b8709</td><td>&quot;in&quot;</td><td>2024-03-06 04:14:55.660935</td><td>0.119273</td><td>756.865042</td></tr><tr><td>&quot;98750&quot;</td><td>&quot;9875001&quot;</td><td>&quot;OilTank1Level&quot;</td><td>e4565711-7f56-42b2-beed-970abf4b27fa</td><td>&quot;in&quot;</td><td>2024-03-06 04:12:17.090127</td><td>29.514339</td><td>759.852876</td></tr><tr><td>&quot;98750&quot;</td><td>&quot;98750W2&quot;</td><td>&quot;WaterTank2Level&quot;</td><td>fb1bf945-ba42-43fd-a97e-b2f2e68ee7da</td><td>&quot;in&quot;</td><td>2024-03-06 04:12:47.521029</td><td>2.002873</td><td>705.125502</td></tr></tbody></table></div>"
      ],
      "text/plain": [
       "shape: (30, 8)\n",
       "┌──────────┬───────────┬──────────────┬─────────────┬──────┬─────────────┬────────────┬────────────┐\n",
       "│ primo_id ┆ scada_id  ┆ metric_nice_ ┆ unique_id   ┆ uom  ┆ timestamp   ┆ value      ┆ tanksize   │\n",
       "│ ---      ┆ ---       ┆ name         ┆ ---         ┆ ---  ┆ ---         ┆ ---        ┆ ---        │\n",
       "│ str      ┆ str       ┆ ---          ┆ object      ┆ str  ┆ datetime[μs ┆ f64        ┆ f64        │\n",
       "│          ┆           ┆ str          ┆             ┆      ┆ ]           ┆            ┆            │\n",
       "╞══════════╪═══════════╪══════════════╪═════════════╪══════╪═════════════╪════════════╪════════════╡\n",
       "│ 480001   ┆ FTW480001 ┆ ESD-OilTankI ┆ 0a5456a7-80 ┆ in   ┆ 2024-03-06  ┆ 66.518221  ┆ null       │\n",
       "│          ┆           ┆ nchesUntilAl ┆ da-44cd-b19 ┆      ┆ 04:14:39.11 ┆            ┆            │\n",
       "│          ┆           ┆ arm          ┆ 1-130a0a…   ┆      ┆ 3032        ┆            ┆            │\n",
       "│ 480001   ┆ FTW480001 ┆ WaterTank1Ca ┆ 1a909c77-d9 ┆ bbl  ┆ 2023-11-07  ┆ 410.476513 ┆ null       │\n",
       "│          ┆           ┆ pacity       ┆ 10-4862-b7f ┆      ┆ 09:00:00    ┆            ┆            │\n",
       "│          ┆           ┆              ┆ 4-0ae902…   ┆      ┆             ┆            ┆            │\n",
       "│ 98750    ┆ 98750FAC  ┆ ESD-WaterTan ┆ 1ea07e70-08 ┆ in   ┆ 2024-03-06  ┆ 6.389699   ┆ null       │\n",
       "│          ┆           ┆ kInchesUntil ┆ a4-4039-9e6 ┆      ┆ 04:13:06.68 ┆            ┆            │\n",
       "│          ┆           ┆ Alarm        ┆ 3-f3c720…   ┆      ┆ 2826        ┆            ┆            │\n",
       "│ 98750    ┆ 98750FAC  ┆ ESD-OilTankI ┆ 2b9672ff-5a ┆ null ┆ 2023-11-07  ┆ 2.0        ┆ null       │\n",
       "│          ┆           ┆ D            ┆ 41-4954-bb3 ┆      ┆ 09:00:00    ┆            ┆            │\n",
       "│          ┆           ┆              ┆ 1-174d43…   ┆      ┆             ┆            ┆            │\n",
       "│ 480001   ┆ FTW480001 ┆ WaterTank1Vo ┆ 33b18ec5-46 ┆ bbl  ┆ 2024-03-06  ┆ 58.378953  ┆ null       │\n",
       "│          ┆           ┆ lume         ┆ 80-4279-bc0 ┆      ┆ 04:11:04.37 ┆            ┆            │\n",
       "│          ┆           ┆              ┆ e-b9f876…   ┆      ┆ 2011        ┆            ┆            │\n",
       "│ …        ┆ …         ┆ …            ┆ …           ┆ …    ┆ …           ┆ …          ┆ …          │\n",
       "│ 480001   ┆ FTW480001 ┆ ESD-WaterTan ┆ bf404389-f8 ┆ null ┆ 2023-11-07  ┆ 1.0        ┆ null       │\n",
       "│          ┆           ┆ kID          ┆ 6f-47fe-8eb ┆      ┆ 09:00:00    ┆            ┆            │\n",
       "│          ┆           ┆              ┆ 6-aac06d…   ┆      ┆             ┆            ┆            │\n",
       "│ 98750    ┆ 9875001   ┆ OilTank1Volu ┆ c5d41a21-f9 ┆ bbl  ┆ 2024-03-06  ┆ 81.984276  ┆ 759.852876 │\n",
       "│          ┆           ┆ me           ┆ f1-4628-b6a ┆      ┆ 04:12:17.09 ┆            ┆            │\n",
       "│          ┆           ┆              ┆ 6-31381c…   ┆      ┆ 0127        ┆            ┆            │\n",
       "│ 98750    ┆ 9875002   ┆ OilTank2Leve ┆ df43b466-d0 ┆ in   ┆ 2024-03-06  ┆ 0.119273   ┆ 756.865042 │\n",
       "│          ┆           ┆ l            ┆ 4b-4396-ad6 ┆      ┆ 04:14:55.66 ┆            ┆            │\n",
       "│          ┆           ┆              ┆ c-074c89…   ┆      ┆ 0935        ┆            ┆            │\n",
       "│ 98750    ┆ 9875001   ┆ OilTank1Leve ┆ e4565711-7f ┆ in   ┆ 2024-03-06  ┆ 29.514339  ┆ 759.852876 │\n",
       "│          ┆           ┆ l            ┆ 56-42b2-bee ┆      ┆ 04:12:17.09 ┆            ┆            │\n",
       "│          ┆           ┆              ┆ d-970abf…   ┆      ┆ 0127        ┆            ┆            │\n",
       "│ 98750    ┆ 98750W2   ┆ WaterTank2Le ┆ fb1bf945-ba ┆ in   ┆ 2024-03-06  ┆ 2.002873   ┆ 705.125502 │\n",
       "│          ┆           ┆ vel          ┆ 42-43fd-a97 ┆      ┆ 04:12:47.52 ┆            ┆            │\n",
       "│          ┆           ┆              ┆ e-b2f2e6…   ┆      ┆ 1029        ┆            ┆            │\n",
       "└──────────┴───────────┴──────────────┴─────────────┴──────┴─────────────┴────────────┴────────────┘"
      ]
     },
     "execution_count": 25,
     "metadata": {},
     "output_type": "execute_result"
    }
   ],
   "source": [
    "import polars as pl\n",
    "from src.main import GetTanksReq, fetch_tank_data\n",
    "\n",
    "req = GetTanksReq(primo_ids={\"480001\", \"98750\"})\n",
    "\n",
    "df = await fetch_tank_data(req)\n",
    "if df is None:\n",
    "    raise ValueError(\"df is None\")\n",
    "lf = df.lazy()\n",
    "lf.collect()"
   ]
  },
  {
   "cell_type": "code",
   "execution_count": 26,
   "metadata": {},
   "outputs": [
    {
     "data": {
      "text/html": [
       "<div><style>\n",
       ".dataframe > thead > tr,\n",
       ".dataframe > tbody > tr {\n",
       "  text-align: right;\n",
       "  white-space: pre-wrap;\n",
       "}\n",
       "</style>\n",
       "<small>shape: (30, 7)</small><table border=\"1\" class=\"dataframe\"><thead><tr><th>primo_id</th><th>scada_id</th><th>metric_nice_name</th><th>uom</th><th>timestamp</th><th>value</th><th>tanksize</th></tr><tr><td>str</td><td>str</td><td>str</td><td>str</td><td>datetime[μs]</td><td>f64</td><td>f64</td></tr></thead><tbody><tr><td>&quot;480001&quot;</td><td>&quot;FTW480001&quot;</td><td>&quot;ESD-OilTankInchesUntilAlarm&quot;</td><td>&quot;in&quot;</td><td>2024-03-06 04:14:39.113032</td><td>66.518221</td><td>null</td></tr><tr><td>&quot;480001&quot;</td><td>&quot;FTW480001&quot;</td><td>&quot;WaterTank1Capacity&quot;</td><td>&quot;bbl&quot;</td><td>2023-11-07 09:00:00</td><td>410.476513</td><td>null</td></tr><tr><td>&quot;98750&quot;</td><td>&quot;98750FAC&quot;</td><td>&quot;ESD-WaterTankInchesUntilAlarm&quot;</td><td>&quot;in&quot;</td><td>2024-03-06 04:13:06.682826</td><td>6.389699</td><td>null</td></tr><tr><td>&quot;98750&quot;</td><td>&quot;98750FAC&quot;</td><td>&quot;ESD-OilTankID&quot;</td><td>null</td><td>2023-11-07 09:00:00</td><td>2.0</td><td>null</td></tr><tr><td>&quot;480001&quot;</td><td>&quot;FTW480001&quot;</td><td>&quot;WaterTank1Volume&quot;</td><td>&quot;bbl&quot;</td><td>2024-03-06 04:11:04.372011</td><td>58.378953</td><td>null</td></tr><tr><td>&hellip;</td><td>&hellip;</td><td>&hellip;</td><td>&hellip;</td><td>&hellip;</td><td>&hellip;</td><td>&hellip;</td></tr><tr><td>&quot;480001&quot;</td><td>&quot;FTW480001&quot;</td><td>&quot;ESD-WaterTankID&quot;</td><td>null</td><td>2023-11-07 09:00:00</td><td>1.0</td><td>null</td></tr><tr><td>&quot;98750&quot;</td><td>&quot;9875001&quot;</td><td>&quot;OilTank1Volume&quot;</td><td>&quot;bbl&quot;</td><td>2024-03-06 04:12:17.090127</td><td>81.984276</td><td>759.852876</td></tr><tr><td>&quot;98750&quot;</td><td>&quot;9875002&quot;</td><td>&quot;OilTank2Level&quot;</td><td>&quot;in&quot;</td><td>2024-03-06 04:14:55.660935</td><td>0.119273</td><td>756.865042</td></tr><tr><td>&quot;98750&quot;</td><td>&quot;9875001&quot;</td><td>&quot;OilTank1Level&quot;</td><td>&quot;in&quot;</td><td>2024-03-06 04:12:17.090127</td><td>29.514339</td><td>759.852876</td></tr><tr><td>&quot;98750&quot;</td><td>&quot;98750W2&quot;</td><td>&quot;WaterTank2Level&quot;</td><td>&quot;in&quot;</td><td>2024-03-06 04:12:47.521029</td><td>2.002873</td><td>705.125502</td></tr></tbody></table></div>"
      ],
      "text/plain": [
       "shape: (30, 7)\n",
       "┌──────────┬───────────┬────────────────────────┬──────┬─────────────────┬────────────┬────────────┐\n",
       "│ primo_id ┆ scada_id  ┆ metric_nice_name       ┆ uom  ┆ timestamp       ┆ value      ┆ tanksize   │\n",
       "│ ---      ┆ ---       ┆ ---                    ┆ ---  ┆ ---             ┆ ---        ┆ ---        │\n",
       "│ str      ┆ str       ┆ str                    ┆ str  ┆ datetime[μs]    ┆ f64        ┆ f64        │\n",
       "╞══════════╪═══════════╪════════════════════════╪══════╪═════════════════╪════════════╪════════════╡\n",
       "│ 480001   ┆ FTW480001 ┆ ESD-OilTankInchesUntil ┆ in   ┆ 2024-03-06      ┆ 66.518221  ┆ null       │\n",
       "│          ┆           ┆ Alarm                  ┆      ┆ 04:14:39.113032 ┆            ┆            │\n",
       "│ 480001   ┆ FTW480001 ┆ WaterTank1Capacity     ┆ bbl  ┆ 2023-11-07      ┆ 410.476513 ┆ null       │\n",
       "│          ┆           ┆                        ┆      ┆ 09:00:00        ┆            ┆            │\n",
       "│ 98750    ┆ 98750FAC  ┆ ESD-WaterTankInchesUnt ┆ in   ┆ 2024-03-06      ┆ 6.389699   ┆ null       │\n",
       "│          ┆           ┆ ilAlarm                ┆      ┆ 04:13:06.682826 ┆            ┆            │\n",
       "│ 98750    ┆ 98750FAC  ┆ ESD-OilTankID          ┆ null ┆ 2023-11-07      ┆ 2.0        ┆ null       │\n",
       "│          ┆           ┆                        ┆      ┆ 09:00:00        ┆            ┆            │\n",
       "│ 480001   ┆ FTW480001 ┆ WaterTank1Volume       ┆ bbl  ┆ 2024-03-06      ┆ 58.378953  ┆ null       │\n",
       "│          ┆           ┆                        ┆      ┆ 04:11:04.372011 ┆            ┆            │\n",
       "│ …        ┆ …         ┆ …                      ┆ …    ┆ …               ┆ …          ┆ …          │\n",
       "│ 480001   ┆ FTW480001 ┆ ESD-WaterTankID        ┆ null ┆ 2023-11-07      ┆ 1.0        ┆ null       │\n",
       "│          ┆           ┆                        ┆      ┆ 09:00:00        ┆            ┆            │\n",
       "│ 98750    ┆ 9875001   ┆ OilTank1Volume         ┆ bbl  ┆ 2024-03-06      ┆ 81.984276  ┆ 759.852876 │\n",
       "│          ┆           ┆                        ┆      ┆ 04:12:17.090127 ┆            ┆            │\n",
       "│ 98750    ┆ 9875002   ┆ OilTank2Level          ┆ in   ┆ 2024-03-06      ┆ 0.119273   ┆ 756.865042 │\n",
       "│          ┆           ┆                        ┆      ┆ 04:14:55.660935 ┆            ┆            │\n",
       "│ 98750    ┆ 9875001   ┆ OilTank1Level          ┆ in   ┆ 2024-03-06      ┆ 29.514339  ┆ 759.852876 │\n",
       "│          ┆           ┆                        ┆      ┆ 04:12:17.090127 ┆            ┆            │\n",
       "│ 98750    ┆ 98750W2   ┆ WaterTank2Level        ┆ in   ┆ 2024-03-06      ┆ 2.002873   ┆ 705.125502 │\n",
       "│          ┆           ┆                        ┆      ┆ 04:12:47.521029 ┆            ┆            │\n",
       "└──────────┴───────────┴────────────────────────┴──────┴─────────────────┴────────────┴────────────┘"
      ]
     },
     "execution_count": 26,
     "metadata": {},
     "output_type": "execute_result"
    }
   ],
   "source": [
    "lf = lf.drop(\"unique_id\")\n",
    "lf.collect()"
   ]
  },
  {
   "cell_type": "code",
   "execution_count": 27,
   "metadata": {},
   "outputs": [
    {
     "data": {
      "text/html": [
       "<div><style>\n",
       ".dataframe > thead > tr,\n",
       ".dataframe > tbody > tr {\n",
       "  text-align: right;\n",
       "  white-space: pre-wrap;\n",
       "}\n",
       "</style>\n",
       "<small>shape: (30, 8)</small><table border=\"1\" class=\"dataframe\"><thead><tr><th>primo_id</th><th>scada_id</th><th>metric_nice_name</th><th>uom</th><th>timestamp</th><th>value</th><th>tanksize</th><th>separated_metrics</th></tr><tr><td>str</td><td>str</td><td>str</td><td>str</td><td>datetime[μs]</td><td>f64</td><td>f64</td><td>struct[4]</td></tr></thead><tbody><tr><td>&quot;480001&quot;</td><td>&quot;FTW480001&quot;</td><td>&quot;ESD-OilTankInchesUntilAlarm&quot;</td><td>&quot;in&quot;</td><td>2024-03-06 04:14:39.113032</td><td>66.518221</td><td>null</td><td>{&quot;ESD-&quot;,&quot;Oil&quot;,&quot;&quot;,&quot;InchesUntilAlarm&quot;}</td></tr><tr><td>&quot;480001&quot;</td><td>&quot;FTW480001&quot;</td><td>&quot;WaterTank1Capacity&quot;</td><td>&quot;bbl&quot;</td><td>2023-11-07 09:00:00</td><td>410.476513</td><td>null</td><td>{null,&quot;Water&quot;,&quot;1&quot;,&quot;Capacity&quot;}</td></tr><tr><td>&quot;98750&quot;</td><td>&quot;98750FAC&quot;</td><td>&quot;ESD-WaterTankInchesUntilAlarm&quot;</td><td>&quot;in&quot;</td><td>2024-03-06 04:13:06.682826</td><td>6.389699</td><td>null</td><td>{&quot;ESD-&quot;,&quot;Water&quot;,&quot;&quot;,&quot;InchesUntilAlarm&quot;}</td></tr><tr><td>&quot;98750&quot;</td><td>&quot;98750FAC&quot;</td><td>&quot;ESD-OilTankID&quot;</td><td>null</td><td>2023-11-07 09:00:00</td><td>2.0</td><td>null</td><td>{&quot;ESD-&quot;,&quot;Oil&quot;,&quot;&quot;,&quot;ID&quot;}</td></tr><tr><td>&quot;480001&quot;</td><td>&quot;FTW480001&quot;</td><td>&quot;WaterTank1Volume&quot;</td><td>&quot;bbl&quot;</td><td>2024-03-06 04:11:04.372011</td><td>58.378953</td><td>null</td><td>{null,&quot;Water&quot;,&quot;1&quot;,&quot;Volume&quot;}</td></tr><tr><td>&hellip;</td><td>&hellip;</td><td>&hellip;</td><td>&hellip;</td><td>&hellip;</td><td>&hellip;</td><td>&hellip;</td><td>&hellip;</td></tr><tr><td>&quot;480001&quot;</td><td>&quot;FTW480001&quot;</td><td>&quot;ESD-WaterTankID&quot;</td><td>null</td><td>2023-11-07 09:00:00</td><td>1.0</td><td>null</td><td>{&quot;ESD-&quot;,&quot;Water&quot;,&quot;&quot;,&quot;ID&quot;}</td></tr><tr><td>&quot;98750&quot;</td><td>&quot;9875001&quot;</td><td>&quot;OilTank1Volume&quot;</td><td>&quot;bbl&quot;</td><td>2024-03-06 04:12:17.090127</td><td>81.984276</td><td>759.852876</td><td>{null,&quot;Oil&quot;,&quot;1&quot;,&quot;Volume&quot;}</td></tr><tr><td>&quot;98750&quot;</td><td>&quot;9875002&quot;</td><td>&quot;OilTank2Level&quot;</td><td>&quot;in&quot;</td><td>2024-03-06 04:14:55.660935</td><td>0.119273</td><td>756.865042</td><td>{null,&quot;Oil&quot;,&quot;2&quot;,&quot;Level&quot;}</td></tr><tr><td>&quot;98750&quot;</td><td>&quot;9875001&quot;</td><td>&quot;OilTank1Level&quot;</td><td>&quot;in&quot;</td><td>2024-03-06 04:12:17.090127</td><td>29.514339</td><td>759.852876</td><td>{null,&quot;Oil&quot;,&quot;1&quot;,&quot;Level&quot;}</td></tr><tr><td>&quot;98750&quot;</td><td>&quot;98750W2&quot;</td><td>&quot;WaterTank2Level&quot;</td><td>&quot;in&quot;</td><td>2024-03-06 04:12:47.521029</td><td>2.002873</td><td>705.125502</td><td>{null,&quot;Water&quot;,&quot;2&quot;,&quot;Level&quot;}</td></tr></tbody></table></div>"
      ],
      "text/plain": [
       "shape: (30, 8)\n",
       "┌──────────┬───────────┬──────────────┬──────┬─────────────┬────────────┬────────────┬─────────────┐\n",
       "│ primo_id ┆ scada_id  ┆ metric_nice_ ┆ uom  ┆ timestamp   ┆ value      ┆ tanksize   ┆ separated_m │\n",
       "│ ---      ┆ ---       ┆ name         ┆ ---  ┆ ---         ┆ ---        ┆ ---        ┆ etrics      │\n",
       "│ str      ┆ str       ┆ ---          ┆ str  ┆ datetime[μs ┆ f64        ┆ f64        ┆ ---         │\n",
       "│          ┆           ┆ str          ┆      ┆ ]           ┆            ┆            ┆ struct[4]   │\n",
       "╞══════════╪═══════════╪══════════════╪══════╪═════════════╪════════════╪════════════╪═════════════╡\n",
       "│ 480001   ┆ FTW480001 ┆ ESD-OilTankI ┆ in   ┆ 2024-03-06  ┆ 66.518221  ┆ null       ┆ {\"ESD-\",\"Oi │\n",
       "│          ┆           ┆ nchesUntilAl ┆      ┆ 04:14:39.11 ┆            ┆            ┆ l\",\"\",\"Inch │\n",
       "│          ┆           ┆ arm          ┆      ┆ 3032        ┆            ┆            ┆ esUntilA…   │\n",
       "│ 480001   ┆ FTW480001 ┆ WaterTank1Ca ┆ bbl  ┆ 2023-11-07  ┆ 410.476513 ┆ null       ┆ {null,\"Wate │\n",
       "│          ┆           ┆ pacity       ┆      ┆ 09:00:00    ┆            ┆            ┆ r\",\"1\",\"Cap │\n",
       "│          ┆           ┆              ┆      ┆             ┆            ┆            ┆ acity\"}     │\n",
       "│ 98750    ┆ 98750FAC  ┆ ESD-WaterTan ┆ in   ┆ 2024-03-06  ┆ 6.389699   ┆ null       ┆ {\"ESD-\",\"Wa │\n",
       "│          ┆           ┆ kInchesUntil ┆      ┆ 04:13:06.68 ┆            ┆            ┆ ter\",\"\",\"In │\n",
       "│          ┆           ┆ Alarm        ┆      ┆ 2826        ┆            ┆            ┆ chesUnti…   │\n",
       "│ 98750    ┆ 98750FAC  ┆ ESD-OilTankI ┆ null ┆ 2023-11-07  ┆ 2.0        ┆ null       ┆ {\"ESD-\",\"Oi │\n",
       "│          ┆           ┆ D            ┆      ┆ 09:00:00    ┆            ┆            ┆ l\",\"\",\"ID\"} │\n",
       "│ 480001   ┆ FTW480001 ┆ WaterTank1Vo ┆ bbl  ┆ 2024-03-06  ┆ 58.378953  ┆ null       ┆ {null,\"Wate │\n",
       "│          ┆           ┆ lume         ┆      ┆ 04:11:04.37 ┆            ┆            ┆ r\",\"1\",\"Vol │\n",
       "│          ┆           ┆              ┆      ┆ 2011        ┆            ┆            ┆ ume\"}       │\n",
       "│ …        ┆ …         ┆ …            ┆ …    ┆ …           ┆ …          ┆ …          ┆ …           │\n",
       "│ 480001   ┆ FTW480001 ┆ ESD-WaterTan ┆ null ┆ 2023-11-07  ┆ 1.0        ┆ null       ┆ {\"ESD-\",\"Wa │\n",
       "│          ┆           ┆ kID          ┆      ┆ 09:00:00    ┆            ┆            ┆ ter\",\"\",\"ID │\n",
       "│          ┆           ┆              ┆      ┆             ┆            ┆            ┆ \"}          │\n",
       "│ 98750    ┆ 9875001   ┆ OilTank1Volu ┆ bbl  ┆ 2024-03-06  ┆ 81.984276  ┆ 759.852876 ┆ {null,\"Oil\" │\n",
       "│          ┆           ┆ me           ┆      ┆ 04:12:17.09 ┆            ┆            ┆ ,\"1\",\"Volum │\n",
       "│          ┆           ┆              ┆      ┆ 0127        ┆            ┆            ┆ e\"}         │\n",
       "│ 98750    ┆ 9875002   ┆ OilTank2Leve ┆ in   ┆ 2024-03-06  ┆ 0.119273   ┆ 756.865042 ┆ {null,\"Oil\" │\n",
       "│          ┆           ┆ l            ┆      ┆ 04:14:55.66 ┆            ┆            ┆ ,\"2\",\"Level │\n",
       "│          ┆           ┆              ┆      ┆ 0935        ┆            ┆            ┆ \"}          │\n",
       "│ 98750    ┆ 9875001   ┆ OilTank1Leve ┆ in   ┆ 2024-03-06  ┆ 29.514339  ┆ 759.852876 ┆ {null,\"Oil\" │\n",
       "│          ┆           ┆ l            ┆      ┆ 04:12:17.09 ┆            ┆            ┆ ,\"1\",\"Level │\n",
       "│          ┆           ┆              ┆      ┆ 0127        ┆            ┆            ┆ \"}          │\n",
       "│ 98750    ┆ 98750W2   ┆ WaterTank2Le ┆ in   ┆ 2024-03-06  ┆ 2.002873   ┆ 705.125502 ┆ {null,\"Wate │\n",
       "│          ┆           ┆ vel          ┆      ┆ 04:12:47.52 ┆            ┆            ┆ r\",\"2\",\"Lev │\n",
       "│          ┆           ┆              ┆      ┆ 1029        ┆            ┆            ┆ el\"}        │\n",
       "└──────────┴───────────┴──────────────┴──────┴─────────────┴────────────┴────────────┴─────────────┘"
      ]
     },
     "execution_count": 27,
     "metadata": {},
     "output_type": "execute_result"
    }
   ],
   "source": [
    "tank_metrics = [\"Level\", \"Volume\", \"InchesUntilAlarm\", \"InchesToESD\", \"TimeUntilESD\", \"Capacity\", \"ID\"]\n",
    "tank_types = [\"Water\", \"Oil\"]\n",
    "\n",
    "tank_metrics_str= \"|\".join(tank_metrics)\n",
    "tank_types_str = \"|\".join(tank_types)\n",
    "\n",
    "pattern = f'^(?<is_ESD>ESD-)?(?<tank_type>{tank_types_str})Tank(?<tank_number>[0-9]*)(?<tank_metric>{tank_metrics_str})'\n",
    "lf = lf.with_columns(separated_metrics = pl.col(\"metric_nice_name\").str.extract_groups(pattern))\n",
    "lf.collect()"
   ]
  },
  {
   "cell_type": "code",
   "execution_count": 28,
   "metadata": {},
   "outputs": [
    {
     "data": {
      "text/html": [
       "<div><style>\n",
       ".dataframe > thead > tr,\n",
       ".dataframe > tbody > tr {\n",
       "  text-align: right;\n",
       "  white-space: pre-wrap;\n",
       "}\n",
       "</style>\n",
       "<small>shape: (30, 11)</small><table border=\"1\" class=\"dataframe\"><thead><tr><th>primo_id</th><th>scada_id</th><th>metric_nice_name</th><th>uom</th><th>timestamp</th><th>value</th><th>tanksize</th><th>is_ESD</th><th>tank_type</th><th>tank_number</th><th>tank_metric</th></tr><tr><td>str</td><td>str</td><td>str</td><td>str</td><td>datetime[μs]</td><td>f64</td><td>f64</td><td>str</td><td>str</td><td>str</td><td>str</td></tr></thead><tbody><tr><td>&quot;480001&quot;</td><td>&quot;FTW480001&quot;</td><td>&quot;ESD-OilTankInchesUntilAlarm&quot;</td><td>&quot;in&quot;</td><td>2024-03-06 04:14:39.113032</td><td>66.518221</td><td>null</td><td>&quot;ESD-&quot;</td><td>&quot;Oil&quot;</td><td>&quot;&quot;</td><td>&quot;InchesUntilAlarm&quot;</td></tr><tr><td>&quot;480001&quot;</td><td>&quot;FTW480001&quot;</td><td>&quot;WaterTank1Capacity&quot;</td><td>&quot;bbl&quot;</td><td>2023-11-07 09:00:00</td><td>410.476513</td><td>null</td><td>null</td><td>&quot;Water&quot;</td><td>&quot;1&quot;</td><td>&quot;Capacity&quot;</td></tr><tr><td>&quot;98750&quot;</td><td>&quot;98750FAC&quot;</td><td>&quot;ESD-WaterTankInchesUntilAlarm&quot;</td><td>&quot;in&quot;</td><td>2024-03-06 04:13:06.682826</td><td>6.389699</td><td>null</td><td>&quot;ESD-&quot;</td><td>&quot;Water&quot;</td><td>&quot;&quot;</td><td>&quot;InchesUntilAlarm&quot;</td></tr><tr><td>&quot;98750&quot;</td><td>&quot;98750FAC&quot;</td><td>&quot;ESD-OilTankID&quot;</td><td>null</td><td>2023-11-07 09:00:00</td><td>2.0</td><td>null</td><td>&quot;ESD-&quot;</td><td>&quot;Oil&quot;</td><td>&quot;&quot;</td><td>&quot;ID&quot;</td></tr><tr><td>&quot;480001&quot;</td><td>&quot;FTW480001&quot;</td><td>&quot;WaterTank1Volume&quot;</td><td>&quot;bbl&quot;</td><td>2024-03-06 04:11:04.372011</td><td>58.378953</td><td>null</td><td>null</td><td>&quot;Water&quot;</td><td>&quot;1&quot;</td><td>&quot;Volume&quot;</td></tr><tr><td>&hellip;</td><td>&hellip;</td><td>&hellip;</td><td>&hellip;</td><td>&hellip;</td><td>&hellip;</td><td>&hellip;</td><td>&hellip;</td><td>&hellip;</td><td>&hellip;</td><td>&hellip;</td></tr><tr><td>&quot;480001&quot;</td><td>&quot;FTW480001&quot;</td><td>&quot;ESD-WaterTankID&quot;</td><td>null</td><td>2023-11-07 09:00:00</td><td>1.0</td><td>null</td><td>&quot;ESD-&quot;</td><td>&quot;Water&quot;</td><td>&quot;&quot;</td><td>&quot;ID&quot;</td></tr><tr><td>&quot;98750&quot;</td><td>&quot;9875001&quot;</td><td>&quot;OilTank1Volume&quot;</td><td>&quot;bbl&quot;</td><td>2024-03-06 04:12:17.090127</td><td>81.984276</td><td>759.852876</td><td>null</td><td>&quot;Oil&quot;</td><td>&quot;1&quot;</td><td>&quot;Volume&quot;</td></tr><tr><td>&quot;98750&quot;</td><td>&quot;9875002&quot;</td><td>&quot;OilTank2Level&quot;</td><td>&quot;in&quot;</td><td>2024-03-06 04:14:55.660935</td><td>0.119273</td><td>756.865042</td><td>null</td><td>&quot;Oil&quot;</td><td>&quot;2&quot;</td><td>&quot;Level&quot;</td></tr><tr><td>&quot;98750&quot;</td><td>&quot;9875001&quot;</td><td>&quot;OilTank1Level&quot;</td><td>&quot;in&quot;</td><td>2024-03-06 04:12:17.090127</td><td>29.514339</td><td>759.852876</td><td>null</td><td>&quot;Oil&quot;</td><td>&quot;1&quot;</td><td>&quot;Level&quot;</td></tr><tr><td>&quot;98750&quot;</td><td>&quot;98750W2&quot;</td><td>&quot;WaterTank2Level&quot;</td><td>&quot;in&quot;</td><td>2024-03-06 04:12:47.521029</td><td>2.002873</td><td>705.125502</td><td>null</td><td>&quot;Water&quot;</td><td>&quot;2&quot;</td><td>&quot;Level&quot;</td></tr></tbody></table></div>"
      ],
      "text/plain": [
       "shape: (30, 11)\n",
       "┌──────────┬───────────┬──────────────┬──────┬───┬────────┬───────────┬─────────────┬──────────────┐\n",
       "│ primo_id ┆ scada_id  ┆ metric_nice_ ┆ uom  ┆ … ┆ is_ESD ┆ tank_type ┆ tank_number ┆ tank_metric  │\n",
       "│ ---      ┆ ---       ┆ name         ┆ ---  ┆   ┆ ---    ┆ ---       ┆ ---         ┆ ---          │\n",
       "│ str      ┆ str       ┆ ---          ┆ str  ┆   ┆ str    ┆ str       ┆ str         ┆ str          │\n",
       "│          ┆           ┆ str          ┆      ┆   ┆        ┆           ┆             ┆              │\n",
       "╞══════════╪═══════════╪══════════════╪══════╪═══╪════════╪═══════════╪═════════════╪══════════════╡\n",
       "│ 480001   ┆ FTW480001 ┆ ESD-OilTankI ┆ in   ┆ … ┆ ESD-   ┆ Oil       ┆             ┆ InchesUntilA │\n",
       "│          ┆           ┆ nchesUntilAl ┆      ┆   ┆        ┆           ┆             ┆ larm         │\n",
       "│          ┆           ┆ arm          ┆      ┆   ┆        ┆           ┆             ┆              │\n",
       "│ 480001   ┆ FTW480001 ┆ WaterTank1Ca ┆ bbl  ┆ … ┆ null   ┆ Water     ┆ 1           ┆ Capacity     │\n",
       "│          ┆           ┆ pacity       ┆      ┆   ┆        ┆           ┆             ┆              │\n",
       "│ 98750    ┆ 98750FAC  ┆ ESD-WaterTan ┆ in   ┆ … ┆ ESD-   ┆ Water     ┆             ┆ InchesUntilA │\n",
       "│          ┆           ┆ kInchesUntil ┆      ┆   ┆        ┆           ┆             ┆ larm         │\n",
       "│          ┆           ┆ Alarm        ┆      ┆   ┆        ┆           ┆             ┆              │\n",
       "│ 98750    ┆ 98750FAC  ┆ ESD-OilTankI ┆ null ┆ … ┆ ESD-   ┆ Oil       ┆             ┆ ID           │\n",
       "│          ┆           ┆ D            ┆      ┆   ┆        ┆           ┆             ┆              │\n",
       "│ 480001   ┆ FTW480001 ┆ WaterTank1Vo ┆ bbl  ┆ … ┆ null   ┆ Water     ┆ 1           ┆ Volume       │\n",
       "│          ┆           ┆ lume         ┆      ┆   ┆        ┆           ┆             ┆              │\n",
       "│ …        ┆ …         ┆ …            ┆ …    ┆ … ┆ …      ┆ …         ┆ …           ┆ …            │\n",
       "│ 480001   ┆ FTW480001 ┆ ESD-WaterTan ┆ null ┆ … ┆ ESD-   ┆ Water     ┆             ┆ ID           │\n",
       "│          ┆           ┆ kID          ┆      ┆   ┆        ┆           ┆             ┆              │\n",
       "│ 98750    ┆ 9875001   ┆ OilTank1Volu ┆ bbl  ┆ … ┆ null   ┆ Oil       ┆ 1           ┆ Volume       │\n",
       "│          ┆           ┆ me           ┆      ┆   ┆        ┆           ┆             ┆              │\n",
       "│ 98750    ┆ 9875002   ┆ OilTank2Leve ┆ in   ┆ … ┆ null   ┆ Oil       ┆ 2           ┆ Level        │\n",
       "│          ┆           ┆ l            ┆      ┆   ┆        ┆           ┆             ┆              │\n",
       "│ 98750    ┆ 9875001   ┆ OilTank1Leve ┆ in   ┆ … ┆ null   ┆ Oil       ┆ 1           ┆ Level        │\n",
       "│          ┆           ┆ l            ┆      ┆   ┆        ┆           ┆             ┆              │\n",
       "│ 98750    ┆ 98750W2   ┆ WaterTank2Le ┆ in   ┆ … ┆ null   ┆ Water     ┆ 2           ┆ Level        │\n",
       "│          ┆           ┆ vel          ┆      ┆   ┆        ┆           ┆             ┆              │\n",
       "└──────────┴───────────┴──────────────┴──────┴───┴────────┴───────────┴─────────────┴──────────────┘"
      ]
     },
     "execution_count": 28,
     "metadata": {},
     "output_type": "execute_result"
    }
   ],
   "source": [
    "lf = lf.unnest(\"separated_metrics\")\n",
    "lf.collect()"
   ]
  },
  {
   "cell_type": "code",
   "execution_count": 29,
   "metadata": {},
   "outputs": [
    {
     "data": {
      "text/html": [
       "<div><style>\n",
       ".dataframe > thead > tr,\n",
       ".dataframe > tbody > tr {\n",
       "  text-align: right;\n",
       "  white-space: pre-wrap;\n",
       "}\n",
       "</style>\n",
       "<small>shape: (30, 11)</small><table border=\"1\" class=\"dataframe\"><thead><tr><th>primo_id</th><th>scada_id</th><th>metric_nice_name</th><th>uom</th><th>timestamp</th><th>value</th><th>tanksize</th><th>is_ESD</th><th>tank_type</th><th>tank_number</th><th>tank_metric</th></tr><tr><td>str</td><td>str</td><td>str</td><td>str</td><td>datetime[μs]</td><td>f64</td><td>f64</td><td>str</td><td>str</td><td>u8</td><td>str</td></tr></thead><tbody><tr><td>&quot;480001&quot;</td><td>&quot;FTW480001&quot;</td><td>&quot;ESD-OilTankInchesUntilAlarm&quot;</td><td>&quot;in&quot;</td><td>2024-03-06 04:14:39.113032</td><td>66.518221</td><td>null</td><td>&quot;ESD-&quot;</td><td>&quot;Oil&quot;</td><td>null</td><td>&quot;InchesUntilAlarm&quot;</td></tr><tr><td>&quot;480001&quot;</td><td>&quot;FTW480001&quot;</td><td>&quot;WaterTank1Capacity&quot;</td><td>&quot;bbl&quot;</td><td>2023-11-07 09:00:00</td><td>410.476513</td><td>null</td><td>null</td><td>&quot;Water&quot;</td><td>1</td><td>&quot;Capacity&quot;</td></tr><tr><td>&quot;98750&quot;</td><td>&quot;98750FAC&quot;</td><td>&quot;ESD-WaterTankInchesUntilAlarm&quot;</td><td>&quot;in&quot;</td><td>2024-03-06 04:13:06.682826</td><td>6.389699</td><td>null</td><td>&quot;ESD-&quot;</td><td>&quot;Water&quot;</td><td>null</td><td>&quot;InchesUntilAlarm&quot;</td></tr><tr><td>&quot;98750&quot;</td><td>&quot;98750FAC&quot;</td><td>&quot;ESD-OilTankID&quot;</td><td>null</td><td>2023-11-07 09:00:00</td><td>2.0</td><td>null</td><td>&quot;ESD-&quot;</td><td>&quot;Oil&quot;</td><td>null</td><td>&quot;ID&quot;</td></tr><tr><td>&quot;480001&quot;</td><td>&quot;FTW480001&quot;</td><td>&quot;WaterTank1Volume&quot;</td><td>&quot;bbl&quot;</td><td>2024-03-06 04:11:04.372011</td><td>58.378953</td><td>null</td><td>null</td><td>&quot;Water&quot;</td><td>1</td><td>&quot;Volume&quot;</td></tr><tr><td>&hellip;</td><td>&hellip;</td><td>&hellip;</td><td>&hellip;</td><td>&hellip;</td><td>&hellip;</td><td>&hellip;</td><td>&hellip;</td><td>&hellip;</td><td>&hellip;</td><td>&hellip;</td></tr><tr><td>&quot;480001&quot;</td><td>&quot;FTW480001&quot;</td><td>&quot;ESD-WaterTankID&quot;</td><td>null</td><td>2023-11-07 09:00:00</td><td>1.0</td><td>null</td><td>&quot;ESD-&quot;</td><td>&quot;Water&quot;</td><td>null</td><td>&quot;ID&quot;</td></tr><tr><td>&quot;98750&quot;</td><td>&quot;9875001&quot;</td><td>&quot;OilTank1Volume&quot;</td><td>&quot;bbl&quot;</td><td>2024-03-06 04:12:17.090127</td><td>81.984276</td><td>759.852876</td><td>null</td><td>&quot;Oil&quot;</td><td>1</td><td>&quot;Volume&quot;</td></tr><tr><td>&quot;98750&quot;</td><td>&quot;9875002&quot;</td><td>&quot;OilTank2Level&quot;</td><td>&quot;in&quot;</td><td>2024-03-06 04:14:55.660935</td><td>0.119273</td><td>756.865042</td><td>null</td><td>&quot;Oil&quot;</td><td>2</td><td>&quot;Level&quot;</td></tr><tr><td>&quot;98750&quot;</td><td>&quot;9875001&quot;</td><td>&quot;OilTank1Level&quot;</td><td>&quot;in&quot;</td><td>2024-03-06 04:12:17.090127</td><td>29.514339</td><td>759.852876</td><td>null</td><td>&quot;Oil&quot;</td><td>1</td><td>&quot;Level&quot;</td></tr><tr><td>&quot;98750&quot;</td><td>&quot;98750W2&quot;</td><td>&quot;WaterTank2Level&quot;</td><td>&quot;in&quot;</td><td>2024-03-06 04:12:47.521029</td><td>2.002873</td><td>705.125502</td><td>null</td><td>&quot;Water&quot;</td><td>2</td><td>&quot;Level&quot;</td></tr></tbody></table></div>"
      ],
      "text/plain": [
       "shape: (30, 11)\n",
       "┌──────────┬───────────┬──────────────┬──────┬───┬────────┬───────────┬─────────────┬──────────────┐\n",
       "│ primo_id ┆ scada_id  ┆ metric_nice_ ┆ uom  ┆ … ┆ is_ESD ┆ tank_type ┆ tank_number ┆ tank_metric  │\n",
       "│ ---      ┆ ---       ┆ name         ┆ ---  ┆   ┆ ---    ┆ ---       ┆ ---         ┆ ---          │\n",
       "│ str      ┆ str       ┆ ---          ┆ str  ┆   ┆ str    ┆ str       ┆ u8          ┆ str          │\n",
       "│          ┆           ┆ str          ┆      ┆   ┆        ┆           ┆             ┆              │\n",
       "╞══════════╪═══════════╪══════════════╪══════╪═══╪════════╪═══════════╪═════════════╪══════════════╡\n",
       "│ 480001   ┆ FTW480001 ┆ ESD-OilTankI ┆ in   ┆ … ┆ ESD-   ┆ Oil       ┆ null        ┆ InchesUntilA │\n",
       "│          ┆           ┆ nchesUntilAl ┆      ┆   ┆        ┆           ┆             ┆ larm         │\n",
       "│          ┆           ┆ arm          ┆      ┆   ┆        ┆           ┆             ┆              │\n",
       "│ 480001   ┆ FTW480001 ┆ WaterTank1Ca ┆ bbl  ┆ … ┆ null   ┆ Water     ┆ 1           ┆ Capacity     │\n",
       "│          ┆           ┆ pacity       ┆      ┆   ┆        ┆           ┆             ┆              │\n",
       "│ 98750    ┆ 98750FAC  ┆ ESD-WaterTan ┆ in   ┆ … ┆ ESD-   ┆ Water     ┆ null        ┆ InchesUntilA │\n",
       "│          ┆           ┆ kInchesUntil ┆      ┆   ┆        ┆           ┆             ┆ larm         │\n",
       "│          ┆           ┆ Alarm        ┆      ┆   ┆        ┆           ┆             ┆              │\n",
       "│ 98750    ┆ 98750FAC  ┆ ESD-OilTankI ┆ null ┆ … ┆ ESD-   ┆ Oil       ┆ null        ┆ ID           │\n",
       "│          ┆           ┆ D            ┆      ┆   ┆        ┆           ┆             ┆              │\n",
       "│ 480001   ┆ FTW480001 ┆ WaterTank1Vo ┆ bbl  ┆ … ┆ null   ┆ Water     ┆ 1           ┆ Volume       │\n",
       "│          ┆           ┆ lume         ┆      ┆   ┆        ┆           ┆             ┆              │\n",
       "│ …        ┆ …         ┆ …            ┆ …    ┆ … ┆ …      ┆ …         ┆ …           ┆ …            │\n",
       "│ 480001   ┆ FTW480001 ┆ ESD-WaterTan ┆ null ┆ … ┆ ESD-   ┆ Water     ┆ null        ┆ ID           │\n",
       "│          ┆           ┆ kID          ┆      ┆   ┆        ┆           ┆             ┆              │\n",
       "│ 98750    ┆ 9875001   ┆ OilTank1Volu ┆ bbl  ┆ … ┆ null   ┆ Oil       ┆ 1           ┆ Volume       │\n",
       "│          ┆           ┆ me           ┆      ┆   ┆        ┆           ┆             ┆              │\n",
       "│ 98750    ┆ 9875002   ┆ OilTank2Leve ┆ in   ┆ … ┆ null   ┆ Oil       ┆ 2           ┆ Level        │\n",
       "│          ┆           ┆ l            ┆      ┆   ┆        ┆           ┆             ┆              │\n",
       "│ 98750    ┆ 9875001   ┆ OilTank1Leve ┆ in   ┆ … ┆ null   ┆ Oil       ┆ 1           ┆ Level        │\n",
       "│          ┆           ┆ l            ┆      ┆   ┆        ┆           ┆             ┆              │\n",
       "│ 98750    ┆ 98750W2   ┆ WaterTank2Le ┆ in   ┆ … ┆ null   ┆ Water     ┆ 2           ┆ Level        │\n",
       "│          ┆           ┆ vel          ┆      ┆   ┆        ┆           ┆             ┆              │\n",
       "└──────────┴───────────┴──────────────┴──────┴───┴────────┴───────────┴─────────────┴──────────────┘"
      ]
     },
     "execution_count": 29,
     "metadata": {},
     "output_type": "execute_result"
    }
   ],
   "source": [
    "lf = lf.with_columns(pl.col(\"tank_number\").cast(pl.UInt8, strict=False))\n",
    "lf.collect()"
   ]
  },
  {
   "cell_type": "code",
   "execution_count": 30,
   "metadata": {},
   "outputs": [
    {
     "data": {
      "text/html": [
       "<div><style>\n",
       ".dataframe > thead > tr,\n",
       ".dataframe > tbody > tr {\n",
       "  text-align: right;\n",
       "  white-space: pre-wrap;\n",
       "}\n",
       "</style>\n",
       "<small>shape: (13, 11)</small><table border=\"1\" class=\"dataframe\"><thead><tr><th>primo_id</th><th>tank_type</th><th>tank_number</th><th>scada_id</th><th>Level</th><th>Volume</th><th>InchesUntilAlarm</th><th>InchesToESD</th><th>TimeUntilESD</th><th>Capacity</th><th>ID</th></tr><tr><td>str</td><td>str</td><td>u8</td><td>str</td><td>f64</td><td>f64</td><td>f64</td><td>f64</td><td>f64</td><td>f64</td><td>f64</td></tr></thead><tbody><tr><td>&quot;480001&quot;</td><td>&quot;Oil&quot;</td><td>1</td><td>&quot;FTW480001&quot;</td><td>81.727208</td><td>227.020022</td><td>null</td><td>null</td><td>null</td><td>413.344118</td><td>null</td></tr><tr><td>&quot;98750&quot;</td><td>&quot;Oil&quot;</td><td>3</td><td>&quot;9875003&quot;</td><td>120.555675</td><td>334.876875</td><td>null</td><td>null</td><td>null</td><td>null</td><td>null</td></tr><tr><td>&quot;98750&quot;</td><td>&quot;Water&quot;</td><td>2</td><td>&quot;98750W2&quot;</td><td>2.002873</td><td>5.563537</td><td>null</td><td>null</td><td>null</td><td>null</td><td>null</td></tr><tr><td>&quot;98750&quot;</td><td>&quot;Oil&quot;</td><td>null</td><td>&quot;98750FAC&quot;</td><td>null</td><td>null</td><td>115.151958</td><td>null</td><td>null</td><td>null</td><td>2.0</td></tr><tr><td>&quot;98750&quot;</td><td>&quot;Oil&quot;</td><td>1</td><td>&quot;9875001&quot;</td><td>29.514339</td><td>81.984276</td><td>null</td><td>null</td><td>null</td><td>null</td><td>null</td></tr><tr><td>&hellip;</td><td>&hellip;</td><td>&hellip;</td><td>&hellip;</td><td>&hellip;</td><td>&hellip;</td><td>&hellip;</td><td>&hellip;</td><td>&hellip;</td><td>&hellip;</td><td>&hellip;</td></tr><tr><td>&quot;98750&quot;</td><td>&quot;Water&quot;</td><td>null</td><td>&quot;98750FAC&quot;</td><td>null</td><td>null</td><td>6.389699</td><td>null</td><td>null</td><td>null</td><td>2.0</td></tr><tr><td>&quot;480001&quot;</td><td>&quot;Oil&quot;</td><td>2</td><td>&quot;FTW480001&quot;</td><td>98.825588</td><td>274.515522</td><td>null</td><td>null</td><td>null</td><td>406.099328</td><td>null</td></tr><tr><td>&quot;98750&quot;</td><td>&quot;Oil&quot;</td><td>2</td><td>&quot;9875002&quot;</td><td>0.119273</td><td>0.331315</td><td>null</td><td>null</td><td>null</td><td>null</td><td>null</td></tr><tr><td>&quot;98750&quot;</td><td>&quot;Water&quot;</td><td>1</td><td>&quot;98750W1&quot;</td><td>96.0579</td><td>266.8275</td><td>null</td><td>null</td><td>null</td><td>null</td><td>null</td></tr><tr><td>&quot;480001&quot;</td><td>&quot;Water&quot;</td><td>2</td><td>&quot;FTW480001&quot;</td><td>83.739797</td><td>232.610547</td><td>null</td><td>null</td><td>null</td><td>409.718222</td><td>null</td></tr></tbody></table></div>"
      ],
      "text/plain": [
       "shape: (13, 11)\n",
       "┌──────────┬───────────┬─────────────┬───────────┬───┬────────────┬────────────┬────────────┬──────┐\n",
       "│ primo_id ┆ tank_type ┆ tank_number ┆ scada_id  ┆ … ┆ InchesToES ┆ TimeUntilE ┆ Capacity   ┆ ID   │\n",
       "│ ---      ┆ ---       ┆ ---         ┆ ---       ┆   ┆ D          ┆ SD         ┆ ---        ┆ ---  │\n",
       "│ str      ┆ str       ┆ u8          ┆ str       ┆   ┆ ---        ┆ ---        ┆ f64        ┆ f64  │\n",
       "│          ┆           ┆             ┆           ┆   ┆ f64        ┆ f64        ┆            ┆      │\n",
       "╞══════════╪═══════════╪═════════════╪═══════════╪═══╪════════════╪════════════╪════════════╪══════╡\n",
       "│ 480001   ┆ Oil       ┆ 1           ┆ FTW480001 ┆ … ┆ null       ┆ null       ┆ 413.344118 ┆ null │\n",
       "│ 98750    ┆ Oil       ┆ 3           ┆ 9875003   ┆ … ┆ null       ┆ null       ┆ null       ┆ null │\n",
       "│ 98750    ┆ Water     ┆ 2           ┆ 98750W2   ┆ … ┆ null       ┆ null       ┆ null       ┆ null │\n",
       "│ 98750    ┆ Oil       ┆ null        ┆ 98750FAC  ┆ … ┆ null       ┆ null       ┆ null       ┆ 2.0  │\n",
       "│ 98750    ┆ Oil       ┆ 1           ┆ 9875001   ┆ … ┆ null       ┆ null       ┆ null       ┆ null │\n",
       "│ …        ┆ …         ┆ …           ┆ …         ┆ … ┆ …          ┆ …          ┆ …          ┆ …    │\n",
       "│ 98750    ┆ Water     ┆ null        ┆ 98750FAC  ┆ … ┆ null       ┆ null       ┆ null       ┆ 2.0  │\n",
       "│ 480001   ┆ Oil       ┆ 2           ┆ FTW480001 ┆ … ┆ null       ┆ null       ┆ 406.099328 ┆ null │\n",
       "│ 98750    ┆ Oil       ┆ 2           ┆ 9875002   ┆ … ┆ null       ┆ null       ┆ null       ┆ null │\n",
       "│ 98750    ┆ Water     ┆ 1           ┆ 98750W1   ┆ … ┆ null       ┆ null       ┆ null       ┆ null │\n",
       "│ 480001   ┆ Water     ┆ 2           ┆ FTW480001 ┆ … ┆ null       ┆ null       ┆ 409.718222 ┆ null │\n",
       "└──────────┴───────────┴─────────────┴───────────┴───┴────────────┴────────────┴────────────┴──────┘"
      ]
     },
     "execution_count": 30,
     "metadata": {},
     "output_type": "execute_result"
    }
   ],
   "source": [
    "#pivoting the data\n",
    "values = pl.col(\"value\")\n",
    "columns = pl.col(\"tank_metric\")\n",
    "pivoted_lf = lf.group_by(\"primo_id\", \"tank_type\", \"tank_number\", \"scada_id\").agg(\n",
    "    values.filter(columns == metric).first().alias(metric) for metric in tank_metrics\n",
    ")\n",
    "\n",
    "pivoted_lf.collect()"
   ]
  },
  {
   "cell_type": "code",
   "execution_count": 31,
   "metadata": {},
   "outputs": [
    {
     "data": {
      "text/html": [
       "<div><style>\n",
       ".dataframe > thead > tr,\n",
       ".dataframe > tbody > tr {\n",
       "  text-align: right;\n",
       "  white-space: pre-wrap;\n",
       "}\n",
       "</style>\n",
       "<small>shape: (4, 10)</small><table border=\"1\" class=\"dataframe\"><thead><tr><th>primo_id</th><th>tank_type</th><th>tank_number</th><th>scada_id</th><th>Level</th><th>Volume</th><th>InchesUntilAlarm</th><th>InchesToESD</th><th>TimeUntilESD</th><th>Capacity</th></tr><tr><td>str</td><td>str</td><td>u8</td><td>str</td><td>f64</td><td>f64</td><td>f64</td><td>f64</td><td>f64</td><td>f64</td></tr></thead><tbody><tr><td>&quot;98750&quot;</td><td>&quot;Water&quot;</td><td>2</td><td>&quot;98750FAC&quot;</td><td>null</td><td>null</td><td>6.389699</td><td>null</td><td>null</td><td>null</td></tr><tr><td>&quot;480001&quot;</td><td>&quot;Water&quot;</td><td>1</td><td>&quot;FTW480001&quot;</td><td>null</td><td>null</td><td>173.40877</td><td>null</td><td>null</td><td>null</td></tr><tr><td>&quot;98750&quot;</td><td>&quot;Oil&quot;</td><td>2</td><td>&quot;98750FAC&quot;</td><td>null</td><td>null</td><td>115.151958</td><td>null</td><td>null</td><td>null</td></tr><tr><td>&quot;480001&quot;</td><td>&quot;Oil&quot;</td><td>1</td><td>&quot;FTW480001&quot;</td><td>null</td><td>null</td><td>66.518221</td><td>null</td><td>null</td><td>null</td></tr></tbody></table></div>"
      ],
      "text/plain": [
       "shape: (4, 10)\n",
       "┌──────────┬───────────┬────────────┬───────────┬───┬───────────┬───────────┬───────────┬──────────┐\n",
       "│ primo_id ┆ tank_type ┆ tank_numbe ┆ scada_id  ┆ … ┆ InchesUnt ┆ InchesToE ┆ TimeUntil ┆ Capacity │\n",
       "│ ---      ┆ ---       ┆ r          ┆ ---       ┆   ┆ ilAlarm   ┆ SD        ┆ ESD       ┆ ---      │\n",
       "│ str      ┆ str       ┆ ---        ┆ str       ┆   ┆ ---       ┆ ---       ┆ ---       ┆ f64      │\n",
       "│          ┆           ┆ u8         ┆           ┆   ┆ f64       ┆ f64       ┆ f64       ┆          │\n",
       "╞══════════╪═══════════╪════════════╪═══════════╪═══╪═══════════╪═══════════╪═══════════╪══════════╡\n",
       "│ 98750    ┆ Water     ┆ 2          ┆ 98750FAC  ┆ … ┆ 6.389699  ┆ null      ┆ null      ┆ null     │\n",
       "│ 480001   ┆ Water     ┆ 1          ┆ FTW480001 ┆ … ┆ 173.40877 ┆ null      ┆ null      ┆ null     │\n",
       "│ 98750    ┆ Oil       ┆ 2          ┆ 98750FAC  ┆ … ┆ 115.15195 ┆ null      ┆ null      ┆ null     │\n",
       "│          ┆           ┆            ┆           ┆   ┆ 8         ┆           ┆           ┆          │\n",
       "│ 480001   ┆ Oil       ┆ 1          ┆ FTW480001 ┆ … ┆ 66.518221 ┆ null      ┆ null      ┆ null     │\n",
       "└──────────┴───────────┴────────────┴───────────┴───┴───────────┴───────────┴───────────┴──────────┘"
      ]
     },
     "execution_count": 31,
     "metadata": {},
     "output_type": "execute_result"
    }
   ],
   "source": [
    "null_condition = pl.col(\"tank_number\").is_null()\n",
    "not_null_condition = pl.col(\"tank_number\").is_not_null()\n",
    "\n",
    "null_tanks = pivoted_lf.filter(null_condition)\n",
    "numbered_tanks = pivoted_lf.filter(not_null_condition)\n",
    "\n",
    "null_tanks = null_tanks.with_columns(pl.col(\"ID\").alias(\"tank_number\"))\n",
    "null_tanks = null_tanks.drop(\"ID\")\n",
    "null_tanks = null_tanks.with_columns(pl.col(\"tank_number\").cast(pl.UInt8, strict=False))\n",
    "\n",
    "null_tanks.collect()"
   ]
  },
  {
   "cell_type": "code",
   "execution_count": 32,
   "metadata": {},
   "outputs": [
    {
     "data": {
      "text/html": [
       "<div><style>\n",
       ".dataframe > thead > tr,\n",
       ".dataframe > tbody > tr {\n",
       "  text-align: right;\n",
       "  white-space: pre-wrap;\n",
       "}\n",
       "</style>\n",
       "<small>shape: (9, 18)</small><table border=\"1\" class=\"dataframe\"><thead><tr><th>primo_id</th><th>tank_type</th><th>tank_number</th><th>scada_id</th><th>Level</th><th>Volume</th><th>InchesUntilAlarm</th><th>InchesToESD</th><th>TimeUntilESD</th><th>Capacity</th><th>ID</th><th>scada_id_right</th><th>Level_right</th><th>Volume_right</th><th>InchesUntilAlarm_right</th><th>InchesToESD_right</th><th>TimeUntilESD_right</th><th>Capacity_right</th></tr><tr><td>str</td><td>str</td><td>u8</td><td>str</td><td>f64</td><td>f64</td><td>f64</td><td>f64</td><td>f64</td><td>f64</td><td>f64</td><td>str</td><td>f64</td><td>f64</td><td>f64</td><td>f64</td><td>f64</td><td>f64</td></tr></thead><tbody><tr><td>&quot;480001&quot;</td><td>&quot;Water&quot;</td><td>1</td><td>&quot;FTW480001&quot;</td><td>21.016423</td><td>58.378953</td><td>null</td><td>null</td><td>null</td><td>410.476513</td><td>null</td><td>&quot;FTW480001&quot;</td><td>null</td><td>null</td><td>173.40877</td><td>null</td><td>null</td><td>null</td></tr><tr><td>&quot;98750&quot;</td><td>&quot;Oil&quot;</td><td>2</td><td>&quot;9875002&quot;</td><td>0.119273</td><td>0.331315</td><td>null</td><td>null</td><td>null</td><td>null</td><td>null</td><td>&quot;98750FAC&quot;</td><td>null</td><td>null</td><td>115.151958</td><td>null</td><td>null</td><td>null</td></tr><tr><td>&quot;480001&quot;</td><td>&quot;Oil&quot;</td><td>1</td><td>&quot;FTW480001&quot;</td><td>81.727208</td><td>227.020022</td><td>null</td><td>null</td><td>null</td><td>413.344118</td><td>null</td><td>&quot;FTW480001&quot;</td><td>null</td><td>null</td><td>66.518221</td><td>null</td><td>null</td><td>null</td></tr><tr><td>&quot;98750&quot;</td><td>&quot;Water&quot;</td><td>1</td><td>&quot;98750W1&quot;</td><td>96.0579</td><td>266.8275</td><td>null</td><td>null</td><td>null</td><td>null</td><td>null</td><td>null</td><td>null</td><td>null</td><td>null</td><td>null</td><td>null</td><td>null</td></tr><tr><td>&quot;98750&quot;</td><td>&quot;Oil&quot;</td><td>3</td><td>&quot;9875003&quot;</td><td>120.555675</td><td>334.876875</td><td>null</td><td>null</td><td>null</td><td>null</td><td>null</td><td>null</td><td>null</td><td>null</td><td>null</td><td>null</td><td>null</td><td>null</td></tr><tr><td>&quot;98750&quot;</td><td>&quot;Oil&quot;</td><td>1</td><td>&quot;9875001&quot;</td><td>29.514339</td><td>81.984276</td><td>null</td><td>null</td><td>null</td><td>null</td><td>null</td><td>null</td><td>null</td><td>null</td><td>null</td><td>null</td><td>null</td><td>null</td></tr><tr><td>&quot;98750&quot;</td><td>&quot;Water&quot;</td><td>2</td><td>&quot;98750W2&quot;</td><td>2.002873</td><td>5.563537</td><td>null</td><td>null</td><td>null</td><td>null</td><td>null</td><td>&quot;98750FAC&quot;</td><td>null</td><td>null</td><td>6.389699</td><td>null</td><td>null</td><td>null</td></tr><tr><td>&quot;480001&quot;</td><td>&quot;Oil&quot;</td><td>2</td><td>&quot;FTW480001&quot;</td><td>98.825588</td><td>274.515522</td><td>null</td><td>null</td><td>null</td><td>406.099328</td><td>null</td><td>null</td><td>null</td><td>null</td><td>null</td><td>null</td><td>null</td><td>null</td></tr><tr><td>&quot;480001&quot;</td><td>&quot;Water&quot;</td><td>2</td><td>&quot;FTW480001&quot;</td><td>83.739797</td><td>232.610547</td><td>null</td><td>null</td><td>null</td><td>409.718222</td><td>null</td><td>null</td><td>null</td><td>null</td><td>null</td><td>null</td><td>null</td><td>null</td></tr></tbody></table></div>"
      ],
      "text/plain": [
       "shape: (9, 18)\n",
       "┌──────────┬───────────┬───────────┬───────────┬───┬───────────┬───────────┬───────────┬───────────┐\n",
       "│ primo_id ┆ tank_type ┆ tank_numb ┆ scada_id  ┆ … ┆ InchesUnt ┆ InchesToE ┆ TimeUntil ┆ Capacity_ │\n",
       "│ ---      ┆ ---       ┆ er        ┆ ---       ┆   ┆ ilAlarm_r ┆ SD_right  ┆ ESD_right ┆ right     │\n",
       "│ str      ┆ str       ┆ ---       ┆ str       ┆   ┆ ight      ┆ ---       ┆ ---       ┆ ---       │\n",
       "│          ┆           ┆ u8        ┆           ┆   ┆ ---       ┆ f64       ┆ f64       ┆ f64       │\n",
       "│          ┆           ┆           ┆           ┆   ┆ f64       ┆           ┆           ┆           │\n",
       "╞══════════╪═══════════╪═══════════╪═══════════╪═══╪═══════════╪═══════════╪═══════════╪═══════════╡\n",
       "│ 480001   ┆ Water     ┆ 1         ┆ FTW480001 ┆ … ┆ 173.40877 ┆ null      ┆ null      ┆ null      │\n",
       "│ 98750    ┆ Oil       ┆ 2         ┆ 9875002   ┆ … ┆ 115.15195 ┆ null      ┆ null      ┆ null      │\n",
       "│          ┆           ┆           ┆           ┆   ┆ 8         ┆           ┆           ┆           │\n",
       "│ 480001   ┆ Oil       ┆ 1         ┆ FTW480001 ┆ … ┆ 66.518221 ┆ null      ┆ null      ┆ null      │\n",
       "│ 98750    ┆ Water     ┆ 1         ┆ 98750W1   ┆ … ┆ null      ┆ null      ┆ null      ┆ null      │\n",
       "│ 98750    ┆ Oil       ┆ 3         ┆ 9875003   ┆ … ┆ null      ┆ null      ┆ null      ┆ null      │\n",
       "│ 98750    ┆ Oil       ┆ 1         ┆ 9875001   ┆ … ┆ null      ┆ null      ┆ null      ┆ null      │\n",
       "│ 98750    ┆ Water     ┆ 2         ┆ 98750W2   ┆ … ┆ 6.389699  ┆ null      ┆ null      ┆ null      │\n",
       "│ 480001   ┆ Oil       ┆ 2         ┆ FTW480001 ┆ … ┆ null      ┆ null      ┆ null      ┆ null      │\n",
       "│ 480001   ┆ Water     ┆ 2         ┆ FTW480001 ┆ … ┆ null      ┆ null      ┆ null      ┆ null      │\n",
       "└──────────┴───────────┴───────────┴───────────┴───┴───────────┴───────────┴───────────┴───────────┘"
      ]
     },
     "execution_count": 32,
     "metadata": {},
     "output_type": "execute_result"
    }
   ],
   "source": [
    "joined_lf = numbered_tanks.join(null_tanks, on=[\"primo_id\", \"tank_type\", \"tank_number\"], how=\"left\")\n",
    "joined_lf.collect()"
   ]
  },
  {
   "cell_type": "code",
   "execution_count": 33,
   "metadata": {},
   "outputs": [
    {
     "data": {
      "text/html": [
       "<div><style>\n",
       ".dataframe > thead > tr,\n",
       ".dataframe > tbody > tr {\n",
       "  text-align: right;\n",
       "  white-space: pre-wrap;\n",
       "}\n",
       "</style>\n",
       "<small>shape: (9, 28)</small><table border=\"1\" class=\"dataframe\"><thead><tr><th>primo_id</th><th>tank_type</th><th>tank_number</th><th>scada_id</th><th>Level</th><th>Volume</th><th>InchesUntilAlarm</th><th>InchesToESD</th><th>TimeUntilESD</th><th>Capacity</th><th>ID</th><th>scada_id_right</th><th>Level_right</th><th>Volume_right</th><th>InchesUntilAlarm_right</th><th>InchesToESD_right</th><th>TimeUntilESD_right</th><th>Capacity_right</th><th>primo_id_right</th><th>metric_nice_name</th><th>uom</th><th>timestamp</th><th>value</th><th>tanksize</th><th>is_ESD</th><th>tank_type_right</th><th>tank_number_right</th><th>tank_metric</th></tr><tr><td>str</td><td>str</td><td>u8</td><td>str</td><td>f64</td><td>f64</td><td>f64</td><td>f64</td><td>f64</td><td>f64</td><td>f64</td><td>str</td><td>f64</td><td>f64</td><td>f64</td><td>f64</td><td>f64</td><td>f64</td><td>str</td><td>str</td><td>str</td><td>datetime[μs]</td><td>f64</td><td>f64</td><td>str</td><td>str</td><td>u8</td><td>str</td></tr></thead><tbody><tr><td>&quot;98750&quot;</td><td>&quot;Water&quot;</td><td>1</td><td>&quot;98750W1&quot;</td><td>96.0579</td><td>266.8275</td><td>null</td><td>null</td><td>null</td><td>null</td><td>null</td><td>null</td><td>null</td><td>null</td><td>null</td><td>null</td><td>null</td><td>null</td><td>&quot;98750&quot;</td><td>&quot;WaterTank1Level&quot;</td><td>&quot;in&quot;</td><td>2024-03-06 04:14:36.808172</td><td>96.0579</td><td>747.18609</td><td>null</td><td>&quot;Water&quot;</td><td>1</td><td>&quot;Level&quot;</td></tr><tr><td>&quot;98750&quot;</td><td>&quot;Oil&quot;</td><td>1</td><td>&quot;9875001&quot;</td><td>29.514339</td><td>81.984276</td><td>null</td><td>null</td><td>null</td><td>null</td><td>null</td><td>null</td><td>null</td><td>null</td><td>null</td><td>null</td><td>null</td><td>null</td><td>&quot;98750&quot;</td><td>&quot;OilTank1Volume&quot;</td><td>&quot;bbl&quot;</td><td>2024-03-06 04:12:17.090127</td><td>81.984276</td><td>759.852876</td><td>null</td><td>&quot;Oil&quot;</td><td>1</td><td>&quot;Volume&quot;</td></tr><tr><td>&quot;98750&quot;</td><td>&quot;Oil&quot;</td><td>2</td><td>&quot;9875002&quot;</td><td>0.119273</td><td>0.331315</td><td>null</td><td>null</td><td>null</td><td>null</td><td>null</td><td>&quot;98750FAC&quot;</td><td>null</td><td>null</td><td>115.151958</td><td>null</td><td>null</td><td>null</td><td>&quot;98750&quot;</td><td>&quot;OilTank2Volume&quot;</td><td>&quot;bbl&quot;</td><td>2024-03-06 04:14:55.660935</td><td>0.331315</td><td>756.865042</td><td>null</td><td>&quot;Oil&quot;</td><td>2</td><td>&quot;Volume&quot;</td></tr><tr><td>&quot;480001&quot;</td><td>&quot;Water&quot;</td><td>2</td><td>&quot;FTW480001&quot;</td><td>83.739797</td><td>232.610547</td><td>null</td><td>null</td><td>null</td><td>409.718222</td><td>null</td><td>null</td><td>null</td><td>null</td><td>null</td><td>null</td><td>null</td><td>null</td><td>&quot;480001&quot;</td><td>&quot;ESD-OilTankInchesUntilAlarm&quot;</td><td>&quot;in&quot;</td><td>2024-03-06 04:14:39.113032</td><td>66.518221</td><td>null</td><td>&quot;ESD-&quot;</td><td>&quot;Oil&quot;</td><td>null</td><td>&quot;InchesUntilAlarm&quot;</td></tr><tr><td>&quot;480001&quot;</td><td>&quot;Oil&quot;</td><td>2</td><td>&quot;FTW480001&quot;</td><td>98.825588</td><td>274.515522</td><td>null</td><td>null</td><td>null</td><td>406.099328</td><td>null</td><td>null</td><td>null</td><td>null</td><td>null</td><td>null</td><td>null</td><td>null</td><td>&quot;480001&quot;</td><td>&quot;ESD-OilTankInchesUntilAlarm&quot;</td><td>&quot;in&quot;</td><td>2024-03-06 04:14:39.113032</td><td>66.518221</td><td>null</td><td>&quot;ESD-&quot;</td><td>&quot;Oil&quot;</td><td>null</td><td>&quot;InchesUntilAlarm&quot;</td></tr><tr><td>&quot;480001&quot;</td><td>&quot;Water&quot;</td><td>1</td><td>&quot;FTW480001&quot;</td><td>21.016423</td><td>58.378953</td><td>null</td><td>null</td><td>null</td><td>410.476513</td><td>null</td><td>&quot;FTW480001&quot;</td><td>null</td><td>null</td><td>173.40877</td><td>null</td><td>null</td><td>null</td><td>&quot;480001&quot;</td><td>&quot;ESD-OilTankInchesUntilAlarm&quot;</td><td>&quot;in&quot;</td><td>2024-03-06 04:14:39.113032</td><td>66.518221</td><td>null</td><td>&quot;ESD-&quot;</td><td>&quot;Oil&quot;</td><td>null</td><td>&quot;InchesUntilAlarm&quot;</td></tr><tr><td>&quot;98750&quot;</td><td>&quot;Oil&quot;</td><td>3</td><td>&quot;9875003&quot;</td><td>120.555675</td><td>334.876875</td><td>null</td><td>null</td><td>null</td><td>null</td><td>null</td><td>null</td><td>null</td><td>null</td><td>null</td><td>null</td><td>null</td><td>null</td><td>&quot;98750&quot;</td><td>&quot;OilTank3Level&quot;</td><td>&quot;in&quot;</td><td>2024-03-06 04:11:32.836955</td><td>120.555675</td><td>853.830731</td><td>null</td><td>&quot;Oil&quot;</td><td>3</td><td>&quot;Level&quot;</td></tr><tr><td>&quot;98750&quot;</td><td>&quot;Water&quot;</td><td>2</td><td>&quot;98750W2&quot;</td><td>2.002873</td><td>5.563537</td><td>null</td><td>null</td><td>null</td><td>null</td><td>null</td><td>&quot;98750FAC&quot;</td><td>null</td><td>null</td><td>6.389699</td><td>null</td><td>null</td><td>null</td><td>&quot;98750&quot;</td><td>&quot;WaterTank2Volume&quot;</td><td>&quot;bbl&quot;</td><td>2024-03-06 04:12:47.521029</td><td>5.563537</td><td>705.125502</td><td>null</td><td>&quot;Water&quot;</td><td>2</td><td>&quot;Volume&quot;</td></tr><tr><td>&quot;480001&quot;</td><td>&quot;Oil&quot;</td><td>1</td><td>&quot;FTW480001&quot;</td><td>81.727208</td><td>227.020022</td><td>null</td><td>null</td><td>null</td><td>413.344118</td><td>null</td><td>&quot;FTW480001&quot;</td><td>null</td><td>null</td><td>66.518221</td><td>null</td><td>null</td><td>null</td><td>&quot;480001&quot;</td><td>&quot;ESD-OilTankInchesUntilAlarm&quot;</td><td>&quot;in&quot;</td><td>2024-03-06 04:14:39.113032</td><td>66.518221</td><td>null</td><td>&quot;ESD-&quot;</td><td>&quot;Oil&quot;</td><td>null</td><td>&quot;InchesUntilAlarm&quot;</td></tr></tbody></table></div>"
      ],
      "text/plain": [
       "shape: (9, 28)\n",
       "┌──────────┬───────────┬────────────┬───────────┬───┬────────┬────────────┬────────────┬───────────┐\n",
       "│ primo_id ┆ tank_type ┆ tank_numbe ┆ scada_id  ┆ … ┆ is_ESD ┆ tank_type_ ┆ tank_numbe ┆ tank_metr │\n",
       "│ ---      ┆ ---       ┆ r          ┆ ---       ┆   ┆ ---    ┆ right      ┆ r_right    ┆ ic        │\n",
       "│ str      ┆ str       ┆ ---        ┆ str       ┆   ┆ str    ┆ ---        ┆ ---        ┆ ---       │\n",
       "│          ┆           ┆ u8         ┆           ┆   ┆        ┆ str        ┆ u8         ┆ str       │\n",
       "╞══════════╪═══════════╪════════════╪═══════════╪═══╪════════╪════════════╪════════════╪═══════════╡\n",
       "│ 98750    ┆ Water     ┆ 1          ┆ 98750W1   ┆ … ┆ null   ┆ Water      ┆ 1          ┆ Level     │\n",
       "│ 98750    ┆ Oil       ┆ 1          ┆ 9875001   ┆ … ┆ null   ┆ Oil        ┆ 1          ┆ Volume    │\n",
       "│ 98750    ┆ Oil       ┆ 2          ┆ 9875002   ┆ … ┆ null   ┆ Oil        ┆ 2          ┆ Volume    │\n",
       "│ 480001   ┆ Water     ┆ 2          ┆ FTW480001 ┆ … ┆ ESD-   ┆ Oil        ┆ null       ┆ InchesUnt │\n",
       "│          ┆           ┆            ┆           ┆   ┆        ┆            ┆            ┆ ilAlarm   │\n",
       "│ 480001   ┆ Oil       ┆ 2          ┆ FTW480001 ┆ … ┆ ESD-   ┆ Oil        ┆ null       ┆ InchesUnt │\n",
       "│          ┆           ┆            ┆           ┆   ┆        ┆            ┆            ┆ ilAlarm   │\n",
       "│ 480001   ┆ Water     ┆ 1          ┆ FTW480001 ┆ … ┆ ESD-   ┆ Oil        ┆ null       ┆ InchesUnt │\n",
       "│          ┆           ┆            ┆           ┆   ┆        ┆            ┆            ┆ ilAlarm   │\n",
       "│ 98750    ┆ Oil       ┆ 3          ┆ 9875003   ┆ … ┆ null   ┆ Oil        ┆ 3          ┆ Level     │\n",
       "│ 98750    ┆ Water     ┆ 2          ┆ 98750W2   ┆ … ┆ null   ┆ Water      ┆ 2          ┆ Volume    │\n",
       "│ 480001   ┆ Oil       ┆ 1          ┆ FTW480001 ┆ … ┆ ESD-   ┆ Oil        ┆ null       ┆ InchesUnt │\n",
       "│          ┆           ┆            ┆           ┆   ┆        ┆            ┆            ┆ ilAlarm   │\n",
       "└──────────┴───────────┴────────────┴───────────┴───┴────────┴────────────┴────────────┴───────────┘"
      ]
     },
     "execution_count": 33,
     "metadata": {},
     "output_type": "execute_result"
    }
   ],
   "source": [
    "final_lf = joined_lf.join(lf, on=[\"scada_id\"], how=\"left\")\n",
    "final_lf = final_lf.group_by(\"primo_id\", \"tank_type\", \"tank_number\").agg(pl.all().first())\n",
    "final_lf.collect()"
   ]
  },
  {
   "cell_type": "code",
   "execution_count": 34,
   "metadata": {},
   "outputs": [
    {
     "data": {
      "text/html": [
       "<div><style>\n",
       ".dataframe > thead > tr,\n",
       ".dataframe > tbody > tr {\n",
       "  text-align: right;\n",
       "  white-space: pre-wrap;\n",
       "}\n",
       "</style>\n",
       "<small>shape: (9, 8)</small><table border=\"1\" class=\"dataframe\"><thead><tr><th>primo_id</th><th>tank_type</th><th>tank_number</th><th>Level</th><th>Volume</th><th>InchesToESD</th><th>TimeUntilESD</th><th>Capacity</th></tr><tr><td>str</td><td>str</td><td>u8</td><td>f64</td><td>f64</td><td>f64</td><td>f64</td><td>f64</td></tr></thead><tbody><tr><td>&quot;98750&quot;</td><td>&quot;Water&quot;</td><td>1</td><td>96.0579</td><td>266.8275</td><td>null</td><td>null</td><td>747.18609</td></tr><tr><td>&quot;480001&quot;</td><td>&quot;Oil&quot;</td><td>2</td><td>98.825588</td><td>274.515522</td><td>null</td><td>null</td><td>406.099328</td></tr><tr><td>&quot;98750&quot;</td><td>&quot;Oil&quot;</td><td>3</td><td>120.555675</td><td>334.876875</td><td>null</td><td>null</td><td>853.830731</td></tr><tr><td>&quot;98750&quot;</td><td>&quot;Oil&quot;</td><td>1</td><td>29.514339</td><td>81.984276</td><td>null</td><td>null</td><td>759.852876</td></tr><tr><td>&quot;480001&quot;</td><td>&quot;Water&quot;</td><td>2</td><td>83.739797</td><td>232.610547</td><td>null</td><td>null</td><td>409.718222</td></tr><tr><td>&quot;98750&quot;</td><td>&quot;Water&quot;</td><td>2</td><td>2.002873</td><td>5.563537</td><td>6.389699</td><td>null</td><td>705.125502</td></tr><tr><td>&quot;480001&quot;</td><td>&quot;Oil&quot;</td><td>1</td><td>81.727208</td><td>227.020022</td><td>66.518221</td><td>null</td><td>413.344118</td></tr><tr><td>&quot;480001&quot;</td><td>&quot;Water&quot;</td><td>1</td><td>21.016423</td><td>58.378953</td><td>173.40877</td><td>null</td><td>410.476513</td></tr><tr><td>&quot;98750&quot;</td><td>&quot;Oil&quot;</td><td>2</td><td>0.119273</td><td>0.331315</td><td>115.151958</td><td>null</td><td>756.865042</td></tr></tbody></table></div>"
      ],
      "text/plain": [
       "shape: (9, 8)\n",
       "┌──────────┬───────────┬────────────┬────────────┬────────────┬────────────┬───────────┬───────────┐\n",
       "│ primo_id ┆ tank_type ┆ tank_numbe ┆ Level      ┆ Volume     ┆ InchesToES ┆ TimeUntil ┆ Capacity  │\n",
       "│ ---      ┆ ---       ┆ r          ┆ ---        ┆ ---        ┆ D          ┆ ESD       ┆ ---       │\n",
       "│ str      ┆ str       ┆ ---        ┆ f64        ┆ f64        ┆ ---        ┆ ---       ┆ f64       │\n",
       "│          ┆           ┆ u8         ┆            ┆            ┆ f64        ┆ f64       ┆           │\n",
       "╞══════════╪═══════════╪════════════╪════════════╪════════════╪════════════╪═══════════╪═══════════╡\n",
       "│ 98750    ┆ Water     ┆ 1          ┆ 96.0579    ┆ 266.8275   ┆ null       ┆ null      ┆ 747.18609 │\n",
       "│ 480001   ┆ Oil       ┆ 2          ┆ 98.825588  ┆ 274.515522 ┆ null       ┆ null      ┆ 406.09932 │\n",
       "│          ┆           ┆            ┆            ┆            ┆            ┆           ┆ 8         │\n",
       "│ 98750    ┆ Oil       ┆ 3          ┆ 120.555675 ┆ 334.876875 ┆ null       ┆ null      ┆ 853.83073 │\n",
       "│          ┆           ┆            ┆            ┆            ┆            ┆           ┆ 1         │\n",
       "│ 98750    ┆ Oil       ┆ 1          ┆ 29.514339  ┆ 81.984276  ┆ null       ┆ null      ┆ 759.85287 │\n",
       "│          ┆           ┆            ┆            ┆            ┆            ┆           ┆ 6         │\n",
       "│ 480001   ┆ Water     ┆ 2          ┆ 83.739797  ┆ 232.610547 ┆ null       ┆ null      ┆ 409.71822 │\n",
       "│          ┆           ┆            ┆            ┆            ┆            ┆           ┆ 2         │\n",
       "│ 98750    ┆ Water     ┆ 2          ┆ 2.002873   ┆ 5.563537   ┆ 6.389699   ┆ null      ┆ 705.12550 │\n",
       "│          ┆           ┆            ┆            ┆            ┆            ┆           ┆ 2         │\n",
       "│ 480001   ┆ Oil       ┆ 1          ┆ 81.727208  ┆ 227.020022 ┆ 66.518221  ┆ null      ┆ 413.34411 │\n",
       "│          ┆           ┆            ┆            ┆            ┆            ┆           ┆ 8         │\n",
       "│ 480001   ┆ Water     ┆ 1          ┆ 21.016423  ┆ 58.378953  ┆ 173.40877  ┆ null      ┆ 410.47651 │\n",
       "│          ┆           ┆            ┆            ┆            ┆            ┆           ┆ 3         │\n",
       "│ 98750    ┆ Oil       ┆ 2          ┆ 0.119273   ┆ 0.331315   ┆ 115.151958 ┆ null      ┆ 756.86504 │\n",
       "│          ┆           ┆            ┆            ┆            ┆            ┆           ┆ 2         │\n",
       "└──────────┴───────────┴────────────┴────────────┴────────────┴────────────┴───────────┴───────────┘"
      ]
     },
     "execution_count": 34,
     "metadata": {},
     "output_type": "execute_result"
    }
   ],
   "source": [
    "final_lf = final_lf.with_columns(\n",
    "    pl.col(\"primo_id\"),\n",
    "    pl.col(\"tank_type\"),\n",
    "    pl.col(\"tank_number\"),\n",
    "    pl.coalesce(pl.col(\"Level\"), pl.col(\"Level_right\")).alias(\"Level\"),\n",
    "    pl.coalesce(pl.col(\"Volume\"), pl.col(\"Volume_right\")).alias(\"Volume\"),\n",
    "    pl.coalesce(pl.col(\"InchesToESD\"), pl.col(\"InchesUntilAlarm_right\")).alias(\"InchesToESD\"),\n",
    "    pl.coalesce(pl.col(\"TimeUntilESD\"), pl.col(\"TimeUntilESD_right\")).alias(\"TimeUntilESD\"),\n",
    "    pl.coalesce(pl.col(\"Capacity\"), pl.col(\"tanksize\")).alias(\"Capacity\")\n",
    ")\n",
    "\n",
    "required_columns = [\"primo_id\", \"tank_type\", \"tank_number\", \"Level\", \"Volume\", \"InchesToESD\", \"TimeUntilESD\", \"Capacity\"]\n",
    "final_lf = final_lf.select(required_columns)\n",
    "final_lf.collect()"
   ]
  },
  {
   "cell_type": "code",
   "execution_count": 35,
   "metadata": {},
   "outputs": [
    {
     "data": {
      "text/html": [
       "<div><style>\n",
       ".dataframe > thead > tr,\n",
       ".dataframe > tbody > tr {\n",
       "  text-align: right;\n",
       "  white-space: pre-wrap;\n",
       "}\n",
       "</style>\n",
       "<small>shape: (9, 8)</small><table border=\"1\" class=\"dataframe\"><thead><tr><th>primo_id</th><th>tank_type</th><th>tank_number</th><th>Level</th><th>Volume</th><th>InchesToESD</th><th>TimeUntilESD</th><th>Capacity</th></tr><tr><td>str</td><td>str</td><td>u8</td><td>f64</td><td>f64</td><td>f64</td><td>f64</td><td>f64</td></tr></thead><tbody><tr><td>&quot;480001&quot;</td><td>&quot;Oil&quot;</td><td>1</td><td>81.727208</td><td>227.020022</td><td>66.518221</td><td>null</td><td>413.344118</td></tr><tr><td>&quot;480001&quot;</td><td>&quot;Oil&quot;</td><td>2</td><td>98.825588</td><td>274.515522</td><td>null</td><td>null</td><td>406.099328</td></tr><tr><td>&quot;480001&quot;</td><td>&quot;Water&quot;</td><td>1</td><td>21.016423</td><td>58.378953</td><td>173.40877</td><td>null</td><td>410.476513</td></tr><tr><td>&quot;480001&quot;</td><td>&quot;Water&quot;</td><td>2</td><td>83.739797</td><td>232.610547</td><td>null</td><td>null</td><td>409.718222</td></tr><tr><td>&quot;98750&quot;</td><td>&quot;Oil&quot;</td><td>1</td><td>29.514339</td><td>81.984276</td><td>null</td><td>null</td><td>759.852876</td></tr><tr><td>&quot;98750&quot;</td><td>&quot;Oil&quot;</td><td>2</td><td>0.119273</td><td>0.331315</td><td>115.151958</td><td>null</td><td>756.865042</td></tr><tr><td>&quot;98750&quot;</td><td>&quot;Oil&quot;</td><td>3</td><td>120.555675</td><td>334.876875</td><td>null</td><td>null</td><td>853.830731</td></tr><tr><td>&quot;98750&quot;</td><td>&quot;Water&quot;</td><td>1</td><td>96.0579</td><td>266.8275</td><td>null</td><td>null</td><td>747.18609</td></tr><tr><td>&quot;98750&quot;</td><td>&quot;Water&quot;</td><td>2</td><td>2.002873</td><td>5.563537</td><td>6.389699</td><td>null</td><td>705.125502</td></tr></tbody></table></div>"
      ],
      "text/plain": [
       "shape: (9, 8)\n",
       "┌──────────┬───────────┬────────────┬────────────┬────────────┬────────────┬───────────┬───────────┐\n",
       "│ primo_id ┆ tank_type ┆ tank_numbe ┆ Level      ┆ Volume     ┆ InchesToES ┆ TimeUntil ┆ Capacity  │\n",
       "│ ---      ┆ ---       ┆ r          ┆ ---        ┆ ---        ┆ D          ┆ ESD       ┆ ---       │\n",
       "│ str      ┆ str       ┆ ---        ┆ f64        ┆ f64        ┆ ---        ┆ ---       ┆ f64       │\n",
       "│          ┆           ┆ u8         ┆            ┆            ┆ f64        ┆ f64       ┆           │\n",
       "╞══════════╪═══════════╪════════════╪════════════╪════════════╪════════════╪═══════════╪═══════════╡\n",
       "│ 480001   ┆ Oil       ┆ 1          ┆ 81.727208  ┆ 227.020022 ┆ 66.518221  ┆ null      ┆ 413.34411 │\n",
       "│          ┆           ┆            ┆            ┆            ┆            ┆           ┆ 8         │\n",
       "│ 480001   ┆ Oil       ┆ 2          ┆ 98.825588  ┆ 274.515522 ┆ null       ┆ null      ┆ 406.09932 │\n",
       "│          ┆           ┆            ┆            ┆            ┆            ┆           ┆ 8         │\n",
       "│ 480001   ┆ Water     ┆ 1          ┆ 21.016423  ┆ 58.378953  ┆ 173.40877  ┆ null      ┆ 410.47651 │\n",
       "│          ┆           ┆            ┆            ┆            ┆            ┆           ┆ 3         │\n",
       "│ 480001   ┆ Water     ┆ 2          ┆ 83.739797  ┆ 232.610547 ┆ null       ┆ null      ┆ 409.71822 │\n",
       "│          ┆           ┆            ┆            ┆            ┆            ┆           ┆ 2         │\n",
       "│ 98750    ┆ Oil       ┆ 1          ┆ 29.514339  ┆ 81.984276  ┆ null       ┆ null      ┆ 759.85287 │\n",
       "│          ┆           ┆            ┆            ┆            ┆            ┆           ┆ 6         │\n",
       "│ 98750    ┆ Oil       ┆ 2          ┆ 0.119273   ┆ 0.331315   ┆ 115.151958 ┆ null      ┆ 756.86504 │\n",
       "│          ┆           ┆            ┆            ┆            ┆            ┆           ┆ 2         │\n",
       "│ 98750    ┆ Oil       ┆ 3          ┆ 120.555675 ┆ 334.876875 ┆ null       ┆ null      ┆ 853.83073 │\n",
       "│          ┆           ┆            ┆            ┆            ┆            ┆           ┆ 1         │\n",
       "│ 98750    ┆ Water     ┆ 1          ┆ 96.0579    ┆ 266.8275   ┆ null       ┆ null      ┆ 747.18609 │\n",
       "│ 98750    ┆ Water     ┆ 2          ┆ 2.002873   ┆ 5.563537   ┆ 6.389699   ┆ null      ┆ 705.12550 │\n",
       "│          ┆           ┆            ┆            ┆            ┆            ┆           ┆ 2         │\n",
       "└──────────┴───────────┴────────────┴────────────┴────────────┴────────────┴───────────┴───────────┘"
      ]
     },
     "execution_count": 35,
     "metadata": {},
     "output_type": "execute_result"
    }
   ],
   "source": [
    "final_lf = final_lf.sort(\"primo_id\", \"tank_type\", \"tank_number\")\n",
    "final_lf.collect()"
   ]
  },
  {
   "cell_type": "code",
   "execution_count": 36,
   "metadata": {},
   "outputs": [
    {
     "data": {
      "text/html": [
       "<div><style>\n",
       ".dataframe > thead > tr,\n",
       ".dataframe > tbody > tr {\n",
       "  text-align: right;\n",
       "  white-space: pre-wrap;\n",
       "}\n",
       "</style>\n",
       "<small>shape: (9, 9)</small><table border=\"1\" class=\"dataframe\"><thead><tr><th>primo_id</th><th>tank_type</th><th>tank_number</th><th>Level</th><th>Volume</th><th>InchesToESD</th><th>TimeUntilESD</th><th>Capacity</th><th>percent_full</th></tr><tr><td>str</td><td>str</td><td>u8</td><td>f64</td><td>f64</td><td>f64</td><td>f64</td><td>f64</td><td>u8</td></tr></thead><tbody><tr><td>&quot;480001&quot;</td><td>&quot;Oil&quot;</td><td>1</td><td>81.727208</td><td>227.020022</td><td>66.518221</td><td>null</td><td>413.344118</td><td>55</td></tr><tr><td>&quot;480001&quot;</td><td>&quot;Oil&quot;</td><td>2</td><td>98.825588</td><td>274.515522</td><td>null</td><td>null</td><td>406.099328</td><td>68</td></tr><tr><td>&quot;480001&quot;</td><td>&quot;Water&quot;</td><td>1</td><td>21.016423</td><td>58.378953</td><td>173.40877</td><td>null</td><td>410.476513</td><td>14</td></tr><tr><td>&quot;480001&quot;</td><td>&quot;Water&quot;</td><td>2</td><td>83.739797</td><td>232.610547</td><td>null</td><td>null</td><td>409.718222</td><td>57</td></tr><tr><td>&quot;98750&quot;</td><td>&quot;Oil&quot;</td><td>1</td><td>29.514339</td><td>81.984276</td><td>null</td><td>null</td><td>759.852876</td><td>11</td></tr><tr><td>&quot;98750&quot;</td><td>&quot;Oil&quot;</td><td>2</td><td>0.119273</td><td>0.331315</td><td>115.151958</td><td>null</td><td>756.865042</td><td>0</td></tr><tr><td>&quot;98750&quot;</td><td>&quot;Oil&quot;</td><td>3</td><td>120.555675</td><td>334.876875</td><td>null</td><td>null</td><td>853.830731</td><td>39</td></tr><tr><td>&quot;98750&quot;</td><td>&quot;Water&quot;</td><td>1</td><td>96.0579</td><td>266.8275</td><td>null</td><td>null</td><td>747.18609</td><td>36</td></tr><tr><td>&quot;98750&quot;</td><td>&quot;Water&quot;</td><td>2</td><td>2.002873</td><td>5.563537</td><td>6.389699</td><td>null</td><td>705.125502</td><td>1</td></tr></tbody></table></div>"
      ],
      "text/plain": [
       "shape: (9, 9)\n",
       "┌──────────┬───────────┬───────────┬───────────┬───┬───────────┬───────────┬───────────┬───────────┐\n",
       "│ primo_id ┆ tank_type ┆ tank_numb ┆ Level     ┆ … ┆ InchesToE ┆ TimeUntil ┆ Capacity  ┆ percent_f │\n",
       "│ ---      ┆ ---       ┆ er        ┆ ---       ┆   ┆ SD        ┆ ESD       ┆ ---       ┆ ull       │\n",
       "│ str      ┆ str       ┆ ---       ┆ f64       ┆   ┆ ---       ┆ ---       ┆ f64       ┆ ---       │\n",
       "│          ┆           ┆ u8        ┆           ┆   ┆ f64       ┆ f64       ┆           ┆ u8        │\n",
       "╞══════════╪═══════════╪═══════════╪═══════════╪═══╪═══════════╪═══════════╪═══════════╪═══════════╡\n",
       "│ 480001   ┆ Oil       ┆ 1         ┆ 81.727208 ┆ … ┆ 66.518221 ┆ null      ┆ 413.34411 ┆ 55        │\n",
       "│          ┆           ┆           ┆           ┆   ┆           ┆           ┆ 8         ┆           │\n",
       "│ 480001   ┆ Oil       ┆ 2         ┆ 98.825588 ┆ … ┆ null      ┆ null      ┆ 406.09932 ┆ 68        │\n",
       "│          ┆           ┆           ┆           ┆   ┆           ┆           ┆ 8         ┆           │\n",
       "│ 480001   ┆ Water     ┆ 1         ┆ 21.016423 ┆ … ┆ 173.40877 ┆ null      ┆ 410.47651 ┆ 14        │\n",
       "│          ┆           ┆           ┆           ┆   ┆           ┆           ┆ 3         ┆           │\n",
       "│ 480001   ┆ Water     ┆ 2         ┆ 83.739797 ┆ … ┆ null      ┆ null      ┆ 409.71822 ┆ 57        │\n",
       "│          ┆           ┆           ┆           ┆   ┆           ┆           ┆ 2         ┆           │\n",
       "│ 98750    ┆ Oil       ┆ 1         ┆ 29.514339 ┆ … ┆ null      ┆ null      ┆ 759.85287 ┆ 11        │\n",
       "│          ┆           ┆           ┆           ┆   ┆           ┆           ┆ 6         ┆           │\n",
       "│ 98750    ┆ Oil       ┆ 2         ┆ 0.119273  ┆ … ┆ 115.15195 ┆ null      ┆ 756.86504 ┆ 0         │\n",
       "│          ┆           ┆           ┆           ┆   ┆ 8         ┆           ┆ 2         ┆           │\n",
       "│ 98750    ┆ Oil       ┆ 3         ┆ 120.55567 ┆ … ┆ null      ┆ null      ┆ 853.83073 ┆ 39        │\n",
       "│          ┆           ┆           ┆ 5         ┆   ┆           ┆           ┆ 1         ┆           │\n",
       "│ 98750    ┆ Water     ┆ 1         ┆ 96.0579   ┆ … ┆ null      ┆ null      ┆ 747.18609 ┆ 36        │\n",
       "│ 98750    ┆ Water     ┆ 2         ┆ 2.002873  ┆ … ┆ 6.389699  ┆ null      ┆ 705.12550 ┆ 1         │\n",
       "│          ┆           ┆           ┆           ┆   ┆           ┆           ┆ 2         ┆           │\n",
       "└──────────┴───────────┴───────────┴───────────┴───┴───────────┴───────────┴───────────┴───────────┘"
      ]
     },
     "execution_count": 36,
     "metadata": {},
     "output_type": "execute_result"
    }
   ],
   "source": [
    "percent_tank_full = (pl.col(\"Volume\") / pl.col(\"Capacity\") * 100).round().cast(pl.UInt8)\n",
    "final_lf = final_lf.with_columns(percent_tank_full.alias(\"percent_full\"))\n",
    "\n",
    "final_lf.collect()"
   ]
  }
 ],
 "metadata": {
  "kernelspec": {
   "display_name": "tank-project-9-HCZibD-py3.12",
   "language": "python",
   "name": "python3"
  },
  "language_info": {
   "codemirror_mode": {
    "name": "ipython",
    "version": 3
   },
   "file_extension": ".py",
   "mimetype": "text/x-python",
   "name": "python",
   "nbconvert_exporter": "python",
   "pygments_lexer": "ipython3",
   "version": "3.12.2"
  }
 },
 "nbformat": 4,
 "nbformat_minor": 2
}
