{
 "cells": [
  {
   "cell_type": "code",
   "execution_count": 76,
   "metadata": {},
   "outputs": [
    {
     "data": {
      "text/html": [
       "<div><style>\n",
       ".dataframe > thead > tr,\n",
       ".dataframe > tbody > tr {\n",
       "  text-align: right;\n",
       "  white-space: pre-wrap;\n",
       "}\n",
       "</style>\n",
       "<small>shape: (20, 8)</small><table border=\"1\" class=\"dataframe\"><thead><tr><th>property_id</th><th>scada_id</th><th>metric_nice_name</th><th>unique_id</th><th>uom</th><th>timestamp</th><th>value</th><th>tanksize</th></tr><tr><td>str</td><td>str</td><td>str</td><td>object</td><td>str</td><td>datetime[μs]</td><td>f64</td><td>f64</td></tr></thead><tbody><tr><td>&quot;98840&quot;</td><td>&quot;9884005&quot;</td><td>&quot;OilTank5Level&quot;</td><td>0d96d173-3c6a-469f-901b-5cea8aa4210e</td><td>&quot;in&quot;</td><td>2015-05-01 05:05:54.083239</td><td>74.240695</td><td>790.375905</td></tr><tr><td>&quot;98840&quot;</td><td>&quot;98840W2&quot;</td><td>&quot;WaterTank2Volume&quot;</td><td>106e51eb-4faa-4d5c-b43e-210c92016f98</td><td>&quot;bbl&quot;</td><td>2023-08-16 19:52:13.787936</td><td>357.148125</td><td>653.135767</td></tr><tr><td>&quot;98840&quot;</td><td>&quot;9884003&quot;</td><td>&quot;OilTank3Volume&quot;</td><td>1158ad41-4c78-4d2f-83ec-2ff717c2d445</td><td>&quot;bbl&quot;</td><td>2024-02-11 04:10:55.839466</td><td>284.213132</td><td>624.069952</td></tr><tr><td>&quot;98840&quot;</td><td>&quot;98840FAC&quot;</td><td>&quot;ESD-OilTankID&quot;</td><td>2748bdd4-4b4b-4add-aa16-251efbb55639</td><td>&quot;&quot;</td><td>2024-07-05 18:19:24.387492</td><td>4.0</td><td>null</td></tr><tr><td>&quot;98840&quot;</td><td>&quot;9884004&quot;</td><td>&quot;OilTank4Level&quot;</td><td>29576772-cde6-4767-a478-c7337a1c8c39</td><td>&quot;in&quot;</td><td>2021-06-18 15:33:10.557032</td><td>75.002393</td><td>417.5281</td></tr><tr><td>&quot;98840&quot;</td><td>&quot;98840W1&quot;</td><td>&quot;WaterTank1Volume&quot;</td><td>2cd89218-f881-41d7-a97a-7d06deacb5f5</td><td>&quot;bbl&quot;</td><td>2017-07-27 01:09:29.652477</td><td>267.90299</td><td>696.762014</td></tr><tr><td>&quot;98840&quot;</td><td>&quot;98840FAC&quot;</td><td>&quot;ESD-WaterTankID&quot;</td><td>32771b87-74d0-475a-b213-9351f5b5b907</td><td>&quot;&quot;</td><td>2024-01-27 14:57:50.775593</td><td>2.0</td><td>null</td></tr><tr><td>&quot;98840&quot;</td><td>&quot;9884004&quot;</td><td>&quot;OilTank4Volume&quot;</td><td>376c3e87-6b87-4fc0-910f-f952e11d663b</td><td>&quot;bbl&quot;</td><td>2016-07-11 16:10:15.036230</td><td>268.335022</td><td>417.5281</td></tr><tr><td>&quot;98840&quot;</td><td>&quot;9884006&quot;</td><td>&quot;OilTank6Level&quot;</td><td>63176073-1766-4d40-8a15-72822e6c7220</td><td>&quot;in&quot;</td><td>2023-06-11 18:05:05.734061</td><td>82.279163</td><td>400.362155</td></tr><tr><td>&quot;98840&quot;</td><td>&quot;9884002&quot;</td><td>&quot;OilTank2Level&quot;</td><td>686fc368-3d98-4608-aef0-5af0eb416e8c</td><td>&quot;in&quot;</td><td>2017-08-19 19:36:27.207843</td><td>77.590071</td><td>735.848157</td></tr><tr><td>&quot;98840&quot;</td><td>&quot;9884001&quot;</td><td>&quot;OilTank1Volume&quot;</td><td>8748b483-ee0b-460d-bc01-d1e37319d283</td><td>&quot;bbl&quot;</td><td>2018-01-11 09:12:20.082822</td><td>299.173063</td><td>554.086643</td></tr><tr><td>&quot;98840&quot;</td><td>&quot;9884003&quot;</td><td>&quot;OilTank3Level&quot;</td><td>9db75bdf-afaf-4a54-9715-2e7fad8d2d85</td><td>&quot;in&quot;</td><td>2015-11-29 12:01:20.722028</td><td>77.392763</td><td>624.069952</td></tr><tr><td>&quot;98840&quot;</td><td>&quot;9884006&quot;</td><td>&quot;OilTank6Volume&quot;</td><td>a47c894d-19fc-4a95-9f7c-18e743de30c2</td><td>&quot;bbl&quot;</td><td>2016-08-27 09:37:18.686554</td><td>309.826949</td><td>400.362155</td></tr><tr><td>&quot;98840&quot;</td><td>&quot;9884001&quot;</td><td>&quot;OilTank1Level&quot;</td><td>ad86132f-da25-46d0-a4d2-6ad6f29be58f</td><td>&quot;in&quot;</td><td>2024-07-28 17:42:10.494432</td><td>79.02198</td><td>554.086643</td></tr><tr><td>&quot;98840&quot;</td><td>&quot;98840W1&quot;</td><td>&quot;WaterTank1Level&quot;</td><td>b40ee794-21e3-4424-b0c5-b7fa205eb2f8</td><td>&quot;in&quot;</td><td>2018-12-21 14:57:41.886927</td><td>79.941493</td><td>696.762014</td></tr><tr><td>&quot;98840&quot;</td><td>&quot;98840W2&quot;</td><td>&quot;WaterTank2Level&quot;</td><td>b5a48faa-1f40-4887-a0e9-7a84a3a83366</td><td>&quot;in&quot;</td><td>2019-04-05 01:41:07.809116</td><td>76.456344</td><td>653.135767</td></tr><tr><td>&quot;98840&quot;</td><td>&quot;98840FAC&quot;</td><td>&quot;ESD-WaterTankInchesUntilAlarm&quot;</td><td>c4abef08-5ca3-43b2-a9a4-fdf5aa6210df</td><td>&quot;in&quot;</td><td>2024-08-16 04:45:27.763083</td><td>257.847738</td><td>null</td></tr><tr><td>&quot;98840&quot;</td><td>&quot;9884005&quot;</td><td>&quot;OilTank5Volume&quot;</td><td>db762e5e-9c0c-4f77-864b-df5e66865f2e</td><td>&quot;bbl&quot;</td><td>2023-03-17 20:34:17.444289</td><td>300.447955</td><td>790.375905</td></tr><tr><td>&quot;98840&quot;</td><td>&quot;98840FAC&quot;</td><td>&quot;ESD-OilTankInchesUntilAlarm&quot;</td><td>f3c718bf-58e8-488e-9445-99fae307d251</td><td>&quot;in&quot;</td><td>2024-08-22 10:59:43.894659</td><td>102.478181</td><td>null</td></tr><tr><td>&quot;98840&quot;</td><td>&quot;9884002&quot;</td><td>&quot;OilTank2Volume&quot;</td><td>fa6552b3-1dce-4452-a35b-b5fb35868a02</td><td>&quot;bbl&quot;</td><td>2021-03-20 22:08:34.417192</td><td>293.977423</td><td>735.848157</td></tr></tbody></table></div>"
      ],
      "text/plain": [
       "shape: (20, 8)\n",
       "┌─────────────┬──────────┬─────────────┬─────────────┬─────┬─────────────┬────────────┬────────────┐\n",
       "│ property_id ┆ scada_id ┆ metric_nice ┆ unique_id   ┆ uom ┆ timestamp   ┆ value      ┆ tanksize   │\n",
       "│ ---         ┆ ---      ┆ _name       ┆ ---         ┆ --- ┆ ---         ┆ ---        ┆ ---        │\n",
       "│ str         ┆ str      ┆ ---         ┆ object      ┆ str ┆ datetime[μs ┆ f64        ┆ f64        │\n",
       "│             ┆          ┆ str         ┆             ┆     ┆ ]           ┆            ┆            │\n",
       "╞═════════════╪══════════╪═════════════╪═════════════╪═════╪═════════════╪════════════╪════════════╡\n",
       "│ 98840       ┆ 9884005  ┆ OilTank5Lev ┆ 0d96d173-3c ┆ in  ┆ 2015-05-01  ┆ 74.240695  ┆ 790.375905 │\n",
       "│             ┆          ┆ el          ┆ 6a-469f-901 ┆     ┆ 05:05:54.08 ┆            ┆            │\n",
       "│             ┆          ┆             ┆ b-5cea8a…   ┆     ┆ 3239        ┆            ┆            │\n",
       "│ 98840       ┆ 98840W2  ┆ WaterTank2V ┆ 106e51eb-4f ┆ bbl ┆ 2023-08-16  ┆ 357.148125 ┆ 653.135767 │\n",
       "│             ┆          ┆ olume       ┆ aa-4d5c-b43 ┆     ┆ 19:52:13.78 ┆            ┆            │\n",
       "│             ┆          ┆             ┆ e-210c92…   ┆     ┆ 7936        ┆            ┆            │\n",
       "│ 98840       ┆ 9884003  ┆ OilTank3Vol ┆ 1158ad41-4c ┆ bbl ┆ 2024-02-11  ┆ 284.213132 ┆ 624.069952 │\n",
       "│             ┆          ┆ ume         ┆ 78-4d2f-83e ┆     ┆ 04:10:55.83 ┆            ┆            │\n",
       "│             ┆          ┆             ┆ c-2ff717…   ┆     ┆ 9466        ┆            ┆            │\n",
       "│ 98840       ┆ 98840FAC ┆ ESD-OilTank ┆ 2748bdd4-4b ┆     ┆ 2024-07-05  ┆ 4.0        ┆ null       │\n",
       "│             ┆          ┆ ID          ┆ 4b-4add-aa1 ┆     ┆ 18:19:24.38 ┆            ┆            │\n",
       "│             ┆          ┆             ┆ 6-251efb…   ┆     ┆ 7492        ┆            ┆            │\n",
       "│ 98840       ┆ 9884004  ┆ OilTank4Lev ┆ 29576772-cd ┆ in  ┆ 2021-06-18  ┆ 75.002393  ┆ 417.5281   │\n",
       "│             ┆          ┆ el          ┆ e6-4767-a47 ┆     ┆ 15:33:10.55 ┆            ┆            │\n",
       "│             ┆          ┆             ┆ 8-c7337a…   ┆     ┆ 7032        ┆            ┆            │\n",
       "│ 98840       ┆ 98840W1  ┆ WaterTank1V ┆ 2cd89218-f8 ┆ bbl ┆ 2017-07-27  ┆ 267.90299  ┆ 696.762014 │\n",
       "│             ┆          ┆ olume       ┆ 81-41d7-a97 ┆     ┆ 01:09:29.65 ┆            ┆            │\n",
       "│             ┆          ┆             ┆ a-7d06de…   ┆     ┆ 2477        ┆            ┆            │\n",
       "│ 98840       ┆ 98840FAC ┆ ESD-WaterTa ┆ 32771b87-74 ┆     ┆ 2024-01-27  ┆ 2.0        ┆ null       │\n",
       "│             ┆          ┆ nkID        ┆ d0-475a-b21 ┆     ┆ 14:57:50.77 ┆            ┆            │\n",
       "│             ┆          ┆             ┆ 3-9351f5…   ┆     ┆ 5593        ┆            ┆            │\n",
       "│ 98840       ┆ 9884004  ┆ OilTank4Vol ┆ 376c3e87-6b ┆ bbl ┆ 2016-07-11  ┆ 268.335022 ┆ 417.5281   │\n",
       "│             ┆          ┆ ume         ┆ 87-4fc0-910 ┆     ┆ 16:10:15.03 ┆            ┆            │\n",
       "│             ┆          ┆             ┆ f-f952e1…   ┆     ┆ 6230        ┆            ┆            │\n",
       "│ 98840       ┆ 9884006  ┆ OilTank6Lev ┆ 63176073-17 ┆ in  ┆ 2023-06-11  ┆ 82.279163  ┆ 400.362155 │\n",
       "│             ┆          ┆ el          ┆ 66-4d40-8a1 ┆     ┆ 18:05:05.73 ┆            ┆            │\n",
       "│             ┆          ┆             ┆ 5-72822e…   ┆     ┆ 4061        ┆            ┆            │\n",
       "│ 98840       ┆ 9884002  ┆ OilTank2Lev ┆ 686fc368-3d ┆ in  ┆ 2017-08-19  ┆ 77.590071  ┆ 735.848157 │\n",
       "│             ┆          ┆ el          ┆ 98-4608-aef ┆     ┆ 19:36:27.20 ┆            ┆            │\n",
       "│             ┆          ┆             ┆ 0-5af0eb…   ┆     ┆ 7843        ┆            ┆            │\n",
       "│ 98840       ┆ 9884001  ┆ OilTank1Vol ┆ 8748b483-ee ┆ bbl ┆ 2018-01-11  ┆ 299.173063 ┆ 554.086643 │\n",
       "│             ┆          ┆ ume         ┆ 0b-460d-bc0 ┆     ┆ 09:12:20.08 ┆            ┆            │\n",
       "│             ┆          ┆             ┆ 1-d1e373…   ┆     ┆ 2822        ┆            ┆            │\n",
       "│ 98840       ┆ 9884003  ┆ OilTank3Lev ┆ 9db75bdf-af ┆ in  ┆ 2015-11-29  ┆ 77.392763  ┆ 624.069952 │\n",
       "│             ┆          ┆ el          ┆ af-4a54-971 ┆     ┆ 12:01:20.72 ┆            ┆            │\n",
       "│             ┆          ┆             ┆ 5-2e7fad…   ┆     ┆ 2028        ┆            ┆            │\n",
       "│ 98840       ┆ 9884006  ┆ OilTank6Vol ┆ a47c894d-19 ┆ bbl ┆ 2016-08-27  ┆ 309.826949 ┆ 400.362155 │\n",
       "│             ┆          ┆ ume         ┆ fc-4a95-9f7 ┆     ┆ 09:37:18.68 ┆            ┆            │\n",
       "│             ┆          ┆             ┆ c-18e743…   ┆     ┆ 6554        ┆            ┆            │\n",
       "│ 98840       ┆ 9884001  ┆ OilTank1Lev ┆ ad86132f-da ┆ in  ┆ 2024-07-28  ┆ 79.02198   ┆ 554.086643 │\n",
       "│             ┆          ┆ el          ┆ 25-46d0-a4d ┆     ┆ 17:42:10.49 ┆            ┆            │\n",
       "│             ┆          ┆             ┆ 2-6ad6f2…   ┆     ┆ 4432        ┆            ┆            │\n",
       "│ 98840       ┆ 98840W1  ┆ WaterTank1L ┆ b40ee794-21 ┆ in  ┆ 2018-12-21  ┆ 79.941493  ┆ 696.762014 │\n",
       "│             ┆          ┆ evel        ┆ e3-4424-b0c ┆     ┆ 14:57:41.88 ┆            ┆            │\n",
       "│             ┆          ┆             ┆ 5-b7fa20…   ┆     ┆ 6927        ┆            ┆            │\n",
       "│ 98840       ┆ 98840W2  ┆ WaterTank2L ┆ b5a48faa-1f ┆ in  ┆ 2019-04-05  ┆ 76.456344  ┆ 653.135767 │\n",
       "│             ┆          ┆ evel        ┆ 40-4887-a0e ┆     ┆ 01:41:07.80 ┆            ┆            │\n",
       "│             ┆          ┆             ┆ 9-7a84a3…   ┆     ┆ 9116        ┆            ┆            │\n",
       "│ 98840       ┆ 98840FAC ┆ ESD-WaterTa ┆ c4abef08-5c ┆ in  ┆ 2024-08-16  ┆ 257.847738 ┆ null       │\n",
       "│             ┆          ┆ nkInchesUnt ┆ a3-43b2-a9a ┆     ┆ 04:45:27.76 ┆            ┆            │\n",
       "│             ┆          ┆ ilAlarm     ┆ 4-fdf5aa…   ┆     ┆ 3083        ┆            ┆            │\n",
       "│ 98840       ┆ 9884005  ┆ OilTank5Vol ┆ db762e5e-9c ┆ bbl ┆ 2023-03-17  ┆ 300.447955 ┆ 790.375905 │\n",
       "│             ┆          ┆ ume         ┆ 0c-4f77-864 ┆     ┆ 20:34:17.44 ┆            ┆            │\n",
       "│             ┆          ┆             ┆ b-df5e66…   ┆     ┆ 4289        ┆            ┆            │\n",
       "│ 98840       ┆ 98840FAC ┆ ESD-OilTank ┆ f3c718bf-58 ┆ in  ┆ 2024-08-22  ┆ 102.478181 ┆ null       │\n",
       "│             ┆          ┆ InchesUntil ┆ e8-488e-944 ┆     ┆ 10:59:43.89 ┆            ┆            │\n",
       "│             ┆          ┆ Alarm       ┆ 5-99fae3…   ┆     ┆ 4659        ┆            ┆            │\n",
       "│ 98840       ┆ 9884002  ┆ OilTank2Vol ┆ fa6552b3-1d ┆ bbl ┆ 2021-03-20  ┆ 293.977423 ┆ 735.848157 │\n",
       "│             ┆          ┆ ume         ┆ ce-4452-a35 ┆     ┆ 22:08:34.41 ┆            ┆            │\n",
       "│             ┆          ┆             ┆ b-b5fb35…   ┆     ┆ 7192        ┆            ┆            │\n",
       "└─────────────┴──────────┴─────────────┴─────────────┴─────┴─────────────┴────────────┴────────────┘"
      ]
     },
     "execution_count": 76,
     "metadata": {},
     "output_type": "execute_result"
    }
   ],
   "source": [
    "import polars as pl\n",
    "from src.main import GetTanksReq, fetch_tank_data\n",
    "\n",
    "req = GetTanksReq(property_ids={\"98840\"})\n",
    "\n",
    "df = await fetch_tank_data(req)\n",
    "if df is None:\n",
    "    raise ValueError(\"df is None\")\n",
    "lf = df.lazy()\n",
    "lf.collect()"
   ]
  },
  {
   "cell_type": "code",
   "execution_count": 77,
   "metadata": {},
   "outputs": [
    {
     "data": {
      "text/html": [
       "<div><style>\n",
       ".dataframe > thead > tr,\n",
       ".dataframe > tbody > tr {\n",
       "  text-align: right;\n",
       "  white-space: pre-wrap;\n",
       "}\n",
       "</style>\n",
       "<small>shape: (20, 7)</small><table border=\"1\" class=\"dataframe\"><thead><tr><th>property_id</th><th>scada_id</th><th>metric_nice_name</th><th>uom</th><th>timestamp</th><th>value</th><th>tanksize</th></tr><tr><td>str</td><td>str</td><td>str</td><td>str</td><td>datetime[μs]</td><td>f64</td><td>f64</td></tr></thead><tbody><tr><td>&quot;98840&quot;</td><td>&quot;9884005&quot;</td><td>&quot;OilTank5Level&quot;</td><td>&quot;in&quot;</td><td>2015-05-01 05:05:54.083239</td><td>74.240695</td><td>790.375905</td></tr><tr><td>&quot;98840&quot;</td><td>&quot;98840W2&quot;</td><td>&quot;WaterTank2Volume&quot;</td><td>&quot;bbl&quot;</td><td>2023-08-16 19:52:13.787936</td><td>357.148125</td><td>653.135767</td></tr><tr><td>&quot;98840&quot;</td><td>&quot;9884003&quot;</td><td>&quot;OilTank3Volume&quot;</td><td>&quot;bbl&quot;</td><td>2024-02-11 04:10:55.839466</td><td>284.213132</td><td>624.069952</td></tr><tr><td>&quot;98840&quot;</td><td>&quot;98840FAC&quot;</td><td>&quot;ESD-OilTankID&quot;</td><td>&quot;&quot;</td><td>2024-07-05 18:19:24.387492</td><td>4.0</td><td>null</td></tr><tr><td>&quot;98840&quot;</td><td>&quot;9884004&quot;</td><td>&quot;OilTank4Level&quot;</td><td>&quot;in&quot;</td><td>2021-06-18 15:33:10.557032</td><td>75.002393</td><td>417.5281</td></tr><tr><td>&quot;98840&quot;</td><td>&quot;98840W1&quot;</td><td>&quot;WaterTank1Volume&quot;</td><td>&quot;bbl&quot;</td><td>2017-07-27 01:09:29.652477</td><td>267.90299</td><td>696.762014</td></tr><tr><td>&quot;98840&quot;</td><td>&quot;98840FAC&quot;</td><td>&quot;ESD-WaterTankID&quot;</td><td>&quot;&quot;</td><td>2024-01-27 14:57:50.775593</td><td>2.0</td><td>null</td></tr><tr><td>&quot;98840&quot;</td><td>&quot;9884004&quot;</td><td>&quot;OilTank4Volume&quot;</td><td>&quot;bbl&quot;</td><td>2016-07-11 16:10:15.036230</td><td>268.335022</td><td>417.5281</td></tr><tr><td>&quot;98840&quot;</td><td>&quot;9884006&quot;</td><td>&quot;OilTank6Level&quot;</td><td>&quot;in&quot;</td><td>2023-06-11 18:05:05.734061</td><td>82.279163</td><td>400.362155</td></tr><tr><td>&quot;98840&quot;</td><td>&quot;9884002&quot;</td><td>&quot;OilTank2Level&quot;</td><td>&quot;in&quot;</td><td>2017-08-19 19:36:27.207843</td><td>77.590071</td><td>735.848157</td></tr><tr><td>&quot;98840&quot;</td><td>&quot;9884001&quot;</td><td>&quot;OilTank1Volume&quot;</td><td>&quot;bbl&quot;</td><td>2018-01-11 09:12:20.082822</td><td>299.173063</td><td>554.086643</td></tr><tr><td>&quot;98840&quot;</td><td>&quot;9884003&quot;</td><td>&quot;OilTank3Level&quot;</td><td>&quot;in&quot;</td><td>2015-11-29 12:01:20.722028</td><td>77.392763</td><td>624.069952</td></tr><tr><td>&quot;98840&quot;</td><td>&quot;9884006&quot;</td><td>&quot;OilTank6Volume&quot;</td><td>&quot;bbl&quot;</td><td>2016-08-27 09:37:18.686554</td><td>309.826949</td><td>400.362155</td></tr><tr><td>&quot;98840&quot;</td><td>&quot;9884001&quot;</td><td>&quot;OilTank1Level&quot;</td><td>&quot;in&quot;</td><td>2024-07-28 17:42:10.494432</td><td>79.02198</td><td>554.086643</td></tr><tr><td>&quot;98840&quot;</td><td>&quot;98840W1&quot;</td><td>&quot;WaterTank1Level&quot;</td><td>&quot;in&quot;</td><td>2018-12-21 14:57:41.886927</td><td>79.941493</td><td>696.762014</td></tr><tr><td>&quot;98840&quot;</td><td>&quot;98840W2&quot;</td><td>&quot;WaterTank2Level&quot;</td><td>&quot;in&quot;</td><td>2019-04-05 01:41:07.809116</td><td>76.456344</td><td>653.135767</td></tr><tr><td>&quot;98840&quot;</td><td>&quot;98840FAC&quot;</td><td>&quot;ESD-WaterTankInchesUntilAlarm&quot;</td><td>&quot;in&quot;</td><td>2024-08-16 04:45:27.763083</td><td>257.847738</td><td>null</td></tr><tr><td>&quot;98840&quot;</td><td>&quot;9884005&quot;</td><td>&quot;OilTank5Volume&quot;</td><td>&quot;bbl&quot;</td><td>2023-03-17 20:34:17.444289</td><td>300.447955</td><td>790.375905</td></tr><tr><td>&quot;98840&quot;</td><td>&quot;98840FAC&quot;</td><td>&quot;ESD-OilTankInchesUntilAlarm&quot;</td><td>&quot;in&quot;</td><td>2024-08-22 10:59:43.894659</td><td>102.478181</td><td>null</td></tr><tr><td>&quot;98840&quot;</td><td>&quot;9884002&quot;</td><td>&quot;OilTank2Volume&quot;</td><td>&quot;bbl&quot;</td><td>2021-03-20 22:08:34.417192</td><td>293.977423</td><td>735.848157</td></tr></tbody></table></div>"
      ],
      "text/plain": [
       "shape: (20, 7)\n",
       "┌─────────────┬──────────┬───────────────────────┬─────┬─────────────────┬────────────┬────────────┐\n",
       "│ property_id ┆ scada_id ┆ metric_nice_name      ┆ uom ┆ timestamp       ┆ value      ┆ tanksize   │\n",
       "│ ---         ┆ ---      ┆ ---                   ┆ --- ┆ ---             ┆ ---        ┆ ---        │\n",
       "│ str         ┆ str      ┆ str                   ┆ str ┆ datetime[μs]    ┆ f64        ┆ f64        │\n",
       "╞═════════════╪══════════╪═══════════════════════╪═════╪═════════════════╪════════════╪════════════╡\n",
       "│ 98840       ┆ 9884005  ┆ OilTank5Level         ┆ in  ┆ 2015-05-01      ┆ 74.240695  ┆ 790.375905 │\n",
       "│             ┆          ┆                       ┆     ┆ 05:05:54.083239 ┆            ┆            │\n",
       "│ 98840       ┆ 98840W2  ┆ WaterTank2Volume      ┆ bbl ┆ 2023-08-16      ┆ 357.148125 ┆ 653.135767 │\n",
       "│             ┆          ┆                       ┆     ┆ 19:52:13.787936 ┆            ┆            │\n",
       "│ 98840       ┆ 9884003  ┆ OilTank3Volume        ┆ bbl ┆ 2024-02-11      ┆ 284.213132 ┆ 624.069952 │\n",
       "│             ┆          ┆                       ┆     ┆ 04:10:55.839466 ┆            ┆            │\n",
       "│ 98840       ┆ 98840FAC ┆ ESD-OilTankID         ┆     ┆ 2024-07-05      ┆ 4.0        ┆ null       │\n",
       "│             ┆          ┆                       ┆     ┆ 18:19:24.387492 ┆            ┆            │\n",
       "│ 98840       ┆ 9884004  ┆ OilTank4Level         ┆ in  ┆ 2021-06-18      ┆ 75.002393  ┆ 417.5281   │\n",
       "│             ┆          ┆                       ┆     ┆ 15:33:10.557032 ┆            ┆            │\n",
       "│ 98840       ┆ 98840W1  ┆ WaterTank1Volume      ┆ bbl ┆ 2017-07-27      ┆ 267.90299  ┆ 696.762014 │\n",
       "│             ┆          ┆                       ┆     ┆ 01:09:29.652477 ┆            ┆            │\n",
       "│ 98840       ┆ 98840FAC ┆ ESD-WaterTankID       ┆     ┆ 2024-01-27      ┆ 2.0        ┆ null       │\n",
       "│             ┆          ┆                       ┆     ┆ 14:57:50.775593 ┆            ┆            │\n",
       "│ 98840       ┆ 9884004  ┆ OilTank4Volume        ┆ bbl ┆ 2016-07-11      ┆ 268.335022 ┆ 417.5281   │\n",
       "│             ┆          ┆                       ┆     ┆ 16:10:15.036230 ┆            ┆            │\n",
       "│ 98840       ┆ 9884006  ┆ OilTank6Level         ┆ in  ┆ 2023-06-11      ┆ 82.279163  ┆ 400.362155 │\n",
       "│             ┆          ┆                       ┆     ┆ 18:05:05.734061 ┆            ┆            │\n",
       "│ 98840       ┆ 9884002  ┆ OilTank2Level         ┆ in  ┆ 2017-08-19      ┆ 77.590071  ┆ 735.848157 │\n",
       "│             ┆          ┆                       ┆     ┆ 19:36:27.207843 ┆            ┆            │\n",
       "│ 98840       ┆ 9884001  ┆ OilTank1Volume        ┆ bbl ┆ 2018-01-11      ┆ 299.173063 ┆ 554.086643 │\n",
       "│             ┆          ┆                       ┆     ┆ 09:12:20.082822 ┆            ┆            │\n",
       "│ 98840       ┆ 9884003  ┆ OilTank3Level         ┆ in  ┆ 2015-11-29      ┆ 77.392763  ┆ 624.069952 │\n",
       "│             ┆          ┆                       ┆     ┆ 12:01:20.722028 ┆            ┆            │\n",
       "│ 98840       ┆ 9884006  ┆ OilTank6Volume        ┆ bbl ┆ 2016-08-27      ┆ 309.826949 ┆ 400.362155 │\n",
       "│             ┆          ┆                       ┆     ┆ 09:37:18.686554 ┆            ┆            │\n",
       "│ 98840       ┆ 9884001  ┆ OilTank1Level         ┆ in  ┆ 2024-07-28      ┆ 79.02198   ┆ 554.086643 │\n",
       "│             ┆          ┆                       ┆     ┆ 17:42:10.494432 ┆            ┆            │\n",
       "│ 98840       ┆ 98840W1  ┆ WaterTank1Level       ┆ in  ┆ 2018-12-21      ┆ 79.941493  ┆ 696.762014 │\n",
       "│             ┆          ┆                       ┆     ┆ 14:57:41.886927 ┆            ┆            │\n",
       "│ 98840       ┆ 98840W2  ┆ WaterTank2Level       ┆ in  ┆ 2019-04-05      ┆ 76.456344  ┆ 653.135767 │\n",
       "│             ┆          ┆                       ┆     ┆ 01:41:07.809116 ┆            ┆            │\n",
       "│ 98840       ┆ 98840FAC ┆ ESD-WaterTankInchesUn ┆ in  ┆ 2024-08-16      ┆ 257.847738 ┆ null       │\n",
       "│             ┆          ┆ tilAlarm              ┆     ┆ 04:45:27.763083 ┆            ┆            │\n",
       "│ 98840       ┆ 9884005  ┆ OilTank5Volume        ┆ bbl ┆ 2023-03-17      ┆ 300.447955 ┆ 790.375905 │\n",
       "│             ┆          ┆                       ┆     ┆ 20:34:17.444289 ┆            ┆            │\n",
       "│ 98840       ┆ 98840FAC ┆ ESD-OilTankInchesUnti ┆ in  ┆ 2024-08-22      ┆ 102.478181 ┆ null       │\n",
       "│             ┆          ┆ lAlarm                ┆     ┆ 10:59:43.894659 ┆            ┆            │\n",
       "│ 98840       ┆ 9884002  ┆ OilTank2Volume        ┆ bbl ┆ 2021-03-20      ┆ 293.977423 ┆ 735.848157 │\n",
       "│             ┆          ┆                       ┆     ┆ 22:08:34.417192 ┆            ┆            │\n",
       "└─────────────┴──────────┴───────────────────────┴─────┴─────────────────┴────────────┴────────────┘"
      ]
     },
     "execution_count": 77,
     "metadata": {},
     "output_type": "execute_result"
    }
   ],
   "source": [
    "lf = lf.drop(\"unique_id\")\n",
    "lf.collect()"
   ]
  },
  {
   "cell_type": "code",
   "execution_count": 78,
   "metadata": {},
   "outputs": [
    {
     "data": {
      "text/html": [
       "<div><style>\n",
       ".dataframe > thead > tr,\n",
       ".dataframe > tbody > tr {\n",
       "  text-align: right;\n",
       "  white-space: pre-wrap;\n",
       "}\n",
       "</style>\n",
       "<small>shape: (20, 8)</small><table border=\"1\" class=\"dataframe\"><thead><tr><th>property_id</th><th>scada_id</th><th>metric_nice_name</th><th>uom</th><th>timestamp</th><th>value</th><th>tanksize</th><th>separated_metrics</th></tr><tr><td>str</td><td>str</td><td>str</td><td>str</td><td>datetime[μs]</td><td>f64</td><td>f64</td><td>struct[4]</td></tr></thead><tbody><tr><td>&quot;98840&quot;</td><td>&quot;9884005&quot;</td><td>&quot;OilTank5Level&quot;</td><td>&quot;in&quot;</td><td>2015-05-01 05:05:54.083239</td><td>74.240695</td><td>790.375905</td><td>{null,&quot;Oil&quot;,&quot;5&quot;,&quot;Level&quot;}</td></tr><tr><td>&quot;98840&quot;</td><td>&quot;98840W2&quot;</td><td>&quot;WaterTank2Volume&quot;</td><td>&quot;bbl&quot;</td><td>2023-08-16 19:52:13.787936</td><td>357.148125</td><td>653.135767</td><td>{null,&quot;Water&quot;,&quot;2&quot;,&quot;Volume&quot;}</td></tr><tr><td>&quot;98840&quot;</td><td>&quot;9884003&quot;</td><td>&quot;OilTank3Volume&quot;</td><td>&quot;bbl&quot;</td><td>2024-02-11 04:10:55.839466</td><td>284.213132</td><td>624.069952</td><td>{null,&quot;Oil&quot;,&quot;3&quot;,&quot;Volume&quot;}</td></tr><tr><td>&quot;98840&quot;</td><td>&quot;98840FAC&quot;</td><td>&quot;ESD-OilTankID&quot;</td><td>&quot;&quot;</td><td>2024-07-05 18:19:24.387492</td><td>4.0</td><td>null</td><td>{&quot;ESD-&quot;,&quot;Oil&quot;,&quot;&quot;,&quot;ID&quot;}</td></tr><tr><td>&quot;98840&quot;</td><td>&quot;9884004&quot;</td><td>&quot;OilTank4Level&quot;</td><td>&quot;in&quot;</td><td>2021-06-18 15:33:10.557032</td><td>75.002393</td><td>417.5281</td><td>{null,&quot;Oil&quot;,&quot;4&quot;,&quot;Level&quot;}</td></tr><tr><td>&quot;98840&quot;</td><td>&quot;98840W1&quot;</td><td>&quot;WaterTank1Volume&quot;</td><td>&quot;bbl&quot;</td><td>2017-07-27 01:09:29.652477</td><td>267.90299</td><td>696.762014</td><td>{null,&quot;Water&quot;,&quot;1&quot;,&quot;Volume&quot;}</td></tr><tr><td>&quot;98840&quot;</td><td>&quot;98840FAC&quot;</td><td>&quot;ESD-WaterTankID&quot;</td><td>&quot;&quot;</td><td>2024-01-27 14:57:50.775593</td><td>2.0</td><td>null</td><td>{&quot;ESD-&quot;,&quot;Water&quot;,&quot;&quot;,&quot;ID&quot;}</td></tr><tr><td>&quot;98840&quot;</td><td>&quot;9884004&quot;</td><td>&quot;OilTank4Volume&quot;</td><td>&quot;bbl&quot;</td><td>2016-07-11 16:10:15.036230</td><td>268.335022</td><td>417.5281</td><td>{null,&quot;Oil&quot;,&quot;4&quot;,&quot;Volume&quot;}</td></tr><tr><td>&quot;98840&quot;</td><td>&quot;9884006&quot;</td><td>&quot;OilTank6Level&quot;</td><td>&quot;in&quot;</td><td>2023-06-11 18:05:05.734061</td><td>82.279163</td><td>400.362155</td><td>{null,&quot;Oil&quot;,&quot;6&quot;,&quot;Level&quot;}</td></tr><tr><td>&quot;98840&quot;</td><td>&quot;9884002&quot;</td><td>&quot;OilTank2Level&quot;</td><td>&quot;in&quot;</td><td>2017-08-19 19:36:27.207843</td><td>77.590071</td><td>735.848157</td><td>{null,&quot;Oil&quot;,&quot;2&quot;,&quot;Level&quot;}</td></tr><tr><td>&quot;98840&quot;</td><td>&quot;9884001&quot;</td><td>&quot;OilTank1Volume&quot;</td><td>&quot;bbl&quot;</td><td>2018-01-11 09:12:20.082822</td><td>299.173063</td><td>554.086643</td><td>{null,&quot;Oil&quot;,&quot;1&quot;,&quot;Volume&quot;}</td></tr><tr><td>&quot;98840&quot;</td><td>&quot;9884003&quot;</td><td>&quot;OilTank3Level&quot;</td><td>&quot;in&quot;</td><td>2015-11-29 12:01:20.722028</td><td>77.392763</td><td>624.069952</td><td>{null,&quot;Oil&quot;,&quot;3&quot;,&quot;Level&quot;}</td></tr><tr><td>&quot;98840&quot;</td><td>&quot;9884006&quot;</td><td>&quot;OilTank6Volume&quot;</td><td>&quot;bbl&quot;</td><td>2016-08-27 09:37:18.686554</td><td>309.826949</td><td>400.362155</td><td>{null,&quot;Oil&quot;,&quot;6&quot;,&quot;Volume&quot;}</td></tr><tr><td>&quot;98840&quot;</td><td>&quot;9884001&quot;</td><td>&quot;OilTank1Level&quot;</td><td>&quot;in&quot;</td><td>2024-07-28 17:42:10.494432</td><td>79.02198</td><td>554.086643</td><td>{null,&quot;Oil&quot;,&quot;1&quot;,&quot;Level&quot;}</td></tr><tr><td>&quot;98840&quot;</td><td>&quot;98840W1&quot;</td><td>&quot;WaterTank1Level&quot;</td><td>&quot;in&quot;</td><td>2018-12-21 14:57:41.886927</td><td>79.941493</td><td>696.762014</td><td>{null,&quot;Water&quot;,&quot;1&quot;,&quot;Level&quot;}</td></tr><tr><td>&quot;98840&quot;</td><td>&quot;98840W2&quot;</td><td>&quot;WaterTank2Level&quot;</td><td>&quot;in&quot;</td><td>2019-04-05 01:41:07.809116</td><td>76.456344</td><td>653.135767</td><td>{null,&quot;Water&quot;,&quot;2&quot;,&quot;Level&quot;}</td></tr><tr><td>&quot;98840&quot;</td><td>&quot;98840FAC&quot;</td><td>&quot;ESD-WaterTankInchesUntilAlarm&quot;</td><td>&quot;in&quot;</td><td>2024-08-16 04:45:27.763083</td><td>257.847738</td><td>null</td><td>{&quot;ESD-&quot;,&quot;Water&quot;,&quot;&quot;,&quot;InchesUntilAlarm&quot;}</td></tr><tr><td>&quot;98840&quot;</td><td>&quot;9884005&quot;</td><td>&quot;OilTank5Volume&quot;</td><td>&quot;bbl&quot;</td><td>2023-03-17 20:34:17.444289</td><td>300.447955</td><td>790.375905</td><td>{null,&quot;Oil&quot;,&quot;5&quot;,&quot;Volume&quot;}</td></tr><tr><td>&quot;98840&quot;</td><td>&quot;98840FAC&quot;</td><td>&quot;ESD-OilTankInchesUntilAlarm&quot;</td><td>&quot;in&quot;</td><td>2024-08-22 10:59:43.894659</td><td>102.478181</td><td>null</td><td>{&quot;ESD-&quot;,&quot;Oil&quot;,&quot;&quot;,&quot;InchesUntilAlarm&quot;}</td></tr><tr><td>&quot;98840&quot;</td><td>&quot;9884002&quot;</td><td>&quot;OilTank2Volume&quot;</td><td>&quot;bbl&quot;</td><td>2021-03-20 22:08:34.417192</td><td>293.977423</td><td>735.848157</td><td>{null,&quot;Oil&quot;,&quot;2&quot;,&quot;Volume&quot;}</td></tr></tbody></table></div>"
      ],
      "text/plain": [
       "shape: (20, 8)\n",
       "┌─────────────┬──────────┬─────────────┬─────┬─────────────┬────────────┬────────────┬─────────────┐\n",
       "│ property_id ┆ scada_id ┆ metric_nice ┆ uom ┆ timestamp   ┆ value      ┆ tanksize   ┆ separated_m │\n",
       "│ ---         ┆ ---      ┆ _name       ┆ --- ┆ ---         ┆ ---        ┆ ---        ┆ etrics      │\n",
       "│ str         ┆ str      ┆ ---         ┆ str ┆ datetime[μs ┆ f64        ┆ f64        ┆ ---         │\n",
       "│             ┆          ┆ str         ┆     ┆ ]           ┆            ┆            ┆ struct[4]   │\n",
       "╞═════════════╪══════════╪═════════════╪═════╪═════════════╪════════════╪════════════╪═════════════╡\n",
       "│ 98840       ┆ 9884005  ┆ OilTank5Lev ┆ in  ┆ 2015-05-01  ┆ 74.240695  ┆ 790.375905 ┆ {null,\"Oil\" │\n",
       "│             ┆          ┆ el          ┆     ┆ 05:05:54.08 ┆            ┆            ┆ ,\"5\",\"Level │\n",
       "│             ┆          ┆             ┆     ┆ 3239        ┆            ┆            ┆ \"}          │\n",
       "│ 98840       ┆ 98840W2  ┆ WaterTank2V ┆ bbl ┆ 2023-08-16  ┆ 357.148125 ┆ 653.135767 ┆ {null,\"Wate │\n",
       "│             ┆          ┆ olume       ┆     ┆ 19:52:13.78 ┆            ┆            ┆ r\",\"2\",\"Vol │\n",
       "│             ┆          ┆             ┆     ┆ 7936        ┆            ┆            ┆ ume\"}       │\n",
       "│ 98840       ┆ 9884003  ┆ OilTank3Vol ┆ bbl ┆ 2024-02-11  ┆ 284.213132 ┆ 624.069952 ┆ {null,\"Oil\" │\n",
       "│             ┆          ┆ ume         ┆     ┆ 04:10:55.83 ┆            ┆            ┆ ,\"3\",\"Volum │\n",
       "│             ┆          ┆             ┆     ┆ 9466        ┆            ┆            ┆ e\"}         │\n",
       "│ 98840       ┆ 98840FAC ┆ ESD-OilTank ┆     ┆ 2024-07-05  ┆ 4.0        ┆ null       ┆ {\"ESD-\",\"Oi │\n",
       "│             ┆          ┆ ID          ┆     ┆ 18:19:24.38 ┆            ┆            ┆ l\",\"\",\"ID\"} │\n",
       "│             ┆          ┆             ┆     ┆ 7492        ┆            ┆            ┆             │\n",
       "│ 98840       ┆ 9884004  ┆ OilTank4Lev ┆ in  ┆ 2021-06-18  ┆ 75.002393  ┆ 417.5281   ┆ {null,\"Oil\" │\n",
       "│             ┆          ┆ el          ┆     ┆ 15:33:10.55 ┆            ┆            ┆ ,\"4\",\"Level │\n",
       "│             ┆          ┆             ┆     ┆ 7032        ┆            ┆            ┆ \"}          │\n",
       "│ 98840       ┆ 98840W1  ┆ WaterTank1V ┆ bbl ┆ 2017-07-27  ┆ 267.90299  ┆ 696.762014 ┆ {null,\"Wate │\n",
       "│             ┆          ┆ olume       ┆     ┆ 01:09:29.65 ┆            ┆            ┆ r\",\"1\",\"Vol │\n",
       "│             ┆          ┆             ┆     ┆ 2477        ┆            ┆            ┆ ume\"}       │\n",
       "│ 98840       ┆ 98840FAC ┆ ESD-WaterTa ┆     ┆ 2024-01-27  ┆ 2.0        ┆ null       ┆ {\"ESD-\",\"Wa │\n",
       "│             ┆          ┆ nkID        ┆     ┆ 14:57:50.77 ┆            ┆            ┆ ter\",\"\",\"ID │\n",
       "│             ┆          ┆             ┆     ┆ 5593        ┆            ┆            ┆ \"}          │\n",
       "│ 98840       ┆ 9884004  ┆ OilTank4Vol ┆ bbl ┆ 2016-07-11  ┆ 268.335022 ┆ 417.5281   ┆ {null,\"Oil\" │\n",
       "│             ┆          ┆ ume         ┆     ┆ 16:10:15.03 ┆            ┆            ┆ ,\"4\",\"Volum │\n",
       "│             ┆          ┆             ┆     ┆ 6230        ┆            ┆            ┆ e\"}         │\n",
       "│ 98840       ┆ 9884006  ┆ OilTank6Lev ┆ in  ┆ 2023-06-11  ┆ 82.279163  ┆ 400.362155 ┆ {null,\"Oil\" │\n",
       "│             ┆          ┆ el          ┆     ┆ 18:05:05.73 ┆            ┆            ┆ ,\"6\",\"Level │\n",
       "│             ┆          ┆             ┆     ┆ 4061        ┆            ┆            ┆ \"}          │\n",
       "│ 98840       ┆ 9884002  ┆ OilTank2Lev ┆ in  ┆ 2017-08-19  ┆ 77.590071  ┆ 735.848157 ┆ {null,\"Oil\" │\n",
       "│             ┆          ┆ el          ┆     ┆ 19:36:27.20 ┆            ┆            ┆ ,\"2\",\"Level │\n",
       "│             ┆          ┆             ┆     ┆ 7843        ┆            ┆            ┆ \"}          │\n",
       "│ 98840       ┆ 9884001  ┆ OilTank1Vol ┆ bbl ┆ 2018-01-11  ┆ 299.173063 ┆ 554.086643 ┆ {null,\"Oil\" │\n",
       "│             ┆          ┆ ume         ┆     ┆ 09:12:20.08 ┆            ┆            ┆ ,\"1\",\"Volum │\n",
       "│             ┆          ┆             ┆     ┆ 2822        ┆            ┆            ┆ e\"}         │\n",
       "│ 98840       ┆ 9884003  ┆ OilTank3Lev ┆ in  ┆ 2015-11-29  ┆ 77.392763  ┆ 624.069952 ┆ {null,\"Oil\" │\n",
       "│             ┆          ┆ el          ┆     ┆ 12:01:20.72 ┆            ┆            ┆ ,\"3\",\"Level │\n",
       "│             ┆          ┆             ┆     ┆ 2028        ┆            ┆            ┆ \"}          │\n",
       "│ 98840       ┆ 9884006  ┆ OilTank6Vol ┆ bbl ┆ 2016-08-27  ┆ 309.826949 ┆ 400.362155 ┆ {null,\"Oil\" │\n",
       "│             ┆          ┆ ume         ┆     ┆ 09:37:18.68 ┆            ┆            ┆ ,\"6\",\"Volum │\n",
       "│             ┆          ┆             ┆     ┆ 6554        ┆            ┆            ┆ e\"}         │\n",
       "│ 98840       ┆ 9884001  ┆ OilTank1Lev ┆ in  ┆ 2024-07-28  ┆ 79.02198   ┆ 554.086643 ┆ {null,\"Oil\" │\n",
       "│             ┆          ┆ el          ┆     ┆ 17:42:10.49 ┆            ┆            ┆ ,\"1\",\"Level │\n",
       "│             ┆          ┆             ┆     ┆ 4432        ┆            ┆            ┆ \"}          │\n",
       "│ 98840       ┆ 98840W1  ┆ WaterTank1L ┆ in  ┆ 2018-12-21  ┆ 79.941493  ┆ 696.762014 ┆ {null,\"Wate │\n",
       "│             ┆          ┆ evel        ┆     ┆ 14:57:41.88 ┆            ┆            ┆ r\",\"1\",\"Lev │\n",
       "│             ┆          ┆             ┆     ┆ 6927        ┆            ┆            ┆ el\"}        │\n",
       "│ 98840       ┆ 98840W2  ┆ WaterTank2L ┆ in  ┆ 2019-04-05  ┆ 76.456344  ┆ 653.135767 ┆ {null,\"Wate │\n",
       "│             ┆          ┆ evel        ┆     ┆ 01:41:07.80 ┆            ┆            ┆ r\",\"2\",\"Lev │\n",
       "│             ┆          ┆             ┆     ┆ 9116        ┆            ┆            ┆ el\"}        │\n",
       "│ 98840       ┆ 98840FAC ┆ ESD-WaterTa ┆ in  ┆ 2024-08-16  ┆ 257.847738 ┆ null       ┆ {\"ESD-\",\"Wa │\n",
       "│             ┆          ┆ nkInchesUnt ┆     ┆ 04:45:27.76 ┆            ┆            ┆ ter\",\"\",\"In │\n",
       "│             ┆          ┆ ilAlarm     ┆     ┆ 3083        ┆            ┆            ┆ chesUnti…   │\n",
       "│ 98840       ┆ 9884005  ┆ OilTank5Vol ┆ bbl ┆ 2023-03-17  ┆ 300.447955 ┆ 790.375905 ┆ {null,\"Oil\" │\n",
       "│             ┆          ┆ ume         ┆     ┆ 20:34:17.44 ┆            ┆            ┆ ,\"5\",\"Volum │\n",
       "│             ┆          ┆             ┆     ┆ 4289        ┆            ┆            ┆ e\"}         │\n",
       "│ 98840       ┆ 98840FAC ┆ ESD-OilTank ┆ in  ┆ 2024-08-22  ┆ 102.478181 ┆ null       ┆ {\"ESD-\",\"Oi │\n",
       "│             ┆          ┆ InchesUntil ┆     ┆ 10:59:43.89 ┆            ┆            ┆ l\",\"\",\"Inch │\n",
       "│             ┆          ┆ Alarm       ┆     ┆ 4659        ┆            ┆            ┆ esUntilA…   │\n",
       "│ 98840       ┆ 9884002  ┆ OilTank2Vol ┆ bbl ┆ 2021-03-20  ┆ 293.977423 ┆ 735.848157 ┆ {null,\"Oil\" │\n",
       "│             ┆          ┆ ume         ┆     ┆ 22:08:34.41 ┆            ┆            ┆ ,\"2\",\"Volum │\n",
       "│             ┆          ┆             ┆     ┆ 7192        ┆            ┆            ┆ e\"}         │\n",
       "└─────────────┴──────────┴─────────────┴─────┴─────────────┴────────────┴────────────┴─────────────┘"
      ]
     },
     "execution_count": 78,
     "metadata": {},
     "output_type": "execute_result"
    }
   ],
   "source": [
    "tank_metrics = [\"Level\", \"Volume\", \"InchesUntilAlarm\", \"InchesToESD\", \"TimeUntilESD\", \"Capacity\", \"ID\"]\n",
    "tank_types = [\"Water\", \"Oil\"]\n",
    "\n",
    "tank_metrics_str= \"|\".join(tank_metrics)\n",
    "tank_types_str = \"|\".join(tank_types)\n",
    "\n",
    "pattern = f'^(?<is_esd>ESD-)?(?<tank_type>{tank_types_str})Tank(?<tank_number>[0-9]*)(?<tank_metric>{tank_metrics_str})'\n",
    "lf = lf.with_columns(separated_metrics = pl.col(\"metric_nice_name\").str.extract_groups(pattern))\n",
    "lf.collect()"
   ]
  },
  {
   "cell_type": "code",
   "execution_count": 79,
   "metadata": {},
   "outputs": [
    {
     "data": {
      "text/html": [
       "<div><style>\n",
       ".dataframe > thead > tr,\n",
       ".dataframe > tbody > tr {\n",
       "  text-align: right;\n",
       "  white-space: pre-wrap;\n",
       "}\n",
       "</style>\n",
       "<small>shape: (20, 11)</small><table border=\"1\" class=\"dataframe\"><thead><tr><th>property_id</th><th>scada_id</th><th>metric_nice_name</th><th>uom</th><th>timestamp</th><th>value</th><th>tanksize</th><th>is_esd</th><th>tank_type</th><th>tank_number</th><th>tank_metric</th></tr><tr><td>str</td><td>str</td><td>str</td><td>str</td><td>datetime[μs]</td><td>f64</td><td>f64</td><td>str</td><td>str</td><td>str</td><td>str</td></tr></thead><tbody><tr><td>&quot;98840&quot;</td><td>&quot;9884005&quot;</td><td>&quot;OilTank5Level&quot;</td><td>&quot;in&quot;</td><td>2015-05-01 05:05:54.083239</td><td>74.240695</td><td>790.375905</td><td>null</td><td>&quot;Oil&quot;</td><td>&quot;5&quot;</td><td>&quot;Level&quot;</td></tr><tr><td>&quot;98840&quot;</td><td>&quot;98840W2&quot;</td><td>&quot;WaterTank2Volume&quot;</td><td>&quot;bbl&quot;</td><td>2023-08-16 19:52:13.787936</td><td>357.148125</td><td>653.135767</td><td>null</td><td>&quot;Water&quot;</td><td>&quot;2&quot;</td><td>&quot;Volume&quot;</td></tr><tr><td>&quot;98840&quot;</td><td>&quot;9884003&quot;</td><td>&quot;OilTank3Volume&quot;</td><td>&quot;bbl&quot;</td><td>2024-02-11 04:10:55.839466</td><td>284.213132</td><td>624.069952</td><td>null</td><td>&quot;Oil&quot;</td><td>&quot;3&quot;</td><td>&quot;Volume&quot;</td></tr><tr><td>&quot;98840&quot;</td><td>&quot;98840FAC&quot;</td><td>&quot;ESD-OilTankID&quot;</td><td>&quot;&quot;</td><td>2024-07-05 18:19:24.387492</td><td>4.0</td><td>null</td><td>&quot;ESD-&quot;</td><td>&quot;Oil&quot;</td><td>&quot;&quot;</td><td>&quot;ID&quot;</td></tr><tr><td>&quot;98840&quot;</td><td>&quot;9884004&quot;</td><td>&quot;OilTank4Level&quot;</td><td>&quot;in&quot;</td><td>2021-06-18 15:33:10.557032</td><td>75.002393</td><td>417.5281</td><td>null</td><td>&quot;Oil&quot;</td><td>&quot;4&quot;</td><td>&quot;Level&quot;</td></tr><tr><td>&quot;98840&quot;</td><td>&quot;98840W1&quot;</td><td>&quot;WaterTank1Volume&quot;</td><td>&quot;bbl&quot;</td><td>2017-07-27 01:09:29.652477</td><td>267.90299</td><td>696.762014</td><td>null</td><td>&quot;Water&quot;</td><td>&quot;1&quot;</td><td>&quot;Volume&quot;</td></tr><tr><td>&quot;98840&quot;</td><td>&quot;98840FAC&quot;</td><td>&quot;ESD-WaterTankID&quot;</td><td>&quot;&quot;</td><td>2024-01-27 14:57:50.775593</td><td>2.0</td><td>null</td><td>&quot;ESD-&quot;</td><td>&quot;Water&quot;</td><td>&quot;&quot;</td><td>&quot;ID&quot;</td></tr><tr><td>&quot;98840&quot;</td><td>&quot;9884004&quot;</td><td>&quot;OilTank4Volume&quot;</td><td>&quot;bbl&quot;</td><td>2016-07-11 16:10:15.036230</td><td>268.335022</td><td>417.5281</td><td>null</td><td>&quot;Oil&quot;</td><td>&quot;4&quot;</td><td>&quot;Volume&quot;</td></tr><tr><td>&quot;98840&quot;</td><td>&quot;9884006&quot;</td><td>&quot;OilTank6Level&quot;</td><td>&quot;in&quot;</td><td>2023-06-11 18:05:05.734061</td><td>82.279163</td><td>400.362155</td><td>null</td><td>&quot;Oil&quot;</td><td>&quot;6&quot;</td><td>&quot;Level&quot;</td></tr><tr><td>&quot;98840&quot;</td><td>&quot;9884002&quot;</td><td>&quot;OilTank2Level&quot;</td><td>&quot;in&quot;</td><td>2017-08-19 19:36:27.207843</td><td>77.590071</td><td>735.848157</td><td>null</td><td>&quot;Oil&quot;</td><td>&quot;2&quot;</td><td>&quot;Level&quot;</td></tr><tr><td>&quot;98840&quot;</td><td>&quot;9884001&quot;</td><td>&quot;OilTank1Volume&quot;</td><td>&quot;bbl&quot;</td><td>2018-01-11 09:12:20.082822</td><td>299.173063</td><td>554.086643</td><td>null</td><td>&quot;Oil&quot;</td><td>&quot;1&quot;</td><td>&quot;Volume&quot;</td></tr><tr><td>&quot;98840&quot;</td><td>&quot;9884003&quot;</td><td>&quot;OilTank3Level&quot;</td><td>&quot;in&quot;</td><td>2015-11-29 12:01:20.722028</td><td>77.392763</td><td>624.069952</td><td>null</td><td>&quot;Oil&quot;</td><td>&quot;3&quot;</td><td>&quot;Level&quot;</td></tr><tr><td>&quot;98840&quot;</td><td>&quot;9884006&quot;</td><td>&quot;OilTank6Volume&quot;</td><td>&quot;bbl&quot;</td><td>2016-08-27 09:37:18.686554</td><td>309.826949</td><td>400.362155</td><td>null</td><td>&quot;Oil&quot;</td><td>&quot;6&quot;</td><td>&quot;Volume&quot;</td></tr><tr><td>&quot;98840&quot;</td><td>&quot;9884001&quot;</td><td>&quot;OilTank1Level&quot;</td><td>&quot;in&quot;</td><td>2024-07-28 17:42:10.494432</td><td>79.02198</td><td>554.086643</td><td>null</td><td>&quot;Oil&quot;</td><td>&quot;1&quot;</td><td>&quot;Level&quot;</td></tr><tr><td>&quot;98840&quot;</td><td>&quot;98840W1&quot;</td><td>&quot;WaterTank1Level&quot;</td><td>&quot;in&quot;</td><td>2018-12-21 14:57:41.886927</td><td>79.941493</td><td>696.762014</td><td>null</td><td>&quot;Water&quot;</td><td>&quot;1&quot;</td><td>&quot;Level&quot;</td></tr><tr><td>&quot;98840&quot;</td><td>&quot;98840W2&quot;</td><td>&quot;WaterTank2Level&quot;</td><td>&quot;in&quot;</td><td>2019-04-05 01:41:07.809116</td><td>76.456344</td><td>653.135767</td><td>null</td><td>&quot;Water&quot;</td><td>&quot;2&quot;</td><td>&quot;Level&quot;</td></tr><tr><td>&quot;98840&quot;</td><td>&quot;98840FAC&quot;</td><td>&quot;ESD-WaterTankInchesUntilAlarm&quot;</td><td>&quot;in&quot;</td><td>2024-08-16 04:45:27.763083</td><td>257.847738</td><td>null</td><td>&quot;ESD-&quot;</td><td>&quot;Water&quot;</td><td>&quot;&quot;</td><td>&quot;InchesUntilAlarm&quot;</td></tr><tr><td>&quot;98840&quot;</td><td>&quot;9884005&quot;</td><td>&quot;OilTank5Volume&quot;</td><td>&quot;bbl&quot;</td><td>2023-03-17 20:34:17.444289</td><td>300.447955</td><td>790.375905</td><td>null</td><td>&quot;Oil&quot;</td><td>&quot;5&quot;</td><td>&quot;Volume&quot;</td></tr><tr><td>&quot;98840&quot;</td><td>&quot;98840FAC&quot;</td><td>&quot;ESD-OilTankInchesUntilAlarm&quot;</td><td>&quot;in&quot;</td><td>2024-08-22 10:59:43.894659</td><td>102.478181</td><td>null</td><td>&quot;ESD-&quot;</td><td>&quot;Oil&quot;</td><td>&quot;&quot;</td><td>&quot;InchesUntilAlarm&quot;</td></tr><tr><td>&quot;98840&quot;</td><td>&quot;9884002&quot;</td><td>&quot;OilTank2Volume&quot;</td><td>&quot;bbl&quot;</td><td>2021-03-20 22:08:34.417192</td><td>293.977423</td><td>735.848157</td><td>null</td><td>&quot;Oil&quot;</td><td>&quot;2&quot;</td><td>&quot;Volume&quot;</td></tr></tbody></table></div>"
      ],
      "text/plain": [
       "shape: (20, 11)\n",
       "┌─────────────┬──────────┬──────────────┬─────┬───┬────────┬───────────┬─────────────┬─────────────┐\n",
       "│ property_id ┆ scada_id ┆ metric_nice_ ┆ uom ┆ … ┆ is_esd ┆ tank_type ┆ tank_number ┆ tank_metric │\n",
       "│ ---         ┆ ---      ┆ name         ┆ --- ┆   ┆ ---    ┆ ---       ┆ ---         ┆ ---         │\n",
       "│ str         ┆ str      ┆ ---          ┆ str ┆   ┆ str    ┆ str       ┆ str         ┆ str         │\n",
       "│             ┆          ┆ str          ┆     ┆   ┆        ┆           ┆             ┆             │\n",
       "╞═════════════╪══════════╪══════════════╪═════╪═══╪════════╪═══════════╪═════════════╪═════════════╡\n",
       "│ 98840       ┆ 9884005  ┆ OilTank5Leve ┆ in  ┆ … ┆ null   ┆ Oil       ┆ 5           ┆ Level       │\n",
       "│             ┆          ┆ l            ┆     ┆   ┆        ┆           ┆             ┆             │\n",
       "│ 98840       ┆ 98840W2  ┆ WaterTank2Vo ┆ bbl ┆ … ┆ null   ┆ Water     ┆ 2           ┆ Volume      │\n",
       "│             ┆          ┆ lume         ┆     ┆   ┆        ┆           ┆             ┆             │\n",
       "│ 98840       ┆ 9884003  ┆ OilTank3Volu ┆ bbl ┆ … ┆ null   ┆ Oil       ┆ 3           ┆ Volume      │\n",
       "│             ┆          ┆ me           ┆     ┆   ┆        ┆           ┆             ┆             │\n",
       "│ 98840       ┆ 98840FAC ┆ ESD-OilTankI ┆     ┆ … ┆ ESD-   ┆ Oil       ┆             ┆ ID          │\n",
       "│             ┆          ┆ D            ┆     ┆   ┆        ┆           ┆             ┆             │\n",
       "│ 98840       ┆ 9884004  ┆ OilTank4Leve ┆ in  ┆ … ┆ null   ┆ Oil       ┆ 4           ┆ Level       │\n",
       "│             ┆          ┆ l            ┆     ┆   ┆        ┆           ┆             ┆             │\n",
       "│ 98840       ┆ 98840W1  ┆ WaterTank1Vo ┆ bbl ┆ … ┆ null   ┆ Water     ┆ 1           ┆ Volume      │\n",
       "│             ┆          ┆ lume         ┆     ┆   ┆        ┆           ┆             ┆             │\n",
       "│ 98840       ┆ 98840FAC ┆ ESD-WaterTan ┆     ┆ … ┆ ESD-   ┆ Water     ┆             ┆ ID          │\n",
       "│             ┆          ┆ kID          ┆     ┆   ┆        ┆           ┆             ┆             │\n",
       "│ 98840       ┆ 9884004  ┆ OilTank4Volu ┆ bbl ┆ … ┆ null   ┆ Oil       ┆ 4           ┆ Volume      │\n",
       "│             ┆          ┆ me           ┆     ┆   ┆        ┆           ┆             ┆             │\n",
       "│ 98840       ┆ 9884006  ┆ OilTank6Leve ┆ in  ┆ … ┆ null   ┆ Oil       ┆ 6           ┆ Level       │\n",
       "│             ┆          ┆ l            ┆     ┆   ┆        ┆           ┆             ┆             │\n",
       "│ 98840       ┆ 9884002  ┆ OilTank2Leve ┆ in  ┆ … ┆ null   ┆ Oil       ┆ 2           ┆ Level       │\n",
       "│             ┆          ┆ l            ┆     ┆   ┆        ┆           ┆             ┆             │\n",
       "│ 98840       ┆ 9884001  ┆ OilTank1Volu ┆ bbl ┆ … ┆ null   ┆ Oil       ┆ 1           ┆ Volume      │\n",
       "│             ┆          ┆ me           ┆     ┆   ┆        ┆           ┆             ┆             │\n",
       "│ 98840       ┆ 9884003  ┆ OilTank3Leve ┆ in  ┆ … ┆ null   ┆ Oil       ┆ 3           ┆ Level       │\n",
       "│             ┆          ┆ l            ┆     ┆   ┆        ┆           ┆             ┆             │\n",
       "│ 98840       ┆ 9884006  ┆ OilTank6Volu ┆ bbl ┆ … ┆ null   ┆ Oil       ┆ 6           ┆ Volume      │\n",
       "│             ┆          ┆ me           ┆     ┆   ┆        ┆           ┆             ┆             │\n",
       "│ 98840       ┆ 9884001  ┆ OilTank1Leve ┆ in  ┆ … ┆ null   ┆ Oil       ┆ 1           ┆ Level       │\n",
       "│             ┆          ┆ l            ┆     ┆   ┆        ┆           ┆             ┆             │\n",
       "│ 98840       ┆ 98840W1  ┆ WaterTank1Le ┆ in  ┆ … ┆ null   ┆ Water     ┆ 1           ┆ Level       │\n",
       "│             ┆          ┆ vel          ┆     ┆   ┆        ┆           ┆             ┆             │\n",
       "│ 98840       ┆ 98840W2  ┆ WaterTank2Le ┆ in  ┆ … ┆ null   ┆ Water     ┆ 2           ┆ Level       │\n",
       "│             ┆          ┆ vel          ┆     ┆   ┆        ┆           ┆             ┆             │\n",
       "│ 98840       ┆ 98840FAC ┆ ESD-WaterTan ┆ in  ┆ … ┆ ESD-   ┆ Water     ┆             ┆ InchesUntil │\n",
       "│             ┆          ┆ kInchesUntil ┆     ┆   ┆        ┆           ┆             ┆ Alarm       │\n",
       "│             ┆          ┆ Alarm        ┆     ┆   ┆        ┆           ┆             ┆             │\n",
       "│ 98840       ┆ 9884005  ┆ OilTank5Volu ┆ bbl ┆ … ┆ null   ┆ Oil       ┆ 5           ┆ Volume      │\n",
       "│             ┆          ┆ me           ┆     ┆   ┆        ┆           ┆             ┆             │\n",
       "│ 98840       ┆ 98840FAC ┆ ESD-OilTankI ┆ in  ┆ … ┆ ESD-   ┆ Oil       ┆             ┆ InchesUntil │\n",
       "│             ┆          ┆ nchesUntilAl ┆     ┆   ┆        ┆           ┆             ┆ Alarm       │\n",
       "│             ┆          ┆ arm          ┆     ┆   ┆        ┆           ┆             ┆             │\n",
       "│ 98840       ┆ 9884002  ┆ OilTank2Volu ┆ bbl ┆ … ┆ null   ┆ Oil       ┆ 2           ┆ Volume      │\n",
       "│             ┆          ┆ me           ┆     ┆   ┆        ┆           ┆             ┆             │\n",
       "└─────────────┴──────────┴──────────────┴─────┴───┴────────┴───────────┴─────────────┴─────────────┘"
      ]
     },
     "execution_count": 79,
     "metadata": {},
     "output_type": "execute_result"
    }
   ],
   "source": [
    "lf = lf.unnest(\"separated_metrics\")\n",
    "lf.collect()"
   ]
  },
  {
   "cell_type": "code",
   "execution_count": 80,
   "metadata": {},
   "outputs": [
    {
     "data": {
      "text/html": [
       "<div><style>\n",
       ".dataframe > thead > tr,\n",
       ".dataframe > tbody > tr {\n",
       "  text-align: right;\n",
       "  white-space: pre-wrap;\n",
       "}\n",
       "</style>\n",
       "<small>shape: (20, 11)</small><table border=\"1\" class=\"dataframe\"><thead><tr><th>property_id</th><th>scada_id</th><th>metric_nice_name</th><th>uom</th><th>timestamp</th><th>value</th><th>tanksize</th><th>is_esd</th><th>tank_type</th><th>tank_number</th><th>tank_metric</th></tr><tr><td>str</td><td>str</td><td>str</td><td>str</td><td>datetime[μs]</td><td>f64</td><td>f64</td><td>str</td><td>str</td><td>u8</td><td>str</td></tr></thead><tbody><tr><td>&quot;98840&quot;</td><td>&quot;9884005&quot;</td><td>&quot;OilTank5Level&quot;</td><td>&quot;in&quot;</td><td>2015-05-01 05:05:54.083239</td><td>74.240695</td><td>790.375905</td><td>null</td><td>&quot;Oil&quot;</td><td>5</td><td>&quot;Level&quot;</td></tr><tr><td>&quot;98840&quot;</td><td>&quot;98840W2&quot;</td><td>&quot;WaterTank2Volume&quot;</td><td>&quot;bbl&quot;</td><td>2023-08-16 19:52:13.787936</td><td>357.148125</td><td>653.135767</td><td>null</td><td>&quot;Water&quot;</td><td>2</td><td>&quot;Volume&quot;</td></tr><tr><td>&quot;98840&quot;</td><td>&quot;9884003&quot;</td><td>&quot;OilTank3Volume&quot;</td><td>&quot;bbl&quot;</td><td>2024-02-11 04:10:55.839466</td><td>284.213132</td><td>624.069952</td><td>null</td><td>&quot;Oil&quot;</td><td>3</td><td>&quot;Volume&quot;</td></tr><tr><td>&quot;98840&quot;</td><td>&quot;98840FAC&quot;</td><td>&quot;ESD-OilTankID&quot;</td><td>&quot;&quot;</td><td>2024-07-05 18:19:24.387492</td><td>4.0</td><td>null</td><td>&quot;ESD-&quot;</td><td>&quot;Oil&quot;</td><td>null</td><td>&quot;ID&quot;</td></tr><tr><td>&quot;98840&quot;</td><td>&quot;9884004&quot;</td><td>&quot;OilTank4Level&quot;</td><td>&quot;in&quot;</td><td>2021-06-18 15:33:10.557032</td><td>75.002393</td><td>417.5281</td><td>null</td><td>&quot;Oil&quot;</td><td>4</td><td>&quot;Level&quot;</td></tr><tr><td>&quot;98840&quot;</td><td>&quot;98840W1&quot;</td><td>&quot;WaterTank1Volume&quot;</td><td>&quot;bbl&quot;</td><td>2017-07-27 01:09:29.652477</td><td>267.90299</td><td>696.762014</td><td>null</td><td>&quot;Water&quot;</td><td>1</td><td>&quot;Volume&quot;</td></tr><tr><td>&quot;98840&quot;</td><td>&quot;98840FAC&quot;</td><td>&quot;ESD-WaterTankID&quot;</td><td>&quot;&quot;</td><td>2024-01-27 14:57:50.775593</td><td>2.0</td><td>null</td><td>&quot;ESD-&quot;</td><td>&quot;Water&quot;</td><td>null</td><td>&quot;ID&quot;</td></tr><tr><td>&quot;98840&quot;</td><td>&quot;9884004&quot;</td><td>&quot;OilTank4Volume&quot;</td><td>&quot;bbl&quot;</td><td>2016-07-11 16:10:15.036230</td><td>268.335022</td><td>417.5281</td><td>null</td><td>&quot;Oil&quot;</td><td>4</td><td>&quot;Volume&quot;</td></tr><tr><td>&quot;98840&quot;</td><td>&quot;9884006&quot;</td><td>&quot;OilTank6Level&quot;</td><td>&quot;in&quot;</td><td>2023-06-11 18:05:05.734061</td><td>82.279163</td><td>400.362155</td><td>null</td><td>&quot;Oil&quot;</td><td>6</td><td>&quot;Level&quot;</td></tr><tr><td>&quot;98840&quot;</td><td>&quot;9884002&quot;</td><td>&quot;OilTank2Level&quot;</td><td>&quot;in&quot;</td><td>2017-08-19 19:36:27.207843</td><td>77.590071</td><td>735.848157</td><td>null</td><td>&quot;Oil&quot;</td><td>2</td><td>&quot;Level&quot;</td></tr><tr><td>&quot;98840&quot;</td><td>&quot;9884001&quot;</td><td>&quot;OilTank1Volume&quot;</td><td>&quot;bbl&quot;</td><td>2018-01-11 09:12:20.082822</td><td>299.173063</td><td>554.086643</td><td>null</td><td>&quot;Oil&quot;</td><td>1</td><td>&quot;Volume&quot;</td></tr><tr><td>&quot;98840&quot;</td><td>&quot;9884003&quot;</td><td>&quot;OilTank3Level&quot;</td><td>&quot;in&quot;</td><td>2015-11-29 12:01:20.722028</td><td>77.392763</td><td>624.069952</td><td>null</td><td>&quot;Oil&quot;</td><td>3</td><td>&quot;Level&quot;</td></tr><tr><td>&quot;98840&quot;</td><td>&quot;9884006&quot;</td><td>&quot;OilTank6Volume&quot;</td><td>&quot;bbl&quot;</td><td>2016-08-27 09:37:18.686554</td><td>309.826949</td><td>400.362155</td><td>null</td><td>&quot;Oil&quot;</td><td>6</td><td>&quot;Volume&quot;</td></tr><tr><td>&quot;98840&quot;</td><td>&quot;9884001&quot;</td><td>&quot;OilTank1Level&quot;</td><td>&quot;in&quot;</td><td>2024-07-28 17:42:10.494432</td><td>79.02198</td><td>554.086643</td><td>null</td><td>&quot;Oil&quot;</td><td>1</td><td>&quot;Level&quot;</td></tr><tr><td>&quot;98840&quot;</td><td>&quot;98840W1&quot;</td><td>&quot;WaterTank1Level&quot;</td><td>&quot;in&quot;</td><td>2018-12-21 14:57:41.886927</td><td>79.941493</td><td>696.762014</td><td>null</td><td>&quot;Water&quot;</td><td>1</td><td>&quot;Level&quot;</td></tr><tr><td>&quot;98840&quot;</td><td>&quot;98840W2&quot;</td><td>&quot;WaterTank2Level&quot;</td><td>&quot;in&quot;</td><td>2019-04-05 01:41:07.809116</td><td>76.456344</td><td>653.135767</td><td>null</td><td>&quot;Water&quot;</td><td>2</td><td>&quot;Level&quot;</td></tr><tr><td>&quot;98840&quot;</td><td>&quot;98840FAC&quot;</td><td>&quot;ESD-WaterTankInchesUntilAlarm&quot;</td><td>&quot;in&quot;</td><td>2024-08-16 04:45:27.763083</td><td>257.847738</td><td>null</td><td>&quot;ESD-&quot;</td><td>&quot;Water&quot;</td><td>null</td><td>&quot;InchesUntilAlarm&quot;</td></tr><tr><td>&quot;98840&quot;</td><td>&quot;9884005&quot;</td><td>&quot;OilTank5Volume&quot;</td><td>&quot;bbl&quot;</td><td>2023-03-17 20:34:17.444289</td><td>300.447955</td><td>790.375905</td><td>null</td><td>&quot;Oil&quot;</td><td>5</td><td>&quot;Volume&quot;</td></tr><tr><td>&quot;98840&quot;</td><td>&quot;98840FAC&quot;</td><td>&quot;ESD-OilTankInchesUntilAlarm&quot;</td><td>&quot;in&quot;</td><td>2024-08-22 10:59:43.894659</td><td>102.478181</td><td>null</td><td>&quot;ESD-&quot;</td><td>&quot;Oil&quot;</td><td>null</td><td>&quot;InchesUntilAlarm&quot;</td></tr><tr><td>&quot;98840&quot;</td><td>&quot;9884002&quot;</td><td>&quot;OilTank2Volume&quot;</td><td>&quot;bbl&quot;</td><td>2021-03-20 22:08:34.417192</td><td>293.977423</td><td>735.848157</td><td>null</td><td>&quot;Oil&quot;</td><td>2</td><td>&quot;Volume&quot;</td></tr></tbody></table></div>"
      ],
      "text/plain": [
       "shape: (20, 11)\n",
       "┌─────────────┬──────────┬──────────────┬─────┬───┬────────┬───────────┬─────────────┬─────────────┐\n",
       "│ property_id ┆ scada_id ┆ metric_nice_ ┆ uom ┆ … ┆ is_esd ┆ tank_type ┆ tank_number ┆ tank_metric │\n",
       "│ ---         ┆ ---      ┆ name         ┆ --- ┆   ┆ ---    ┆ ---       ┆ ---         ┆ ---         │\n",
       "│ str         ┆ str      ┆ ---          ┆ str ┆   ┆ str    ┆ str       ┆ u8          ┆ str         │\n",
       "│             ┆          ┆ str          ┆     ┆   ┆        ┆           ┆             ┆             │\n",
       "╞═════════════╪══════════╪══════════════╪═════╪═══╪════════╪═══════════╪═════════════╪═════════════╡\n",
       "│ 98840       ┆ 9884005  ┆ OilTank5Leve ┆ in  ┆ … ┆ null   ┆ Oil       ┆ 5           ┆ Level       │\n",
       "│             ┆          ┆ l            ┆     ┆   ┆        ┆           ┆             ┆             │\n",
       "│ 98840       ┆ 98840W2  ┆ WaterTank2Vo ┆ bbl ┆ … ┆ null   ┆ Water     ┆ 2           ┆ Volume      │\n",
       "│             ┆          ┆ lume         ┆     ┆   ┆        ┆           ┆             ┆             │\n",
       "│ 98840       ┆ 9884003  ┆ OilTank3Volu ┆ bbl ┆ … ┆ null   ┆ Oil       ┆ 3           ┆ Volume      │\n",
       "│             ┆          ┆ me           ┆     ┆   ┆        ┆           ┆             ┆             │\n",
       "│ 98840       ┆ 98840FAC ┆ ESD-OilTankI ┆     ┆ … ┆ ESD-   ┆ Oil       ┆ null        ┆ ID          │\n",
       "│             ┆          ┆ D            ┆     ┆   ┆        ┆           ┆             ┆             │\n",
       "│ 98840       ┆ 9884004  ┆ OilTank4Leve ┆ in  ┆ … ┆ null   ┆ Oil       ┆ 4           ┆ Level       │\n",
       "│             ┆          ┆ l            ┆     ┆   ┆        ┆           ┆             ┆             │\n",
       "│ 98840       ┆ 98840W1  ┆ WaterTank1Vo ┆ bbl ┆ … ┆ null   ┆ Water     ┆ 1           ┆ Volume      │\n",
       "│             ┆          ┆ lume         ┆     ┆   ┆        ┆           ┆             ┆             │\n",
       "│ 98840       ┆ 98840FAC ┆ ESD-WaterTan ┆     ┆ … ┆ ESD-   ┆ Water     ┆ null        ┆ ID          │\n",
       "│             ┆          ┆ kID          ┆     ┆   ┆        ┆           ┆             ┆             │\n",
       "│ 98840       ┆ 9884004  ┆ OilTank4Volu ┆ bbl ┆ … ┆ null   ┆ Oil       ┆ 4           ┆ Volume      │\n",
       "│             ┆          ┆ me           ┆     ┆   ┆        ┆           ┆             ┆             │\n",
       "│ 98840       ┆ 9884006  ┆ OilTank6Leve ┆ in  ┆ … ┆ null   ┆ Oil       ┆ 6           ┆ Level       │\n",
       "│             ┆          ┆ l            ┆     ┆   ┆        ┆           ┆             ┆             │\n",
       "│ 98840       ┆ 9884002  ┆ OilTank2Leve ┆ in  ┆ … ┆ null   ┆ Oil       ┆ 2           ┆ Level       │\n",
       "│             ┆          ┆ l            ┆     ┆   ┆        ┆           ┆             ┆             │\n",
       "│ 98840       ┆ 9884001  ┆ OilTank1Volu ┆ bbl ┆ … ┆ null   ┆ Oil       ┆ 1           ┆ Volume      │\n",
       "│             ┆          ┆ me           ┆     ┆   ┆        ┆           ┆             ┆             │\n",
       "│ 98840       ┆ 9884003  ┆ OilTank3Leve ┆ in  ┆ … ┆ null   ┆ Oil       ┆ 3           ┆ Level       │\n",
       "│             ┆          ┆ l            ┆     ┆   ┆        ┆           ┆             ┆             │\n",
       "│ 98840       ┆ 9884006  ┆ OilTank6Volu ┆ bbl ┆ … ┆ null   ┆ Oil       ┆ 6           ┆ Volume      │\n",
       "│             ┆          ┆ me           ┆     ┆   ┆        ┆           ┆             ┆             │\n",
       "│ 98840       ┆ 9884001  ┆ OilTank1Leve ┆ in  ┆ … ┆ null   ┆ Oil       ┆ 1           ┆ Level       │\n",
       "│             ┆          ┆ l            ┆     ┆   ┆        ┆           ┆             ┆             │\n",
       "│ 98840       ┆ 98840W1  ┆ WaterTank1Le ┆ in  ┆ … ┆ null   ┆ Water     ┆ 1           ┆ Level       │\n",
       "│             ┆          ┆ vel          ┆     ┆   ┆        ┆           ┆             ┆             │\n",
       "│ 98840       ┆ 98840W2  ┆ WaterTank2Le ┆ in  ┆ … ┆ null   ┆ Water     ┆ 2           ┆ Level       │\n",
       "│             ┆          ┆ vel          ┆     ┆   ┆        ┆           ┆             ┆             │\n",
       "│ 98840       ┆ 98840FAC ┆ ESD-WaterTan ┆ in  ┆ … ┆ ESD-   ┆ Water     ┆ null        ┆ InchesUntil │\n",
       "│             ┆          ┆ kInchesUntil ┆     ┆   ┆        ┆           ┆             ┆ Alarm       │\n",
       "│             ┆          ┆ Alarm        ┆     ┆   ┆        ┆           ┆             ┆             │\n",
       "│ 98840       ┆ 9884005  ┆ OilTank5Volu ┆ bbl ┆ … ┆ null   ┆ Oil       ┆ 5           ┆ Volume      │\n",
       "│             ┆          ┆ me           ┆     ┆   ┆        ┆           ┆             ┆             │\n",
       "│ 98840       ┆ 98840FAC ┆ ESD-OilTankI ┆ in  ┆ … ┆ ESD-   ┆ Oil       ┆ null        ┆ InchesUntil │\n",
       "│             ┆          ┆ nchesUntilAl ┆     ┆   ┆        ┆           ┆             ┆ Alarm       │\n",
       "│             ┆          ┆ arm          ┆     ┆   ┆        ┆           ┆             ┆             │\n",
       "│ 98840       ┆ 9884002  ┆ OilTank2Volu ┆ bbl ┆ … ┆ null   ┆ Oil       ┆ 2           ┆ Volume      │\n",
       "│             ┆          ┆ me           ┆     ┆   ┆        ┆           ┆             ┆             │\n",
       "└─────────────┴──────────┴──────────────┴─────┴───┴────────┴───────────┴─────────────┴─────────────┘"
      ]
     },
     "execution_count": 80,
     "metadata": {},
     "output_type": "execute_result"
    }
   ],
   "source": [
    "lf = lf.with_columns(pl.col(\"tank_number\").cast(pl.UInt8, strict=False))\n",
    "lf.collect()"
   ]
  },
  {
   "cell_type": "code",
   "execution_count": 81,
   "metadata": {},
   "outputs": [
    {
     "data": {
      "text/plain": [
       "polars.config.Config"
      ]
     },
     "execution_count": 81,
     "metadata": {},
     "output_type": "execute_result"
    }
   ],
   "source": [
    "pl.Config.set_tbl_rows(1500)"
   ]
  },
  {
   "cell_type": "code",
   "execution_count": 82,
   "metadata": {},
   "outputs": [
    {
     "data": {
      "text/html": [
       "<div><style>\n",
       ".dataframe > thead > tr,\n",
       ".dataframe > tbody > tr {\n",
       "  text-align: right;\n",
       "  white-space: pre-wrap;\n",
       "}\n",
       "</style>\n",
       "<small>shape: (10, 11)</small><table border=\"1\" class=\"dataframe\"><thead><tr><th>property_id</th><th>tank_type</th><th>tank_number</th><th>scada_id</th><th>Level</th><th>Volume</th><th>InchesUntilAlarm</th><th>InchesToESD</th><th>TimeUntilESD</th><th>Capacity</th><th>ID</th></tr><tr><td>str</td><td>str</td><td>u8</td><td>str</td><td>f64</td><td>f64</td><td>f64</td><td>f64</td><td>f64</td><td>f64</td><td>f64</td></tr></thead><tbody><tr><td>&quot;98840&quot;</td><td>&quot;Oil&quot;</td><td>null</td><td>&quot;98840FAC&quot;</td><td>null</td><td>null</td><td>102.478181</td><td>null</td><td>null</td><td>null</td><td>4.0</td></tr><tr><td>&quot;98840&quot;</td><td>&quot;Oil&quot;</td><td>5</td><td>&quot;9884005&quot;</td><td>74.240695</td><td>300.447955</td><td>null</td><td>null</td><td>null</td><td>null</td><td>null</td></tr><tr><td>&quot;98840&quot;</td><td>&quot;Oil&quot;</td><td>1</td><td>&quot;9884001&quot;</td><td>79.02198</td><td>299.173063</td><td>null</td><td>null</td><td>null</td><td>null</td><td>null</td></tr><tr><td>&quot;98840&quot;</td><td>&quot;Oil&quot;</td><td>2</td><td>&quot;9884002&quot;</td><td>77.590071</td><td>293.977423</td><td>null</td><td>null</td><td>null</td><td>null</td><td>null</td></tr><tr><td>&quot;98840&quot;</td><td>&quot;Oil&quot;</td><td>3</td><td>&quot;9884003&quot;</td><td>77.392763</td><td>284.213132</td><td>null</td><td>null</td><td>null</td><td>null</td><td>null</td></tr><tr><td>&quot;98840&quot;</td><td>&quot;Water&quot;</td><td>2</td><td>&quot;98840W2&quot;</td><td>76.456344</td><td>357.148125</td><td>null</td><td>null</td><td>null</td><td>null</td><td>null</td></tr><tr><td>&quot;98840&quot;</td><td>&quot;Water&quot;</td><td>1</td><td>&quot;98840W1&quot;</td><td>79.941493</td><td>267.90299</td><td>null</td><td>null</td><td>null</td><td>null</td><td>null</td></tr><tr><td>&quot;98840&quot;</td><td>&quot;Oil&quot;</td><td>4</td><td>&quot;9884004&quot;</td><td>75.002393</td><td>268.335022</td><td>null</td><td>null</td><td>null</td><td>null</td><td>null</td></tr><tr><td>&quot;98840&quot;</td><td>&quot;Oil&quot;</td><td>6</td><td>&quot;9884006&quot;</td><td>82.279163</td><td>309.826949</td><td>null</td><td>null</td><td>null</td><td>null</td><td>null</td></tr><tr><td>&quot;98840&quot;</td><td>&quot;Water&quot;</td><td>null</td><td>&quot;98840FAC&quot;</td><td>null</td><td>null</td><td>257.847738</td><td>null</td><td>null</td><td>null</td><td>2.0</td></tr></tbody></table></div>"
      ],
      "text/plain": [
       "shape: (10, 11)\n",
       "┌─────────────┬───────────┬─────────────┬──────────┬───┬────────────┬────────────┬──────────┬──────┐\n",
       "│ property_id ┆ tank_type ┆ tank_number ┆ scada_id ┆ … ┆ InchesToES ┆ TimeUntilE ┆ Capacity ┆ ID   │\n",
       "│ ---         ┆ ---       ┆ ---         ┆ ---      ┆   ┆ D          ┆ SD         ┆ ---      ┆ ---  │\n",
       "│ str         ┆ str       ┆ u8          ┆ str      ┆   ┆ ---        ┆ ---        ┆ f64      ┆ f64  │\n",
       "│             ┆           ┆             ┆          ┆   ┆ f64        ┆ f64        ┆          ┆      │\n",
       "╞═════════════╪═══════════╪═════════════╪══════════╪═══╪════════════╪════════════╪══════════╪══════╡\n",
       "│ 98840       ┆ Oil       ┆ null        ┆ 98840FAC ┆ … ┆ null       ┆ null       ┆ null     ┆ 4.0  │\n",
       "│ 98840       ┆ Oil       ┆ 5           ┆ 9884005  ┆ … ┆ null       ┆ null       ┆ null     ┆ null │\n",
       "│ 98840       ┆ Oil       ┆ 1           ┆ 9884001  ┆ … ┆ null       ┆ null       ┆ null     ┆ null │\n",
       "│ 98840       ┆ Oil       ┆ 2           ┆ 9884002  ┆ … ┆ null       ┆ null       ┆ null     ┆ null │\n",
       "│ 98840       ┆ Oil       ┆ 3           ┆ 9884003  ┆ … ┆ null       ┆ null       ┆ null     ┆ null │\n",
       "│ 98840       ┆ Water     ┆ 2           ┆ 98840W2  ┆ … ┆ null       ┆ null       ┆ null     ┆ null │\n",
       "│ 98840       ┆ Water     ┆ 1           ┆ 98840W1  ┆ … ┆ null       ┆ null       ┆ null     ┆ null │\n",
       "│ 98840       ┆ Oil       ┆ 4           ┆ 9884004  ┆ … ┆ null       ┆ null       ┆ null     ┆ null │\n",
       "│ 98840       ┆ Oil       ┆ 6           ┆ 9884006  ┆ … ┆ null       ┆ null       ┆ null     ┆ null │\n",
       "│ 98840       ┆ Water     ┆ null        ┆ 98840FAC ┆ … ┆ null       ┆ null       ┆ null     ┆ 2.0  │\n",
       "└─────────────┴───────────┴─────────────┴──────────┴───┴────────────┴────────────┴──────────┴──────┘"
      ]
     },
     "execution_count": 82,
     "metadata": {},
     "output_type": "execute_result"
    }
   ],
   "source": [
    "#pivoting the data\n",
    "values = pl.col(\"value\")\n",
    "columns = pl.col(\"tank_metric\")\n",
    "pivoted_lf = lf.group_by(\"property_id\", \"tank_type\", \"tank_number\", \"scada_id\").agg(\n",
    "    values.filter(columns == metric).first().alias(metric) for metric in tank_metrics\n",
    ")\n",
    "\n",
    "pivoted_lf.collect()"
   ]
  },
  {
   "cell_type": "code",
   "execution_count": 83,
   "metadata": {},
   "outputs": [
    {
     "data": {
      "text/html": [
       "<div><style>\n",
       ".dataframe > thead > tr,\n",
       ".dataframe > tbody > tr {\n",
       "  text-align: right;\n",
       "  white-space: pre-wrap;\n",
       "}\n",
       "</style>\n",
       "<small>shape: (2, 10)</small><table border=\"1\" class=\"dataframe\"><thead><tr><th>property_id</th><th>tank_type</th><th>tank_number</th><th>scada_id</th><th>Level</th><th>Volume</th><th>InchesUntilAlarm</th><th>InchesToESD</th><th>TimeUntilESD</th><th>Capacity</th></tr><tr><td>str</td><td>str</td><td>u8</td><td>str</td><td>f64</td><td>f64</td><td>f64</td><td>f64</td><td>f64</td><td>f64</td></tr></thead><tbody><tr><td>&quot;98840&quot;</td><td>&quot;Oil&quot;</td><td>4</td><td>&quot;98840FAC&quot;</td><td>null</td><td>null</td><td>102.478181</td><td>null</td><td>null</td><td>null</td></tr><tr><td>&quot;98840&quot;</td><td>&quot;Water&quot;</td><td>2</td><td>&quot;98840FAC&quot;</td><td>null</td><td>null</td><td>257.847738</td><td>null</td><td>null</td><td>null</td></tr></tbody></table></div>"
      ],
      "text/plain": [
       "shape: (2, 10)\n",
       "┌────────────┬───────────┬───────────┬──────────┬───┬───────────┬───────────┬───────────┬──────────┐\n",
       "│ property_i ┆ tank_type ┆ tank_numb ┆ scada_id ┆ … ┆ InchesUnt ┆ InchesToE ┆ TimeUntil ┆ Capacity │\n",
       "│ d          ┆ ---       ┆ er        ┆ ---      ┆   ┆ ilAlarm   ┆ SD        ┆ ESD       ┆ ---      │\n",
       "│ ---        ┆ str       ┆ ---       ┆ str      ┆   ┆ ---       ┆ ---       ┆ ---       ┆ f64      │\n",
       "│ str        ┆           ┆ u8        ┆          ┆   ┆ f64       ┆ f64       ┆ f64       ┆          │\n",
       "╞════════════╪═══════════╪═══════════╪══════════╪═══╪═══════════╪═══════════╪═══════════╪══════════╡\n",
       "│ 98840      ┆ Oil       ┆ 4         ┆ 98840FAC ┆ … ┆ 102.47818 ┆ null      ┆ null      ┆ null     │\n",
       "│            ┆           ┆           ┆          ┆   ┆ 1         ┆           ┆           ┆          │\n",
       "│ 98840      ┆ Water     ┆ 2         ┆ 98840FAC ┆ … ┆ 257.84773 ┆ null      ┆ null      ┆ null     │\n",
       "│            ┆           ┆           ┆          ┆   ┆ 8         ┆           ┆           ┆          │\n",
       "└────────────┴───────────┴───────────┴──────────┴───┴───────────┴───────────┴───────────┴──────────┘"
      ]
     },
     "execution_count": 83,
     "metadata": {},
     "output_type": "execute_result"
    }
   ],
   "source": [
    "null_condition = pl.col(\"tank_number\").is_null()\n",
    "not_null_condition = pl.col(\"tank_number\").is_not_null()\n",
    "\n",
    "null_tanks = pivoted_lf.filter(null_condition)\n",
    "numbered_tanks = pivoted_lf.filter(not_null_condition)\n",
    "\n",
    "null_tanks = null_tanks.with_columns(pl.col(\"ID\").alias(\"tank_number\"))\n",
    "null_tanks = null_tanks.drop(\"ID\")\n",
    "null_tanks = null_tanks.with_columns(pl.col(\"tank_number\").cast(pl.UInt8, strict=False))\n",
    "\n",
    "null_tanks.collect()"
   ]
  },
  {
   "cell_type": "code",
   "execution_count": 84,
   "metadata": {},
   "outputs": [
    {
     "data": {
      "text/html": [
       "<div><style>\n",
       ".dataframe > thead > tr,\n",
       ".dataframe > tbody > tr {\n",
       "  text-align: right;\n",
       "  white-space: pre-wrap;\n",
       "}\n",
       "</style>\n",
       "<small>shape: (8, 18)</small><table border=\"1\" class=\"dataframe\"><thead><tr><th>property_id</th><th>tank_type</th><th>tank_number</th><th>scada_id</th><th>Level</th><th>Volume</th><th>InchesUntilAlarm</th><th>InchesToESD</th><th>TimeUntilESD</th><th>Capacity</th><th>ID</th><th>scada_id_right</th><th>Level_right</th><th>Volume_right</th><th>InchesUntilAlarm_right</th><th>InchesToESD_right</th><th>TimeUntilESD_right</th><th>Capacity_right</th></tr><tr><td>str</td><td>str</td><td>u8</td><td>str</td><td>f64</td><td>f64</td><td>f64</td><td>f64</td><td>f64</td><td>f64</td><td>f64</td><td>str</td><td>f64</td><td>f64</td><td>f64</td><td>f64</td><td>f64</td><td>f64</td></tr></thead><tbody><tr><td>&quot;98840&quot;</td><td>&quot;Oil&quot;</td><td>5</td><td>&quot;9884005&quot;</td><td>74.240695</td><td>300.447955</td><td>null</td><td>null</td><td>null</td><td>null</td><td>null</td><td>null</td><td>null</td><td>null</td><td>null</td><td>null</td><td>null</td><td>null</td></tr><tr><td>&quot;98840&quot;</td><td>&quot;Oil&quot;</td><td>6</td><td>&quot;9884006&quot;</td><td>82.279163</td><td>309.826949</td><td>null</td><td>null</td><td>null</td><td>null</td><td>null</td><td>null</td><td>null</td><td>null</td><td>null</td><td>null</td><td>null</td><td>null</td></tr><tr><td>&quot;98840&quot;</td><td>&quot;Oil&quot;</td><td>3</td><td>&quot;9884003&quot;</td><td>77.392763</td><td>284.213132</td><td>null</td><td>null</td><td>null</td><td>null</td><td>null</td><td>null</td><td>null</td><td>null</td><td>null</td><td>null</td><td>null</td><td>null</td></tr><tr><td>&quot;98840&quot;</td><td>&quot;Oil&quot;</td><td>4</td><td>&quot;9884004&quot;</td><td>75.002393</td><td>268.335022</td><td>null</td><td>null</td><td>null</td><td>null</td><td>null</td><td>&quot;98840FAC&quot;</td><td>null</td><td>null</td><td>102.478181</td><td>null</td><td>null</td><td>null</td></tr><tr><td>&quot;98840&quot;</td><td>&quot;Water&quot;</td><td>1</td><td>&quot;98840W1&quot;</td><td>79.941493</td><td>267.90299</td><td>null</td><td>null</td><td>null</td><td>null</td><td>null</td><td>null</td><td>null</td><td>null</td><td>null</td><td>null</td><td>null</td><td>null</td></tr><tr><td>&quot;98840&quot;</td><td>&quot;Water&quot;</td><td>2</td><td>&quot;98840W2&quot;</td><td>76.456344</td><td>357.148125</td><td>null</td><td>null</td><td>null</td><td>null</td><td>null</td><td>&quot;98840FAC&quot;</td><td>null</td><td>null</td><td>257.847738</td><td>null</td><td>null</td><td>null</td></tr><tr><td>&quot;98840&quot;</td><td>&quot;Oil&quot;</td><td>2</td><td>&quot;9884002&quot;</td><td>77.590071</td><td>293.977423</td><td>null</td><td>null</td><td>null</td><td>null</td><td>null</td><td>null</td><td>null</td><td>null</td><td>null</td><td>null</td><td>null</td><td>null</td></tr><tr><td>&quot;98840&quot;</td><td>&quot;Oil&quot;</td><td>1</td><td>&quot;9884001&quot;</td><td>79.02198</td><td>299.173063</td><td>null</td><td>null</td><td>null</td><td>null</td><td>null</td><td>null</td><td>null</td><td>null</td><td>null</td><td>null</td><td>null</td><td>null</td></tr></tbody></table></div>"
      ],
      "text/plain": [
       "shape: (8, 18)\n",
       "┌───────────┬───────────┬───────────┬──────────┬───┬───────────┬───────────┬───────────┬───────────┐\n",
       "│ property_ ┆ tank_type ┆ tank_numb ┆ scada_id ┆ … ┆ InchesUnt ┆ InchesToE ┆ TimeUntil ┆ Capacity_ │\n",
       "│ id        ┆ ---       ┆ er        ┆ ---      ┆   ┆ ilAlarm_r ┆ SD_right  ┆ ESD_right ┆ right     │\n",
       "│ ---       ┆ str       ┆ ---       ┆ str      ┆   ┆ ight      ┆ ---       ┆ ---       ┆ ---       │\n",
       "│ str       ┆           ┆ u8        ┆          ┆   ┆ ---       ┆ f64       ┆ f64       ┆ f64       │\n",
       "│           ┆           ┆           ┆          ┆   ┆ f64       ┆           ┆           ┆           │\n",
       "╞═══════════╪═══════════╪═══════════╪══════════╪═══╪═══════════╪═══════════╪═══════════╪═══════════╡\n",
       "│ 98840     ┆ Oil       ┆ 5         ┆ 9884005  ┆ … ┆ null      ┆ null      ┆ null      ┆ null      │\n",
       "│ 98840     ┆ Oil       ┆ 6         ┆ 9884006  ┆ … ┆ null      ┆ null      ┆ null      ┆ null      │\n",
       "│ 98840     ┆ Oil       ┆ 3         ┆ 9884003  ┆ … ┆ null      ┆ null      ┆ null      ┆ null      │\n",
       "│ 98840     ┆ Oil       ┆ 4         ┆ 9884004  ┆ … ┆ 102.47818 ┆ null      ┆ null      ┆ null      │\n",
       "│           ┆           ┆           ┆          ┆   ┆ 1         ┆           ┆           ┆           │\n",
       "│ 98840     ┆ Water     ┆ 1         ┆ 98840W1  ┆ … ┆ null      ┆ null      ┆ null      ┆ null      │\n",
       "│ 98840     ┆ Water     ┆ 2         ┆ 98840W2  ┆ … ┆ 257.84773 ┆ null      ┆ null      ┆ null      │\n",
       "│           ┆           ┆           ┆          ┆   ┆ 8         ┆           ┆           ┆           │\n",
       "│ 98840     ┆ Oil       ┆ 2         ┆ 9884002  ┆ … ┆ null      ┆ null      ┆ null      ┆ null      │\n",
       "│ 98840     ┆ Oil       ┆ 1         ┆ 9884001  ┆ … ┆ null      ┆ null      ┆ null      ┆ null      │\n",
       "└───────────┴───────────┴───────────┴──────────┴───┴───────────┴───────────┴───────────┴───────────┘"
      ]
     },
     "execution_count": 84,
     "metadata": {},
     "output_type": "execute_result"
    }
   ],
   "source": [
    "joined_lf = numbered_tanks.join(null_tanks, on=[\"property_id\", \"tank_type\", \"tank_number\"], how=\"left\")\n",
    "joined_lf.collect()"
   ]
  },
  {
   "cell_type": "code",
   "execution_count": 85,
   "metadata": {},
   "outputs": [
    {
     "data": {
      "text/html": [
       "<div><style>\n",
       ".dataframe > thead > tr,\n",
       ".dataframe > tbody > tr {\n",
       "  text-align: right;\n",
       "  white-space: pre-wrap;\n",
       "}\n",
       "</style>\n",
       "<small>shape: (8, 28)</small><table border=\"1\" class=\"dataframe\"><thead><tr><th>property_id</th><th>tank_type</th><th>tank_number</th><th>scada_id</th><th>Level</th><th>Volume</th><th>InchesUntilAlarm</th><th>InchesToESD</th><th>TimeUntilESD</th><th>Capacity</th><th>ID</th><th>scada_id_right</th><th>Level_right</th><th>Volume_right</th><th>InchesUntilAlarm_right</th><th>InchesToESD_right</th><th>TimeUntilESD_right</th><th>Capacity_right</th><th>property_id_right</th><th>metric_nice_name</th><th>uom</th><th>timestamp</th><th>value</th><th>tanksize</th><th>is_esd</th><th>tank_type_right</th><th>tank_number_right</th><th>tank_metric</th></tr><tr><td>str</td><td>str</td><td>u8</td><td>str</td><td>f64</td><td>f64</td><td>f64</td><td>f64</td><td>f64</td><td>f64</td><td>f64</td><td>str</td><td>f64</td><td>f64</td><td>f64</td><td>f64</td><td>f64</td><td>f64</td><td>str</td><td>str</td><td>str</td><td>datetime[μs]</td><td>f64</td><td>f64</td><td>str</td><td>str</td><td>u8</td><td>str</td></tr></thead><tbody><tr><td>&quot;98840&quot;</td><td>&quot;Water&quot;</td><td>1</td><td>&quot;98840W1&quot;</td><td>79.941493</td><td>267.90299</td><td>null</td><td>null</td><td>null</td><td>null</td><td>null</td><td>null</td><td>null</td><td>null</td><td>null</td><td>null</td><td>null</td><td>null</td><td>&quot;98840&quot;</td><td>&quot;WaterTank1Volume&quot;</td><td>&quot;bbl&quot;</td><td>2017-07-27 01:09:29.652477</td><td>267.90299</td><td>696.762014</td><td>null</td><td>&quot;Water&quot;</td><td>1</td><td>&quot;Volume&quot;</td></tr><tr><td>&quot;98840&quot;</td><td>&quot;Oil&quot;</td><td>5</td><td>&quot;9884005&quot;</td><td>74.240695</td><td>300.447955</td><td>null</td><td>null</td><td>null</td><td>null</td><td>null</td><td>null</td><td>null</td><td>null</td><td>null</td><td>null</td><td>null</td><td>null</td><td>&quot;98840&quot;</td><td>&quot;OilTank5Level&quot;</td><td>&quot;in&quot;</td><td>2015-05-01 05:05:54.083239</td><td>74.240695</td><td>790.375905</td><td>null</td><td>&quot;Oil&quot;</td><td>5</td><td>&quot;Level&quot;</td></tr><tr><td>&quot;98840&quot;</td><td>&quot;Oil&quot;</td><td>6</td><td>&quot;9884006&quot;</td><td>82.279163</td><td>309.826949</td><td>null</td><td>null</td><td>null</td><td>null</td><td>null</td><td>null</td><td>null</td><td>null</td><td>null</td><td>null</td><td>null</td><td>null</td><td>&quot;98840&quot;</td><td>&quot;OilTank6Level&quot;</td><td>&quot;in&quot;</td><td>2023-06-11 18:05:05.734061</td><td>82.279163</td><td>400.362155</td><td>null</td><td>&quot;Oil&quot;</td><td>6</td><td>&quot;Level&quot;</td></tr><tr><td>&quot;98840&quot;</td><td>&quot;Oil&quot;</td><td>2</td><td>&quot;9884002&quot;</td><td>77.590071</td><td>293.977423</td><td>null</td><td>null</td><td>null</td><td>null</td><td>null</td><td>null</td><td>null</td><td>null</td><td>null</td><td>null</td><td>null</td><td>null</td><td>&quot;98840&quot;</td><td>&quot;OilTank2Level&quot;</td><td>&quot;in&quot;</td><td>2017-08-19 19:36:27.207843</td><td>77.590071</td><td>735.848157</td><td>null</td><td>&quot;Oil&quot;</td><td>2</td><td>&quot;Level&quot;</td></tr><tr><td>&quot;98840&quot;</td><td>&quot;Oil&quot;</td><td>4</td><td>&quot;9884004&quot;</td><td>75.002393</td><td>268.335022</td><td>null</td><td>null</td><td>null</td><td>null</td><td>null</td><td>&quot;98840FAC&quot;</td><td>null</td><td>null</td><td>102.478181</td><td>null</td><td>null</td><td>null</td><td>&quot;98840&quot;</td><td>&quot;OilTank4Level&quot;</td><td>&quot;in&quot;</td><td>2021-06-18 15:33:10.557032</td><td>75.002393</td><td>417.5281</td><td>null</td><td>&quot;Oil&quot;</td><td>4</td><td>&quot;Level&quot;</td></tr><tr><td>&quot;98840&quot;</td><td>&quot;Water&quot;</td><td>2</td><td>&quot;98840W2&quot;</td><td>76.456344</td><td>357.148125</td><td>null</td><td>null</td><td>null</td><td>null</td><td>null</td><td>&quot;98840FAC&quot;</td><td>null</td><td>null</td><td>257.847738</td><td>null</td><td>null</td><td>null</td><td>&quot;98840&quot;</td><td>&quot;WaterTank2Volume&quot;</td><td>&quot;bbl&quot;</td><td>2023-08-16 19:52:13.787936</td><td>357.148125</td><td>653.135767</td><td>null</td><td>&quot;Water&quot;</td><td>2</td><td>&quot;Volume&quot;</td></tr><tr><td>&quot;98840&quot;</td><td>&quot;Oil&quot;</td><td>3</td><td>&quot;9884003&quot;</td><td>77.392763</td><td>284.213132</td><td>null</td><td>null</td><td>null</td><td>null</td><td>null</td><td>null</td><td>null</td><td>null</td><td>null</td><td>null</td><td>null</td><td>null</td><td>&quot;98840&quot;</td><td>&quot;OilTank3Volume&quot;</td><td>&quot;bbl&quot;</td><td>2024-02-11 04:10:55.839466</td><td>284.213132</td><td>624.069952</td><td>null</td><td>&quot;Oil&quot;</td><td>3</td><td>&quot;Volume&quot;</td></tr><tr><td>&quot;98840&quot;</td><td>&quot;Oil&quot;</td><td>1</td><td>&quot;9884001&quot;</td><td>79.02198</td><td>299.173063</td><td>null</td><td>null</td><td>null</td><td>null</td><td>null</td><td>null</td><td>null</td><td>null</td><td>null</td><td>null</td><td>null</td><td>null</td><td>&quot;98840&quot;</td><td>&quot;OilTank1Volume&quot;</td><td>&quot;bbl&quot;</td><td>2018-01-11 09:12:20.082822</td><td>299.173063</td><td>554.086643</td><td>null</td><td>&quot;Oil&quot;</td><td>1</td><td>&quot;Volume&quot;</td></tr></tbody></table></div>"
      ],
      "text/plain": [
       "shape: (8, 28)\n",
       "┌────────────┬───────────┬────────────┬──────────┬───┬────────┬────────────┬───────────┬───────────┐\n",
       "│ property_i ┆ tank_type ┆ tank_numbe ┆ scada_id ┆ … ┆ is_esd ┆ tank_type_ ┆ tank_numb ┆ tank_metr │\n",
       "│ d          ┆ ---       ┆ r          ┆ ---      ┆   ┆ ---    ┆ right      ┆ er_right  ┆ ic        │\n",
       "│ ---        ┆ str       ┆ ---        ┆ str      ┆   ┆ str    ┆ ---        ┆ ---       ┆ ---       │\n",
       "│ str        ┆           ┆ u8         ┆          ┆   ┆        ┆ str        ┆ u8        ┆ str       │\n",
       "╞════════════╪═══════════╪════════════╪══════════╪═══╪════════╪════════════╪═══════════╪═══════════╡\n",
       "│ 98840      ┆ Water     ┆ 1          ┆ 98840W1  ┆ … ┆ null   ┆ Water      ┆ 1         ┆ Volume    │\n",
       "│ 98840      ┆ Oil       ┆ 5          ┆ 9884005  ┆ … ┆ null   ┆ Oil        ┆ 5         ┆ Level     │\n",
       "│ 98840      ┆ Oil       ┆ 6          ┆ 9884006  ┆ … ┆ null   ┆ Oil        ┆ 6         ┆ Level     │\n",
       "│ 98840      ┆ Oil       ┆ 2          ┆ 9884002  ┆ … ┆ null   ┆ Oil        ┆ 2         ┆ Level     │\n",
       "│ 98840      ┆ Oil       ┆ 4          ┆ 9884004  ┆ … ┆ null   ┆ Oil        ┆ 4         ┆ Level     │\n",
       "│ 98840      ┆ Water     ┆ 2          ┆ 98840W2  ┆ … ┆ null   ┆ Water      ┆ 2         ┆ Volume    │\n",
       "│ 98840      ┆ Oil       ┆ 3          ┆ 9884003  ┆ … ┆ null   ┆ Oil        ┆ 3         ┆ Volume    │\n",
       "│ 98840      ┆ Oil       ┆ 1          ┆ 9884001  ┆ … ┆ null   ┆ Oil        ┆ 1         ┆ Volume    │\n",
       "└────────────┴───────────┴────────────┴──────────┴───┴────────┴────────────┴───────────┴───────────┘"
      ]
     },
     "execution_count": 85,
     "metadata": {},
     "output_type": "execute_result"
    }
   ],
   "source": [
    "final_lf = joined_lf.join(lf, on=[\"scada_id\"], how=\"left\")\n",
    "final_lf = final_lf.group_by(\"property_id\", \"tank_type\", \"tank_number\").agg(pl.all().first())\n",
    "final_lf.collect()"
   ]
  },
  {
   "cell_type": "code",
   "execution_count": 86,
   "metadata": {},
   "outputs": [
    {
     "data": {
      "text/html": [
       "<div><style>\n",
       ".dataframe > thead > tr,\n",
       ".dataframe > tbody > tr {\n",
       "  text-align: right;\n",
       "  white-space: pre-wrap;\n",
       "}\n",
       "</style>\n",
       "<small>shape: (8, 9)</small><table border=\"1\" class=\"dataframe\"><thead><tr><th>property_id</th><th>scada_id</th><th>tank_type</th><th>tank_number</th><th>level</th><th>volume</th><th>inches_to_esd</th><th>time_until_esd</th><th>capacity</th></tr><tr><td>str</td><td>str</td><td>str</td><td>u8</td><td>f64</td><td>f64</td><td>f64</td><td>f64</td><td>f64</td></tr></thead><tbody><tr><td>&quot;98840&quot;</td><td>&quot;9884005&quot;</td><td>&quot;Oil&quot;</td><td>5</td><td>74.240695</td><td>300.447955</td><td>null</td><td>null</td><td>790.375905</td></tr><tr><td>&quot;98840&quot;</td><td>&quot;9884006&quot;</td><td>&quot;Oil&quot;</td><td>6</td><td>82.279163</td><td>309.826949</td><td>null</td><td>null</td><td>400.362155</td></tr><tr><td>&quot;98840&quot;</td><td>&quot;9884001&quot;</td><td>&quot;Oil&quot;</td><td>1</td><td>79.02198</td><td>299.173063</td><td>null</td><td>null</td><td>554.086643</td></tr><tr><td>&quot;98840&quot;</td><td>&quot;9884002&quot;</td><td>&quot;Oil&quot;</td><td>2</td><td>77.590071</td><td>293.977423</td><td>null</td><td>null</td><td>735.848157</td></tr><tr><td>&quot;98840&quot;</td><td>&quot;98840W1&quot;</td><td>&quot;Water&quot;</td><td>1</td><td>79.941493</td><td>267.90299</td><td>null</td><td>null</td><td>696.762014</td></tr><tr><td>&quot;98840&quot;</td><td>&quot;9884004&quot;</td><td>&quot;Oil&quot;</td><td>4</td><td>75.002393</td><td>268.335022</td><td>102.478181</td><td>null</td><td>417.5281</td></tr><tr><td>&quot;98840&quot;</td><td>&quot;9884003&quot;</td><td>&quot;Oil&quot;</td><td>3</td><td>77.392763</td><td>284.213132</td><td>null</td><td>null</td><td>624.069952</td></tr><tr><td>&quot;98840&quot;</td><td>&quot;98840W2&quot;</td><td>&quot;Water&quot;</td><td>2</td><td>76.456344</td><td>357.148125</td><td>257.847738</td><td>null</td><td>653.135767</td></tr></tbody></table></div>"
      ],
      "text/plain": [
       "shape: (8, 9)\n",
       "┌───────────┬──────────┬───────────┬───────────┬───┬───────────┬───────────┬───────────┬───────────┐\n",
       "│ property_ ┆ scada_id ┆ tank_type ┆ tank_numb ┆ … ┆ volume    ┆ inches_to ┆ time_unti ┆ capacity  │\n",
       "│ id        ┆ ---      ┆ ---       ┆ er        ┆   ┆ ---       ┆ _esd      ┆ l_esd     ┆ ---       │\n",
       "│ ---       ┆ str      ┆ str       ┆ ---       ┆   ┆ f64       ┆ ---       ┆ ---       ┆ f64       │\n",
       "│ str       ┆          ┆           ┆ u8        ┆   ┆           ┆ f64       ┆ f64       ┆           │\n",
       "╞═══════════╪══════════╪═══════════╪═══════════╪═══╪═══════════╪═══════════╪═══════════╪═══════════╡\n",
       "│ 98840     ┆ 9884005  ┆ Oil       ┆ 5         ┆ … ┆ 300.44795 ┆ null      ┆ null      ┆ 790.37590 │\n",
       "│           ┆          ┆           ┆           ┆   ┆ 5         ┆           ┆           ┆ 5         │\n",
       "│ 98840     ┆ 9884006  ┆ Oil       ┆ 6         ┆ … ┆ 309.82694 ┆ null      ┆ null      ┆ 400.36215 │\n",
       "│           ┆          ┆           ┆           ┆   ┆ 9         ┆           ┆           ┆ 5         │\n",
       "│ 98840     ┆ 9884001  ┆ Oil       ┆ 1         ┆ … ┆ 299.17306 ┆ null      ┆ null      ┆ 554.08664 │\n",
       "│           ┆          ┆           ┆           ┆   ┆ 3         ┆           ┆           ┆ 3         │\n",
       "│ 98840     ┆ 9884002  ┆ Oil       ┆ 2         ┆ … ┆ 293.97742 ┆ null      ┆ null      ┆ 735.84815 │\n",
       "│           ┆          ┆           ┆           ┆   ┆ 3         ┆           ┆           ┆ 7         │\n",
       "│ 98840     ┆ 98840W1  ┆ Water     ┆ 1         ┆ … ┆ 267.90299 ┆ null      ┆ null      ┆ 696.76201 │\n",
       "│           ┆          ┆           ┆           ┆   ┆           ┆           ┆           ┆ 4         │\n",
       "│ 98840     ┆ 9884004  ┆ Oil       ┆ 4         ┆ … ┆ 268.33502 ┆ 102.47818 ┆ null      ┆ 417.5281  │\n",
       "│           ┆          ┆           ┆           ┆   ┆ 2         ┆ 1         ┆           ┆           │\n",
       "│ 98840     ┆ 9884003  ┆ Oil       ┆ 3         ┆ … ┆ 284.21313 ┆ null      ┆ null      ┆ 624.06995 │\n",
       "│           ┆          ┆           ┆           ┆   ┆ 2         ┆           ┆           ┆ 2         │\n",
       "│ 98840     ┆ 98840W2  ┆ Water     ┆ 2         ┆ … ┆ 357.14812 ┆ 257.84773 ┆ null      ┆ 653.13576 │\n",
       "│           ┆          ┆           ┆           ┆   ┆ 5         ┆ 8         ┆           ┆ 7         │\n",
       "└───────────┴──────────┴───────────┴───────────┴───┴───────────┴───────────┴───────────┴───────────┘"
      ]
     },
     "execution_count": 86,
     "metadata": {},
     "output_type": "execute_result"
    }
   ],
   "source": [
    "final_lf = final_lf.with_columns(\n",
    "    pl.col(\"property_id\"),\n",
    "    pl.col(\"tank_type\"),\n",
    "    pl.col(\"tank_number\"),\n",
    "    pl.coalesce(pl.col(\"Level\"), pl.col(\"Level_right\")).alias(\"level\"),\n",
    "    pl.coalesce(pl.col(\"Volume\"), pl.col(\"Volume_right\")).alias(\"volume\"),\n",
    "    pl.coalesce(pl.col(\"InchesToESD\"), pl.col(\"InchesUntilAlarm_right\")).alias(\"inches_to_esd\"),\n",
    "    pl.coalesce(pl.col(\"TimeUntilESD\"), pl.col(\"TimeUntilESD_right\")).alias(\"time_until_esd\"),\n",
    "    pl.coalesce(pl.col(\"Capacity\"), pl.col(\"tanksize\")).alias(\"capacity\")\n",
    ")\n",
    "\n",
    "required_columns = [\"property_id\", \"scada_id\", \"tank_type\", \"tank_number\", \"level\", \"volume\", \"inches_to_esd\", \"time_until_esd\", \"capacity\"]\n",
    "final_lf = final_lf.select(required_columns)\n",
    "final_lf.collect()"
   ]
  },
  {
   "cell_type": "code",
   "execution_count": 87,
   "metadata": {},
   "outputs": [
    {
     "data": {
      "text/html": [
       "<div><style>\n",
       ".dataframe > thead > tr,\n",
       ".dataframe > tbody > tr {\n",
       "  text-align: right;\n",
       "  white-space: pre-wrap;\n",
       "}\n",
       "</style>\n",
       "<small>shape: (8, 9)</small><table border=\"1\" class=\"dataframe\"><thead><tr><th>property_id</th><th>scada_id</th><th>tank_type</th><th>tank_number</th><th>level</th><th>volume</th><th>inches_to_esd</th><th>time_until_esd</th><th>capacity</th></tr><tr><td>str</td><td>str</td><td>str</td><td>u8</td><td>f64</td><td>f64</td><td>f64</td><td>f64</td><td>f64</td></tr></thead><tbody><tr><td>&quot;98840&quot;</td><td>&quot;9884001&quot;</td><td>&quot;Oil&quot;</td><td>1</td><td>79.02198</td><td>299.173063</td><td>null</td><td>null</td><td>554.086643</td></tr><tr><td>&quot;98840&quot;</td><td>&quot;9884002&quot;</td><td>&quot;Oil&quot;</td><td>2</td><td>77.590071</td><td>293.977423</td><td>null</td><td>null</td><td>735.848157</td></tr><tr><td>&quot;98840&quot;</td><td>&quot;9884003&quot;</td><td>&quot;Oil&quot;</td><td>3</td><td>77.392763</td><td>284.213132</td><td>null</td><td>null</td><td>624.069952</td></tr><tr><td>&quot;98840&quot;</td><td>&quot;9884004&quot;</td><td>&quot;Oil&quot;</td><td>4</td><td>75.002393</td><td>268.335022</td><td>102.478181</td><td>null</td><td>417.5281</td></tr><tr><td>&quot;98840&quot;</td><td>&quot;9884005&quot;</td><td>&quot;Oil&quot;</td><td>5</td><td>74.240695</td><td>300.447955</td><td>null</td><td>null</td><td>790.375905</td></tr><tr><td>&quot;98840&quot;</td><td>&quot;9884006&quot;</td><td>&quot;Oil&quot;</td><td>6</td><td>82.279163</td><td>309.826949</td><td>null</td><td>null</td><td>400.362155</td></tr><tr><td>&quot;98840&quot;</td><td>&quot;98840W1&quot;</td><td>&quot;Water&quot;</td><td>1</td><td>79.941493</td><td>267.90299</td><td>null</td><td>null</td><td>696.762014</td></tr><tr><td>&quot;98840&quot;</td><td>&quot;98840W2&quot;</td><td>&quot;Water&quot;</td><td>2</td><td>76.456344</td><td>357.148125</td><td>257.847738</td><td>null</td><td>653.135767</td></tr></tbody></table></div>"
      ],
      "text/plain": [
       "shape: (8, 9)\n",
       "┌───────────┬──────────┬───────────┬───────────┬───┬───────────┬───────────┬───────────┬───────────┐\n",
       "│ property_ ┆ scada_id ┆ tank_type ┆ tank_numb ┆ … ┆ volume    ┆ inches_to ┆ time_unti ┆ capacity  │\n",
       "│ id        ┆ ---      ┆ ---       ┆ er        ┆   ┆ ---       ┆ _esd      ┆ l_esd     ┆ ---       │\n",
       "│ ---       ┆ str      ┆ str       ┆ ---       ┆   ┆ f64       ┆ ---       ┆ ---       ┆ f64       │\n",
       "│ str       ┆          ┆           ┆ u8        ┆   ┆           ┆ f64       ┆ f64       ┆           │\n",
       "╞═══════════╪══════════╪═══════════╪═══════════╪═══╪═══════════╪═══════════╪═══════════╪═══════════╡\n",
       "│ 98840     ┆ 9884001  ┆ Oil       ┆ 1         ┆ … ┆ 299.17306 ┆ null      ┆ null      ┆ 554.08664 │\n",
       "│           ┆          ┆           ┆           ┆   ┆ 3         ┆           ┆           ┆ 3         │\n",
       "│ 98840     ┆ 9884002  ┆ Oil       ┆ 2         ┆ … ┆ 293.97742 ┆ null      ┆ null      ┆ 735.84815 │\n",
       "│           ┆          ┆           ┆           ┆   ┆ 3         ┆           ┆           ┆ 7         │\n",
       "│ 98840     ┆ 9884003  ┆ Oil       ┆ 3         ┆ … ┆ 284.21313 ┆ null      ┆ null      ┆ 624.06995 │\n",
       "│           ┆          ┆           ┆           ┆   ┆ 2         ┆           ┆           ┆ 2         │\n",
       "│ 98840     ┆ 9884004  ┆ Oil       ┆ 4         ┆ … ┆ 268.33502 ┆ 102.47818 ┆ null      ┆ 417.5281  │\n",
       "│           ┆          ┆           ┆           ┆   ┆ 2         ┆ 1         ┆           ┆           │\n",
       "│ 98840     ┆ 9884005  ┆ Oil       ┆ 5         ┆ … ┆ 300.44795 ┆ null      ┆ null      ┆ 790.37590 │\n",
       "│           ┆          ┆           ┆           ┆   ┆ 5         ┆           ┆           ┆ 5         │\n",
       "│ 98840     ┆ 9884006  ┆ Oil       ┆ 6         ┆ … ┆ 309.82694 ┆ null      ┆ null      ┆ 400.36215 │\n",
       "│           ┆          ┆           ┆           ┆   ┆ 9         ┆           ┆           ┆ 5         │\n",
       "│ 98840     ┆ 98840W1  ┆ Water     ┆ 1         ┆ … ┆ 267.90299 ┆ null      ┆ null      ┆ 696.76201 │\n",
       "│           ┆          ┆           ┆           ┆   ┆           ┆           ┆           ┆ 4         │\n",
       "│ 98840     ┆ 98840W2  ┆ Water     ┆ 2         ┆ … ┆ 357.14812 ┆ 257.84773 ┆ null      ┆ 653.13576 │\n",
       "│           ┆          ┆           ┆           ┆   ┆ 5         ┆ 8         ┆           ┆ 7         │\n",
       "└───────────┴──────────┴───────────┴───────────┴───┴───────────┴───────────┴───────────┴───────────┘"
      ]
     },
     "execution_count": 87,
     "metadata": {},
     "output_type": "execute_result"
    }
   ],
   "source": [
    "final_lf = final_lf.sort(\"property_id\", \"tank_type\", \"tank_number\")\n",
    "final_lf.collect()"
   ]
  },
  {
   "cell_type": "code",
   "execution_count": 88,
   "metadata": {},
   "outputs": [
    {
     "data": {
      "text/html": [
       "<div><style>\n",
       ".dataframe > thead > tr,\n",
       ".dataframe > tbody > tr {\n",
       "  text-align: right;\n",
       "  white-space: pre-wrap;\n",
       "}\n",
       "</style>\n",
       "<small>shape: (8, 10)</small><table border=\"1\" class=\"dataframe\"><thead><tr><th>property_id</th><th>scada_id</th><th>tank_type</th><th>tank_number</th><th>level</th><th>volume</th><th>inches_to_esd</th><th>time_until_esd</th><th>capacity</th><th>percent_full</th></tr><tr><td>str</td><td>str</td><td>str</td><td>u8</td><td>f64</td><td>f64</td><td>f64</td><td>f64</td><td>f64</td><td>u8</td></tr></thead><tbody><tr><td>&quot;98840&quot;</td><td>&quot;9884001&quot;</td><td>&quot;Oil&quot;</td><td>1</td><td>79.02198</td><td>299.173063</td><td>null</td><td>null</td><td>554.086643</td><td>54</td></tr><tr><td>&quot;98840&quot;</td><td>&quot;9884002&quot;</td><td>&quot;Oil&quot;</td><td>2</td><td>77.590071</td><td>293.977423</td><td>null</td><td>null</td><td>735.848157</td><td>40</td></tr><tr><td>&quot;98840&quot;</td><td>&quot;9884003&quot;</td><td>&quot;Oil&quot;</td><td>3</td><td>77.392763</td><td>284.213132</td><td>null</td><td>null</td><td>624.069952</td><td>46</td></tr><tr><td>&quot;98840&quot;</td><td>&quot;9884004&quot;</td><td>&quot;Oil&quot;</td><td>4</td><td>75.002393</td><td>268.335022</td><td>102.478181</td><td>null</td><td>417.5281</td><td>64</td></tr><tr><td>&quot;98840&quot;</td><td>&quot;9884005&quot;</td><td>&quot;Oil&quot;</td><td>5</td><td>74.240695</td><td>300.447955</td><td>null</td><td>null</td><td>790.375905</td><td>38</td></tr><tr><td>&quot;98840&quot;</td><td>&quot;9884006&quot;</td><td>&quot;Oil&quot;</td><td>6</td><td>82.279163</td><td>309.826949</td><td>null</td><td>null</td><td>400.362155</td><td>77</td></tr><tr><td>&quot;98840&quot;</td><td>&quot;98840W1&quot;</td><td>&quot;Water&quot;</td><td>1</td><td>79.941493</td><td>267.90299</td><td>null</td><td>null</td><td>696.762014</td><td>38</td></tr><tr><td>&quot;98840&quot;</td><td>&quot;98840W2&quot;</td><td>&quot;Water&quot;</td><td>2</td><td>76.456344</td><td>357.148125</td><td>257.847738</td><td>null</td><td>653.135767</td><td>55</td></tr></tbody></table></div>"
      ],
      "text/plain": [
       "shape: (8, 10)\n",
       "┌───────────┬──────────┬───────────┬───────────┬───┬───────────┬───────────┬───────────┬───────────┐\n",
       "│ property_ ┆ scada_id ┆ tank_type ┆ tank_numb ┆ … ┆ inches_to ┆ time_unti ┆ capacity  ┆ percent_f │\n",
       "│ id        ┆ ---      ┆ ---       ┆ er        ┆   ┆ _esd      ┆ l_esd     ┆ ---       ┆ ull       │\n",
       "│ ---       ┆ str      ┆ str       ┆ ---       ┆   ┆ ---       ┆ ---       ┆ f64       ┆ ---       │\n",
       "│ str       ┆          ┆           ┆ u8        ┆   ┆ f64       ┆ f64       ┆           ┆ u8        │\n",
       "╞═══════════╪══════════╪═══════════╪═══════════╪═══╪═══════════╪═══════════╪═══════════╪═══════════╡\n",
       "│ 98840     ┆ 9884001  ┆ Oil       ┆ 1         ┆ … ┆ null      ┆ null      ┆ 554.08664 ┆ 54        │\n",
       "│           ┆          ┆           ┆           ┆   ┆           ┆           ┆ 3         ┆           │\n",
       "│ 98840     ┆ 9884002  ┆ Oil       ┆ 2         ┆ … ┆ null      ┆ null      ┆ 735.84815 ┆ 40        │\n",
       "│           ┆          ┆           ┆           ┆   ┆           ┆           ┆ 7         ┆           │\n",
       "│ 98840     ┆ 9884003  ┆ Oil       ┆ 3         ┆ … ┆ null      ┆ null      ┆ 624.06995 ┆ 46        │\n",
       "│           ┆          ┆           ┆           ┆   ┆           ┆           ┆ 2         ┆           │\n",
       "│ 98840     ┆ 9884004  ┆ Oil       ┆ 4         ┆ … ┆ 102.47818 ┆ null      ┆ 417.5281  ┆ 64        │\n",
       "│           ┆          ┆           ┆           ┆   ┆ 1         ┆           ┆           ┆           │\n",
       "│ 98840     ┆ 9884005  ┆ Oil       ┆ 5         ┆ … ┆ null      ┆ null      ┆ 790.37590 ┆ 38        │\n",
       "│           ┆          ┆           ┆           ┆   ┆           ┆           ┆ 5         ┆           │\n",
       "│ 98840     ┆ 9884006  ┆ Oil       ┆ 6         ┆ … ┆ null      ┆ null      ┆ 400.36215 ┆ 77        │\n",
       "│           ┆          ┆           ┆           ┆   ┆           ┆           ┆ 5         ┆           │\n",
       "│ 98840     ┆ 98840W1  ┆ Water     ┆ 1         ┆ … ┆ null      ┆ null      ┆ 696.76201 ┆ 38        │\n",
       "│           ┆          ┆           ┆           ┆   ┆           ┆           ┆ 4         ┆           │\n",
       "│ 98840     ┆ 98840W2  ┆ Water     ┆ 2         ┆ … ┆ 257.84773 ┆ null      ┆ 653.13576 ┆ 55        │\n",
       "│           ┆          ┆           ┆           ┆   ┆ 8         ┆           ┆ 7         ┆           │\n",
       "└───────────┴──────────┴───────────┴───────────┴───┴───────────┴───────────┴───────────┴───────────┘"
      ]
     },
     "execution_count": 88,
     "metadata": {},
     "output_type": "execute_result"
    }
   ],
   "source": [
    "percent_tank_full = (pl.col(\"volume\") / pl.col(\"capacity\") * 100).round().cast(pl.UInt8)\n",
    "final_lf = final_lf.with_columns(percent_tank_full.alias(\"percent_full\"))\n",
    "\n",
    "final_lf.collect()"
   ]
  },
  {
   "cell_type": "code",
   "execution_count": 89,
   "metadata": {},
   "outputs": [
    {
     "data": {
      "text/html": [
       "<div><style>\n",
       ".dataframe > thead > tr,\n",
       ".dataframe > tbody > tr {\n",
       "  text-align: right;\n",
       "  white-space: pre-wrap;\n",
       "}\n",
       "</style>\n",
       "<small>shape: (8, 10)</small><table border=\"1\" class=\"dataframe\"><thead><tr><th>property_id</th><th>scada_id</th><th>tank_type</th><th>tank_number</th><th>level</th><th>volume</th><th>inches_to_esd</th><th>time_until_esd</th><th>capacity</th><th>percent_full</th></tr><tr><td>str</td><td>str</td><td>str</td><td>u8</td><td>f64</td><td>f64</td><td>f64</td><td>f64</td><td>f64</td><td>u8</td></tr></thead><tbody><tr><td>&quot;98840&quot;</td><td>&quot;9884001&quot;</td><td>&quot;Oil&quot;</td><td>1</td><td>79.02198</td><td>299.173063</td><td>null</td><td>null</td><td>554.0</td><td>54</td></tr><tr><td>&quot;98840&quot;</td><td>&quot;9884002&quot;</td><td>&quot;Oil&quot;</td><td>2</td><td>77.590071</td><td>293.977423</td><td>null</td><td>null</td><td>736.0</td><td>40</td></tr><tr><td>&quot;98840&quot;</td><td>&quot;9884003&quot;</td><td>&quot;Oil&quot;</td><td>3</td><td>77.392763</td><td>284.213132</td><td>null</td><td>null</td><td>624.0</td><td>46</td></tr><tr><td>&quot;98840&quot;</td><td>&quot;9884004&quot;</td><td>&quot;Oil&quot;</td><td>4</td><td>75.002393</td><td>268.335022</td><td>102.478181</td><td>null</td><td>418.0</td><td>64</td></tr><tr><td>&quot;98840&quot;</td><td>&quot;9884005&quot;</td><td>&quot;Oil&quot;</td><td>5</td><td>74.240695</td><td>300.447955</td><td>null</td><td>null</td><td>790.0</td><td>38</td></tr><tr><td>&quot;98840&quot;</td><td>&quot;9884006&quot;</td><td>&quot;Oil&quot;</td><td>6</td><td>82.279163</td><td>309.826949</td><td>null</td><td>null</td><td>400.0</td><td>77</td></tr><tr><td>&quot;98840&quot;</td><td>&quot;98840W1&quot;</td><td>&quot;Water&quot;</td><td>1</td><td>79.941493</td><td>267.90299</td><td>null</td><td>null</td><td>697.0</td><td>38</td></tr><tr><td>&quot;98840&quot;</td><td>&quot;98840W2&quot;</td><td>&quot;Water&quot;</td><td>2</td><td>76.456344</td><td>357.148125</td><td>257.847738</td><td>null</td><td>653.0</td><td>55</td></tr></tbody></table></div>"
      ],
      "text/plain": [
       "shape: (8, 10)\n",
       "┌────────────┬──────────┬───────────┬───────────┬───┬───────────┬───────────┬──────────┬───────────┐\n",
       "│ property_i ┆ scada_id ┆ tank_type ┆ tank_numb ┆ … ┆ inches_to ┆ time_unti ┆ capacity ┆ percent_f │\n",
       "│ d          ┆ ---      ┆ ---       ┆ er        ┆   ┆ _esd      ┆ l_esd     ┆ ---      ┆ ull       │\n",
       "│ ---        ┆ str      ┆ str       ┆ ---       ┆   ┆ ---       ┆ ---       ┆ f64      ┆ ---       │\n",
       "│ str        ┆          ┆           ┆ u8        ┆   ┆ f64       ┆ f64       ┆          ┆ u8        │\n",
       "╞════════════╪══════════╪═══════════╪═══════════╪═══╪═══════════╪═══════════╪══════════╪═══════════╡\n",
       "│ 98840      ┆ 9884001  ┆ Oil       ┆ 1         ┆ … ┆ null      ┆ null      ┆ 554.0    ┆ 54        │\n",
       "│ 98840      ┆ 9884002  ┆ Oil       ┆ 2         ┆ … ┆ null      ┆ null      ┆ 736.0    ┆ 40        │\n",
       "│ 98840      ┆ 9884003  ┆ Oil       ┆ 3         ┆ … ┆ null      ┆ null      ┆ 624.0    ┆ 46        │\n",
       "│ 98840      ┆ 9884004  ┆ Oil       ┆ 4         ┆ … ┆ 102.47818 ┆ null      ┆ 418.0    ┆ 64        │\n",
       "│            ┆          ┆           ┆           ┆   ┆ 1         ┆           ┆          ┆           │\n",
       "│ 98840      ┆ 9884005  ┆ Oil       ┆ 5         ┆ … ┆ null      ┆ null      ┆ 790.0    ┆ 38        │\n",
       "│ 98840      ┆ 9884006  ┆ Oil       ┆ 6         ┆ … ┆ null      ┆ null      ┆ 400.0    ┆ 77        │\n",
       "│ 98840      ┆ 98840W1  ┆ Water     ┆ 1         ┆ … ┆ null      ┆ null      ┆ 697.0    ┆ 38        │\n",
       "│ 98840      ┆ 98840W2  ┆ Water     ┆ 2         ┆ … ┆ 257.84773 ┆ null      ┆ 653.0    ┆ 55        │\n",
       "│            ┆          ┆           ┆           ┆   ┆ 8         ┆           ┆          ┆           │\n",
       "└────────────┴──────────┴───────────┴───────────┴───┴───────────┴───────────┴──────────┴───────────┘"
      ]
     },
     "execution_count": 89,
     "metadata": {},
     "output_type": "execute_result"
    }
   ],
   "source": [
    "capacity_rounded = pl.col(\"capacity\").round()\n",
    "final_lf = final_lf.with_columns(capacity_rounded.alias(\"capacity\"))\n",
    "\n",
    "final_lf.collect()"
   ]
  },
  {
   "cell_type": "code",
   "execution_count": 90,
   "metadata": {},
   "outputs": [
    {
     "data": {
      "text/html": [
       "<div><style>\n",
       ".dataframe > thead > tr,\n",
       ".dataframe > tbody > tr {\n",
       "  text-align: right;\n",
       "  white-space: pre-wrap;\n",
       "}\n",
       "</style>\n",
       "<small>shape: (8, 10)</small><table border=\"1\" class=\"dataframe\"><thead><tr><th>property_id</th><th>scada_id</th><th>tank_type</th><th>tank_number</th><th>level</th><th>volume</th><th>inches_to_esd</th><th>time_until_esd</th><th>capacity</th><th>percent_full</th></tr><tr><td>str</td><td>str</td><td>str</td><td>u8</td><td>f64</td><td>u64</td><td>f64</td><td>f64</td><td>f64</td><td>u8</td></tr></thead><tbody><tr><td>&quot;98840&quot;</td><td>&quot;9884001&quot;</td><td>&quot;Oil&quot;</td><td>1</td><td>79.02198</td><td>299</td><td>null</td><td>null</td><td>554.0</td><td>54</td></tr><tr><td>&quot;98840&quot;</td><td>&quot;9884002&quot;</td><td>&quot;Oil&quot;</td><td>2</td><td>77.590071</td><td>294</td><td>null</td><td>null</td><td>736.0</td><td>40</td></tr><tr><td>&quot;98840&quot;</td><td>&quot;9884003&quot;</td><td>&quot;Oil&quot;</td><td>3</td><td>77.392763</td><td>284</td><td>null</td><td>null</td><td>624.0</td><td>46</td></tr><tr><td>&quot;98840&quot;</td><td>&quot;9884004&quot;</td><td>&quot;Oil&quot;</td><td>4</td><td>75.002393</td><td>268</td><td>102.478181</td><td>null</td><td>418.0</td><td>64</td></tr><tr><td>&quot;98840&quot;</td><td>&quot;9884005&quot;</td><td>&quot;Oil&quot;</td><td>5</td><td>74.240695</td><td>300</td><td>null</td><td>null</td><td>790.0</td><td>38</td></tr><tr><td>&quot;98840&quot;</td><td>&quot;9884006&quot;</td><td>&quot;Oil&quot;</td><td>6</td><td>82.279163</td><td>310</td><td>null</td><td>null</td><td>400.0</td><td>77</td></tr><tr><td>&quot;98840&quot;</td><td>&quot;98840W1&quot;</td><td>&quot;Water&quot;</td><td>1</td><td>79.941493</td><td>268</td><td>null</td><td>null</td><td>697.0</td><td>38</td></tr><tr><td>&quot;98840&quot;</td><td>&quot;98840W2&quot;</td><td>&quot;Water&quot;</td><td>2</td><td>76.456344</td><td>357</td><td>257.847738</td><td>null</td><td>653.0</td><td>55</td></tr></tbody></table></div>"
      ],
      "text/plain": [
       "shape: (8, 10)\n",
       "┌────────────┬──────────┬───────────┬───────────┬───┬───────────┬───────────┬──────────┬───────────┐\n",
       "│ property_i ┆ scada_id ┆ tank_type ┆ tank_numb ┆ … ┆ inches_to ┆ time_unti ┆ capacity ┆ percent_f │\n",
       "│ d          ┆ ---      ┆ ---       ┆ er        ┆   ┆ _esd      ┆ l_esd     ┆ ---      ┆ ull       │\n",
       "│ ---        ┆ str      ┆ str       ┆ ---       ┆   ┆ ---       ┆ ---       ┆ f64      ┆ ---       │\n",
       "│ str        ┆          ┆           ┆ u8        ┆   ┆ f64       ┆ f64       ┆          ┆ u8        │\n",
       "╞════════════╪══════════╪═══════════╪═══════════╪═══╪═══════════╪═══════════╪══════════╪═══════════╡\n",
       "│ 98840      ┆ 9884001  ┆ Oil       ┆ 1         ┆ … ┆ null      ┆ null      ┆ 554.0    ┆ 54        │\n",
       "│ 98840      ┆ 9884002  ┆ Oil       ┆ 2         ┆ … ┆ null      ┆ null      ┆ 736.0    ┆ 40        │\n",
       "│ 98840      ┆ 9884003  ┆ Oil       ┆ 3         ┆ … ┆ null      ┆ null      ┆ 624.0    ┆ 46        │\n",
       "│ 98840      ┆ 9884004  ┆ Oil       ┆ 4         ┆ … ┆ 102.47818 ┆ null      ┆ 418.0    ┆ 64        │\n",
       "│            ┆          ┆           ┆           ┆   ┆ 1         ┆           ┆          ┆           │\n",
       "│ 98840      ┆ 9884005  ┆ Oil       ┆ 5         ┆ … ┆ null      ┆ null      ┆ 790.0    ┆ 38        │\n",
       "│ 98840      ┆ 9884006  ┆ Oil       ┆ 6         ┆ … ┆ null      ┆ null      ┆ 400.0    ┆ 77        │\n",
       "│ 98840      ┆ 98840W1  ┆ Water     ┆ 1         ┆ … ┆ null      ┆ null      ┆ 697.0    ┆ 38        │\n",
       "│ 98840      ┆ 98840W2  ┆ Water     ┆ 2         ┆ … ┆ 257.84773 ┆ null      ┆ 653.0    ┆ 55        │\n",
       "│            ┆          ┆           ┆           ┆   ┆ 8         ┆           ┆          ┆           │\n",
       "└────────────┴──────────┴───────────┴───────────┴───┴───────────┴───────────┴──────────┴───────────┘"
      ]
     },
     "execution_count": 90,
     "metadata": {},
     "output_type": "execute_result"
    }
   ],
   "source": [
    "volume_to_feet = pl.col(\"volume\").round().cast(pl.UInt64)\n",
    "\n",
    "final_lf = final_lf.with_columns(volume_to_feet.alias(\"volume\"))\n",
    "\n",
    "final_lf.collect()"
   ]
  }
 ],
 "metadata": {
  "kernelspec": {
   "display_name": "tank-project-9-HCZibD-py3.12",
   "language": "python",
   "name": "python3"
  },
  "language_info": {
   "codemirror_mode": {
    "name": "ipython",
    "version": 3
   },
   "file_extension": ".py",
   "mimetype": "text/x-python",
   "name": "python",
   "nbconvert_exporter": "python",
   "pygments_lexer": "ipython3",
   "version": "3.12.2"
  }
 },
 "nbformat": 4,
 "nbformat_minor": 2
}
