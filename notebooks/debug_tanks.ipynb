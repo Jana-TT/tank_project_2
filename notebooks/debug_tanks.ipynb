{
 "cells": [
  {
   "cell_type": "code",
   "execution_count": 1,
   "metadata": {},
   "outputs": [
    {
     "data": {
      "text/html": [
       "<div><style>\n",
       ".dataframe > thead > tr,\n",
       ".dataframe > tbody > tr {\n",
       "  text-align: right;\n",
       "  white-space: pre-wrap;\n",
       "}\n",
       "</style>\n",
       "<small>shape: (16, 8)</small><table border=\"1\" class=\"dataframe\"><thead><tr><th>property_id</th><th>scada_id</th><th>metric_nice_name</th><th>unique_id</th><th>uom</th><th>timestamp</th><th>value</th><th>tanksize</th></tr><tr><td>str</td><td>str</td><td>str</td><td>object</td><td>str</td><td>datetime[μs]</td><td>f64</td><td>null</td></tr></thead><tbody><tr><td>&quot;480001&quot;</td><td>&quot;FTW480001&quot;</td><td>&quot;ESD-OilTankInchesUntilAlarm&quot;</td><td>0a5456a7-80da-44cd-b191-130a0a579c33</td><td>&quot;in&quot;</td><td>2024-03-06 04:14:39.113032</td><td>66.518221</td><td>null</td></tr><tr><td>&quot;480001&quot;</td><td>&quot;FTW480001&quot;</td><td>&quot;WaterTank1Capacity&quot;</td><td>1a909c77-d910-4862-b7f4-0ae902c9cbab</td><td>&quot;bbl&quot;</td><td>2023-11-07 09:00:00</td><td>410.476513</td><td>null</td></tr><tr><td>&quot;480001&quot;</td><td>&quot;FTW480001&quot;</td><td>&quot;WaterTank1Volume&quot;</td><td>33b18ec5-4680-4279-bc0e-b9f8761d9b04</td><td>&quot;bbl&quot;</td><td>2024-03-06 04:11:04.372011</td><td>58.378953</td><td>null</td></tr><tr><td>&quot;480001&quot;</td><td>&quot;FTW480001&quot;</td><td>&quot;WaterTank2Volume&quot;</td><td>393a9fd5-866d-45d9-98f2-3145da3eab20</td><td>&quot;bbl&quot;</td><td>2024-03-06 04:11:21.206990</td><td>232.610547</td><td>null</td></tr><tr><td>&quot;480001&quot;</td><td>&quot;FTW480001&quot;</td><td>&quot;OilTank1Level&quot;</td><td>3eb86565-9a8c-4645-9e3b-ead0c0a61245</td><td>&quot;in&quot;</td><td>2024-03-06 04:12:36.242968</td><td>81.727208</td><td>null</td></tr><tr><td>&hellip;</td><td>&hellip;</td><td>&hellip;</td><td>&hellip;</td><td>&hellip;</td><td>&hellip;</td><td>&hellip;</td><td>&hellip;</td></tr><tr><td>&quot;480001&quot;</td><td>&quot;FTW480001&quot;</td><td>&quot;ESD-OilTankID&quot;</td><td>91346655-25a8-4a44-a3ac-c8fc14457107</td><td>null</td><td>2023-11-07 09:00:00</td><td>1.0</td><td>null</td></tr><tr><td>&quot;480001&quot;</td><td>&quot;FTW480001&quot;</td><td>&quot;OilTank1Volume&quot;</td><td>970e57ed-34f9-4306-b0a3-5cd7b57cd20e</td><td>&quot;bbl&quot;</td><td>2024-03-06 04:12:36.242968</td><td>227.020022</td><td>null</td></tr><tr><td>&quot;480001&quot;</td><td>&quot;FTW480001&quot;</td><td>&quot;OilTank2Capacity&quot;</td><td>9e41a2e8-78d5-4dd9-b63f-66fa4676dcfb</td><td>&quot;bbl&quot;</td><td>2023-11-07 09:00:00</td><td>406.099328</td><td>null</td></tr><tr><td>&quot;480001&quot;</td><td>&quot;FTW480001&quot;</td><td>&quot;OilTank2Level&quot;</td><td>b2b972c2-8685-4877-8363-484e0003ac37</td><td>&quot;in&quot;</td><td>2024-03-06 04:14:00.321573</td><td>98.825588</td><td>null</td></tr><tr><td>&quot;480001&quot;</td><td>&quot;FTW480001&quot;</td><td>&quot;ESD-WaterTankID&quot;</td><td>bf404389-f86f-47fe-8eb6-aac06db9bd77</td><td>null</td><td>2023-11-07 09:00:00</td><td>1.0</td><td>null</td></tr></tbody></table></div>"
      ],
      "text/plain": [
       "shape: (16, 8)\n",
       "┌─────────────┬───────────┬─────────────┬─────────────┬──────┬─────────────┬────────────┬──────────┐\n",
       "│ property_id ┆ scada_id  ┆ metric_nice ┆ unique_id   ┆ uom  ┆ timestamp   ┆ value      ┆ tanksize │\n",
       "│ ---         ┆ ---       ┆ _name       ┆ ---         ┆ ---  ┆ ---         ┆ ---        ┆ ---      │\n",
       "│ str         ┆ str       ┆ ---         ┆ object      ┆ str  ┆ datetime[μs ┆ f64        ┆ null     │\n",
       "│             ┆           ┆ str         ┆             ┆      ┆ ]           ┆            ┆          │\n",
       "╞═════════════╪═══════════╪═════════════╪═════════════╪══════╪═════════════╪════════════╪══════════╡\n",
       "│ 480001      ┆ FTW480001 ┆ ESD-OilTank ┆ 0a5456a7-80 ┆ in   ┆ 2024-03-06  ┆ 66.518221  ┆ null     │\n",
       "│             ┆           ┆ InchesUntil ┆ da-44cd-b19 ┆      ┆ 04:14:39.11 ┆            ┆          │\n",
       "│             ┆           ┆ Alarm       ┆ 1-130a0a…   ┆      ┆ 3032        ┆            ┆          │\n",
       "│ 480001      ┆ FTW480001 ┆ WaterTank1C ┆ 1a909c77-d9 ┆ bbl  ┆ 2023-11-07  ┆ 410.476513 ┆ null     │\n",
       "│             ┆           ┆ apacity     ┆ 10-4862-b7f ┆      ┆ 09:00:00    ┆            ┆          │\n",
       "│             ┆           ┆             ┆ 4-0ae902…   ┆      ┆             ┆            ┆          │\n",
       "│ 480001      ┆ FTW480001 ┆ WaterTank1V ┆ 33b18ec5-46 ┆ bbl  ┆ 2024-03-06  ┆ 58.378953  ┆ null     │\n",
       "│             ┆           ┆ olume       ┆ 80-4279-bc0 ┆      ┆ 04:11:04.37 ┆            ┆          │\n",
       "│             ┆           ┆             ┆ e-b9f876…   ┆      ┆ 2011        ┆            ┆          │\n",
       "│ 480001      ┆ FTW480001 ┆ WaterTank2V ┆ 393a9fd5-86 ┆ bbl  ┆ 2024-03-06  ┆ 232.610547 ┆ null     │\n",
       "│             ┆           ┆ olume       ┆ 6d-45d9-98f ┆      ┆ 04:11:21.20 ┆            ┆          │\n",
       "│             ┆           ┆             ┆ 2-3145da…   ┆      ┆ 6990        ┆            ┆          │\n",
       "│ 480001      ┆ FTW480001 ┆ OilTank1Lev ┆ 3eb86565-9a ┆ in   ┆ 2024-03-06  ┆ 81.727208  ┆ null     │\n",
       "│             ┆           ┆ el          ┆ 8c-4645-9e3 ┆      ┆ 04:12:36.24 ┆            ┆          │\n",
       "│             ┆           ┆             ┆ b-ead0c0…   ┆      ┆ 2968        ┆            ┆          │\n",
       "│ …           ┆ …         ┆ …           ┆ …           ┆ …    ┆ …           ┆ …          ┆ …        │\n",
       "│ 480001      ┆ FTW480001 ┆ ESD-OilTank ┆ 91346655-25 ┆ null ┆ 2023-11-07  ┆ 1.0        ┆ null     │\n",
       "│             ┆           ┆ ID          ┆ a8-4a44-a3a ┆      ┆ 09:00:00    ┆            ┆          │\n",
       "│             ┆           ┆             ┆ c-c8fc14…   ┆      ┆             ┆            ┆          │\n",
       "│ 480001      ┆ FTW480001 ┆ OilTank1Vol ┆ 970e57ed-34 ┆ bbl  ┆ 2024-03-06  ┆ 227.020022 ┆ null     │\n",
       "│             ┆           ┆ ume         ┆ f9-4306-b0a ┆      ┆ 04:12:36.24 ┆            ┆          │\n",
       "│             ┆           ┆             ┆ 3-5cd7b5…   ┆      ┆ 2968        ┆            ┆          │\n",
       "│ 480001      ┆ FTW480001 ┆ OilTank2Cap ┆ 9e41a2e8-78 ┆ bbl  ┆ 2023-11-07  ┆ 406.099328 ┆ null     │\n",
       "│             ┆           ┆ acity       ┆ d5-4dd9-b63 ┆      ┆ 09:00:00    ┆            ┆          │\n",
       "│             ┆           ┆             ┆ f-66fa46…   ┆      ┆             ┆            ┆          │\n",
       "│ 480001      ┆ FTW480001 ┆ OilTank2Lev ┆ b2b972c2-86 ┆ in   ┆ 2024-03-06  ┆ 98.825588  ┆ null     │\n",
       "│             ┆           ┆ el          ┆ 85-4877-836 ┆      ┆ 04:14:00.32 ┆            ┆          │\n",
       "│             ┆           ┆             ┆ 3-484e00…   ┆      ┆ 1573        ┆            ┆          │\n",
       "│ 480001      ┆ FTW480001 ┆ ESD-WaterTa ┆ bf404389-f8 ┆ null ┆ 2023-11-07  ┆ 1.0        ┆ null     │\n",
       "│             ┆           ┆ nkID        ┆ 6f-47fe-8eb ┆      ┆ 09:00:00    ┆            ┆          │\n",
       "│             ┆           ┆             ┆ 6-aac06d…   ┆      ┆             ┆            ┆          │\n",
       "└─────────────┴───────────┴─────────────┴─────────────┴──────┴─────────────┴────────────┴──────────┘"
      ]
     },
     "execution_count": 1,
     "metadata": {},
     "output_type": "execute_result"
    }
   ],
   "source": [
    "import polars as pl\n",
    "from src.main import GetTanksReq, fetch_tank_data\n",
    "\n",
    "req = GetTanksReq(property_ids={\"480001\"})\n",
    "\n",
    "df = await fetch_tank_data(req)\n",
    "if df is None:\n",
    "    raise ValueError(\"df is None\")\n",
    "lf = df.lazy()\n",
    "lf.collect()"
   ]
  },
  {
   "cell_type": "code",
   "execution_count": 2,
   "metadata": {},
   "outputs": [
    {
     "data": {
      "text/html": [
       "<div><style>\n",
       ".dataframe > thead > tr,\n",
       ".dataframe > tbody > tr {\n",
       "  text-align: right;\n",
       "  white-space: pre-wrap;\n",
       "}\n",
       "</style>\n",
       "<small>shape: (16, 7)</small><table border=\"1\" class=\"dataframe\"><thead><tr><th>property_id</th><th>scada_id</th><th>metric_nice_name</th><th>uom</th><th>timestamp</th><th>value</th><th>tanksize</th></tr><tr><td>str</td><td>str</td><td>str</td><td>str</td><td>datetime[μs]</td><td>f64</td><td>null</td></tr></thead><tbody><tr><td>&quot;480001&quot;</td><td>&quot;FTW480001&quot;</td><td>&quot;ESD-OilTankInchesUntilAlarm&quot;</td><td>&quot;in&quot;</td><td>2024-03-06 04:14:39.113032</td><td>66.518221</td><td>null</td></tr><tr><td>&quot;480001&quot;</td><td>&quot;FTW480001&quot;</td><td>&quot;WaterTank1Capacity&quot;</td><td>&quot;bbl&quot;</td><td>2023-11-07 09:00:00</td><td>410.476513</td><td>null</td></tr><tr><td>&quot;480001&quot;</td><td>&quot;FTW480001&quot;</td><td>&quot;WaterTank1Volume&quot;</td><td>&quot;bbl&quot;</td><td>2024-03-06 04:11:04.372011</td><td>58.378953</td><td>null</td></tr><tr><td>&quot;480001&quot;</td><td>&quot;FTW480001&quot;</td><td>&quot;WaterTank2Volume&quot;</td><td>&quot;bbl&quot;</td><td>2024-03-06 04:11:21.206990</td><td>232.610547</td><td>null</td></tr><tr><td>&quot;480001&quot;</td><td>&quot;FTW480001&quot;</td><td>&quot;OilTank1Level&quot;</td><td>&quot;in&quot;</td><td>2024-03-06 04:12:36.242968</td><td>81.727208</td><td>null</td></tr><tr><td>&hellip;</td><td>&hellip;</td><td>&hellip;</td><td>&hellip;</td><td>&hellip;</td><td>&hellip;</td><td>&hellip;</td></tr><tr><td>&quot;480001&quot;</td><td>&quot;FTW480001&quot;</td><td>&quot;ESD-OilTankID&quot;</td><td>null</td><td>2023-11-07 09:00:00</td><td>1.0</td><td>null</td></tr><tr><td>&quot;480001&quot;</td><td>&quot;FTW480001&quot;</td><td>&quot;OilTank1Volume&quot;</td><td>&quot;bbl&quot;</td><td>2024-03-06 04:12:36.242968</td><td>227.020022</td><td>null</td></tr><tr><td>&quot;480001&quot;</td><td>&quot;FTW480001&quot;</td><td>&quot;OilTank2Capacity&quot;</td><td>&quot;bbl&quot;</td><td>2023-11-07 09:00:00</td><td>406.099328</td><td>null</td></tr><tr><td>&quot;480001&quot;</td><td>&quot;FTW480001&quot;</td><td>&quot;OilTank2Level&quot;</td><td>&quot;in&quot;</td><td>2024-03-06 04:14:00.321573</td><td>98.825588</td><td>null</td></tr><tr><td>&quot;480001&quot;</td><td>&quot;FTW480001&quot;</td><td>&quot;ESD-WaterTankID&quot;</td><td>null</td><td>2023-11-07 09:00:00</td><td>1.0</td><td>null</td></tr></tbody></table></div>"
      ],
      "text/plain": [
       "shape: (16, 7)\n",
       "┌─────────────┬───────────┬───────────────────────┬──────┬─────────────────┬────────────┬──────────┐\n",
       "│ property_id ┆ scada_id  ┆ metric_nice_name      ┆ uom  ┆ timestamp       ┆ value      ┆ tanksize │\n",
       "│ ---         ┆ ---       ┆ ---                   ┆ ---  ┆ ---             ┆ ---        ┆ ---      │\n",
       "│ str         ┆ str       ┆ str                   ┆ str  ┆ datetime[μs]    ┆ f64        ┆ null     │\n",
       "╞═════════════╪═══════════╪═══════════════════════╪══════╪═════════════════╪════════════╪══════════╡\n",
       "│ 480001      ┆ FTW480001 ┆ ESD-OilTankInchesUnti ┆ in   ┆ 2024-03-06      ┆ 66.518221  ┆ null     │\n",
       "│             ┆           ┆ lAlarm                ┆      ┆ 04:14:39.113032 ┆            ┆          │\n",
       "│ 480001      ┆ FTW480001 ┆ WaterTank1Capacity    ┆ bbl  ┆ 2023-11-07      ┆ 410.476513 ┆ null     │\n",
       "│             ┆           ┆                       ┆      ┆ 09:00:00        ┆            ┆          │\n",
       "│ 480001      ┆ FTW480001 ┆ WaterTank1Volume      ┆ bbl  ┆ 2024-03-06      ┆ 58.378953  ┆ null     │\n",
       "│             ┆           ┆                       ┆      ┆ 04:11:04.372011 ┆            ┆          │\n",
       "│ 480001      ┆ FTW480001 ┆ WaterTank2Volume      ┆ bbl  ┆ 2024-03-06      ┆ 232.610547 ┆ null     │\n",
       "│             ┆           ┆                       ┆      ┆ 04:11:21.206990 ┆            ┆          │\n",
       "│ 480001      ┆ FTW480001 ┆ OilTank1Level         ┆ in   ┆ 2024-03-06      ┆ 81.727208  ┆ null     │\n",
       "│             ┆           ┆                       ┆      ┆ 04:12:36.242968 ┆            ┆          │\n",
       "│ …           ┆ …         ┆ …                     ┆ …    ┆ …               ┆ …          ┆ …        │\n",
       "│ 480001      ┆ FTW480001 ┆ ESD-OilTankID         ┆ null ┆ 2023-11-07      ┆ 1.0        ┆ null     │\n",
       "│             ┆           ┆                       ┆      ┆ 09:00:00        ┆            ┆          │\n",
       "│ 480001      ┆ FTW480001 ┆ OilTank1Volume        ┆ bbl  ┆ 2024-03-06      ┆ 227.020022 ┆ null     │\n",
       "│             ┆           ┆                       ┆      ┆ 04:12:36.242968 ┆            ┆          │\n",
       "│ 480001      ┆ FTW480001 ┆ OilTank2Capacity      ┆ bbl  ┆ 2023-11-07      ┆ 406.099328 ┆ null     │\n",
       "│             ┆           ┆                       ┆      ┆ 09:00:00        ┆            ┆          │\n",
       "│ 480001      ┆ FTW480001 ┆ OilTank2Level         ┆ in   ┆ 2024-03-06      ┆ 98.825588  ┆ null     │\n",
       "│             ┆           ┆                       ┆      ┆ 04:14:00.321573 ┆            ┆          │\n",
       "│ 480001      ┆ FTW480001 ┆ ESD-WaterTankID       ┆ null ┆ 2023-11-07      ┆ 1.0        ┆ null     │\n",
       "│             ┆           ┆                       ┆      ┆ 09:00:00        ┆            ┆          │\n",
       "└─────────────┴───────────┴───────────────────────┴──────┴─────────────────┴────────────┴──────────┘"
      ]
     },
     "execution_count": 2,
     "metadata": {},
     "output_type": "execute_result"
    }
   ],
   "source": [
    "lf = lf.drop(\"unique_id\")\n",
    "lf.collect()"
   ]
  },
  {
   "cell_type": "code",
   "execution_count": 3,
   "metadata": {},
   "outputs": [
    {
     "data": {
      "text/html": [
       "<div><style>\n",
       ".dataframe > thead > tr,\n",
       ".dataframe > tbody > tr {\n",
       "  text-align: right;\n",
       "  white-space: pre-wrap;\n",
       "}\n",
       "</style>\n",
       "<small>shape: (16, 8)</small><table border=\"1\" class=\"dataframe\"><thead><tr><th>property_id</th><th>scada_id</th><th>metric_nice_name</th><th>uom</th><th>timestamp</th><th>value</th><th>tanksize</th><th>separated_metrics</th></tr><tr><td>str</td><td>str</td><td>str</td><td>str</td><td>datetime[μs]</td><td>f64</td><td>null</td><td>struct[4]</td></tr></thead><tbody><tr><td>&quot;480001&quot;</td><td>&quot;FTW480001&quot;</td><td>&quot;ESD-OilTankInchesUntilAlarm&quot;</td><td>&quot;in&quot;</td><td>2024-03-06 04:14:39.113032</td><td>66.518221</td><td>null</td><td>{&quot;ESD-&quot;,&quot;Oil&quot;,&quot;&quot;,&quot;InchesUntilAlarm&quot;}</td></tr><tr><td>&quot;480001&quot;</td><td>&quot;FTW480001&quot;</td><td>&quot;WaterTank1Capacity&quot;</td><td>&quot;bbl&quot;</td><td>2023-11-07 09:00:00</td><td>410.476513</td><td>null</td><td>{null,&quot;Water&quot;,&quot;1&quot;,&quot;Capacity&quot;}</td></tr><tr><td>&quot;480001&quot;</td><td>&quot;FTW480001&quot;</td><td>&quot;WaterTank1Volume&quot;</td><td>&quot;bbl&quot;</td><td>2024-03-06 04:11:04.372011</td><td>58.378953</td><td>null</td><td>{null,&quot;Water&quot;,&quot;1&quot;,&quot;Volume&quot;}</td></tr><tr><td>&quot;480001&quot;</td><td>&quot;FTW480001&quot;</td><td>&quot;WaterTank2Volume&quot;</td><td>&quot;bbl&quot;</td><td>2024-03-06 04:11:21.206990</td><td>232.610547</td><td>null</td><td>{null,&quot;Water&quot;,&quot;2&quot;,&quot;Volume&quot;}</td></tr><tr><td>&quot;480001&quot;</td><td>&quot;FTW480001&quot;</td><td>&quot;OilTank1Level&quot;</td><td>&quot;in&quot;</td><td>2024-03-06 04:12:36.242968</td><td>81.727208</td><td>null</td><td>{null,&quot;Oil&quot;,&quot;1&quot;,&quot;Level&quot;}</td></tr><tr><td>&hellip;</td><td>&hellip;</td><td>&hellip;</td><td>&hellip;</td><td>&hellip;</td><td>&hellip;</td><td>&hellip;</td><td>&hellip;</td></tr><tr><td>&quot;480001&quot;</td><td>&quot;FTW480001&quot;</td><td>&quot;ESD-OilTankID&quot;</td><td>null</td><td>2023-11-07 09:00:00</td><td>1.0</td><td>null</td><td>{&quot;ESD-&quot;,&quot;Oil&quot;,&quot;&quot;,&quot;ID&quot;}</td></tr><tr><td>&quot;480001&quot;</td><td>&quot;FTW480001&quot;</td><td>&quot;OilTank1Volume&quot;</td><td>&quot;bbl&quot;</td><td>2024-03-06 04:12:36.242968</td><td>227.020022</td><td>null</td><td>{null,&quot;Oil&quot;,&quot;1&quot;,&quot;Volume&quot;}</td></tr><tr><td>&quot;480001&quot;</td><td>&quot;FTW480001&quot;</td><td>&quot;OilTank2Capacity&quot;</td><td>&quot;bbl&quot;</td><td>2023-11-07 09:00:00</td><td>406.099328</td><td>null</td><td>{null,&quot;Oil&quot;,&quot;2&quot;,&quot;Capacity&quot;}</td></tr><tr><td>&quot;480001&quot;</td><td>&quot;FTW480001&quot;</td><td>&quot;OilTank2Level&quot;</td><td>&quot;in&quot;</td><td>2024-03-06 04:14:00.321573</td><td>98.825588</td><td>null</td><td>{null,&quot;Oil&quot;,&quot;2&quot;,&quot;Level&quot;}</td></tr><tr><td>&quot;480001&quot;</td><td>&quot;FTW480001&quot;</td><td>&quot;ESD-WaterTankID&quot;</td><td>null</td><td>2023-11-07 09:00:00</td><td>1.0</td><td>null</td><td>{&quot;ESD-&quot;,&quot;Water&quot;,&quot;&quot;,&quot;ID&quot;}</td></tr></tbody></table></div>"
      ],
      "text/plain": [
       "shape: (16, 8)\n",
       "┌─────────────┬───────────┬─────────────┬──────┬─────────────┬────────────┬──────────┬─────────────┐\n",
       "│ property_id ┆ scada_id  ┆ metric_nice ┆ uom  ┆ timestamp   ┆ value      ┆ tanksize ┆ separated_m │\n",
       "│ ---         ┆ ---       ┆ _name       ┆ ---  ┆ ---         ┆ ---        ┆ ---      ┆ etrics      │\n",
       "│ str         ┆ str       ┆ ---         ┆ str  ┆ datetime[μs ┆ f64        ┆ null     ┆ ---         │\n",
       "│             ┆           ┆ str         ┆      ┆ ]           ┆            ┆          ┆ struct[4]   │\n",
       "╞═════════════╪═══════════╪═════════════╪══════╪═════════════╪════════════╪══════════╪═════════════╡\n",
       "│ 480001      ┆ FTW480001 ┆ ESD-OilTank ┆ in   ┆ 2024-03-06  ┆ 66.518221  ┆ null     ┆ {\"ESD-\",\"Oi │\n",
       "│             ┆           ┆ InchesUntil ┆      ┆ 04:14:39.11 ┆            ┆          ┆ l\",\"\",\"Inch │\n",
       "│             ┆           ┆ Alarm       ┆      ┆ 3032        ┆            ┆          ┆ esUntilA…   │\n",
       "│ 480001      ┆ FTW480001 ┆ WaterTank1C ┆ bbl  ┆ 2023-11-07  ┆ 410.476513 ┆ null     ┆ {null,\"Wate │\n",
       "│             ┆           ┆ apacity     ┆      ┆ 09:00:00    ┆            ┆          ┆ r\",\"1\",\"Cap │\n",
       "│             ┆           ┆             ┆      ┆             ┆            ┆          ┆ acity\"}     │\n",
       "│ 480001      ┆ FTW480001 ┆ WaterTank1V ┆ bbl  ┆ 2024-03-06  ┆ 58.378953  ┆ null     ┆ {null,\"Wate │\n",
       "│             ┆           ┆ olume       ┆      ┆ 04:11:04.37 ┆            ┆          ┆ r\",\"1\",\"Vol │\n",
       "│             ┆           ┆             ┆      ┆ 2011        ┆            ┆          ┆ ume\"}       │\n",
       "│ 480001      ┆ FTW480001 ┆ WaterTank2V ┆ bbl  ┆ 2024-03-06  ┆ 232.610547 ┆ null     ┆ {null,\"Wate │\n",
       "│             ┆           ┆ olume       ┆      ┆ 04:11:21.20 ┆            ┆          ┆ r\",\"2\",\"Vol │\n",
       "│             ┆           ┆             ┆      ┆ 6990        ┆            ┆          ┆ ume\"}       │\n",
       "│ 480001      ┆ FTW480001 ┆ OilTank1Lev ┆ in   ┆ 2024-03-06  ┆ 81.727208  ┆ null     ┆ {null,\"Oil\" │\n",
       "│             ┆           ┆ el          ┆      ┆ 04:12:36.24 ┆            ┆          ┆ ,\"1\",\"Level │\n",
       "│             ┆           ┆             ┆      ┆ 2968        ┆            ┆          ┆ \"}          │\n",
       "│ …           ┆ …         ┆ …           ┆ …    ┆ …           ┆ …          ┆ …        ┆ …           │\n",
       "│ 480001      ┆ FTW480001 ┆ ESD-OilTank ┆ null ┆ 2023-11-07  ┆ 1.0        ┆ null     ┆ {\"ESD-\",\"Oi │\n",
       "│             ┆           ┆ ID          ┆      ┆ 09:00:00    ┆            ┆          ┆ l\",\"\",\"ID\"} │\n",
       "│ 480001      ┆ FTW480001 ┆ OilTank1Vol ┆ bbl  ┆ 2024-03-06  ┆ 227.020022 ┆ null     ┆ {null,\"Oil\" │\n",
       "│             ┆           ┆ ume         ┆      ┆ 04:12:36.24 ┆            ┆          ┆ ,\"1\",\"Volum │\n",
       "│             ┆           ┆             ┆      ┆ 2968        ┆            ┆          ┆ e\"}         │\n",
       "│ 480001      ┆ FTW480001 ┆ OilTank2Cap ┆ bbl  ┆ 2023-11-07  ┆ 406.099328 ┆ null     ┆ {null,\"Oil\" │\n",
       "│             ┆           ┆ acity       ┆      ┆ 09:00:00    ┆            ┆          ┆ ,\"2\",\"Capac │\n",
       "│             ┆           ┆             ┆      ┆             ┆            ┆          ┆ ity\"}       │\n",
       "│ 480001      ┆ FTW480001 ┆ OilTank2Lev ┆ in   ┆ 2024-03-06  ┆ 98.825588  ┆ null     ┆ {null,\"Oil\" │\n",
       "│             ┆           ┆ el          ┆      ┆ 04:14:00.32 ┆            ┆          ┆ ,\"2\",\"Level │\n",
       "│             ┆           ┆             ┆      ┆ 1573        ┆            ┆          ┆ \"}          │\n",
       "│ 480001      ┆ FTW480001 ┆ ESD-WaterTa ┆ null ┆ 2023-11-07  ┆ 1.0        ┆ null     ┆ {\"ESD-\",\"Wa │\n",
       "│             ┆           ┆ nkID        ┆      ┆ 09:00:00    ┆            ┆          ┆ ter\",\"\",\"ID │\n",
       "│             ┆           ┆             ┆      ┆             ┆            ┆          ┆ \"}          │\n",
       "└─────────────┴───────────┴─────────────┴──────┴─────────────┴────────────┴──────────┴─────────────┘"
      ]
     },
     "execution_count": 3,
     "metadata": {},
     "output_type": "execute_result"
    }
   ],
   "source": [
    "tank_metrics = [\"Level\", \"Volume\", \"InchesUntilAlarm\", \"InchesToESD\", \"TimeUntilESD\", \"Capacity\", \"ID\"]\n",
    "tank_types = [\"Water\", \"Oil\"]\n",
    "\n",
    "tank_metrics_str= \"|\".join(tank_metrics)\n",
    "tank_types_str = \"|\".join(tank_types)\n",
    "\n",
    "pattern = f'^(?<is_esd>ESD-)?(?<tank_type>{tank_types_str})Tank(?<tank_number>[0-9]*)(?<tank_metric>{tank_metrics_str})'\n",
    "lf = lf.with_columns(separated_metrics = pl.col(\"metric_nice_name\").str.extract_groups(pattern))\n",
    "lf.collect()"
   ]
  },
  {
   "cell_type": "code",
   "execution_count": 4,
   "metadata": {},
   "outputs": [
    {
     "data": {
      "text/html": [
       "<div><style>\n",
       ".dataframe > thead > tr,\n",
       ".dataframe > tbody > tr {\n",
       "  text-align: right;\n",
       "  white-space: pre-wrap;\n",
       "}\n",
       "</style>\n",
       "<small>shape: (16, 11)</small><table border=\"1\" class=\"dataframe\"><thead><tr><th>property_id</th><th>scada_id</th><th>metric_nice_name</th><th>uom</th><th>timestamp</th><th>value</th><th>tanksize</th><th>is_esd</th><th>tank_type</th><th>tank_number</th><th>tank_metric</th></tr><tr><td>str</td><td>str</td><td>str</td><td>str</td><td>datetime[μs]</td><td>f64</td><td>null</td><td>str</td><td>str</td><td>str</td><td>str</td></tr></thead><tbody><tr><td>&quot;480001&quot;</td><td>&quot;FTW480001&quot;</td><td>&quot;ESD-OilTankInchesUntilAlarm&quot;</td><td>&quot;in&quot;</td><td>2024-03-06 04:14:39.113032</td><td>66.518221</td><td>null</td><td>&quot;ESD-&quot;</td><td>&quot;Oil&quot;</td><td>&quot;&quot;</td><td>&quot;InchesUntilAlarm&quot;</td></tr><tr><td>&quot;480001&quot;</td><td>&quot;FTW480001&quot;</td><td>&quot;WaterTank1Capacity&quot;</td><td>&quot;bbl&quot;</td><td>2023-11-07 09:00:00</td><td>410.476513</td><td>null</td><td>null</td><td>&quot;Water&quot;</td><td>&quot;1&quot;</td><td>&quot;Capacity&quot;</td></tr><tr><td>&quot;480001&quot;</td><td>&quot;FTW480001&quot;</td><td>&quot;WaterTank1Volume&quot;</td><td>&quot;bbl&quot;</td><td>2024-03-06 04:11:04.372011</td><td>58.378953</td><td>null</td><td>null</td><td>&quot;Water&quot;</td><td>&quot;1&quot;</td><td>&quot;Volume&quot;</td></tr><tr><td>&quot;480001&quot;</td><td>&quot;FTW480001&quot;</td><td>&quot;WaterTank2Volume&quot;</td><td>&quot;bbl&quot;</td><td>2024-03-06 04:11:21.206990</td><td>232.610547</td><td>null</td><td>null</td><td>&quot;Water&quot;</td><td>&quot;2&quot;</td><td>&quot;Volume&quot;</td></tr><tr><td>&quot;480001&quot;</td><td>&quot;FTW480001&quot;</td><td>&quot;OilTank1Level&quot;</td><td>&quot;in&quot;</td><td>2024-03-06 04:12:36.242968</td><td>81.727208</td><td>null</td><td>null</td><td>&quot;Oil&quot;</td><td>&quot;1&quot;</td><td>&quot;Level&quot;</td></tr><tr><td>&hellip;</td><td>&hellip;</td><td>&hellip;</td><td>&hellip;</td><td>&hellip;</td><td>&hellip;</td><td>&hellip;</td><td>&hellip;</td><td>&hellip;</td><td>&hellip;</td><td>&hellip;</td></tr><tr><td>&quot;480001&quot;</td><td>&quot;FTW480001&quot;</td><td>&quot;ESD-OilTankID&quot;</td><td>null</td><td>2023-11-07 09:00:00</td><td>1.0</td><td>null</td><td>&quot;ESD-&quot;</td><td>&quot;Oil&quot;</td><td>&quot;&quot;</td><td>&quot;ID&quot;</td></tr><tr><td>&quot;480001&quot;</td><td>&quot;FTW480001&quot;</td><td>&quot;OilTank1Volume&quot;</td><td>&quot;bbl&quot;</td><td>2024-03-06 04:12:36.242968</td><td>227.020022</td><td>null</td><td>null</td><td>&quot;Oil&quot;</td><td>&quot;1&quot;</td><td>&quot;Volume&quot;</td></tr><tr><td>&quot;480001&quot;</td><td>&quot;FTW480001&quot;</td><td>&quot;OilTank2Capacity&quot;</td><td>&quot;bbl&quot;</td><td>2023-11-07 09:00:00</td><td>406.099328</td><td>null</td><td>null</td><td>&quot;Oil&quot;</td><td>&quot;2&quot;</td><td>&quot;Capacity&quot;</td></tr><tr><td>&quot;480001&quot;</td><td>&quot;FTW480001&quot;</td><td>&quot;OilTank2Level&quot;</td><td>&quot;in&quot;</td><td>2024-03-06 04:14:00.321573</td><td>98.825588</td><td>null</td><td>null</td><td>&quot;Oil&quot;</td><td>&quot;2&quot;</td><td>&quot;Level&quot;</td></tr><tr><td>&quot;480001&quot;</td><td>&quot;FTW480001&quot;</td><td>&quot;ESD-WaterTankID&quot;</td><td>null</td><td>2023-11-07 09:00:00</td><td>1.0</td><td>null</td><td>&quot;ESD-&quot;</td><td>&quot;Water&quot;</td><td>&quot;&quot;</td><td>&quot;ID&quot;</td></tr></tbody></table></div>"
      ],
      "text/plain": [
       "shape: (16, 11)\n",
       "┌─────────────┬───────────┬─────────────┬──────┬───┬────────┬───────────┬─────────────┬────────────┐\n",
       "│ property_id ┆ scada_id  ┆ metric_nice ┆ uom  ┆ … ┆ is_esd ┆ tank_type ┆ tank_number ┆ tank_metri │\n",
       "│ ---         ┆ ---       ┆ _name       ┆ ---  ┆   ┆ ---    ┆ ---       ┆ ---         ┆ c          │\n",
       "│ str         ┆ str       ┆ ---         ┆ str  ┆   ┆ str    ┆ str       ┆ str         ┆ ---        │\n",
       "│             ┆           ┆ str         ┆      ┆   ┆        ┆           ┆             ┆ str        │\n",
       "╞═════════════╪═══════════╪═════════════╪══════╪═══╪════════╪═══════════╪═════════════╪════════════╡\n",
       "│ 480001      ┆ FTW480001 ┆ ESD-OilTank ┆ in   ┆ … ┆ ESD-   ┆ Oil       ┆             ┆ InchesUnti │\n",
       "│             ┆           ┆ InchesUntil ┆      ┆   ┆        ┆           ┆             ┆ lAlarm     │\n",
       "│             ┆           ┆ Alarm       ┆      ┆   ┆        ┆           ┆             ┆            │\n",
       "│ 480001      ┆ FTW480001 ┆ WaterTank1C ┆ bbl  ┆ … ┆ null   ┆ Water     ┆ 1           ┆ Capacity   │\n",
       "│             ┆           ┆ apacity     ┆      ┆   ┆        ┆           ┆             ┆            │\n",
       "│ 480001      ┆ FTW480001 ┆ WaterTank1V ┆ bbl  ┆ … ┆ null   ┆ Water     ┆ 1           ┆ Volume     │\n",
       "│             ┆           ┆ olume       ┆      ┆   ┆        ┆           ┆             ┆            │\n",
       "│ 480001      ┆ FTW480001 ┆ WaterTank2V ┆ bbl  ┆ … ┆ null   ┆ Water     ┆ 2           ┆ Volume     │\n",
       "│             ┆           ┆ olume       ┆      ┆   ┆        ┆           ┆             ┆            │\n",
       "│ 480001      ┆ FTW480001 ┆ OilTank1Lev ┆ in   ┆ … ┆ null   ┆ Oil       ┆ 1           ┆ Level      │\n",
       "│             ┆           ┆ el          ┆      ┆   ┆        ┆           ┆             ┆            │\n",
       "│ …           ┆ …         ┆ …           ┆ …    ┆ … ┆ …      ┆ …         ┆ …           ┆ …          │\n",
       "│ 480001      ┆ FTW480001 ┆ ESD-OilTank ┆ null ┆ … ┆ ESD-   ┆ Oil       ┆             ┆ ID         │\n",
       "│             ┆           ┆ ID          ┆      ┆   ┆        ┆           ┆             ┆            │\n",
       "│ 480001      ┆ FTW480001 ┆ OilTank1Vol ┆ bbl  ┆ … ┆ null   ┆ Oil       ┆ 1           ┆ Volume     │\n",
       "│             ┆           ┆ ume         ┆      ┆   ┆        ┆           ┆             ┆            │\n",
       "│ 480001      ┆ FTW480001 ┆ OilTank2Cap ┆ bbl  ┆ … ┆ null   ┆ Oil       ┆ 2           ┆ Capacity   │\n",
       "│             ┆           ┆ acity       ┆      ┆   ┆        ┆           ┆             ┆            │\n",
       "│ 480001      ┆ FTW480001 ┆ OilTank2Lev ┆ in   ┆ … ┆ null   ┆ Oil       ┆ 2           ┆ Level      │\n",
       "│             ┆           ┆ el          ┆      ┆   ┆        ┆           ┆             ┆            │\n",
       "│ 480001      ┆ FTW480001 ┆ ESD-WaterTa ┆ null ┆ … ┆ ESD-   ┆ Water     ┆             ┆ ID         │\n",
       "│             ┆           ┆ nkID        ┆      ┆   ┆        ┆           ┆             ┆            │\n",
       "└─────────────┴───────────┴─────────────┴──────┴───┴────────┴───────────┴─────────────┴────────────┘"
      ]
     },
     "execution_count": 4,
     "metadata": {},
     "output_type": "execute_result"
    }
   ],
   "source": [
    "lf = lf.unnest(\"separated_metrics\")\n",
    "lf.collect()"
   ]
  },
  {
   "cell_type": "code",
   "execution_count": 5,
   "metadata": {},
   "outputs": [
    {
     "data": {
      "text/html": [
       "<div><style>\n",
       ".dataframe > thead > tr,\n",
       ".dataframe > tbody > tr {\n",
       "  text-align: right;\n",
       "  white-space: pre-wrap;\n",
       "}\n",
       "</style>\n",
       "<small>shape: (16, 11)</small><table border=\"1\" class=\"dataframe\"><thead><tr><th>property_id</th><th>scada_id</th><th>metric_nice_name</th><th>uom</th><th>timestamp</th><th>value</th><th>tanksize</th><th>is_esd</th><th>tank_type</th><th>tank_number</th><th>tank_metric</th></tr><tr><td>str</td><td>str</td><td>str</td><td>str</td><td>datetime[μs]</td><td>f64</td><td>null</td><td>str</td><td>str</td><td>u8</td><td>str</td></tr></thead><tbody><tr><td>&quot;480001&quot;</td><td>&quot;FTW480001&quot;</td><td>&quot;ESD-OilTankInchesUntilAlarm&quot;</td><td>&quot;in&quot;</td><td>2024-03-06 04:14:39.113032</td><td>66.518221</td><td>null</td><td>&quot;ESD-&quot;</td><td>&quot;Oil&quot;</td><td>null</td><td>&quot;InchesUntilAlarm&quot;</td></tr><tr><td>&quot;480001&quot;</td><td>&quot;FTW480001&quot;</td><td>&quot;WaterTank1Capacity&quot;</td><td>&quot;bbl&quot;</td><td>2023-11-07 09:00:00</td><td>410.476513</td><td>null</td><td>null</td><td>&quot;Water&quot;</td><td>1</td><td>&quot;Capacity&quot;</td></tr><tr><td>&quot;480001&quot;</td><td>&quot;FTW480001&quot;</td><td>&quot;WaterTank1Volume&quot;</td><td>&quot;bbl&quot;</td><td>2024-03-06 04:11:04.372011</td><td>58.378953</td><td>null</td><td>null</td><td>&quot;Water&quot;</td><td>1</td><td>&quot;Volume&quot;</td></tr><tr><td>&quot;480001&quot;</td><td>&quot;FTW480001&quot;</td><td>&quot;WaterTank2Volume&quot;</td><td>&quot;bbl&quot;</td><td>2024-03-06 04:11:21.206990</td><td>232.610547</td><td>null</td><td>null</td><td>&quot;Water&quot;</td><td>2</td><td>&quot;Volume&quot;</td></tr><tr><td>&quot;480001&quot;</td><td>&quot;FTW480001&quot;</td><td>&quot;OilTank1Level&quot;</td><td>&quot;in&quot;</td><td>2024-03-06 04:12:36.242968</td><td>81.727208</td><td>null</td><td>null</td><td>&quot;Oil&quot;</td><td>1</td><td>&quot;Level&quot;</td></tr><tr><td>&hellip;</td><td>&hellip;</td><td>&hellip;</td><td>&hellip;</td><td>&hellip;</td><td>&hellip;</td><td>&hellip;</td><td>&hellip;</td><td>&hellip;</td><td>&hellip;</td><td>&hellip;</td></tr><tr><td>&quot;480001&quot;</td><td>&quot;FTW480001&quot;</td><td>&quot;ESD-OilTankID&quot;</td><td>null</td><td>2023-11-07 09:00:00</td><td>1.0</td><td>null</td><td>&quot;ESD-&quot;</td><td>&quot;Oil&quot;</td><td>null</td><td>&quot;ID&quot;</td></tr><tr><td>&quot;480001&quot;</td><td>&quot;FTW480001&quot;</td><td>&quot;OilTank1Volume&quot;</td><td>&quot;bbl&quot;</td><td>2024-03-06 04:12:36.242968</td><td>227.020022</td><td>null</td><td>null</td><td>&quot;Oil&quot;</td><td>1</td><td>&quot;Volume&quot;</td></tr><tr><td>&quot;480001&quot;</td><td>&quot;FTW480001&quot;</td><td>&quot;OilTank2Capacity&quot;</td><td>&quot;bbl&quot;</td><td>2023-11-07 09:00:00</td><td>406.099328</td><td>null</td><td>null</td><td>&quot;Oil&quot;</td><td>2</td><td>&quot;Capacity&quot;</td></tr><tr><td>&quot;480001&quot;</td><td>&quot;FTW480001&quot;</td><td>&quot;OilTank2Level&quot;</td><td>&quot;in&quot;</td><td>2024-03-06 04:14:00.321573</td><td>98.825588</td><td>null</td><td>null</td><td>&quot;Oil&quot;</td><td>2</td><td>&quot;Level&quot;</td></tr><tr><td>&quot;480001&quot;</td><td>&quot;FTW480001&quot;</td><td>&quot;ESD-WaterTankID&quot;</td><td>null</td><td>2023-11-07 09:00:00</td><td>1.0</td><td>null</td><td>&quot;ESD-&quot;</td><td>&quot;Water&quot;</td><td>null</td><td>&quot;ID&quot;</td></tr></tbody></table></div>"
      ],
      "text/plain": [
       "shape: (16, 11)\n",
       "┌─────────────┬───────────┬─────────────┬──────┬───┬────────┬───────────┬─────────────┬────────────┐\n",
       "│ property_id ┆ scada_id  ┆ metric_nice ┆ uom  ┆ … ┆ is_esd ┆ tank_type ┆ tank_number ┆ tank_metri │\n",
       "│ ---         ┆ ---       ┆ _name       ┆ ---  ┆   ┆ ---    ┆ ---       ┆ ---         ┆ c          │\n",
       "│ str         ┆ str       ┆ ---         ┆ str  ┆   ┆ str    ┆ str       ┆ u8          ┆ ---        │\n",
       "│             ┆           ┆ str         ┆      ┆   ┆        ┆           ┆             ┆ str        │\n",
       "╞═════════════╪═══════════╪═════════════╪══════╪═══╪════════╪═══════════╪═════════════╪════════════╡\n",
       "│ 480001      ┆ FTW480001 ┆ ESD-OilTank ┆ in   ┆ … ┆ ESD-   ┆ Oil       ┆ null        ┆ InchesUnti │\n",
       "│             ┆           ┆ InchesUntil ┆      ┆   ┆        ┆           ┆             ┆ lAlarm     │\n",
       "│             ┆           ┆ Alarm       ┆      ┆   ┆        ┆           ┆             ┆            │\n",
       "│ 480001      ┆ FTW480001 ┆ WaterTank1C ┆ bbl  ┆ … ┆ null   ┆ Water     ┆ 1           ┆ Capacity   │\n",
       "│             ┆           ┆ apacity     ┆      ┆   ┆        ┆           ┆             ┆            │\n",
       "│ 480001      ┆ FTW480001 ┆ WaterTank1V ┆ bbl  ┆ … ┆ null   ┆ Water     ┆ 1           ┆ Volume     │\n",
       "│             ┆           ┆ olume       ┆      ┆   ┆        ┆           ┆             ┆            │\n",
       "│ 480001      ┆ FTW480001 ┆ WaterTank2V ┆ bbl  ┆ … ┆ null   ┆ Water     ┆ 2           ┆ Volume     │\n",
       "│             ┆           ┆ olume       ┆      ┆   ┆        ┆           ┆             ┆            │\n",
       "│ 480001      ┆ FTW480001 ┆ OilTank1Lev ┆ in   ┆ … ┆ null   ┆ Oil       ┆ 1           ┆ Level      │\n",
       "│             ┆           ┆ el          ┆      ┆   ┆        ┆           ┆             ┆            │\n",
       "│ …           ┆ …         ┆ …           ┆ …    ┆ … ┆ …      ┆ …         ┆ …           ┆ …          │\n",
       "│ 480001      ┆ FTW480001 ┆ ESD-OilTank ┆ null ┆ … ┆ ESD-   ┆ Oil       ┆ null        ┆ ID         │\n",
       "│             ┆           ┆ ID          ┆      ┆   ┆        ┆           ┆             ┆            │\n",
       "│ 480001      ┆ FTW480001 ┆ OilTank1Vol ┆ bbl  ┆ … ┆ null   ┆ Oil       ┆ 1           ┆ Volume     │\n",
       "│             ┆           ┆ ume         ┆      ┆   ┆        ┆           ┆             ┆            │\n",
       "│ 480001      ┆ FTW480001 ┆ OilTank2Cap ┆ bbl  ┆ … ┆ null   ┆ Oil       ┆ 2           ┆ Capacity   │\n",
       "│             ┆           ┆ acity       ┆      ┆   ┆        ┆           ┆             ┆            │\n",
       "│ 480001      ┆ FTW480001 ┆ OilTank2Lev ┆ in   ┆ … ┆ null   ┆ Oil       ┆ 2           ┆ Level      │\n",
       "│             ┆           ┆ el          ┆      ┆   ┆        ┆           ┆             ┆            │\n",
       "│ 480001      ┆ FTW480001 ┆ ESD-WaterTa ┆ null ┆ … ┆ ESD-   ┆ Water     ┆ null        ┆ ID         │\n",
       "│             ┆           ┆ nkID        ┆      ┆   ┆        ┆           ┆             ┆            │\n",
       "└─────────────┴───────────┴─────────────┴──────┴───┴────────┴───────────┴─────────────┴────────────┘"
      ]
     },
     "execution_count": 5,
     "metadata": {},
     "output_type": "execute_result"
    }
   ],
   "source": [
    "lf = lf.with_columns(pl.col(\"tank_number\").cast(pl.UInt8, strict=False))\n",
    "lf.collect()"
   ]
  },
  {
   "cell_type": "code",
   "execution_count": 6,
   "metadata": {},
   "outputs": [
    {
     "data": {
      "text/html": [
       "<div><style>\n",
       ".dataframe > thead > tr,\n",
       ".dataframe > tbody > tr {\n",
       "  text-align: right;\n",
       "  white-space: pre-wrap;\n",
       "}\n",
       "</style>\n",
       "<small>shape: (6, 11)</small><table border=\"1\" class=\"dataframe\"><thead><tr><th>property_id</th><th>tank_type</th><th>tank_number</th><th>scada_id</th><th>Level</th><th>Volume</th><th>InchesUntilAlarm</th><th>InchesToESD</th><th>TimeUntilESD</th><th>Capacity</th><th>ID</th></tr><tr><td>str</td><td>str</td><td>u8</td><td>str</td><td>f64</td><td>f64</td><td>f64</td><td>f64</td><td>f64</td><td>f64</td><td>f64</td></tr></thead><tbody><tr><td>&quot;480001&quot;</td><td>&quot;Water&quot;</td><td>null</td><td>&quot;FTW480001&quot;</td><td>null</td><td>null</td><td>173.40877</td><td>null</td><td>null</td><td>null</td><td>1.0</td></tr><tr><td>&quot;480001&quot;</td><td>&quot;Water&quot;</td><td>2</td><td>&quot;FTW480001&quot;</td><td>83.739797</td><td>232.610547</td><td>null</td><td>null</td><td>null</td><td>409.718222</td><td>null</td></tr><tr><td>&quot;480001&quot;</td><td>&quot;Water&quot;</td><td>1</td><td>&quot;FTW480001&quot;</td><td>21.016423</td><td>58.378953</td><td>null</td><td>null</td><td>null</td><td>410.476513</td><td>null</td></tr><tr><td>&quot;480001&quot;</td><td>&quot;Oil&quot;</td><td>2</td><td>&quot;FTW480001&quot;</td><td>98.825588</td><td>274.515522</td><td>null</td><td>null</td><td>null</td><td>406.099328</td><td>null</td></tr><tr><td>&quot;480001&quot;</td><td>&quot;Oil&quot;</td><td>null</td><td>&quot;FTW480001&quot;</td><td>null</td><td>null</td><td>66.518221</td><td>null</td><td>null</td><td>null</td><td>1.0</td></tr><tr><td>&quot;480001&quot;</td><td>&quot;Oil&quot;</td><td>1</td><td>&quot;FTW480001&quot;</td><td>81.727208</td><td>227.020022</td><td>null</td><td>null</td><td>null</td><td>413.344118</td><td>null</td></tr></tbody></table></div>"
      ],
      "text/plain": [
       "shape: (6, 11)\n",
       "┌────────────┬───────────┬────────────┬───────────┬───┬────────────┬────────────┬───────────┬──────┐\n",
       "│ property_i ┆ tank_type ┆ tank_numbe ┆ scada_id  ┆ … ┆ InchesToES ┆ TimeUntilE ┆ Capacity  ┆ ID   │\n",
       "│ d          ┆ ---       ┆ r          ┆ ---       ┆   ┆ D          ┆ SD         ┆ ---       ┆ ---  │\n",
       "│ ---        ┆ str       ┆ ---        ┆ str       ┆   ┆ ---        ┆ ---        ┆ f64       ┆ f64  │\n",
       "│ str        ┆           ┆ u8         ┆           ┆   ┆ f64        ┆ f64        ┆           ┆      │\n",
       "╞════════════╪═══════════╪════════════╪═══════════╪═══╪════════════╪════════════╪═══════════╪══════╡\n",
       "│ 480001     ┆ Water     ┆ null       ┆ FTW480001 ┆ … ┆ null       ┆ null       ┆ null      ┆ 1.0  │\n",
       "│ 480001     ┆ Water     ┆ 2          ┆ FTW480001 ┆ … ┆ null       ┆ null       ┆ 409.71822 ┆ null │\n",
       "│            ┆           ┆            ┆           ┆   ┆            ┆            ┆ 2         ┆      │\n",
       "│ 480001     ┆ Water     ┆ 1          ┆ FTW480001 ┆ … ┆ null       ┆ null       ┆ 410.47651 ┆ null │\n",
       "│            ┆           ┆            ┆           ┆   ┆            ┆            ┆ 3         ┆      │\n",
       "│ 480001     ┆ Oil       ┆ 2          ┆ FTW480001 ┆ … ┆ null       ┆ null       ┆ 406.09932 ┆ null │\n",
       "│            ┆           ┆            ┆           ┆   ┆            ┆            ┆ 8         ┆      │\n",
       "│ 480001     ┆ Oil       ┆ null       ┆ FTW480001 ┆ … ┆ null       ┆ null       ┆ null      ┆ 1.0  │\n",
       "│ 480001     ┆ Oil       ┆ 1          ┆ FTW480001 ┆ … ┆ null       ┆ null       ┆ 413.34411 ┆ null │\n",
       "│            ┆           ┆            ┆           ┆   ┆            ┆            ┆ 8         ┆      │\n",
       "└────────────┴───────────┴────────────┴───────────┴───┴────────────┴────────────┴───────────┴──────┘"
      ]
     },
     "execution_count": 6,
     "metadata": {},
     "output_type": "execute_result"
    }
   ],
   "source": [
    "#pivoting the data\n",
    "values = pl.col(\"value\")\n",
    "columns = pl.col(\"tank_metric\")\n",
    "pivoted_lf = lf.group_by(\"property_id\", \"tank_type\", \"tank_number\", \"scada_id\").agg(\n",
    "    values.filter(columns == metric).first().alias(metric) for metric in tank_metrics\n",
    ")\n",
    "\n",
    "pivoted_lf.collect()"
   ]
  },
  {
   "cell_type": "code",
   "execution_count": 7,
   "metadata": {},
   "outputs": [
    {
     "data": {
      "text/html": [
       "<div><style>\n",
       ".dataframe > thead > tr,\n",
       ".dataframe > tbody > tr {\n",
       "  text-align: right;\n",
       "  white-space: pre-wrap;\n",
       "}\n",
       "</style>\n",
       "<small>shape: (2, 10)</small><table border=\"1\" class=\"dataframe\"><thead><tr><th>property_id</th><th>tank_type</th><th>tank_number</th><th>scada_id</th><th>Level</th><th>Volume</th><th>InchesUntilAlarm</th><th>InchesToESD</th><th>TimeUntilESD</th><th>Capacity</th></tr><tr><td>str</td><td>str</td><td>u8</td><td>str</td><td>f64</td><td>f64</td><td>f64</td><td>f64</td><td>f64</td><td>f64</td></tr></thead><tbody><tr><td>&quot;480001&quot;</td><td>&quot;Water&quot;</td><td>1</td><td>&quot;FTW480001&quot;</td><td>null</td><td>null</td><td>173.40877</td><td>null</td><td>null</td><td>null</td></tr><tr><td>&quot;480001&quot;</td><td>&quot;Oil&quot;</td><td>1</td><td>&quot;FTW480001&quot;</td><td>null</td><td>null</td><td>66.518221</td><td>null</td><td>null</td><td>null</td></tr></tbody></table></div>"
      ],
      "text/plain": [
       "shape: (2, 10)\n",
       "┌───────────┬───────────┬───────────┬───────────┬───┬───────────┬───────────┬───────────┬──────────┐\n",
       "│ property_ ┆ tank_type ┆ tank_numb ┆ scada_id  ┆ … ┆ InchesUnt ┆ InchesToE ┆ TimeUntil ┆ Capacity │\n",
       "│ id        ┆ ---       ┆ er        ┆ ---       ┆   ┆ ilAlarm   ┆ SD        ┆ ESD       ┆ ---      │\n",
       "│ ---       ┆ str       ┆ ---       ┆ str       ┆   ┆ ---       ┆ ---       ┆ ---       ┆ f64      │\n",
       "│ str       ┆           ┆ u8        ┆           ┆   ┆ f64       ┆ f64       ┆ f64       ┆          │\n",
       "╞═══════════╪═══════════╪═══════════╪═══════════╪═══╪═══════════╪═══════════╪═══════════╪══════════╡\n",
       "│ 480001    ┆ Water     ┆ 1         ┆ FTW480001 ┆ … ┆ 173.40877 ┆ null      ┆ null      ┆ null     │\n",
       "│ 480001    ┆ Oil       ┆ 1         ┆ FTW480001 ┆ … ┆ 66.518221 ┆ null      ┆ null      ┆ null     │\n",
       "└───────────┴───────────┴───────────┴───────────┴───┴───────────┴───────────┴───────────┴──────────┘"
      ]
     },
     "execution_count": 7,
     "metadata": {},
     "output_type": "execute_result"
    }
   ],
   "source": [
    "null_condition = pl.col(\"tank_number\").is_null()\n",
    "not_null_condition = pl.col(\"tank_number\").is_not_null()\n",
    "\n",
    "null_tanks = pivoted_lf.filter(null_condition)\n",
    "numbered_tanks = pivoted_lf.filter(not_null_condition)\n",
    "\n",
    "null_tanks = null_tanks.with_columns(pl.col(\"ID\").alias(\"tank_number\"))\n",
    "null_tanks = null_tanks.drop(\"ID\")\n",
    "null_tanks = null_tanks.with_columns(pl.col(\"tank_number\").cast(pl.UInt8, strict=False))\n",
    "\n",
    "null_tanks.collect()"
   ]
  },
  {
   "cell_type": "code",
   "execution_count": 8,
   "metadata": {},
   "outputs": [
    {
     "data": {
      "text/html": [
       "<div><style>\n",
       ".dataframe > thead > tr,\n",
       ".dataframe > tbody > tr {\n",
       "  text-align: right;\n",
       "  white-space: pre-wrap;\n",
       "}\n",
       "</style>\n",
       "<small>shape: (4, 18)</small><table border=\"1\" class=\"dataframe\"><thead><tr><th>property_id</th><th>tank_type</th><th>tank_number</th><th>scada_id</th><th>Level</th><th>Volume</th><th>InchesUntilAlarm</th><th>InchesToESD</th><th>TimeUntilESD</th><th>Capacity</th><th>ID</th><th>scada_id_right</th><th>Level_right</th><th>Volume_right</th><th>InchesUntilAlarm_right</th><th>InchesToESD_right</th><th>TimeUntilESD_right</th><th>Capacity_right</th></tr><tr><td>str</td><td>str</td><td>u8</td><td>str</td><td>f64</td><td>f64</td><td>f64</td><td>f64</td><td>f64</td><td>f64</td><td>f64</td><td>str</td><td>f64</td><td>f64</td><td>f64</td><td>f64</td><td>f64</td><td>f64</td></tr></thead><tbody><tr><td>&quot;480001&quot;</td><td>&quot;Oil&quot;</td><td>2</td><td>&quot;FTW480001&quot;</td><td>98.825588</td><td>274.515522</td><td>null</td><td>null</td><td>null</td><td>406.099328</td><td>null</td><td>null</td><td>null</td><td>null</td><td>null</td><td>null</td><td>null</td><td>null</td></tr><tr><td>&quot;480001&quot;</td><td>&quot;Water&quot;</td><td>1</td><td>&quot;FTW480001&quot;</td><td>21.016423</td><td>58.378953</td><td>null</td><td>null</td><td>null</td><td>410.476513</td><td>null</td><td>&quot;FTW480001&quot;</td><td>null</td><td>null</td><td>173.40877</td><td>null</td><td>null</td><td>null</td></tr><tr><td>&quot;480001&quot;</td><td>&quot;Water&quot;</td><td>2</td><td>&quot;FTW480001&quot;</td><td>83.739797</td><td>232.610547</td><td>null</td><td>null</td><td>null</td><td>409.718222</td><td>null</td><td>null</td><td>null</td><td>null</td><td>null</td><td>null</td><td>null</td><td>null</td></tr><tr><td>&quot;480001&quot;</td><td>&quot;Oil&quot;</td><td>1</td><td>&quot;FTW480001&quot;</td><td>81.727208</td><td>227.020022</td><td>null</td><td>null</td><td>null</td><td>413.344118</td><td>null</td><td>&quot;FTW480001&quot;</td><td>null</td><td>null</td><td>66.518221</td><td>null</td><td>null</td><td>null</td></tr></tbody></table></div>"
      ],
      "text/plain": [
       "shape: (4, 18)\n",
       "┌───────────┬───────────┬───────────┬───────────┬───┬───────────┬───────────┬───────────┬──────────┐\n",
       "│ property_ ┆ tank_type ┆ tank_numb ┆ scada_id  ┆ … ┆ InchesUnt ┆ InchesToE ┆ TimeUntil ┆ Capacity │\n",
       "│ id        ┆ ---       ┆ er        ┆ ---       ┆   ┆ ilAlarm_r ┆ SD_right  ┆ ESD_right ┆ _right   │\n",
       "│ ---       ┆ str       ┆ ---       ┆ str       ┆   ┆ ight      ┆ ---       ┆ ---       ┆ ---      │\n",
       "│ str       ┆           ┆ u8        ┆           ┆   ┆ ---       ┆ f64       ┆ f64       ┆ f64      │\n",
       "│           ┆           ┆           ┆           ┆   ┆ f64       ┆           ┆           ┆          │\n",
       "╞═══════════╪═══════════╪═══════════╪═══════════╪═══╪═══════════╪═══════════╪═══════════╪══════════╡\n",
       "│ 480001    ┆ Oil       ┆ 2         ┆ FTW480001 ┆ … ┆ null      ┆ null      ┆ null      ┆ null     │\n",
       "│ 480001    ┆ Water     ┆ 1         ┆ FTW480001 ┆ … ┆ 173.40877 ┆ null      ┆ null      ┆ null     │\n",
       "│ 480001    ┆ Water     ┆ 2         ┆ FTW480001 ┆ … ┆ null      ┆ null      ┆ null      ┆ null     │\n",
       "│ 480001    ┆ Oil       ┆ 1         ┆ FTW480001 ┆ … ┆ 66.518221 ┆ null      ┆ null      ┆ null     │\n",
       "└───────────┴───────────┴───────────┴───────────┴───┴───────────┴───────────┴───────────┴──────────┘"
      ]
     },
     "execution_count": 8,
     "metadata": {},
     "output_type": "execute_result"
    }
   ],
   "source": [
    "joined_lf = numbered_tanks.join(null_tanks, on=[\"property_id\", \"tank_type\", \"tank_number\"], how=\"left\")\n",
    "joined_lf.collect()"
   ]
  },
  {
   "cell_type": "code",
   "execution_count": 9,
   "metadata": {},
   "outputs": [
    {
     "data": {
      "text/html": [
       "<div><style>\n",
       ".dataframe > thead > tr,\n",
       ".dataframe > tbody > tr {\n",
       "  text-align: right;\n",
       "  white-space: pre-wrap;\n",
       "}\n",
       "</style>\n",
       "<small>shape: (4, 28)</small><table border=\"1\" class=\"dataframe\"><thead><tr><th>property_id</th><th>tank_type</th><th>tank_number</th><th>scada_id</th><th>Level</th><th>Volume</th><th>InchesUntilAlarm</th><th>InchesToESD</th><th>TimeUntilESD</th><th>Capacity</th><th>ID</th><th>scada_id_right</th><th>Level_right</th><th>Volume_right</th><th>InchesUntilAlarm_right</th><th>InchesToESD_right</th><th>TimeUntilESD_right</th><th>Capacity_right</th><th>property_id_right</th><th>metric_nice_name</th><th>uom</th><th>timestamp</th><th>value</th><th>tanksize</th><th>is_esd</th><th>tank_type_right</th><th>tank_number_right</th><th>tank_metric</th></tr><tr><td>str</td><td>str</td><td>u8</td><td>str</td><td>f64</td><td>f64</td><td>f64</td><td>f64</td><td>f64</td><td>f64</td><td>f64</td><td>str</td><td>f64</td><td>f64</td><td>f64</td><td>f64</td><td>f64</td><td>f64</td><td>str</td><td>str</td><td>str</td><td>datetime[μs]</td><td>f64</td><td>null</td><td>str</td><td>str</td><td>u8</td><td>str</td></tr></thead><tbody><tr><td>&quot;480001&quot;</td><td>&quot;Oil&quot;</td><td>1</td><td>&quot;FTW480001&quot;</td><td>81.727208</td><td>227.020022</td><td>null</td><td>null</td><td>null</td><td>413.344118</td><td>null</td><td>&quot;FTW480001&quot;</td><td>null</td><td>null</td><td>66.518221</td><td>null</td><td>null</td><td>null</td><td>&quot;480001&quot;</td><td>&quot;ESD-OilTankInchesUntilAlarm&quot;</td><td>&quot;in&quot;</td><td>2024-03-06 04:14:39.113032</td><td>66.518221</td><td>null</td><td>&quot;ESD-&quot;</td><td>&quot;Oil&quot;</td><td>null</td><td>&quot;InchesUntilAlarm&quot;</td></tr><tr><td>&quot;480001&quot;</td><td>&quot;Oil&quot;</td><td>2</td><td>&quot;FTW480001&quot;</td><td>98.825588</td><td>274.515522</td><td>null</td><td>null</td><td>null</td><td>406.099328</td><td>null</td><td>null</td><td>null</td><td>null</td><td>null</td><td>null</td><td>null</td><td>null</td><td>&quot;480001&quot;</td><td>&quot;ESD-OilTankInchesUntilAlarm&quot;</td><td>&quot;in&quot;</td><td>2024-03-06 04:14:39.113032</td><td>66.518221</td><td>null</td><td>&quot;ESD-&quot;</td><td>&quot;Oil&quot;</td><td>null</td><td>&quot;InchesUntilAlarm&quot;</td></tr><tr><td>&quot;480001&quot;</td><td>&quot;Water&quot;</td><td>2</td><td>&quot;FTW480001&quot;</td><td>83.739797</td><td>232.610547</td><td>null</td><td>null</td><td>null</td><td>409.718222</td><td>null</td><td>null</td><td>null</td><td>null</td><td>null</td><td>null</td><td>null</td><td>null</td><td>&quot;480001&quot;</td><td>&quot;ESD-OilTankInchesUntilAlarm&quot;</td><td>&quot;in&quot;</td><td>2024-03-06 04:14:39.113032</td><td>66.518221</td><td>null</td><td>&quot;ESD-&quot;</td><td>&quot;Oil&quot;</td><td>null</td><td>&quot;InchesUntilAlarm&quot;</td></tr><tr><td>&quot;480001&quot;</td><td>&quot;Water&quot;</td><td>1</td><td>&quot;FTW480001&quot;</td><td>21.016423</td><td>58.378953</td><td>null</td><td>null</td><td>null</td><td>410.476513</td><td>null</td><td>&quot;FTW480001&quot;</td><td>null</td><td>null</td><td>173.40877</td><td>null</td><td>null</td><td>null</td><td>&quot;480001&quot;</td><td>&quot;ESD-OilTankInchesUntilAlarm&quot;</td><td>&quot;in&quot;</td><td>2024-03-06 04:14:39.113032</td><td>66.518221</td><td>null</td><td>&quot;ESD-&quot;</td><td>&quot;Oil&quot;</td><td>null</td><td>&quot;InchesUntilAlarm&quot;</td></tr></tbody></table></div>"
      ],
      "text/plain": [
       "shape: (4, 28)\n",
       "┌────────────┬───────────┬────────────┬───────────┬───┬────────┬───────────┬───────────┬───────────┐\n",
       "│ property_i ┆ tank_type ┆ tank_numbe ┆ scada_id  ┆ … ┆ is_esd ┆ tank_type ┆ tank_numb ┆ tank_metr │\n",
       "│ d          ┆ ---       ┆ r          ┆ ---       ┆   ┆ ---    ┆ _right    ┆ er_right  ┆ ic        │\n",
       "│ ---        ┆ str       ┆ ---        ┆ str       ┆   ┆ str    ┆ ---       ┆ ---       ┆ ---       │\n",
       "│ str        ┆           ┆ u8         ┆           ┆   ┆        ┆ str       ┆ u8        ┆ str       │\n",
       "╞════════════╪═══════════╪════════════╪═══════════╪═══╪════════╪═══════════╪═══════════╪═══════════╡\n",
       "│ 480001     ┆ Oil       ┆ 1          ┆ FTW480001 ┆ … ┆ ESD-   ┆ Oil       ┆ null      ┆ InchesUnt │\n",
       "│            ┆           ┆            ┆           ┆   ┆        ┆           ┆           ┆ ilAlarm   │\n",
       "│ 480001     ┆ Oil       ┆ 2          ┆ FTW480001 ┆ … ┆ ESD-   ┆ Oil       ┆ null      ┆ InchesUnt │\n",
       "│            ┆           ┆            ┆           ┆   ┆        ┆           ┆           ┆ ilAlarm   │\n",
       "│ 480001     ┆ Water     ┆ 2          ┆ FTW480001 ┆ … ┆ ESD-   ┆ Oil       ┆ null      ┆ InchesUnt │\n",
       "│            ┆           ┆            ┆           ┆   ┆        ┆           ┆           ┆ ilAlarm   │\n",
       "│ 480001     ┆ Water     ┆ 1          ┆ FTW480001 ┆ … ┆ ESD-   ┆ Oil       ┆ null      ┆ InchesUnt │\n",
       "│            ┆           ┆            ┆           ┆   ┆        ┆           ┆           ┆ ilAlarm   │\n",
       "└────────────┴───────────┴────────────┴───────────┴───┴────────┴───────────┴───────────┴───────────┘"
      ]
     },
     "execution_count": 9,
     "metadata": {},
     "output_type": "execute_result"
    }
   ],
   "source": [
    "final_lf = joined_lf.join(lf, on=[\"scada_id\"], how=\"left\")\n",
    "final_lf = final_lf.group_by(\"property_id\", \"tank_type\", \"tank_number\").agg(pl.all().first())\n",
    "final_lf.collect()"
   ]
  },
  {
   "cell_type": "code",
   "execution_count": 10,
   "metadata": {},
   "outputs": [
    {
     "data": {
      "text/html": [
       "<div><style>\n",
       ".dataframe > thead > tr,\n",
       ".dataframe > tbody > tr {\n",
       "  text-align: right;\n",
       "  white-space: pre-wrap;\n",
       "}\n",
       "</style>\n",
       "<small>shape: (4, 8)</small><table border=\"1\" class=\"dataframe\"><thead><tr><th>property_id</th><th>tank_type</th><th>tank_number</th><th>level</th><th>volume</th><th>inches_to_esd</th><th>time_until_esd</th><th>capacity</th></tr><tr><td>str</td><td>str</td><td>u8</td><td>f64</td><td>f64</td><td>f64</td><td>f64</td><td>f64</td></tr></thead><tbody><tr><td>&quot;480001&quot;</td><td>&quot;Oil&quot;</td><td>1</td><td>81.727208</td><td>227.020022</td><td>66.518221</td><td>null</td><td>413.344118</td></tr><tr><td>&quot;480001&quot;</td><td>&quot;Oil&quot;</td><td>2</td><td>98.825588</td><td>274.515522</td><td>null</td><td>null</td><td>406.099328</td></tr><tr><td>&quot;480001&quot;</td><td>&quot;Water&quot;</td><td>2</td><td>83.739797</td><td>232.610547</td><td>null</td><td>null</td><td>409.718222</td></tr><tr><td>&quot;480001&quot;</td><td>&quot;Water&quot;</td><td>1</td><td>21.016423</td><td>58.378953</td><td>173.40877</td><td>null</td><td>410.476513</td></tr></tbody></table></div>"
      ],
      "text/plain": [
       "shape: (4, 8)\n",
       "┌────────────┬───────────┬────────────┬───────────┬────────────┬───────────┬───────────┬───────────┐\n",
       "│ property_i ┆ tank_type ┆ tank_numbe ┆ level     ┆ volume     ┆ inches_to ┆ time_unti ┆ capacity  │\n",
       "│ d          ┆ ---       ┆ r          ┆ ---       ┆ ---        ┆ _esd      ┆ l_esd     ┆ ---       │\n",
       "│ ---        ┆ str       ┆ ---        ┆ f64       ┆ f64        ┆ ---       ┆ ---       ┆ f64       │\n",
       "│ str        ┆           ┆ u8         ┆           ┆            ┆ f64       ┆ f64       ┆           │\n",
       "╞════════════╪═══════════╪════════════╪═══════════╪════════════╪═══════════╪═══════════╪═══════════╡\n",
       "│ 480001     ┆ Oil       ┆ 1          ┆ 81.727208 ┆ 227.020022 ┆ 66.518221 ┆ null      ┆ 413.34411 │\n",
       "│            ┆           ┆            ┆           ┆            ┆           ┆           ┆ 8         │\n",
       "│ 480001     ┆ Oil       ┆ 2          ┆ 98.825588 ┆ 274.515522 ┆ null      ┆ null      ┆ 406.09932 │\n",
       "│            ┆           ┆            ┆           ┆            ┆           ┆           ┆ 8         │\n",
       "│ 480001     ┆ Water     ┆ 2          ┆ 83.739797 ┆ 232.610547 ┆ null      ┆ null      ┆ 409.71822 │\n",
       "│            ┆           ┆            ┆           ┆            ┆           ┆           ┆ 2         │\n",
       "│ 480001     ┆ Water     ┆ 1          ┆ 21.016423 ┆ 58.378953  ┆ 173.40877 ┆ null      ┆ 410.47651 │\n",
       "│            ┆           ┆            ┆           ┆            ┆           ┆           ┆ 3         │\n",
       "└────────────┴───────────┴────────────┴───────────┴────────────┴───────────┴───────────┴───────────┘"
      ]
     },
     "execution_count": 10,
     "metadata": {},
     "output_type": "execute_result"
    }
   ],
   "source": [
    "final_lf = final_lf.with_columns(\n",
    "    pl.col(\"property_id\"),\n",
    "    pl.col(\"tank_type\"),\n",
    "    pl.col(\"tank_number\"),\n",
    "    pl.coalesce(pl.col(\"Level\"), pl.col(\"Level_right\")).alias(\"level\"),\n",
    "    pl.coalesce(pl.col(\"Volume\"), pl.col(\"Volume_right\")).alias(\"volume\"),\n",
    "    pl.coalesce(pl.col(\"InchesToESD\"), pl.col(\"InchesUntilAlarm_right\")).alias(\"inches_to_esd\"),\n",
    "    pl.coalesce(pl.col(\"TimeUntilESD\"), pl.col(\"TimeUntilESD_right\")).alias(\"time_until_esd\"),\n",
    "    pl.coalesce(pl.col(\"Capacity\"), pl.col(\"tanksize\")).alias(\"capacity\")\n",
    ")\n",
    "\n",
    "required_columns = [\"property_id\", \"tank_type\", \"tank_number\", \"level\", \"volume\", \"inches_to_esd\", \"time_until_esd\", \"capacity\"]\n",
    "final_lf = final_lf.select(required_columns)\n",
    "final_lf.collect()"
   ]
  },
  {
   "cell_type": "code",
   "execution_count": 11,
   "metadata": {},
   "outputs": [
    {
     "data": {
      "text/html": [
       "<div><style>\n",
       ".dataframe > thead > tr,\n",
       ".dataframe > tbody > tr {\n",
       "  text-align: right;\n",
       "  white-space: pre-wrap;\n",
       "}\n",
       "</style>\n",
       "<small>shape: (4, 8)</small><table border=\"1\" class=\"dataframe\"><thead><tr><th>property_id</th><th>tank_type</th><th>tank_number</th><th>level</th><th>volume</th><th>inches_to_esd</th><th>time_until_esd</th><th>capacity</th></tr><tr><td>str</td><td>str</td><td>u8</td><td>f64</td><td>f64</td><td>f64</td><td>f64</td><td>f64</td></tr></thead><tbody><tr><td>&quot;480001&quot;</td><td>&quot;Oil&quot;</td><td>1</td><td>81.727208</td><td>227.020022</td><td>66.518221</td><td>null</td><td>413.344118</td></tr><tr><td>&quot;480001&quot;</td><td>&quot;Oil&quot;</td><td>2</td><td>98.825588</td><td>274.515522</td><td>null</td><td>null</td><td>406.099328</td></tr><tr><td>&quot;480001&quot;</td><td>&quot;Water&quot;</td><td>1</td><td>21.016423</td><td>58.378953</td><td>173.40877</td><td>null</td><td>410.476513</td></tr><tr><td>&quot;480001&quot;</td><td>&quot;Water&quot;</td><td>2</td><td>83.739797</td><td>232.610547</td><td>null</td><td>null</td><td>409.718222</td></tr></tbody></table></div>"
      ],
      "text/plain": [
       "shape: (4, 8)\n",
       "┌────────────┬───────────┬────────────┬───────────┬────────────┬───────────┬───────────┬───────────┐\n",
       "│ property_i ┆ tank_type ┆ tank_numbe ┆ level     ┆ volume     ┆ inches_to ┆ time_unti ┆ capacity  │\n",
       "│ d          ┆ ---       ┆ r          ┆ ---       ┆ ---        ┆ _esd      ┆ l_esd     ┆ ---       │\n",
       "│ ---        ┆ str       ┆ ---        ┆ f64       ┆ f64        ┆ ---       ┆ ---       ┆ f64       │\n",
       "│ str        ┆           ┆ u8         ┆           ┆            ┆ f64       ┆ f64       ┆           │\n",
       "╞════════════╪═══════════╪════════════╪═══════════╪════════════╪═══════════╪═══════════╪═══════════╡\n",
       "│ 480001     ┆ Oil       ┆ 1          ┆ 81.727208 ┆ 227.020022 ┆ 66.518221 ┆ null      ┆ 413.34411 │\n",
       "│            ┆           ┆            ┆           ┆            ┆           ┆           ┆ 8         │\n",
       "│ 480001     ┆ Oil       ┆ 2          ┆ 98.825588 ┆ 274.515522 ┆ null      ┆ null      ┆ 406.09932 │\n",
       "│            ┆           ┆            ┆           ┆            ┆           ┆           ┆ 8         │\n",
       "│ 480001     ┆ Water     ┆ 1          ┆ 21.016423 ┆ 58.378953  ┆ 173.40877 ┆ null      ┆ 410.47651 │\n",
       "│            ┆           ┆            ┆           ┆            ┆           ┆           ┆ 3         │\n",
       "│ 480001     ┆ Water     ┆ 2          ┆ 83.739797 ┆ 232.610547 ┆ null      ┆ null      ┆ 409.71822 │\n",
       "│            ┆           ┆            ┆           ┆            ┆           ┆           ┆ 2         │\n",
       "└────────────┴───────────┴────────────┴───────────┴────────────┴───────────┴───────────┴───────────┘"
      ]
     },
     "execution_count": 11,
     "metadata": {},
     "output_type": "execute_result"
    }
   ],
   "source": [
    "final_lf = final_lf.sort(\"property_id\", \"tank_type\", \"tank_number\")\n",
    "final_lf.collect()"
   ]
  },
  {
   "cell_type": "code",
   "execution_count": 12,
   "metadata": {},
   "outputs": [
    {
     "data": {
      "text/html": [
       "<div><style>\n",
       ".dataframe > thead > tr,\n",
       ".dataframe > tbody > tr {\n",
       "  text-align: right;\n",
       "  white-space: pre-wrap;\n",
       "}\n",
       "</style>\n",
       "<small>shape: (4, 9)</small><table border=\"1\" class=\"dataframe\"><thead><tr><th>property_id</th><th>tank_type</th><th>tank_number</th><th>level</th><th>volume</th><th>inches_to_esd</th><th>time_until_esd</th><th>capacity</th><th>percent_full</th></tr><tr><td>str</td><td>str</td><td>u8</td><td>f64</td><td>f64</td><td>f64</td><td>f64</td><td>f64</td><td>u8</td></tr></thead><tbody><tr><td>&quot;480001&quot;</td><td>&quot;Oil&quot;</td><td>1</td><td>81.727208</td><td>227.020022</td><td>66.518221</td><td>null</td><td>413.344118</td><td>55</td></tr><tr><td>&quot;480001&quot;</td><td>&quot;Oil&quot;</td><td>2</td><td>98.825588</td><td>274.515522</td><td>null</td><td>null</td><td>406.099328</td><td>68</td></tr><tr><td>&quot;480001&quot;</td><td>&quot;Water&quot;</td><td>1</td><td>21.016423</td><td>58.378953</td><td>173.40877</td><td>null</td><td>410.476513</td><td>14</td></tr><tr><td>&quot;480001&quot;</td><td>&quot;Water&quot;</td><td>2</td><td>83.739797</td><td>232.610547</td><td>null</td><td>null</td><td>409.718222</td><td>57</td></tr></tbody></table></div>"
      ],
      "text/plain": [
       "shape: (4, 9)\n",
       "┌───────────┬───────────┬───────────┬───────────┬───┬───────────┬───────────┬───────────┬──────────┐\n",
       "│ property_ ┆ tank_type ┆ tank_numb ┆ level     ┆ … ┆ inches_to ┆ time_unti ┆ capacity  ┆ percent_ │\n",
       "│ id        ┆ ---       ┆ er        ┆ ---       ┆   ┆ _esd      ┆ l_esd     ┆ ---       ┆ full     │\n",
       "│ ---       ┆ str       ┆ ---       ┆ f64       ┆   ┆ ---       ┆ ---       ┆ f64       ┆ ---      │\n",
       "│ str       ┆           ┆ u8        ┆           ┆   ┆ f64       ┆ f64       ┆           ┆ u8       │\n",
       "╞═══════════╪═══════════╪═══════════╪═══════════╪═══╪═══════════╪═══════════╪═══════════╪══════════╡\n",
       "│ 480001    ┆ Oil       ┆ 1         ┆ 81.727208 ┆ … ┆ 66.518221 ┆ null      ┆ 413.34411 ┆ 55       │\n",
       "│           ┆           ┆           ┆           ┆   ┆           ┆           ┆ 8         ┆          │\n",
       "│ 480001    ┆ Oil       ┆ 2         ┆ 98.825588 ┆ … ┆ null      ┆ null      ┆ 406.09932 ┆ 68       │\n",
       "│           ┆           ┆           ┆           ┆   ┆           ┆           ┆ 8         ┆          │\n",
       "│ 480001    ┆ Water     ┆ 1         ┆ 21.016423 ┆ … ┆ 173.40877 ┆ null      ┆ 410.47651 ┆ 14       │\n",
       "│           ┆           ┆           ┆           ┆   ┆           ┆           ┆ 3         ┆          │\n",
       "│ 480001    ┆ Water     ┆ 2         ┆ 83.739797 ┆ … ┆ null      ┆ null      ┆ 409.71822 ┆ 57       │\n",
       "│           ┆           ┆           ┆           ┆   ┆           ┆           ┆ 2         ┆          │\n",
       "└───────────┴───────────┴───────────┴───────────┴───┴───────────┴───────────┴───────────┴──────────┘"
      ]
     },
     "execution_count": 12,
     "metadata": {},
     "output_type": "execute_result"
    }
   ],
   "source": [
    "percent_tank_full = (pl.col(\"volume\") / pl.col(\"capacity\") * 100).round().cast(pl.UInt8)\n",
    "final_lf = final_lf.with_columns(percent_tank_full.alias(\"percent_full\"))\n",
    "\n",
    "final_lf.collect()"
   ]
  },
  {
   "cell_type": "code",
   "execution_count": 13,
   "metadata": {},
   "outputs": [
    {
     "data": {
      "text/html": [
       "<div><style>\n",
       ".dataframe > thead > tr,\n",
       ".dataframe > tbody > tr {\n",
       "  text-align: right;\n",
       "  white-space: pre-wrap;\n",
       "}\n",
       "</style>\n",
       "<small>shape: (4, 9)</small><table border=\"1\" class=\"dataframe\"><thead><tr><th>property_id</th><th>tank_type</th><th>tank_number</th><th>level</th><th>volume</th><th>inches_to_esd</th><th>time_until_esd</th><th>capacity</th><th>percent_full</th></tr><tr><td>str</td><td>str</td><td>u8</td><td>f64</td><td>f64</td><td>f64</td><td>f64</td><td>f64</td><td>u8</td></tr></thead><tbody><tr><td>&quot;480001&quot;</td><td>&quot;Oil&quot;</td><td>1</td><td>81.727208</td><td>227.020022</td><td>66.518221</td><td>null</td><td>413.0</td><td>55</td></tr><tr><td>&quot;480001&quot;</td><td>&quot;Oil&quot;</td><td>2</td><td>98.825588</td><td>274.515522</td><td>null</td><td>null</td><td>406.0</td><td>68</td></tr><tr><td>&quot;480001&quot;</td><td>&quot;Water&quot;</td><td>1</td><td>21.016423</td><td>58.378953</td><td>173.40877</td><td>null</td><td>410.0</td><td>14</td></tr><tr><td>&quot;480001&quot;</td><td>&quot;Water&quot;</td><td>2</td><td>83.739797</td><td>232.610547</td><td>null</td><td>null</td><td>410.0</td><td>57</td></tr></tbody></table></div>"
      ],
      "text/plain": [
       "shape: (4, 9)\n",
       "┌───────────┬───────────┬───────────┬───────────┬───┬───────────┬───────────┬──────────┬───────────┐\n",
       "│ property_ ┆ tank_type ┆ tank_numb ┆ level     ┆ … ┆ inches_to ┆ time_unti ┆ capacity ┆ percent_f │\n",
       "│ id        ┆ ---       ┆ er        ┆ ---       ┆   ┆ _esd      ┆ l_esd     ┆ ---      ┆ ull       │\n",
       "│ ---       ┆ str       ┆ ---       ┆ f64       ┆   ┆ ---       ┆ ---       ┆ f64      ┆ ---       │\n",
       "│ str       ┆           ┆ u8        ┆           ┆   ┆ f64       ┆ f64       ┆          ┆ u8        │\n",
       "╞═══════════╪═══════════╪═══════════╪═══════════╪═══╪═══════════╪═══════════╪══════════╪═══════════╡\n",
       "│ 480001    ┆ Oil       ┆ 1         ┆ 81.727208 ┆ … ┆ 66.518221 ┆ null      ┆ 413.0    ┆ 55        │\n",
       "│ 480001    ┆ Oil       ┆ 2         ┆ 98.825588 ┆ … ┆ null      ┆ null      ┆ 406.0    ┆ 68        │\n",
       "│ 480001    ┆ Water     ┆ 1         ┆ 21.016423 ┆ … ┆ 173.40877 ┆ null      ┆ 410.0    ┆ 14        │\n",
       "│ 480001    ┆ Water     ┆ 2         ┆ 83.739797 ┆ … ┆ null      ┆ null      ┆ 410.0    ┆ 57        │\n",
       "└───────────┴───────────┴───────────┴───────────┴───┴───────────┴───────────┴──────────┴───────────┘"
      ]
     },
     "execution_count": 13,
     "metadata": {},
     "output_type": "execute_result"
    }
   ],
   "source": [
    "capacity_rounded = pl.col(\"capacity\").round()\n",
    "final_lf = final_lf.with_columns(capacity_rounded.alias(\"capacity\"))\n",
    "\n",
    "final_lf.collect()"
   ]
  },
  {
   "cell_type": "code",
   "execution_count": 14,
   "metadata": {},
   "outputs": [
    {
     "data": {
      "text/html": [
       "<div><style>\n",
       ".dataframe > thead > tr,\n",
       ".dataframe > tbody > tr {\n",
       "  text-align: right;\n",
       "  white-space: pre-wrap;\n",
       "}\n",
       "</style>\n",
       "<small>shape: (4, 9)</small><table border=\"1\" class=\"dataframe\"><thead><tr><th>property_id</th><th>tank_type</th><th>tank_number</th><th>level</th><th>volume</th><th>inches_to_esd</th><th>time_until_esd</th><th>capacity</th><th>percent_full</th></tr><tr><td>str</td><td>str</td><td>u8</td><td>f64</td><td>u64</td><td>f64</td><td>f64</td><td>f64</td><td>u8</td></tr></thead><tbody><tr><td>&quot;480001&quot;</td><td>&quot;Oil&quot;</td><td>1</td><td>81.727208</td><td>227</td><td>66.518221</td><td>null</td><td>413.0</td><td>55</td></tr><tr><td>&quot;480001&quot;</td><td>&quot;Oil&quot;</td><td>2</td><td>98.825588</td><td>275</td><td>null</td><td>null</td><td>406.0</td><td>68</td></tr><tr><td>&quot;480001&quot;</td><td>&quot;Water&quot;</td><td>1</td><td>21.016423</td><td>58</td><td>173.40877</td><td>null</td><td>410.0</td><td>14</td></tr><tr><td>&quot;480001&quot;</td><td>&quot;Water&quot;</td><td>2</td><td>83.739797</td><td>233</td><td>null</td><td>null</td><td>410.0</td><td>57</td></tr></tbody></table></div>"
      ],
      "text/plain": [
       "shape: (4, 9)\n",
       "┌───────────┬───────────┬───────────┬───────────┬───┬───────────┬───────────┬──────────┬───────────┐\n",
       "│ property_ ┆ tank_type ┆ tank_numb ┆ level     ┆ … ┆ inches_to ┆ time_unti ┆ capacity ┆ percent_f │\n",
       "│ id        ┆ ---       ┆ er        ┆ ---       ┆   ┆ _esd      ┆ l_esd     ┆ ---      ┆ ull       │\n",
       "│ ---       ┆ str       ┆ ---       ┆ f64       ┆   ┆ ---       ┆ ---       ┆ f64      ┆ ---       │\n",
       "│ str       ┆           ┆ u8        ┆           ┆   ┆ f64       ┆ f64       ┆          ┆ u8        │\n",
       "╞═══════════╪═══════════╪═══════════╪═══════════╪═══╪═══════════╪═══════════╪══════════╪═══════════╡\n",
       "│ 480001    ┆ Oil       ┆ 1         ┆ 81.727208 ┆ … ┆ 66.518221 ┆ null      ┆ 413.0    ┆ 55        │\n",
       "│ 480001    ┆ Oil       ┆ 2         ┆ 98.825588 ┆ … ┆ null      ┆ null      ┆ 406.0    ┆ 68        │\n",
       "│ 480001    ┆ Water     ┆ 1         ┆ 21.016423 ┆ … ┆ 173.40877 ┆ null      ┆ 410.0    ┆ 14        │\n",
       "│ 480001    ┆ Water     ┆ 2         ┆ 83.739797 ┆ … ┆ null      ┆ null      ┆ 410.0    ┆ 57        │\n",
       "└───────────┴───────────┴───────────┴───────────┴───┴───────────┴───────────┴──────────┴───────────┘"
      ]
     },
     "execution_count": 14,
     "metadata": {},
     "output_type": "execute_result"
    }
   ],
   "source": [
    "volume_to_feet = pl.col(\"volume\").round().cast(pl.UInt64)\n",
    "\n",
    "final_lf = final_lf.with_columns(volume_to_feet.alias(\"volume\"))\n",
    "\n",
    "final_lf.collect()"
   ]
  }
 ],
 "metadata": {
  "kernelspec": {
   "display_name": "tank-project-9-HCZibD-py3.12",
   "language": "python",
   "name": "python3"
  },
  "language_info": {
   "codemirror_mode": {
    "name": "ipython",
    "version": 3
   },
   "file_extension": ".py",
   "mimetype": "text/x-python",
   "name": "python",
   "nbconvert_exporter": "python",
   "pygments_lexer": "ipython3",
   "version": "3.12.2"
  }
 },
 "nbformat": 4,
 "nbformat_minor": 2
}
