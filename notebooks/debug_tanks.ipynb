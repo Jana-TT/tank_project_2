{
 "cells": [
  {
   "cell_type": "code",
   "execution_count": 2,
   "metadata": {},
   "outputs": [
    {
     "data": {
      "text/html": [
       "<div><style>\n",
       ".dataframe > thead > tr,\n",
       ".dataframe > tbody > tr {\n",
       "  text-align: right;\n",
       "  white-space: pre-wrap;\n",
       "}\n",
       "</style>\n",
       "<small>shape: (14, 7)</small><table border=\"1\" class=\"dataframe\"><thead><tr><th>primo_id</th><th>scada_id</th><th>metric_nice_name</th><th>unique_id</th><th>uom</th><th>timestamp</th><th>value</th></tr><tr><td>str</td><td>str</td><td>str</td><td>object</td><td>str</td><td>datetime[μs]</td><td>f64</td></tr></thead><tbody><tr><td>&quot;98743&quot;</td><td>&quot;9874303&quot;</td><td>&quot;OilTank3Volume&quot;</td><td>03da9be5-603d-41fe-9750-9912cbbb3d9c</td><td>&quot;bbl&quot;</td><td>2024-03-06 04:11:03.447424</td><td>0.053431</td></tr><tr><td>&quot;98743&quot;</td><td>&quot;98743FAC&quot;</td><td>&quot;ESD-WaterTankInchesUntilAlarm&quot;</td><td>2099e404-65fb-45a7-a0f7-d61611ef4b2c</td><td>&quot;in&quot;</td><td>2024-03-06 04:15:21.870747</td><td>203.940865</td></tr><tr><td>&quot;98743&quot;</td><td>&quot;9874301&quot;</td><td>&quot;OilTank1Volume&quot;</td><td>22594084-61ec-4c68-8a6d-bb5a0549ca96</td><td>&quot;bbl&quot;</td><td>2024-03-06 04:11:23.348001</td><td>254.343449</td></tr><tr><td>&quot;98743&quot;</td><td>&quot;9874302&quot;</td><td>&quot;OilTank2Level&quot;</td><td>395bae9a-3fbc-4618-b55a-54d81e322e18</td><td>&quot;in&quot;</td><td>2024-03-06 04:14:37.850008</td><td>105.227232</td></tr><tr><td>&quot;98743&quot;</td><td>&quot;98743FAC&quot;</td><td>&quot;ESD-OilTankInchesUntilAlarm&quot;</td><td>6d884ea0-cc9a-49a4-a73a-037eef3d2d14</td><td>&quot;in&quot;</td><td>2024-03-06 04:11:07.373313</td><td>395.101262</td></tr><tr><td>&hellip;</td><td>&hellip;</td><td>&hellip;</td><td>&hellip;</td><td>&hellip;</td><td>&hellip;</td><td>&hellip;</td></tr><tr><td>&quot;98743&quot;</td><td>&quot;98743W1&quot;</td><td>&quot;WaterTank1Volume&quot;</td><td>a0344de9-5574-4617-a3cd-42b00e59826d</td><td>&quot;bbl&quot;</td><td>2024-03-06 04:15:23.114434</td><td>267.388301</td></tr><tr><td>&quot;98743&quot;</td><td>&quot;9874301&quot;</td><td>&quot;OilTank1Level&quot;</td><td>dab4845a-93d0-4259-b44a-eb909f5b2eec</td><td>&quot;in&quot;</td><td>2024-03-06 04:11:23.348001</td><td>91.563642</td></tr><tr><td>&quot;98743&quot;</td><td>&quot;98743FAC&quot;</td><td>&quot;ESD-WaterTankID&quot;</td><td>de925327-bbae-4c3d-b93c-c65094656a58</td><td>null</td><td>2023-11-07 09:00:00</td><td>1.0</td></tr><tr><td>&quot;98743&quot;</td><td>&quot;98743W2&quot;</td><td>&quot;WaterTank2Volume&quot;</td><td>f8a8c53d-1a7d-41a8-ac11-1202ea35fb0b</td><td>&quot;bbl&quot;</td><td>2024-03-06 04:12:51.208327</td><td>182.731649</td></tr><tr><td>&quot;98743&quot;</td><td>&quot;98743W1&quot;</td><td>&quot;WaterTank1Level&quot;</td><td>f9dba55d-c34f-4cdc-92a6-49c4f9cd314c</td><td>&quot;in&quot;</td><td>2024-03-06 04:15:23.114434</td><td>96.259788</td></tr></tbody></table></div>"
      ],
      "text/plain": [
       "shape: (14, 7)\n",
       "┌──────────┬──────────┬──────────────────┬──────────────────┬──────┬──────────────────┬────────────┐\n",
       "│ primo_id ┆ scada_id ┆ metric_nice_name ┆ unique_id        ┆ uom  ┆ timestamp        ┆ value      │\n",
       "│ ---      ┆ ---      ┆ ---              ┆ ---              ┆ ---  ┆ ---              ┆ ---        │\n",
       "│ str      ┆ str      ┆ str              ┆ object           ┆ str  ┆ datetime[μs]     ┆ f64        │\n",
       "╞══════════╪══════════╪══════════════════╪══════════════════╪══════╪══════════════════╪════════════╡\n",
       "│ 98743    ┆ 9874303  ┆ OilTank3Volume   ┆ 03da9be5-603d-41 ┆ bbl  ┆ 2024-03-06       ┆ 0.053431   │\n",
       "│          ┆          ┆                  ┆ fe-9750-9912cb…  ┆      ┆ 04:11:03.447424  ┆            │\n",
       "│ 98743    ┆ 98743FAC ┆ ESD-WaterTankInc ┆ 2099e404-65fb-45 ┆ in   ┆ 2024-03-06       ┆ 203.940865 │\n",
       "│          ┆          ┆ hesUntilAlarm    ┆ a7-a0f7-d61611…  ┆      ┆ 04:15:21.870747  ┆            │\n",
       "│ 98743    ┆ 9874301  ┆ OilTank1Volume   ┆ 22594084-61ec-4c ┆ bbl  ┆ 2024-03-06       ┆ 254.343449 │\n",
       "│          ┆          ┆                  ┆ 68-8a6d-bb5a05…  ┆      ┆ 04:11:23.348001  ┆            │\n",
       "│ 98743    ┆ 9874302  ┆ OilTank2Level    ┆ 395bae9a-3fbc-46 ┆ in   ┆ 2024-03-06       ┆ 105.227232 │\n",
       "│          ┆          ┆                  ┆ 18-b55a-54d81e…  ┆      ┆ 04:14:37.850008  ┆            │\n",
       "│ 98743    ┆ 98743FAC ┆ ESD-OilTankInche ┆ 6d884ea0-cc9a-49 ┆ in   ┆ 2024-03-06       ┆ 395.101262 │\n",
       "│          ┆          ┆ sUntilAlarm      ┆ a4-a73a-037eef…  ┆      ┆ 04:11:07.373313  ┆            │\n",
       "│ …        ┆ …        ┆ …                ┆ …                ┆ …    ┆ …                ┆ …          │\n",
       "│ 98743    ┆ 98743W1  ┆ WaterTank1Volume ┆ a0344de9-5574-46 ┆ bbl  ┆ 2024-03-06       ┆ 267.388301 │\n",
       "│          ┆          ┆                  ┆ 17-a3cd-42b00e…  ┆      ┆ 04:15:23.114434  ┆            │\n",
       "│ 98743    ┆ 9874301  ┆ OilTank1Level    ┆ dab4845a-93d0-42 ┆ in   ┆ 2024-03-06       ┆ 91.563642  │\n",
       "│          ┆          ┆                  ┆ 59-b44a-eb909f…  ┆      ┆ 04:11:23.348001  ┆            │\n",
       "│ 98743    ┆ 98743FAC ┆ ESD-WaterTankID  ┆ de925327-bbae-4c ┆ null ┆ 2023-11-07       ┆ 1.0        │\n",
       "│          ┆          ┆                  ┆ 3d-b93c-c65094…  ┆      ┆ 09:00:00         ┆            │\n",
       "│ 98743    ┆ 98743W2  ┆ WaterTank2Volume ┆ f8a8c53d-1a7d-41 ┆ bbl  ┆ 2024-03-06       ┆ 182.731649 │\n",
       "│          ┆          ┆                  ┆ a8-ac11-1202ea…  ┆      ┆ 04:12:51.208327  ┆            │\n",
       "│ 98743    ┆ 98743W1  ┆ WaterTank1Level  ┆ f9dba55d-c34f-4c ┆ in   ┆ 2024-03-06       ┆ 96.259788  │\n",
       "│          ┆          ┆                  ┆ dc-92a6-49c4f9…  ┆      ┆ 04:15:23.114434  ┆            │\n",
       "└──────────┴──────────┴──────────────────┴──────────────────┴──────┴──────────────────┴────────────┘"
      ]
     },
     "execution_count": 2,
     "metadata": {},
     "output_type": "execute_result"
    }
   ],
   "source": [
    "import polars as pl\n",
    "from src.main import GetTanksReq, fetch_tank_data\n",
    "\n",
    "req = GetTanksReq(primo_ids={\"98743\"})\n",
    "\n",
    "df = await fetch_tank_data(req)\n",
    "if df is None:\n",
    "    raise ValueError(\"df is None\")\n",
    "lf = df.lazy()\n",
    "lf.collect()"
   ]
  },
  {
   "cell_type": "code",
   "execution_count": 3,
   "metadata": {},
   "outputs": [
    {
     "data": {
      "text/html": [
       "<div><style>\n",
       ".dataframe > thead > tr,\n",
       ".dataframe > tbody > tr {\n",
       "  text-align: right;\n",
       "  white-space: pre-wrap;\n",
       "}\n",
       "</style>\n",
       "<small>shape: (14, 6)</small><table border=\"1\" class=\"dataframe\"><thead><tr><th>primo_id</th><th>scada_id</th><th>metric_nice_name</th><th>uom</th><th>timestamp</th><th>value</th></tr><tr><td>str</td><td>str</td><td>str</td><td>str</td><td>datetime[μs]</td><td>f64</td></tr></thead><tbody><tr><td>&quot;98743&quot;</td><td>&quot;9874303&quot;</td><td>&quot;OilTank3Volume&quot;</td><td>&quot;bbl&quot;</td><td>2024-03-06 04:11:03.447424</td><td>0.053431</td></tr><tr><td>&quot;98743&quot;</td><td>&quot;98743FAC&quot;</td><td>&quot;ESD-WaterTankInchesUntilAlarm&quot;</td><td>&quot;in&quot;</td><td>2024-03-06 04:15:21.870747</td><td>203.940865</td></tr><tr><td>&quot;98743&quot;</td><td>&quot;9874301&quot;</td><td>&quot;OilTank1Volume&quot;</td><td>&quot;bbl&quot;</td><td>2024-03-06 04:11:23.348001</td><td>254.343449</td></tr><tr><td>&quot;98743&quot;</td><td>&quot;9874302&quot;</td><td>&quot;OilTank2Level&quot;</td><td>&quot;in&quot;</td><td>2024-03-06 04:14:37.850008</td><td>105.227232</td></tr><tr><td>&quot;98743&quot;</td><td>&quot;98743FAC&quot;</td><td>&quot;ESD-OilTankInchesUntilAlarm&quot;</td><td>&quot;in&quot;</td><td>2024-03-06 04:11:07.373313</td><td>395.101262</td></tr><tr><td>&hellip;</td><td>&hellip;</td><td>&hellip;</td><td>&hellip;</td><td>&hellip;</td><td>&hellip;</td></tr><tr><td>&quot;98743&quot;</td><td>&quot;98743W1&quot;</td><td>&quot;WaterTank1Volume&quot;</td><td>&quot;bbl&quot;</td><td>2024-03-06 04:15:23.114434</td><td>267.388301</td></tr><tr><td>&quot;98743&quot;</td><td>&quot;9874301&quot;</td><td>&quot;OilTank1Level&quot;</td><td>&quot;in&quot;</td><td>2024-03-06 04:11:23.348001</td><td>91.563642</td></tr><tr><td>&quot;98743&quot;</td><td>&quot;98743FAC&quot;</td><td>&quot;ESD-WaterTankID&quot;</td><td>null</td><td>2023-11-07 09:00:00</td><td>1.0</td></tr><tr><td>&quot;98743&quot;</td><td>&quot;98743W2&quot;</td><td>&quot;WaterTank2Volume&quot;</td><td>&quot;bbl&quot;</td><td>2024-03-06 04:12:51.208327</td><td>182.731649</td></tr><tr><td>&quot;98743&quot;</td><td>&quot;98743W1&quot;</td><td>&quot;WaterTank1Level&quot;</td><td>&quot;in&quot;</td><td>2024-03-06 04:15:23.114434</td><td>96.259788</td></tr></tbody></table></div>"
      ],
      "text/plain": [
       "shape: (14, 6)\n",
       "┌──────────┬──────────┬───────────────────────────────┬──────┬─────────────────────┬────────────┐\n",
       "│ primo_id ┆ scada_id ┆ metric_nice_name              ┆ uom  ┆ timestamp           ┆ value      │\n",
       "│ ---      ┆ ---      ┆ ---                           ┆ ---  ┆ ---                 ┆ ---        │\n",
       "│ str      ┆ str      ┆ str                           ┆ str  ┆ datetime[μs]        ┆ f64        │\n",
       "╞══════════╪══════════╪═══════════════════════════════╪══════╪═════════════════════╪════════════╡\n",
       "│ 98743    ┆ 9874303  ┆ OilTank3Volume                ┆ bbl  ┆ 2024-03-06          ┆ 0.053431   │\n",
       "│          ┆          ┆                               ┆      ┆ 04:11:03.447424     ┆            │\n",
       "│ 98743    ┆ 98743FAC ┆ ESD-WaterTankInchesUntilAlarm ┆ in   ┆ 2024-03-06          ┆ 203.940865 │\n",
       "│          ┆          ┆                               ┆      ┆ 04:15:21.870747     ┆            │\n",
       "│ 98743    ┆ 9874301  ┆ OilTank1Volume                ┆ bbl  ┆ 2024-03-06          ┆ 254.343449 │\n",
       "│          ┆          ┆                               ┆      ┆ 04:11:23.348001     ┆            │\n",
       "│ 98743    ┆ 9874302  ┆ OilTank2Level                 ┆ in   ┆ 2024-03-06          ┆ 105.227232 │\n",
       "│          ┆          ┆                               ┆      ┆ 04:14:37.850008     ┆            │\n",
       "│ 98743    ┆ 98743FAC ┆ ESD-OilTankInchesUntilAlarm   ┆ in   ┆ 2024-03-06          ┆ 395.101262 │\n",
       "│          ┆          ┆                               ┆      ┆ 04:11:07.373313     ┆            │\n",
       "│ …        ┆ …        ┆ …                             ┆ …    ┆ …                   ┆ …          │\n",
       "│ 98743    ┆ 98743W1  ┆ WaterTank1Volume              ┆ bbl  ┆ 2024-03-06          ┆ 267.388301 │\n",
       "│          ┆          ┆                               ┆      ┆ 04:15:23.114434     ┆            │\n",
       "│ 98743    ┆ 9874301  ┆ OilTank1Level                 ┆ in   ┆ 2024-03-06          ┆ 91.563642  │\n",
       "│          ┆          ┆                               ┆      ┆ 04:11:23.348001     ┆            │\n",
       "│ 98743    ┆ 98743FAC ┆ ESD-WaterTankID               ┆ null ┆ 2023-11-07 09:00:00 ┆ 1.0        │\n",
       "│ 98743    ┆ 98743W2  ┆ WaterTank2Volume              ┆ bbl  ┆ 2024-03-06          ┆ 182.731649 │\n",
       "│          ┆          ┆                               ┆      ┆ 04:12:51.208327     ┆            │\n",
       "│ 98743    ┆ 98743W1  ┆ WaterTank1Level               ┆ in   ┆ 2024-03-06          ┆ 96.259788  │\n",
       "│          ┆          ┆                               ┆      ┆ 04:15:23.114434     ┆            │\n",
       "└──────────┴──────────┴───────────────────────────────┴──────┴─────────────────────┴────────────┘"
      ]
     },
     "execution_count": 3,
     "metadata": {},
     "output_type": "execute_result"
    }
   ],
   "source": [
    "lf = lf.drop(\"unique_id\")\n",
    "lf.collect()"
   ]
  },
  {
   "cell_type": "code",
   "execution_count": 4,
   "metadata": {},
   "outputs": [
    {
     "data": {
      "text/html": [
       "<div><style>\n",
       ".dataframe > thead > tr,\n",
       ".dataframe > tbody > tr {\n",
       "  text-align: right;\n",
       "  white-space: pre-wrap;\n",
       "}\n",
       "</style>\n",
       "<small>shape: (14, 7)</small><table border=\"1\" class=\"dataframe\"><thead><tr><th>primo_id</th><th>scada_id</th><th>metric_nice_name</th><th>uom</th><th>timestamp</th><th>value</th><th>separated_metrics</th></tr><tr><td>str</td><td>str</td><td>str</td><td>str</td><td>datetime[μs]</td><td>f64</td><td>struct[4]</td></tr></thead><tbody><tr><td>&quot;98743&quot;</td><td>&quot;9874303&quot;</td><td>&quot;OilTank3Volume&quot;</td><td>&quot;bbl&quot;</td><td>2024-03-06 04:11:03.447424</td><td>0.053431</td><td>{null,&quot;Oil&quot;,&quot;3&quot;,&quot;Volume&quot;}</td></tr><tr><td>&quot;98743&quot;</td><td>&quot;98743FAC&quot;</td><td>&quot;ESD-WaterTankInchesUntilAlarm&quot;</td><td>&quot;in&quot;</td><td>2024-03-06 04:15:21.870747</td><td>203.940865</td><td>{&quot;ESD-&quot;,&quot;Water&quot;,&quot;&quot;,&quot;InchesUntilAlarm&quot;}</td></tr><tr><td>&quot;98743&quot;</td><td>&quot;9874301&quot;</td><td>&quot;OilTank1Volume&quot;</td><td>&quot;bbl&quot;</td><td>2024-03-06 04:11:23.348001</td><td>254.343449</td><td>{null,&quot;Oil&quot;,&quot;1&quot;,&quot;Volume&quot;}</td></tr><tr><td>&quot;98743&quot;</td><td>&quot;9874302&quot;</td><td>&quot;OilTank2Level&quot;</td><td>&quot;in&quot;</td><td>2024-03-06 04:14:37.850008</td><td>105.227232</td><td>{null,&quot;Oil&quot;,&quot;2&quot;,&quot;Level&quot;}</td></tr><tr><td>&quot;98743&quot;</td><td>&quot;98743FAC&quot;</td><td>&quot;ESD-OilTankInchesUntilAlarm&quot;</td><td>&quot;in&quot;</td><td>2024-03-06 04:11:07.373313</td><td>395.101262</td><td>{&quot;ESD-&quot;,&quot;Oil&quot;,&quot;&quot;,&quot;InchesUntilAlarm&quot;}</td></tr><tr><td>&hellip;</td><td>&hellip;</td><td>&hellip;</td><td>&hellip;</td><td>&hellip;</td><td>&hellip;</td><td>&hellip;</td></tr><tr><td>&quot;98743&quot;</td><td>&quot;98743W1&quot;</td><td>&quot;WaterTank1Volume&quot;</td><td>&quot;bbl&quot;</td><td>2024-03-06 04:15:23.114434</td><td>267.388301</td><td>{null,&quot;Water&quot;,&quot;1&quot;,&quot;Volume&quot;}</td></tr><tr><td>&quot;98743&quot;</td><td>&quot;9874301&quot;</td><td>&quot;OilTank1Level&quot;</td><td>&quot;in&quot;</td><td>2024-03-06 04:11:23.348001</td><td>91.563642</td><td>{null,&quot;Oil&quot;,&quot;1&quot;,&quot;Level&quot;}</td></tr><tr><td>&quot;98743&quot;</td><td>&quot;98743FAC&quot;</td><td>&quot;ESD-WaterTankID&quot;</td><td>null</td><td>2023-11-07 09:00:00</td><td>1.0</td><td>{&quot;ESD-&quot;,&quot;Water&quot;,&quot;&quot;,&quot;ID&quot;}</td></tr><tr><td>&quot;98743&quot;</td><td>&quot;98743W2&quot;</td><td>&quot;WaterTank2Volume&quot;</td><td>&quot;bbl&quot;</td><td>2024-03-06 04:12:51.208327</td><td>182.731649</td><td>{null,&quot;Water&quot;,&quot;2&quot;,&quot;Volume&quot;}</td></tr><tr><td>&quot;98743&quot;</td><td>&quot;98743W1&quot;</td><td>&quot;WaterTank1Level&quot;</td><td>&quot;in&quot;</td><td>2024-03-06 04:15:23.114434</td><td>96.259788</td><td>{null,&quot;Water&quot;,&quot;1&quot;,&quot;Level&quot;}</td></tr></tbody></table></div>"
      ],
      "text/plain": [
       "shape: (14, 7)\n",
       "┌──────────┬──────────┬──────────────────┬──────┬──────────────────┬────────────┬──────────────────┐\n",
       "│ primo_id ┆ scada_id ┆ metric_nice_name ┆ uom  ┆ timestamp        ┆ value      ┆ separated_metric │\n",
       "│ ---      ┆ ---      ┆ ---              ┆ ---  ┆ ---              ┆ ---        ┆ s                │\n",
       "│ str      ┆ str      ┆ str              ┆ str  ┆ datetime[μs]     ┆ f64        ┆ ---              │\n",
       "│          ┆          ┆                  ┆      ┆                  ┆            ┆ struct[4]        │\n",
       "╞══════════╪══════════╪══════════════════╪══════╪══════════════════╪════════════╪══════════════════╡\n",
       "│ 98743    ┆ 9874303  ┆ OilTank3Volume   ┆ bbl  ┆ 2024-03-06       ┆ 0.053431   ┆ {null,\"Oil\",\"3\", │\n",
       "│          ┆          ┆                  ┆      ┆ 04:11:03.447424  ┆            ┆ \"Volume\"}        │\n",
       "│ 98743    ┆ 98743FAC ┆ ESD-WaterTankInc ┆ in   ┆ 2024-03-06       ┆ 203.940865 ┆ {\"ESD-\",\"Water\", │\n",
       "│          ┆          ┆ hesUntilAlarm    ┆      ┆ 04:15:21.870747  ┆            ┆ \"\",\"InchesUnti…  │\n",
       "│ 98743    ┆ 9874301  ┆ OilTank1Volume   ┆ bbl  ┆ 2024-03-06       ┆ 254.343449 ┆ {null,\"Oil\",\"1\", │\n",
       "│          ┆          ┆                  ┆      ┆ 04:11:23.348001  ┆            ┆ \"Volume\"}        │\n",
       "│ 98743    ┆ 9874302  ┆ OilTank2Level    ┆ in   ┆ 2024-03-06       ┆ 105.227232 ┆ {null,\"Oil\",\"2\", │\n",
       "│          ┆          ┆                  ┆      ┆ 04:14:37.850008  ┆            ┆ \"Level\"}         │\n",
       "│ 98743    ┆ 98743FAC ┆ ESD-OilTankInche ┆ in   ┆ 2024-03-06       ┆ 395.101262 ┆ {\"ESD-\",\"Oil\",\"\" │\n",
       "│          ┆          ┆ sUntilAlarm      ┆      ┆ 04:11:07.373313  ┆            ┆ ,\"InchesUntilA…  │\n",
       "│ …        ┆ …        ┆ …                ┆ …    ┆ …                ┆ …          ┆ …                │\n",
       "│ 98743    ┆ 98743W1  ┆ WaterTank1Volume ┆ bbl  ┆ 2024-03-06       ┆ 267.388301 ┆ {null,\"Water\",\"1 │\n",
       "│          ┆          ┆                  ┆      ┆ 04:15:23.114434  ┆            ┆ \",\"Volume\"}      │\n",
       "│ 98743    ┆ 9874301  ┆ OilTank1Level    ┆ in   ┆ 2024-03-06       ┆ 91.563642  ┆ {null,\"Oil\",\"1\", │\n",
       "│          ┆          ┆                  ┆      ┆ 04:11:23.348001  ┆            ┆ \"Level\"}         │\n",
       "│ 98743    ┆ 98743FAC ┆ ESD-WaterTankID  ┆ null ┆ 2023-11-07       ┆ 1.0        ┆ {\"ESD-\",\"Water\", │\n",
       "│          ┆          ┆                  ┆      ┆ 09:00:00         ┆            ┆ \"\",\"ID\"}         │\n",
       "│ 98743    ┆ 98743W2  ┆ WaterTank2Volume ┆ bbl  ┆ 2024-03-06       ┆ 182.731649 ┆ {null,\"Water\",\"2 │\n",
       "│          ┆          ┆                  ┆      ┆ 04:12:51.208327  ┆            ┆ \",\"Volume\"}      │\n",
       "│ 98743    ┆ 98743W1  ┆ WaterTank1Level  ┆ in   ┆ 2024-03-06       ┆ 96.259788  ┆ {null,\"Water\",\"1 │\n",
       "│          ┆          ┆                  ┆      ┆ 04:15:23.114434  ┆            ┆ \",\"Level\"}       │\n",
       "└──────────┴──────────┴──────────────────┴──────┴──────────────────┴────────────┴──────────────────┘"
      ]
     },
     "execution_count": 4,
     "metadata": {},
     "output_type": "execute_result"
    }
   ],
   "source": [
    "tank_metrics = [\"Level\", \"Volume\", \"InchesUntilAlarm\", \"InchesToESD\", \"TimeUntilESD\", \"Capacity\", \"ID\"]\n",
    "tank_types = [\"Water\", \"Oil\"]\n",
    "\n",
    "tank_metrics_str= \"|\".join(tank_metrics)\n",
    "tank_types_str = \"|\".join(tank_types)\n",
    "\n",
    "pattern = f'^(?<is_ESD>ESD-)?(?<tank_type>{tank_types_str})Tank(?<tank_number>[0-9]*)(?<tank_metric>{tank_metrics_str})'\n",
    "\n",
    "lf = lf.with_columns(separated_metrics = pl.col(\"metric_nice_name\").str.extract_groups(pattern))\n",
    "lf.collect()"
   ]
  },
  {
   "cell_type": "code",
   "execution_count": 5,
   "metadata": {},
   "outputs": [
    {
     "data": {
      "text/html": [
       "<div><style>\n",
       ".dataframe > thead > tr,\n",
       ".dataframe > tbody > tr {\n",
       "  text-align: right;\n",
       "  white-space: pre-wrap;\n",
       "}\n",
       "</style>\n",
       "<small>shape: (14, 10)</small><table border=\"1\" class=\"dataframe\"><thead><tr><th>primo_id</th><th>scada_id</th><th>metric_nice_name</th><th>uom</th><th>timestamp</th><th>value</th><th>is_ESD</th><th>tank_type</th><th>tank_number</th><th>tank_metric</th></tr><tr><td>str</td><td>str</td><td>str</td><td>str</td><td>datetime[μs]</td><td>f64</td><td>str</td><td>str</td><td>str</td><td>str</td></tr></thead><tbody><tr><td>&quot;98743&quot;</td><td>&quot;9874303&quot;</td><td>&quot;OilTank3Volume&quot;</td><td>&quot;bbl&quot;</td><td>2024-03-06 04:11:03.447424</td><td>0.053431</td><td>null</td><td>&quot;Oil&quot;</td><td>&quot;3&quot;</td><td>&quot;Volume&quot;</td></tr><tr><td>&quot;98743&quot;</td><td>&quot;98743FAC&quot;</td><td>&quot;ESD-WaterTankInchesUntilAlarm&quot;</td><td>&quot;in&quot;</td><td>2024-03-06 04:15:21.870747</td><td>203.940865</td><td>&quot;ESD-&quot;</td><td>&quot;Water&quot;</td><td>&quot;&quot;</td><td>&quot;InchesUntilAlarm&quot;</td></tr><tr><td>&quot;98743&quot;</td><td>&quot;9874301&quot;</td><td>&quot;OilTank1Volume&quot;</td><td>&quot;bbl&quot;</td><td>2024-03-06 04:11:23.348001</td><td>254.343449</td><td>null</td><td>&quot;Oil&quot;</td><td>&quot;1&quot;</td><td>&quot;Volume&quot;</td></tr><tr><td>&quot;98743&quot;</td><td>&quot;9874302&quot;</td><td>&quot;OilTank2Level&quot;</td><td>&quot;in&quot;</td><td>2024-03-06 04:14:37.850008</td><td>105.227232</td><td>null</td><td>&quot;Oil&quot;</td><td>&quot;2&quot;</td><td>&quot;Level&quot;</td></tr><tr><td>&quot;98743&quot;</td><td>&quot;98743FAC&quot;</td><td>&quot;ESD-OilTankInchesUntilAlarm&quot;</td><td>&quot;in&quot;</td><td>2024-03-06 04:11:07.373313</td><td>395.101262</td><td>&quot;ESD-&quot;</td><td>&quot;Oil&quot;</td><td>&quot;&quot;</td><td>&quot;InchesUntilAlarm&quot;</td></tr><tr><td>&hellip;</td><td>&hellip;</td><td>&hellip;</td><td>&hellip;</td><td>&hellip;</td><td>&hellip;</td><td>&hellip;</td><td>&hellip;</td><td>&hellip;</td><td>&hellip;</td></tr><tr><td>&quot;98743&quot;</td><td>&quot;98743W1&quot;</td><td>&quot;WaterTank1Volume&quot;</td><td>&quot;bbl&quot;</td><td>2024-03-06 04:15:23.114434</td><td>267.388301</td><td>null</td><td>&quot;Water&quot;</td><td>&quot;1&quot;</td><td>&quot;Volume&quot;</td></tr><tr><td>&quot;98743&quot;</td><td>&quot;9874301&quot;</td><td>&quot;OilTank1Level&quot;</td><td>&quot;in&quot;</td><td>2024-03-06 04:11:23.348001</td><td>91.563642</td><td>null</td><td>&quot;Oil&quot;</td><td>&quot;1&quot;</td><td>&quot;Level&quot;</td></tr><tr><td>&quot;98743&quot;</td><td>&quot;98743FAC&quot;</td><td>&quot;ESD-WaterTankID&quot;</td><td>null</td><td>2023-11-07 09:00:00</td><td>1.0</td><td>&quot;ESD-&quot;</td><td>&quot;Water&quot;</td><td>&quot;&quot;</td><td>&quot;ID&quot;</td></tr><tr><td>&quot;98743&quot;</td><td>&quot;98743W2&quot;</td><td>&quot;WaterTank2Volume&quot;</td><td>&quot;bbl&quot;</td><td>2024-03-06 04:12:51.208327</td><td>182.731649</td><td>null</td><td>&quot;Water&quot;</td><td>&quot;2&quot;</td><td>&quot;Volume&quot;</td></tr><tr><td>&quot;98743&quot;</td><td>&quot;98743W1&quot;</td><td>&quot;WaterTank1Level&quot;</td><td>&quot;in&quot;</td><td>2024-03-06 04:15:23.114434</td><td>96.259788</td><td>null</td><td>&quot;Water&quot;</td><td>&quot;1&quot;</td><td>&quot;Level&quot;</td></tr></tbody></table></div>"
      ],
      "text/plain": [
       "shape: (14, 10)\n",
       "┌──────────┬──────────┬───────────────┬──────┬───┬────────┬───────────┬─────────────┬──────────────┐\n",
       "│ primo_id ┆ scada_id ┆ metric_nice_n ┆ uom  ┆ … ┆ is_ESD ┆ tank_type ┆ tank_number ┆ tank_metric  │\n",
       "│ ---      ┆ ---      ┆ ame           ┆ ---  ┆   ┆ ---    ┆ ---       ┆ ---         ┆ ---          │\n",
       "│ str      ┆ str      ┆ ---           ┆ str  ┆   ┆ str    ┆ str       ┆ str         ┆ str          │\n",
       "│          ┆          ┆ str           ┆      ┆   ┆        ┆           ┆             ┆              │\n",
       "╞══════════╪══════════╪═══════════════╪══════╪═══╪════════╪═══════════╪═════════════╪══════════════╡\n",
       "│ 98743    ┆ 9874303  ┆ OilTank3Volum ┆ bbl  ┆ … ┆ null   ┆ Oil       ┆ 3           ┆ Volume       │\n",
       "│          ┆          ┆ e             ┆      ┆   ┆        ┆           ┆             ┆              │\n",
       "│ 98743    ┆ 98743FAC ┆ ESD-WaterTank ┆ in   ┆ … ┆ ESD-   ┆ Water     ┆             ┆ InchesUntilA │\n",
       "│          ┆          ┆ InchesUntilAl ┆      ┆   ┆        ┆           ┆             ┆ larm         │\n",
       "│          ┆          ┆ arm           ┆      ┆   ┆        ┆           ┆             ┆              │\n",
       "│ 98743    ┆ 9874301  ┆ OilTank1Volum ┆ bbl  ┆ … ┆ null   ┆ Oil       ┆ 1           ┆ Volume       │\n",
       "│          ┆          ┆ e             ┆      ┆   ┆        ┆           ┆             ┆              │\n",
       "│ 98743    ┆ 9874302  ┆ OilTank2Level ┆ in   ┆ … ┆ null   ┆ Oil       ┆ 2           ┆ Level        │\n",
       "│ 98743    ┆ 98743FAC ┆ ESD-OilTankIn ┆ in   ┆ … ┆ ESD-   ┆ Oil       ┆             ┆ InchesUntilA │\n",
       "│          ┆          ┆ chesUntilAlar ┆      ┆   ┆        ┆           ┆             ┆ larm         │\n",
       "│          ┆          ┆ m             ┆      ┆   ┆        ┆           ┆             ┆              │\n",
       "│ …        ┆ …        ┆ …             ┆ …    ┆ … ┆ …      ┆ …         ┆ …           ┆ …            │\n",
       "│ 98743    ┆ 98743W1  ┆ WaterTank1Vol ┆ bbl  ┆ … ┆ null   ┆ Water     ┆ 1           ┆ Volume       │\n",
       "│          ┆          ┆ ume           ┆      ┆   ┆        ┆           ┆             ┆              │\n",
       "│ 98743    ┆ 9874301  ┆ OilTank1Level ┆ in   ┆ … ┆ null   ┆ Oil       ┆ 1           ┆ Level        │\n",
       "│ 98743    ┆ 98743FAC ┆ ESD-WaterTank ┆ null ┆ … ┆ ESD-   ┆ Water     ┆             ┆ ID           │\n",
       "│          ┆          ┆ ID            ┆      ┆   ┆        ┆           ┆             ┆              │\n",
       "│ 98743    ┆ 98743W2  ┆ WaterTank2Vol ┆ bbl  ┆ … ┆ null   ┆ Water     ┆ 2           ┆ Volume       │\n",
       "│          ┆          ┆ ume           ┆      ┆   ┆        ┆           ┆             ┆              │\n",
       "│ 98743    ┆ 98743W1  ┆ WaterTank1Lev ┆ in   ┆ … ┆ null   ┆ Water     ┆ 1           ┆ Level        │\n",
       "│          ┆          ┆ el            ┆      ┆   ┆        ┆           ┆             ┆              │\n",
       "└──────────┴──────────┴───────────────┴──────┴───┴────────┴───────────┴─────────────┴──────────────┘"
      ]
     },
     "execution_count": 5,
     "metadata": {},
     "output_type": "execute_result"
    }
   ],
   "source": [
    "#unnesting the new columns we created\n",
    "\n",
    "lf = lf.unnest(\"separated_metrics\")\n",
    "lf.collect()"
   ]
  },
  {
   "cell_type": "code",
   "execution_count": 6,
   "metadata": {},
   "outputs": [
    {
     "data": {
      "text/html": [
       "<div><style>\n",
       ".dataframe > thead > tr,\n",
       ".dataframe > tbody > tr {\n",
       "  text-align: right;\n",
       "  white-space: pre-wrap;\n",
       "}\n",
       "</style>\n",
       "<small>shape: (14, 10)</small><table border=\"1\" class=\"dataframe\"><thead><tr><th>primo_id</th><th>scada_id</th><th>metric_nice_name</th><th>uom</th><th>timestamp</th><th>value</th><th>is_ESD</th><th>tank_type</th><th>tank_number</th><th>tank_metric</th></tr><tr><td>str</td><td>str</td><td>str</td><td>str</td><td>datetime[μs]</td><td>f64</td><td>str</td><td>str</td><td>u8</td><td>str</td></tr></thead><tbody><tr><td>&quot;98743&quot;</td><td>&quot;9874303&quot;</td><td>&quot;OilTank3Volume&quot;</td><td>&quot;bbl&quot;</td><td>2024-03-06 04:11:03.447424</td><td>0.053431</td><td>null</td><td>&quot;Oil&quot;</td><td>3</td><td>&quot;Volume&quot;</td></tr><tr><td>&quot;98743&quot;</td><td>&quot;98743FAC&quot;</td><td>&quot;ESD-WaterTankInchesUntilAlarm&quot;</td><td>&quot;in&quot;</td><td>2024-03-06 04:15:21.870747</td><td>203.940865</td><td>&quot;ESD-&quot;</td><td>&quot;Water&quot;</td><td>null</td><td>&quot;InchesUntilAlarm&quot;</td></tr><tr><td>&quot;98743&quot;</td><td>&quot;9874301&quot;</td><td>&quot;OilTank1Volume&quot;</td><td>&quot;bbl&quot;</td><td>2024-03-06 04:11:23.348001</td><td>254.343449</td><td>null</td><td>&quot;Oil&quot;</td><td>1</td><td>&quot;Volume&quot;</td></tr><tr><td>&quot;98743&quot;</td><td>&quot;9874302&quot;</td><td>&quot;OilTank2Level&quot;</td><td>&quot;in&quot;</td><td>2024-03-06 04:14:37.850008</td><td>105.227232</td><td>null</td><td>&quot;Oil&quot;</td><td>2</td><td>&quot;Level&quot;</td></tr><tr><td>&quot;98743&quot;</td><td>&quot;98743FAC&quot;</td><td>&quot;ESD-OilTankInchesUntilAlarm&quot;</td><td>&quot;in&quot;</td><td>2024-03-06 04:11:07.373313</td><td>395.101262</td><td>&quot;ESD-&quot;</td><td>&quot;Oil&quot;</td><td>null</td><td>&quot;InchesUntilAlarm&quot;</td></tr><tr><td>&hellip;</td><td>&hellip;</td><td>&hellip;</td><td>&hellip;</td><td>&hellip;</td><td>&hellip;</td><td>&hellip;</td><td>&hellip;</td><td>&hellip;</td><td>&hellip;</td></tr><tr><td>&quot;98743&quot;</td><td>&quot;98743W1&quot;</td><td>&quot;WaterTank1Volume&quot;</td><td>&quot;bbl&quot;</td><td>2024-03-06 04:15:23.114434</td><td>267.388301</td><td>null</td><td>&quot;Water&quot;</td><td>1</td><td>&quot;Volume&quot;</td></tr><tr><td>&quot;98743&quot;</td><td>&quot;9874301&quot;</td><td>&quot;OilTank1Level&quot;</td><td>&quot;in&quot;</td><td>2024-03-06 04:11:23.348001</td><td>91.563642</td><td>null</td><td>&quot;Oil&quot;</td><td>1</td><td>&quot;Level&quot;</td></tr><tr><td>&quot;98743&quot;</td><td>&quot;98743FAC&quot;</td><td>&quot;ESD-WaterTankID&quot;</td><td>null</td><td>2023-11-07 09:00:00</td><td>1.0</td><td>&quot;ESD-&quot;</td><td>&quot;Water&quot;</td><td>null</td><td>&quot;ID&quot;</td></tr><tr><td>&quot;98743&quot;</td><td>&quot;98743W2&quot;</td><td>&quot;WaterTank2Volume&quot;</td><td>&quot;bbl&quot;</td><td>2024-03-06 04:12:51.208327</td><td>182.731649</td><td>null</td><td>&quot;Water&quot;</td><td>2</td><td>&quot;Volume&quot;</td></tr><tr><td>&quot;98743&quot;</td><td>&quot;98743W1&quot;</td><td>&quot;WaterTank1Level&quot;</td><td>&quot;in&quot;</td><td>2024-03-06 04:15:23.114434</td><td>96.259788</td><td>null</td><td>&quot;Water&quot;</td><td>1</td><td>&quot;Level&quot;</td></tr></tbody></table></div>"
      ],
      "text/plain": [
       "shape: (14, 10)\n",
       "┌──────────┬──────────┬───────────────┬──────┬───┬────────┬───────────┬─────────────┬──────────────┐\n",
       "│ primo_id ┆ scada_id ┆ metric_nice_n ┆ uom  ┆ … ┆ is_ESD ┆ tank_type ┆ tank_number ┆ tank_metric  │\n",
       "│ ---      ┆ ---      ┆ ame           ┆ ---  ┆   ┆ ---    ┆ ---       ┆ ---         ┆ ---          │\n",
       "│ str      ┆ str      ┆ ---           ┆ str  ┆   ┆ str    ┆ str       ┆ u8          ┆ str          │\n",
       "│          ┆          ┆ str           ┆      ┆   ┆        ┆           ┆             ┆              │\n",
       "╞══════════╪══════════╪═══════════════╪══════╪═══╪════════╪═══════════╪═════════════╪══════════════╡\n",
       "│ 98743    ┆ 9874303  ┆ OilTank3Volum ┆ bbl  ┆ … ┆ null   ┆ Oil       ┆ 3           ┆ Volume       │\n",
       "│          ┆          ┆ e             ┆      ┆   ┆        ┆           ┆             ┆              │\n",
       "│ 98743    ┆ 98743FAC ┆ ESD-WaterTank ┆ in   ┆ … ┆ ESD-   ┆ Water     ┆ null        ┆ InchesUntilA │\n",
       "│          ┆          ┆ InchesUntilAl ┆      ┆   ┆        ┆           ┆             ┆ larm         │\n",
       "│          ┆          ┆ arm           ┆      ┆   ┆        ┆           ┆             ┆              │\n",
       "│ 98743    ┆ 9874301  ┆ OilTank1Volum ┆ bbl  ┆ … ┆ null   ┆ Oil       ┆ 1           ┆ Volume       │\n",
       "│          ┆          ┆ e             ┆      ┆   ┆        ┆           ┆             ┆              │\n",
       "│ 98743    ┆ 9874302  ┆ OilTank2Level ┆ in   ┆ … ┆ null   ┆ Oil       ┆ 2           ┆ Level        │\n",
       "│ 98743    ┆ 98743FAC ┆ ESD-OilTankIn ┆ in   ┆ … ┆ ESD-   ┆ Oil       ┆ null        ┆ InchesUntilA │\n",
       "│          ┆          ┆ chesUntilAlar ┆      ┆   ┆        ┆           ┆             ┆ larm         │\n",
       "│          ┆          ┆ m             ┆      ┆   ┆        ┆           ┆             ┆              │\n",
       "│ …        ┆ …        ┆ …             ┆ …    ┆ … ┆ …      ┆ …         ┆ …           ┆ …            │\n",
       "│ 98743    ┆ 98743W1  ┆ WaterTank1Vol ┆ bbl  ┆ … ┆ null   ┆ Water     ┆ 1           ┆ Volume       │\n",
       "│          ┆          ┆ ume           ┆      ┆   ┆        ┆           ┆             ┆              │\n",
       "│ 98743    ┆ 9874301  ┆ OilTank1Level ┆ in   ┆ … ┆ null   ┆ Oil       ┆ 1           ┆ Level        │\n",
       "│ 98743    ┆ 98743FAC ┆ ESD-WaterTank ┆ null ┆ … ┆ ESD-   ┆ Water     ┆ null        ┆ ID           │\n",
       "│          ┆          ┆ ID            ┆      ┆   ┆        ┆           ┆             ┆              │\n",
       "│ 98743    ┆ 98743W2  ┆ WaterTank2Vol ┆ bbl  ┆ … ┆ null   ┆ Water     ┆ 2           ┆ Volume       │\n",
       "│          ┆          ┆ ume           ┆      ┆   ┆        ┆           ┆             ┆              │\n",
       "│ 98743    ┆ 98743W1  ┆ WaterTank1Lev ┆ in   ┆ … ┆ null   ┆ Water     ┆ 1           ┆ Level        │\n",
       "│          ┆          ┆ el            ┆      ┆   ┆        ┆           ┆             ┆              │\n",
       "└──────────┴──────────┴───────────────┴──────┴───┴────────┴───────────┴─────────────┴──────────────┘"
      ]
     },
     "execution_count": 6,
     "metadata": {},
     "output_type": "execute_result"
    }
   ],
   "source": [
    "#casting the tank_number column into an int\n",
    "\n",
    "lf = lf.with_columns(pl.col(\"tank_number\").cast(pl.UInt8, strict=False))\n",
    "lf.collect()"
   ]
  },
  {
   "cell_type": "code",
   "execution_count": 7,
   "metadata": {},
   "outputs": [
    {
     "data": {
      "text/html": [
       "<div><style>\n",
       ".dataframe > thead > tr,\n",
       ".dataframe > tbody > tr {\n",
       "  text-align: right;\n",
       "  white-space: pre-wrap;\n",
       "}\n",
       "</style>\n",
       "<small>shape: (7, 10)</small><table border=\"1\" class=\"dataframe\"><thead><tr><th>primo_id</th><th>tank_type</th><th>tank_number</th><th>Level</th><th>Volume</th><th>InchesUntilAlarm</th><th>InchesToESD</th><th>TimeUntilESD</th><th>Capacity</th><th>ID</th></tr><tr><td>str</td><td>str</td><td>u8</td><td>f64</td><td>f64</td><td>f64</td><td>f64</td><td>f64</td><td>f64</td><td>f64</td></tr></thead><tbody><tr><td>&quot;98743&quot;</td><td>&quot;Water&quot;</td><td>null</td><td>null</td><td>null</td><td>203.940865</td><td>null</td><td>null</td><td>null</td><td>1.0</td></tr><tr><td>&quot;98743&quot;</td><td>&quot;Oil&quot;</td><td>1</td><td>91.563642</td><td>254.343449</td><td>null</td><td>null</td><td>null</td><td>null</td><td>null</td></tr><tr><td>&quot;98743&quot;</td><td>&quot;Oil&quot;</td><td>2</td><td>105.227232</td><td>292.297867</td><td>null</td><td>null</td><td>null</td><td>null</td><td>null</td></tr><tr><td>&quot;98743&quot;</td><td>&quot;Water&quot;</td><td>2</td><td>65.783394</td><td>182.731649</td><td>null</td><td>null</td><td>null</td><td>null</td><td>null</td></tr><tr><td>&quot;98743&quot;</td><td>&quot;Water&quot;</td><td>1</td><td>96.259788</td><td>267.388301</td><td>null</td><td>null</td><td>null</td><td>null</td><td>null</td></tr><tr><td>&quot;98743&quot;</td><td>&quot;Oil&quot;</td><td>3</td><td>0.019235</td><td>0.053431</td><td>null</td><td>null</td><td>null</td><td>null</td><td>null</td></tr><tr><td>&quot;98743&quot;</td><td>&quot;Oil&quot;</td><td>null</td><td>null</td><td>null</td><td>395.101262</td><td>null</td><td>null</td><td>null</td><td>2.0</td></tr></tbody></table></div>"
      ],
      "text/plain": [
       "shape: (7, 10)\n",
       "┌──────────┬───────────┬─────────────┬────────────┬───┬─────────────┬────────────┬──────────┬──────┐\n",
       "│ primo_id ┆ tank_type ┆ tank_number ┆ Level      ┆ … ┆ InchesToESD ┆ TimeUntilE ┆ Capacity ┆ ID   │\n",
       "│ ---      ┆ ---       ┆ ---         ┆ ---        ┆   ┆ ---         ┆ SD         ┆ ---      ┆ ---  │\n",
       "│ str      ┆ str       ┆ u8          ┆ f64        ┆   ┆ f64         ┆ ---        ┆ f64      ┆ f64  │\n",
       "│          ┆           ┆             ┆            ┆   ┆             ┆ f64        ┆          ┆      │\n",
       "╞══════════╪═══════════╪═════════════╪════════════╪═══╪═════════════╪════════════╪══════════╪══════╡\n",
       "│ 98743    ┆ Water     ┆ null        ┆ null       ┆ … ┆ null        ┆ null       ┆ null     ┆ 1.0  │\n",
       "│ 98743    ┆ Oil       ┆ 1           ┆ 91.563642  ┆ … ┆ null        ┆ null       ┆ null     ┆ null │\n",
       "│ 98743    ┆ Oil       ┆ 2           ┆ 105.227232 ┆ … ┆ null        ┆ null       ┆ null     ┆ null │\n",
       "│ 98743    ┆ Water     ┆ 2           ┆ 65.783394  ┆ … ┆ null        ┆ null       ┆ null     ┆ null │\n",
       "│ 98743    ┆ Water     ┆ 1           ┆ 96.259788  ┆ … ┆ null        ┆ null       ┆ null     ┆ null │\n",
       "│ 98743    ┆ Oil       ┆ 3           ┆ 0.019235   ┆ … ┆ null        ┆ null       ┆ null     ┆ null │\n",
       "│ 98743    ┆ Oil       ┆ null        ┆ null       ┆ … ┆ null        ┆ null       ┆ null     ┆ 2.0  │\n",
       "└──────────┴───────────┴─────────────┴────────────┴───┴─────────────┴────────────┴──────────┴──────┘"
      ]
     },
     "execution_count": 7,
     "metadata": {},
     "output_type": "execute_result"
    }
   ],
   "source": [
    "#https://docs.pola.rs/py-polars/html/reference/dataframe/api/polars.DataFrame.pivot.html#polars.DataF3rame.pivot\n",
    "\n",
    "values = pl.col(\"value\")\n",
    "columns = pl.col(\"tank_metric\")\n",
    "\n",
    "lf = lf.group_by(\"primo_id\", \"tank_type\", \"tank_number\").agg(values.filter(columns == metric).first().alias(metric) for metric in tank_metrics)\n",
    "lf.collect()"
   ]
  },
  {
   "cell_type": "code",
   "execution_count": 8,
   "metadata": {},
   "outputs": [
    {
     "data": {
      "text/html": [
       "<div><style>\n",
       ".dataframe > thead > tr,\n",
       ".dataframe > tbody > tr {\n",
       "  text-align: right;\n",
       "  white-space: pre-wrap;\n",
       "}\n",
       "</style>\n",
       "<small>shape: (7, 10)</small><table border=\"1\" class=\"dataframe\"><thead><tr><th>primo_id</th><th>tank_type</th><th>tank_number</th><th>Level</th><th>Volume</th><th>InchesUntilAlarm</th><th>InchesToESD</th><th>TimeUntilESD</th><th>Capacity</th><th>ID</th></tr><tr><td>str</td><td>str</td><td>u8</td><td>f64</td><td>f64</td><td>f64</td><td>f64</td><td>f64</td><td>f64</td><td>f64</td></tr></thead><tbody><tr><td>&quot;98743&quot;</td><td>&quot;Oil&quot;</td><td>null</td><td>null</td><td>null</td><td>395.101262</td><td>null</td><td>null</td><td>null</td><td>2.0</td></tr><tr><td>&quot;98743&quot;</td><td>&quot;Oil&quot;</td><td>1</td><td>91.563642</td><td>254.343449</td><td>null</td><td>null</td><td>null</td><td>null</td><td>null</td></tr><tr><td>&quot;98743&quot;</td><td>&quot;Oil&quot;</td><td>2</td><td>105.227232</td><td>292.297867</td><td>null</td><td>null</td><td>null</td><td>null</td><td>null</td></tr><tr><td>&quot;98743&quot;</td><td>&quot;Oil&quot;</td><td>3</td><td>0.019235</td><td>0.053431</td><td>null</td><td>null</td><td>null</td><td>null</td><td>null</td></tr><tr><td>&quot;98743&quot;</td><td>&quot;Water&quot;</td><td>null</td><td>null</td><td>null</td><td>203.940865</td><td>null</td><td>null</td><td>null</td><td>1.0</td></tr><tr><td>&quot;98743&quot;</td><td>&quot;Water&quot;</td><td>1</td><td>96.259788</td><td>267.388301</td><td>null</td><td>null</td><td>null</td><td>null</td><td>null</td></tr><tr><td>&quot;98743&quot;</td><td>&quot;Water&quot;</td><td>2</td><td>65.783394</td><td>182.731649</td><td>null</td><td>null</td><td>null</td><td>null</td><td>null</td></tr></tbody></table></div>"
      ],
      "text/plain": [
       "shape: (7, 10)\n",
       "┌──────────┬───────────┬─────────────┬────────────┬───┬─────────────┬────────────┬──────────┬──────┐\n",
       "│ primo_id ┆ tank_type ┆ tank_number ┆ Level      ┆ … ┆ InchesToESD ┆ TimeUntilE ┆ Capacity ┆ ID   │\n",
       "│ ---      ┆ ---       ┆ ---         ┆ ---        ┆   ┆ ---         ┆ SD         ┆ ---      ┆ ---  │\n",
       "│ str      ┆ str       ┆ u8          ┆ f64        ┆   ┆ f64         ┆ ---        ┆ f64      ┆ f64  │\n",
       "│          ┆           ┆             ┆            ┆   ┆             ┆ f64        ┆          ┆      │\n",
       "╞══════════╪═══════════╪═════════════╪════════════╪═══╪═════════════╪════════════╪══════════╪══════╡\n",
       "│ 98743    ┆ Oil       ┆ null        ┆ null       ┆ … ┆ null        ┆ null       ┆ null     ┆ 2.0  │\n",
       "│ 98743    ┆ Oil       ┆ 1           ┆ 91.563642  ┆ … ┆ null        ┆ null       ┆ null     ┆ null │\n",
       "│ 98743    ┆ Oil       ┆ 2           ┆ 105.227232 ┆ … ┆ null        ┆ null       ┆ null     ┆ null │\n",
       "│ 98743    ┆ Oil       ┆ 3           ┆ 0.019235   ┆ … ┆ null        ┆ null       ┆ null     ┆ null │\n",
       "│ 98743    ┆ Water     ┆ null        ┆ null       ┆ … ┆ null        ┆ null       ┆ null     ┆ 1.0  │\n",
       "│ 98743    ┆ Water     ┆ 1           ┆ 96.259788  ┆ … ┆ null        ┆ null       ┆ null     ┆ null │\n",
       "│ 98743    ┆ Water     ┆ 2           ┆ 65.783394  ┆ … ┆ null        ┆ null       ┆ null     ┆ null │\n",
       "└──────────┴───────────┴─────────────┴────────────┴───┴─────────────┴────────────┴──────────┴──────┘"
      ]
     },
     "execution_count": 8,
     "metadata": {},
     "output_type": "execute_result"
    }
   ],
   "source": [
    "lf = lf.sort(\"primo_id\", \"tank_type\", \"tank_number\")\n",
    "lf.collect()"
   ]
  },
  {
   "cell_type": "code",
   "execution_count": 9,
   "metadata": {},
   "outputs": [],
   "source": [
    "#lf = lf.with_columns(pl.all().fill_null(0))\n",
    "#lf.collect()"
   ]
  },
  {
   "cell_type": "code",
   "execution_count": 10,
   "metadata": {},
   "outputs": [
    {
     "data": {
      "text/html": [
       "<div><style>\n",
       ".dataframe > thead > tr,\n",
       ".dataframe > tbody > tr {\n",
       "  text-align: right;\n",
       "  white-space: pre-wrap;\n",
       "}\n",
       "</style>\n",
       "<small>shape: (7, 10)</small><table border=\"1\" class=\"dataframe\"><thead><tr><th>primo_id</th><th>tank_type</th><th>tank_number</th><th>Level</th><th>Volume</th><th>InchesUntilAlarm</th><th>InchesToESD</th><th>TimeUntilESD</th><th>Capacity</th><th>ID</th></tr><tr><td>str</td><td>str</td><td>u8</td><td>f64</td><td>f64</td><td>f64</td><td>f64</td><td>f64</td><td>f64</td><td>f64</td></tr></thead><tbody><tr><td>&quot;98743&quot;</td><td>&quot;Oil&quot;</td><td>null</td><td>null</td><td>null</td><td>395.101262</td><td>395.101262</td><td>null</td><td>null</td><td>2.0</td></tr><tr><td>&quot;98743&quot;</td><td>&quot;Oil&quot;</td><td>1</td><td>91.563642</td><td>254.343449</td><td>null</td><td>null</td><td>null</td><td>null</td><td>null</td></tr><tr><td>&quot;98743&quot;</td><td>&quot;Oil&quot;</td><td>2</td><td>105.227232</td><td>292.297867</td><td>null</td><td>null</td><td>null</td><td>null</td><td>null</td></tr><tr><td>&quot;98743&quot;</td><td>&quot;Oil&quot;</td><td>3</td><td>0.019235</td><td>0.053431</td><td>null</td><td>null</td><td>null</td><td>null</td><td>null</td></tr><tr><td>&quot;98743&quot;</td><td>&quot;Water&quot;</td><td>null</td><td>null</td><td>null</td><td>203.940865</td><td>203.940865</td><td>null</td><td>null</td><td>1.0</td></tr><tr><td>&quot;98743&quot;</td><td>&quot;Water&quot;</td><td>1</td><td>96.259788</td><td>267.388301</td><td>null</td><td>null</td><td>null</td><td>null</td><td>null</td></tr><tr><td>&quot;98743&quot;</td><td>&quot;Water&quot;</td><td>2</td><td>65.783394</td><td>182.731649</td><td>null</td><td>null</td><td>null</td><td>null</td><td>null</td></tr></tbody></table></div>"
      ],
      "text/plain": [
       "shape: (7, 10)\n",
       "┌──────────┬───────────┬─────────────┬────────────┬───┬─────────────┬────────────┬──────────┬──────┐\n",
       "│ primo_id ┆ tank_type ┆ tank_number ┆ Level      ┆ … ┆ InchesToESD ┆ TimeUntilE ┆ Capacity ┆ ID   │\n",
       "│ ---      ┆ ---       ┆ ---         ┆ ---        ┆   ┆ ---         ┆ SD         ┆ ---      ┆ ---  │\n",
       "│ str      ┆ str       ┆ u8          ┆ f64        ┆   ┆ f64         ┆ ---        ┆ f64      ┆ f64  │\n",
       "│          ┆           ┆             ┆            ┆   ┆             ┆ f64        ┆          ┆      │\n",
       "╞══════════╪═══════════╪═════════════╪════════════╪═══╪═════════════╪════════════╪══════════╪══════╡\n",
       "│ 98743    ┆ Oil       ┆ null        ┆ null       ┆ … ┆ 395.101262  ┆ null       ┆ null     ┆ 2.0  │\n",
       "│ 98743    ┆ Oil       ┆ 1           ┆ 91.563642  ┆ … ┆ null        ┆ null       ┆ null     ┆ null │\n",
       "│ 98743    ┆ Oil       ┆ 2           ┆ 105.227232 ┆ … ┆ null        ┆ null       ┆ null     ┆ null │\n",
       "│ 98743    ┆ Oil       ┆ 3           ┆ 0.019235   ┆ … ┆ null        ┆ null       ┆ null     ┆ null │\n",
       "│ 98743    ┆ Water     ┆ null        ┆ null       ┆ … ┆ 203.940865  ┆ null       ┆ null     ┆ 1.0  │\n",
       "│ 98743    ┆ Water     ┆ 1           ┆ 96.259788  ┆ … ┆ null        ┆ null       ┆ null     ┆ null │\n",
       "│ 98743    ┆ Water     ┆ 2           ┆ 65.783394  ┆ … ┆ null        ┆ null       ┆ null     ┆ null │\n",
       "└──────────┴───────────┴─────────────┴────────────┴───┴─────────────┴────────────┴──────────┴──────┘"
      ]
     },
     "execution_count": 10,
     "metadata": {},
     "output_type": "execute_result"
    }
   ],
   "source": [
    "lf = lf.with_columns(pl.col(\"InchesUntilAlarm\").alias(\"InchesToESD\"))\n",
    "lf.collect()"
   ]
  },
  {
   "cell_type": "code",
   "execution_count": 11,
   "metadata": {},
   "outputs": [
    {
     "data": {
      "text/html": [
       "<div><style>\n",
       ".dataframe > thead > tr,\n",
       ".dataframe > tbody > tr {\n",
       "  text-align: right;\n",
       "  white-space: pre-wrap;\n",
       "}\n",
       "</style>\n",
       "<small>shape: (7, 9)</small><table border=\"1\" class=\"dataframe\"><thead><tr><th>primo_id</th><th>tank_type</th><th>tank_number</th><th>Level</th><th>Volume</th><th>InchesToESD</th><th>TimeUntilESD</th><th>Capacity</th><th>ID</th></tr><tr><td>str</td><td>str</td><td>u8</td><td>f64</td><td>f64</td><td>f64</td><td>f64</td><td>f64</td><td>f64</td></tr></thead><tbody><tr><td>&quot;98743&quot;</td><td>&quot;Oil&quot;</td><td>null</td><td>null</td><td>null</td><td>395.101262</td><td>null</td><td>null</td><td>2.0</td></tr><tr><td>&quot;98743&quot;</td><td>&quot;Oil&quot;</td><td>1</td><td>91.563642</td><td>254.343449</td><td>null</td><td>null</td><td>null</td><td>null</td></tr><tr><td>&quot;98743&quot;</td><td>&quot;Oil&quot;</td><td>2</td><td>105.227232</td><td>292.297867</td><td>null</td><td>null</td><td>null</td><td>null</td></tr><tr><td>&quot;98743&quot;</td><td>&quot;Oil&quot;</td><td>3</td><td>0.019235</td><td>0.053431</td><td>null</td><td>null</td><td>null</td><td>null</td></tr><tr><td>&quot;98743&quot;</td><td>&quot;Water&quot;</td><td>null</td><td>null</td><td>null</td><td>203.940865</td><td>null</td><td>null</td><td>1.0</td></tr><tr><td>&quot;98743&quot;</td><td>&quot;Water&quot;</td><td>1</td><td>96.259788</td><td>267.388301</td><td>null</td><td>null</td><td>null</td><td>null</td></tr><tr><td>&quot;98743&quot;</td><td>&quot;Water&quot;</td><td>2</td><td>65.783394</td><td>182.731649</td><td>null</td><td>null</td><td>null</td><td>null</td></tr></tbody></table></div>"
      ],
      "text/plain": [
       "shape: (7, 9)\n",
       "┌──────────┬───────────┬─────────────┬────────────┬───┬─────────────┬────────────┬──────────┬──────┐\n",
       "│ primo_id ┆ tank_type ┆ tank_number ┆ Level      ┆ … ┆ InchesToESD ┆ TimeUntilE ┆ Capacity ┆ ID   │\n",
       "│ ---      ┆ ---       ┆ ---         ┆ ---        ┆   ┆ ---         ┆ SD         ┆ ---      ┆ ---  │\n",
       "│ str      ┆ str       ┆ u8          ┆ f64        ┆   ┆ f64         ┆ ---        ┆ f64      ┆ f64  │\n",
       "│          ┆           ┆             ┆            ┆   ┆             ┆ f64        ┆          ┆      │\n",
       "╞══════════╪═══════════╪═════════════╪════════════╪═══╪═════════════╪════════════╪══════════╪══════╡\n",
       "│ 98743    ┆ Oil       ┆ null        ┆ null       ┆ … ┆ 395.101262  ┆ null       ┆ null     ┆ 2.0  │\n",
       "│ 98743    ┆ Oil       ┆ 1           ┆ 91.563642  ┆ … ┆ null        ┆ null       ┆ null     ┆ null │\n",
       "│ 98743    ┆ Oil       ┆ 2           ┆ 105.227232 ┆ … ┆ null        ┆ null       ┆ null     ┆ null │\n",
       "│ 98743    ┆ Oil       ┆ 3           ┆ 0.019235   ┆ … ┆ null        ┆ null       ┆ null     ┆ null │\n",
       "│ 98743    ┆ Water     ┆ null        ┆ null       ┆ … ┆ 203.940865  ┆ null       ┆ null     ┆ 1.0  │\n",
       "│ 98743    ┆ Water     ┆ 1           ┆ 96.259788  ┆ … ┆ null        ┆ null       ┆ null     ┆ null │\n",
       "│ 98743    ┆ Water     ┆ 2           ┆ 65.783394  ┆ … ┆ null        ┆ null       ┆ null     ┆ null │\n",
       "└──────────┴───────────┴─────────────┴────────────┴───┴─────────────┴────────────┴──────────┴──────┘"
      ]
     },
     "execution_count": 11,
     "metadata": {},
     "output_type": "execute_result"
    }
   ],
   "source": [
    "lf = lf.drop(\"InchesUntilAlarm\")\n",
    "lf.collect()"
   ]
  },
  {
   "cell_type": "code",
   "execution_count": 12,
   "metadata": {},
   "outputs": [
    {
     "data": {
      "text/plain": [
       "[{'primo_id': '98743',\n",
       "  'tank_type': 'Oil',\n",
       "  'tank_number': None,\n",
       "  'Level': None,\n",
       "  'Volume': None,\n",
       "  'InchesToESD': 395.10126173502414,\n",
       "  'TimeUntilESD': None,\n",
       "  'Capacity': None,\n",
       "  'ID': 2.0},\n",
       " {'primo_id': '98743',\n",
       "  'tank_type': 'Oil',\n",
       "  'tank_number': 1,\n",
       "  'Level': 91.56364177735247,\n",
       "  'Volume': 254.3434494018821,\n",
       "  'InchesToESD': None,\n",
       "  'TimeUntilESD': None,\n",
       "  'Capacity': None,\n",
       "  'ID': None},\n",
       " {'primo_id': '98743',\n",
       "  'tank_type': 'Oil',\n",
       "  'tank_number': 2,\n",
       "  'Level': 105.22723226420521,\n",
       "  'Volume': 292.29786742395385,\n",
       "  'InchesToESD': None,\n",
       "  'TimeUntilESD': None,\n",
       "  'Capacity': None,\n",
       "  'ID': None},\n",
       " {'primo_id': '98743',\n",
       "  'tank_type': 'Oil',\n",
       "  'tank_number': 3,\n",
       "  'Level': 0.019235296405780034,\n",
       "  'Volume': 0.05343137890921905,\n",
       "  'InchesToESD': None,\n",
       "  'TimeUntilESD': None,\n",
       "  'Capacity': None,\n",
       "  'ID': None},\n",
       " {'primo_id': '98743',\n",
       "  'tank_type': 'Water',\n",
       "  'tank_number': None,\n",
       "  'Level': None,\n",
       "  'Volume': None,\n",
       "  'InchesToESD': 203.9408651839826,\n",
       "  'TimeUntilESD': None,\n",
       "  'Capacity': None,\n",
       "  'ID': 1.0},\n",
       " {'primo_id': '98743',\n",
       "  'tank_type': 'Water',\n",
       "  'tank_number': 1,\n",
       "  'Level': 96.2597881775083,\n",
       "  'Volume': 267.3883005144697,\n",
       "  'InchesToESD': None,\n",
       "  'TimeUntilESD': None,\n",
       "  'Capacity': None,\n",
       "  'ID': None},\n",
       " {'primo_id': '98743',\n",
       "  'tank_type': 'Water',\n",
       "  'tank_number': 2,\n",
       "  'Level': 65.7833935359874,\n",
       "  'Volume': 182.73164872569464,\n",
       "  'InchesToESD': None,\n",
       "  'TimeUntilESD': None,\n",
       "  'Capacity': None,\n",
       "  'ID': None}]"
      ]
     },
     "execution_count": 12,
     "metadata": {},
     "output_type": "execute_result"
    }
   ],
   "source": [
    "from src.main import transform_tank_data\n",
    "\n",
    "req = GetTanksReq(primo_ids={\"98743\"})\n",
    "\n",
    "df = await fetch_tank_data(req)\n",
    "df = transform_tank_data(df)\n",
    "if df is None:\n",
    "    raise ValueError(\"df is None\")\n",
    "df"
   ]
  }
 ],
 "metadata": {
  "kernelspec": {
   "display_name": "tank-project-9-HCZibD-py3.12",
   "language": "python",
   "name": "python3"
  },
  "language_info": {
   "codemirror_mode": {
    "name": "ipython",
    "version": 3
   },
   "file_extension": ".py",
   "mimetype": "text/x-python",
   "name": "python",
   "nbconvert_exporter": "python",
   "pygments_lexer": "ipython3",
   "version": "3.12.2"
  }
 },
 "nbformat": 4,
 "nbformat_minor": 2
}
