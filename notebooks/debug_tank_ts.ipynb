{
 "cells": [
  {
   "cell_type": "code",
   "execution_count": 21,
   "metadata": {},
   "outputs": [
    {
     "data": {
      "text/html": [
       "<div><style>\n",
       ".dataframe > thead > tr,\n",
       ".dataframe > tbody > tr {\n",
       "  text-align: right;\n",
       "  white-space: pre-wrap;\n",
       "}\n",
       "</style>\n",
       "<small>shape: (190, 6)</small><table border=\"1\" class=\"dataframe\"><thead><tr><th>key_metric</th><th>ts</th><th>value</th><th>scada_id</th><th>tank_name</th><th>uom</th></tr><tr><td>object</td><td>datetime[μs]</td><td>f64</td><td>str</td><td>str</td><td>str</td></tr></thead><tbody><tr><td>4ac0b7d9-55fe-4865-bc29-6c202ff6349e</td><td>2024-03-06 04:11:36.465651</td><td>172.663947</td><td>&quot;6941901&quot;</td><td>&quot;OilTank1Volume&quot;</td><td>&quot;bbl&quot;</td></tr><tr><td>4ac0b7d9-55fe-4865-bc29-6c202ff6349e</td><td>2024-03-06 03:11:36.465651</td><td>172.645457</td><td>&quot;6941901&quot;</td><td>&quot;OilTank1Volume&quot;</td><td>&quot;bbl&quot;</td></tr><tr><td>4ac0b7d9-55fe-4865-bc29-6c202ff6349e</td><td>2024-03-06 02:11:36.465651</td><td>172.627082</td><td>&quot;6941901&quot;</td><td>&quot;OilTank1Volume&quot;</td><td>&quot;bbl&quot;</td></tr><tr><td>4ac0b7d9-55fe-4865-bc29-6c202ff6349e</td><td>2024-03-06 01:11:36.465651</td><td>172.608948</td><td>&quot;6941901&quot;</td><td>&quot;OilTank1Volume&quot;</td><td>&quot;bbl&quot;</td></tr><tr><td>4ac0b7d9-55fe-4865-bc29-6c202ff6349e</td><td>2024-03-06 00:11:36.465651</td><td>172.591192</td><td>&quot;6941901&quot;</td><td>&quot;OilTank1Volume&quot;</td><td>&quot;bbl&quot;</td></tr><tr><td>&hellip;</td><td>&hellip;</td><td>&hellip;</td><td>&hellip;</td><td>&hellip;</td><td>&hellip;</td></tr><tr><td>b17f11ac-d318-429a-b607-a5ba24b3d6a2</td><td>2024-03-02 10:11:36.465651</td><td>70.615716</td><td>&quot;6941901&quot;</td><td>&quot;OilTank1Level&quot;</td><td>&quot;in&quot;</td></tr><tr><td>b17f11ac-d318-429a-b607-a5ba24b3d6a2</td><td>2024-03-02 09:11:36.465651</td><td>68.968335</td><td>&quot;6941901&quot;</td><td>&quot;OilTank1Level&quot;</td><td>&quot;in&quot;</td></tr><tr><td>b17f11ac-d318-429a-b607-a5ba24b3d6a2</td><td>2024-03-02 08:11:36.465651</td><td>67.289497</td><td>&quot;6941901&quot;</td><td>&quot;OilTank1Level&quot;</td><td>&quot;in&quot;</td></tr><tr><td>b17f11ac-d318-429a-b607-a5ba24b3d6a2</td><td>2024-03-02 07:11:36.465651</td><td>65.589945</td><td>&quot;6941901&quot;</td><td>&quot;OilTank1Level&quot;</td><td>&quot;in&quot;</td></tr><tr><td>b17f11ac-d318-429a-b607-a5ba24b3d6a2</td><td>2024-03-02 06:11:36.465651</td><td>63.878773</td><td>&quot;6941901&quot;</td><td>&quot;OilTank1Level&quot;</td><td>&quot;in&quot;</td></tr></tbody></table></div>"
      ],
      "text/plain": [
       "shape: (190, 6)\n",
       "┌─────────────────────────────────┬─────────────────┬────────────┬──────────┬────────────────┬─────┐\n",
       "│ key_metric                      ┆ ts              ┆ value      ┆ scada_id ┆ tank_name      ┆ uom │\n",
       "│ ---                             ┆ ---             ┆ ---        ┆ ---      ┆ ---            ┆ --- │\n",
       "│ object                          ┆ datetime[μs]    ┆ f64        ┆ str      ┆ str            ┆ str │\n",
       "╞═════════════════════════════════╪═════════════════╪════════════╪══════════╪════════════════╪═════╡\n",
       "│ 4ac0b7d9-55fe-4865-bc29-6c202f… ┆ 2024-03-06      ┆ 172.663947 ┆ 6941901  ┆ OilTank1Volume ┆ bbl │\n",
       "│                                 ┆ 04:11:36.465651 ┆            ┆          ┆                ┆     │\n",
       "│ 4ac0b7d9-55fe-4865-bc29-6c202f… ┆ 2024-03-06      ┆ 172.645457 ┆ 6941901  ┆ OilTank1Volume ┆ bbl │\n",
       "│                                 ┆ 03:11:36.465651 ┆            ┆          ┆                ┆     │\n",
       "│ 4ac0b7d9-55fe-4865-bc29-6c202f… ┆ 2024-03-06      ┆ 172.627082 ┆ 6941901  ┆ OilTank1Volume ┆ bbl │\n",
       "│                                 ┆ 02:11:36.465651 ┆            ┆          ┆                ┆     │\n",
       "│ 4ac0b7d9-55fe-4865-bc29-6c202f… ┆ 2024-03-06      ┆ 172.608948 ┆ 6941901  ┆ OilTank1Volume ┆ bbl │\n",
       "│                                 ┆ 01:11:36.465651 ┆            ┆          ┆                ┆     │\n",
       "│ 4ac0b7d9-55fe-4865-bc29-6c202f… ┆ 2024-03-06      ┆ 172.591192 ┆ 6941901  ┆ OilTank1Volume ┆ bbl │\n",
       "│                                 ┆ 00:11:36.465651 ┆            ┆          ┆                ┆     │\n",
       "│ …                               ┆ …               ┆ …          ┆ …        ┆ …              ┆ …   │\n",
       "│ b17f11ac-d318-429a-b607-a5ba24… ┆ 2024-03-02      ┆ 70.615716  ┆ 6941901  ┆ OilTank1Level  ┆ in  │\n",
       "│                                 ┆ 10:11:36.465651 ┆            ┆          ┆                ┆     │\n",
       "│ b17f11ac-d318-429a-b607-a5ba24… ┆ 2024-03-02      ┆ 68.968335  ┆ 6941901  ┆ OilTank1Level  ┆ in  │\n",
       "│                                 ┆ 09:11:36.465651 ┆            ┆          ┆                ┆     │\n",
       "│ b17f11ac-d318-429a-b607-a5ba24… ┆ 2024-03-02      ┆ 67.289497  ┆ 6941901  ┆ OilTank1Level  ┆ in  │\n",
       "│                                 ┆ 08:11:36.465651 ┆            ┆          ┆                ┆     │\n",
       "│ b17f11ac-d318-429a-b607-a5ba24… ┆ 2024-03-02      ┆ 65.589945  ┆ 6941901  ┆ OilTank1Level  ┆ in  │\n",
       "│                                 ┆ 07:11:36.465651 ┆            ┆          ┆                ┆     │\n",
       "│ b17f11ac-d318-429a-b607-a5ba24… ┆ 2024-03-02      ┆ 63.878773  ┆ 6941901  ┆ OilTank1Level  ┆ in  │\n",
       "│                                 ┆ 06:11:36.465651 ┆            ┆          ┆                ┆     │\n",
       "└─────────────────────────────────┴─────────────────┴────────────┴──────────┴────────────────┴─────┘"
      ]
     },
     "execution_count": 21,
     "metadata": {},
     "output_type": "execute_result"
    }
   ],
   "source": [
    "import polars as pl\n",
    "from src.tank_ts_endpoint import fetch_tank_ts_data, GetTanksTimeDataReq\n",
    "\n",
    "req = GetTanksTimeDataReq(scada_id='6941901')\n",
    "\n",
    "df = await fetch_tank_ts_data(req)\n",
    "if df is None:\n",
    "    raise ValueError(\"df is None\")\n",
    "lf = df.lazy()\n",
    "lf.collect()"
   ]
  },
  {
   "cell_type": "code",
   "execution_count": 22,
   "metadata": {},
   "outputs": [
    {
     "data": {
      "text/html": [
       "<div><style>\n",
       ".dataframe > thead > tr,\n",
       ".dataframe > tbody > tr {\n",
       "  text-align: right;\n",
       "  white-space: pre-wrap;\n",
       "}\n",
       "</style>\n",
       "<small>shape: (190, 10)</small><table border=\"1\" class=\"dataframe\"><thead><tr><th>key_metric</th><th>ts</th><th>value</th><th>scada_id</th><th>tank_name</th><th>uom</th><th>is_esd</th><th>tank_type</th><th>tank_number</th><th>tank_metric</th></tr><tr><td>object</td><td>datetime[μs]</td><td>f64</td><td>str</td><td>str</td><td>str</td><td>str</td><td>str</td><td>str</td><td>str</td></tr></thead><tbody><tr><td>4ac0b7d9-55fe-4865-bc29-6c202ff6349e</td><td>2024-03-06 04:11:36.465651</td><td>172.663947</td><td>&quot;6941901&quot;</td><td>&quot;OilTank1Volume&quot;</td><td>&quot;bbl&quot;</td><td>null</td><td>&quot;Oil&quot;</td><td>&quot;1&quot;</td><td>&quot;Volume&quot;</td></tr><tr><td>4ac0b7d9-55fe-4865-bc29-6c202ff6349e</td><td>2024-03-06 03:11:36.465651</td><td>172.645457</td><td>&quot;6941901&quot;</td><td>&quot;OilTank1Volume&quot;</td><td>&quot;bbl&quot;</td><td>null</td><td>&quot;Oil&quot;</td><td>&quot;1&quot;</td><td>&quot;Volume&quot;</td></tr><tr><td>4ac0b7d9-55fe-4865-bc29-6c202ff6349e</td><td>2024-03-06 02:11:36.465651</td><td>172.627082</td><td>&quot;6941901&quot;</td><td>&quot;OilTank1Volume&quot;</td><td>&quot;bbl&quot;</td><td>null</td><td>&quot;Oil&quot;</td><td>&quot;1&quot;</td><td>&quot;Volume&quot;</td></tr><tr><td>4ac0b7d9-55fe-4865-bc29-6c202ff6349e</td><td>2024-03-06 01:11:36.465651</td><td>172.608948</td><td>&quot;6941901&quot;</td><td>&quot;OilTank1Volume&quot;</td><td>&quot;bbl&quot;</td><td>null</td><td>&quot;Oil&quot;</td><td>&quot;1&quot;</td><td>&quot;Volume&quot;</td></tr><tr><td>4ac0b7d9-55fe-4865-bc29-6c202ff6349e</td><td>2024-03-06 00:11:36.465651</td><td>172.591192</td><td>&quot;6941901&quot;</td><td>&quot;OilTank1Volume&quot;</td><td>&quot;bbl&quot;</td><td>null</td><td>&quot;Oil&quot;</td><td>&quot;1&quot;</td><td>&quot;Volume&quot;</td></tr><tr><td>&hellip;</td><td>&hellip;</td><td>&hellip;</td><td>&hellip;</td><td>&hellip;</td><td>&hellip;</td><td>&hellip;</td><td>&hellip;</td><td>&hellip;</td><td>&hellip;</td></tr><tr><td>b17f11ac-d318-429a-b607-a5ba24b3d6a2</td><td>2024-03-02 10:11:36.465651</td><td>70.615716</td><td>&quot;6941901&quot;</td><td>&quot;OilTank1Level&quot;</td><td>&quot;in&quot;</td><td>null</td><td>&quot;Oil&quot;</td><td>&quot;1&quot;</td><td>&quot;Level&quot;</td></tr><tr><td>b17f11ac-d318-429a-b607-a5ba24b3d6a2</td><td>2024-03-02 09:11:36.465651</td><td>68.968335</td><td>&quot;6941901&quot;</td><td>&quot;OilTank1Level&quot;</td><td>&quot;in&quot;</td><td>null</td><td>&quot;Oil&quot;</td><td>&quot;1&quot;</td><td>&quot;Level&quot;</td></tr><tr><td>b17f11ac-d318-429a-b607-a5ba24b3d6a2</td><td>2024-03-02 08:11:36.465651</td><td>67.289497</td><td>&quot;6941901&quot;</td><td>&quot;OilTank1Level&quot;</td><td>&quot;in&quot;</td><td>null</td><td>&quot;Oil&quot;</td><td>&quot;1&quot;</td><td>&quot;Level&quot;</td></tr><tr><td>b17f11ac-d318-429a-b607-a5ba24b3d6a2</td><td>2024-03-02 07:11:36.465651</td><td>65.589945</td><td>&quot;6941901&quot;</td><td>&quot;OilTank1Level&quot;</td><td>&quot;in&quot;</td><td>null</td><td>&quot;Oil&quot;</td><td>&quot;1&quot;</td><td>&quot;Level&quot;</td></tr><tr><td>b17f11ac-d318-429a-b607-a5ba24b3d6a2</td><td>2024-03-02 06:11:36.465651</td><td>63.878773</td><td>&quot;6941901&quot;</td><td>&quot;OilTank1Level&quot;</td><td>&quot;in&quot;</td><td>null</td><td>&quot;Oil&quot;</td><td>&quot;1&quot;</td><td>&quot;Level&quot;</td></tr></tbody></table></div>"
      ],
      "text/plain": [
       "shape: (190, 10)\n",
       "┌────────────┬────────────┬────────────┬──────────┬───┬────────┬───────────┬───────────┬───────────┐\n",
       "│ key_metric ┆ ts         ┆ value      ┆ scada_id ┆ … ┆ is_esd ┆ tank_type ┆ tank_numb ┆ tank_metr │\n",
       "│ ---        ┆ ---        ┆ ---        ┆ ---      ┆   ┆ ---    ┆ ---       ┆ er        ┆ ic        │\n",
       "│ object     ┆ datetime[μ ┆ f64        ┆ str      ┆   ┆ str    ┆ str       ┆ ---       ┆ ---       │\n",
       "│            ┆ s]         ┆            ┆          ┆   ┆        ┆           ┆ str       ┆ str       │\n",
       "╞════════════╪════════════╪════════════╪══════════╪═══╪════════╪═══════════╪═══════════╪═══════════╡\n",
       "│ 4ac0b7d9-5 ┆ 2024-03-06 ┆ 172.663947 ┆ 6941901  ┆ … ┆ null   ┆ Oil       ┆ 1         ┆ Volume    │\n",
       "│ 5fe-4865-b ┆ 04:11:36.4 ┆            ┆          ┆   ┆        ┆           ┆           ┆           │\n",
       "│ c29-6c202f ┆ 65651      ┆            ┆          ┆   ┆        ┆           ┆           ┆           │\n",
       "│ …          ┆            ┆            ┆          ┆   ┆        ┆           ┆           ┆           │\n",
       "│ 4ac0b7d9-5 ┆ 2024-03-06 ┆ 172.645457 ┆ 6941901  ┆ … ┆ null   ┆ Oil       ┆ 1         ┆ Volume    │\n",
       "│ 5fe-4865-b ┆ 03:11:36.4 ┆            ┆          ┆   ┆        ┆           ┆           ┆           │\n",
       "│ c29-6c202f ┆ 65651      ┆            ┆          ┆   ┆        ┆           ┆           ┆           │\n",
       "│ …          ┆            ┆            ┆          ┆   ┆        ┆           ┆           ┆           │\n",
       "│ 4ac0b7d9-5 ┆ 2024-03-06 ┆ 172.627082 ┆ 6941901  ┆ … ┆ null   ┆ Oil       ┆ 1         ┆ Volume    │\n",
       "│ 5fe-4865-b ┆ 02:11:36.4 ┆            ┆          ┆   ┆        ┆           ┆           ┆           │\n",
       "│ c29-6c202f ┆ 65651      ┆            ┆          ┆   ┆        ┆           ┆           ┆           │\n",
       "│ …          ┆            ┆            ┆          ┆   ┆        ┆           ┆           ┆           │\n",
       "│ 4ac0b7d9-5 ┆ 2024-03-06 ┆ 172.608948 ┆ 6941901  ┆ … ┆ null   ┆ Oil       ┆ 1         ┆ Volume    │\n",
       "│ 5fe-4865-b ┆ 01:11:36.4 ┆            ┆          ┆   ┆        ┆           ┆           ┆           │\n",
       "│ c29-6c202f ┆ 65651      ┆            ┆          ┆   ┆        ┆           ┆           ┆           │\n",
       "│ …          ┆            ┆            ┆          ┆   ┆        ┆           ┆           ┆           │\n",
       "│ 4ac0b7d9-5 ┆ 2024-03-06 ┆ 172.591192 ┆ 6941901  ┆ … ┆ null   ┆ Oil       ┆ 1         ┆ Volume    │\n",
       "│ 5fe-4865-b ┆ 00:11:36.4 ┆            ┆          ┆   ┆        ┆           ┆           ┆           │\n",
       "│ c29-6c202f ┆ 65651      ┆            ┆          ┆   ┆        ┆           ┆           ┆           │\n",
       "│ …          ┆            ┆            ┆          ┆   ┆        ┆           ┆           ┆           │\n",
       "│ …          ┆ …          ┆ …          ┆ …        ┆ … ┆ …      ┆ …         ┆ …         ┆ …         │\n",
       "│ b17f11ac-d ┆ 2024-03-02 ┆ 70.615716  ┆ 6941901  ┆ … ┆ null   ┆ Oil       ┆ 1         ┆ Level     │\n",
       "│ 318-429a-b ┆ 10:11:36.4 ┆            ┆          ┆   ┆        ┆           ┆           ┆           │\n",
       "│ 607-a5ba24 ┆ 65651      ┆            ┆          ┆   ┆        ┆           ┆           ┆           │\n",
       "│ …          ┆            ┆            ┆          ┆   ┆        ┆           ┆           ┆           │\n",
       "│ b17f11ac-d ┆ 2024-03-02 ┆ 68.968335  ┆ 6941901  ┆ … ┆ null   ┆ Oil       ┆ 1         ┆ Level     │\n",
       "│ 318-429a-b ┆ 09:11:36.4 ┆            ┆          ┆   ┆        ┆           ┆           ┆           │\n",
       "│ 607-a5ba24 ┆ 65651      ┆            ┆          ┆   ┆        ┆           ┆           ┆           │\n",
       "│ …          ┆            ┆            ┆          ┆   ┆        ┆           ┆           ┆           │\n",
       "│ b17f11ac-d ┆ 2024-03-02 ┆ 67.289497  ┆ 6941901  ┆ … ┆ null   ┆ Oil       ┆ 1         ┆ Level     │\n",
       "│ 318-429a-b ┆ 08:11:36.4 ┆            ┆          ┆   ┆        ┆           ┆           ┆           │\n",
       "│ 607-a5ba24 ┆ 65651      ┆            ┆          ┆   ┆        ┆           ┆           ┆           │\n",
       "│ …          ┆            ┆            ┆          ┆   ┆        ┆           ┆           ┆           │\n",
       "│ b17f11ac-d ┆ 2024-03-02 ┆ 65.589945  ┆ 6941901  ┆ … ┆ null   ┆ Oil       ┆ 1         ┆ Level     │\n",
       "│ 318-429a-b ┆ 07:11:36.4 ┆            ┆          ┆   ┆        ┆           ┆           ┆           │\n",
       "│ 607-a5ba24 ┆ 65651      ┆            ┆          ┆   ┆        ┆           ┆           ┆           │\n",
       "│ …          ┆            ┆            ┆          ┆   ┆        ┆           ┆           ┆           │\n",
       "│ b17f11ac-d ┆ 2024-03-02 ┆ 63.878773  ┆ 6941901  ┆ … ┆ null   ┆ Oil       ┆ 1         ┆ Level     │\n",
       "│ 318-429a-b ┆ 06:11:36.4 ┆            ┆          ┆   ┆        ┆           ┆           ┆           │\n",
       "│ 607-a5ba24 ┆ 65651      ┆            ┆          ┆   ┆        ┆           ┆           ┆           │\n",
       "│ …          ┆            ┆            ┆          ┆   ┆        ┆           ┆           ┆           │\n",
       "└────────────┴────────────┴────────────┴──────────┴───┴────────┴───────────┴───────────┴───────────┘"
      ]
     },
     "execution_count": 22,
     "metadata": {},
     "output_type": "execute_result"
    }
   ],
   "source": [
    "tank_metrics = [\"Level\", \"Volume\", \"InchesUntilAlarm\", \"InchesToESD\"]\n",
    "tank_types = [\"Water\", \"Oil\"]\n",
    "\n",
    "tank_metrics_str= \"|\".join(tank_metrics)\n",
    "tank_types_str = \"|\".join(tank_types)\n",
    "\n",
    "pattern = f'^(?<is_esd>ESD-)?(?<tank_type>{tank_types_str})Tank(?<tank_number>[0-9]*)(?<tank_metric>{tank_metrics_str})'\n",
    "lf = lf.with_columns(separated_metrics = pl.col(\"tank_name\").str.extract_groups(pattern))\n",
    "lf = lf.unnest(\"separated_metrics\")\n",
    "lf.collect()"
   ]
  },
  {
   "cell_type": "code",
   "execution_count": 23,
   "metadata": {},
   "outputs": [
    {
     "data": {
      "text/html": [
       "<div><style>\n",
       ".dataframe > thead > tr,\n",
       ".dataframe > tbody > tr {\n",
       "  text-align: right;\n",
       "  white-space: pre-wrap;\n",
       "}\n",
       "</style>\n",
       "<small>shape: (190, 6)</small><table border=\"1\" class=\"dataframe\"><thead><tr><th>key_metric</th><th>ts</th><th>value</th><th>scada_id</th><th>uom</th><th>tank_metric</th></tr><tr><td>object</td><td>datetime[μs]</td><td>f64</td><td>str</td><td>str</td><td>str</td></tr></thead><tbody><tr><td>4ac0b7d9-55fe-4865-bc29-6c202ff6349e</td><td>2024-03-06 04:11:36.465651</td><td>172.663947</td><td>&quot;6941901&quot;</td><td>&quot;bbl&quot;</td><td>&quot;Volume&quot;</td></tr><tr><td>4ac0b7d9-55fe-4865-bc29-6c202ff6349e</td><td>2024-03-06 03:11:36.465651</td><td>172.645457</td><td>&quot;6941901&quot;</td><td>&quot;bbl&quot;</td><td>&quot;Volume&quot;</td></tr><tr><td>4ac0b7d9-55fe-4865-bc29-6c202ff6349e</td><td>2024-03-06 02:11:36.465651</td><td>172.627082</td><td>&quot;6941901&quot;</td><td>&quot;bbl&quot;</td><td>&quot;Volume&quot;</td></tr><tr><td>4ac0b7d9-55fe-4865-bc29-6c202ff6349e</td><td>2024-03-06 01:11:36.465651</td><td>172.608948</td><td>&quot;6941901&quot;</td><td>&quot;bbl&quot;</td><td>&quot;Volume&quot;</td></tr><tr><td>4ac0b7d9-55fe-4865-bc29-6c202ff6349e</td><td>2024-03-06 00:11:36.465651</td><td>172.591192</td><td>&quot;6941901&quot;</td><td>&quot;bbl&quot;</td><td>&quot;Volume&quot;</td></tr><tr><td>&hellip;</td><td>&hellip;</td><td>&hellip;</td><td>&hellip;</td><td>&hellip;</td><td>&hellip;</td></tr><tr><td>b17f11ac-d318-429a-b607-a5ba24b3d6a2</td><td>2024-03-02 10:11:36.465651</td><td>70.615716</td><td>&quot;6941901&quot;</td><td>&quot;in&quot;</td><td>&quot;Level&quot;</td></tr><tr><td>b17f11ac-d318-429a-b607-a5ba24b3d6a2</td><td>2024-03-02 09:11:36.465651</td><td>68.968335</td><td>&quot;6941901&quot;</td><td>&quot;in&quot;</td><td>&quot;Level&quot;</td></tr><tr><td>b17f11ac-d318-429a-b607-a5ba24b3d6a2</td><td>2024-03-02 08:11:36.465651</td><td>67.289497</td><td>&quot;6941901&quot;</td><td>&quot;in&quot;</td><td>&quot;Level&quot;</td></tr><tr><td>b17f11ac-d318-429a-b607-a5ba24b3d6a2</td><td>2024-03-02 07:11:36.465651</td><td>65.589945</td><td>&quot;6941901&quot;</td><td>&quot;in&quot;</td><td>&quot;Level&quot;</td></tr><tr><td>b17f11ac-d318-429a-b607-a5ba24b3d6a2</td><td>2024-03-02 06:11:36.465651</td><td>63.878773</td><td>&quot;6941901&quot;</td><td>&quot;in&quot;</td><td>&quot;Level&quot;</td></tr></tbody></table></div>"
      ],
      "text/plain": [
       "shape: (190, 6)\n",
       "┌─────────────────────────────────┬─────────────────┬────────────┬──────────┬─────┬─────────────┐\n",
       "│ key_metric                      ┆ ts              ┆ value      ┆ scada_id ┆ uom ┆ tank_metric │\n",
       "│ ---                             ┆ ---             ┆ ---        ┆ ---      ┆ --- ┆ ---         │\n",
       "│ object                          ┆ datetime[μs]    ┆ f64        ┆ str      ┆ str ┆ str         │\n",
       "╞═════════════════════════════════╪═════════════════╪════════════╪══════════╪═════╪═════════════╡\n",
       "│ 4ac0b7d9-55fe-4865-bc29-6c202f… ┆ 2024-03-06      ┆ 172.663947 ┆ 6941901  ┆ bbl ┆ Volume      │\n",
       "│                                 ┆ 04:11:36.465651 ┆            ┆          ┆     ┆             │\n",
       "│ 4ac0b7d9-55fe-4865-bc29-6c202f… ┆ 2024-03-06      ┆ 172.645457 ┆ 6941901  ┆ bbl ┆ Volume      │\n",
       "│                                 ┆ 03:11:36.465651 ┆            ┆          ┆     ┆             │\n",
       "│ 4ac0b7d9-55fe-4865-bc29-6c202f… ┆ 2024-03-06      ┆ 172.627082 ┆ 6941901  ┆ bbl ┆ Volume      │\n",
       "│                                 ┆ 02:11:36.465651 ┆            ┆          ┆     ┆             │\n",
       "│ 4ac0b7d9-55fe-4865-bc29-6c202f… ┆ 2024-03-06      ┆ 172.608948 ┆ 6941901  ┆ bbl ┆ Volume      │\n",
       "│                                 ┆ 01:11:36.465651 ┆            ┆          ┆     ┆             │\n",
       "│ 4ac0b7d9-55fe-4865-bc29-6c202f… ┆ 2024-03-06      ┆ 172.591192 ┆ 6941901  ┆ bbl ┆ Volume      │\n",
       "│                                 ┆ 00:11:36.465651 ┆            ┆          ┆     ┆             │\n",
       "│ …                               ┆ …               ┆ …          ┆ …        ┆ …   ┆ …           │\n",
       "│ b17f11ac-d318-429a-b607-a5ba24… ┆ 2024-03-02      ┆ 70.615716  ┆ 6941901  ┆ in  ┆ Level       │\n",
       "│                                 ┆ 10:11:36.465651 ┆            ┆          ┆     ┆             │\n",
       "│ b17f11ac-d318-429a-b607-a5ba24… ┆ 2024-03-02      ┆ 68.968335  ┆ 6941901  ┆ in  ┆ Level       │\n",
       "│                                 ┆ 09:11:36.465651 ┆            ┆          ┆     ┆             │\n",
       "│ b17f11ac-d318-429a-b607-a5ba24… ┆ 2024-03-02      ┆ 67.289497  ┆ 6941901  ┆ in  ┆ Level       │\n",
       "│                                 ┆ 08:11:36.465651 ┆            ┆          ┆     ┆             │\n",
       "│ b17f11ac-d318-429a-b607-a5ba24… ┆ 2024-03-02      ┆ 65.589945  ┆ 6941901  ┆ in  ┆ Level       │\n",
       "│                                 ┆ 07:11:36.465651 ┆            ┆          ┆     ┆             │\n",
       "│ b17f11ac-d318-429a-b607-a5ba24… ┆ 2024-03-02      ┆ 63.878773  ┆ 6941901  ┆ in  ┆ Level       │\n",
       "│                                 ┆ 06:11:36.465651 ┆            ┆          ┆     ┆             │\n",
       "└─────────────────────────────────┴─────────────────┴────────────┴──────────┴─────┴─────────────┘"
      ]
     },
     "execution_count": 23,
     "metadata": {},
     "output_type": "execute_result"
    }
   ],
   "source": [
    "lf = lf.drop(\"tank_name\", \"is_esd\", \"tank_type\", \"tank_number\")\n",
    "lf.collect()"
   ]
  },
  {
   "cell_type": "code",
   "execution_count": 24,
   "metadata": {},
   "outputs": [
    {
     "data": {
      "text/html": [
       "<div><style>\n",
       ".dataframe > thead > tr,\n",
       ".dataframe > tbody > tr {\n",
       "  text-align: right;\n",
       "  white-space: pre-wrap;\n",
       "}\n",
       "</style>\n",
       "<small>shape: (2, 5)</small><table border=\"1\" class=\"dataframe\"><thead><tr><th>key_metric</th><th>tank_metric</th><th>uom</th><th>timestamps</th><th>values</th></tr><tr><td>object</td><td>str</td><td>str</td><td>list[datetime[μs]]</td><td>list[f64]</td></tr></thead><tbody><tr><td>b17f11ac-d318-429a-b607-a5ba24b3d6a2</td><td>&quot;Level&quot;</td><td>&quot;in&quot;</td><td>[2024-03-06 04:11:36.465651, 2024-03-06 03:11:36.465651, … 2024-03-02 06:11:36.465651]</td><td>[62.159021, 62.140531, … 63.878773]</td></tr><tr><td>4ac0b7d9-55fe-4865-bc29-6c202ff6349e</td><td>&quot;Volume&quot;</td><td>&quot;bbl&quot;</td><td>[2024-03-06 04:11:36.465651, 2024-03-06 03:11:36.465651, … 2024-03-02 06:11:36.465651]</td><td>[172.663947, 172.645457, … 174.383698]</td></tr></tbody></table></div>"
      ],
      "text/plain": [
       "shape: (2, 5)\n",
       "┌────────────────────────────┬─────────────┬─────┬─────────────────────┬───────────────────────────┐\n",
       "│ key_metric                 ┆ tank_metric ┆ uom ┆ timestamps          ┆ values                    │\n",
       "│ ---                        ┆ ---         ┆ --- ┆ ---                 ┆ ---                       │\n",
       "│ object                     ┆ str         ┆ str ┆ list[datetime[μs]]  ┆ list[f64]                 │\n",
       "╞════════════════════════════╪═════════════╪═════╪═════════════════════╪═══════════════════════════╡\n",
       "│ b17f11ac-d318-429a-b607-a5 ┆ Level       ┆ in  ┆ [2024-03-06         ┆ [62.159021, 62.140531, …  │\n",
       "│ ba24…                      ┆             ┆     ┆ 04:11:36.465651, 2… ┆ 63.87…                    │\n",
       "│ 4ac0b7d9-55fe-4865-bc29-6c ┆ Volume      ┆ bbl ┆ [2024-03-06         ┆ [172.663947, 172.645457,  │\n",
       "│ 202f…                      ┆             ┆     ┆ 04:11:36.465651, 2… ┆ … 174…                    │\n",
       "└────────────────────────────┴─────────────┴─────┴─────────────────────┴───────────────────────────┘"
      ]
     },
     "execution_count": 24,
     "metadata": {},
     "output_type": "execute_result"
    }
   ],
   "source": [
    "aggregated_lf = lf.group_by([\"key_metric\", \"tank_metric\", \"uom\"]).agg([\n",
    "    pl.col(\"ts\").alias(\"timestamps\"),\n",
    "    pl.col(\"value\").alias(\"values\")\n",
    "])\n",
    "\n",
    "aggregated_lf.collect()"
   ]
  }
 ],
 "metadata": {
  "kernelspec": {
   "display_name": ".venv",
   "language": "python",
   "name": "python3"
  },
  "language_info": {
   "codemirror_mode": {
    "name": "ipython",
    "version": 3
   },
   "file_extension": ".py",
   "mimetype": "text/x-python",
   "name": "python",
   "nbconvert_exporter": "python",
   "pygments_lexer": "ipython3",
   "version": "3.12.2"
  }
 },
 "nbformat": 4,
 "nbformat_minor": 2
}
