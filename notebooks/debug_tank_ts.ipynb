{
 "cells": [
  {
   "cell_type": "code",
   "execution_count": 1,
   "metadata": {},
   "outputs": [
    {
     "data": {
      "text/html": [
       "<div><style>\n",
       ".dataframe > thead > tr,\n",
       ".dataframe > tbody > tr {\n",
       "  text-align: right;\n",
       "  white-space: pre-wrap;\n",
       "}\n",
       "</style>\n",
       "<small>shape: (6, 5)</small><table border=\"1\" class=\"dataframe\"><thead><tr><th>ts</th><th>value</th><th>scada_id</th><th>tank_name</th><th>uom</th></tr><tr><td>datetime[μs]</td><td>f64</td><td>str</td><td>str</td><td>str</td></tr></thead><tbody><tr><td>2023-12-16 00:14:23.709805</td><td>129.191933</td><td>&quot;9882701&quot;</td><td>&quot;OilTank1Volume&quot;</td><td>&quot;bbl&quot;</td></tr><tr><td>2023-10-20 06:11:00.976191</td><td>242.917252</td><td>&quot;9882701&quot;</td><td>&quot;OilTank1Volume&quot;</td><td>&quot;bbl&quot;</td></tr><tr><td>2019-02-17 18:24:15.392353</td><td>467.167758</td><td>&quot;9882701&quot;</td><td>&quot;OilTank1Volume&quot;</td><td>&quot;bbl&quot;</td></tr><tr><td>2024-01-06 21:34:39.673218</td><td>69.010569</td><td>&quot;9882701&quot;</td><td>&quot;OilTank1Level&quot;</td><td>&quot;in&quot;</td></tr><tr><td>2024-07-20 01:43:20.665138</td><td>93.046905</td><td>&quot;9882701&quot;</td><td>&quot;OilTank1Level&quot;</td><td>&quot;in&quot;</td></tr><tr><td>2017-04-13 01:06:18.038402</td><td>87.370372</td><td>&quot;9882701&quot;</td><td>&quot;OilTank1Level&quot;</td><td>&quot;in&quot;</td></tr></tbody></table></div>"
      ],
      "text/plain": [
       "shape: (6, 5)\n",
       "┌────────────────────────────┬────────────┬──────────┬────────────────┬─────┐\n",
       "│ ts                         ┆ value      ┆ scada_id ┆ tank_name      ┆ uom │\n",
       "│ ---                        ┆ ---        ┆ ---      ┆ ---            ┆ --- │\n",
       "│ datetime[μs]               ┆ f64        ┆ str      ┆ str            ┆ str │\n",
       "╞════════════════════════════╪════════════╪══════════╪════════════════╪═════╡\n",
       "│ 2023-12-16 00:14:23.709805 ┆ 129.191933 ┆ 9882701  ┆ OilTank1Volume ┆ bbl │\n",
       "│ 2023-10-20 06:11:00.976191 ┆ 242.917252 ┆ 9882701  ┆ OilTank1Volume ┆ bbl │\n",
       "│ 2019-02-17 18:24:15.392353 ┆ 467.167758 ┆ 9882701  ┆ OilTank1Volume ┆ bbl │\n",
       "│ 2024-01-06 21:34:39.673218 ┆ 69.010569  ┆ 9882701  ┆ OilTank1Level  ┆ in  │\n",
       "│ 2024-07-20 01:43:20.665138 ┆ 93.046905  ┆ 9882701  ┆ OilTank1Level  ┆ in  │\n",
       "│ 2017-04-13 01:06:18.038402 ┆ 87.370372  ┆ 9882701  ┆ OilTank1Level  ┆ in  │\n",
       "└────────────────────────────┴────────────┴──────────┴────────────────┴─────┘"
      ]
     },
     "execution_count": 1,
     "metadata": {},
     "output_type": "execute_result"
    }
   ],
   "source": [
    "import polars as pl\n",
    "from src.tank_ts_endpoint import fetch_tank_ts_data, GetTanksTimeDataReq\n",
    "\n",
    "req = GetTanksTimeDataReq(scada_id='9882701')\n",
    "\n",
    "df = await fetch_tank_ts_data(req)\n",
    "if df is None:\n",
    "    raise ValueError(\"df is None\")\n",
    "lf = df.lazy()\n",
    "lf.collect()"
   ]
  },
  {
   "cell_type": "code",
   "execution_count": 2,
   "metadata": {},
   "outputs": [
    {
     "data": {
      "text/html": [
       "<div><style>\n",
       ".dataframe > thead > tr,\n",
       ".dataframe > tbody > tr {\n",
       "  text-align: right;\n",
       "  white-space: pre-wrap;\n",
       "}\n",
       "</style>\n",
       "<small>shape: (6, 5)</small><table border=\"1\" class=\"dataframe\"><thead><tr><th>ts</th><th>value</th><th>scada_id</th><th>tank_name</th><th>uom</th></tr><tr><td>datetime[μs]</td><td>f64</td><td>str</td><td>str</td><td>str</td></tr></thead><tbody><tr><td>2023-12-16 00:14:23.709805</td><td>129.191933</td><td>&quot;9882701&quot;</td><td>&quot;OilTank1Volume&quot;</td><td>&quot;bbl&quot;</td></tr><tr><td>2023-10-20 06:11:00.976191</td><td>242.917252</td><td>&quot;9882701&quot;</td><td>&quot;OilTank1Volume&quot;</td><td>&quot;bbl&quot;</td></tr><tr><td>2019-02-17 18:24:15.392353</td><td>467.167758</td><td>&quot;9882701&quot;</td><td>&quot;OilTank1Volume&quot;</td><td>&quot;bbl&quot;</td></tr><tr><td>2024-01-06 21:34:39.673218</td><td>69.010569</td><td>&quot;9882701&quot;</td><td>&quot;OilTank1Level&quot;</td><td>&quot;in&quot;</td></tr><tr><td>2024-07-20 01:43:20.665138</td><td>93.046905</td><td>&quot;9882701&quot;</td><td>&quot;OilTank1Level&quot;</td><td>&quot;in&quot;</td></tr><tr><td>2017-04-13 01:06:18.038402</td><td>87.370372</td><td>&quot;9882701&quot;</td><td>&quot;OilTank1Level&quot;</td><td>&quot;in&quot;</td></tr></tbody></table></div>"
      ],
      "text/plain": [
       "shape: (6, 5)\n",
       "┌────────────────────────────┬────────────┬──────────┬────────────────┬─────┐\n",
       "│ ts                         ┆ value      ┆ scada_id ┆ tank_name      ┆ uom │\n",
       "│ ---                        ┆ ---        ┆ ---      ┆ ---            ┆ --- │\n",
       "│ datetime[μs]               ┆ f64        ┆ str      ┆ str            ┆ str │\n",
       "╞════════════════════════════╪════════════╪══════════╪════════════════╪═════╡\n",
       "│ 2023-12-16 00:14:23.709805 ┆ 129.191933 ┆ 9882701  ┆ OilTank1Volume ┆ bbl │\n",
       "│ 2023-10-20 06:11:00.976191 ┆ 242.917252 ┆ 9882701  ┆ OilTank1Volume ┆ bbl │\n",
       "│ 2019-02-17 18:24:15.392353 ┆ 467.167758 ┆ 9882701  ┆ OilTank1Volume ┆ bbl │\n",
       "│ 2024-01-06 21:34:39.673218 ┆ 69.010569  ┆ 9882701  ┆ OilTank1Level  ┆ in  │\n",
       "│ 2024-07-20 01:43:20.665138 ┆ 93.046905  ┆ 9882701  ┆ OilTank1Level  ┆ in  │\n",
       "│ 2017-04-13 01:06:18.038402 ┆ 87.370372  ┆ 9882701  ┆ OilTank1Level  ┆ in  │\n",
       "└────────────────────────────┴────────────┴──────────┴────────────────┴─────┘"
      ]
     },
     "execution_count": 2,
     "metadata": {},
     "output_type": "execute_result"
    }
   ],
   "source": [
    "lf = lf.drop(\"key_metric\")\n",
    "lf.collect()"
   ]
  },
  {
   "cell_type": "code",
   "execution_count": 3,
   "metadata": {},
   "outputs": [
    {
     "data": {
      "text/html": [
       "<div><style>\n",
       ".dataframe > thead > tr,\n",
       ".dataframe > tbody > tr {\n",
       "  text-align: right;\n",
       "  white-space: pre-wrap;\n",
       "}\n",
       "</style>\n",
       "<small>shape: (6, 9)</small><table border=\"1\" class=\"dataframe\"><thead><tr><th>ts</th><th>value</th><th>scada_id</th><th>tank_name</th><th>uom</th><th>is_esd</th><th>tank_type</th><th>tank_number</th><th>tank_metric</th></tr><tr><td>datetime[μs]</td><td>f64</td><td>str</td><td>str</td><td>str</td><td>str</td><td>str</td><td>str</td><td>str</td></tr></thead><tbody><tr><td>2023-12-16 00:14:23.709805</td><td>129.191933</td><td>&quot;9882701&quot;</td><td>&quot;OilTank1Volume&quot;</td><td>&quot;bbl&quot;</td><td>null</td><td>&quot;Oil&quot;</td><td>&quot;1&quot;</td><td>&quot;Volume&quot;</td></tr><tr><td>2023-10-20 06:11:00.976191</td><td>242.917252</td><td>&quot;9882701&quot;</td><td>&quot;OilTank1Volume&quot;</td><td>&quot;bbl&quot;</td><td>null</td><td>&quot;Oil&quot;</td><td>&quot;1&quot;</td><td>&quot;Volume&quot;</td></tr><tr><td>2019-02-17 18:24:15.392353</td><td>467.167758</td><td>&quot;9882701&quot;</td><td>&quot;OilTank1Volume&quot;</td><td>&quot;bbl&quot;</td><td>null</td><td>&quot;Oil&quot;</td><td>&quot;1&quot;</td><td>&quot;Volume&quot;</td></tr><tr><td>2024-01-06 21:34:39.673218</td><td>69.010569</td><td>&quot;9882701&quot;</td><td>&quot;OilTank1Level&quot;</td><td>&quot;in&quot;</td><td>null</td><td>&quot;Oil&quot;</td><td>&quot;1&quot;</td><td>&quot;Level&quot;</td></tr><tr><td>2024-07-20 01:43:20.665138</td><td>93.046905</td><td>&quot;9882701&quot;</td><td>&quot;OilTank1Level&quot;</td><td>&quot;in&quot;</td><td>null</td><td>&quot;Oil&quot;</td><td>&quot;1&quot;</td><td>&quot;Level&quot;</td></tr><tr><td>2017-04-13 01:06:18.038402</td><td>87.370372</td><td>&quot;9882701&quot;</td><td>&quot;OilTank1Level&quot;</td><td>&quot;in&quot;</td><td>null</td><td>&quot;Oil&quot;</td><td>&quot;1&quot;</td><td>&quot;Level&quot;</td></tr></tbody></table></div>"
      ],
      "text/plain": [
       "shape: (6, 9)\n",
       "┌────────────┬────────────┬──────────┬────────────┬───┬────────┬───────────┬───────────┬───────────┐\n",
       "│ ts         ┆ value      ┆ scada_id ┆ tank_name  ┆ … ┆ is_esd ┆ tank_type ┆ tank_numb ┆ tank_metr │\n",
       "│ ---        ┆ ---        ┆ ---      ┆ ---        ┆   ┆ ---    ┆ ---       ┆ er        ┆ ic        │\n",
       "│ datetime[μ ┆ f64        ┆ str      ┆ str        ┆   ┆ str    ┆ str       ┆ ---       ┆ ---       │\n",
       "│ s]         ┆            ┆          ┆            ┆   ┆        ┆           ┆ str       ┆ str       │\n",
       "╞════════════╪════════════╪══════════╪════════════╪═══╪════════╪═══════════╪═══════════╪═══════════╡\n",
       "│ 2023-12-16 ┆ 129.191933 ┆ 9882701  ┆ OilTank1Vo ┆ … ┆ null   ┆ Oil       ┆ 1         ┆ Volume    │\n",
       "│ 00:14:23.7 ┆            ┆          ┆ lume       ┆   ┆        ┆           ┆           ┆           │\n",
       "│ 09805      ┆            ┆          ┆            ┆   ┆        ┆           ┆           ┆           │\n",
       "│ 2023-10-20 ┆ 242.917252 ┆ 9882701  ┆ OilTank1Vo ┆ … ┆ null   ┆ Oil       ┆ 1         ┆ Volume    │\n",
       "│ 06:11:00.9 ┆            ┆          ┆ lume       ┆   ┆        ┆           ┆           ┆           │\n",
       "│ 76191      ┆            ┆          ┆            ┆   ┆        ┆           ┆           ┆           │\n",
       "│ 2019-02-17 ┆ 467.167758 ┆ 9882701  ┆ OilTank1Vo ┆ … ┆ null   ┆ Oil       ┆ 1         ┆ Volume    │\n",
       "│ 18:24:15.3 ┆            ┆          ┆ lume       ┆   ┆        ┆           ┆           ┆           │\n",
       "│ 92353      ┆            ┆          ┆            ┆   ┆        ┆           ┆           ┆           │\n",
       "│ 2024-01-06 ┆ 69.010569  ┆ 9882701  ┆ OilTank1Le ┆ … ┆ null   ┆ Oil       ┆ 1         ┆ Level     │\n",
       "│ 21:34:39.6 ┆            ┆          ┆ vel        ┆   ┆        ┆           ┆           ┆           │\n",
       "│ 73218      ┆            ┆          ┆            ┆   ┆        ┆           ┆           ┆           │\n",
       "│ 2024-07-20 ┆ 93.046905  ┆ 9882701  ┆ OilTank1Le ┆ … ┆ null   ┆ Oil       ┆ 1         ┆ Level     │\n",
       "│ 01:43:20.6 ┆            ┆          ┆ vel        ┆   ┆        ┆           ┆           ┆           │\n",
       "│ 65138      ┆            ┆          ┆            ┆   ┆        ┆           ┆           ┆           │\n",
       "│ 2017-04-13 ┆ 87.370372  ┆ 9882701  ┆ OilTank1Le ┆ … ┆ null   ┆ Oil       ┆ 1         ┆ Level     │\n",
       "│ 01:06:18.0 ┆            ┆          ┆ vel        ┆   ┆        ┆           ┆           ┆           │\n",
       "│ 38402      ┆            ┆          ┆            ┆   ┆        ┆           ┆           ┆           │\n",
       "└────────────┴────────────┴──────────┴────────────┴───┴────────┴───────────┴───────────┴───────────┘"
      ]
     },
     "execution_count": 3,
     "metadata": {},
     "output_type": "execute_result"
    }
   ],
   "source": [
    "tank_metrics = [\"Level\", \"Volume\", \"InchesUntilAlarm\", \"InchesToESD\"]\n",
    "tank_types = [\"Water\", \"Oil\"]\n",
    "\n",
    "tank_metrics_str= \"|\".join(tank_metrics)\n",
    "tank_types_str = \"|\".join(tank_types)\n",
    "\n",
    "pattern = f'^(?<is_esd>ESD-)?(?<tank_type>{tank_types_str})Tank(?<tank_number>[0-9]*)(?<tank_metric>{tank_metrics_str})'\n",
    "lf = lf.with_columns(separated_metrics = pl.col(\"tank_name\").str.extract_groups(pattern))\n",
    "lf = lf.unnest(\"separated_metrics\")\n",
    "lf.collect()"
   ]
  },
  {
   "cell_type": "code",
   "execution_count": 4,
   "metadata": {},
   "outputs": [
    {
     "data": {
      "text/html": [
       "<div><style>\n",
       ".dataframe > thead > tr,\n",
       ".dataframe > tbody > tr {\n",
       "  text-align: right;\n",
       "  white-space: pre-wrap;\n",
       "}\n",
       "</style>\n",
       "<small>shape: (6, 5)</small><table border=\"1\" class=\"dataframe\"><thead><tr><th>ts</th><th>value</th><th>scada_id</th><th>uom</th><th>tank_metric</th></tr><tr><td>datetime[μs]</td><td>f64</td><td>str</td><td>str</td><td>str</td></tr></thead><tbody><tr><td>2023-12-16 00:14:23.709805</td><td>129.191933</td><td>&quot;9882701&quot;</td><td>&quot;bbl&quot;</td><td>&quot;Volume&quot;</td></tr><tr><td>2023-10-20 06:11:00.976191</td><td>242.917252</td><td>&quot;9882701&quot;</td><td>&quot;bbl&quot;</td><td>&quot;Volume&quot;</td></tr><tr><td>2019-02-17 18:24:15.392353</td><td>467.167758</td><td>&quot;9882701&quot;</td><td>&quot;bbl&quot;</td><td>&quot;Volume&quot;</td></tr><tr><td>2024-01-06 21:34:39.673218</td><td>69.010569</td><td>&quot;9882701&quot;</td><td>&quot;in&quot;</td><td>&quot;Level&quot;</td></tr><tr><td>2024-07-20 01:43:20.665138</td><td>93.046905</td><td>&quot;9882701&quot;</td><td>&quot;in&quot;</td><td>&quot;Level&quot;</td></tr><tr><td>2017-04-13 01:06:18.038402</td><td>87.370372</td><td>&quot;9882701&quot;</td><td>&quot;in&quot;</td><td>&quot;Level&quot;</td></tr></tbody></table></div>"
      ],
      "text/plain": [
       "shape: (6, 5)\n",
       "┌────────────────────────────┬────────────┬──────────┬─────┬─────────────┐\n",
       "│ ts                         ┆ value      ┆ scada_id ┆ uom ┆ tank_metric │\n",
       "│ ---                        ┆ ---        ┆ ---      ┆ --- ┆ ---         │\n",
       "│ datetime[μs]               ┆ f64        ┆ str      ┆ str ┆ str         │\n",
       "╞════════════════════════════╪════════════╪══════════╪═════╪═════════════╡\n",
       "│ 2023-12-16 00:14:23.709805 ┆ 129.191933 ┆ 9882701  ┆ bbl ┆ Volume      │\n",
       "│ 2023-10-20 06:11:00.976191 ┆ 242.917252 ┆ 9882701  ┆ bbl ┆ Volume      │\n",
       "│ 2019-02-17 18:24:15.392353 ┆ 467.167758 ┆ 9882701  ┆ bbl ┆ Volume      │\n",
       "│ 2024-01-06 21:34:39.673218 ┆ 69.010569  ┆ 9882701  ┆ in  ┆ Level       │\n",
       "│ 2024-07-20 01:43:20.665138 ┆ 93.046905  ┆ 9882701  ┆ in  ┆ Level       │\n",
       "│ 2017-04-13 01:06:18.038402 ┆ 87.370372  ┆ 9882701  ┆ in  ┆ Level       │\n",
       "└────────────────────────────┴────────────┴──────────┴─────┴─────────────┘"
      ]
     },
     "execution_count": 4,
     "metadata": {},
     "output_type": "execute_result"
    }
   ],
   "source": [
    "lf = lf.drop(\"tank_name\", \"is_esd\", \"tank_type\", \"tank_number\")\n",
    "lf.collect()"
   ]
  },
  {
   "cell_type": "code",
   "execution_count": 5,
   "metadata": {},
   "outputs": [
    {
     "data": {
      "text/html": [
       "<div><style>\n",
       ".dataframe > thead > tr,\n",
       ".dataframe > tbody > tr {\n",
       "  text-align: right;\n",
       "  white-space: pre-wrap;\n",
       "}\n",
       "</style>\n",
       "<small>shape: (2, 4)</small><table border=\"1\" class=\"dataframe\"><thead><tr><th>tank_metric</th><th>uom</th><th>timestamps</th><th>values</th></tr><tr><td>str</td><td>str</td><td>list[datetime[μs]]</td><td>list[f64]</td></tr></thead><tbody><tr><td>&quot;Volume&quot;</td><td>&quot;bbl&quot;</td><td>[2023-12-16 00:14:23.709805, 2023-10-20 06:11:00.976191, 2019-02-17 18:24:15.392353]</td><td>[129.191933, 242.917252, 467.167758]</td></tr><tr><td>&quot;Level&quot;</td><td>&quot;in&quot;</td><td>[2024-01-06 21:34:39.673218, 2024-07-20 01:43:20.665138, 2017-04-13 01:06:18.038402]</td><td>[69.010569, 93.046905, 87.370372]</td></tr></tbody></table></div>"
      ],
      "text/plain": [
       "shape: (2, 4)\n",
       "┌─────────────┬─────┬─────────────────────────────────┬─────────────────────────────────┐\n",
       "│ tank_metric ┆ uom ┆ timestamps                      ┆ values                          │\n",
       "│ ---         ┆ --- ┆ ---                             ┆ ---                             │\n",
       "│ str         ┆ str ┆ list[datetime[μs]]              ┆ list[f64]                       │\n",
       "╞═════════════╪═════╪═════════════════════════════════╪═════════════════════════════════╡\n",
       "│ Volume      ┆ bbl ┆ [2023-12-16 00:14:23.709805, 2… ┆ [129.191933, 242.917252, 467.1… │\n",
       "│ Level       ┆ in  ┆ [2024-01-06 21:34:39.673218, 2… ┆ [69.010569, 93.046905, 87.3703… │\n",
       "└─────────────┴─────┴─────────────────────────────────┴─────────────────────────────────┘"
      ]
     },
     "execution_count": 5,
     "metadata": {},
     "output_type": "execute_result"
    }
   ],
   "source": [
    "aggregated_lf = lf.group_by([\"tank_metric\", \"uom\"]).agg([\n",
    "    pl.col(\"ts\").alias(\"timestamps\"),\n",
    "    pl.col(\"value\").alias(\"values\")\n",
    "])\n",
    "\n",
    "aggregated_lf.collect()"
   ]
  }
 ],
 "metadata": {
  "kernelspec": {
   "display_name": ".venv",
   "language": "python",
   "name": "python3"
  },
  "language_info": {
   "codemirror_mode": {
    "name": "ipython",
    "version": 3
   },
   "file_extension": ".py",
   "mimetype": "text/x-python",
   "name": "python",
   "nbconvert_exporter": "python",
   "pygments_lexer": "ipython3",
   "version": "3.12.2"
  }
 },
 "nbformat": 4,
 "nbformat_minor": 2
}
