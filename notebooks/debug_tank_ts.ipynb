{
 "cells": [
  {
   "cell_type": "code",
   "execution_count": 22,
   "metadata": {},
   "outputs": [
    {
     "data": {
      "text/html": [
       "<div><style>\n",
       ".dataframe > thead > tr,\n",
       ".dataframe > tbody > tr {\n",
       "  text-align: right;\n",
       "  white-space: pre-wrap;\n",
       "}\n",
       "</style>\n",
       "<small>shape: (96, 5)</small><table border=\"1\" class=\"dataframe\"><thead><tr><th>ts</th><th>value</th><th>scada_id</th><th>tank_name</th><th>uom</th></tr><tr><td>datetime[μs]</td><td>f64</td><td>str</td><td>str</td><td>str</td></tr></thead><tbody><tr><td>2021-07-15 11:24:32.025842</td><td>76.742959</td><td>&quot;9881904&quot;</td><td>&quot;OilTank4Level&quot;</td><td>&quot;in&quot;</td></tr><tr><td>2021-07-15 10:24:32.025842</td><td>76.636488</td><td>&quot;9881904&quot;</td><td>&quot;OilTank4Level&quot;</td><td>&quot;in&quot;</td></tr><tr><td>2021-07-15 09:24:32.025842</td><td>76.569618</td><td>&quot;9881904&quot;</td><td>&quot;OilTank4Level&quot;</td><td>&quot;in&quot;</td></tr><tr><td>2021-07-15 08:24:32.025842</td><td>76.5744</td><td>&quot;9881904&quot;</td><td>&quot;OilTank4Level&quot;</td><td>&quot;in&quot;</td></tr><tr><td>2021-07-15 07:24:32.025842</td><td>76.675313</td><td>&quot;9881904&quot;</td><td>&quot;OilTank4Level&quot;</td><td>&quot;in&quot;</td></tr><tr><td>2021-07-15 06:24:32.025842</td><td>76.889969</td><td>&quot;9881904&quot;</td><td>&quot;OilTank4Level&quot;</td><td>&quot;in&quot;</td></tr><tr><td>2021-07-15 05:24:32.025842</td><td>77.229802</td><td>&quot;9881904&quot;</td><td>&quot;OilTank4Level&quot;</td><td>&quot;in&quot;</td></tr><tr><td>2021-07-15 04:24:32.025842</td><td>77.700715</td><td>&quot;9881904&quot;</td><td>&quot;OilTank4Level&quot;</td><td>&quot;in&quot;</td></tr><tr><td>2021-07-15 03:24:32.025842</td><td>78.303709</td><td>&quot;9881904&quot;</td><td>&quot;OilTank4Level&quot;</td><td>&quot;in&quot;</td></tr><tr><td>2021-07-15 02:24:32.025842</td><td>79.035483</td><td>&quot;9881904&quot;</td><td>&quot;OilTank4Level&quot;</td><td>&quot;in&quot;</td></tr><tr><td>2021-07-15 01:24:32.025842</td><td>79.88901</td><td>&quot;9881904&quot;</td><td>&quot;OilTank4Level&quot;</td><td>&quot;in&quot;</td></tr><tr><td>2021-07-15 00:24:32.025842</td><td>80.854074</td><td>&quot;9881904&quot;</td><td>&quot;OilTank4Level&quot;</td><td>&quot;in&quot;</td></tr><tr><td>2021-07-14 23:24:32.025842</td><td>81.917796</td><td>&quot;9881904&quot;</td><td>&quot;OilTank4Level&quot;</td><td>&quot;in&quot;</td></tr><tr><td>2021-07-14 22:24:32.025842</td><td>83.065122</td><td>&quot;9881904&quot;</td><td>&quot;OilTank4Level&quot;</td><td>&quot;in&quot;</td></tr><tr><td>2021-07-14 21:24:32.025842</td><td>84.279285</td><td>&quot;9881904&quot;</td><td>&quot;OilTank4Level&quot;</td><td>&quot;in&quot;</td></tr><tr><td>2021-07-14 20:24:32.025842</td><td>85.542246</td><td>&quot;9881904&quot;</td><td>&quot;OilTank4Level&quot;</td><td>&quot;in&quot;</td></tr><tr><td>2021-07-14 19:24:32.025842</td><td>86.835098</td><td>&quot;9881904&quot;</td><td>&quot;OilTank4Level&quot;</td><td>&quot;in&quot;</td></tr><tr><td>2021-07-14 18:24:32.025842</td><td>88.138455</td><td>&quot;9881904&quot;</td><td>&quot;OilTank4Level&quot;</td><td>&quot;in&quot;</td></tr><tr><td>2021-07-14 17:24:32.025842</td><td>89.432798</td><td>&quot;9881904&quot;</td><td>&quot;OilTank4Level&quot;</td><td>&quot;in&quot;</td></tr><tr><td>2021-07-14 16:24:32.025842</td><td>90.698814</td><td>&quot;9881904&quot;</td><td>&quot;OilTank4Level&quot;</td><td>&quot;in&quot;</td></tr><tr><td>2021-07-14 15:24:32.025842</td><td>91.917686</td><td>&quot;9881904&quot;</td><td>&quot;OilTank4Level&quot;</td><td>&quot;in&quot;</td></tr><tr><td>2021-07-14 14:24:32.025842</td><td>93.071374</td><td>&quot;9881904&quot;</td><td>&quot;OilTank4Level&quot;</td><td>&quot;in&quot;</td></tr><tr><td>2021-07-14 13:24:32.025842</td><td>94.14286</td><td>&quot;9881904&quot;</td><td>&quot;OilTank4Level&quot;</td><td>&quot;in&quot;</td></tr><tr><td>2021-07-14 12:24:32.025842</td><td>95.116362</td><td>&quot;9881904&quot;</td><td>&quot;OilTank4Level&quot;</td><td>&quot;in&quot;</td></tr><tr><td>2021-07-14 11:24:32.025842</td><td>95.977535</td><td>&quot;9881904&quot;</td><td>&quot;OilTank4Level&quot;</td><td>&quot;in&quot;</td></tr><tr><td>2021-07-14 10:24:32.025842</td><td>96.713627</td><td>&quot;9881904&quot;</td><td>&quot;OilTank4Level&quot;</td><td>&quot;in&quot;</td></tr><tr><td>2021-07-14 09:24:32.025842</td><td>97.313624</td><td>&quot;9881904&quot;</td><td>&quot;OilTank4Level&quot;</td><td>&quot;in&quot;</td></tr><tr><td>2021-07-14 08:24:32.025842</td><td>97.768354</td><td>&quot;9881904&quot;</td><td>&quot;OilTank4Level&quot;</td><td>&quot;in&quot;</td></tr><tr><td>2021-07-14 07:24:32.025842</td><td>98.070577</td><td>&quot;9881904&quot;</td><td>&quot;OilTank4Level&quot;</td><td>&quot;in&quot;</td></tr><tr><td>2021-07-14 06:24:32.025842</td><td>98.215034</td><td>&quot;9881904&quot;</td><td>&quot;OilTank4Level&quot;</td><td>&quot;in&quot;</td></tr><tr><td>2021-07-14 05:24:32.025842</td><td>98.198483</td><td>&quot;9881904&quot;</td><td>&quot;OilTank4Level&quot;</td><td>&quot;in&quot;</td></tr><tr><td>2021-07-14 04:24:32.025842</td><td>98.019696</td><td>&quot;9881904&quot;</td><td>&quot;OilTank4Level&quot;</td><td>&quot;in&quot;</td></tr><tr><td>2021-07-14 03:24:32.025842</td><td>97.679436</td><td>&quot;9881904&quot;</td><td>&quot;OilTank4Level&quot;</td><td>&quot;in&quot;</td></tr><tr><td>2021-07-14 02:24:32.025842</td><td>97.180402</td><td>&quot;9881904&quot;</td><td>&quot;OilTank4Level&quot;</td><td>&quot;in&quot;</td></tr><tr><td>2021-07-14 01:24:32.025842</td><td>96.527151</td><td>&quot;9881904&quot;</td><td>&quot;OilTank4Level&quot;</td><td>&quot;in&quot;</td></tr><tr><td>2021-07-14 00:24:32.025842</td><td>95.725994</td><td>&quot;9881904&quot;</td><td>&quot;OilTank4Level&quot;</td><td>&quot;in&quot;</td></tr><tr><td>2021-07-13 23:24:32.025842</td><td>94.784857</td><td>&quot;9881904&quot;</td><td>&quot;OilTank4Level&quot;</td><td>&quot;in&quot;</td></tr><tr><td>2021-07-13 22:24:32.025842</td><td>93.713119</td><td>&quot;9881904&quot;</td><td>&quot;OilTank4Level&quot;</td><td>&quot;in&quot;</td></tr><tr><td>2021-07-13 21:24:32.025842</td><td>92.521432</td><td>&quot;9881904&quot;</td><td>&quot;OilTank4Level&quot;</td><td>&quot;in&quot;</td></tr><tr><td>2021-07-13 20:24:32.025842</td><td>91.221494</td><td>&quot;9881904&quot;</td><td>&quot;OilTank4Level&quot;</td><td>&quot;in&quot;</td></tr><tr><td>2021-07-13 19:24:32.025842</td><td>89.825817</td><td>&quot;9881904&quot;</td><td>&quot;OilTank4Level&quot;</td><td>&quot;in&quot;</td></tr><tr><td>2021-07-13 18:24:32.025842</td><td>88.347448</td><td>&quot;9881904&quot;</td><td>&quot;OilTank4Level&quot;</td><td>&quot;in&quot;</td></tr><tr><td>2021-07-13 17:24:32.025842</td><td>86.799679</td><td>&quot;9881904&quot;</td><td>&quot;OilTank4Level&quot;</td><td>&quot;in&quot;</td></tr><tr><td>2021-07-13 16:24:32.025842</td><td>85.195716</td><td>&quot;9881904&quot;</td><td>&quot;OilTank4Level&quot;</td><td>&quot;in&quot;</td></tr><tr><td>2021-07-13 15:24:32.025842</td><td>83.548335</td><td>&quot;9881904&quot;</td><td>&quot;OilTank4Level&quot;</td><td>&quot;in&quot;</td></tr><tr><td>2021-07-13 14:24:32.025842</td><td>81.869497</td><td>&quot;9881904&quot;</td><td>&quot;OilTank4Level&quot;</td><td>&quot;in&quot;</td></tr><tr><td>2021-07-13 13:24:32.025842</td><td>80.169946</td><td>&quot;9881904&quot;</td><td>&quot;OilTank4Level&quot;</td><td>&quot;in&quot;</td></tr><tr><td>2021-07-13 12:24:32.025842</td><td>78.458773</td><td>&quot;9881904&quot;</td><td>&quot;OilTank4Level&quot;</td><td>&quot;in&quot;</td></tr><tr><td>2021-02-01 12:12:37.864857</td><td>300.070112</td><td>&quot;9881904&quot;</td><td>&quot;OilTank4Volume&quot;</td><td>&quot;bbl&quot;</td></tr><tr><td>2021-02-01 11:12:37.864857</td><td>299.96364</td><td>&quot;9881904&quot;</td><td>&quot;OilTank4Volume&quot;</td><td>&quot;bbl&quot;</td></tr><tr><td>2021-02-01 10:12:37.864857</td><td>299.896771</td><td>&quot;9881904&quot;</td><td>&quot;OilTank4Volume&quot;</td><td>&quot;bbl&quot;</td></tr><tr><td>2021-02-01 09:12:37.864857</td><td>299.901553</td><td>&quot;9881904&quot;</td><td>&quot;OilTank4Volume&quot;</td><td>&quot;bbl&quot;</td></tr><tr><td>2021-02-01 08:12:37.864857</td><td>300.002465</td><td>&quot;9881904&quot;</td><td>&quot;OilTank4Volume&quot;</td><td>&quot;bbl&quot;</td></tr><tr><td>2021-02-01 07:12:37.864857</td><td>300.217122</td><td>&quot;9881904&quot;</td><td>&quot;OilTank4Volume&quot;</td><td>&quot;bbl&quot;</td></tr><tr><td>2021-02-01 06:12:37.864857</td><td>300.556955</td><td>&quot;9881904&quot;</td><td>&quot;OilTank4Volume&quot;</td><td>&quot;bbl&quot;</td></tr><tr><td>2021-02-01 05:12:37.864857</td><td>301.027868</td><td>&quot;9881904&quot;</td><td>&quot;OilTank4Volume&quot;</td><td>&quot;bbl&quot;</td></tr><tr><td>2021-02-01 04:12:37.864857</td><td>301.630861</td><td>&quot;9881904&quot;</td><td>&quot;OilTank4Volume&quot;</td><td>&quot;bbl&quot;</td></tr><tr><td>2021-02-01 03:12:37.864857</td><td>302.362636</td><td>&quot;9881904&quot;</td><td>&quot;OilTank4Volume&quot;</td><td>&quot;bbl&quot;</td></tr><tr><td>2021-02-01 02:12:37.864857</td><td>303.216162</td><td>&quot;9881904&quot;</td><td>&quot;OilTank4Volume&quot;</td><td>&quot;bbl&quot;</td></tr><tr><td>2021-02-01 01:12:37.864857</td><td>304.181226</td><td>&quot;9881904&quot;</td><td>&quot;OilTank4Volume&quot;</td><td>&quot;bbl&quot;</td></tr><tr><td>2021-02-01 00:12:37.864857</td><td>305.244949</td><td>&quot;9881904&quot;</td><td>&quot;OilTank4Volume&quot;</td><td>&quot;bbl&quot;</td></tr><tr><td>2021-01-31 23:12:37.864857</td><td>306.392274</td><td>&quot;9881904&quot;</td><td>&quot;OilTank4Volume&quot;</td><td>&quot;bbl&quot;</td></tr><tr><td>2021-01-31 22:12:37.864857</td><td>307.606438</td><td>&quot;9881904&quot;</td><td>&quot;OilTank4Volume&quot;</td><td>&quot;bbl&quot;</td></tr><tr><td>2021-01-31 21:12:37.864857</td><td>308.869398</td><td>&quot;9881904&quot;</td><td>&quot;OilTank4Volume&quot;</td><td>&quot;bbl&quot;</td></tr><tr><td>2021-01-31 20:12:37.864857</td><td>310.162251</td><td>&quot;9881904&quot;</td><td>&quot;OilTank4Volume&quot;</td><td>&quot;bbl&quot;</td></tr><tr><td>2021-01-31 19:12:37.864857</td><td>311.465607</td><td>&quot;9881904&quot;</td><td>&quot;OilTank4Volume&quot;</td><td>&quot;bbl&quot;</td></tr><tr><td>2021-01-31 18:12:37.864857</td><td>312.759951</td><td>&quot;9881904&quot;</td><td>&quot;OilTank4Volume&quot;</td><td>&quot;bbl&quot;</td></tr><tr><td>2021-01-31 17:12:37.864857</td><td>314.025966</td><td>&quot;9881904&quot;</td><td>&quot;OilTank4Volume&quot;</td><td>&quot;bbl&quot;</td></tr><tr><td>2021-01-31 16:12:37.864857</td><td>315.244839</td><td>&quot;9881904&quot;</td><td>&quot;OilTank4Volume&quot;</td><td>&quot;bbl&quot;</td></tr><tr><td>2021-01-31 15:12:37.864857</td><td>316.398527</td><td>&quot;9881904&quot;</td><td>&quot;OilTank4Volume&quot;</td><td>&quot;bbl&quot;</td></tr><tr><td>2021-01-31 14:12:37.864857</td><td>317.470012</td><td>&quot;9881904&quot;</td><td>&quot;OilTank4Volume&quot;</td><td>&quot;bbl&quot;</td></tr><tr><td>2021-01-31 13:12:37.864857</td><td>318.443515</td><td>&quot;9881904&quot;</td><td>&quot;OilTank4Volume&quot;</td><td>&quot;bbl&quot;</td></tr><tr><td>2021-01-31 12:12:37.864857</td><td>319.304687</td><td>&quot;9881904&quot;</td><td>&quot;OilTank4Volume&quot;</td><td>&quot;bbl&quot;</td></tr><tr><td>2021-01-31 11:12:37.864857</td><td>320.04078</td><td>&quot;9881904&quot;</td><td>&quot;OilTank4Volume&quot;</td><td>&quot;bbl&quot;</td></tr><tr><td>2021-01-31 10:12:37.864857</td><td>320.640776</td><td>&quot;9881904&quot;</td><td>&quot;OilTank4Volume&quot;</td><td>&quot;bbl&quot;</td></tr><tr><td>2021-01-31 09:12:37.864857</td><td>321.095507</td><td>&quot;9881904&quot;</td><td>&quot;OilTank4Volume&quot;</td><td>&quot;bbl&quot;</td></tr><tr><td>2021-01-31 08:12:37.864857</td><td>321.397729</td><td>&quot;9881904&quot;</td><td>&quot;OilTank4Volume&quot;</td><td>&quot;bbl&quot;</td></tr><tr><td>2021-01-31 07:12:37.864857</td><td>321.542187</td><td>&quot;9881904&quot;</td><td>&quot;OilTank4Volume&quot;</td><td>&quot;bbl&quot;</td></tr><tr><td>2021-01-31 06:12:37.864857</td><td>321.525636</td><td>&quot;9881904&quot;</td><td>&quot;OilTank4Volume&quot;</td><td>&quot;bbl&quot;</td></tr><tr><td>2021-01-31 05:12:37.864857</td><td>321.346849</td><td>&quot;9881904&quot;</td><td>&quot;OilTank4Volume&quot;</td><td>&quot;bbl&quot;</td></tr><tr><td>2021-01-31 04:12:37.864857</td><td>321.006589</td><td>&quot;9881904&quot;</td><td>&quot;OilTank4Volume&quot;</td><td>&quot;bbl&quot;</td></tr><tr><td>2021-01-31 03:12:37.864857</td><td>320.507554</td><td>&quot;9881904&quot;</td><td>&quot;OilTank4Volume&quot;</td><td>&quot;bbl&quot;</td></tr><tr><td>2021-01-31 02:12:37.864857</td><td>319.854304</td><td>&quot;9881904&quot;</td><td>&quot;OilTank4Volume&quot;</td><td>&quot;bbl&quot;</td></tr><tr><td>2021-01-31 01:12:37.864857</td><td>319.053147</td><td>&quot;9881904&quot;</td><td>&quot;OilTank4Volume&quot;</td><td>&quot;bbl&quot;</td></tr><tr><td>2021-01-31 00:12:37.864857</td><td>318.112009</td><td>&quot;9881904&quot;</td><td>&quot;OilTank4Volume&quot;</td><td>&quot;bbl&quot;</td></tr><tr><td>2021-01-30 23:12:37.864857</td><td>317.040272</td><td>&quot;9881904&quot;</td><td>&quot;OilTank4Volume&quot;</td><td>&quot;bbl&quot;</td></tr><tr><td>2021-01-30 22:12:37.864857</td><td>315.848584</td><td>&quot;9881904&quot;</td><td>&quot;OilTank4Volume&quot;</td><td>&quot;bbl&quot;</td></tr><tr><td>2021-01-30 21:12:37.864857</td><td>314.548647</td><td>&quot;9881904&quot;</td><td>&quot;OilTank4Volume&quot;</td><td>&quot;bbl&quot;</td></tr><tr><td>2021-01-30 20:12:37.864857</td><td>313.15297</td><td>&quot;9881904&quot;</td><td>&quot;OilTank4Volume&quot;</td><td>&quot;bbl&quot;</td></tr><tr><td>2021-01-30 19:12:37.864857</td><td>311.674601</td><td>&quot;9881904&quot;</td><td>&quot;OilTank4Volume&quot;</td><td>&quot;bbl&quot;</td></tr><tr><td>2021-01-30 18:12:37.864857</td><td>310.126831</td><td>&quot;9881904&quot;</td><td>&quot;OilTank4Volume&quot;</td><td>&quot;bbl&quot;</td></tr><tr><td>2021-01-30 17:12:37.864857</td><td>308.522869</td><td>&quot;9881904&quot;</td><td>&quot;OilTank4Volume&quot;</td><td>&quot;bbl&quot;</td></tr><tr><td>2021-01-30 16:12:37.864857</td><td>306.875488</td><td>&quot;9881904&quot;</td><td>&quot;OilTank4Volume&quot;</td><td>&quot;bbl&quot;</td></tr><tr><td>2021-01-30 15:12:37.864857</td><td>305.19665</td><td>&quot;9881904&quot;</td><td>&quot;OilTank4Volume&quot;</td><td>&quot;bbl&quot;</td></tr><tr><td>2021-01-30 14:12:37.864857</td><td>303.497099</td><td>&quot;9881904&quot;</td><td>&quot;OilTank4Volume&quot;</td><td>&quot;bbl&quot;</td></tr><tr><td>2021-01-30 13:12:37.864857</td><td>301.785926</td><td>&quot;9881904&quot;</td><td>&quot;OilTank4Volume&quot;</td><td>&quot;bbl&quot;</td></tr></tbody></table></div>"
      ],
      "text/plain": [
       "shape: (96, 5)\n",
       "┌────────────────────────────┬────────────┬──────────┬────────────────┬─────┐\n",
       "│ ts                         ┆ value      ┆ scada_id ┆ tank_name      ┆ uom │\n",
       "│ ---                        ┆ ---        ┆ ---      ┆ ---            ┆ --- │\n",
       "│ datetime[μs]               ┆ f64        ┆ str      ┆ str            ┆ str │\n",
       "╞════════════════════════════╪════════════╪══════════╪════════════════╪═════╡\n",
       "│ 2021-07-15 11:24:32.025842 ┆ 76.742959  ┆ 9881904  ┆ OilTank4Level  ┆ in  │\n",
       "│ 2021-07-15 10:24:32.025842 ┆ 76.636488  ┆ 9881904  ┆ OilTank4Level  ┆ in  │\n",
       "│ 2021-07-15 09:24:32.025842 ┆ 76.569618  ┆ 9881904  ┆ OilTank4Level  ┆ in  │\n",
       "│ 2021-07-15 08:24:32.025842 ┆ 76.5744    ┆ 9881904  ┆ OilTank4Level  ┆ in  │\n",
       "│ 2021-07-15 07:24:32.025842 ┆ 76.675313  ┆ 9881904  ┆ OilTank4Level  ┆ in  │\n",
       "│ 2021-07-15 06:24:32.025842 ┆ 76.889969  ┆ 9881904  ┆ OilTank4Level  ┆ in  │\n",
       "│ 2021-07-15 05:24:32.025842 ┆ 77.229802  ┆ 9881904  ┆ OilTank4Level  ┆ in  │\n",
       "│ 2021-07-15 04:24:32.025842 ┆ 77.700715  ┆ 9881904  ┆ OilTank4Level  ┆ in  │\n",
       "│ 2021-07-15 03:24:32.025842 ┆ 78.303709  ┆ 9881904  ┆ OilTank4Level  ┆ in  │\n",
       "│ 2021-07-15 02:24:32.025842 ┆ 79.035483  ┆ 9881904  ┆ OilTank4Level  ┆ in  │\n",
       "│ 2021-07-15 01:24:32.025842 ┆ 79.88901   ┆ 9881904  ┆ OilTank4Level  ┆ in  │\n",
       "│ 2021-07-15 00:24:32.025842 ┆ 80.854074  ┆ 9881904  ┆ OilTank4Level  ┆ in  │\n",
       "│ 2021-07-14 23:24:32.025842 ┆ 81.917796  ┆ 9881904  ┆ OilTank4Level  ┆ in  │\n",
       "│ 2021-07-14 22:24:32.025842 ┆ 83.065122  ┆ 9881904  ┆ OilTank4Level  ┆ in  │\n",
       "│ 2021-07-14 21:24:32.025842 ┆ 84.279285  ┆ 9881904  ┆ OilTank4Level  ┆ in  │\n",
       "│ 2021-07-14 20:24:32.025842 ┆ 85.542246  ┆ 9881904  ┆ OilTank4Level  ┆ in  │\n",
       "│ 2021-07-14 19:24:32.025842 ┆ 86.835098  ┆ 9881904  ┆ OilTank4Level  ┆ in  │\n",
       "│ 2021-07-14 18:24:32.025842 ┆ 88.138455  ┆ 9881904  ┆ OilTank4Level  ┆ in  │\n",
       "│ 2021-07-14 17:24:32.025842 ┆ 89.432798  ┆ 9881904  ┆ OilTank4Level  ┆ in  │\n",
       "│ 2021-07-14 16:24:32.025842 ┆ 90.698814  ┆ 9881904  ┆ OilTank4Level  ┆ in  │\n",
       "│ 2021-07-14 15:24:32.025842 ┆ 91.917686  ┆ 9881904  ┆ OilTank4Level  ┆ in  │\n",
       "│ 2021-07-14 14:24:32.025842 ┆ 93.071374  ┆ 9881904  ┆ OilTank4Level  ┆ in  │\n",
       "│ 2021-07-14 13:24:32.025842 ┆ 94.14286   ┆ 9881904  ┆ OilTank4Level  ┆ in  │\n",
       "│ 2021-07-14 12:24:32.025842 ┆ 95.116362  ┆ 9881904  ┆ OilTank4Level  ┆ in  │\n",
       "│ 2021-07-14 11:24:32.025842 ┆ 95.977535  ┆ 9881904  ┆ OilTank4Level  ┆ in  │\n",
       "│ 2021-07-14 10:24:32.025842 ┆ 96.713627  ┆ 9881904  ┆ OilTank4Level  ┆ in  │\n",
       "│ 2021-07-14 09:24:32.025842 ┆ 97.313624  ┆ 9881904  ┆ OilTank4Level  ┆ in  │\n",
       "│ 2021-07-14 08:24:32.025842 ┆ 97.768354  ┆ 9881904  ┆ OilTank4Level  ┆ in  │\n",
       "│ 2021-07-14 07:24:32.025842 ┆ 98.070577  ┆ 9881904  ┆ OilTank4Level  ┆ in  │\n",
       "│ 2021-07-14 06:24:32.025842 ┆ 98.215034  ┆ 9881904  ┆ OilTank4Level  ┆ in  │\n",
       "│ 2021-07-14 05:24:32.025842 ┆ 98.198483  ┆ 9881904  ┆ OilTank4Level  ┆ in  │\n",
       "│ 2021-07-14 04:24:32.025842 ┆ 98.019696  ┆ 9881904  ┆ OilTank4Level  ┆ in  │\n",
       "│ 2021-07-14 03:24:32.025842 ┆ 97.679436  ┆ 9881904  ┆ OilTank4Level  ┆ in  │\n",
       "│ 2021-07-14 02:24:32.025842 ┆ 97.180402  ┆ 9881904  ┆ OilTank4Level  ┆ in  │\n",
       "│ 2021-07-14 01:24:32.025842 ┆ 96.527151  ┆ 9881904  ┆ OilTank4Level  ┆ in  │\n",
       "│ 2021-07-14 00:24:32.025842 ┆ 95.725994  ┆ 9881904  ┆ OilTank4Level  ┆ in  │\n",
       "│ 2021-07-13 23:24:32.025842 ┆ 94.784857  ┆ 9881904  ┆ OilTank4Level  ┆ in  │\n",
       "│ 2021-07-13 22:24:32.025842 ┆ 93.713119  ┆ 9881904  ┆ OilTank4Level  ┆ in  │\n",
       "│ 2021-07-13 21:24:32.025842 ┆ 92.521432  ┆ 9881904  ┆ OilTank4Level  ┆ in  │\n",
       "│ 2021-07-13 20:24:32.025842 ┆ 91.221494  ┆ 9881904  ┆ OilTank4Level  ┆ in  │\n",
       "│ 2021-07-13 19:24:32.025842 ┆ 89.825817  ┆ 9881904  ┆ OilTank4Level  ┆ in  │\n",
       "│ 2021-07-13 18:24:32.025842 ┆ 88.347448  ┆ 9881904  ┆ OilTank4Level  ┆ in  │\n",
       "│ 2021-07-13 17:24:32.025842 ┆ 86.799679  ┆ 9881904  ┆ OilTank4Level  ┆ in  │\n",
       "│ 2021-07-13 16:24:32.025842 ┆ 85.195716  ┆ 9881904  ┆ OilTank4Level  ┆ in  │\n",
       "│ 2021-07-13 15:24:32.025842 ┆ 83.548335  ┆ 9881904  ┆ OilTank4Level  ┆ in  │\n",
       "│ 2021-07-13 14:24:32.025842 ┆ 81.869497  ┆ 9881904  ┆ OilTank4Level  ┆ in  │\n",
       "│ 2021-07-13 13:24:32.025842 ┆ 80.169946  ┆ 9881904  ┆ OilTank4Level  ┆ in  │\n",
       "│ 2021-07-13 12:24:32.025842 ┆ 78.458773  ┆ 9881904  ┆ OilTank4Level  ┆ in  │\n",
       "│ 2021-02-01 12:12:37.864857 ┆ 300.070112 ┆ 9881904  ┆ OilTank4Volume ┆ bbl │\n",
       "│ 2021-02-01 11:12:37.864857 ┆ 299.96364  ┆ 9881904  ┆ OilTank4Volume ┆ bbl │\n",
       "│ 2021-02-01 10:12:37.864857 ┆ 299.896771 ┆ 9881904  ┆ OilTank4Volume ┆ bbl │\n",
       "│ 2021-02-01 09:12:37.864857 ┆ 299.901553 ┆ 9881904  ┆ OilTank4Volume ┆ bbl │\n",
       "│ 2021-02-01 08:12:37.864857 ┆ 300.002465 ┆ 9881904  ┆ OilTank4Volume ┆ bbl │\n",
       "│ 2021-02-01 07:12:37.864857 ┆ 300.217122 ┆ 9881904  ┆ OilTank4Volume ┆ bbl │\n",
       "│ 2021-02-01 06:12:37.864857 ┆ 300.556955 ┆ 9881904  ┆ OilTank4Volume ┆ bbl │\n",
       "│ 2021-02-01 05:12:37.864857 ┆ 301.027868 ┆ 9881904  ┆ OilTank4Volume ┆ bbl │\n",
       "│ 2021-02-01 04:12:37.864857 ┆ 301.630861 ┆ 9881904  ┆ OilTank4Volume ┆ bbl │\n",
       "│ 2021-02-01 03:12:37.864857 ┆ 302.362636 ┆ 9881904  ┆ OilTank4Volume ┆ bbl │\n",
       "│ 2021-02-01 02:12:37.864857 ┆ 303.216162 ┆ 9881904  ┆ OilTank4Volume ┆ bbl │\n",
       "│ 2021-02-01 01:12:37.864857 ┆ 304.181226 ┆ 9881904  ┆ OilTank4Volume ┆ bbl │\n",
       "│ 2021-02-01 00:12:37.864857 ┆ 305.244949 ┆ 9881904  ┆ OilTank4Volume ┆ bbl │\n",
       "│ 2021-01-31 23:12:37.864857 ┆ 306.392274 ┆ 9881904  ┆ OilTank4Volume ┆ bbl │\n",
       "│ 2021-01-31 22:12:37.864857 ┆ 307.606438 ┆ 9881904  ┆ OilTank4Volume ┆ bbl │\n",
       "│ 2021-01-31 21:12:37.864857 ┆ 308.869398 ┆ 9881904  ┆ OilTank4Volume ┆ bbl │\n",
       "│ 2021-01-31 20:12:37.864857 ┆ 310.162251 ┆ 9881904  ┆ OilTank4Volume ┆ bbl │\n",
       "│ 2021-01-31 19:12:37.864857 ┆ 311.465607 ┆ 9881904  ┆ OilTank4Volume ┆ bbl │\n",
       "│ 2021-01-31 18:12:37.864857 ┆ 312.759951 ┆ 9881904  ┆ OilTank4Volume ┆ bbl │\n",
       "│ 2021-01-31 17:12:37.864857 ┆ 314.025966 ┆ 9881904  ┆ OilTank4Volume ┆ bbl │\n",
       "│ 2021-01-31 16:12:37.864857 ┆ 315.244839 ┆ 9881904  ┆ OilTank4Volume ┆ bbl │\n",
       "│ 2021-01-31 15:12:37.864857 ┆ 316.398527 ┆ 9881904  ┆ OilTank4Volume ┆ bbl │\n",
       "│ 2021-01-31 14:12:37.864857 ┆ 317.470012 ┆ 9881904  ┆ OilTank4Volume ┆ bbl │\n",
       "│ 2021-01-31 13:12:37.864857 ┆ 318.443515 ┆ 9881904  ┆ OilTank4Volume ┆ bbl │\n",
       "│ 2021-01-31 12:12:37.864857 ┆ 319.304687 ┆ 9881904  ┆ OilTank4Volume ┆ bbl │\n",
       "│ 2021-01-31 11:12:37.864857 ┆ 320.04078  ┆ 9881904  ┆ OilTank4Volume ┆ bbl │\n",
       "│ 2021-01-31 10:12:37.864857 ┆ 320.640776 ┆ 9881904  ┆ OilTank4Volume ┆ bbl │\n",
       "│ 2021-01-31 09:12:37.864857 ┆ 321.095507 ┆ 9881904  ┆ OilTank4Volume ┆ bbl │\n",
       "│ 2021-01-31 08:12:37.864857 ┆ 321.397729 ┆ 9881904  ┆ OilTank4Volume ┆ bbl │\n",
       "│ 2021-01-31 07:12:37.864857 ┆ 321.542187 ┆ 9881904  ┆ OilTank4Volume ┆ bbl │\n",
       "│ 2021-01-31 06:12:37.864857 ┆ 321.525636 ┆ 9881904  ┆ OilTank4Volume ┆ bbl │\n",
       "│ 2021-01-31 05:12:37.864857 ┆ 321.346849 ┆ 9881904  ┆ OilTank4Volume ┆ bbl │\n",
       "│ 2021-01-31 04:12:37.864857 ┆ 321.006589 ┆ 9881904  ┆ OilTank4Volume ┆ bbl │\n",
       "│ 2021-01-31 03:12:37.864857 ┆ 320.507554 ┆ 9881904  ┆ OilTank4Volume ┆ bbl │\n",
       "│ 2021-01-31 02:12:37.864857 ┆ 319.854304 ┆ 9881904  ┆ OilTank4Volume ┆ bbl │\n",
       "│ 2021-01-31 01:12:37.864857 ┆ 319.053147 ┆ 9881904  ┆ OilTank4Volume ┆ bbl │\n",
       "│ 2021-01-31 00:12:37.864857 ┆ 318.112009 ┆ 9881904  ┆ OilTank4Volume ┆ bbl │\n",
       "│ 2021-01-30 23:12:37.864857 ┆ 317.040272 ┆ 9881904  ┆ OilTank4Volume ┆ bbl │\n",
       "│ 2021-01-30 22:12:37.864857 ┆ 315.848584 ┆ 9881904  ┆ OilTank4Volume ┆ bbl │\n",
       "│ 2021-01-30 21:12:37.864857 ┆ 314.548647 ┆ 9881904  ┆ OilTank4Volume ┆ bbl │\n",
       "│ 2021-01-30 20:12:37.864857 ┆ 313.15297  ┆ 9881904  ┆ OilTank4Volume ┆ bbl │\n",
       "│ 2021-01-30 19:12:37.864857 ┆ 311.674601 ┆ 9881904  ┆ OilTank4Volume ┆ bbl │\n",
       "│ 2021-01-30 18:12:37.864857 ┆ 310.126831 ┆ 9881904  ┆ OilTank4Volume ┆ bbl │\n",
       "│ 2021-01-30 17:12:37.864857 ┆ 308.522869 ┆ 9881904  ┆ OilTank4Volume ┆ bbl │\n",
       "│ 2021-01-30 16:12:37.864857 ┆ 306.875488 ┆ 9881904  ┆ OilTank4Volume ┆ bbl │\n",
       "│ 2021-01-30 15:12:37.864857 ┆ 305.19665  ┆ 9881904  ┆ OilTank4Volume ┆ bbl │\n",
       "│ 2021-01-30 14:12:37.864857 ┆ 303.497099 ┆ 9881904  ┆ OilTank4Volume ┆ bbl │\n",
       "│ 2021-01-30 13:12:37.864857 ┆ 301.785926 ┆ 9881904  ┆ OilTank4Volume ┆ bbl │\n",
       "└────────────────────────────┴────────────┴──────────┴────────────────┴─────┘"
      ]
     },
     "execution_count": 22,
     "metadata": {},
     "output_type": "execute_result"
    }
   ],
   "source": [
    "import polars as pl\n",
    "from src.tank_ts_endpoint import fetch_tank_ts_data, GetTanksTimeDataReq\n",
    "\n",
    "req = GetTanksTimeDataReq(scada_id='9881904')\n",
    "\n",
    "df = await fetch_tank_ts_data(req)\n",
    "if df is None:\n",
    "    raise ValueError(\"df is None\")\n",
    "lf = df.lazy()\n",
    "lf.collect()"
   ]
  },
  {
   "cell_type": "code",
   "execution_count": 21,
   "metadata": {},
   "outputs": [
    {
     "data": {
      "text/plain": [
       "polars.config.Config"
      ]
     },
     "execution_count": 21,
     "metadata": {},
     "output_type": "execute_result"
    }
   ],
   "source": [
    "pl.Config.set_tbl_rows(1500)"
   ]
  },
  {
   "cell_type": "code",
   "execution_count": 17,
   "metadata": {},
   "outputs": [
    {
     "data": {
      "text/html": [
       "<div><style>\n",
       ".dataframe > thead > tr,\n",
       ".dataframe > tbody > tr {\n",
       "  text-align: right;\n",
       "  white-space: pre-wrap;\n",
       "}\n",
       "</style>\n",
       "<small>shape: (96, 5)</small><table border=\"1\" class=\"dataframe\"><thead><tr><th>ts</th><th>value</th><th>scada_id</th><th>tank_name</th><th>uom</th></tr><tr><td>datetime[μs]</td><td>f64</td><td>str</td><td>str</td><td>str</td></tr></thead><tbody><tr><td>2021-07-15 11:24:32.025842</td><td>76.742959</td><td>&quot;9881904&quot;</td><td>&quot;OilTank4Level&quot;</td><td>&quot;in&quot;</td></tr><tr><td>2021-07-15 10:24:32.025842</td><td>76.636488</td><td>&quot;9881904&quot;</td><td>&quot;OilTank4Level&quot;</td><td>&quot;in&quot;</td></tr><tr><td>2021-07-15 09:24:32.025842</td><td>76.569618</td><td>&quot;9881904&quot;</td><td>&quot;OilTank4Level&quot;</td><td>&quot;in&quot;</td></tr><tr><td>2021-07-15 08:24:32.025842</td><td>76.5744</td><td>&quot;9881904&quot;</td><td>&quot;OilTank4Level&quot;</td><td>&quot;in&quot;</td></tr><tr><td>2021-07-15 07:24:32.025842</td><td>76.675313</td><td>&quot;9881904&quot;</td><td>&quot;OilTank4Level&quot;</td><td>&quot;in&quot;</td></tr><tr><td>&hellip;</td><td>&hellip;</td><td>&hellip;</td><td>&hellip;</td><td>&hellip;</td></tr><tr><td>2021-01-30 17:12:37.864857</td><td>308.522869</td><td>&quot;9881904&quot;</td><td>&quot;OilTank4Volume&quot;</td><td>&quot;bbl&quot;</td></tr><tr><td>2021-01-30 16:12:37.864857</td><td>306.875488</td><td>&quot;9881904&quot;</td><td>&quot;OilTank4Volume&quot;</td><td>&quot;bbl&quot;</td></tr><tr><td>2021-01-30 15:12:37.864857</td><td>305.19665</td><td>&quot;9881904&quot;</td><td>&quot;OilTank4Volume&quot;</td><td>&quot;bbl&quot;</td></tr><tr><td>2021-01-30 14:12:37.864857</td><td>303.497099</td><td>&quot;9881904&quot;</td><td>&quot;OilTank4Volume&quot;</td><td>&quot;bbl&quot;</td></tr><tr><td>2021-01-30 13:12:37.864857</td><td>301.785926</td><td>&quot;9881904&quot;</td><td>&quot;OilTank4Volume&quot;</td><td>&quot;bbl&quot;</td></tr></tbody></table></div>"
      ],
      "text/plain": [
       "shape: (96, 5)\n",
       "┌────────────────────────────┬────────────┬──────────┬────────────────┬─────┐\n",
       "│ ts                         ┆ value      ┆ scada_id ┆ tank_name      ┆ uom │\n",
       "│ ---                        ┆ ---        ┆ ---      ┆ ---            ┆ --- │\n",
       "│ datetime[μs]               ┆ f64        ┆ str      ┆ str            ┆ str │\n",
       "╞════════════════════════════╪════════════╪══════════╪════════════════╪═════╡\n",
       "│ 2021-07-15 11:24:32.025842 ┆ 76.742959  ┆ 9881904  ┆ OilTank4Level  ┆ in  │\n",
       "│ 2021-07-15 10:24:32.025842 ┆ 76.636488  ┆ 9881904  ┆ OilTank4Level  ┆ in  │\n",
       "│ 2021-07-15 09:24:32.025842 ┆ 76.569618  ┆ 9881904  ┆ OilTank4Level  ┆ in  │\n",
       "│ 2021-07-15 08:24:32.025842 ┆ 76.5744    ┆ 9881904  ┆ OilTank4Level  ┆ in  │\n",
       "│ 2021-07-15 07:24:32.025842 ┆ 76.675313  ┆ 9881904  ┆ OilTank4Level  ┆ in  │\n",
       "│ …                          ┆ …          ┆ …        ┆ …              ┆ …   │\n",
       "│ 2021-01-30 17:12:37.864857 ┆ 308.522869 ┆ 9881904  ┆ OilTank4Volume ┆ bbl │\n",
       "│ 2021-01-30 16:12:37.864857 ┆ 306.875488 ┆ 9881904  ┆ OilTank4Volume ┆ bbl │\n",
       "│ 2021-01-30 15:12:37.864857 ┆ 305.19665  ┆ 9881904  ┆ OilTank4Volume ┆ bbl │\n",
       "│ 2021-01-30 14:12:37.864857 ┆ 303.497099 ┆ 9881904  ┆ OilTank4Volume ┆ bbl │\n",
       "│ 2021-01-30 13:12:37.864857 ┆ 301.785926 ┆ 9881904  ┆ OilTank4Volume ┆ bbl │\n",
       "└────────────────────────────┴────────────┴──────────┴────────────────┴─────┘"
      ]
     },
     "execution_count": 17,
     "metadata": {},
     "output_type": "execute_result"
    }
   ],
   "source": [
    "lf = lf.drop(\"key_metric\")\n",
    "lf.collect()"
   ]
  },
  {
   "cell_type": "code",
   "execution_count": 18,
   "metadata": {},
   "outputs": [
    {
     "data": {
      "text/html": [
       "<div><style>\n",
       ".dataframe > thead > tr,\n",
       ".dataframe > tbody > tr {\n",
       "  text-align: right;\n",
       "  white-space: pre-wrap;\n",
       "}\n",
       "</style>\n",
       "<small>shape: (96, 9)</small><table border=\"1\" class=\"dataframe\"><thead><tr><th>ts</th><th>value</th><th>scada_id</th><th>tank_name</th><th>uom</th><th>is_esd</th><th>tank_type</th><th>tank_number</th><th>tank_metric</th></tr><tr><td>datetime[μs]</td><td>f64</td><td>str</td><td>str</td><td>str</td><td>str</td><td>str</td><td>str</td><td>str</td></tr></thead><tbody><tr><td>2021-07-15 11:24:32.025842</td><td>76.742959</td><td>&quot;9881904&quot;</td><td>&quot;OilTank4Level&quot;</td><td>&quot;in&quot;</td><td>null</td><td>&quot;Oil&quot;</td><td>&quot;4&quot;</td><td>&quot;Level&quot;</td></tr><tr><td>2021-07-15 10:24:32.025842</td><td>76.636488</td><td>&quot;9881904&quot;</td><td>&quot;OilTank4Level&quot;</td><td>&quot;in&quot;</td><td>null</td><td>&quot;Oil&quot;</td><td>&quot;4&quot;</td><td>&quot;Level&quot;</td></tr><tr><td>2021-07-15 09:24:32.025842</td><td>76.569618</td><td>&quot;9881904&quot;</td><td>&quot;OilTank4Level&quot;</td><td>&quot;in&quot;</td><td>null</td><td>&quot;Oil&quot;</td><td>&quot;4&quot;</td><td>&quot;Level&quot;</td></tr><tr><td>2021-07-15 08:24:32.025842</td><td>76.5744</td><td>&quot;9881904&quot;</td><td>&quot;OilTank4Level&quot;</td><td>&quot;in&quot;</td><td>null</td><td>&quot;Oil&quot;</td><td>&quot;4&quot;</td><td>&quot;Level&quot;</td></tr><tr><td>2021-07-15 07:24:32.025842</td><td>76.675313</td><td>&quot;9881904&quot;</td><td>&quot;OilTank4Level&quot;</td><td>&quot;in&quot;</td><td>null</td><td>&quot;Oil&quot;</td><td>&quot;4&quot;</td><td>&quot;Level&quot;</td></tr><tr><td>&hellip;</td><td>&hellip;</td><td>&hellip;</td><td>&hellip;</td><td>&hellip;</td><td>&hellip;</td><td>&hellip;</td><td>&hellip;</td><td>&hellip;</td></tr><tr><td>2021-01-30 17:12:37.864857</td><td>308.522869</td><td>&quot;9881904&quot;</td><td>&quot;OilTank4Volume&quot;</td><td>&quot;bbl&quot;</td><td>null</td><td>&quot;Oil&quot;</td><td>&quot;4&quot;</td><td>&quot;Volume&quot;</td></tr><tr><td>2021-01-30 16:12:37.864857</td><td>306.875488</td><td>&quot;9881904&quot;</td><td>&quot;OilTank4Volume&quot;</td><td>&quot;bbl&quot;</td><td>null</td><td>&quot;Oil&quot;</td><td>&quot;4&quot;</td><td>&quot;Volume&quot;</td></tr><tr><td>2021-01-30 15:12:37.864857</td><td>305.19665</td><td>&quot;9881904&quot;</td><td>&quot;OilTank4Volume&quot;</td><td>&quot;bbl&quot;</td><td>null</td><td>&quot;Oil&quot;</td><td>&quot;4&quot;</td><td>&quot;Volume&quot;</td></tr><tr><td>2021-01-30 14:12:37.864857</td><td>303.497099</td><td>&quot;9881904&quot;</td><td>&quot;OilTank4Volume&quot;</td><td>&quot;bbl&quot;</td><td>null</td><td>&quot;Oil&quot;</td><td>&quot;4&quot;</td><td>&quot;Volume&quot;</td></tr><tr><td>2021-01-30 13:12:37.864857</td><td>301.785926</td><td>&quot;9881904&quot;</td><td>&quot;OilTank4Volume&quot;</td><td>&quot;bbl&quot;</td><td>null</td><td>&quot;Oil&quot;</td><td>&quot;4&quot;</td><td>&quot;Volume&quot;</td></tr></tbody></table></div>"
      ],
      "text/plain": [
       "shape: (96, 9)\n",
       "┌────────────┬────────────┬──────────┬────────────┬───┬────────┬───────────┬───────────┬───────────┐\n",
       "│ ts         ┆ value      ┆ scada_id ┆ tank_name  ┆ … ┆ is_esd ┆ tank_type ┆ tank_numb ┆ tank_metr │\n",
       "│ ---        ┆ ---        ┆ ---      ┆ ---        ┆   ┆ ---    ┆ ---       ┆ er        ┆ ic        │\n",
       "│ datetime[μ ┆ f64        ┆ str      ┆ str        ┆   ┆ str    ┆ str       ┆ ---       ┆ ---       │\n",
       "│ s]         ┆            ┆          ┆            ┆   ┆        ┆           ┆ str       ┆ str       │\n",
       "╞════════════╪════════════╪══════════╪════════════╪═══╪════════╪═══════════╪═══════════╪═══════════╡\n",
       "│ 2021-07-15 ┆ 76.742959  ┆ 9881904  ┆ OilTank4Le ┆ … ┆ null   ┆ Oil       ┆ 4         ┆ Level     │\n",
       "│ 11:24:32.0 ┆            ┆          ┆ vel        ┆   ┆        ┆           ┆           ┆           │\n",
       "│ 25842      ┆            ┆          ┆            ┆   ┆        ┆           ┆           ┆           │\n",
       "│ 2021-07-15 ┆ 76.636488  ┆ 9881904  ┆ OilTank4Le ┆ … ┆ null   ┆ Oil       ┆ 4         ┆ Level     │\n",
       "│ 10:24:32.0 ┆            ┆          ┆ vel        ┆   ┆        ┆           ┆           ┆           │\n",
       "│ 25842      ┆            ┆          ┆            ┆   ┆        ┆           ┆           ┆           │\n",
       "│ 2021-07-15 ┆ 76.569618  ┆ 9881904  ┆ OilTank4Le ┆ … ┆ null   ┆ Oil       ┆ 4         ┆ Level     │\n",
       "│ 09:24:32.0 ┆            ┆          ┆ vel        ┆   ┆        ┆           ┆           ┆           │\n",
       "│ 25842      ┆            ┆          ┆            ┆   ┆        ┆           ┆           ┆           │\n",
       "│ 2021-07-15 ┆ 76.5744    ┆ 9881904  ┆ OilTank4Le ┆ … ┆ null   ┆ Oil       ┆ 4         ┆ Level     │\n",
       "│ 08:24:32.0 ┆            ┆          ┆ vel        ┆   ┆        ┆           ┆           ┆           │\n",
       "│ 25842      ┆            ┆          ┆            ┆   ┆        ┆           ┆           ┆           │\n",
       "│ 2021-07-15 ┆ 76.675313  ┆ 9881904  ┆ OilTank4Le ┆ … ┆ null   ┆ Oil       ┆ 4         ┆ Level     │\n",
       "│ 07:24:32.0 ┆            ┆          ┆ vel        ┆   ┆        ┆           ┆           ┆           │\n",
       "│ 25842      ┆            ┆          ┆            ┆   ┆        ┆           ┆           ┆           │\n",
       "│ …          ┆ …          ┆ …        ┆ …          ┆ … ┆ …      ┆ …         ┆ …         ┆ …         │\n",
       "│ 2021-01-30 ┆ 308.522869 ┆ 9881904  ┆ OilTank4Vo ┆ … ┆ null   ┆ Oil       ┆ 4         ┆ Volume    │\n",
       "│ 17:12:37.8 ┆            ┆          ┆ lume       ┆   ┆        ┆           ┆           ┆           │\n",
       "│ 64857      ┆            ┆          ┆            ┆   ┆        ┆           ┆           ┆           │\n",
       "│ 2021-01-30 ┆ 306.875488 ┆ 9881904  ┆ OilTank4Vo ┆ … ┆ null   ┆ Oil       ┆ 4         ┆ Volume    │\n",
       "│ 16:12:37.8 ┆            ┆          ┆ lume       ┆   ┆        ┆           ┆           ┆           │\n",
       "│ 64857      ┆            ┆          ┆            ┆   ┆        ┆           ┆           ┆           │\n",
       "│ 2021-01-30 ┆ 305.19665  ┆ 9881904  ┆ OilTank4Vo ┆ … ┆ null   ┆ Oil       ┆ 4         ┆ Volume    │\n",
       "│ 15:12:37.8 ┆            ┆          ┆ lume       ┆   ┆        ┆           ┆           ┆           │\n",
       "│ 64857      ┆            ┆          ┆            ┆   ┆        ┆           ┆           ┆           │\n",
       "│ 2021-01-30 ┆ 303.497099 ┆ 9881904  ┆ OilTank4Vo ┆ … ┆ null   ┆ Oil       ┆ 4         ┆ Volume    │\n",
       "│ 14:12:37.8 ┆            ┆          ┆ lume       ┆   ┆        ┆           ┆           ┆           │\n",
       "│ 64857      ┆            ┆          ┆            ┆   ┆        ┆           ┆           ┆           │\n",
       "│ 2021-01-30 ┆ 301.785926 ┆ 9881904  ┆ OilTank4Vo ┆ … ┆ null   ┆ Oil       ┆ 4         ┆ Volume    │\n",
       "│ 13:12:37.8 ┆            ┆          ┆ lume       ┆   ┆        ┆           ┆           ┆           │\n",
       "│ 64857      ┆            ┆          ┆            ┆   ┆        ┆           ┆           ┆           │\n",
       "└────────────┴────────────┴──────────┴────────────┴───┴────────┴───────────┴───────────┴───────────┘"
      ]
     },
     "execution_count": 18,
     "metadata": {},
     "output_type": "execute_result"
    }
   ],
   "source": [
    "tank_metrics = [\"Level\", \"Volume\", \"InchesUntilAlarm\", \"InchesToESD\"]\n",
    "tank_types = [\"Water\", \"Oil\"]\n",
    "\n",
    "tank_metrics_str= \"|\".join(tank_metrics)\n",
    "tank_types_str = \"|\".join(tank_types)\n",
    "\n",
    "pattern = f'^(?<is_esd>ESD-)?(?<tank_type>{tank_types_str})Tank(?<tank_number>[0-9]*)(?<tank_metric>{tank_metrics_str})'\n",
    "lf = lf.with_columns(separated_metrics = pl.col(\"tank_name\").str.extract_groups(pattern))\n",
    "lf = lf.unnest(\"separated_metrics\")\n",
    "lf.collect()"
   ]
  },
  {
   "cell_type": "code",
   "execution_count": 19,
   "metadata": {},
   "outputs": [
    {
     "data": {
      "text/html": [
       "<div><style>\n",
       ".dataframe > thead > tr,\n",
       ".dataframe > tbody > tr {\n",
       "  text-align: right;\n",
       "  white-space: pre-wrap;\n",
       "}\n",
       "</style>\n",
       "<small>shape: (96, 5)</small><table border=\"1\" class=\"dataframe\"><thead><tr><th>ts</th><th>value</th><th>scada_id</th><th>uom</th><th>tank_metric</th></tr><tr><td>datetime[μs]</td><td>f64</td><td>str</td><td>str</td><td>str</td></tr></thead><tbody><tr><td>2021-07-15 11:24:32.025842</td><td>76.742959</td><td>&quot;9881904&quot;</td><td>&quot;in&quot;</td><td>&quot;Level&quot;</td></tr><tr><td>2021-07-15 10:24:32.025842</td><td>76.636488</td><td>&quot;9881904&quot;</td><td>&quot;in&quot;</td><td>&quot;Level&quot;</td></tr><tr><td>2021-07-15 09:24:32.025842</td><td>76.569618</td><td>&quot;9881904&quot;</td><td>&quot;in&quot;</td><td>&quot;Level&quot;</td></tr><tr><td>2021-07-15 08:24:32.025842</td><td>76.5744</td><td>&quot;9881904&quot;</td><td>&quot;in&quot;</td><td>&quot;Level&quot;</td></tr><tr><td>2021-07-15 07:24:32.025842</td><td>76.675313</td><td>&quot;9881904&quot;</td><td>&quot;in&quot;</td><td>&quot;Level&quot;</td></tr><tr><td>&hellip;</td><td>&hellip;</td><td>&hellip;</td><td>&hellip;</td><td>&hellip;</td></tr><tr><td>2021-01-30 17:12:37.864857</td><td>308.522869</td><td>&quot;9881904&quot;</td><td>&quot;bbl&quot;</td><td>&quot;Volume&quot;</td></tr><tr><td>2021-01-30 16:12:37.864857</td><td>306.875488</td><td>&quot;9881904&quot;</td><td>&quot;bbl&quot;</td><td>&quot;Volume&quot;</td></tr><tr><td>2021-01-30 15:12:37.864857</td><td>305.19665</td><td>&quot;9881904&quot;</td><td>&quot;bbl&quot;</td><td>&quot;Volume&quot;</td></tr><tr><td>2021-01-30 14:12:37.864857</td><td>303.497099</td><td>&quot;9881904&quot;</td><td>&quot;bbl&quot;</td><td>&quot;Volume&quot;</td></tr><tr><td>2021-01-30 13:12:37.864857</td><td>301.785926</td><td>&quot;9881904&quot;</td><td>&quot;bbl&quot;</td><td>&quot;Volume&quot;</td></tr></tbody></table></div>"
      ],
      "text/plain": [
       "shape: (96, 5)\n",
       "┌────────────────────────────┬────────────┬──────────┬─────┬─────────────┐\n",
       "│ ts                         ┆ value      ┆ scada_id ┆ uom ┆ tank_metric │\n",
       "│ ---                        ┆ ---        ┆ ---      ┆ --- ┆ ---         │\n",
       "│ datetime[μs]               ┆ f64        ┆ str      ┆ str ┆ str         │\n",
       "╞════════════════════════════╪════════════╪══════════╪═════╪═════════════╡\n",
       "│ 2021-07-15 11:24:32.025842 ┆ 76.742959  ┆ 9881904  ┆ in  ┆ Level       │\n",
       "│ 2021-07-15 10:24:32.025842 ┆ 76.636488  ┆ 9881904  ┆ in  ┆ Level       │\n",
       "│ 2021-07-15 09:24:32.025842 ┆ 76.569618  ┆ 9881904  ┆ in  ┆ Level       │\n",
       "│ 2021-07-15 08:24:32.025842 ┆ 76.5744    ┆ 9881904  ┆ in  ┆ Level       │\n",
       "│ 2021-07-15 07:24:32.025842 ┆ 76.675313  ┆ 9881904  ┆ in  ┆ Level       │\n",
       "│ …                          ┆ …          ┆ …        ┆ …   ┆ …           │\n",
       "│ 2021-01-30 17:12:37.864857 ┆ 308.522869 ┆ 9881904  ┆ bbl ┆ Volume      │\n",
       "│ 2021-01-30 16:12:37.864857 ┆ 306.875488 ┆ 9881904  ┆ bbl ┆ Volume      │\n",
       "│ 2021-01-30 15:12:37.864857 ┆ 305.19665  ┆ 9881904  ┆ bbl ┆ Volume      │\n",
       "│ 2021-01-30 14:12:37.864857 ┆ 303.497099 ┆ 9881904  ┆ bbl ┆ Volume      │\n",
       "│ 2021-01-30 13:12:37.864857 ┆ 301.785926 ┆ 9881904  ┆ bbl ┆ Volume      │\n",
       "└────────────────────────────┴────────────┴──────────┴─────┴─────────────┘"
      ]
     },
     "execution_count": 19,
     "metadata": {},
     "output_type": "execute_result"
    }
   ],
   "source": [
    "lf = lf.drop(\"tank_name\", \"is_esd\", \"tank_type\", \"tank_number\")\n",
    "lf.collect()"
   ]
  },
  {
   "cell_type": "code",
   "execution_count": 20,
   "metadata": {},
   "outputs": [
    {
     "data": {
      "text/html": [
       "<div><style>\n",
       ".dataframe > thead > tr,\n",
       ".dataframe > tbody > tr {\n",
       "  text-align: right;\n",
       "  white-space: pre-wrap;\n",
       "}\n",
       "</style>\n",
       "<small>shape: (2, 4)</small><table border=\"1\" class=\"dataframe\"><thead><tr><th>tank_metric</th><th>uom</th><th>timestamps</th><th>values</th></tr><tr><td>str</td><td>str</td><td>list[datetime[μs]]</td><td>list[f64]</td></tr></thead><tbody><tr><td>&quot;Volume&quot;</td><td>&quot;bbl&quot;</td><td>[2021-02-01 12:12:37.864857, 2021-02-01 11:12:37.864857, … 2021-01-30 13:12:37.864857]</td><td>[300.070112, 299.96364, … 301.785926]</td></tr><tr><td>&quot;Level&quot;</td><td>&quot;in&quot;</td><td>[2021-07-15 11:24:32.025842, 2021-07-15 10:24:32.025842, … 2021-07-13 12:24:32.025842]</td><td>[76.742959, 76.636488, … 78.458773]</td></tr></tbody></table></div>"
      ],
      "text/plain": [
       "shape: (2, 4)\n",
       "┌─────────────┬─────┬─────────────────────────────────┬─────────────────────────────────┐\n",
       "│ tank_metric ┆ uom ┆ timestamps                      ┆ values                          │\n",
       "│ ---         ┆ --- ┆ ---                             ┆ ---                             │\n",
       "│ str         ┆ str ┆ list[datetime[μs]]              ┆ list[f64]                       │\n",
       "╞═════════════╪═════╪═════════════════════════════════╪═════════════════════════════════╡\n",
       "│ Volume      ┆ bbl ┆ [2021-02-01 12:12:37.864857, 2… ┆ [300.070112, 299.96364, … 301.… │\n",
       "│ Level       ┆ in  ┆ [2021-07-15 11:24:32.025842, 2… ┆ [76.742959, 76.636488, … 78.45… │\n",
       "└─────────────┴─────┴─────────────────────────────────┴─────────────────────────────────┘"
      ]
     },
     "execution_count": 20,
     "metadata": {},
     "output_type": "execute_result"
    }
   ],
   "source": [
    "aggregated_lf = lf.group_by([\"tank_metric\", \"uom\"]).agg([\n",
    "    pl.col(\"ts\").alias(\"timestamps\"),\n",
    "    pl.col(\"value\").alias(\"values\")\n",
    "])\n",
    "\n",
    "aggregated_lf.collect()"
   ]
  }
 ],
 "metadata": {
  "kernelspec": {
   "display_name": ".venv",
   "language": "python",
   "name": "python3"
  },
  "language_info": {
   "codemirror_mode": {
    "name": "ipython",
    "version": 3
   },
   "file_extension": ".py",
   "mimetype": "text/x-python",
   "name": "python",
   "nbconvert_exporter": "python",
   "pygments_lexer": "ipython3",
   "version": "3.12.2"
  }
 },
 "nbformat": 4,
 "nbformat_minor": 2
}
