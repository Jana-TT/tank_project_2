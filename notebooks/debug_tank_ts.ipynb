{
 "cells": [
  {
   "cell_type": "code",
   "execution_count": 1,
   "metadata": {},
   "outputs": [
    {
     "data": {
      "text/html": [
       "<div><style>\n",
       ".dataframe > thead > tr,\n",
       ".dataframe > tbody > tr {\n",
       "  text-align: right;\n",
       "  white-space: pre-wrap;\n",
       "}\n",
       "</style>\n",
       "<small>shape: (162, 5)</small><table border=\"1\" class=\"dataframe\"><thead><tr><th>ts</th><th>value</th><th>source_key</th><th>metric_nice_name</th><th>uom</th></tr><tr><td>datetime[μs]</td><td>f64</td><td>str</td><td>str</td><td>str</td></tr></thead><tbody><tr><td>2024-08-22 20:10:28.260583</td><td>291.456951</td><td>&quot;9883901&quot;</td><td>&quot;OilTank1Volume&quot;</td><td>&quot;bbl&quot;</td></tr><tr><td>2024-08-26 18:34:13.231329</td><td>298.883254</td><td>&quot;9883901&quot;</td><td>&quot;OilTank1Volume&quot;</td><td>&quot;bbl&quot;</td></tr><tr><td>2024-08-28 06:15:32.821494</td><td>262.238814</td><td>&quot;9883901&quot;</td><td>&quot;OilTank1Volume&quot;</td><td>&quot;bbl&quot;</td></tr><tr><td>2024-08-26 09:32:03.681955</td><td>303.781195</td><td>&quot;9883901&quot;</td><td>&quot;OilTank1Volume&quot;</td><td>&quot;bbl&quot;</td></tr><tr><td>2024-08-29 10:53:08.232747</td><td>351.712976</td><td>&quot;9883901&quot;</td><td>&quot;OilTank1Volume&quot;</td><td>&quot;bbl&quot;</td></tr><tr><td>&hellip;</td><td>&hellip;</td><td>&hellip;</td><td>&hellip;</td><td>&hellip;</td></tr><tr><td>2024-08-28 22:23:33.615018</td><td>232.012233</td><td>&quot;98839FAC&quot;</td><td>&quot;ESD-OilTankInchesUntilAlarm&quot;</td><td>&quot;in&quot;</td></tr><tr><td>2024-08-28 13:59:08.358302</td><td>198.544071</td><td>&quot;98839FAC&quot;</td><td>&quot;ESD-OilTankInchesUntilAlarm&quot;</td><td>&quot;in&quot;</td></tr><tr><td>2024-08-29 07:27:55.213780</td><td>272.102104</td><td>&quot;98839FAC&quot;</td><td>&quot;ESD-OilTankInchesUntilAlarm&quot;</td><td>&quot;in&quot;</td></tr><tr><td>2024-05-02 19:15:24.255861</td><td>3.0</td><td>&quot;98839FAC&quot;</td><td>&quot;ESD-OilTankID&quot;</td><td>&quot;&quot;</td></tr><tr><td>2023-10-07 12:08:05.914327</td><td>2.0</td><td>&quot;98839FAC&quot;</td><td>&quot;ESD-WaterTankID&quot;</td><td>&quot;&quot;</td></tr></tbody></table></div>"
      ],
      "text/plain": [
       "shape: (162, 5)\n",
       "┌────────────────────────────┬────────────┬────────────┬─────────────────────────────┬─────┐\n",
       "│ ts                         ┆ value      ┆ source_key ┆ metric_nice_name            ┆ uom │\n",
       "│ ---                        ┆ ---        ┆ ---        ┆ ---                         ┆ --- │\n",
       "│ datetime[μs]               ┆ f64        ┆ str        ┆ str                         ┆ str │\n",
       "╞════════════════════════════╪════════════╪════════════╪═════════════════════════════╪═════╡\n",
       "│ 2024-08-22 20:10:28.260583 ┆ 291.456951 ┆ 9883901    ┆ OilTank1Volume              ┆ bbl │\n",
       "│ 2024-08-26 18:34:13.231329 ┆ 298.883254 ┆ 9883901    ┆ OilTank1Volume              ┆ bbl │\n",
       "│ 2024-08-28 06:15:32.821494 ┆ 262.238814 ┆ 9883901    ┆ OilTank1Volume              ┆ bbl │\n",
       "│ 2024-08-26 09:32:03.681955 ┆ 303.781195 ┆ 9883901    ┆ OilTank1Volume              ┆ bbl │\n",
       "│ 2024-08-29 10:53:08.232747 ┆ 351.712976 ┆ 9883901    ┆ OilTank1Volume              ┆ bbl │\n",
       "│ …                          ┆ …          ┆ …          ┆ …                           ┆ …   │\n",
       "│ 2024-08-28 22:23:33.615018 ┆ 232.012233 ┆ 98839FAC   ┆ ESD-OilTankInchesUntilAlarm ┆ in  │\n",
       "│ 2024-08-28 13:59:08.358302 ┆ 198.544071 ┆ 98839FAC   ┆ ESD-OilTankInchesUntilAlarm ┆ in  │\n",
       "│ 2024-08-29 07:27:55.213780 ┆ 272.102104 ┆ 98839FAC   ┆ ESD-OilTankInchesUntilAlarm ┆ in  │\n",
       "│ 2024-05-02 19:15:24.255861 ┆ 3.0        ┆ 98839FAC   ┆ ESD-OilTankID               ┆     │\n",
       "│ 2023-10-07 12:08:05.914327 ┆ 2.0        ┆ 98839FAC   ┆ ESD-WaterTankID             ┆     │\n",
       "└────────────────────────────┴────────────┴────────────┴─────────────────────────────┴─────┘"
      ]
     },
     "execution_count": 1,
     "metadata": {},
     "output_type": "execute_result"
    }
   ],
   "source": [
    "import polars as pl\n",
    "from src.tank_ts_endpoint import fetch_tank_ts_data, GetTanksTimeDataReq\n",
    "\n",
    "#pl.Config.set_tbl_rows(2000)\n",
    "\n",
    "req = GetTanksTimeDataReq(source_key=['9883901', '98839FAC'])\n",
    "\n",
    "df = await fetch_tank_ts_data(req)\n",
    "if df is None:\n",
    "    raise ValueError(\"df is None\")\n",
    "lf = df.lazy()\n",
    "lf.collect()"
   ]
  },
  {
   "cell_type": "code",
   "execution_count": 2,
   "metadata": {},
   "outputs": [
    {
     "data": {
      "text/html": [
       "<div><style>\n",
       ".dataframe > thead > tr,\n",
       ".dataframe > tbody > tr {\n",
       "  text-align: right;\n",
       "  white-space: pre-wrap;\n",
       "}\n",
       "</style>\n",
       "<small>shape: (162, 9)</small><table border=\"1\" class=\"dataframe\"><thead><tr><th>ts</th><th>value</th><th>source_key</th><th>metric_nice_name</th><th>uom</th><th>is_esd</th><th>tank_type</th><th>tank_number</th><th>tank_metric</th></tr><tr><td>datetime[μs]</td><td>f64</td><td>str</td><td>str</td><td>str</td><td>str</td><td>str</td><td>str</td><td>str</td></tr></thead><tbody><tr><td>2024-08-22 20:10:28.260583</td><td>291.456951</td><td>&quot;9883901&quot;</td><td>&quot;OilTank1Volume&quot;</td><td>&quot;bbl&quot;</td><td>null</td><td>&quot;Oil&quot;</td><td>&quot;1&quot;</td><td>&quot;Volume&quot;</td></tr><tr><td>2024-08-26 18:34:13.231329</td><td>298.883254</td><td>&quot;9883901&quot;</td><td>&quot;OilTank1Volume&quot;</td><td>&quot;bbl&quot;</td><td>null</td><td>&quot;Oil&quot;</td><td>&quot;1&quot;</td><td>&quot;Volume&quot;</td></tr><tr><td>2024-08-28 06:15:32.821494</td><td>262.238814</td><td>&quot;9883901&quot;</td><td>&quot;OilTank1Volume&quot;</td><td>&quot;bbl&quot;</td><td>null</td><td>&quot;Oil&quot;</td><td>&quot;1&quot;</td><td>&quot;Volume&quot;</td></tr><tr><td>2024-08-26 09:32:03.681955</td><td>303.781195</td><td>&quot;9883901&quot;</td><td>&quot;OilTank1Volume&quot;</td><td>&quot;bbl&quot;</td><td>null</td><td>&quot;Oil&quot;</td><td>&quot;1&quot;</td><td>&quot;Volume&quot;</td></tr><tr><td>2024-08-29 10:53:08.232747</td><td>351.712976</td><td>&quot;9883901&quot;</td><td>&quot;OilTank1Volume&quot;</td><td>&quot;bbl&quot;</td><td>null</td><td>&quot;Oil&quot;</td><td>&quot;1&quot;</td><td>&quot;Volume&quot;</td></tr><tr><td>&hellip;</td><td>&hellip;</td><td>&hellip;</td><td>&hellip;</td><td>&hellip;</td><td>&hellip;</td><td>&hellip;</td><td>&hellip;</td><td>&hellip;</td></tr><tr><td>2024-08-28 22:23:33.615018</td><td>232.012233</td><td>&quot;98839FAC&quot;</td><td>&quot;ESD-OilTankInchesUntilAlarm&quot;</td><td>&quot;in&quot;</td><td>&quot;ESD-&quot;</td><td>&quot;Oil&quot;</td><td>&quot;&quot;</td><td>&quot;InchesUntilAlarm&quot;</td></tr><tr><td>2024-08-28 13:59:08.358302</td><td>198.544071</td><td>&quot;98839FAC&quot;</td><td>&quot;ESD-OilTankInchesUntilAlarm&quot;</td><td>&quot;in&quot;</td><td>&quot;ESD-&quot;</td><td>&quot;Oil&quot;</td><td>&quot;&quot;</td><td>&quot;InchesUntilAlarm&quot;</td></tr><tr><td>2024-08-29 07:27:55.213780</td><td>272.102104</td><td>&quot;98839FAC&quot;</td><td>&quot;ESD-OilTankInchesUntilAlarm&quot;</td><td>&quot;in&quot;</td><td>&quot;ESD-&quot;</td><td>&quot;Oil&quot;</td><td>&quot;&quot;</td><td>&quot;InchesUntilAlarm&quot;</td></tr><tr><td>2024-05-02 19:15:24.255861</td><td>3.0</td><td>&quot;98839FAC&quot;</td><td>&quot;ESD-OilTankID&quot;</td><td>&quot;&quot;</td><td>null</td><td>null</td><td>null</td><td>null</td></tr><tr><td>2023-10-07 12:08:05.914327</td><td>2.0</td><td>&quot;98839FAC&quot;</td><td>&quot;ESD-WaterTankID&quot;</td><td>&quot;&quot;</td><td>null</td><td>null</td><td>null</td><td>null</td></tr></tbody></table></div>"
      ],
      "text/plain": [
       "shape: (162, 9)\n",
       "┌────────────┬────────────┬───────────┬───────────┬───┬────────┬───────────┬───────────┬───────────┐\n",
       "│ ts         ┆ value      ┆ source_ke ┆ metric_ni ┆ … ┆ is_esd ┆ tank_type ┆ tank_numb ┆ tank_metr │\n",
       "│ ---        ┆ ---        ┆ y         ┆ ce_name   ┆   ┆ ---    ┆ ---       ┆ er        ┆ ic        │\n",
       "│ datetime[μ ┆ f64        ┆ ---       ┆ ---       ┆   ┆ str    ┆ str       ┆ ---       ┆ ---       │\n",
       "│ s]         ┆            ┆ str       ┆ str       ┆   ┆        ┆           ┆ str       ┆ str       │\n",
       "╞════════════╪════════════╪═══════════╪═══════════╪═══╪════════╪═══════════╪═══════════╪═══════════╡\n",
       "│ 2024-08-22 ┆ 291.456951 ┆ 9883901   ┆ OilTank1V ┆ … ┆ null   ┆ Oil       ┆ 1         ┆ Volume    │\n",
       "│ 20:10:28.2 ┆            ┆           ┆ olume     ┆   ┆        ┆           ┆           ┆           │\n",
       "│ 60583      ┆            ┆           ┆           ┆   ┆        ┆           ┆           ┆           │\n",
       "│ 2024-08-26 ┆ 298.883254 ┆ 9883901   ┆ OilTank1V ┆ … ┆ null   ┆ Oil       ┆ 1         ┆ Volume    │\n",
       "│ 18:34:13.2 ┆            ┆           ┆ olume     ┆   ┆        ┆           ┆           ┆           │\n",
       "│ 31329      ┆            ┆           ┆           ┆   ┆        ┆           ┆           ┆           │\n",
       "│ 2024-08-28 ┆ 262.238814 ┆ 9883901   ┆ OilTank1V ┆ … ┆ null   ┆ Oil       ┆ 1         ┆ Volume    │\n",
       "│ 06:15:32.8 ┆            ┆           ┆ olume     ┆   ┆        ┆           ┆           ┆           │\n",
       "│ 21494      ┆            ┆           ┆           ┆   ┆        ┆           ┆           ┆           │\n",
       "│ 2024-08-26 ┆ 303.781195 ┆ 9883901   ┆ OilTank1V ┆ … ┆ null   ┆ Oil       ┆ 1         ┆ Volume    │\n",
       "│ 09:32:03.6 ┆            ┆           ┆ olume     ┆   ┆        ┆           ┆           ┆           │\n",
       "│ 81955      ┆            ┆           ┆           ┆   ┆        ┆           ┆           ┆           │\n",
       "│ 2024-08-29 ┆ 351.712976 ┆ 9883901   ┆ OilTank1V ┆ … ┆ null   ┆ Oil       ┆ 1         ┆ Volume    │\n",
       "│ 10:53:08.2 ┆            ┆           ┆ olume     ┆   ┆        ┆           ┆           ┆           │\n",
       "│ 32747      ┆            ┆           ┆           ┆   ┆        ┆           ┆           ┆           │\n",
       "│ …          ┆ …          ┆ …         ┆ …         ┆ … ┆ …      ┆ …         ┆ …         ┆ …         │\n",
       "│ 2024-08-28 ┆ 232.012233 ┆ 98839FAC  ┆ ESD-OilTa ┆ … ┆ ESD-   ┆ Oil       ┆           ┆ InchesUnt │\n",
       "│ 22:23:33.6 ┆            ┆           ┆ nkInchesU ┆   ┆        ┆           ┆           ┆ ilAlarm   │\n",
       "│ 15018      ┆            ┆           ┆ ntilAlarm ┆   ┆        ┆           ┆           ┆           │\n",
       "│ 2024-08-28 ┆ 198.544071 ┆ 98839FAC  ┆ ESD-OilTa ┆ … ┆ ESD-   ┆ Oil       ┆           ┆ InchesUnt │\n",
       "│ 13:59:08.3 ┆            ┆           ┆ nkInchesU ┆   ┆        ┆           ┆           ┆ ilAlarm   │\n",
       "│ 58302      ┆            ┆           ┆ ntilAlarm ┆   ┆        ┆           ┆           ┆           │\n",
       "│ 2024-08-29 ┆ 272.102104 ┆ 98839FAC  ┆ ESD-OilTa ┆ … ┆ ESD-   ┆ Oil       ┆           ┆ InchesUnt │\n",
       "│ 07:27:55.2 ┆            ┆           ┆ nkInchesU ┆   ┆        ┆           ┆           ┆ ilAlarm   │\n",
       "│ 13780      ┆            ┆           ┆ ntilAlarm ┆   ┆        ┆           ┆           ┆           │\n",
       "│ 2024-05-02 ┆ 3.0        ┆ 98839FAC  ┆ ESD-OilTa ┆ … ┆ null   ┆ null      ┆ null      ┆ null      │\n",
       "│ 19:15:24.2 ┆            ┆           ┆ nkID      ┆   ┆        ┆           ┆           ┆           │\n",
       "│ 55861      ┆            ┆           ┆           ┆   ┆        ┆           ┆           ┆           │\n",
       "│ 2023-10-07 ┆ 2.0        ┆ 98839FAC  ┆ ESD-Water ┆ … ┆ null   ┆ null      ┆ null      ┆ null      │\n",
       "│ 12:08:05.9 ┆            ┆           ┆ TankID    ┆   ┆        ┆           ┆           ┆           │\n",
       "│ 14327      ┆            ┆           ┆           ┆   ┆        ┆           ┆           ┆           │\n",
       "└────────────┴────────────┴───────────┴───────────┴───┴────────┴───────────┴───────────┴───────────┘"
      ]
     },
     "execution_count": 2,
     "metadata": {},
     "output_type": "execute_result"
    }
   ],
   "source": [
    "tank_metrics = [\"Level\", \"Volume\", \"InchesUntilAlarm\", \"InchesToESD\"]\n",
    "tank_types = [\"Water\", \"Oil\"]\n",
    "\n",
    "tank_metrics_str= \"|\".join(tank_metrics)\n",
    "tank_types_str = \"|\".join(tank_types)\n",
    "\n",
    "pattern = f'^(?<is_esd>ESD-)?(?<tank_type>{tank_types_str})Tank(?<tank_number>[0-9]*)(?<tank_metric>{tank_metrics_str})'\n",
    "lf = lf.with_columns(separated_metrics = pl.col(\"metric_nice_name\").str.extract_groups(pattern))\n",
    "lf = lf.unnest(\"separated_metrics\")\n",
    "lf.collect()"
   ]
  },
  {
   "cell_type": "code",
   "execution_count": 3,
   "metadata": {},
   "outputs": [
    {
     "data": {
      "text/html": [
       "<div><style>\n",
       ".dataframe > thead > tr,\n",
       ".dataframe > tbody > tr {\n",
       "  text-align: right;\n",
       "  white-space: pre-wrap;\n",
       "}\n",
       "</style>\n",
       "<small>shape: (162, 7)</small><table border=\"1\" class=\"dataframe\"><thead><tr><th>ts</th><th>value</th><th>source_key</th><th>metric_nice_name</th><th>uom</th><th>tank_type</th><th>tank_metric</th></tr><tr><td>datetime[μs]</td><td>f64</td><td>str</td><td>str</td><td>str</td><td>str</td><td>str</td></tr></thead><tbody><tr><td>2024-08-22 20:10:28.260583</td><td>291.456951</td><td>&quot;9883901&quot;</td><td>&quot;OilTank1Volume&quot;</td><td>&quot;bbl&quot;</td><td>&quot;Oil&quot;</td><td>&quot;Volume&quot;</td></tr><tr><td>2024-08-26 18:34:13.231329</td><td>298.883254</td><td>&quot;9883901&quot;</td><td>&quot;OilTank1Volume&quot;</td><td>&quot;bbl&quot;</td><td>&quot;Oil&quot;</td><td>&quot;Volume&quot;</td></tr><tr><td>2024-08-28 06:15:32.821494</td><td>262.238814</td><td>&quot;9883901&quot;</td><td>&quot;OilTank1Volume&quot;</td><td>&quot;bbl&quot;</td><td>&quot;Oil&quot;</td><td>&quot;Volume&quot;</td></tr><tr><td>2024-08-26 09:32:03.681955</td><td>303.781195</td><td>&quot;9883901&quot;</td><td>&quot;OilTank1Volume&quot;</td><td>&quot;bbl&quot;</td><td>&quot;Oil&quot;</td><td>&quot;Volume&quot;</td></tr><tr><td>2024-08-29 10:53:08.232747</td><td>351.712976</td><td>&quot;9883901&quot;</td><td>&quot;OilTank1Volume&quot;</td><td>&quot;bbl&quot;</td><td>&quot;Oil&quot;</td><td>&quot;Volume&quot;</td></tr><tr><td>&hellip;</td><td>&hellip;</td><td>&hellip;</td><td>&hellip;</td><td>&hellip;</td><td>&hellip;</td><td>&hellip;</td></tr><tr><td>2024-08-28 22:23:33.615018</td><td>232.012233</td><td>&quot;98839FAC&quot;</td><td>&quot;ESD-OilTankInchesUntilAlarm&quot;</td><td>&quot;in&quot;</td><td>&quot;Oil&quot;</td><td>&quot;InchesUntilAlarm&quot;</td></tr><tr><td>2024-08-28 13:59:08.358302</td><td>198.544071</td><td>&quot;98839FAC&quot;</td><td>&quot;ESD-OilTankInchesUntilAlarm&quot;</td><td>&quot;in&quot;</td><td>&quot;Oil&quot;</td><td>&quot;InchesUntilAlarm&quot;</td></tr><tr><td>2024-08-29 07:27:55.213780</td><td>272.102104</td><td>&quot;98839FAC&quot;</td><td>&quot;ESD-OilTankInchesUntilAlarm&quot;</td><td>&quot;in&quot;</td><td>&quot;Oil&quot;</td><td>&quot;InchesUntilAlarm&quot;</td></tr><tr><td>2024-05-02 19:15:24.255861</td><td>3.0</td><td>&quot;98839FAC&quot;</td><td>&quot;ESD-OilTankID&quot;</td><td>&quot;&quot;</td><td>null</td><td>null</td></tr><tr><td>2023-10-07 12:08:05.914327</td><td>2.0</td><td>&quot;98839FAC&quot;</td><td>&quot;ESD-WaterTankID&quot;</td><td>&quot;&quot;</td><td>null</td><td>null</td></tr></tbody></table></div>"
      ],
      "text/plain": [
       "shape: (162, 7)\n",
       "┌──────────────────┬────────────┬────────────┬─────────────────┬─────┬───────────┬─────────────────┐\n",
       "│ ts               ┆ value      ┆ source_key ┆ metric_nice_nam ┆ uom ┆ tank_type ┆ tank_metric     │\n",
       "│ ---              ┆ ---        ┆ ---        ┆ e               ┆ --- ┆ ---       ┆ ---             │\n",
       "│ datetime[μs]     ┆ f64        ┆ str        ┆ ---             ┆ str ┆ str       ┆ str             │\n",
       "│                  ┆            ┆            ┆ str             ┆     ┆           ┆                 │\n",
       "╞══════════════════╪════════════╪════════════╪═════════════════╪═════╪═══════════╪═════════════════╡\n",
       "│ 2024-08-22       ┆ 291.456951 ┆ 9883901    ┆ OilTank1Volume  ┆ bbl ┆ Oil       ┆ Volume          │\n",
       "│ 20:10:28.260583  ┆            ┆            ┆                 ┆     ┆           ┆                 │\n",
       "│ 2024-08-26       ┆ 298.883254 ┆ 9883901    ┆ OilTank1Volume  ┆ bbl ┆ Oil       ┆ Volume          │\n",
       "│ 18:34:13.231329  ┆            ┆            ┆                 ┆     ┆           ┆                 │\n",
       "│ 2024-08-28       ┆ 262.238814 ┆ 9883901    ┆ OilTank1Volume  ┆ bbl ┆ Oil       ┆ Volume          │\n",
       "│ 06:15:32.821494  ┆            ┆            ┆                 ┆     ┆           ┆                 │\n",
       "│ 2024-08-26       ┆ 303.781195 ┆ 9883901    ┆ OilTank1Volume  ┆ bbl ┆ Oil       ┆ Volume          │\n",
       "│ 09:32:03.681955  ┆            ┆            ┆                 ┆     ┆           ┆                 │\n",
       "│ 2024-08-29       ┆ 351.712976 ┆ 9883901    ┆ OilTank1Volume  ┆ bbl ┆ Oil       ┆ Volume          │\n",
       "│ 10:53:08.232747  ┆            ┆            ┆                 ┆     ┆           ┆                 │\n",
       "│ …                ┆ …          ┆ …          ┆ …               ┆ …   ┆ …         ┆ …               │\n",
       "│ 2024-08-28       ┆ 232.012233 ┆ 98839FAC   ┆ ESD-OilTankInch ┆ in  ┆ Oil       ┆ InchesUntilAlar │\n",
       "│ 22:23:33.615018  ┆            ┆            ┆ esUntilAlarm    ┆     ┆           ┆ m               │\n",
       "│ 2024-08-28       ┆ 198.544071 ┆ 98839FAC   ┆ ESD-OilTankInch ┆ in  ┆ Oil       ┆ InchesUntilAlar │\n",
       "│ 13:59:08.358302  ┆            ┆            ┆ esUntilAlarm    ┆     ┆           ┆ m               │\n",
       "│ 2024-08-29       ┆ 272.102104 ┆ 98839FAC   ┆ ESD-OilTankInch ┆ in  ┆ Oil       ┆ InchesUntilAlar │\n",
       "│ 07:27:55.213780  ┆            ┆            ┆ esUntilAlarm    ┆     ┆           ┆ m               │\n",
       "│ 2024-05-02       ┆ 3.0        ┆ 98839FAC   ┆ ESD-OilTankID   ┆     ┆ null      ┆ null            │\n",
       "│ 19:15:24.255861  ┆            ┆            ┆                 ┆     ┆           ┆                 │\n",
       "│ 2023-10-07       ┆ 2.0        ┆ 98839FAC   ┆ ESD-WaterTankID ┆     ┆ null      ┆ null            │\n",
       "│ 12:08:05.914327  ┆            ┆            ┆                 ┆     ┆           ┆                 │\n",
       "└──────────────────┴────────────┴────────────┴─────────────────┴─────┴───────────┴─────────────────┘"
      ]
     },
     "execution_count": 3,
     "metadata": {},
     "output_type": "execute_result"
    }
   ],
   "source": [
    "lf = lf.drop(\"is_esd\", \"tank_number\")\n",
    "lf.collect()"
   ]
  },
  {
   "cell_type": "code",
   "execution_count": 4,
   "metadata": {},
   "outputs": [
    {
     "data": {
      "text/html": [
       "<div><style>\n",
       ".dataframe > thead > tr,\n",
       ".dataframe > tbody > tr {\n",
       "  text-align: right;\n",
       "  white-space: pre-wrap;\n",
       "}\n",
       "</style>\n",
       "<small>shape: (160, 7)</small><table border=\"1\" class=\"dataframe\"><thead><tr><th>ts</th><th>value</th><th>source_key</th><th>metric_nice_name</th><th>uom</th><th>tank_type</th><th>tank_metric</th></tr><tr><td>datetime[μs]</td><td>f64</td><td>str</td><td>str</td><td>str</td><td>str</td><td>str</td></tr></thead><tbody><tr><td>2024-08-22 20:10:28.260583</td><td>291.456951</td><td>&quot;9883901&quot;</td><td>&quot;OilTank1Volume&quot;</td><td>&quot;bbl&quot;</td><td>&quot;Oil&quot;</td><td>&quot;Volume&quot;</td></tr><tr><td>2024-08-26 18:34:13.231329</td><td>298.883254</td><td>&quot;9883901&quot;</td><td>&quot;OilTank1Volume&quot;</td><td>&quot;bbl&quot;</td><td>&quot;Oil&quot;</td><td>&quot;Volume&quot;</td></tr><tr><td>2024-08-28 06:15:32.821494</td><td>262.238814</td><td>&quot;9883901&quot;</td><td>&quot;OilTank1Volume&quot;</td><td>&quot;bbl&quot;</td><td>&quot;Oil&quot;</td><td>&quot;Volume&quot;</td></tr><tr><td>2024-08-26 09:32:03.681955</td><td>303.781195</td><td>&quot;9883901&quot;</td><td>&quot;OilTank1Volume&quot;</td><td>&quot;bbl&quot;</td><td>&quot;Oil&quot;</td><td>&quot;Volume&quot;</td></tr><tr><td>2024-08-29 10:53:08.232747</td><td>351.712976</td><td>&quot;9883901&quot;</td><td>&quot;OilTank1Volume&quot;</td><td>&quot;bbl&quot;</td><td>&quot;Oil&quot;</td><td>&quot;Volume&quot;</td></tr><tr><td>&hellip;</td><td>&hellip;</td><td>&hellip;</td><td>&hellip;</td><td>&hellip;</td><td>&hellip;</td><td>&hellip;</td></tr><tr><td>2024-08-23 08:02:25.193385</td><td>236.990536</td><td>&quot;98839FAC&quot;</td><td>&quot;ESD-OilTankInchesUntilAlarm&quot;</td><td>&quot;in&quot;</td><td>&quot;Oil&quot;</td><td>&quot;InchesUntilAlarm&quot;</td></tr><tr><td>2024-08-23 01:37:31.451151</td><td>229.454328</td><td>&quot;98839FAC&quot;</td><td>&quot;ESD-OilTankInchesUntilAlarm&quot;</td><td>&quot;in&quot;</td><td>&quot;Oil&quot;</td><td>&quot;InchesUntilAlarm&quot;</td></tr><tr><td>2024-08-28 22:23:33.615018</td><td>232.012233</td><td>&quot;98839FAC&quot;</td><td>&quot;ESD-OilTankInchesUntilAlarm&quot;</td><td>&quot;in&quot;</td><td>&quot;Oil&quot;</td><td>&quot;InchesUntilAlarm&quot;</td></tr><tr><td>2024-08-28 13:59:08.358302</td><td>198.544071</td><td>&quot;98839FAC&quot;</td><td>&quot;ESD-OilTankInchesUntilAlarm&quot;</td><td>&quot;in&quot;</td><td>&quot;Oil&quot;</td><td>&quot;InchesUntilAlarm&quot;</td></tr><tr><td>2024-08-29 07:27:55.213780</td><td>272.102104</td><td>&quot;98839FAC&quot;</td><td>&quot;ESD-OilTankInchesUntilAlarm&quot;</td><td>&quot;in&quot;</td><td>&quot;Oil&quot;</td><td>&quot;InchesUntilAlarm&quot;</td></tr></tbody></table></div>"
      ],
      "text/plain": [
       "shape: (160, 7)\n",
       "┌──────────────────┬────────────┬────────────┬─────────────────┬─────┬───────────┬─────────────────┐\n",
       "│ ts               ┆ value      ┆ source_key ┆ metric_nice_nam ┆ uom ┆ tank_type ┆ tank_metric     │\n",
       "│ ---              ┆ ---        ┆ ---        ┆ e               ┆ --- ┆ ---       ┆ ---             │\n",
       "│ datetime[μs]     ┆ f64        ┆ str        ┆ ---             ┆ str ┆ str       ┆ str             │\n",
       "│                  ┆            ┆            ┆ str             ┆     ┆           ┆                 │\n",
       "╞══════════════════╪════════════╪════════════╪═════════════════╪═════╪═══════════╪═════════════════╡\n",
       "│ 2024-08-22       ┆ 291.456951 ┆ 9883901    ┆ OilTank1Volume  ┆ bbl ┆ Oil       ┆ Volume          │\n",
       "│ 20:10:28.260583  ┆            ┆            ┆                 ┆     ┆           ┆                 │\n",
       "│ 2024-08-26       ┆ 298.883254 ┆ 9883901    ┆ OilTank1Volume  ┆ bbl ┆ Oil       ┆ Volume          │\n",
       "│ 18:34:13.231329  ┆            ┆            ┆                 ┆     ┆           ┆                 │\n",
       "│ 2024-08-28       ┆ 262.238814 ┆ 9883901    ┆ OilTank1Volume  ┆ bbl ┆ Oil       ┆ Volume          │\n",
       "│ 06:15:32.821494  ┆            ┆            ┆                 ┆     ┆           ┆                 │\n",
       "│ 2024-08-26       ┆ 303.781195 ┆ 9883901    ┆ OilTank1Volume  ┆ bbl ┆ Oil       ┆ Volume          │\n",
       "│ 09:32:03.681955  ┆            ┆            ┆                 ┆     ┆           ┆                 │\n",
       "│ 2024-08-29       ┆ 351.712976 ┆ 9883901    ┆ OilTank1Volume  ┆ bbl ┆ Oil       ┆ Volume          │\n",
       "│ 10:53:08.232747  ┆            ┆            ┆                 ┆     ┆           ┆                 │\n",
       "│ …                ┆ …          ┆ …          ┆ …               ┆ …   ┆ …         ┆ …               │\n",
       "│ 2024-08-23       ┆ 236.990536 ┆ 98839FAC   ┆ ESD-OilTankInch ┆ in  ┆ Oil       ┆ InchesUntilAlar │\n",
       "│ 08:02:25.193385  ┆            ┆            ┆ esUntilAlarm    ┆     ┆           ┆ m               │\n",
       "│ 2024-08-23       ┆ 229.454328 ┆ 98839FAC   ┆ ESD-OilTankInch ┆ in  ┆ Oil       ┆ InchesUntilAlar │\n",
       "│ 01:37:31.451151  ┆            ┆            ┆ esUntilAlarm    ┆     ┆           ┆ m               │\n",
       "│ 2024-08-28       ┆ 232.012233 ┆ 98839FAC   ┆ ESD-OilTankInch ┆ in  ┆ Oil       ┆ InchesUntilAlar │\n",
       "│ 22:23:33.615018  ┆            ┆            ┆ esUntilAlarm    ┆     ┆           ┆ m               │\n",
       "│ 2024-08-28       ┆ 198.544071 ┆ 98839FAC   ┆ ESD-OilTankInch ┆ in  ┆ Oil       ┆ InchesUntilAlar │\n",
       "│ 13:59:08.358302  ┆            ┆            ┆ esUntilAlarm    ┆     ┆           ┆ m               │\n",
       "│ 2024-08-29       ┆ 272.102104 ┆ 98839FAC   ┆ ESD-OilTankInch ┆ in  ┆ Oil       ┆ InchesUntilAlar │\n",
       "│ 07:27:55.213780  ┆            ┆            ┆ esUntilAlarm    ┆     ┆           ┆ m               │\n",
       "└──────────────────┴────────────┴────────────┴─────────────────┴─────┴───────────┴─────────────────┘"
      ]
     },
     "execution_count": 4,
     "metadata": {},
     "output_type": "execute_result"
    }
   ],
   "source": [
    "filtered_lf = lf.filter(~pl.col(\"metric_nice_name\").str.ends_with(\"ID\"))\n",
    "filtered_lf.collect()"
   ]
  },
  {
   "cell_type": "code",
   "execution_count": 5,
   "metadata": {},
   "outputs": [
    {
     "data": {
      "text/html": [
       "<div><style>\n",
       ".dataframe > thead > tr,\n",
       ".dataframe > tbody > tr {\n",
       "  text-align: right;\n",
       "  white-space: pre-wrap;\n",
       "}\n",
       "</style>\n",
       "<small>shape: (160, 7)</small><table border=\"1\" class=\"dataframe\"><thead><tr><th>ts</th><th>value</th><th>source_key</th><th>metric_nice_name</th><th>uom</th><th>tank_type</th><th>tank_metric</th></tr><tr><td>datetime[μs]</td><td>f64</td><td>str</td><td>str</td><td>str</td><td>str</td><td>str</td></tr></thead><tbody><tr><td>2024-08-22 20:10:28</td><td>291.456951</td><td>&quot;9883901&quot;</td><td>&quot;OilTank1Volume&quot;</td><td>&quot;bbl&quot;</td><td>&quot;Oil&quot;</td><td>&quot;Volume&quot;</td></tr><tr><td>2024-08-26 18:34:13</td><td>298.883254</td><td>&quot;9883901&quot;</td><td>&quot;OilTank1Volume&quot;</td><td>&quot;bbl&quot;</td><td>&quot;Oil&quot;</td><td>&quot;Volume&quot;</td></tr><tr><td>2024-08-28 06:15:32</td><td>262.238814</td><td>&quot;9883901&quot;</td><td>&quot;OilTank1Volume&quot;</td><td>&quot;bbl&quot;</td><td>&quot;Oil&quot;</td><td>&quot;Volume&quot;</td></tr><tr><td>2024-08-26 09:32:03</td><td>303.781195</td><td>&quot;9883901&quot;</td><td>&quot;OilTank1Volume&quot;</td><td>&quot;bbl&quot;</td><td>&quot;Oil&quot;</td><td>&quot;Volume&quot;</td></tr><tr><td>2024-08-29 10:53:08</td><td>351.712976</td><td>&quot;9883901&quot;</td><td>&quot;OilTank1Volume&quot;</td><td>&quot;bbl&quot;</td><td>&quot;Oil&quot;</td><td>&quot;Volume&quot;</td></tr><tr><td>&hellip;</td><td>&hellip;</td><td>&hellip;</td><td>&hellip;</td><td>&hellip;</td><td>&hellip;</td><td>&hellip;</td></tr><tr><td>2024-08-23 08:02:25</td><td>236.990536</td><td>&quot;98839FAC&quot;</td><td>&quot;ESD-OilTankInchesUntilAlarm&quot;</td><td>&quot;in&quot;</td><td>&quot;Oil&quot;</td><td>&quot;InchesUntilAlarm&quot;</td></tr><tr><td>2024-08-23 01:37:31</td><td>229.454328</td><td>&quot;98839FAC&quot;</td><td>&quot;ESD-OilTankInchesUntilAlarm&quot;</td><td>&quot;in&quot;</td><td>&quot;Oil&quot;</td><td>&quot;InchesUntilAlarm&quot;</td></tr><tr><td>2024-08-28 22:23:33</td><td>232.012233</td><td>&quot;98839FAC&quot;</td><td>&quot;ESD-OilTankInchesUntilAlarm&quot;</td><td>&quot;in&quot;</td><td>&quot;Oil&quot;</td><td>&quot;InchesUntilAlarm&quot;</td></tr><tr><td>2024-08-28 13:59:08</td><td>198.544071</td><td>&quot;98839FAC&quot;</td><td>&quot;ESD-OilTankInchesUntilAlarm&quot;</td><td>&quot;in&quot;</td><td>&quot;Oil&quot;</td><td>&quot;InchesUntilAlarm&quot;</td></tr><tr><td>2024-08-29 07:27:55</td><td>272.102104</td><td>&quot;98839FAC&quot;</td><td>&quot;ESD-OilTankInchesUntilAlarm&quot;</td><td>&quot;in&quot;</td><td>&quot;Oil&quot;</td><td>&quot;InchesUntilAlarm&quot;</td></tr></tbody></table></div>"
      ],
      "text/plain": [
       "shape: (160, 7)\n",
       "┌──────────────┬────────────┬────────────┬───────────────────┬─────┬───────────┬───────────────────┐\n",
       "│ ts           ┆ value      ┆ source_key ┆ metric_nice_name  ┆ uom ┆ tank_type ┆ tank_metric       │\n",
       "│ ---          ┆ ---        ┆ ---        ┆ ---               ┆ --- ┆ ---       ┆ ---               │\n",
       "│ datetime[μs] ┆ f64        ┆ str        ┆ str               ┆ str ┆ str       ┆ str               │\n",
       "╞══════════════╪════════════╪════════════╪═══════════════════╪═════╪═══════════╪═══════════════════╡\n",
       "│ 2024-08-22   ┆ 291.456951 ┆ 9883901    ┆ OilTank1Volume    ┆ bbl ┆ Oil       ┆ Volume            │\n",
       "│ 20:10:28     ┆            ┆            ┆                   ┆     ┆           ┆                   │\n",
       "│ 2024-08-26   ┆ 298.883254 ┆ 9883901    ┆ OilTank1Volume    ┆ bbl ┆ Oil       ┆ Volume            │\n",
       "│ 18:34:13     ┆            ┆            ┆                   ┆     ┆           ┆                   │\n",
       "│ 2024-08-28   ┆ 262.238814 ┆ 9883901    ┆ OilTank1Volume    ┆ bbl ┆ Oil       ┆ Volume            │\n",
       "│ 06:15:32     ┆            ┆            ┆                   ┆     ┆           ┆                   │\n",
       "│ 2024-08-26   ┆ 303.781195 ┆ 9883901    ┆ OilTank1Volume    ┆ bbl ┆ Oil       ┆ Volume            │\n",
       "│ 09:32:03     ┆            ┆            ┆                   ┆     ┆           ┆                   │\n",
       "│ 2024-08-29   ┆ 351.712976 ┆ 9883901    ┆ OilTank1Volume    ┆ bbl ┆ Oil       ┆ Volume            │\n",
       "│ 10:53:08     ┆            ┆            ┆                   ┆     ┆           ┆                   │\n",
       "│ …            ┆ …          ┆ …          ┆ …                 ┆ …   ┆ …         ┆ …                 │\n",
       "│ 2024-08-23   ┆ 236.990536 ┆ 98839FAC   ┆ ESD-OilTankInches ┆ in  ┆ Oil       ┆ InchesUntilAlarm  │\n",
       "│ 08:02:25     ┆            ┆            ┆ UntilAlarm        ┆     ┆           ┆                   │\n",
       "│ 2024-08-23   ┆ 229.454328 ┆ 98839FAC   ┆ ESD-OilTankInches ┆ in  ┆ Oil       ┆ InchesUntilAlarm  │\n",
       "│ 01:37:31     ┆            ┆            ┆ UntilAlarm        ┆     ┆           ┆                   │\n",
       "│ 2024-08-28   ┆ 232.012233 ┆ 98839FAC   ┆ ESD-OilTankInches ┆ in  ┆ Oil       ┆ InchesUntilAlarm  │\n",
       "│ 22:23:33     ┆            ┆            ┆ UntilAlarm        ┆     ┆           ┆                   │\n",
       "│ 2024-08-28   ┆ 198.544071 ┆ 98839FAC   ┆ ESD-OilTankInches ┆ in  ┆ Oil       ┆ InchesUntilAlarm  │\n",
       "│ 13:59:08     ┆            ┆            ┆ UntilAlarm        ┆     ┆           ┆                   │\n",
       "│ 2024-08-29   ┆ 272.102104 ┆ 98839FAC   ┆ ESD-OilTankInches ┆ in  ┆ Oil       ┆ InchesUntilAlarm  │\n",
       "│ 07:27:55     ┆            ┆            ┆ UntilAlarm        ┆     ┆           ┆                   │\n",
       "└──────────────┴────────────┴────────────┴───────────────────┴─────┴───────────┴───────────────────┘"
      ]
     },
     "execution_count": 5,
     "metadata": {},
     "output_type": "execute_result"
    }
   ],
   "source": [
    "ts_to_sec = filtered_lf.with_columns(\n",
    "    pl.col(\"ts\").dt.strftime(\"%Y-%m-%d %H:%M:%S\").str.strptime(pl.Datetime).alias(\"ts\")\n",
    ")\n",
    "\n",
    "ts_to_sec.collect()"
   ]
  },
  {
   "cell_type": "code",
   "execution_count": 7,
   "metadata": {},
   "outputs": [
    {
     "data": {
      "text/html": [
       "<div><style>\n",
       ".dataframe > thead > tr,\n",
       ".dataframe > tbody > tr {\n",
       "  text-align: right;\n",
       "  white-space: pre-wrap;\n",
       "}\n",
       "</style>\n",
       "<small>shape: (160, 7)</small><table border=\"1\" class=\"dataframe\"><thead><tr><th>ts</th><th>value</th><th>source_key</th><th>metric_nice_name</th><th>uom</th><th>tank_type</th><th>tank_metric</th></tr><tr><td>datetime[μs]</td><td>f64</td><td>str</td><td>str</td><td>str</td><td>str</td><td>str</td></tr></thead><tbody><tr><td>2024-08-22 17:57:10</td><td>77.524284</td><td>&quot;9883901&quot;</td><td>&quot;OilTank1Level&quot;</td><td>&quot;in&quot;</td><td>&quot;Oil&quot;</td><td>&quot;Level&quot;</td></tr><tr><td>2024-08-22 20:10:28</td><td>291.456951</td><td>&quot;9883901&quot;</td><td>&quot;OilTank1Volume&quot;</td><td>&quot;bbl&quot;</td><td>&quot;Oil&quot;</td><td>&quot;Volume&quot;</td></tr><tr><td>2024-08-22 21:19:35</td><td>224.297598</td><td>&quot;98839FAC&quot;</td><td>&quot;ESD-OilTankInchesUntilAlarm&quot;</td><td>&quot;in&quot;</td><td>&quot;Oil&quot;</td><td>&quot;InchesUntilAlarm&quot;</td></tr><tr><td>2024-08-22 21:53:56</td><td>225.342223</td><td>&quot;98839FAC&quot;</td><td>&quot;ESD-OilTankInchesUntilAlarm&quot;</td><td>&quot;in&quot;</td><td>&quot;Oil&quot;</td><td>&quot;InchesUntilAlarm&quot;</td></tr><tr><td>2024-08-22 21:58:48</td><td>78.495096</td><td>&quot;9883901&quot;</td><td>&quot;OilTank1Level&quot;</td><td>&quot;in&quot;</td><td>&quot;Oil&quot;</td><td>&quot;Level&quot;</td></tr><tr><td>&hellip;</td><td>&hellip;</td><td>&hellip;</td><td>&hellip;</td><td>&hellip;</td><td>&hellip;</td><td>&hellip;</td></tr><tr><td>2024-08-29 07:42:38</td><td>272.901409</td><td>&quot;98839FAC&quot;</td><td>&quot;ESD-WaterTankInchesUntilAlarm&quot;</td><td>&quot;in&quot;</td><td>&quot;Water&quot;</td><td>&quot;InchesUntilAlarm&quot;</td></tr><tr><td>2024-08-29 09:20:45</td><td>277.054501</td><td>&quot;98839FAC&quot;</td><td>&quot;ESD-WaterTankInchesUntilAlarm&quot;</td><td>&quot;in&quot;</td><td>&quot;Water&quot;</td><td>&quot;InchesUntilAlarm&quot;</td></tr><tr><td>2024-08-29 10:53:08</td><td>351.712976</td><td>&quot;9883901&quot;</td><td>&quot;OilTank1Volume&quot;</td><td>&quot;bbl&quot;</td><td>&quot;Oil&quot;</td><td>&quot;Volume&quot;</td></tr><tr><td>2024-08-29 13:28:36</td><td>276.817234</td><td>&quot;98839FAC&quot;</td><td>&quot;ESD-OilTankInchesUntilAlarm&quot;</td><td>&quot;in&quot;</td><td>&quot;Oil&quot;</td><td>&quot;InchesUntilAlarm&quot;</td></tr><tr><td>2024-08-29 16:45:36</td><td>266.361128</td><td>&quot;98839FAC&quot;</td><td>&quot;ESD-WaterTankInchesUntilAlarm&quot;</td><td>&quot;in&quot;</td><td>&quot;Water&quot;</td><td>&quot;InchesUntilAlarm&quot;</td></tr></tbody></table></div>"
      ],
      "text/plain": [
       "shape: (160, 7)\n",
       "┌──────────────┬────────────┬────────────┬───────────────────┬─────┬───────────┬───────────────────┐\n",
       "│ ts           ┆ value      ┆ source_key ┆ metric_nice_name  ┆ uom ┆ tank_type ┆ tank_metric       │\n",
       "│ ---          ┆ ---        ┆ ---        ┆ ---               ┆ --- ┆ ---       ┆ ---               │\n",
       "│ datetime[μs] ┆ f64        ┆ str        ┆ str               ┆ str ┆ str       ┆ str               │\n",
       "╞══════════════╪════════════╪════════════╪═══════════════════╪═════╪═══════════╪═══════════════════╡\n",
       "│ 2024-08-22   ┆ 77.524284  ┆ 9883901    ┆ OilTank1Level     ┆ in  ┆ Oil       ┆ Level             │\n",
       "│ 17:57:10     ┆            ┆            ┆                   ┆     ┆           ┆                   │\n",
       "│ 2024-08-22   ┆ 291.456951 ┆ 9883901    ┆ OilTank1Volume    ┆ bbl ┆ Oil       ┆ Volume            │\n",
       "│ 20:10:28     ┆            ┆            ┆                   ┆     ┆           ┆                   │\n",
       "│ 2024-08-22   ┆ 224.297598 ┆ 98839FAC   ┆ ESD-OilTankInches ┆ in  ┆ Oil       ┆ InchesUntilAlarm  │\n",
       "│ 21:19:35     ┆            ┆            ┆ UntilAlarm        ┆     ┆           ┆                   │\n",
       "│ 2024-08-22   ┆ 225.342223 ┆ 98839FAC   ┆ ESD-OilTankInches ┆ in  ┆ Oil       ┆ InchesUntilAlarm  │\n",
       "│ 21:53:56     ┆            ┆            ┆ UntilAlarm        ┆     ┆           ┆                   │\n",
       "│ 2024-08-22   ┆ 78.495096  ┆ 9883901    ┆ OilTank1Level     ┆ in  ┆ Oil       ┆ Level             │\n",
       "│ 21:58:48     ┆            ┆            ┆                   ┆     ┆           ┆                   │\n",
       "│ …            ┆ …          ┆ …          ┆ …                 ┆ …   ┆ …         ┆ …                 │\n",
       "│ 2024-08-29   ┆ 272.901409 ┆ 98839FAC   ┆ ESD-WaterTankInch ┆ in  ┆ Water     ┆ InchesUntilAlarm  │\n",
       "│ 07:42:38     ┆            ┆            ┆ esUntilAlarm      ┆     ┆           ┆                   │\n",
       "│ 2024-08-29   ┆ 277.054501 ┆ 98839FAC   ┆ ESD-WaterTankInch ┆ in  ┆ Water     ┆ InchesUntilAlarm  │\n",
       "│ 09:20:45     ┆            ┆            ┆ esUntilAlarm      ┆     ┆           ┆                   │\n",
       "│ 2024-08-29   ┆ 351.712976 ┆ 9883901    ┆ OilTank1Volume    ┆ bbl ┆ Oil       ┆ Volume            │\n",
       "│ 10:53:08     ┆            ┆            ┆                   ┆     ┆           ┆                   │\n",
       "│ 2024-08-29   ┆ 276.817234 ┆ 98839FAC   ┆ ESD-OilTankInches ┆ in  ┆ Oil       ┆ InchesUntilAlarm  │\n",
       "│ 13:28:36     ┆            ┆            ┆ UntilAlarm        ┆     ┆           ┆                   │\n",
       "│ 2024-08-29   ┆ 266.361128 ┆ 98839FAC   ┆ ESD-WaterTankInch ┆ in  ┆ Water     ┆ InchesUntilAlarm  │\n",
       "│ 16:45:36     ┆            ┆            ┆ esUntilAlarm      ┆     ┆           ┆                   │\n",
       "└──────────────┴────────────┴────────────┴───────────────────┴─────┴───────────┴───────────────────┘"
      ]
     },
     "execution_count": 7,
     "metadata": {},
     "output_type": "execute_result"
    }
   ],
   "source": [
    "ts_to_sec = ts_to_sec.sort(\"ts\")\n",
    "ts_to_sec.collect()"
   ]
  },
  {
   "cell_type": "code",
   "execution_count": 8,
   "metadata": {},
   "outputs": [
    {
     "data": {
      "text/html": [
       "<div><style>\n",
       ".dataframe > thead > tr,\n",
       ".dataframe > tbody > tr {\n",
       "  text-align: right;\n",
       "  white-space: pre-wrap;\n",
       "}\n",
       "</style>\n",
       "<small>shape: (4, 5)</small><table border=\"1\" class=\"dataframe\"><thead><tr><th>tank_metric</th><th>tank_type</th><th>uom</th><th>timestamps</th><th>values</th></tr><tr><td>str</td><td>str</td><td>str</td><td>list[datetime[μs]]</td><td>list[f64]</td></tr></thead><tbody><tr><td>&quot;InchesUntilAlarm&quot;</td><td>&quot;Oil&quot;</td><td>&quot;in&quot;</td><td>[2024-08-22 21:19:35, 2024-08-22 21:53:56, … 2024-08-29 13:28:36]</td><td>[224.297598, 225.342223, … 276.817234]</td></tr><tr><td>&quot;InchesUntilAlarm&quot;</td><td>&quot;Water&quot;</td><td>&quot;in&quot;</td><td>[2024-08-23 06:29:52, 2024-08-23 17:26:52, … 2024-08-29 16:45:36]</td><td>[233.25937, 270.195369, … 266.361128]</td></tr><tr><td>&quot;Level&quot;</td><td>&quot;Oil&quot;</td><td>&quot;in&quot;</td><td>[2024-08-22 17:57:10, 2024-08-22 21:58:48, … 2024-08-29 07:29:23]</td><td>[77.524284, 78.495096, … 83.714711]</td></tr><tr><td>&quot;Volume&quot;</td><td>&quot;Oil&quot;</td><td>&quot;bbl&quot;</td><td>[2024-08-22 20:10:28, 2024-08-23 03:33:34, … 2024-08-29 10:53:08]</td><td>[291.456951, 300.210505, … 351.712976]</td></tr></tbody></table></div>"
      ],
      "text/plain": [
       "shape: (4, 5)\n",
       "┌──────────────────┬───────────┬─────┬───────────────────────┬─────────────────────────────────┐\n",
       "│ tank_metric      ┆ tank_type ┆ uom ┆ timestamps            ┆ values                          │\n",
       "│ ---              ┆ ---       ┆ --- ┆ ---                   ┆ ---                             │\n",
       "│ str              ┆ str       ┆ str ┆ list[datetime[μs]]    ┆ list[f64]                       │\n",
       "╞══════════════════╪═══════════╪═════╪═══════════════════════╪═════════════════════════════════╡\n",
       "│ InchesUntilAlarm ┆ Oil       ┆ in  ┆ [2024-08-22 21:19:35, ┆ [224.297598, 225.342223, … 276… │\n",
       "│                  ┆           ┆     ┆ 2024-08-…             ┆                                 │\n",
       "│ InchesUntilAlarm ┆ Water     ┆ in  ┆ [2024-08-23 06:29:52, ┆ [233.25937, 270.195369, … 266.… │\n",
       "│                  ┆           ┆     ┆ 2024-08-…             ┆                                 │\n",
       "│ Level            ┆ Oil       ┆ in  ┆ [2024-08-22 17:57:10, ┆ [77.524284, 78.495096, … 83.71… │\n",
       "│                  ┆           ┆     ┆ 2024-08-…             ┆                                 │\n",
       "│ Volume           ┆ Oil       ┆ bbl ┆ [2024-08-22 20:10:28, ┆ [291.456951, 300.210505, … 351… │\n",
       "│                  ┆           ┆     ┆ 2024-08-…             ┆                                 │\n",
       "└──────────────────┴───────────┴─────┴───────────────────────┴─────────────────────────────────┘"
      ]
     },
     "execution_count": 8,
     "metadata": {},
     "output_type": "execute_result"
    }
   ],
   "source": [
    "aggregated_lf = ts_to_sec.group_by([\"tank_metric\", \"tank_type\",\"uom\"]).agg([\n",
    "    pl.col(\"ts\").alias(\"timestamps\"),\n",
    "    pl.col(\"value\").alias(\"values\")\n",
    "])\n",
    "\n",
    "aggregated_lf = aggregated_lf.sort(\"tank_metric\")\n",
    "\n",
    "aggregated_lf.collect()"
   ]
  }
 ],
 "metadata": {
  "kernelspec": {
   "display_name": ".venv",
   "language": "python",
   "name": "python3"
  },
  "language_info": {
   "codemirror_mode": {
    "name": "ipython",
    "version": 3
   },
   "file_extension": ".py",
   "mimetype": "text/x-python",
   "name": "python",
   "nbconvert_exporter": "python",
   "pygments_lexer": "ipython3",
   "version": "3.12.2"
  }
 },
 "nbformat": 4,
 "nbformat_minor": 2
}
