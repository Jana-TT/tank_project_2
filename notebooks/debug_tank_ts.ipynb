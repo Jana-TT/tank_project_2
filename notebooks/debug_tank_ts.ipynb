{
 "cells": [
  {
   "cell_type": "code",
   "execution_count": 5,
   "metadata": {},
   "outputs": [
    {
     "data": {
      "text/html": [
       "<div><style>\n",
       ".dataframe > thead > tr,\n",
       ".dataframe > tbody > tr {\n",
       "  text-align: right;\n",
       "  white-space: pre-wrap;\n",
       "}\n",
       "</style>\n",
       "<small>shape: (96, 5)</small><table border=\"1\" class=\"dataframe\"><thead><tr><th>ts</th><th>value</th><th>scada_id</th><th>tank_name</th><th>uom</th></tr><tr><td>datetime[μs]</td><td>f64</td><td>str</td><td>str</td><td>str</td></tr></thead><tbody><tr><td>2019-04-05 01:41:07.809116</td><td>76.456344</td><td>&quot;98840W2&quot;</td><td>&quot;WaterTank2Level&quot;</td><td>&quot;in&quot;</td></tr><tr><td>2019-04-05 00:41:07.809116</td><td>76.349873</td><td>&quot;98840W2&quot;</td><td>&quot;WaterTank2Level&quot;</td><td>&quot;in&quot;</td></tr><tr><td>2019-04-04 23:41:07.809116</td><td>76.283003</td><td>&quot;98840W2&quot;</td><td>&quot;WaterTank2Level&quot;</td><td>&quot;in&quot;</td></tr><tr><td>2019-04-04 22:41:07.809116</td><td>76.287785</td><td>&quot;98840W2&quot;</td><td>&quot;WaterTank2Level&quot;</td><td>&quot;in&quot;</td></tr><tr><td>2019-04-04 21:41:07.809116</td><td>76.388698</td><td>&quot;98840W2&quot;</td><td>&quot;WaterTank2Level&quot;</td><td>&quot;in&quot;</td></tr><tr><td>&hellip;</td><td>&hellip;</td><td>&hellip;</td><td>&hellip;</td><td>&hellip;</td></tr><tr><td>2023-08-15 00:52:13.787936</td><td>365.600882</td><td>&quot;98840W2&quot;</td><td>&quot;WaterTank2Volume&quot;</td><td>&quot;bbl&quot;</td></tr><tr><td>2023-08-14 23:52:13.787936</td><td>363.953501</td><td>&quot;98840W2&quot;</td><td>&quot;WaterTank2Volume&quot;</td><td>&quot;bbl&quot;</td></tr><tr><td>2023-08-14 22:52:13.787936</td><td>362.274663</td><td>&quot;98840W2&quot;</td><td>&quot;WaterTank2Volume&quot;</td><td>&quot;bbl&quot;</td></tr><tr><td>2023-08-14 21:52:13.787936</td><td>360.575111</td><td>&quot;98840W2&quot;</td><td>&quot;WaterTank2Volume&quot;</td><td>&quot;bbl&quot;</td></tr><tr><td>2023-08-14 20:52:13.787936</td><td>358.863939</td><td>&quot;98840W2&quot;</td><td>&quot;WaterTank2Volume&quot;</td><td>&quot;bbl&quot;</td></tr></tbody></table></div>"
      ],
      "text/plain": [
       "shape: (96, 5)\n",
       "┌────────────────────────────┬────────────┬──────────┬──────────────────┬─────┐\n",
       "│ ts                         ┆ value      ┆ scada_id ┆ tank_name        ┆ uom │\n",
       "│ ---                        ┆ ---        ┆ ---      ┆ ---              ┆ --- │\n",
       "│ datetime[μs]               ┆ f64        ┆ str      ┆ str              ┆ str │\n",
       "╞════════════════════════════╪════════════╪══════════╪══════════════════╪═════╡\n",
       "│ 2019-04-05 01:41:07.809116 ┆ 76.456344  ┆ 98840W2  ┆ WaterTank2Level  ┆ in  │\n",
       "│ 2019-04-05 00:41:07.809116 ┆ 76.349873  ┆ 98840W2  ┆ WaterTank2Level  ┆ in  │\n",
       "│ 2019-04-04 23:41:07.809116 ┆ 76.283003  ┆ 98840W2  ┆ WaterTank2Level  ┆ in  │\n",
       "│ 2019-04-04 22:41:07.809116 ┆ 76.287785  ┆ 98840W2  ┆ WaterTank2Level  ┆ in  │\n",
       "│ 2019-04-04 21:41:07.809116 ┆ 76.388698  ┆ 98840W2  ┆ WaterTank2Level  ┆ in  │\n",
       "│ …                          ┆ …          ┆ …        ┆ …                ┆ …   │\n",
       "│ 2023-08-15 00:52:13.787936 ┆ 365.600882 ┆ 98840W2  ┆ WaterTank2Volume ┆ bbl │\n",
       "│ 2023-08-14 23:52:13.787936 ┆ 363.953501 ┆ 98840W2  ┆ WaterTank2Volume ┆ bbl │\n",
       "│ 2023-08-14 22:52:13.787936 ┆ 362.274663 ┆ 98840W2  ┆ WaterTank2Volume ┆ bbl │\n",
       "│ 2023-08-14 21:52:13.787936 ┆ 360.575111 ┆ 98840W2  ┆ WaterTank2Volume ┆ bbl │\n",
       "│ 2023-08-14 20:52:13.787936 ┆ 358.863939 ┆ 98840W2  ┆ WaterTank2Volume ┆ bbl │\n",
       "└────────────────────────────┴────────────┴──────────┴──────────────────┴─────┘"
      ]
     },
     "execution_count": 5,
     "metadata": {},
     "output_type": "execute_result"
    }
   ],
   "source": [
    "import polars as pl\n",
    "from src.tank_ts_endpoint import fetch_tank_ts_data, GetTanksTimeDataReq\n",
    "\n",
    "req = GetTanksTimeDataReq(scada_id='98840W2')\n",
    "\n",
    "df = await fetch_tank_ts_data(req)\n",
    "if df is None:\n",
    "    raise ValueError(\"df is None\")\n",
    "lf = df.lazy()\n",
    "lf.collect()"
   ]
  },
  {
   "cell_type": "code",
   "execution_count": 6,
   "metadata": {},
   "outputs": [
    {
     "data": {
      "text/html": [
       "<div><style>\n",
       ".dataframe > thead > tr,\n",
       ".dataframe > tbody > tr {\n",
       "  text-align: right;\n",
       "  white-space: pre-wrap;\n",
       "}\n",
       "</style>\n",
       "<small>shape: (96, 9)</small><table border=\"1\" class=\"dataframe\"><thead><tr><th>ts</th><th>value</th><th>scada_id</th><th>tank_name</th><th>uom</th><th>is_esd</th><th>tank_type</th><th>tank_number</th><th>tank_metric</th></tr><tr><td>datetime[μs]</td><td>f64</td><td>str</td><td>str</td><td>str</td><td>str</td><td>str</td><td>str</td><td>str</td></tr></thead><tbody><tr><td>2019-04-05 01:41:07.809116</td><td>76.456344</td><td>&quot;98840W2&quot;</td><td>&quot;WaterTank2Level&quot;</td><td>&quot;in&quot;</td><td>null</td><td>&quot;Water&quot;</td><td>&quot;2&quot;</td><td>&quot;Level&quot;</td></tr><tr><td>2019-04-05 00:41:07.809116</td><td>76.349873</td><td>&quot;98840W2&quot;</td><td>&quot;WaterTank2Level&quot;</td><td>&quot;in&quot;</td><td>null</td><td>&quot;Water&quot;</td><td>&quot;2&quot;</td><td>&quot;Level&quot;</td></tr><tr><td>2019-04-04 23:41:07.809116</td><td>76.283003</td><td>&quot;98840W2&quot;</td><td>&quot;WaterTank2Level&quot;</td><td>&quot;in&quot;</td><td>null</td><td>&quot;Water&quot;</td><td>&quot;2&quot;</td><td>&quot;Level&quot;</td></tr><tr><td>2019-04-04 22:41:07.809116</td><td>76.287785</td><td>&quot;98840W2&quot;</td><td>&quot;WaterTank2Level&quot;</td><td>&quot;in&quot;</td><td>null</td><td>&quot;Water&quot;</td><td>&quot;2&quot;</td><td>&quot;Level&quot;</td></tr><tr><td>2019-04-04 21:41:07.809116</td><td>76.388698</td><td>&quot;98840W2&quot;</td><td>&quot;WaterTank2Level&quot;</td><td>&quot;in&quot;</td><td>null</td><td>&quot;Water&quot;</td><td>&quot;2&quot;</td><td>&quot;Level&quot;</td></tr><tr><td>&hellip;</td><td>&hellip;</td><td>&hellip;</td><td>&hellip;</td><td>&hellip;</td><td>&hellip;</td><td>&hellip;</td><td>&hellip;</td><td>&hellip;</td></tr><tr><td>2023-08-15 00:52:13.787936</td><td>365.600882</td><td>&quot;98840W2&quot;</td><td>&quot;WaterTank2Volume&quot;</td><td>&quot;bbl&quot;</td><td>null</td><td>&quot;Water&quot;</td><td>&quot;2&quot;</td><td>&quot;Volume&quot;</td></tr><tr><td>2023-08-14 23:52:13.787936</td><td>363.953501</td><td>&quot;98840W2&quot;</td><td>&quot;WaterTank2Volume&quot;</td><td>&quot;bbl&quot;</td><td>null</td><td>&quot;Water&quot;</td><td>&quot;2&quot;</td><td>&quot;Volume&quot;</td></tr><tr><td>2023-08-14 22:52:13.787936</td><td>362.274663</td><td>&quot;98840W2&quot;</td><td>&quot;WaterTank2Volume&quot;</td><td>&quot;bbl&quot;</td><td>null</td><td>&quot;Water&quot;</td><td>&quot;2&quot;</td><td>&quot;Volume&quot;</td></tr><tr><td>2023-08-14 21:52:13.787936</td><td>360.575111</td><td>&quot;98840W2&quot;</td><td>&quot;WaterTank2Volume&quot;</td><td>&quot;bbl&quot;</td><td>null</td><td>&quot;Water&quot;</td><td>&quot;2&quot;</td><td>&quot;Volume&quot;</td></tr><tr><td>2023-08-14 20:52:13.787936</td><td>358.863939</td><td>&quot;98840W2&quot;</td><td>&quot;WaterTank2Volume&quot;</td><td>&quot;bbl&quot;</td><td>null</td><td>&quot;Water&quot;</td><td>&quot;2&quot;</td><td>&quot;Volume&quot;</td></tr></tbody></table></div>"
      ],
      "text/plain": [
       "shape: (96, 9)\n",
       "┌────────────┬────────────┬──────────┬────────────┬───┬────────┬───────────┬───────────┬───────────┐\n",
       "│ ts         ┆ value      ┆ scada_id ┆ tank_name  ┆ … ┆ is_esd ┆ tank_type ┆ tank_numb ┆ tank_metr │\n",
       "│ ---        ┆ ---        ┆ ---      ┆ ---        ┆   ┆ ---    ┆ ---       ┆ er        ┆ ic        │\n",
       "│ datetime[μ ┆ f64        ┆ str      ┆ str        ┆   ┆ str    ┆ str       ┆ ---       ┆ ---       │\n",
       "│ s]         ┆            ┆          ┆            ┆   ┆        ┆           ┆ str       ┆ str       │\n",
       "╞════════════╪════════════╪══════════╪════════════╪═══╪════════╪═══════════╪═══════════╪═══════════╡\n",
       "│ 2019-04-05 ┆ 76.456344  ┆ 98840W2  ┆ WaterTank2 ┆ … ┆ null   ┆ Water     ┆ 2         ┆ Level     │\n",
       "│ 01:41:07.8 ┆            ┆          ┆ Level      ┆   ┆        ┆           ┆           ┆           │\n",
       "│ 09116      ┆            ┆          ┆            ┆   ┆        ┆           ┆           ┆           │\n",
       "│ 2019-04-05 ┆ 76.349873  ┆ 98840W2  ┆ WaterTank2 ┆ … ┆ null   ┆ Water     ┆ 2         ┆ Level     │\n",
       "│ 00:41:07.8 ┆            ┆          ┆ Level      ┆   ┆        ┆           ┆           ┆           │\n",
       "│ 09116      ┆            ┆          ┆            ┆   ┆        ┆           ┆           ┆           │\n",
       "│ 2019-04-04 ┆ 76.283003  ┆ 98840W2  ┆ WaterTank2 ┆ … ┆ null   ┆ Water     ┆ 2         ┆ Level     │\n",
       "│ 23:41:07.8 ┆            ┆          ┆ Level      ┆   ┆        ┆           ┆           ┆           │\n",
       "│ 09116      ┆            ┆          ┆            ┆   ┆        ┆           ┆           ┆           │\n",
       "│ 2019-04-04 ┆ 76.287785  ┆ 98840W2  ┆ WaterTank2 ┆ … ┆ null   ┆ Water     ┆ 2         ┆ Level     │\n",
       "│ 22:41:07.8 ┆            ┆          ┆ Level      ┆   ┆        ┆           ┆           ┆           │\n",
       "│ 09116      ┆            ┆          ┆            ┆   ┆        ┆           ┆           ┆           │\n",
       "│ 2019-04-04 ┆ 76.388698  ┆ 98840W2  ┆ WaterTank2 ┆ … ┆ null   ┆ Water     ┆ 2         ┆ Level     │\n",
       "│ 21:41:07.8 ┆            ┆          ┆ Level      ┆   ┆        ┆           ┆           ┆           │\n",
       "│ 09116      ┆            ┆          ┆            ┆   ┆        ┆           ┆           ┆           │\n",
       "│ …          ┆ …          ┆ …        ┆ …          ┆ … ┆ …      ┆ …         ┆ …         ┆ …         │\n",
       "│ 2023-08-15 ┆ 365.600882 ┆ 98840W2  ┆ WaterTank2 ┆ … ┆ null   ┆ Water     ┆ 2         ┆ Volume    │\n",
       "│ 00:52:13.7 ┆            ┆          ┆ Volume     ┆   ┆        ┆           ┆           ┆           │\n",
       "│ 87936      ┆            ┆          ┆            ┆   ┆        ┆           ┆           ┆           │\n",
       "│ 2023-08-14 ┆ 363.953501 ┆ 98840W2  ┆ WaterTank2 ┆ … ┆ null   ┆ Water     ┆ 2         ┆ Volume    │\n",
       "│ 23:52:13.7 ┆            ┆          ┆ Volume     ┆   ┆        ┆           ┆           ┆           │\n",
       "│ 87936      ┆            ┆          ┆            ┆   ┆        ┆           ┆           ┆           │\n",
       "│ 2023-08-14 ┆ 362.274663 ┆ 98840W2  ┆ WaterTank2 ┆ … ┆ null   ┆ Water     ┆ 2         ┆ Volume    │\n",
       "│ 22:52:13.7 ┆            ┆          ┆ Volume     ┆   ┆        ┆           ┆           ┆           │\n",
       "│ 87936      ┆            ┆          ┆            ┆   ┆        ┆           ┆           ┆           │\n",
       "│ 2023-08-14 ┆ 360.575111 ┆ 98840W2  ┆ WaterTank2 ┆ … ┆ null   ┆ Water     ┆ 2         ┆ Volume    │\n",
       "│ 21:52:13.7 ┆            ┆          ┆ Volume     ┆   ┆        ┆           ┆           ┆           │\n",
       "│ 87936      ┆            ┆          ┆            ┆   ┆        ┆           ┆           ┆           │\n",
       "│ 2023-08-14 ┆ 358.863939 ┆ 98840W2  ┆ WaterTank2 ┆ … ┆ null   ┆ Water     ┆ 2         ┆ Volume    │\n",
       "│ 20:52:13.7 ┆            ┆          ┆ Volume     ┆   ┆        ┆           ┆           ┆           │\n",
       "│ 87936      ┆            ┆          ┆            ┆   ┆        ┆           ┆           ┆           │\n",
       "└────────────┴────────────┴──────────┴────────────┴───┴────────┴───────────┴───────────┴───────────┘"
      ]
     },
     "execution_count": 6,
     "metadata": {},
     "output_type": "execute_result"
    }
   ],
   "source": [
    "tank_metrics = [\"Level\", \"Volume\", \"InchesUntilAlarm\", \"InchesToESD\"]\n",
    "tank_types = [\"Water\", \"Oil\"]\n",
    "\n",
    "tank_metrics_str= \"|\".join(tank_metrics)\n",
    "tank_types_str = \"|\".join(tank_types)\n",
    "\n",
    "pattern = f'^(?<is_esd>ESD-)?(?<tank_type>{tank_types_str})Tank(?<tank_number>[0-9]*)(?<tank_metric>{tank_metrics_str})'\n",
    "lf = lf.with_columns(separated_metrics = pl.col(\"tank_name\").str.extract_groups(pattern))\n",
    "lf = lf.unnest(\"separated_metrics\")\n",
    "lf.collect()"
   ]
  },
  {
   "cell_type": "code",
   "execution_count": 7,
   "metadata": {},
   "outputs": [
    {
     "data": {
      "text/html": [
       "<div><style>\n",
       ".dataframe > thead > tr,\n",
       ".dataframe > tbody > tr {\n",
       "  text-align: right;\n",
       "  white-space: pre-wrap;\n",
       "}\n",
       "</style>\n",
       "<small>shape: (96, 5)</small><table border=\"1\" class=\"dataframe\"><thead><tr><th>ts</th><th>value</th><th>scada_id</th><th>uom</th><th>tank_metric</th></tr><tr><td>datetime[μs]</td><td>f64</td><td>str</td><td>str</td><td>str</td></tr></thead><tbody><tr><td>2019-04-05 01:41:07.809116</td><td>76.456344</td><td>&quot;98840W2&quot;</td><td>&quot;in&quot;</td><td>&quot;Level&quot;</td></tr><tr><td>2019-04-05 00:41:07.809116</td><td>76.349873</td><td>&quot;98840W2&quot;</td><td>&quot;in&quot;</td><td>&quot;Level&quot;</td></tr><tr><td>2019-04-04 23:41:07.809116</td><td>76.283003</td><td>&quot;98840W2&quot;</td><td>&quot;in&quot;</td><td>&quot;Level&quot;</td></tr><tr><td>2019-04-04 22:41:07.809116</td><td>76.287785</td><td>&quot;98840W2&quot;</td><td>&quot;in&quot;</td><td>&quot;Level&quot;</td></tr><tr><td>2019-04-04 21:41:07.809116</td><td>76.388698</td><td>&quot;98840W2&quot;</td><td>&quot;in&quot;</td><td>&quot;Level&quot;</td></tr><tr><td>&hellip;</td><td>&hellip;</td><td>&hellip;</td><td>&hellip;</td><td>&hellip;</td></tr><tr><td>2023-08-15 00:52:13.787936</td><td>365.600882</td><td>&quot;98840W2&quot;</td><td>&quot;bbl&quot;</td><td>&quot;Volume&quot;</td></tr><tr><td>2023-08-14 23:52:13.787936</td><td>363.953501</td><td>&quot;98840W2&quot;</td><td>&quot;bbl&quot;</td><td>&quot;Volume&quot;</td></tr><tr><td>2023-08-14 22:52:13.787936</td><td>362.274663</td><td>&quot;98840W2&quot;</td><td>&quot;bbl&quot;</td><td>&quot;Volume&quot;</td></tr><tr><td>2023-08-14 21:52:13.787936</td><td>360.575111</td><td>&quot;98840W2&quot;</td><td>&quot;bbl&quot;</td><td>&quot;Volume&quot;</td></tr><tr><td>2023-08-14 20:52:13.787936</td><td>358.863939</td><td>&quot;98840W2&quot;</td><td>&quot;bbl&quot;</td><td>&quot;Volume&quot;</td></tr></tbody></table></div>"
      ],
      "text/plain": [
       "shape: (96, 5)\n",
       "┌────────────────────────────┬────────────┬──────────┬─────┬─────────────┐\n",
       "│ ts                         ┆ value      ┆ scada_id ┆ uom ┆ tank_metric │\n",
       "│ ---                        ┆ ---        ┆ ---      ┆ --- ┆ ---         │\n",
       "│ datetime[μs]               ┆ f64        ┆ str      ┆ str ┆ str         │\n",
       "╞════════════════════════════╪════════════╪══════════╪═════╪═════════════╡\n",
       "│ 2019-04-05 01:41:07.809116 ┆ 76.456344  ┆ 98840W2  ┆ in  ┆ Level       │\n",
       "│ 2019-04-05 00:41:07.809116 ┆ 76.349873  ┆ 98840W2  ┆ in  ┆ Level       │\n",
       "│ 2019-04-04 23:41:07.809116 ┆ 76.283003  ┆ 98840W2  ┆ in  ┆ Level       │\n",
       "│ 2019-04-04 22:41:07.809116 ┆ 76.287785  ┆ 98840W2  ┆ in  ┆ Level       │\n",
       "│ 2019-04-04 21:41:07.809116 ┆ 76.388698  ┆ 98840W2  ┆ in  ┆ Level       │\n",
       "│ …                          ┆ …          ┆ …        ┆ …   ┆ …           │\n",
       "│ 2023-08-15 00:52:13.787936 ┆ 365.600882 ┆ 98840W2  ┆ bbl ┆ Volume      │\n",
       "│ 2023-08-14 23:52:13.787936 ┆ 363.953501 ┆ 98840W2  ┆ bbl ┆ Volume      │\n",
       "│ 2023-08-14 22:52:13.787936 ┆ 362.274663 ┆ 98840W2  ┆ bbl ┆ Volume      │\n",
       "│ 2023-08-14 21:52:13.787936 ┆ 360.575111 ┆ 98840W2  ┆ bbl ┆ Volume      │\n",
       "│ 2023-08-14 20:52:13.787936 ┆ 358.863939 ┆ 98840W2  ┆ bbl ┆ Volume      │\n",
       "└────────────────────────────┴────────────┴──────────┴─────┴─────────────┘"
      ]
     },
     "execution_count": 7,
     "metadata": {},
     "output_type": "execute_result"
    }
   ],
   "source": [
    "lf = lf.drop(\"tank_name\", \"is_esd\", \"tank_type\", \"tank_number\")\n",
    "lf.collect()"
   ]
  },
  {
   "cell_type": "code",
   "execution_count": 8,
   "metadata": {},
   "outputs": [
    {
     "data": {
      "text/html": [
       "<div><style>\n",
       ".dataframe > thead > tr,\n",
       ".dataframe > tbody > tr {\n",
       "  text-align: right;\n",
       "  white-space: pre-wrap;\n",
       "}\n",
       "</style>\n",
       "<small>shape: (2, 4)</small><table border=\"1\" class=\"dataframe\"><thead><tr><th>tank_metric</th><th>uom</th><th>timestamps</th><th>values</th></tr><tr><td>str</td><td>str</td><td>list[datetime[μs]]</td><td>list[f64]</td></tr></thead><tbody><tr><td>&quot;Level&quot;</td><td>&quot;in&quot;</td><td>[2019-04-05 01:41:07.809116, 2019-04-05 00:41:07.809116, … 2019-04-03 02:41:07.809116]</td><td>[76.456344, 76.349873, … 78.172158]</td></tr><tr><td>&quot;Volume&quot;</td><td>&quot;bbl&quot;</td><td>[2023-08-16 19:52:13.787936, 2023-08-16 18:52:13.787936, … 2023-08-14 20:52:13.787936]</td><td>[357.148125, 357.041653, … 358.863939]</td></tr></tbody></table></div>"
      ],
      "text/plain": [
       "shape: (2, 4)\n",
       "┌─────────────┬─────┬─────────────────────────────────┬─────────────────────────────────┐\n",
       "│ tank_metric ┆ uom ┆ timestamps                      ┆ values                          │\n",
       "│ ---         ┆ --- ┆ ---                             ┆ ---                             │\n",
       "│ str         ┆ str ┆ list[datetime[μs]]              ┆ list[f64]                       │\n",
       "╞═════════════╪═════╪═════════════════════════════════╪═════════════════════════════════╡\n",
       "│ Level       ┆ in  ┆ [2019-04-05 01:41:07.809116, 2… ┆ [76.456344, 76.349873, … 78.17… │\n",
       "│ Volume      ┆ bbl ┆ [2023-08-16 19:52:13.787936, 2… ┆ [357.148125, 357.041653, … 358… │\n",
       "└─────────────┴─────┴─────────────────────────────────┴─────────────────────────────────┘"
      ]
     },
     "execution_count": 8,
     "metadata": {},
     "output_type": "execute_result"
    }
   ],
   "source": [
    "aggregated_lf = lf.group_by([\"tank_metric\", \"uom\"]).agg([\n",
    "    pl.col(\"ts\").alias(\"timestamps\"),\n",
    "    pl.col(\"value\").alias(\"values\")\n",
    "])\n",
    "\n",
    "aggregated_lf.collect()"
   ]
  }
 ],
 "metadata": {
  "kernelspec": {
   "display_name": ".venv",
   "language": "python",
   "name": "python3"
  },
  "language_info": {
   "codemirror_mode": {
    "name": "ipython",
    "version": 3
   },
   "file_extension": ".py",
   "mimetype": "text/x-python",
   "name": "python",
   "nbconvert_exporter": "python",
   "pygments_lexer": "ipython3",
   "version": "3.12.2"
  }
 },
 "nbformat": 4,
 "nbformat_minor": 2
}
