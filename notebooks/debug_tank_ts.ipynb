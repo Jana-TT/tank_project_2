{
 "cells": [
  {
   "cell_type": "code",
   "execution_count": 2,
   "metadata": {},
   "outputs": [
    {
     "data": {
      "text/html": [
       "<div><style>\n",
       ".dataframe > thead > tr,\n",
       ".dataframe > tbody > tr {\n",
       "  text-align: right;\n",
       "  white-space: pre-wrap;\n",
       "}\n",
       "</style>\n",
       "<small>shape: (106, 5)</small><table border=\"1\" class=\"dataframe\"><thead><tr><th>ts</th><th>value</th><th>source_key</th><th>metric_nice_name</th><th>uom</th></tr><tr><td>datetime[μs]</td><td>f64</td><td>str</td><td>str</td><td>str</td></tr></thead><tbody><tr><td>2018-01-11 09:12:20.082822</td><td>299.173063</td><td>&quot;9884001&quot;</td><td>&quot;OilTank1Volume&quot;</td><td>&quot;bbl&quot;</td></tr><tr><td>2018-01-11 08:12:20.082822</td><td>299.066591</td><td>&quot;9884001&quot;</td><td>&quot;OilTank1Volume&quot;</td><td>&quot;bbl&quot;</td></tr><tr><td>2018-01-11 07:12:20.082822</td><td>298.999721</td><td>&quot;9884001&quot;</td><td>&quot;OilTank1Volume&quot;</td><td>&quot;bbl&quot;</td></tr><tr><td>2018-01-11 06:12:20.082822</td><td>299.004504</td><td>&quot;9884001&quot;</td><td>&quot;OilTank1Volume&quot;</td><td>&quot;bbl&quot;</td></tr><tr><td>2018-01-11 05:12:20.082822</td><td>299.105416</td><td>&quot;9884001&quot;</td><td>&quot;OilTank1Volume&quot;</td><td>&quot;bbl&quot;</td></tr><tr><td>&hellip;</td><td>&hellip;</td><td>&hellip;</td><td>&hellip;</td><td>&hellip;</td></tr><tr><td>2024-07-26 22:42:10.494432</td><td>87.474737</td><td>&quot;9884001&quot;</td><td>&quot;OilTank1Level&quot;</td><td>&quot;in&quot;</td></tr><tr><td>2024-07-26 21:42:10.494432</td><td>85.827355</td><td>&quot;9884001&quot;</td><td>&quot;OilTank1Level&quot;</td><td>&quot;in&quot;</td></tr><tr><td>2024-07-26 20:42:10.494432</td><td>84.148518</td><td>&quot;9884001&quot;</td><td>&quot;OilTank1Level&quot;</td><td>&quot;in&quot;</td></tr><tr><td>2024-07-26 19:42:10.494432</td><td>82.448966</td><td>&quot;9884001&quot;</td><td>&quot;OilTank1Level&quot;</td><td>&quot;in&quot;</td></tr><tr><td>2024-07-26 18:42:10.494432</td><td>80.737793</td><td>&quot;9884001&quot;</td><td>&quot;OilTank1Level&quot;</td><td>&quot;in&quot;</td></tr></tbody></table></div>"
      ],
      "text/plain": [
       "shape: (106, 5)\n",
       "┌────────────────────────────┬────────────┬────────────┬──────────────────┬─────┐\n",
       "│ ts                         ┆ value      ┆ source_key ┆ metric_nice_name ┆ uom │\n",
       "│ ---                        ┆ ---        ┆ ---        ┆ ---              ┆ --- │\n",
       "│ datetime[μs]               ┆ f64        ┆ str        ┆ str              ┆ str │\n",
       "╞════════════════════════════╪════════════╪════════════╪══════════════════╪═════╡\n",
       "│ 2018-01-11 09:12:20.082822 ┆ 299.173063 ┆ 9884001    ┆ OilTank1Volume   ┆ bbl │\n",
       "│ 2018-01-11 08:12:20.082822 ┆ 299.066591 ┆ 9884001    ┆ OilTank1Volume   ┆ bbl │\n",
       "│ 2018-01-11 07:12:20.082822 ┆ 298.999721 ┆ 9884001    ┆ OilTank1Volume   ┆ bbl │\n",
       "│ 2018-01-11 06:12:20.082822 ┆ 299.004504 ┆ 9884001    ┆ OilTank1Volume   ┆ bbl │\n",
       "│ 2018-01-11 05:12:20.082822 ┆ 299.105416 ┆ 9884001    ┆ OilTank1Volume   ┆ bbl │\n",
       "│ …                          ┆ …          ┆ …          ┆ …                ┆ …   │\n",
       "│ 2024-07-26 22:42:10.494432 ┆ 87.474737  ┆ 9884001    ┆ OilTank1Level    ┆ in  │\n",
       "│ 2024-07-26 21:42:10.494432 ┆ 85.827355  ┆ 9884001    ┆ OilTank1Level    ┆ in  │\n",
       "│ 2024-07-26 20:42:10.494432 ┆ 84.148518  ┆ 9884001    ┆ OilTank1Level    ┆ in  │\n",
       "│ 2024-07-26 19:42:10.494432 ┆ 82.448966  ┆ 9884001    ┆ OilTank1Level    ┆ in  │\n",
       "│ 2024-07-26 18:42:10.494432 ┆ 80.737793  ┆ 9884001    ┆ OilTank1Level    ┆ in  │\n",
       "└────────────────────────────┴────────────┴────────────┴──────────────────┴─────┘"
      ]
     },
     "execution_count": 2,
     "metadata": {},
     "output_type": "execute_result"
    }
   ],
   "source": [
    "import polars as pl\n",
    "from src.tank_ts_endpoint import fetch_tank_ts_data, GetTanksTimeDataReq\n",
    "\n",
    "#pl.Config.set_tbl_rows(2000)\n",
    "\n",
    "req = GetTanksTimeDataReq(source_key=['9884001', '98840FAC'])\n",
    "\n",
    "df = await fetch_tank_ts_data(req)\n",
    "if df is None:\n",
    "    raise ValueError(\"df is None\")\n",
    "lf = df.lazy()\n",
    "lf.collect()"
   ]
  },
  {
   "cell_type": "code",
   "execution_count": 3,
   "metadata": {},
   "outputs": [
    {
     "data": {
      "text/html": [
       "<div><style>\n",
       ".dataframe > thead > tr,\n",
       ".dataframe > tbody > tr {\n",
       "  text-align: right;\n",
       "  white-space: pre-wrap;\n",
       "}\n",
       "</style>\n",
       "<small>shape: (4, 5)</small><table border=\"1\" class=\"dataframe\"><thead><tr><th>tank_metric</th><th>tank_type</th><th>uom</th><th>timestamps</th><th>values</th></tr><tr><td>str</td><td>str</td><td>str</td><td>list[datetime[μs]]</td><td>list[f64]</td></tr></thead><tbody><tr><td>&quot;InchesUntilAlarm&quot;</td><td>&quot;Oil&quot;</td><td>&quot;in&quot;</td><td>[2023-12-21 06:22:10, 2023-09-11 23:03:57, 2024-08-22 10:59:43]</td><td>[6.0, 130.227169, 102.478181]</td></tr><tr><td>&quot;InchesUntilAlarm&quot;</td><td>&quot;Water&quot;</td><td>&quot;in&quot;</td><td>[2024-07-27 02:42:26, 2024-05-22 01:16:33, 2024-08-16 04:45:27]</td><td>[1.0, 239.561629, 257.847738]</td></tr><tr><td>&quot;Level&quot;</td><td>&quot;Oil&quot;</td><td>&quot;in&quot;</td><td>[2024-07-28 17:42:10, 2024-07-28 16:42:10, … 2024-07-26 18:42:10]</td><td>[79.02198, 78.915508, … 80.737793]</td></tr><tr><td>&quot;Volume&quot;</td><td>&quot;Oil&quot;</td><td>&quot;bbl&quot;</td><td>[2018-01-11 09:12:20, 2018-01-11 08:12:20, … 2018-01-09 10:12:20]</td><td>[299.173063, 299.066591, … 300.888877]</td></tr></tbody></table></div>"
      ],
      "text/plain": [
       "shape: (4, 5)\n",
       "┌──────────────────┬───────────┬─────┬───────────────────────┬─────────────────────────────────┐\n",
       "│ tank_metric      ┆ tank_type ┆ uom ┆ timestamps            ┆ values                          │\n",
       "│ ---              ┆ ---       ┆ --- ┆ ---                   ┆ ---                             │\n",
       "│ str              ┆ str       ┆ str ┆ list[datetime[μs]]    ┆ list[f64]                       │\n",
       "╞══════════════════╪═══════════╪═════╪═══════════════════════╪═════════════════════════════════╡\n",
       "│ InchesUntilAlarm ┆ Oil       ┆ in  ┆ [2023-12-21 06:22:10, ┆ [6.0, 130.227169, 102.478181]   │\n",
       "│                  ┆           ┆     ┆ 2023-09-…             ┆                                 │\n",
       "│ InchesUntilAlarm ┆ Water     ┆ in  ┆ [2024-07-27 02:42:26, ┆ [1.0, 239.561629, 257.847738]   │\n",
       "│                  ┆           ┆     ┆ 2024-05-…             ┆                                 │\n",
       "│ Level            ┆ Oil       ┆ in  ┆ [2024-07-28 17:42:10, ┆ [79.02198, 78.915508, … 80.737… │\n",
       "│                  ┆           ┆     ┆ 2024-07-…             ┆                                 │\n",
       "│ Volume           ┆ Oil       ┆ bbl ┆ [2018-01-11 09:12:20, ┆ [299.173063, 299.066591, … 300… │\n",
       "│                  ┆           ┆     ┆ 2018-01-…             ┆                                 │\n",
       "└──────────────────┴───────────┴─────┴───────────────────────┴─────────────────────────────────┘"
      ]
     },
     "execution_count": 3,
     "metadata": {},
     "output_type": "execute_result"
    }
   ],
   "source": [
    "tank_metrics = [\"Level\", \"Volume\", \"InchesUntilAlarm\", \"InchesToESD\"]\n",
    "tank_types = [\"Water\", \"Oil\"]\n",
    "\n",
    "tank_metrics_str= \"|\".join(tank_metrics)\n",
    "tank_types_str = \"|\".join(tank_types)\n",
    "\n",
    "pattern = f'^(?<is_esd>ESD-)?(?<tank_type>{tank_types_str})Tank(?<tank_number>[0-9]*)(?<tank_metric>{tank_metrics_str})'\n",
    "lf = lf.with_columns(separated_metrics = pl.col(\"metric_nice_name\").str.extract_groups(pattern))\n",
    "lf = lf.unnest(\"separated_metrics\")\n",
    "\n",
    "lf = lf.drop(\"is_esd\", \"tank_number\")\n",
    "\n",
    "filtered_lf = lf.filter(~pl.col(\"metric_nice_name\").str.ends_with(\"ID\"))\n",
    "\n",
    "ts_to_sec = filtered_lf.with_columns(\n",
    "    pl.col(\"ts\").dt.strftime(\"%Y-%m-%d %H:%M:%S\").str.strptime(pl.Datetime).alias(\"ts\")\n",
    ")\n",
    "\n",
    "\n",
    "aggregated_lf = ts_to_sec.group_by([\"tank_metric\", \"tank_type\",\"uom\"]).agg([\n",
    "    pl.col(\"ts\").alias(\"timestamps\"),\n",
    "    pl.col(\"value\").alias(\"values\")\n",
    "])\n",
    "\n",
    "aggregated_lf = aggregated_lf.sort(\"tank_metric\", \"tank_type\")\n",
    "\n",
    "aggregated_lf.collect()"
   ]
  },
  {
   "cell_type": "code",
   "execution_count": null,
   "metadata": {},
   "outputs": [],
   "source": [
    "tank_metrics = [\"Level\", \"Volume\", \"InchesUntilAlarm\", \"InchesToESD\"]\n",
    "tank_types = [\"Water\", \"Oil\"]\n",
    "\n",
    "tank_metrics_str= \"|\".join(tank_metrics)\n",
    "tank_types_str = \"|\".join(tank_types)\n",
    "\n",
    "pattern = f'^(?<is_esd>ESD-)?(?<tank_type>{tank_types_str})Tank(?<tank_number>[0-9]*)(?<tank_metric>{tank_metrics_str})'\n",
    "lf = lf.with_columns(separated_metrics = pl.col(\"metric_nice_name\").str.extract_groups(pattern))\n",
    "lf = lf.unnest(\"separated_metrics\")\n",
    "lf.collect()"
   ]
  },
  {
   "cell_type": "code",
   "execution_count": null,
   "metadata": {},
   "outputs": [],
   "source": [
    "lf = lf.drop(\"is_esd\", \"tank_number\")\n",
    "lf.collect()"
   ]
  },
  {
   "cell_type": "code",
   "execution_count": null,
   "metadata": {},
   "outputs": [],
   "source": [
    "filtered_lf = lf.filter(~pl.col(\"metric_nice_name\").str.ends_with(\"ID\"))\n",
    "filtered_lf.collect()"
   ]
  },
  {
   "cell_type": "code",
   "execution_count": null,
   "metadata": {},
   "outputs": [],
   "source": [
    "ts_to_sec = filtered_lf.with_columns(\n",
    "    pl.col(\"ts\").dt.strftime(\"%Y-%m-%d %H:%M:%S\").str.strptime(pl.Datetime).alias(\"ts\")\n",
    ")\n",
    "\n",
    "ts_to_sec.collect()"
   ]
  },
  {
   "cell_type": "code",
   "execution_count": null,
   "metadata": {},
   "outputs": [],
   "source": [
    "aggregated_lf = ts_to_sec.group_by([\"tank_metric\", \"tank_type\",\"uom\"]).agg([\n",
    "    pl.col(\"ts\").alias(\"timestamps\"),\n",
    "    pl.col(\"value\").alias(\"values\")\n",
    "])\n",
    "\n",
    "aggregated_lf = aggregated_lf.sort(\"tank_metric\")\n",
    "\n",
    "aggregated_lf.collect()"
   ]
  }
 ],
 "metadata": {
  "kernelspec": {
   "display_name": ".venv",
   "language": "python",
   "name": "python3"
  },
  "language_info": {
   "codemirror_mode": {
    "name": "ipython",
    "version": 3
   },
   "file_extension": ".py",
   "mimetype": "text/x-python",
   "name": "python",
   "nbconvert_exporter": "python",
   "pygments_lexer": "ipython3",
   "version": "3.12.2"
  }
 },
 "nbformat": 4,
 "nbformat_minor": 2
}
