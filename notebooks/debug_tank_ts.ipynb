{
 "cells": [
  {
   "cell_type": "code",
   "execution_count": 1,
   "metadata": {},
   "outputs": [
    {
     "data": {
      "text/html": [
       "<div><style>\n",
       ".dataframe > thead > tr,\n",
       ".dataframe > tbody > tr {\n",
       "  text-align: right;\n",
       "  white-space: pre-wrap;\n",
       "}\n",
       "</style>\n",
       "<small>shape: (162, 5)</small><table border=\"1\" class=\"dataframe\"><thead><tr><th>ts</th><th>value</th><th>source_key</th><th>metric_nice_name</th><th>uom</th></tr><tr><td>datetime[μs]</td><td>f64</td><td>str</td><td>str</td><td>str</td></tr></thead><tbody><tr><td>2024-08-22 20:10:28.260583</td><td>291.456951</td><td>&quot;9883901&quot;</td><td>&quot;OilTank1Volume&quot;</td><td>&quot;bbl&quot;</td></tr><tr><td>2024-08-26 18:34:13.231329</td><td>298.883254</td><td>&quot;9883901&quot;</td><td>&quot;OilTank1Volume&quot;</td><td>&quot;bbl&quot;</td></tr><tr><td>2024-08-28 06:15:32.821494</td><td>262.238814</td><td>&quot;9883901&quot;</td><td>&quot;OilTank1Volume&quot;</td><td>&quot;bbl&quot;</td></tr><tr><td>2024-08-26 09:32:03.681955</td><td>303.781195</td><td>&quot;9883901&quot;</td><td>&quot;OilTank1Volume&quot;</td><td>&quot;bbl&quot;</td></tr><tr><td>2024-08-29 10:53:08.232747</td><td>351.712976</td><td>&quot;9883901&quot;</td><td>&quot;OilTank1Volume&quot;</td><td>&quot;bbl&quot;</td></tr><tr><td>&hellip;</td><td>&hellip;</td><td>&hellip;</td><td>&hellip;</td><td>&hellip;</td></tr><tr><td>2024-08-28 22:23:33.615018</td><td>232.012233</td><td>&quot;98839FAC&quot;</td><td>&quot;ESD-OilTankInchesUntilAlarm&quot;</td><td>&quot;in&quot;</td></tr><tr><td>2024-08-28 13:59:08.358302</td><td>198.544071</td><td>&quot;98839FAC&quot;</td><td>&quot;ESD-OilTankInchesUntilAlarm&quot;</td><td>&quot;in&quot;</td></tr><tr><td>2024-08-29 07:27:55.213780</td><td>272.102104</td><td>&quot;98839FAC&quot;</td><td>&quot;ESD-OilTankInchesUntilAlarm&quot;</td><td>&quot;in&quot;</td></tr><tr><td>2024-05-02 19:15:24.255861</td><td>3.0</td><td>&quot;98839FAC&quot;</td><td>&quot;ESD-OilTankID&quot;</td><td>&quot;&quot;</td></tr><tr><td>2023-10-07 12:08:05.914327</td><td>2.0</td><td>&quot;98839FAC&quot;</td><td>&quot;ESD-WaterTankID&quot;</td><td>&quot;&quot;</td></tr></tbody></table></div>"
      ],
      "text/plain": [
       "shape: (162, 5)\n",
       "┌────────────────────────────┬────────────┬────────────┬─────────────────────────────┬─────┐\n",
       "│ ts                         ┆ value      ┆ source_key ┆ metric_nice_name            ┆ uom │\n",
       "│ ---                        ┆ ---        ┆ ---        ┆ ---                         ┆ --- │\n",
       "│ datetime[μs]               ┆ f64        ┆ str        ┆ str                         ┆ str │\n",
       "╞════════════════════════════╪════════════╪════════════╪═════════════════════════════╪═════╡\n",
       "│ 2024-08-22 20:10:28.260583 ┆ 291.456951 ┆ 9883901    ┆ OilTank1Volume              ┆ bbl │\n",
       "│ 2024-08-26 18:34:13.231329 ┆ 298.883254 ┆ 9883901    ┆ OilTank1Volume              ┆ bbl │\n",
       "│ 2024-08-28 06:15:32.821494 ┆ 262.238814 ┆ 9883901    ┆ OilTank1Volume              ┆ bbl │\n",
       "│ 2024-08-26 09:32:03.681955 ┆ 303.781195 ┆ 9883901    ┆ OilTank1Volume              ┆ bbl │\n",
       "│ 2024-08-29 10:53:08.232747 ┆ 351.712976 ┆ 9883901    ┆ OilTank1Volume              ┆ bbl │\n",
       "│ …                          ┆ …          ┆ …          ┆ …                           ┆ …   │\n",
       "│ 2024-08-28 22:23:33.615018 ┆ 232.012233 ┆ 98839FAC   ┆ ESD-OilTankInchesUntilAlarm ┆ in  │\n",
       "│ 2024-08-28 13:59:08.358302 ┆ 198.544071 ┆ 98839FAC   ┆ ESD-OilTankInchesUntilAlarm ┆ in  │\n",
       "│ 2024-08-29 07:27:55.213780 ┆ 272.102104 ┆ 98839FAC   ┆ ESD-OilTankInchesUntilAlarm ┆ in  │\n",
       "│ 2024-05-02 19:15:24.255861 ┆ 3.0        ┆ 98839FAC   ┆ ESD-OilTankID               ┆     │\n",
       "│ 2023-10-07 12:08:05.914327 ┆ 2.0        ┆ 98839FAC   ┆ ESD-WaterTankID             ┆     │\n",
       "└────────────────────────────┴────────────┴────────────┴─────────────────────────────┴─────┘"
      ]
     },
     "execution_count": 1,
     "metadata": {},
     "output_type": "execute_result"
    }
   ],
   "source": [
    "import polars as pl\n",
    "from src.tank_ts_endpoint import fetch_tank_ts_data, GetTanksTimeDataReq\n",
    "\n",
    "#pl.Config.set_tbl_rows(2000)\n",
    "\n",
    "req = GetTanksTimeDataReq(source_key=['9883901', '98839FAC'])\n",
    "\n",
    "df = await fetch_tank_ts_data(req)\n",
    "if df is None:\n",
    "    raise ValueError(\"df is None\")\n",
    "lf = df.lazy()\n",
    "lf.collect()"
   ]
  },
  {
   "cell_type": "code",
   "execution_count": 2,
   "metadata": {},
   "outputs": [
    {
     "data": {
      "text/html": [
       "<div><style>\n",
       ".dataframe > thead > tr,\n",
       ".dataframe > tbody > tr {\n",
       "  text-align: right;\n",
       "  white-space: pre-wrap;\n",
       "}\n",
       "</style>\n",
       "<small>shape: (4, 5)</small><table border=\"1\" class=\"dataframe\"><thead><tr><th>tank_metric</th><th>tank_type</th><th>uom</th><th>timestamps</th><th>values</th></tr><tr><td>str</td><td>str</td><td>str</td><td>list[datetime[μs]]</td><td>list[f64]</td></tr></thead><tbody><tr><td>&quot;InchesUntilAlarm&quot;</td><td>&quot;Water&quot;</td><td>&quot;in&quot;</td><td>[2024-08-29 16:45:36, 2024-08-26 00:32:42, … 2024-08-26 07:06:14]</td><td>[266.361128, 243.027024, … 236.480047]</td></tr><tr><td>&quot;Level&quot;</td><td>&quot;Oil&quot;</td><td>&quot;in&quot;</td><td>[2024-08-25 06:44:07, 2024-08-24 19:16:58, … 2024-08-22 21:58:48]</td><td>[78.128182, 73.656298, … 78.495096]</td></tr><tr><td>&quot;Volume&quot;</td><td>&quot;Oil&quot;</td><td>&quot;bbl&quot;</td><td>[2024-08-22 20:10:28, 2024-08-26 18:34:13, … 2024-08-26 06:08:41]</td><td>[291.456951, 298.883254, … 308.161086]</td></tr><tr><td>&quot;InchesUntilAlarm&quot;</td><td>&quot;Oil&quot;</td><td>&quot;in&quot;</td><td>[2024-08-23 16:26:59, 2024-08-27 02:03:33, … 2024-08-29 07:27:55]</td><td>[268.078822, 235.166886, … 272.102104]</td></tr></tbody></table></div>"
      ],
      "text/plain": [
       "shape: (4, 5)\n",
       "┌──────────────────┬───────────┬─────┬───────────────────────┬─────────────────────────────────┐\n",
       "│ tank_metric      ┆ tank_type ┆ uom ┆ timestamps            ┆ values                          │\n",
       "│ ---              ┆ ---       ┆ --- ┆ ---                   ┆ ---                             │\n",
       "│ str              ┆ str       ┆ str ┆ list[datetime[μs]]    ┆ list[f64]                       │\n",
       "╞══════════════════╪═══════════╪═════╪═══════════════════════╪═════════════════════════════════╡\n",
       "│ InchesUntilAlarm ┆ Water     ┆ in  ┆ [2024-08-29 16:45:36, ┆ [266.361128, 243.027024, … 236… │\n",
       "│                  ┆           ┆     ┆ 2024-08-…             ┆                                 │\n",
       "│ Level            ┆ Oil       ┆ in  ┆ [2024-08-25 06:44:07, ┆ [78.128182, 73.656298, … 78.49… │\n",
       "│                  ┆           ┆     ┆ 2024-08-…             ┆                                 │\n",
       "│ Volume           ┆ Oil       ┆ bbl ┆ [2024-08-22 20:10:28, ┆ [291.456951, 298.883254, … 308… │\n",
       "│                  ┆           ┆     ┆ 2024-08-…             ┆                                 │\n",
       "│ InchesUntilAlarm ┆ Oil       ┆ in  ┆ [2024-08-23 16:26:59, ┆ [268.078822, 235.166886, … 272… │\n",
       "│                  ┆           ┆     ┆ 2024-08-…             ┆                                 │\n",
       "└──────────────────┴───────────┴─────┴───────────────────────┴─────────────────────────────────┘"
      ]
     },
     "execution_count": 2,
     "metadata": {},
     "output_type": "execute_result"
    }
   ],
   "source": [
    "import polars as pl\n",
    "\n",
    "# Define custom orders\n",
    "tank_metrics = [\"Level\", \"Volume\", \"InchesUntilAlarm\", \"InchesToESD\"]\n",
    "tank_types = [\"Water\", \"Oil\"]\n",
    "\n",
    "# Create dictionaries for custom orders\n",
    "tank_metrics_order = {metric: idx for idx, metric in enumerate(tank_metrics)}\n",
    "tank_types_order = {tank_type: idx for idx, tank_type in enumerate(tank_types)}\n",
    "\n",
    "# Define the pattern for extracting metrics\n",
    "pattern = f'^(?<is_esd>ESD-)?(?<tank_type>{\"|\".join(tank_types)})Tank(?<tank_number>[0-9]*)(?<tank_metric>{\"|\".join(tank_metrics)})'\n",
    "\n",
    "# Apply the pattern to extract and unnest the metrics\n",
    "lf = lf.with_columns(separated_metrics=pl.col(\"metric_nice_name\").str.extract_groups(pattern))\n",
    "lf = lf.unnest(\"separated_metrics\")\n",
    "\n",
    "# Drop unwanted columns\n",
    "lf = lf.drop(\"is_esd\", \"tank_number\")\n",
    "\n",
    "# Filter out unwanted rows\n",
    "filtered_lf = lf.filter(~pl.col(\"metric_nice_name\").str.ends_with(\"ID\"))\n",
    "\n",
    "# Convert timestamps to datetime\n",
    "ts_to_sec = filtered_lf.with_columns(\n",
    "    pl.col(\"ts\").dt.strftime(\"%Y-%m-%d %H:%M:%S\").str.strptime(pl.Datetime).alias(\"ts\")\n",
    ")\n",
    "\n",
    "# Aggregate the data\n",
    "aggregated_lf = ts_to_sec.group_by([\"tank_metric\", \"tank_type\", \"uom\"]).agg([\n",
    "    pl.col(\"ts\").alias(\"timestamps\"),\n",
    "    pl.col(\"value\").alias(\"values\")\n",
    "])\n",
    "\n",
    "# Add custom order columns\n",
    "aggregated_lf = aggregated_lf.with_columns(\n",
    "    pl.col(\"tank_metric\").replace(tank_types_order, default=-1).alias(\"type_order\")\n",
    ")\n",
    "\n",
    "aggregated_lf = aggregated_lf.drop(\"type_order\")\n",
    "\n",
    "# Collect the results\n",
    "result_df = aggregated_lf.collect()\n",
    "\n",
    "result_df\n"
   ]
  },
  {
   "cell_type": "code",
   "execution_count": null,
   "metadata": {},
   "outputs": [],
   "source": [
    "tank_metrics = [\"Level\", \"Volume\", \"InchesUntilAlarm\", \"InchesToESD\"]\n",
    "tank_types = [\"Water\", \"Oil\"]\n",
    "\n",
    "tank_metrics_str= \"|\".join(tank_metrics)\n",
    "tank_types_str = \"|\".join(tank_types)\n",
    "\n",
    "pattern = f'^(?<is_esd>ESD-)?(?<tank_type>{tank_types_str})Tank(?<tank_number>[0-9]*)(?<tank_metric>{tank_metrics_str})'\n",
    "lf = lf.with_columns(separated_metrics = pl.col(\"metric_nice_name\").str.extract_groups(pattern))\n",
    "lf = lf.unnest(\"separated_metrics\")\n",
    "lf.collect()"
   ]
  },
  {
   "cell_type": "code",
   "execution_count": null,
   "metadata": {},
   "outputs": [],
   "source": [
    "lf = lf.drop(\"is_esd\", \"tank_number\")\n",
    "lf.collect()"
   ]
  },
  {
   "cell_type": "code",
   "execution_count": null,
   "metadata": {},
   "outputs": [],
   "source": [
    "filtered_lf = lf.filter(~pl.col(\"metric_nice_name\").str.ends_with(\"ID\"))\n",
    "filtered_lf.collect()"
   ]
  },
  {
   "cell_type": "code",
   "execution_count": null,
   "metadata": {},
   "outputs": [],
   "source": [
    "ts_to_sec = filtered_lf.with_columns(\n",
    "    pl.col(\"ts\").dt.strftime(\"%Y-%m-%d %H:%M:%S\").str.strptime(pl.Datetime).alias(\"ts\")\n",
    ")\n",
    "\n",
    "ts_to_sec.collect()"
   ]
  },
  {
   "cell_type": "code",
   "execution_count": null,
   "metadata": {},
   "outputs": [],
   "source": [
    "aggregated_lf = ts_to_sec.group_by([\"tank_metric\", \"tank_type\",\"uom\"]).agg([\n",
    "    pl.col(\"ts\").alias(\"timestamps\"),\n",
    "    pl.col(\"value\").alias(\"values\")\n",
    "])\n",
    "\n",
    "aggregated_lf = aggregated_lf.sort(\"tank_metric\")\n",
    "\n",
    "aggregated_lf.collect()"
   ]
  }
 ],
 "metadata": {
  "kernelspec": {
   "display_name": ".venv",
   "language": "python",
   "name": "python3"
  },
  "language_info": {
   "codemirror_mode": {
    "name": "ipython",
    "version": 3
   },
   "file_extension": ".py",
   "mimetype": "text/x-python",
   "name": "python",
   "nbconvert_exporter": "python",
   "pygments_lexer": "ipython3",
   "version": "3.12.2"
  }
 },
 "nbformat": 4,
 "nbformat_minor": 2
}
