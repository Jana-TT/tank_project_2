{
 "cells": [
  {
   "cell_type": "code",
   "execution_count": 3,
   "metadata": {},
   "outputs": [
    {
     "data": {
      "text/plain": [
       "<Response [200 OK]>"
      ]
     },
     "execution_count": 3,
     "metadata": {},
     "output_type": "execute_result"
    }
   ],
   "source": [
    "import httpx\n",
    "\n",
    "\n",
    "client = httpx.AsyncClient(base_url=\"https://tank-project-glgjkoxnua-uc.a.run.app/\")\n",
    "req = { \"primo_ids\": [\"69419\", \"69431\"] }\n",
    "\n",
    "res = await client.post(\"/tanks\", json=req)\n",
    "res"
   ]
  },
  {
   "cell_type": "code",
   "execution_count": 4,
   "metadata": {},
   "outputs": [
    {
     "data": {
      "text/plain": [
       "{'tanks': [{'primo_id': 69419,\n",
       "   'scada_id': '6941903',\n",
       "   'tank_type': 'Oil',\n",
       "   'tank_number': 4,\n",
       "   'level_in_inches': 139.5930314490188},\n",
       "  {'primo_id': 69419,\n",
       "   'scada_id': '69419W3',\n",
       "   'tank_type': 'Water',\n",
       "   'tank_number': 3,\n",
       "   'level_in_inches': 136.96039146412448},\n",
       "  {'primo_id': 69419,\n",
       "   'scada_id': '69419W2',\n",
       "   'tank_type': 'Water',\n",
       "   'tank_number': 2,\n",
       "   'level_in_inches': 51.414077345495755},\n",
       "  {'primo_id': 69419,\n",
       "   'scada_id': '6941903',\n",
       "   'tank_type': 'Oil',\n",
       "   'tank_number': 3,\n",
       "   'level_in_inches': 44.37074197804353},\n",
       "  {'primo_id': 69419,\n",
       "   'scada_id': '69419W1',\n",
       "   'tank_type': 'Water',\n",
       "   'tank_number': 1,\n",
       "   'level_in_inches': 49.26034096839767},\n",
       "  {'primo_id': 69419,\n",
       "   'scada_id': '6941901',\n",
       "   'tank_type': 'Oil',\n",
       "   'tank_number': 1,\n",
       "   'level_in_inches': 62.15902076750906},\n",
       "  {'primo_id': 69419,\n",
       "   'scada_id': '6941902',\n",
       "   'tank_type': 'Oil',\n",
       "   'tank_number': 2,\n",
       "   'level_in_inches': 88.5245761267483}]}"
      ]
     },
     "execution_count": 4,
     "metadata": {},
     "output_type": "execute_result"
    }
   ],
   "source": [
    "res.json()"
   ]
  },
  {
   "cell_type": "code",
   "execution_count": 5,
   "metadata": {},
   "outputs": [
    {
     "data": {
      "text/plain": [
       "'curl -X POST -H \"host: tank-project-glgjkoxnua-uc.a.run.app\" -H \"accept: */*\" -H \"accept-encoding: gzip, deflate\" -H \"connection: keep-alive\" -H \"user-agent: python-httpx/0.27.0\" -H \"content-length: 24\" -H \"content-type: application/json\" -d \\'{\"primo_ids\": [\"69419\"]}\\' https://tank-project-glgjkoxnua-uc.a.run.app/tanks'"
      ]
     },
     "execution_count": 5,
     "metadata": {},
     "output_type": "execute_result"
    }
   ],
   "source": [
    "from curlify2 import Curlify\n",
    "\n",
    "\n",
    "client = httpx.AsyncClient(base_url=\"https://tank-project-glgjkoxnua-uc.a.run.app/\")\n",
    "req = { \"primo_ids\": [\"69419\"] }\n",
    "\n",
    "res = await client.post(\"/tanks\", json=req)\n",
    "\n",
    "curl = Curlify(res.request)\n",
    "curl.to_curl()\n"
   ]
  }
 ],
 "metadata": {
  "kernelspec": {
   "display_name": "tank-project-9-HCZibD-py3.12",
   "language": "python",
   "name": "python3"
  },
  "language_info": {
   "codemirror_mode": {
    "name": "ipython",
    "version": 3
   },
   "file_extension": ".py",
   "mimetype": "text/x-python",
   "name": "python",
   "nbconvert_exporter": "python",
   "pygments_lexer": "ipython3",
   "version": "3.12.2"
  }
 },
 "nbformat": 4,
 "nbformat_minor": 2
}
