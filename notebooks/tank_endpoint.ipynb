{
 "cells": [
  {
   "cell_type": "code",
   "execution_count": 1,
   "metadata": {},
   "outputs": [
    {
     "data": {
      "text/plain": [
       "TankDataTransformResponse(tanks=[TankDataTransform(property_id='11009', source_key='1100901', tank_type='Oil', tank_number=1, level=83.2911669807181, volume=352, inches_to_esd=None, time_until_esd=None, capacity=480.0, percent_full=73), TankDataTransform(property_id='11009', source_key='1100902', tank_type='Oil', tank_number=2, level=82.69142436114686, volume=350, inches_to_esd=None, time_until_esd=None, capacity=531.0, percent_full=66), TankDataTransform(property_id='11009', source_key='1100903', tank_type='Oil', tank_number=3, level=79.2026077119479, volume=341, inches_to_esd=None, time_until_esd=None, capacity=456.0, percent_full=75), TankDataTransform(property_id='11009', source_key='1100904', tank_type='Oil', tank_number=4, level=84.43858508955887, volume=349, inches_to_esd=270.01592487260467, time_until_esd=None, capacity=535.0, percent_full=65), TankDataTransform(property_id='11009', source_key='1100905', tank_type='Oil', tank_number=5, level=83.17208591994265, volume=352, inches_to_esd=None, time_until_esd=None, capacity=595.0, percent_full=59), TankDataTransform(property_id='11009', source_key='1100906', tank_type='Oil', tank_number=6, level=82.92113205574246, volume=352, inches_to_esd=None, time_until_esd=None, capacity=594.0, percent_full=59), TankDataTransform(property_id='11009', source_key='11009W1', tank_type='Water', tank_number=1, level=84.15654451010927, volume=345, inches_to_esd=265.53866492762495, time_until_esd=None, capacity=832.0, percent_full=41), TankDataTransform(property_id='11009', source_key='11009W2', tank_type='Water', tank_number=2, level=84.37050615208568, volume=347, inches_to_esd=None, time_until_esd=None, capacity=654.0, percent_full=53), TankDataTransform(property_id='11009', source_key='11009W3', tank_type='Water', tank_number=3, level=82.71004492454873, volume=347, inches_to_esd=None, time_until_esd=None, capacity=683.0, percent_full=51)])"
      ]
     },
     "execution_count": 1,
     "metadata": {},
     "output_type": "execute_result"
    }
   ],
   "source": [
    "from src.main import GetTanksReq, get_tank_data\n",
    "\n",
    "req = GetTanksReq(property_ids={\"11009\"})\n",
    "res = await get_tank_data(req)\n",
    "res"
   ]
  },
  {
   "cell_type": "code",
   "execution_count": null,
   "metadata": {},
   "outputs": [],
   "source": [
    "from src.main import GetTanksReq, get_tank_data\n",
    "from src.tanks_endpoint import TankType\n",
    "\n",
    "req = GetTanksReq(property_ids={\"480001\"}, tank_types={TankType.Water})\n",
    "res = await get_tank_data(req)\n",
    "print(res)\n"
   ]
  },
  {
   "cell_type": "code",
   "execution_count": 4,
   "metadata": {},
   "outputs": [
    {
     "name": "stdout",
     "output_type": "stream",
     "text": [
      "timeseries=[TankTsDataTransform(tank_metric='InchesUntilAlarm', tank_type='Oil', uom='in', timestamps=[datetime.datetime(2023, 12, 21, 6, 22, 10), datetime.datetime(2023, 9, 11, 23, 3, 57), datetime.datetime(2024, 8, 22, 10, 59, 43)], values=[6.0, 130.2271688318673, 102.47818094071786]), TankTsDataTransform(tank_metric='InchesUntilAlarm', tank_type='Water', uom='in', timestamps=[datetime.datetime(2024, 7, 27, 2, 42, 26), datetime.datetime(2024, 5, 22, 1, 16, 33), datetime.datetime(2024, 8, 16, 4, 45, 27)], values=[1.0, 239.56162926836788, 257.8477377977712]), TankTsDataTransform(tank_metric='Level', tank_type='Oil', uom='in', timestamps=[datetime.datetime(2024, 7, 28, 17, 42, 10), datetime.datetime(2024, 7, 28, 16, 42, 10), datetime.datetime(2024, 7, 28, 15, 42, 10), datetime.datetime(2024, 7, 28, 14, 42, 10), datetime.datetime(2024, 7, 28, 13, 42, 10), datetime.datetime(2024, 7, 28, 12, 42, 10), datetime.datetime(2024, 7, 28, 11, 42, 10), datetime.datetime(2024, 7, 28, 10, 42, 10), datetime.datetime(2024, 7, 28, 9, 42, 10), datetime.datetime(2024, 7, 28, 8, 42, 10), datetime.datetime(2024, 7, 28, 7, 42, 10), datetime.datetime(2024, 7, 28, 6, 42, 10), datetime.datetime(2024, 7, 28, 5, 42, 10), datetime.datetime(2024, 7, 28, 4, 42, 10), datetime.datetime(2024, 7, 28, 3, 42, 10), datetime.datetime(2024, 7, 28, 2, 42, 10), datetime.datetime(2024, 7, 28, 1, 42, 10), datetime.datetime(2024, 7, 28, 0, 42, 10), datetime.datetime(2024, 7, 27, 23, 42, 10), datetime.datetime(2024, 7, 27, 22, 42, 10), datetime.datetime(2024, 7, 27, 21, 42, 10), datetime.datetime(2024, 7, 27, 20, 42, 10), datetime.datetime(2024, 7, 27, 19, 42, 10), datetime.datetime(2024, 7, 27, 18, 42, 10), datetime.datetime(2024, 7, 27, 17, 42, 10), datetime.datetime(2024, 7, 27, 16, 42, 10), datetime.datetime(2024, 7, 27, 15, 42, 10), datetime.datetime(2024, 7, 27, 14, 42, 10), datetime.datetime(2024, 7, 27, 13, 42, 10), datetime.datetime(2024, 7, 27, 12, 42, 10), datetime.datetime(2024, 7, 27, 11, 42, 10), datetime.datetime(2024, 7, 27, 10, 42, 10), datetime.datetime(2024, 7, 27, 9, 42, 10), datetime.datetime(2024, 7, 27, 8, 42, 10), datetime.datetime(2024, 7, 27, 7, 42, 10), datetime.datetime(2024, 7, 27, 6, 42, 10), datetime.datetime(2024, 7, 27, 5, 42, 10), datetime.datetime(2024, 7, 27, 4, 42, 10), datetime.datetime(2024, 7, 27, 3, 42, 10), datetime.datetime(2024, 7, 27, 2, 42, 10), datetime.datetime(2024, 7, 27, 1, 42, 10), datetime.datetime(2024, 7, 27, 0, 42, 10), datetime.datetime(2024, 7, 26, 23, 42, 10), datetime.datetime(2024, 7, 26, 22, 42, 10), datetime.datetime(2024, 7, 26, 21, 42, 10), datetime.datetime(2024, 7, 26, 20, 42, 10), datetime.datetime(2024, 7, 26, 19, 42, 10), datetime.datetime(2024, 7, 26, 18, 42, 10)], values=[79.02197984752921, 78.91550798874673, 78.84863821565024, 78.8534205573208, 78.9543329802323, 79.16898976694085, 79.50882271918867, 79.97973518542172, 80.58272891272179, 81.3145037231526, 82.16803001452001, 83.13309408554653, 84.1968162854598, 85.34414198799533, 86.55830538981334, 87.82126613332974, 89.11411875396135, 90.41747495178508, 91.71181868761144, 92.97783410347212, 94.19670626752169, 95.35039474335346, 96.42187998372958, 97.39538254872514, 98.25655514828642, 98.99264750920358, 99.59264406649699, 100.04737447921815, 100.34959697066454, 100.49405449300865, 100.47750371634126, 100.29871684212861, 99.95845624108402, 99.45942191545353, 98.80617178571553, 98.00501480169487, 97.06387687809072, 95.99213965441903, 94.80045207936865, 93.500514819572, 92.10483749278966, 90.62646872550916, 89.07869903495792, 87.47473653553044, 85.82735546962938, 84.14851756292107, 82.44896620400496, 80.73779344849737]), TankTsDataTransform(tank_metric='Volume', tank_type='Oil', uom='bbl', timestamps=[datetime.datetime(2018, 1, 11, 9, 12, 20), datetime.datetime(2018, 1, 11, 8, 12, 20), datetime.datetime(2018, 1, 11, 7, 12, 20), datetime.datetime(2018, 1, 11, 6, 12, 20), datetime.datetime(2018, 1, 11, 5, 12, 20), datetime.datetime(2018, 1, 11, 4, 12, 20), datetime.datetime(2018, 1, 11, 3, 12, 20), datetime.datetime(2018, 1, 11, 2, 12, 20), datetime.datetime(2018, 1, 11, 1, 12, 20), datetime.datetime(2018, 1, 11, 0, 12, 20), datetime.datetime(2018, 1, 10, 23, 12, 20), datetime.datetime(2018, 1, 10, 22, 12, 20), datetime.datetime(2018, 1, 10, 21, 12, 20), datetime.datetime(2018, 1, 10, 20, 12, 20), datetime.datetime(2018, 1, 10, 19, 12, 20), datetime.datetime(2018, 1, 10, 18, 12, 20), datetime.datetime(2018, 1, 10, 17, 12, 20), datetime.datetime(2018, 1, 10, 16, 12, 20), datetime.datetime(2018, 1, 10, 15, 12, 20), datetime.datetime(2018, 1, 10, 14, 12, 20), datetime.datetime(2018, 1, 10, 13, 12, 20), datetime.datetime(2018, 1, 10, 12, 12, 20), datetime.datetime(2018, 1, 10, 11, 12, 20), datetime.datetime(2018, 1, 10, 10, 12, 20), datetime.datetime(2018, 1, 10, 9, 12, 20), datetime.datetime(2018, 1, 10, 8, 12, 20), datetime.datetime(2018, 1, 10, 7, 12, 20), datetime.datetime(2018, 1, 10, 6, 12, 20), datetime.datetime(2018, 1, 10, 5, 12, 20), datetime.datetime(2018, 1, 10, 4, 12, 20), datetime.datetime(2018, 1, 10, 3, 12, 20), datetime.datetime(2018, 1, 10, 2, 12, 20), datetime.datetime(2018, 1, 10, 1, 12, 20), datetime.datetime(2018, 1, 10, 0, 12, 20), datetime.datetime(2018, 1, 9, 23, 12, 20), datetime.datetime(2018, 1, 9, 22, 12, 20), datetime.datetime(2018, 1, 9, 21, 12, 20), datetime.datetime(2018, 1, 9, 20, 12, 20), datetime.datetime(2018, 1, 9, 19, 12, 20), datetime.datetime(2018, 1, 9, 18, 12, 20), datetime.datetime(2018, 1, 9, 17, 12, 20), datetime.datetime(2018, 1, 9, 16, 12, 20), datetime.datetime(2018, 1, 9, 15, 12, 20), datetime.datetime(2018, 1, 9, 14, 12, 20), datetime.datetime(2018, 1, 9, 13, 12, 20), datetime.datetime(2018, 1, 9, 12, 12, 20), datetime.datetime(2018, 1, 9, 11, 12, 20), datetime.datetime(2018, 1, 9, 10, 12, 20)], values=[299.17306313001035, 299.0665912712279, 298.99972149813135, 299.00450383980194, 299.10541626271345, 299.320073049422, 299.6599060016698, 300.1308184679029, 300.7338121952029, 301.4655870056337, 302.31911329700114, 303.28417736802766, 304.34789956794094, 305.49522527047645, 306.7093886722945, 307.97234941581087, 309.2652020364425, 310.5685582342662, 311.8629019700926, 313.12891738595323, 314.3477895500028, 315.5014780258346, 316.5729632662107, 317.54646583120626, 318.4076384307676, 319.14373079168473, 319.7437273489781, 320.1984577616993, 320.5006802531457, 320.6451377754898, 320.6285869988224, 320.44980012460974, 320.10953952356516, 319.6105051979347, 318.9572550681967, 318.156098084176, 317.2149601605719, 316.14322293690014, 314.9515353618498, 313.65159810205313, 312.2559207752708, 310.77755200799027, 309.22978231743906, 307.62581981801156, 305.97843875211055, 304.2996008454022, 302.6000494864861, 300.8888767309785])]\n"
     ]
    }
   ],
   "source": [
    "from src.main import GetTanksTimeDataReq, get_tank_ts_data\n",
    "\n",
    "req = GetTanksTimeDataReq(source_key = [\"9884001\", \"98840FAC\"])\n",
    "res = await get_tank_ts_data(req)\n",
    "print(res)"
   ]
  }
 ],
 "metadata": {
  "kernelspec": {
   "display_name": "tank-project-9-HCZibD-py3.12",
   "language": "python",
   "name": "python3"
  },
  "language_info": {
   "codemirror_mode": {
    "name": "ipython",
    "version": 3
   },
   "file_extension": ".py",
   "mimetype": "text/x-python",
   "name": "python",
   "nbconvert_exporter": "python",
   "pygments_lexer": "ipython3",
   "version": "3.12.2"
  }
 },
 "nbformat": 4,
 "nbformat_minor": 2
}
