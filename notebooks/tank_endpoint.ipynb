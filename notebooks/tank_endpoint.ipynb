{
 "cells": [
  {
   "cell_type": "code",
   "execution_count": 2,
   "metadata": {},
   "outputs": [
    {
     "data": {
      "text/plain": [
       "TankDataTransformResponse(tanks=[TankDataTransform(primo_id='480001', tank_type='Oil', tank_number=1, Level=81.72720798516754, Volume=227.02002219918253, InchesToESD=66.51822085848261, TimeUntilESD=None, Capacity=413.3441179158123, percent_full=55), TankDataTransform(primo_id='480001', tank_type='Oil', tank_number=2, Level=98.8255878510396, Volume=274.51552183040457, InchesToESD=None, TimeUntilESD=None, Capacity=406.0993284457526, percent_full=68), TankDataTransform(primo_id='480001', tank_type='Water', tank_number=1, Level=21.016423102141978, Volume=58.37895306617581, InchesToESD=173.40877049684963, TimeUntilESD=None, Capacity=410.47651296829395, percent_full=14), TankDataTransform(primo_id='480001', tank_type='Water', tank_number=2, Level=83.73979690380081, Volume=232.6105469736111, InchesToESD=None, TimeUntilESD=None, Capacity=409.7182218610325, percent_full=57)])"
      ]
     },
     "execution_count": 2,
     "metadata": {},
     "output_type": "execute_result"
    }
   ],
   "source": [
    "from src.main import GetTanksReq, get_tank_data\n",
    "\n",
    "req = GetTanksReq(primo_ids={\"480001\"})\n",
    "res = await get_tank_data(req)\n",
    "res"
   ]
  },
  {
   "cell_type": "code",
   "execution_count": 3,
   "metadata": {},
   "outputs": [
    {
     "name": "stdout",
     "output_type": "stream",
     "text": [
      "tanks=[TankDataTransform(primo_id='480001', tank_type='Water', tank_number=1, Level=21.016423102141978, Volume=58.37895306617581, InchesToESD=173.40877049684963, TimeUntilESD=None, Capacity=410.47651296829395, percent_full=14), TankDataTransform(primo_id='480001', tank_type='Water', tank_number=2, Level=83.73979690380081, Volume=232.6105469736111, InchesToESD=None, TimeUntilESD=None, Capacity=409.7182218610325, percent_full=57)]\n"
     ]
    }
   ],
   "source": [
    "from src.main import GetTanksReq, TankType, get_tank_data\n",
    "\n",
    "req = GetTanksReq(primo_ids={\"480001\"}, tank_types={TankType.Water})\n",
    "res = await get_tank_data(req)\n",
    "print(res)\n"
   ]
  }
 ],
 "metadata": {
  "kernelspec": {
   "display_name": "tank-project-9-HCZibD-py3.12",
   "language": "python",
   "name": "python3"
  },
  "language_info": {
   "codemirror_mode": {
    "name": "ipython",
    "version": 3
   },
   "file_extension": ".py",
   "mimetype": "text/x-python",
   "name": "python",
   "nbconvert_exporter": "python",
   "pygments_lexer": "ipython3",
   "version": "3.12.2"
  }
 },
 "nbformat": 4,
 "nbformat_minor": 2
}
