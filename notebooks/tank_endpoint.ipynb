{
 "cells": [
  {
   "cell_type": "code",
   "execution_count": 1,
   "metadata": {},
   "outputs": [
    {
     "data": {
      "text/plain": [
       "TankDataTransformResponse(tanks=[TankDataTransform(identifier=None, property_id='98762', source_key='9876201', tank_type='Oil', tank_number=1, level=78.98822185308117, volume=248, inches_to_esd=None, time_until_esd=None, capacity=524.0, percent_full=47), TankDataTransform(identifier='dcc91717-1e08-4c95-a2e6-47b6de4ff34b', property_id='98762', source_key='9876202', tank_type='Oil', tank_number=2, level=82.92656189793587, volume=288, inches_to_esd=221.1786619689486, time_until_esd=None, capacity=709.0, percent_full=41), TankDataTransform(identifier=None, property_id='98762', source_key='9876203', tank_type='Oil', tank_number=3, level=83.27131901568907, volume=237, inches_to_esd=None, time_until_esd=None, capacity=794.0, percent_full=30), TankDataTransform(identifier=None, property_id='98762', source_key='9876204', tank_type='Oil', tank_number=4, level=77.15616736518761, volume=302, inches_to_esd=None, time_until_esd=None, capacity=401.0, percent_full=75), TankDataTransform(identifier=None, property_id='98762', source_key='98762W1', tank_type='Water', tank_number=1, level=76.89250849519738, volume=313, inches_to_esd=None, time_until_esd=None, capacity=666.0, percent_full=47), TankDataTransform(identifier='f762c6e6-5caa-4007-91e9-3cdff8a13520', property_id='98762', source_key='98762W2', tank_type='Water', tank_number=2, level=79.83541294977876, volume=278, inches_to_esd=111.80319111213547, time_until_esd=None, capacity=505.0, percent_full=55), TankDataTransform(identifier=None, property_id='98762', source_key='98762W3', tank_type='Water', tank_number=3, level=78.58474694271584, volume=259, inches_to_esd=None, time_until_esd=None, capacity=713.0, percent_full=36)])"
      ]
     },
     "execution_count": 1,
     "metadata": {},
     "output_type": "execute_result"
    }
   ],
   "source": [
    "from src.main import GetTanksReq, get_tank_data\n",
    "\n",
    "req = GetTanksReq(property_ids={\"98762\"})\n",
    "res = await get_tank_data(req)\n",
    "res"
   ]
  },
  {
   "cell_type": "code",
   "execution_count": null,
   "metadata": {},
   "outputs": [],
   "source": [
    "from src.main import GetTanksReq, get_tank_data\n",
    "from src.tanks_endpoint import TankType\n",
    "\n",
    "req = GetTanksReq(property_ids={\"480001\"}, tank_types={TankType.Water})\n",
    "res = await get_tank_data(req)\n",
    "print(res)\n"
   ]
  },
  {
   "cell_type": "code",
   "execution_count": null,
   "metadata": {},
   "outputs": [],
   "source": [
    "from src.main import GetTanksTimeDataReq, get_tank_ts_data\n",
    "\n",
    "req = GetTanksTimeDataReq(scada_id = \"6941902\")\n",
    "res = await get_tank_ts_data(req)\n",
    "print(res)"
   ]
  }
 ],
 "metadata": {
  "kernelspec": {
   "display_name": "tank-project-9-HCZibD-py3.12",
   "language": "python",
   "name": "python3"
  },
  "language_info": {
   "codemirror_mode": {
    "name": "ipython",
    "version": 3
   },
   "file_extension": ".py",
   "mimetype": "text/x-python",
   "name": "python",
   "nbconvert_exporter": "python",
   "pygments_lexer": "ipython3",
   "version": "3.12.2"
  }
 },
 "nbformat": 4,
 "nbformat_minor": 2
}
