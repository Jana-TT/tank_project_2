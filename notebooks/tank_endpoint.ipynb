{
 "cells": [
  {
   "cell_type": "code",
   "execution_count": 1,
   "metadata": {},
   "outputs": [
    {
     "data": {
      "text/plain": [
       "TankDataTransformResponse(tanks=[TankDataTransform(primo_id='69419', tank_type='Oil', tank_number=1, Level=62.15902076750906, Volume=172.66394659022717, InchesToESD=None, TimeUntilESD=None, Capacity=757.1856250493611, percent_full=23), TankDataTransform(primo_id='69419', tank_type='Oil', tank_number=2, Level=88.5245761267483, Volume=245.90160037175073, InchesToESD=25.078137133421528, TimeUntilESD=None, Capacity=732.2732450595474, percent_full=34), TankDataTransform(primo_id='69419', tank_type='Oil', tank_number=3, Level=44.37074197804353, Volume=123.25206105998109, InchesToESD=None, TimeUntilESD=None, Capacity=821.7240502962379, percent_full=15), TankDataTransform(primo_id='69419', tank_type='Oil', tank_number=4, Level=139.5930314490188, Volume=387.7584207227396, InchesToESD=None, TimeUntilESD=None, Capacity=463.7411309960033, percent_full=84), TankDataTransform(primo_id='69419', tank_type='Water', tank_number=1, Level=49.26034096839767, Volume=136.83428047871806, InchesToESD=None, TimeUntilESD=None, Capacity=478.5115007366478, percent_full=29), TankDataTransform(primo_id='69419', tank_type='Water', tank_number=2, Level=51.414077345495755, Volume=142.81688152669133, InchesToESD=284.3424966571911, TimeUntilESD=None, Capacity=870.1044066421966, percent_full=16), TankDataTransform(primo_id='69419', tank_type='Water', tank_number=3, Level=136.96039146412448, Volume=380.44553187522587, InchesToESD=None, TimeUntilESD=None, Capacity=534.3684555383255, percent_full=71)])"
      ]
     },
     "execution_count": 1,
     "metadata": {},
     "output_type": "execute_result"
    }
   ],
   "source": [
    "from src.main import GetTanksReq, get_tank_data\n",
    "\n",
    "req = GetTanksReq(primo_ids={\"69419\"})\n",
    "res = await get_tank_data(req)\n",
    "res"
   ]
  }
 ],
 "metadata": {
  "kernelspec": {
   "display_name": "tank-project-9-HCZibD-py3.12",
   "language": "python",
   "name": "python3"
  },
  "language_info": {
   "codemirror_mode": {
    "name": "ipython",
    "version": 3
   },
   "file_extension": ".py",
   "mimetype": "text/x-python",
   "name": "python",
   "nbconvert_exporter": "python",
   "pygments_lexer": "ipython3",
   "version": "3.12.2"
  }
 },
 "nbformat": 4,
 "nbformat_minor": 2
}
