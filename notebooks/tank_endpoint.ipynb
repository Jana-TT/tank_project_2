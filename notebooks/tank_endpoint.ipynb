{
 "cells": [
  {
   "cell_type": "code",
   "execution_count": 1,
   "metadata": {},
   "outputs": [
    {
     "data": {
      "text/plain": [
       "TankDataTransformResponse(tanks=[TankDataTransform(property_id='11009', source_key='1100901', tank_type='Oil', tank_number=1, level=83.2911669807181, volume=352, inches_to_esd=None, time_until_esd=None, capacity=480.0, percent_full=73), TankDataTransform(property_id='11009', source_key='1100902', tank_type='Oil', tank_number=2, level=82.69142436114686, volume=350, inches_to_esd=None, time_until_esd=None, capacity=531.0, percent_full=66), TankDataTransform(property_id='11009', source_key='1100903', tank_type='Oil', tank_number=3, level=79.2026077119479, volume=341, inches_to_esd=None, time_until_esd=None, capacity=456.0, percent_full=75), TankDataTransform(property_id='11009', source_key='1100904', tank_type='Oil', tank_number=4, level=84.43858508955887, volume=349, inches_to_esd=270.01592487260467, time_until_esd=None, capacity=535.0, percent_full=65), TankDataTransform(property_id='11009', source_key='1100905', tank_type='Oil', tank_number=5, level=83.17208591994265, volume=352, inches_to_esd=None, time_until_esd=None, capacity=595.0, percent_full=59), TankDataTransform(property_id='11009', source_key='1100906', tank_type='Oil', tank_number=6, level=82.92113205574246, volume=352, inches_to_esd=None, time_until_esd=None, capacity=594.0, percent_full=59), TankDataTransform(property_id='11009', source_key='11009W1', tank_type='Water', tank_number=1, level=84.15654451010927, volume=345, inches_to_esd=265.53866492762495, time_until_esd=None, capacity=832.0, percent_full=41), TankDataTransform(property_id='11009', source_key='11009W2', tank_type='Water', tank_number=2, level=84.37050615208568, volume=347, inches_to_esd=None, time_until_esd=None, capacity=654.0, percent_full=53), TankDataTransform(property_id='11009', source_key='11009W3', tank_type='Water', tank_number=3, level=82.71004492454873, volume=347, inches_to_esd=None, time_until_esd=None, capacity=683.0, percent_full=51)])"
      ]
     },
     "execution_count": 1,
     "metadata": {},
     "output_type": "execute_result"
    }
   ],
   "source": [
    "from src.main import GetTanksReq, get_tank_data\n",
    "\n",
    "req = GetTanksReq(property_ids={\"11009\"})\n",
    "res = await get_tank_data(req)\n",
    "res"
   ]
  },
  {
   "cell_type": "code",
   "execution_count": null,
   "metadata": {},
   "outputs": [],
   "source": [
    "from src.main import GetTanksReq, get_tank_data\n",
    "from src.tanks_endpoint import TankType\n",
    "\n",
    "req = GetTanksReq(property_ids={\"480001\"}, tank_types={TankType.Water})\n",
    "res = await get_tank_data(req)\n",
    "print(res)\n"
   ]
  },
  {
   "cell_type": "code",
   "execution_count": 1,
   "metadata": {},
   "outputs": [
    {
     "name": "stdout",
     "output_type": "stream",
     "text": [
      "timeseries=[TankTsDataTransform(tank_metric='InchesUntilAlarm', tank_type='Oil', uom='in', timestamps=[datetime.datetime(2024, 8, 22, 22, 35, 52), datetime.datetime(2024, 8, 23, 2, 29, 39), datetime.datetime(2024, 8, 23, 9, 34, 42), datetime.datetime(2024, 8, 23, 11, 25, 32), datetime.datetime(2024, 8, 23, 16, 10, 8), datetime.datetime(2024, 8, 23, 23, 37, 14), datetime.datetime(2024, 8, 24, 5, 39, 51), datetime.datetime(2024, 8, 24, 10, 14, 32), datetime.datetime(2024, 8, 24, 12, 0, 56), datetime.datetime(2024, 8, 24, 13, 11, 8), datetime.datetime(2024, 8, 24, 15, 11, 52), datetime.datetime(2024, 8, 24, 22, 56, 28), datetime.datetime(2024, 8, 24, 23, 43, 56), datetime.datetime(2024, 8, 25, 5, 11, 38), datetime.datetime(2024, 8, 25, 12, 46, 35), datetime.datetime(2024, 8, 25, 15, 6, 15), datetime.datetime(2024, 8, 26, 6, 9, 52), datetime.datetime(2024, 8, 26, 7, 0, 46), datetime.datetime(2024, 8, 26, 7, 37, 37), datetime.datetime(2024, 8, 26, 8, 0, 5), datetime.datetime(2024, 8, 26, 9, 27, 30), datetime.datetime(2024, 8, 26, 10, 40, 9), datetime.datetime(2024, 8, 26, 14, 24, 52), datetime.datetime(2024, 8, 26, 17, 47, 7), datetime.datetime(2024, 8, 27, 2, 49), datetime.datetime(2024, 8, 27, 4, 50, 2), datetime.datetime(2024, 8, 27, 8, 28, 50), datetime.datetime(2024, 8, 27, 15, 26, 23), datetime.datetime(2024, 8, 27, 17, 56, 1), datetime.datetime(2024, 8, 28, 2, 5, 28), datetime.datetime(2024, 8, 28, 4, 17, 5), datetime.datetime(2024, 8, 28, 4, 51, 56), datetime.datetime(2024, 8, 28, 8, 22, 11), datetime.datetime(2024, 8, 28, 15, 30, 57), datetime.datetime(2024, 8, 28, 18, 7, 49), datetime.datetime(2024, 8, 28, 20, 38, 29), datetime.datetime(2024, 8, 28, 22, 22, 40), datetime.datetime(2024, 8, 29, 9, 36, 50), datetime.datetime(2024, 8, 29, 13, 40, 34), datetime.datetime(2024, 8, 29, 13, 59, 9)], values=[226.47731300047866, 229.82602680931433, 242.1214087570683, 249.51617204227392, 267.3503287784237, 264.4403391810357, 235.89815899449195, 211.41133831458507, 202.09819268182295, 196.44615050919646, 188.41249236965723, 189.71364056806607, 192.66645386542, 216.75951107363653, 233.09930008729648, 236.44204276002316, 237.6823166728701, 236.59638768401857, 235.81748904351713, 235.3518640617016, 233.65324878433023, 232.4388751285352, 229.95891984890397, 228.88350066433543, 235.99651384671404, 237.9241236578097, 239.53774332042704, 234.06809628045755, 230.27848131437517, 207.72788521336463, 199.8798051027528, 198.0483390825573, 191.07592389069015, 203.92020590020365, 214.56659558655386, 224.99789170368356, 231.95252584498553, 277.521112528592, 276.40818369647843, 275.70706592467866]), TankTsDataTransform(tank_metric='InchesUntilAlarm', tank_type='Water', uom='in', timestamps=[datetime.datetime(2024, 8, 23, 1, 29, 49), datetime.datetime(2024, 8, 23, 1, 36, 44), datetime.datetime(2024, 8, 23, 14, 1, 1), datetime.datetime(2024, 8, 23, 16, 1, 5), datetime.datetime(2024, 8, 23, 23, 49, 40), datetime.datetime(2024, 8, 24, 0, 25, 11), datetime.datetime(2024, 8, 24, 0, 46, 44), datetime.datetime(2024, 8, 24, 1, 37, 41), datetime.datetime(2024, 8, 24, 3, 7, 29), datetime.datetime(2024, 8, 24, 3, 39, 51), datetime.datetime(2024, 8, 24, 5, 41, 53), datetime.datetime(2024, 8, 24, 12, 20, 44), datetime.datetime(2024, 8, 24, 17, 22, 24), datetime.datetime(2024, 8, 25, 1, 0, 29), datetime.datetime(2024, 8, 25, 4, 29, 24), datetime.datetime(2024, 8, 25, 9, 18, 56), datetime.datetime(2024, 8, 25, 15, 11, 24), datetime.datetime(2024, 8, 25, 18, 42, 4), datetime.datetime(2024, 8, 26, 1, 23), datetime.datetime(2024, 8, 26, 1, 49, 7), datetime.datetime(2024, 8, 26, 4, 52, 16), datetime.datetime(2024, 8, 26, 13, 27, 45), datetime.datetime(2024, 8, 26, 13, 34, 6), datetime.datetime(2024, 8, 26, 21, 53, 50), datetime.datetime(2024, 8, 26, 22, 21, 36), datetime.datetime(2024, 8, 27, 1, 5, 40), datetime.datetime(2024, 8, 27, 2, 41, 50), datetime.datetime(2024, 8, 27, 3, 21, 58), datetime.datetime(2024, 8, 27, 4, 6, 52), datetime.datetime(2024, 8, 27, 6, 2, 17), datetime.datetime(2024, 8, 27, 14, 56, 56), datetime.datetime(2024, 8, 27, 22, 55, 10), datetime.datetime(2024, 8, 28, 6, 37, 33), datetime.datetime(2024, 8, 28, 7, 24, 40), datetime.datetime(2024, 8, 28, 10, 33, 20), datetime.datetime(2024, 8, 28, 16, 55, 29), datetime.datetime(2024, 8, 28, 22, 23, 38), datetime.datetime(2024, 8, 28, 23, 38, 29), datetime.datetime(2024, 8, 29, 3, 39, 14), datetime.datetime(2024, 8, 29, 15, 10, 13)], values=[229.38661260389043, 229.44768500866596, 260.1995274972053, 266.93641307376276, 263.7125433085474, 261.4857138971994, 260.0337182872799, 256.3408185951879, 249.1380237893433, 246.39217246068068, 235.71960914946618, 200.44997635632058, 183.17221156982802, 198.06036652791542, 213.87397348624856, 228.1795918529023, 236.56410497130543, 241.00770256466257, 242.60028739409458, 242.313068846692, 239.29491920275535, 230.45156961642076, 230.39457494900032, 230.74120950686785, 231.15872364946148, 234.07625364727775, 235.86828640333596, 236.56986783202063, 237.2976555034517, 238.77252446788384, 234.7536290637006, 219.14126028521403, 193.54895757836414, 192.16456322624816, 191.24023557350992, 209.53010655549616, 232.0173045237589, 237.1491016295152, 255.79503627526594, 272.3303229032074]), TankTsDataTransform(tank_metric='Level', tank_type='Oil', uom='in', timestamps=[datetime.datetime(2024, 8, 22, 23, 7, 45), datetime.datetime(2024, 8, 22, 23, 59, 45), datetime.datetime(2024, 8, 23, 5, 51, 26), datetime.datetime(2024, 8, 23, 6, 8, 47), datetime.datetime(2024, 8, 23, 7, 52, 7), datetime.datetime(2024, 8, 23, 12, 43, 7), datetime.datetime(2024, 8, 23, 14, 45, 19), datetime.datetime(2024, 8, 24, 1, 12, 1), datetime.datetime(2024, 8, 24, 4, 38, 55), datetime.datetime(2024, 8, 24, 10, 59, 57), datetime.datetime(2024, 8, 24, 19, 5, 8), datetime.datetime(2024, 8, 24, 22, 18, 52), datetime.datetime(2024, 8, 25, 13, 49, 18), datetime.datetime(2024, 8, 25, 14, 49, 33), datetime.datetime(2024, 8, 25, 19, 33, 51), datetime.datetime(2024, 8, 25, 23, 45, 56), datetime.datetime(2024, 8, 26, 5, 9, 56), datetime.datetime(2024, 8, 26, 6, 15, 18), datetime.datetime(2024, 8, 26, 12, 16, 52), datetime.datetime(2024, 8, 26, 13, 58, 17), datetime.datetime(2024, 8, 26, 14, 48, 14), datetime.datetime(2024, 8, 26, 17, 13, 21), datetime.datetime(2024, 8, 26, 23, 43, 1), datetime.datetime(2024, 8, 27, 13, 44, 16), datetime.datetime(2024, 8, 27, 21, 13, 15), datetime.datetime(2024, 8, 27, 21, 15, 36), datetime.datetime(2024, 8, 27, 22, 53, 50), datetime.datetime(2024, 8, 28, 0, 11, 22), datetime.datetime(2024, 8, 28, 3, 14, 7), datetime.datetime(2024, 8, 28, 6, 52, 33), datetime.datetime(2024, 8, 28, 12, 10, 32), datetime.datetime(2024, 8, 28, 15, 7, 36), datetime.datetime(2024, 8, 28, 16, 13, 10), datetime.datetime(2024, 8, 28, 18, 49, 48), datetime.datetime(2024, 8, 28, 19, 18, 1), datetime.datetime(2024, 8, 29, 6, 24, 36), datetime.datetime(2024, 8, 29, 10, 3, 29), datetime.datetime(2024, 8, 29, 10, 26, 58), datetime.datetime(2024, 8, 29, 16, 9, 38), datetime.datetime(2024, 8, 29, 17, 36, 40)], values=[78.69025916191711, 78.8031223910418, 79.24275395995042, 79.29386817621425, 79.72642347721204, 81.78994579793415, 82.67980962674348, 82.15669846759435, 80.25893610986206, 76.4703623255204, 73.64931014559248, 74.26711854438545, 79.51402176229134, 79.6755572747642, 80.32125508145796, 80.4825878026786, 79.99885787227917, 79.84569048903177, 79.12992869582021, 79.02056714281349, 78.97359583765004, 78.879902571322, 79.2835729446105, 79.70445256731621, 78.33081553265035, 78.31982929504825, 77.79429989090717, 77.30145524930774, 76.03814327216708, 74.8716920865922, 74.94469453694656, 75.92272658481826, 76.39208455971485, 77.60418039414219, 77.82428119290343, 83.27185418103709, 84.38172563771856, 84.4270395458624, 83.33359766098472, 82.65234925810687]), TankTsDataTransform(tank_metric='Volume', tank_type='Oil', uom='bbl', timestamps=[datetime.datetime(2024, 8, 22, 19, 19, 30), datetime.datetime(2024, 8, 22, 22, 34, 32), datetime.datetime(2024, 8, 23, 0, 56, 2), datetime.datetime(2024, 8, 23, 8, 44, 46), datetime.datetime(2024, 8, 23, 14, 10, 36), datetime.datetime(2024, 8, 23, 14, 56, 34), datetime.datetime(2024, 8, 24, 0, 8, 58), datetime.datetime(2024, 8, 24, 3, 5, 40), datetime.datetime(2024, 8, 24, 4, 47, 55), datetime.datetime(2024, 8, 24, 12, 55, 49), datetime.datetime(2024, 8, 24, 13, 15, 17), datetime.datetime(2024, 8, 24, 20, 40, 41), datetime.datetime(2024, 8, 24, 20, 47, 24), datetime.datetime(2024, 8, 25, 7, 53, 59), datetime.datetime(2024, 8, 25, 10, 32, 15), datetime.datetime(2024, 8, 25, 10, 44, 53), datetime.datetime(2024, 8, 25, 11, 45, 20), datetime.datetime(2024, 8, 25, 14, 0, 34), datetime.datetime(2024, 8, 25, 14, 47, 26), datetime.datetime(2024, 8, 25, 15, 55, 7), datetime.datetime(2024, 8, 25, 18, 6, 21), datetime.datetime(2024, 8, 25, 19, 54, 42), datetime.datetime(2024, 8, 26, 2, 7, 27), datetime.datetime(2024, 8, 26, 2, 9, 30), datetime.datetime(2024, 8, 26, 6, 40, 45), datetime.datetime(2024, 8, 26, 10, 15, 18), datetime.datetime(2024, 8, 26, 13, 16, 27), datetime.datetime(2024, 8, 26, 17, 20, 50), datetime.datetime(2024, 8, 26, 19, 58, 45), datetime.datetime(2024, 8, 26, 20, 46, 21), datetime.datetime(2024, 8, 27, 0, 20, 15), datetime.datetime(2024, 8, 27, 16, 23, 32), datetime.datetime(2024, 8, 27, 18, 38, 56), datetime.datetime(2024, 8, 27, 21, 19, 51), datetime.datetime(2024, 8, 28, 2, 30, 37), datetime.datetime(2024, 8, 28, 6, 16, 1), datetime.datetime(2024, 8, 28, 8, 25, 26), datetime.datetime(2024, 8, 28, 8, 41, 38), datetime.datetime(2024, 8, 28, 14, 45, 9), datetime.datetime(2024, 8, 29, 11, 23, 15)], values=[289.4340114110644, 296.2349055740746, 298.9809847014405, 309.7319441690439, 332.62037085997065, 335.55169117179474, 334.4426599158944, 320.42468005569066, 311.09053557177424, 265.72629746823316, 264.1379213966472, 250.96728430188833, 251.17755332593418, 295.1008560010192, 299.97371413619265, 300.2803955143967, 301.7571786982483, 305.1564654553888, 306.3468189772493, 308.0314493346176, 310.97546687988256, 312.81799057977383, 312.7972425900129, 312.768999123115, 307.43651667788174, 302.99728786013316, 300.58785268878603, 298.84605221921043, 299.3822817067906, 299.8697542580345, 303.41045337701195, 302.82340687911653, 299.0968588148222, 293.3661771148612, 274.7565572443761, 262.2200299405066, 258.7428514525946, 258.5627456850323, 269.4205773311586, 351.82028041651444])]\n"
     ]
    }
   ],
   "source": [
    "from src.main import GetTanksTimeDataReq, get_tank_ts_data\n",
    "\n",
    "req = GetTanksTimeDataReq(source_key = [\"9884001\", \"98840FAC\"])\n",
    "res = await get_tank_ts_data(req)\n",
    "print(res)"
   ]
  }
 ],
 "metadata": {
  "kernelspec": {
   "display_name": "tank-project-9-HCZibD-py3.12",
   "language": "python",
   "name": "python3"
  },
  "language_info": {
   "codemirror_mode": {
    "name": "ipython",
    "version": 3
   },
   "file_extension": ".py",
   "mimetype": "text/x-python",
   "name": "python",
   "nbconvert_exporter": "python",
   "pygments_lexer": "ipython3",
   "version": "3.12.2"
  }
 },
 "nbformat": 4,
 "nbformat_minor": 2
}
