{
 "cells": [
  {
   "cell_type": "code",
   "execution_count": 1,
   "metadata": {},
   "outputs": [
    {
     "data": {
      "text/plain": [
       "TankDataTransformResponse(tanks=[TankDataTransform(property_id='480001', scada_id='48000101', tank_type='Oil', tank_number=1, level=81.72720798516754, volume=227, inches_to_esd=66.51822085848261, time_until_esd=None, capacity=413.0, percent_full=55), TankDataTransform(property_id='480001', scada_id='48000102', tank_type='Oil', tank_number=2, level=98.8255878510396, volume=275, inches_to_esd=None, time_until_esd=None, capacity=406.0, percent_full=68), TankDataTransform(property_id='480001', scada_id='480001W1', tank_type='Water', tank_number=1, level=21.016423102141978, volume=58, inches_to_esd=173.40877049684963, time_until_esd=None, capacity=410.0, percent_full=14), TankDataTransform(property_id='480001', scada_id='480001W2', tank_type='Water', tank_number=2, level=83.73979690380081, volume=233, inches_to_esd=None, time_until_esd=None, capacity=410.0, percent_full=57)])"
      ]
     },
     "execution_count": 1,
     "metadata": {},
     "output_type": "execute_result"
    }
   ],
   "source": [
    "from src.main import GetTanksReq, get_tank_data\n",
    "\n",
    "req = GetTanksReq(property_ids={\"480001\"})\n",
    "res = await get_tank_data(req)\n",
    "res"
   ]
  },
  {
   "cell_type": "code",
   "execution_count": 2,
   "metadata": {},
   "outputs": [
    {
     "name": "stdout",
     "output_type": "stream",
     "text": [
      "tanks=[TankDataTransform(property_id='480001', scada_id='480001W1', tank_type='Water', tank_number=1, level=21.016423102141978, volume=58, inches_to_esd=173.40877049684963, time_until_esd=None, capacity=410.0, percent_full=14), TankDataTransform(property_id='480001', scada_id='480001W2', tank_type='Water', tank_number=2, level=83.73979690380081, volume=233, inches_to_esd=None, time_until_esd=None, capacity=410.0, percent_full=57)]\n"
     ]
    }
   ],
   "source": [
    "from src.main import GetTanksReq, get_tank_data\n",
    "from src.tanks_endpoint import TankType\n",
    "\n",
    "req = GetTanksReq(property_ids={\"480001\"}, tank_types={TankType.Water})\n",
    "res = await get_tank_data(req)\n",
    "print(res)\n"
   ]
  },
  {
   "cell_type": "code",
   "execution_count": 3,
   "metadata": {},
   "outputs": [
    {
     "name": "stdout",
     "output_type": "stream",
     "text": [
      "timeseries=[TankTsDataTransform(tank_metric='Level', uom='in', timestamps=[datetime.datetime(2024, 3, 6, 4, 11, 36, 465651), datetime.datetime(2024, 3, 6, 3, 11, 36, 465651), datetime.datetime(2024, 3, 6, 2, 11, 36, 465651), datetime.datetime(2024, 3, 6, 1, 11, 36, 465651), datetime.datetime(2024, 3, 6, 0, 11, 36, 465651), datetime.datetime(2024, 3, 5, 23, 11, 36, 465651), datetime.datetime(2024, 3, 5, 22, 11, 36, 465651), datetime.datetime(2024, 3, 5, 21, 11, 36, 465651), datetime.datetime(2024, 3, 5, 20, 11, 36, 465651), datetime.datetime(2024, 3, 5, 19, 11, 36, 465651), datetime.datetime(2024, 3, 5, 18, 11, 36, 465651), datetime.datetime(2024, 3, 5, 17, 11, 36, 465651), datetime.datetime(2024, 3, 5, 16, 11, 36, 465651), datetime.datetime(2024, 3, 5, 15, 11, 36, 465651), datetime.datetime(2024, 3, 5, 14, 11, 36, 465651), datetime.datetime(2024, 3, 5, 13, 11, 36, 465651), datetime.datetime(2024, 3, 5, 12, 11, 36, 465651), datetime.datetime(2024, 3, 5, 11, 11, 36, 465651), datetime.datetime(2024, 3, 5, 10, 11, 36, 465651), datetime.datetime(2024, 3, 5, 9, 11, 36, 465651), datetime.datetime(2024, 3, 5, 8, 11, 36, 465651), datetime.datetime(2024, 3, 5, 7, 11, 36, 465651), datetime.datetime(2024, 3, 5, 6, 11, 36, 465651), datetime.datetime(2024, 3, 5, 5, 11, 36, 465651), datetime.datetime(2024, 3, 5, 4, 11, 36, 465651), datetime.datetime(2024, 3, 5, 3, 11, 36, 465651), datetime.datetime(2024, 3, 5, 2, 11, 36, 465651), datetime.datetime(2024, 3, 5, 1, 11, 36, 465651), datetime.datetime(2024, 3, 5, 0, 11, 36, 465651), datetime.datetime(2024, 3, 4, 23, 11, 36, 465651), datetime.datetime(2024, 3, 4, 22, 11, 36, 465651), datetime.datetime(2024, 3, 4, 21, 11, 36, 465651), datetime.datetime(2024, 3, 4, 20, 11, 36, 465651), datetime.datetime(2024, 3, 4, 19, 11, 36, 465651), datetime.datetime(2024, 3, 4, 18, 11, 36, 465651), datetime.datetime(2024, 3, 4, 17, 11, 36, 465651), datetime.datetime(2024, 3, 4, 16, 11, 36, 465651), datetime.datetime(2024, 3, 4, 15, 11, 36, 465651), datetime.datetime(2024, 3, 4, 14, 11, 36, 465651), datetime.datetime(2024, 3, 4, 13, 11, 36, 465651), datetime.datetime(2024, 3, 4, 12, 11, 36, 465651), datetime.datetime(2024, 3, 4, 11, 11, 36, 465651), datetime.datetime(2024, 3, 4, 10, 11, 36, 465651), datetime.datetime(2024, 3, 4, 9, 11, 36, 465651), datetime.datetime(2024, 3, 4, 8, 11, 36, 465651), datetime.datetime(2024, 3, 4, 7, 11, 36, 465651), datetime.datetime(2024, 3, 4, 6, 11, 36, 465651), datetime.datetime(2024, 3, 4, 5, 11, 36, 465651)], values=[62.15902076750906, 62.140531473161985, 62.12215638351661, 62.10402234672834, 62.086266385807065, 62.0690319432284, 62.05246537125562, 62.036712667972246, 62.02191645902536, 62.00821322507951, 61.995730774981375, 61.98458596463509, 61.97488266158819, 61.966709955328334, 61.960140613290605, 61.955229782575536, 61.952013937377835, 61.95051007212574, 61.950715140331084, 61.95260573915002, 61.95613803965444, 61.961247962814035, 61.96785160118911, 61.97584588633397, 61.985109501911076, 61.99550404251584, 62.006875418212076, 62.01905550477817, 62.03186403966393, 62.045110763658045, 62.0585978082663, 62.07212232880044, 62.0854793831777, 62.098465056431024, 62.11087983092998, 62.12253220231229, 62.133242541126116, 62.14284720018298, 62.15120286762134, 62.158191165680954, 62.16372349518772, 62.16774612574941, 62.17024553166195, 62.17125397352642, 62.17085532557671, 62.16919114871788, 62.16646700927518, 62.16295904345377]), TankTsDataTransform(tank_metric='Volume', uom='bbl', timestamps=[datetime.datetime(2024, 3, 6, 4, 11, 36, 465651), datetime.datetime(2024, 3, 6, 3, 11, 36, 465651), datetime.datetime(2024, 3, 6, 2, 11, 36, 465651), datetime.datetime(2024, 3, 6, 1, 11, 36, 465651), datetime.datetime(2024, 3, 6, 0, 11, 36, 465651), datetime.datetime(2024, 3, 5, 23, 11, 36, 465651), datetime.datetime(2024, 3, 5, 22, 11, 36, 465651), datetime.datetime(2024, 3, 5, 21, 11, 36, 465651), datetime.datetime(2024, 3, 5, 20, 11, 36, 465651), datetime.datetime(2024, 3, 5, 19, 11, 36, 465651), datetime.datetime(2024, 3, 5, 18, 11, 36, 465651), datetime.datetime(2024, 3, 5, 17, 11, 36, 465651), datetime.datetime(2024, 3, 5, 16, 11, 36, 465651), datetime.datetime(2024, 3, 5, 15, 11, 36, 465651), datetime.datetime(2024, 3, 5, 14, 11, 36, 465651), datetime.datetime(2024, 3, 5, 13, 11, 36, 465651), datetime.datetime(2024, 3, 5, 12, 11, 36, 465651), datetime.datetime(2024, 3, 5, 11, 11, 36, 465651), datetime.datetime(2024, 3, 5, 10, 11, 36, 465651), datetime.datetime(2024, 3, 5, 9, 11, 36, 465651), datetime.datetime(2024, 3, 5, 8, 11, 36, 465651), datetime.datetime(2024, 3, 5, 7, 11, 36, 465651), datetime.datetime(2024, 3, 5, 6, 11, 36, 465651), datetime.datetime(2024, 3, 5, 5, 11, 36, 465651), datetime.datetime(2024, 3, 5, 4, 11, 36, 465651), datetime.datetime(2024, 3, 5, 3, 11, 36, 465651), datetime.datetime(2024, 3, 5, 2, 11, 36, 465651), datetime.datetime(2024, 3, 5, 1, 11, 36, 465651), datetime.datetime(2024, 3, 5, 0, 11, 36, 465651), datetime.datetime(2024, 3, 4, 23, 11, 36, 465651), datetime.datetime(2024, 3, 4, 22, 11, 36, 465651), datetime.datetime(2024, 3, 4, 21, 11, 36, 465651), datetime.datetime(2024, 3, 4, 20, 11, 36, 465651), datetime.datetime(2024, 3, 4, 19, 11, 36, 465651), datetime.datetime(2024, 3, 4, 18, 11, 36, 465651), datetime.datetime(2024, 3, 4, 17, 11, 36, 465651), datetime.datetime(2024, 3, 4, 16, 11, 36, 465651), datetime.datetime(2024, 3, 4, 15, 11, 36, 465651), datetime.datetime(2024, 3, 4, 14, 11, 36, 465651), datetime.datetime(2024, 3, 4, 13, 11, 36, 465651), datetime.datetime(2024, 3, 4, 12, 11, 36, 465651), datetime.datetime(2024, 3, 4, 11, 11, 36, 465651), datetime.datetime(2024, 3, 4, 10, 11, 36, 465651), datetime.datetime(2024, 3, 4, 9, 11, 36, 465651), datetime.datetime(2024, 3, 4, 8, 11, 36, 465651), datetime.datetime(2024, 3, 4, 7, 11, 36, 465651), datetime.datetime(2024, 3, 4, 6, 11, 36, 465651), datetime.datetime(2024, 3, 4, 5, 11, 36, 465651)], values=[172.66394659022717, 172.64545729588008, 172.62708220623472, 172.60894816944645, 172.59119220852517, 172.57395776594652, 172.55739119397373, 172.54163849069036, 172.52684228174346, 172.5131390477976, 172.50065659769948, 172.4895117873532, 172.4798084843063, 172.47163577804645, 172.4650664360087, 172.46015560529364, 172.45693976009593, 172.45543589484384, 172.4556409630492, 172.45753156186814, 172.46106386237255, 172.46617378553213, 172.47277742390722, 172.48077170905208, 172.4900353246292, 172.50042986523394, 172.51180124093017, 172.52398132749627, 172.53678986238205, 172.55003658637614, 172.5635236309844, 172.57704815151854, 172.5904052058958, 172.60339087914915, 172.6158056536481, 172.6274580250304, 172.63816836384422, 172.64777302290108, 172.65612869033944, 172.66311698839905, 172.66864931790582, 172.67267194846752, 172.67517135438007, 172.67617979624453, 172.67578114829482, 172.67411697143598, 172.67139283199327, 172.66788486617187])]\n"
     ]
    }
   ],
   "source": [
    "from src.main import GetTanksTimeDataReq, get_tank_ts_data\n",
    "\n",
    "req = GetTanksTimeDataReq(scada_id = \"6941901\")\n",
    "res = await get_tank_ts_data(req)\n",
    "print(res)"
   ]
  }
 ],
 "metadata": {
  "kernelspec": {
   "display_name": "tank-project-9-HCZibD-py3.12",
   "language": "python",
   "name": "python3"
  },
  "language_info": {
   "codemirror_mode": {
    "name": "ipython",
    "version": 3
   },
   "file_extension": ".py",
   "mimetype": "text/x-python",
   "name": "python",
   "nbconvert_exporter": "python",
   "pygments_lexer": "ipython3",
   "version": "3.12.2"
  }
 },
 "nbformat": 4,
 "nbformat_minor": 2
}
