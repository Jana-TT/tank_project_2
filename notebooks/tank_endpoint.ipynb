{
 "cells": [
  {
   "cell_type": "code",
   "execution_count": 1,
   "metadata": {},
   "outputs": [
    {
     "data": {
      "text/plain": [
       "TankDataTransformResponse(tanks=[TankDataTransform(primo_id='480001', tank_type='Oil', tank_number=1, Level=81.72720798516754, Volume=227, InchesToESD=66.51822085848261, TimeUntilESD=None, Capacity=413.0, percent_full=55), TankDataTransform(primo_id='480001', tank_type='Oil', tank_number=2, Level=98.8255878510396, Volume=275, InchesToESD=None, TimeUntilESD=None, Capacity=406.0, percent_full=68), TankDataTransform(primo_id='480001', tank_type='Water', tank_number=1, Level=21.016423102141978, Volume=58, InchesToESD=173.40877049684963, TimeUntilESD=None, Capacity=410.0, percent_full=14), TankDataTransform(primo_id='480001', tank_type='Water', tank_number=2, Level=83.73979690380081, Volume=233, InchesToESD=None, TimeUntilESD=None, Capacity=410.0, percent_full=57)])"
      ]
     },
     "execution_count": 1,
     "metadata": {},
     "output_type": "execute_result"
    }
   ],
   "source": [
    "from src.main import GetTanksReq, get_tank_data\n",
    "\n",
    "req = GetTanksReq(primo_ids={\"480001\"})\n",
    "res = await get_tank_data(req)\n",
    "res"
   ]
  },
  {
   "cell_type": "code",
   "execution_count": 2,
   "metadata": {},
   "outputs": [
    {
     "name": "stdout",
     "output_type": "stream",
     "text": [
      "tanks=[TankDataTransform(primo_id='480001', tank_type='Water', tank_number=1, Level=21.016423102141978, Volume=58, InchesToESD=173.40877049684963, TimeUntilESD=None, Capacity=410.0, percent_full=14), TankDataTransform(primo_id='480001', tank_type='Water', tank_number=2, Level=83.73979690380081, Volume=233, InchesToESD=None, TimeUntilESD=None, Capacity=410.0, percent_full=57)]\n"
     ]
    }
   ],
   "source": [
    "from src.main import GetTanksReq, get_tank_data\n",
    "from src.tanks_endpoint import TankType\n",
    "\n",
    "req = GetTanksReq(primo_ids={\"480001\"}, tank_types={TankType.Water})\n",
    "res = await get_tank_data(req)\n",
    "print(res)\n"
   ]
  },
  {
   "cell_type": "code",
   "execution_count": 3,
   "metadata": {},
   "outputs": [],
   "source": [
    "def convert_to_feet(value: int):\n",
    "    poopie = value/12\n",
    "    return poopie"
   ]
  },
  {
   "cell_type": "code",
   "execution_count": 4,
   "metadata": {},
   "outputs": [
    {
     "data": {
      "text/plain": [
       "1.0"
      ]
     },
     "execution_count": 4,
     "metadata": {},
     "output_type": "execute_result"
    }
   ],
   "source": [
    "convert_to_feet(12)"
   ]
  }
 ],
 "metadata": {
  "kernelspec": {
   "display_name": "tank-project-9-HCZibD-py3.12",
   "language": "python",
   "name": "python3"
  },
  "language_info": {
   "codemirror_mode": {
    "name": "ipython",
    "version": 3
   },
   "file_extension": ".py",
   "mimetype": "text/x-python",
   "name": "python",
   "nbconvert_exporter": "python",
   "pygments_lexer": "ipython3",
   "version": "3.12.1"
  }
 },
 "nbformat": 4,
 "nbformat_minor": 2
}
