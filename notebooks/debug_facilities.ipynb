{
 "cells": [
  {
   "cell_type": "code",
   "execution_count": 27,
   "metadata": {},
   "outputs": [
    {
     "data": {
      "text/html": [
       "<div><style>\n",
       ".dataframe > thead > tr,\n",
       ".dataframe > tbody > tr {\n",
       "  text-align: right;\n",
       "  white-space: pre-wrap;\n",
       "}\n",
       "</style>\n",
       "<small>shape: (26, 6)</small><table border=\"1\" class=\"dataframe\"><thead><tr><th>facility_name</th><th>primo_id</th><th>primo_prprty</th><th>completion_name</th><th>division_name</th><th>division_id</th></tr><tr><td>str</td><td>i64</td><td>i64</td><td>str</td><td>str</td><td>i64</td></tr></thead><tbody><tr><td>null</td><td>null</td><td>480001</td><td>&quot;AGGIELAND W&quot;</td><td>&quot;COLLEGE STATION&quot;</td><td>19</td></tr><tr><td>null</td><td>null</td><td>110009</td><td>&quot;DTX W&quot;</td><td>&quot;DALLAS&quot;</td><td>26</td></tr><tr><td>&quot;BAYOU CITY FAC&quot;</td><td>69419</td><td>69420</td><td>&quot;BAYOU CITY 1&quot;</td><td>&quot;HOUSTON&quot;</td><td>5</td></tr><tr><td>&quot;BAYOU CITY FAC&quot;</td><td>69419</td><td>69421</td><td>&quot;BAYOU CITY 2&quot;</td><td>&quot;HOUSTON&quot;</td><td>5</td></tr><tr><td>&quot;BAYOU CITY FAC&quot;</td><td>69419</td><td>69422</td><td>&quot;BAYOU CITY 3&quot;</td><td>&quot;HOUSTON&quot;</td><td>5</td></tr><tr><td>&hellip;</td><td>&hellip;</td><td>&hellip;</td><td>&hellip;</td><td>&hellip;</td><td>&hellip;</td></tr><tr><td>&quot;CAPITAL CITY FAC&quot;</td><td>98750</td><td>98752</td><td>&quot;CAPITAL CITY 2&quot;</td><td>&quot;AUSTIN&quot;</td><td>12</td></tr><tr><td>&quot;CAPITAL CITY FAC&quot;</td><td>98750</td><td>98753</td><td>&quot;CAPITAL CITY 3&quot;</td><td>&quot;AUSTIN&quot;</td><td>12</td></tr><tr><td>&quot;CAPITAL CITY FAC&quot;</td><td>98750</td><td>98754</td><td>&quot;CAPITAL CITY 4&quot;</td><td>&quot;AUSTIN&quot;</td><td>12</td></tr><tr><td>&quot;CAPITAL CITY FAC&quot;</td><td>98750</td><td>98755</td><td>&quot;CAPITAL CITY 5&quot;</td><td>&quot;AUSTIN&quot;</td><td>12</td></tr><tr><td>&quot;CAPITAL CITY FAC&quot;</td><td>98750</td><td>98756</td><td>&quot;CAPITAL CITY 6&quot;</td><td>&quot;AUSTIN&quot;</td><td>12</td></tr></tbody></table></div>"
      ],
      "text/plain": [
       "shape: (26, 6)\n",
       "┌──────────────────┬──────────┬──────────────┬─────────────────┬─────────────────┬─────────────┐\n",
       "│ facility_name    ┆ primo_id ┆ primo_prprty ┆ completion_name ┆ division_name   ┆ division_id │\n",
       "│ ---              ┆ ---      ┆ ---          ┆ ---             ┆ ---             ┆ ---         │\n",
       "│ str              ┆ i64      ┆ i64          ┆ str             ┆ str             ┆ i64         │\n",
       "╞══════════════════╪══════════╪══════════════╪═════════════════╪═════════════════╪═════════════╡\n",
       "│ null             ┆ null     ┆ 480001       ┆ AGGIELAND W     ┆ COLLEGE STATION ┆ 19          │\n",
       "│ null             ┆ null     ┆ 110009       ┆ DTX W           ┆ DALLAS          ┆ 26          │\n",
       "│ BAYOU CITY FAC   ┆ 69419    ┆ 69420        ┆ BAYOU CITY 1    ┆ HOUSTON         ┆ 5           │\n",
       "│ BAYOU CITY FAC   ┆ 69419    ┆ 69421        ┆ BAYOU CITY 2    ┆ HOUSTON         ┆ 5           │\n",
       "│ BAYOU CITY FAC   ┆ 69419    ┆ 69422        ┆ BAYOU CITY 3    ┆ HOUSTON         ┆ 5           │\n",
       "│ …                ┆ …        ┆ …            ┆ …               ┆ …               ┆ …           │\n",
       "│ CAPITAL CITY FAC ┆ 98750    ┆ 98752        ┆ CAPITAL CITY 2  ┆ AUSTIN          ┆ 12          │\n",
       "│ CAPITAL CITY FAC ┆ 98750    ┆ 98753        ┆ CAPITAL CITY 3  ┆ AUSTIN          ┆ 12          │\n",
       "│ CAPITAL CITY FAC ┆ 98750    ┆ 98754        ┆ CAPITAL CITY 4  ┆ AUSTIN          ┆ 12          │\n",
       "│ CAPITAL CITY FAC ┆ 98750    ┆ 98755        ┆ CAPITAL CITY 5  ┆ AUSTIN          ┆ 12          │\n",
       "│ CAPITAL CITY FAC ┆ 98750    ┆ 98756        ┆ CAPITAL CITY 6  ┆ AUSTIN          ┆ 12          │\n",
       "└──────────────────┴──────────┴──────────────┴─────────────────┴─────────────────┴─────────────┘"
      ]
     },
     "execution_count": 27,
     "metadata": {},
     "output_type": "execute_result"
    }
   ],
   "source": [
    "import polars as pl\n",
    "from src.facilities_endpoint import fetch_facilities_data\n",
    "\n",
    "df = await fetch_facilities_data()\n",
    "if df is None:\n",
    "    raise ValueError(\"df is None\")\n",
    "lf = df.lazy()\n",
    "lf.collect()"
   ]
  },
  {
   "cell_type": "code",
   "execution_count": 28,
   "metadata": {},
   "outputs": [
    {
     "data": {
      "text/html": [
       "<div><style>\n",
       ".dataframe > thead > tr,\n",
       ".dataframe > tbody > tr {\n",
       "  text-align: right;\n",
       "  white-space: pre-wrap;\n",
       "}\n",
       "</style>\n",
       "<small>shape: (26, 7)</small><table border=\"1\" class=\"dataframe\"><thead><tr><th>facility_name</th><th>primo_id</th><th>primo_prprty</th><th>completion_name</th><th>division_name</th><th>division_id</th><th>entity_type</th></tr><tr><td>str</td><td>i64</td><td>i64</td><td>str</td><td>str</td><td>i64</td><td>str</td></tr></thead><tbody><tr><td>null</td><td>null</td><td>480001</td><td>&quot;AGGIELAND W&quot;</td><td>&quot;COLLEGE STATION&quot;</td><td>19</td><td>&quot;WEL&quot;</td></tr><tr><td>null</td><td>null</td><td>110009</td><td>&quot;DTX W&quot;</td><td>&quot;DALLAS&quot;</td><td>26</td><td>&quot;WEL&quot;</td></tr><tr><td>&quot;BAYOU CITY FAC&quot;</td><td>69419</td><td>69420</td><td>&quot;BAYOU CITY 1&quot;</td><td>&quot;HOUSTON&quot;</td><td>5</td><td>&quot;FAC&quot;</td></tr><tr><td>&quot;BAYOU CITY FAC&quot;</td><td>69419</td><td>69421</td><td>&quot;BAYOU CITY 2&quot;</td><td>&quot;HOUSTON&quot;</td><td>5</td><td>&quot;FAC&quot;</td></tr><tr><td>&quot;BAYOU CITY FAC&quot;</td><td>69419</td><td>69422</td><td>&quot;BAYOU CITY 3&quot;</td><td>&quot;HOUSTON&quot;</td><td>5</td><td>&quot;FAC&quot;</td></tr><tr><td>&hellip;</td><td>&hellip;</td><td>&hellip;</td><td>&hellip;</td><td>&hellip;</td><td>&hellip;</td><td>&hellip;</td></tr><tr><td>&quot;CAPITAL CITY FAC&quot;</td><td>98750</td><td>98752</td><td>&quot;CAPITAL CITY 2&quot;</td><td>&quot;AUSTIN&quot;</td><td>12</td><td>&quot;FAC&quot;</td></tr><tr><td>&quot;CAPITAL CITY FAC&quot;</td><td>98750</td><td>98753</td><td>&quot;CAPITAL CITY 3&quot;</td><td>&quot;AUSTIN&quot;</td><td>12</td><td>&quot;FAC&quot;</td></tr><tr><td>&quot;CAPITAL CITY FAC&quot;</td><td>98750</td><td>98754</td><td>&quot;CAPITAL CITY 4&quot;</td><td>&quot;AUSTIN&quot;</td><td>12</td><td>&quot;FAC&quot;</td></tr><tr><td>&quot;CAPITAL CITY FAC&quot;</td><td>98750</td><td>98755</td><td>&quot;CAPITAL CITY 5&quot;</td><td>&quot;AUSTIN&quot;</td><td>12</td><td>&quot;FAC&quot;</td></tr><tr><td>&quot;CAPITAL CITY FAC&quot;</td><td>98750</td><td>98756</td><td>&quot;CAPITAL CITY 6&quot;</td><td>&quot;AUSTIN&quot;</td><td>12</td><td>&quot;FAC&quot;</td></tr></tbody></table></div>"
      ],
      "text/plain": [
       "shape: (26, 7)\n",
       "┌──────────────┬──────────┬──────────────┬──────────────┬──────────────┬─────────────┬─────────────┐\n",
       "│ facility_nam ┆ primo_id ┆ primo_prprty ┆ completion_n ┆ division_nam ┆ division_id ┆ entity_type │\n",
       "│ e            ┆ ---      ┆ ---          ┆ ame          ┆ e            ┆ ---         ┆ ---         │\n",
       "│ ---          ┆ i64      ┆ i64          ┆ ---          ┆ ---          ┆ i64         ┆ str         │\n",
       "│ str          ┆          ┆              ┆ str          ┆ str          ┆             ┆             │\n",
       "╞══════════════╪══════════╪══════════════╪══════════════╪══════════════╪═════════════╪═════════════╡\n",
       "│ null         ┆ null     ┆ 480001       ┆ AGGIELAND W  ┆ COLLEGE      ┆ 19          ┆ WEL         │\n",
       "│              ┆          ┆              ┆              ┆ STATION      ┆             ┆             │\n",
       "│ null         ┆ null     ┆ 110009       ┆ DTX W        ┆ DALLAS       ┆ 26          ┆ WEL         │\n",
       "│ BAYOU CITY   ┆ 69419    ┆ 69420        ┆ BAYOU CITY 1 ┆ HOUSTON      ┆ 5           ┆ FAC         │\n",
       "│ FAC          ┆          ┆              ┆              ┆              ┆             ┆             │\n",
       "│ BAYOU CITY   ┆ 69419    ┆ 69421        ┆ BAYOU CITY 2 ┆ HOUSTON      ┆ 5           ┆ FAC         │\n",
       "│ FAC          ┆          ┆              ┆              ┆              ┆             ┆             │\n",
       "│ BAYOU CITY   ┆ 69419    ┆ 69422        ┆ BAYOU CITY 3 ┆ HOUSTON      ┆ 5           ┆ FAC         │\n",
       "│ FAC          ┆          ┆              ┆              ┆              ┆             ┆             │\n",
       "│ …            ┆ …        ┆ …            ┆ …            ┆ …            ┆ …           ┆ …           │\n",
       "│ CAPITAL CITY ┆ 98750    ┆ 98752        ┆ CAPITAL CITY ┆ AUSTIN       ┆ 12          ┆ FAC         │\n",
       "│ FAC          ┆          ┆              ┆ 2            ┆              ┆             ┆             │\n",
       "│ CAPITAL CITY ┆ 98750    ┆ 98753        ┆ CAPITAL CITY ┆ AUSTIN       ┆ 12          ┆ FAC         │\n",
       "│ FAC          ┆          ┆              ┆ 3            ┆              ┆             ┆             │\n",
       "│ CAPITAL CITY ┆ 98750    ┆ 98754        ┆ CAPITAL CITY ┆ AUSTIN       ┆ 12          ┆ FAC         │\n",
       "│ FAC          ┆          ┆              ┆ 4            ┆              ┆             ┆             │\n",
       "│ CAPITAL CITY ┆ 98750    ┆ 98755        ┆ CAPITAL CITY ┆ AUSTIN       ┆ 12          ┆ FAC         │\n",
       "│ FAC          ┆          ┆              ┆ 5            ┆              ┆             ┆             │\n",
       "│ CAPITAL CITY ┆ 98750    ┆ 98756        ┆ CAPITAL CITY ┆ AUSTIN       ┆ 12          ┆ FAC         │\n",
       "│ FAC          ┆          ┆              ┆ 6            ┆              ┆             ┆             │\n",
       "└──────────────┴──────────┴──────────────┴──────────────┴──────────────┴─────────────┴─────────────┘"
      ]
     },
     "execution_count": 28,
     "metadata": {},
     "output_type": "execute_result"
    }
   ],
   "source": [
    "lf = lf.with_columns(pl.when(pl.col(\"primo_id\").is_null()).then(pl.lit(\"WEL\")).otherwise(pl.lit(\"FAC\")).alias(\"entity_type\"))\n",
    "lf.collect()"
   ]
  },
  {
   "cell_type": "code",
   "execution_count": 29,
   "metadata": {},
   "outputs": [
    {
     "data": {
      "text/html": [
       "<div><style>\n",
       ".dataframe > thead > tr,\n",
       ".dataframe > tbody > tr {\n",
       "  text-align: right;\n",
       "  white-space: pre-wrap;\n",
       "}\n",
       "</style>\n",
       "<small>shape: (26, 5)</small><table border=\"1\" class=\"dataframe\"><thead><tr><th>primo_id</th><th>division_name</th><th>division_id</th><th>entity_type</th><th>entity_name</th></tr><tr><td>i64</td><td>str</td><td>i64</td><td>str</td><td>str</td></tr></thead><tbody><tr><td>480001</td><td>&quot;COLLEGE STATION&quot;</td><td>19</td><td>&quot;WEL&quot;</td><td>&quot;AGGIELAND W&quot;</td></tr><tr><td>110009</td><td>&quot;DALLAS&quot;</td><td>26</td><td>&quot;WEL&quot;</td><td>&quot;DTX W&quot;</td></tr><tr><td>69419</td><td>&quot;HOUSTON&quot;</td><td>5</td><td>&quot;FAC&quot;</td><td>&quot;BAYOU CITY FAC&quot;</td></tr><tr><td>69419</td><td>&quot;HOUSTON&quot;</td><td>5</td><td>&quot;FAC&quot;</td><td>&quot;BAYOU CITY FAC&quot;</td></tr><tr><td>69419</td><td>&quot;HOUSTON&quot;</td><td>5</td><td>&quot;FAC&quot;</td><td>&quot;BAYOU CITY FAC&quot;</td></tr><tr><td>&hellip;</td><td>&hellip;</td><td>&hellip;</td><td>&hellip;</td><td>&hellip;</td></tr><tr><td>98750</td><td>&quot;AUSTIN&quot;</td><td>12</td><td>&quot;FAC&quot;</td><td>&quot;CAPITAL CITY FAC&quot;</td></tr><tr><td>98750</td><td>&quot;AUSTIN&quot;</td><td>12</td><td>&quot;FAC&quot;</td><td>&quot;CAPITAL CITY FAC&quot;</td></tr><tr><td>98750</td><td>&quot;AUSTIN&quot;</td><td>12</td><td>&quot;FAC&quot;</td><td>&quot;CAPITAL CITY FAC&quot;</td></tr><tr><td>98750</td><td>&quot;AUSTIN&quot;</td><td>12</td><td>&quot;FAC&quot;</td><td>&quot;CAPITAL CITY FAC&quot;</td></tr><tr><td>98750</td><td>&quot;AUSTIN&quot;</td><td>12</td><td>&quot;FAC&quot;</td><td>&quot;CAPITAL CITY FAC&quot;</td></tr></tbody></table></div>"
      ],
      "text/plain": [
       "shape: (26, 5)\n",
       "┌──────────┬─────────────────┬─────────────┬─────────────┬──────────────────┐\n",
       "│ primo_id ┆ division_name   ┆ division_id ┆ entity_type ┆ entity_name      │\n",
       "│ ---      ┆ ---             ┆ ---         ┆ ---         ┆ ---              │\n",
       "│ i64      ┆ str             ┆ i64         ┆ str         ┆ str              │\n",
       "╞══════════╪═════════════════╪═════════════╪═════════════╪══════════════════╡\n",
       "│ 480001   ┆ COLLEGE STATION ┆ 19          ┆ WEL         ┆ AGGIELAND W      │\n",
       "│ 110009   ┆ DALLAS          ┆ 26          ┆ WEL         ┆ DTX W            │\n",
       "│ 69419    ┆ HOUSTON         ┆ 5           ┆ FAC         ┆ BAYOU CITY FAC   │\n",
       "│ 69419    ┆ HOUSTON         ┆ 5           ┆ FAC         ┆ BAYOU CITY FAC   │\n",
       "│ 69419    ┆ HOUSTON         ┆ 5           ┆ FAC         ┆ BAYOU CITY FAC   │\n",
       "│ …        ┆ …               ┆ …           ┆ …           ┆ …                │\n",
       "│ 98750    ┆ AUSTIN          ┆ 12          ┆ FAC         ┆ CAPITAL CITY FAC │\n",
       "│ 98750    ┆ AUSTIN          ┆ 12          ┆ FAC         ┆ CAPITAL CITY FAC │\n",
       "│ 98750    ┆ AUSTIN          ┆ 12          ┆ FAC         ┆ CAPITAL CITY FAC │\n",
       "│ 98750    ┆ AUSTIN          ┆ 12          ┆ FAC         ┆ CAPITAL CITY FAC │\n",
       "│ 98750    ┆ AUSTIN          ┆ 12          ┆ FAC         ┆ CAPITAL CITY FAC │\n",
       "└──────────┴─────────────────┴─────────────┴─────────────┴──────────────────┘"
      ]
     },
     "execution_count": 29,
     "metadata": {},
     "output_type": "execute_result"
    }
   ],
   "source": [
    "lf = lf.with_columns(\n",
    "    pl.coalesce(pl.col(\"facility_name\"), pl.col(\"completion_name\")).alias(\"entity_name\"),\n",
    "    pl.coalesce(pl.col(\"primo_id\"), pl.col(\"primo_prprty\")).alias(\"primo_id\"),\n",
    ")\n",
    "\n",
    "lf = lf.drop(\"facility_name\", \"completion_name\", \"primo_prprty\")\n",
    "lf.collect()"
   ]
  },
  {
   "cell_type": "code",
   "execution_count": 30,
   "metadata": {},
   "outputs": [
    {
     "data": {
      "text/html": [
       "<div><style>\n",
       ".dataframe > thead > tr,\n",
       ".dataframe > tbody > tr {\n",
       "  text-align: right;\n",
       "  white-space: pre-wrap;\n",
       "}\n",
       "</style>\n",
       "<small>shape: (5, 5)</small><table border=\"1\" class=\"dataframe\"><thead><tr><th>primo_id</th><th>division_name</th><th>division_id</th><th>entity_type</th><th>entity_name</th></tr><tr><td>i64</td><td>str</td><td>i64</td><td>str</td><td>str</td></tr></thead><tbody><tr><td>69419</td><td>&quot;HOUSTON&quot;</td><td>5</td><td>&quot;FAC&quot;</td><td>&quot;BAYOU CITY FAC&quot;</td></tr><tr><td>98750</td><td>&quot;AUSTIN&quot;</td><td>12</td><td>&quot;FAC&quot;</td><td>&quot;CAPITAL CITY FAC&quot;</td></tr><tr><td>98743</td><td>&quot;AUSTIN&quot;</td><td>12</td><td>&quot;FAC&quot;</td><td>&quot;ATX FAC&quot;</td></tr><tr><td>480001</td><td>&quot;COLLEGE STATION&quot;</td><td>19</td><td>&quot;WEL&quot;</td><td>&quot;AGGIELAND W&quot;</td></tr><tr><td>110009</td><td>&quot;DALLAS&quot;</td><td>26</td><td>&quot;WEL&quot;</td><td>&quot;DTX W&quot;</td></tr></tbody></table></div>"
      ],
      "text/plain": [
       "shape: (5, 5)\n",
       "┌──────────┬─────────────────┬─────────────┬─────────────┬──────────────────┐\n",
       "│ primo_id ┆ division_name   ┆ division_id ┆ entity_type ┆ entity_name      │\n",
       "│ ---      ┆ ---             ┆ ---         ┆ ---         ┆ ---              │\n",
       "│ i64      ┆ str             ┆ i64         ┆ str         ┆ str              │\n",
       "╞══════════╪═════════════════╪═════════════╪═════════════╪══════════════════╡\n",
       "│ 69419    ┆ HOUSTON         ┆ 5           ┆ FAC         ┆ BAYOU CITY FAC   │\n",
       "│ 98750    ┆ AUSTIN          ┆ 12          ┆ FAC         ┆ CAPITAL CITY FAC │\n",
       "│ 98743    ┆ AUSTIN          ┆ 12          ┆ FAC         ┆ ATX FAC          │\n",
       "│ 480001   ┆ COLLEGE STATION ┆ 19          ┆ WEL         ┆ AGGIELAND W      │\n",
       "│ 110009   ┆ DALLAS          ┆ 26          ┆ WEL         ┆ DTX W            │\n",
       "└──────────┴─────────────────┴─────────────┴─────────────┴──────────────────┘"
      ]
     },
     "execution_count": 30,
     "metadata": {},
     "output_type": "execute_result"
    }
   ],
   "source": [
    "lf = lf.unique(subset=[\"primo_id\"])\n",
    "lf = lf.sort(pl.col(\"division_id\"))\n",
    "lf.collect()"
   ]
  }
 ],
 "metadata": {
  "kernelspec": {
   "display_name": "tank-project-9-HCZibD-py3.12",
   "language": "python",
   "name": "python3"
  },
  "language_info": {
   "codemirror_mode": {
    "name": "ipython",
    "version": 3
   },
   "file_extension": ".py",
   "mimetype": "text/x-python",
   "name": "python",
   "nbconvert_exporter": "python",
   "pygments_lexer": "ipython3",
   "version": "3.12.2"
  }
 },
 "nbformat": 4,
 "nbformat_minor": 2
}
