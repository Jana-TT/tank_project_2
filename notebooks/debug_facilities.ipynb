{
 "cells": [
  {
   "cell_type": "code",
   "execution_count": null,
   "metadata": {},
   "outputs": [],
   "source": [
    "pl.Config.set_tbl_rows(2000)"
   ]
  },
  {
   "cell_type": "code",
   "execution_count": 1,
   "metadata": {},
   "outputs": [
    {
     "data": {
      "text/html": [
       "<div><style>\n",
       ".dataframe > thead > tr,\n",
       ".dataframe > tbody > tr {\n",
       "  text-align: right;\n",
       "  white-space: pre-wrap;\n",
       "}\n",
       "</style>\n",
       "<small>shape: (85, 6)</small><table border=\"1\" class=\"dataframe\"><thead><tr><th>primo_id</th><th>division_name</th><th>division_id</th><th>facility_name</th><th>route_name</th><th>foreman_name</th></tr><tr><td>i64</td><td>str</td><td>i64</td><td>str</td><td>str</td><td>str</td></tr></thead><tbody><tr><td>480001</td><td>&quot;COLLEGE STATION&quot;</td><td>19</td><td>&quot;AGGIELAND FAC&quot;</td><td>&quot;WEST TEXAS ROUTE&quot;</td><td>&quot;REYNOLDS, RYAN&quot;</td></tr><tr><td>69419</td><td>&quot;HOUSTON&quot;</td><td>5</td><td>&quot;BAYOU CITY FAC&quot;</td><td>&quot;HUSTLE CITY ROUTE&quot;</td><td>&quot;COOPER, SHELDON&quot;</td></tr><tr><td>98743</td><td>&quot;AUSTIN&quot;</td><td>12</td><td>&quot;ATX FAC&quot;</td><td>&quot;VIOLET ROUTE&quot;</td><td>&quot;BURTON, TIM&quot;</td></tr><tr><td>98750</td><td>&quot;AUSTIN&quot;</td><td>12</td><td>&quot;CAPITAL CITY FAC&quot;</td><td>&quot;LEGEND CITY ROUTE&quot;</td><td>&quot;DEPP, JOHNNY&quot;</td></tr><tr><td>98761</td><td>&quot;DALLAS&quot;</td><td>26</td><td>&quot;ANDERSON FAC&quot;</td><td>&quot;TRIPLE D ROUTE&quot;</td><td>&quot;SMITH, JOHN&quot;</td></tr><tr><td>&hellip;</td><td>&hellip;</td><td>&hellip;</td><td>&hellip;</td><td>&hellip;</td><td>&hellip;</td></tr><tr><td>98837</td><td>&quot;LUBBOCK&quot;</td><td>40</td><td>&quot;FORT BEND FAC&quot;</td><td>&quot;HUB CITY ROUTE&quot;</td><td>&quot;STARK, TONY&quot;</td></tr><tr><td>98838</td><td>&quot;LUBBOCK&quot;</td><td>40</td><td>&quot;FRANKLIN FAC&quot;</td><td>&quot;HUB CITY ROUTE&quot;</td><td>&quot;STARK, TONY&quot;</td></tr><tr><td>98839</td><td>&quot;LUBBOCK&quot;</td><td>40</td><td>&quot;FREESTONE FAC&quot;</td><td>&quot;HUB CITY ROUTE&quot;</td><td>&quot;STARK, TONY&quot;</td></tr><tr><td>98840</td><td>&quot;LUBBOCK&quot;</td><td>40</td><td>&quot;FRIO FAC&quot;</td><td>&quot;HUB CITY ROUTE&quot;</td><td>&quot;STARK, TONY&quot;</td></tr><tr><td>110009</td><td>&quot;DALLAS&quot;</td><td>26</td><td>&quot;DTX FAC&quot;</td><td>&quot;TRIPLE D ROUTE&quot;</td><td>&quot;SMITH, JOHN&quot;</td></tr></tbody></table></div>"
      ],
      "text/plain": [
       "shape: (85, 6)\n",
       "┌──────────┬─────────────────┬─────────────┬──────────────────┬──────────────────┬─────────────────┐\n",
       "│ primo_id ┆ division_name   ┆ division_id ┆ facility_name    ┆ route_name       ┆ foreman_name    │\n",
       "│ ---      ┆ ---             ┆ ---         ┆ ---              ┆ ---              ┆ ---             │\n",
       "│ i64      ┆ str             ┆ i64         ┆ str              ┆ str              ┆ str             │\n",
       "╞══════════╪═════════════════╪═════════════╪══════════════════╪══════════════════╪═════════════════╡\n",
       "│ 480001   ┆ COLLEGE STATION ┆ 19          ┆ AGGIELAND FAC    ┆ WEST TEXAS ROUTE ┆ REYNOLDS, RYAN  │\n",
       "│ 69419    ┆ HOUSTON         ┆ 5           ┆ BAYOU CITY FAC   ┆ HUSTLE CITY      ┆ COOPER, SHELDON │\n",
       "│          ┆                 ┆             ┆                  ┆ ROUTE            ┆                 │\n",
       "│ 98743    ┆ AUSTIN          ┆ 12          ┆ ATX FAC          ┆ VIOLET ROUTE     ┆ BURTON, TIM     │\n",
       "│ 98750    ┆ AUSTIN          ┆ 12          ┆ CAPITAL CITY FAC ┆ LEGEND CITY      ┆ DEPP, JOHNNY    │\n",
       "│          ┆                 ┆             ┆                  ┆ ROUTE            ┆                 │\n",
       "│ 98761    ┆ DALLAS          ┆ 26          ┆ ANDERSON FAC     ┆ TRIPLE D ROUTE   ┆ SMITH, JOHN     │\n",
       "│ …        ┆ …               ┆ …           ┆ …                ┆ …                ┆ …               │\n",
       "│ 98837    ┆ LUBBOCK         ┆ 40          ┆ FORT BEND FAC    ┆ HUB CITY ROUTE   ┆ STARK, TONY     │\n",
       "│ 98838    ┆ LUBBOCK         ┆ 40          ┆ FRANKLIN FAC     ┆ HUB CITY ROUTE   ┆ STARK, TONY     │\n",
       "│ 98839    ┆ LUBBOCK         ┆ 40          ┆ FREESTONE FAC    ┆ HUB CITY ROUTE   ┆ STARK, TONY     │\n",
       "│ 98840    ┆ LUBBOCK         ┆ 40          ┆ FRIO FAC         ┆ HUB CITY ROUTE   ┆ STARK, TONY     │\n",
       "│ 110009   ┆ DALLAS          ┆ 26          ┆ DTX FAC          ┆ TRIPLE D ROUTE   ┆ SMITH, JOHN     │\n",
       "└──────────┴─────────────────┴─────────────┴──────────────────┴──────────────────┴─────────────────┘"
      ]
     },
     "execution_count": 1,
     "metadata": {},
     "output_type": "execute_result"
    }
   ],
   "source": [
    "import polars as pl\n",
    "from src.facilities_endpoint import fetch_facilities_data\n",
    "\n",
    "df = await fetch_facilities_data()\n",
    "if df is None:\n",
    "    raise ValueError(\"df is None\")\n",
    "lf = df.lazy()\n",
    "lf.collect()"
   ]
  },
  {
   "cell_type": "code",
   "execution_count": null,
   "metadata": {},
   "outputs": [],
   "source": [
    "lf = lf.with_columns(\n",
    "    pl.when(pl.col(\"facility_name\").is_null())\n",
    "    .then(pl.lit(\"WEL\"))\n",
    "    .otherwise(pl.lit(\"FAC\"))\n",
    "    .alias(\"entity_type\")\n",
    ")\n",
    "lf.collect()"
   ]
  },
  {
   "cell_type": "code",
   "execution_count": null,
   "metadata": {},
   "outputs": [],
   "source": [
    "coalesced_lf = lf.with_columns(\n",
    "    pl.col(\"entity_type\"),\n",
    "    pl.col(\"foreman_name\"),\n",
    "    pl.col(\"route_name\"),\n",
    "    pl.coalesce(pl.col(\"primo_prprty\"), pl.col(\"fac_primo\")).alias(\"primo_prprty\"), \n",
    "    pl.coalesce(pl.col(\"division_id\"), pl.col(\"divs\")).alias(\"division_id\"),\n",
    "    pl.coalesce(pl.col(\"facility_name\"), pl.col(\"completion_name\")).alias(\"entity_name\"),\n",
    "    pl.coalesce(pl.col(\"routeid\"), pl.col(\"route_id\")).alias(\"route_id\")\n",
    ")\n",
    "\n",
    "required_columns = [\"primo_prprty\", \"division_id\", \"entity_name\", \"route_id\", \"entity_type\", \"foreman_name\", \"route_name\"]\n",
    "coalesced_lf = coalesced_lf.select(required_columns)\n",
    "coalesced_lf.collect()"
   ]
  }
 ],
 "metadata": {
  "kernelspec": {
   "display_name": "tank-project-9-HCZibD-py3.12",
   "language": "python",
   "name": "python3"
  },
  "language_info": {
   "codemirror_mode": {
    "name": "ipython",
    "version": 3
   },
   "file_extension": ".py",
   "mimetype": "text/x-python",
   "name": "python",
   "nbconvert_exporter": "python",
   "pygments_lexer": "ipython3",
   "version": "3.12.2"
  }
 },
 "nbformat": 4,
 "nbformat_minor": 2
}
