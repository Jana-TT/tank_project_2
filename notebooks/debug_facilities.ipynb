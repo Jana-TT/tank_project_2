{
 "cells": [
  {
   "cell_type": "code",
   "execution_count": 1,
   "metadata": {},
   "outputs": [
    {
     "data": {
      "text/html": [
       "<div><style>\n",
       ".dataframe > thead > tr,\n",
       ".dataframe > tbody > tr {\n",
       "  text-align: right;\n",
       "  white-space: pre-wrap;\n",
       "}\n",
       "</style>\n",
       "<small>shape: (38, 8)</small><table border=\"1\" class=\"dataframe\"><thead><tr><th>facility_name</th><th>primo_id</th><th>primo_prprty</th><th>completion_name</th><th>division_name</th><th>division_id</th><th>route_name</th><th>foreman_name</th></tr><tr><td>str</td><td>i64</td><td>i64</td><td>str</td><td>str</td><td>i64</td><td>str</td><td>str</td></tr></thead><tbody><tr><td>null</td><td>null</td><td>110009</td><td>&quot;DTX W&quot;</td><td>&quot;DALLAS&quot;</td><td>26</td><td>&quot;TRIPLE D ROUTE&quot;</td><td>&quot;SMITH, JOHN&quot;</td></tr><tr><td>&quot;BAYOU CITY FAC&quot;</td><td>69419</td><td>69431</td><td>&quot;BAYOU CITY 12&quot;</td><td>&quot;HOUSTON&quot;</td><td>5</td><td>&quot;HUSTLE CITY ROUTE&quot;</td><td>&quot;COOPER, SHELDON&quot;</td></tr><tr><td>&quot;BAYOU CITY FAC&quot;</td><td>69419</td><td>69430</td><td>&quot;BAYOU CITY 11&quot;</td><td>&quot;HOUSTON&quot;</td><td>5</td><td>&quot;HUSTLE CITY ROUTE&quot;</td><td>&quot;COOPER, SHELDON&quot;</td></tr><tr><td>&quot;BAYOU CITY FAC&quot;</td><td>69419</td><td>69429</td><td>&quot;BAYOU CITY 10&quot;</td><td>&quot;HOUSTON&quot;</td><td>5</td><td>&quot;HUSTLE CITY ROUTE&quot;</td><td>&quot;COOPER, SHELDON&quot;</td></tr><tr><td>&quot;BAYOU CITY FAC&quot;</td><td>69419</td><td>69428</td><td>&quot;BAYOU CITY 9&quot;</td><td>&quot;HOUSTON&quot;</td><td>5</td><td>&quot;HUSTLE CITY ROUTE&quot;</td><td>&quot;COOPER, SHELDON&quot;</td></tr><tr><td>&hellip;</td><td>&hellip;</td><td>&hellip;</td><td>&hellip;</td><td>&hellip;</td><td>&hellip;</td><td>&hellip;</td><td>&hellip;</td></tr><tr><td>&quot;ATX FAC&quot;</td><td>98743</td><td>98747</td><td>&quot;ATX CITY 4&quot;</td><td>&quot;AUSTIN&quot;</td><td>12</td><td>&quot;LEGEND CITY ROUTE&quot;</td><td>&quot;DEPP, JOHNNY&quot;</td></tr><tr><td>&quot;ATX FAC&quot;</td><td>98743</td><td>98746</td><td>&quot;ATX CITY 3&quot;</td><td>&quot;AUSTIN&quot;</td><td>12</td><td>&quot;LEGEND CITY ROUTE&quot;</td><td>&quot;DEPP, JOHNNY&quot;</td></tr><tr><td>&quot;ATX FAC&quot;</td><td>98743</td><td>98745</td><td>&quot;ATX CITY 2&quot;</td><td>&quot;AUSTIN&quot;</td><td>12</td><td>&quot;LEGEND CITY ROUTE&quot;</td><td>&quot;DEPP, JOHNNY&quot;</td></tr><tr><td>&quot;ATX FAC&quot;</td><td>98743</td><td>98744</td><td>&quot;ATX CITY 1&quot;</td><td>&quot;AUSTIN&quot;</td><td>12</td><td>&quot;LEGEND CITY ROUTE&quot;</td><td>&quot;DEPP, JOHNNY&quot;</td></tr><tr><td>null</td><td>null</td><td>480001</td><td>&quot;AGGIELAND W&quot;</td><td>&quot;COLLEGE STATION&quot;</td><td>19</td><td>&quot;WEST TEXAS ROUTE&quot;</td><td>&quot;REYNOLDS, RYAN&quot;</td></tr></tbody></table></div>"
      ],
      "text/plain": [
       "shape: (38, 8)\n",
       "┌────────────┬──────────┬────────────┬────────────┬────────────┬───────────┬───────────┬───────────┐\n",
       "│ facility_n ┆ primo_id ┆ primo_prpr ┆ completion ┆ division_n ┆ division_ ┆ route_nam ┆ foreman_n │\n",
       "│ ame        ┆ ---      ┆ ty         ┆ _name      ┆ ame        ┆ id        ┆ e         ┆ ame       │\n",
       "│ ---        ┆ i64      ┆ ---        ┆ ---        ┆ ---        ┆ ---       ┆ ---       ┆ ---       │\n",
       "│ str        ┆          ┆ i64        ┆ str        ┆ str        ┆ i64       ┆ str       ┆ str       │\n",
       "╞════════════╪══════════╪════════════╪════════════╪════════════╪═══════════╪═══════════╪═══════════╡\n",
       "│ null       ┆ null     ┆ 110009     ┆ DTX W      ┆ DALLAS     ┆ 26        ┆ TRIPLE D  ┆ SMITH,    │\n",
       "│            ┆          ┆            ┆            ┆            ┆           ┆ ROUTE     ┆ JOHN      │\n",
       "│ BAYOU CITY ┆ 69419    ┆ 69431      ┆ BAYOU CITY ┆ HOUSTON    ┆ 5         ┆ HUSTLE    ┆ COOPER,   │\n",
       "│ FAC        ┆          ┆            ┆ 12         ┆            ┆           ┆ CITY      ┆ SHELDON   │\n",
       "│            ┆          ┆            ┆            ┆            ┆           ┆ ROUTE     ┆           │\n",
       "│ BAYOU CITY ┆ 69419    ┆ 69430      ┆ BAYOU CITY ┆ HOUSTON    ┆ 5         ┆ HUSTLE    ┆ COOPER,   │\n",
       "│ FAC        ┆          ┆            ┆ 11         ┆            ┆           ┆ CITY      ┆ SHELDON   │\n",
       "│            ┆          ┆            ┆            ┆            ┆           ┆ ROUTE     ┆           │\n",
       "│ BAYOU CITY ┆ 69419    ┆ 69429      ┆ BAYOU CITY ┆ HOUSTON    ┆ 5         ┆ HUSTLE    ┆ COOPER,   │\n",
       "│ FAC        ┆          ┆            ┆ 10         ┆            ┆           ┆ CITY      ┆ SHELDON   │\n",
       "│            ┆          ┆            ┆            ┆            ┆           ┆ ROUTE     ┆           │\n",
       "│ BAYOU CITY ┆ 69419    ┆ 69428      ┆ BAYOU CITY ┆ HOUSTON    ┆ 5         ┆ HUSTLE    ┆ COOPER,   │\n",
       "│ FAC        ┆          ┆            ┆ 9          ┆            ┆           ┆ CITY      ┆ SHELDON   │\n",
       "│            ┆          ┆            ┆            ┆            ┆           ┆ ROUTE     ┆           │\n",
       "│ …          ┆ …        ┆ …          ┆ …          ┆ …          ┆ …         ┆ …         ┆ …         │\n",
       "│ ATX FAC    ┆ 98743    ┆ 98747      ┆ ATX CITY 4 ┆ AUSTIN     ┆ 12        ┆ LEGEND    ┆ DEPP,     │\n",
       "│            ┆          ┆            ┆            ┆            ┆           ┆ CITY      ┆ JOHNNY    │\n",
       "│            ┆          ┆            ┆            ┆            ┆           ┆ ROUTE     ┆           │\n",
       "│ ATX FAC    ┆ 98743    ┆ 98746      ┆ ATX CITY 3 ┆ AUSTIN     ┆ 12        ┆ LEGEND    ┆ DEPP,     │\n",
       "│            ┆          ┆            ┆            ┆            ┆           ┆ CITY      ┆ JOHNNY    │\n",
       "│            ┆          ┆            ┆            ┆            ┆           ┆ ROUTE     ┆           │\n",
       "│ ATX FAC    ┆ 98743    ┆ 98745      ┆ ATX CITY 2 ┆ AUSTIN     ┆ 12        ┆ LEGEND    ┆ DEPP,     │\n",
       "│            ┆          ┆            ┆            ┆            ┆           ┆ CITY      ┆ JOHNNY    │\n",
       "│            ┆          ┆            ┆            ┆            ┆           ┆ ROUTE     ┆           │\n",
       "│ ATX FAC    ┆ 98743    ┆ 98744      ┆ ATX CITY 1 ┆ AUSTIN     ┆ 12        ┆ LEGEND    ┆ DEPP,     │\n",
       "│            ┆          ┆            ┆            ┆            ┆           ┆ CITY      ┆ JOHNNY    │\n",
       "│            ┆          ┆            ┆            ┆            ┆           ┆ ROUTE     ┆           │\n",
       "│ null       ┆ null     ┆ 480001     ┆ AGGIELAND  ┆ COLLEGE    ┆ 19        ┆ WEST      ┆ REYNOLDS, │\n",
       "│            ┆          ┆            ┆ W          ┆ STATION    ┆           ┆ TEXAS     ┆ RYAN      │\n",
       "│            ┆          ┆            ┆            ┆            ┆           ┆ ROUTE     ┆           │\n",
       "└────────────┴──────────┴────────────┴────────────┴────────────┴───────────┴───────────┴───────────┘"
      ]
     },
     "execution_count": 1,
     "metadata": {},
     "output_type": "execute_result"
    }
   ],
   "source": [
    "import polars as pl\n",
    "from src.facilities_endpoint import fetch_facilities_data\n",
    "\n",
    "df = await fetch_facilities_data()\n",
    "if df is None:\n",
    "    raise ValueError(\"df is None\")\n",
    "lf = df.lazy()\n",
    "lf.collect()"
   ]
  },
  {
   "cell_type": "code",
   "execution_count": 2,
   "metadata": {},
   "outputs": [
    {
     "data": {
      "text/html": [
       "<div><style>\n",
       ".dataframe > thead > tr,\n",
       ".dataframe > tbody > tr {\n",
       "  text-align: right;\n",
       "  white-space: pre-wrap;\n",
       "}\n",
       "</style>\n",
       "<small>shape: (38, 9)</small><table border=\"1\" class=\"dataframe\"><thead><tr><th>facility_name</th><th>primo_id</th><th>primo_prprty</th><th>completion_name</th><th>division_name</th><th>division_id</th><th>route_name</th><th>foreman_name</th><th>entity_type</th></tr><tr><td>str</td><td>i64</td><td>i64</td><td>str</td><td>str</td><td>i64</td><td>str</td><td>str</td><td>str</td></tr></thead><tbody><tr><td>null</td><td>null</td><td>110009</td><td>&quot;DTX W&quot;</td><td>&quot;DALLAS&quot;</td><td>26</td><td>&quot;TRIPLE D ROUTE&quot;</td><td>&quot;SMITH, JOHN&quot;</td><td>&quot;WEL&quot;</td></tr><tr><td>&quot;BAYOU CITY FAC&quot;</td><td>69419</td><td>69431</td><td>&quot;BAYOU CITY 12&quot;</td><td>&quot;HOUSTON&quot;</td><td>5</td><td>&quot;HUSTLE CITY ROUTE&quot;</td><td>&quot;COOPER, SHELDON&quot;</td><td>&quot;FAC&quot;</td></tr><tr><td>&quot;BAYOU CITY FAC&quot;</td><td>69419</td><td>69430</td><td>&quot;BAYOU CITY 11&quot;</td><td>&quot;HOUSTON&quot;</td><td>5</td><td>&quot;HUSTLE CITY ROUTE&quot;</td><td>&quot;COOPER, SHELDON&quot;</td><td>&quot;FAC&quot;</td></tr><tr><td>&quot;BAYOU CITY FAC&quot;</td><td>69419</td><td>69429</td><td>&quot;BAYOU CITY 10&quot;</td><td>&quot;HOUSTON&quot;</td><td>5</td><td>&quot;HUSTLE CITY ROUTE&quot;</td><td>&quot;COOPER, SHELDON&quot;</td><td>&quot;FAC&quot;</td></tr><tr><td>&quot;BAYOU CITY FAC&quot;</td><td>69419</td><td>69428</td><td>&quot;BAYOU CITY 9&quot;</td><td>&quot;HOUSTON&quot;</td><td>5</td><td>&quot;HUSTLE CITY ROUTE&quot;</td><td>&quot;COOPER, SHELDON&quot;</td><td>&quot;FAC&quot;</td></tr><tr><td>&hellip;</td><td>&hellip;</td><td>&hellip;</td><td>&hellip;</td><td>&hellip;</td><td>&hellip;</td><td>&hellip;</td><td>&hellip;</td><td>&hellip;</td></tr><tr><td>&quot;ATX FAC&quot;</td><td>98743</td><td>98747</td><td>&quot;ATX CITY 4&quot;</td><td>&quot;AUSTIN&quot;</td><td>12</td><td>&quot;LEGEND CITY ROUTE&quot;</td><td>&quot;DEPP, JOHNNY&quot;</td><td>&quot;FAC&quot;</td></tr><tr><td>&quot;ATX FAC&quot;</td><td>98743</td><td>98746</td><td>&quot;ATX CITY 3&quot;</td><td>&quot;AUSTIN&quot;</td><td>12</td><td>&quot;LEGEND CITY ROUTE&quot;</td><td>&quot;DEPP, JOHNNY&quot;</td><td>&quot;FAC&quot;</td></tr><tr><td>&quot;ATX FAC&quot;</td><td>98743</td><td>98745</td><td>&quot;ATX CITY 2&quot;</td><td>&quot;AUSTIN&quot;</td><td>12</td><td>&quot;LEGEND CITY ROUTE&quot;</td><td>&quot;DEPP, JOHNNY&quot;</td><td>&quot;FAC&quot;</td></tr><tr><td>&quot;ATX FAC&quot;</td><td>98743</td><td>98744</td><td>&quot;ATX CITY 1&quot;</td><td>&quot;AUSTIN&quot;</td><td>12</td><td>&quot;LEGEND CITY ROUTE&quot;</td><td>&quot;DEPP, JOHNNY&quot;</td><td>&quot;FAC&quot;</td></tr><tr><td>null</td><td>null</td><td>480001</td><td>&quot;AGGIELAND W&quot;</td><td>&quot;COLLEGE STATION&quot;</td><td>19</td><td>&quot;WEST TEXAS ROUTE&quot;</td><td>&quot;REYNOLDS, RYAN&quot;</td><td>&quot;WEL&quot;</td></tr></tbody></table></div>"
      ],
      "text/plain": [
       "shape: (38, 9)\n",
       "┌───────────┬──────────┬───────────┬───────────┬───┬───────────┬───────────┬───────────┬───────────┐\n",
       "│ facility_ ┆ primo_id ┆ primo_prp ┆ completio ┆ … ┆ division_ ┆ route_nam ┆ foreman_n ┆ entity_ty │\n",
       "│ name      ┆ ---      ┆ rty       ┆ n_name    ┆   ┆ id        ┆ e         ┆ ame       ┆ pe        │\n",
       "│ ---       ┆ i64      ┆ ---       ┆ ---       ┆   ┆ ---       ┆ ---       ┆ ---       ┆ ---       │\n",
       "│ str       ┆          ┆ i64       ┆ str       ┆   ┆ i64       ┆ str       ┆ str       ┆ str       │\n",
       "╞═══════════╪══════════╪═══════════╪═══════════╪═══╪═══════════╪═══════════╪═══════════╪═══════════╡\n",
       "│ null      ┆ null     ┆ 110009    ┆ DTX W     ┆ … ┆ 26        ┆ TRIPLE D  ┆ SMITH,    ┆ WEL       │\n",
       "│           ┆          ┆           ┆           ┆   ┆           ┆ ROUTE     ┆ JOHN      ┆           │\n",
       "│ BAYOU     ┆ 69419    ┆ 69431     ┆ BAYOU     ┆ … ┆ 5         ┆ HUSTLE    ┆ COOPER,   ┆ FAC       │\n",
       "│ CITY FAC  ┆          ┆           ┆ CITY 12   ┆   ┆           ┆ CITY      ┆ SHELDON   ┆           │\n",
       "│           ┆          ┆           ┆           ┆   ┆           ┆ ROUTE     ┆           ┆           │\n",
       "│ BAYOU     ┆ 69419    ┆ 69430     ┆ BAYOU     ┆ … ┆ 5         ┆ HUSTLE    ┆ COOPER,   ┆ FAC       │\n",
       "│ CITY FAC  ┆          ┆           ┆ CITY 11   ┆   ┆           ┆ CITY      ┆ SHELDON   ┆           │\n",
       "│           ┆          ┆           ┆           ┆   ┆           ┆ ROUTE     ┆           ┆           │\n",
       "│ BAYOU     ┆ 69419    ┆ 69429     ┆ BAYOU     ┆ … ┆ 5         ┆ HUSTLE    ┆ COOPER,   ┆ FAC       │\n",
       "│ CITY FAC  ┆          ┆           ┆ CITY 10   ┆   ┆           ┆ CITY      ┆ SHELDON   ┆           │\n",
       "│           ┆          ┆           ┆           ┆   ┆           ┆ ROUTE     ┆           ┆           │\n",
       "│ BAYOU     ┆ 69419    ┆ 69428     ┆ BAYOU     ┆ … ┆ 5         ┆ HUSTLE    ┆ COOPER,   ┆ FAC       │\n",
       "│ CITY FAC  ┆          ┆           ┆ CITY 9    ┆   ┆           ┆ CITY      ┆ SHELDON   ┆           │\n",
       "│           ┆          ┆           ┆           ┆   ┆           ┆ ROUTE     ┆           ┆           │\n",
       "│ …         ┆ …        ┆ …         ┆ …         ┆ … ┆ …         ┆ …         ┆ …         ┆ …         │\n",
       "│ ATX FAC   ┆ 98743    ┆ 98747     ┆ ATX CITY  ┆ … ┆ 12        ┆ LEGEND    ┆ DEPP,     ┆ FAC       │\n",
       "│           ┆          ┆           ┆ 4         ┆   ┆           ┆ CITY      ┆ JOHNNY    ┆           │\n",
       "│           ┆          ┆           ┆           ┆   ┆           ┆ ROUTE     ┆           ┆           │\n",
       "│ ATX FAC   ┆ 98743    ┆ 98746     ┆ ATX CITY  ┆ … ┆ 12        ┆ LEGEND    ┆ DEPP,     ┆ FAC       │\n",
       "│           ┆          ┆           ┆ 3         ┆   ┆           ┆ CITY      ┆ JOHNNY    ┆           │\n",
       "│           ┆          ┆           ┆           ┆   ┆           ┆ ROUTE     ┆           ┆           │\n",
       "│ ATX FAC   ┆ 98743    ┆ 98745     ┆ ATX CITY  ┆ … ┆ 12        ┆ LEGEND    ┆ DEPP,     ┆ FAC       │\n",
       "│           ┆          ┆           ┆ 2         ┆   ┆           ┆ CITY      ┆ JOHNNY    ┆           │\n",
       "│           ┆          ┆           ┆           ┆   ┆           ┆ ROUTE     ┆           ┆           │\n",
       "│ ATX FAC   ┆ 98743    ┆ 98744     ┆ ATX CITY  ┆ … ┆ 12        ┆ LEGEND    ┆ DEPP,     ┆ FAC       │\n",
       "│           ┆          ┆           ┆ 1         ┆   ┆           ┆ CITY      ┆ JOHNNY    ┆           │\n",
       "│           ┆          ┆           ┆           ┆   ┆           ┆ ROUTE     ┆           ┆           │\n",
       "│ null      ┆ null     ┆ 480001    ┆ AGGIELAND ┆ … ┆ 19        ┆ WEST      ┆ REYNOLDS, ┆ WEL       │\n",
       "│           ┆          ┆           ┆ W         ┆   ┆           ┆ TEXAS     ┆ RYAN      ┆           │\n",
       "│           ┆          ┆           ┆           ┆   ┆           ┆ ROUTE     ┆           ┆           │\n",
       "└───────────┴──────────┴───────────┴───────────┴───┴───────────┴───────────┴───────────┴───────────┘"
      ]
     },
     "execution_count": 2,
     "metadata": {},
     "output_type": "execute_result"
    }
   ],
   "source": [
    "lf = lf.with_columns(pl.when(pl.col(\"primo_id\").is_null()).then(pl.lit(\"WEL\")).otherwise(pl.lit(\"FAC\")).alias(\"entity_type\"))\n",
    "lf.collect()"
   ]
  },
  {
   "cell_type": "code",
   "execution_count": 3,
   "metadata": {},
   "outputs": [
    {
     "data": {
      "text/html": [
       "<div><style>\n",
       ".dataframe > thead > tr,\n",
       ".dataframe > tbody > tr {\n",
       "  text-align: right;\n",
       "  white-space: pre-wrap;\n",
       "}\n",
       "</style>\n",
       "<small>shape: (38, 7)</small><table border=\"1\" class=\"dataframe\"><thead><tr><th>primo_id</th><th>division_name</th><th>division_id</th><th>route_name</th><th>foreman_name</th><th>entity_type</th><th>entity_name</th></tr><tr><td>i64</td><td>str</td><td>i64</td><td>str</td><td>str</td><td>str</td><td>str</td></tr></thead><tbody><tr><td>110009</td><td>&quot;DALLAS&quot;</td><td>26</td><td>&quot;TRIPLE D ROUTE&quot;</td><td>&quot;SMITH, JOHN&quot;</td><td>&quot;WEL&quot;</td><td>&quot;DTX W&quot;</td></tr><tr><td>69419</td><td>&quot;HOUSTON&quot;</td><td>5</td><td>&quot;HUSTLE CITY ROUTE&quot;</td><td>&quot;COOPER, SHELDON&quot;</td><td>&quot;FAC&quot;</td><td>&quot;BAYOU CITY FAC&quot;</td></tr><tr><td>69419</td><td>&quot;HOUSTON&quot;</td><td>5</td><td>&quot;HUSTLE CITY ROUTE&quot;</td><td>&quot;COOPER, SHELDON&quot;</td><td>&quot;FAC&quot;</td><td>&quot;BAYOU CITY FAC&quot;</td></tr><tr><td>69419</td><td>&quot;HOUSTON&quot;</td><td>5</td><td>&quot;HUSTLE CITY ROUTE&quot;</td><td>&quot;COOPER, SHELDON&quot;</td><td>&quot;FAC&quot;</td><td>&quot;BAYOU CITY FAC&quot;</td></tr><tr><td>69419</td><td>&quot;HOUSTON&quot;</td><td>5</td><td>&quot;HUSTLE CITY ROUTE&quot;</td><td>&quot;COOPER, SHELDON&quot;</td><td>&quot;FAC&quot;</td><td>&quot;BAYOU CITY FAC&quot;</td></tr><tr><td>&hellip;</td><td>&hellip;</td><td>&hellip;</td><td>&hellip;</td><td>&hellip;</td><td>&hellip;</td><td>&hellip;</td></tr><tr><td>98743</td><td>&quot;AUSTIN&quot;</td><td>12</td><td>&quot;LEGEND CITY ROUTE&quot;</td><td>&quot;DEPP, JOHNNY&quot;</td><td>&quot;FAC&quot;</td><td>&quot;ATX FAC&quot;</td></tr><tr><td>98743</td><td>&quot;AUSTIN&quot;</td><td>12</td><td>&quot;LEGEND CITY ROUTE&quot;</td><td>&quot;DEPP, JOHNNY&quot;</td><td>&quot;FAC&quot;</td><td>&quot;ATX FAC&quot;</td></tr><tr><td>98743</td><td>&quot;AUSTIN&quot;</td><td>12</td><td>&quot;LEGEND CITY ROUTE&quot;</td><td>&quot;DEPP, JOHNNY&quot;</td><td>&quot;FAC&quot;</td><td>&quot;ATX FAC&quot;</td></tr><tr><td>98743</td><td>&quot;AUSTIN&quot;</td><td>12</td><td>&quot;LEGEND CITY ROUTE&quot;</td><td>&quot;DEPP, JOHNNY&quot;</td><td>&quot;FAC&quot;</td><td>&quot;ATX FAC&quot;</td></tr><tr><td>480001</td><td>&quot;COLLEGE STATION&quot;</td><td>19</td><td>&quot;WEST TEXAS ROUTE&quot;</td><td>&quot;REYNOLDS, RYAN&quot;</td><td>&quot;WEL&quot;</td><td>&quot;AGGIELAND W&quot;</td></tr></tbody></table></div>"
      ],
      "text/plain": [
       "shape: (38, 7)\n",
       "┌──────────┬──────────────┬─────────────┬──────────────┬──────────────┬─────────────┬──────────────┐\n",
       "│ primo_id ┆ division_nam ┆ division_id ┆ route_name   ┆ foreman_name ┆ entity_type ┆ entity_name  │\n",
       "│ ---      ┆ e            ┆ ---         ┆ ---          ┆ ---          ┆ ---         ┆ ---          │\n",
       "│ i64      ┆ ---          ┆ i64         ┆ str          ┆ str          ┆ str         ┆ str          │\n",
       "│          ┆ str          ┆             ┆              ┆              ┆             ┆              │\n",
       "╞══════════╪══════════════╪═════════════╪══════════════╪══════════════╪═════════════╪══════════════╡\n",
       "│ 110009   ┆ DALLAS       ┆ 26          ┆ TRIPLE D     ┆ SMITH, JOHN  ┆ WEL         ┆ DTX W        │\n",
       "│          ┆              ┆             ┆ ROUTE        ┆              ┆             ┆              │\n",
       "│ 69419    ┆ HOUSTON      ┆ 5           ┆ HUSTLE CITY  ┆ COOPER,      ┆ FAC         ┆ BAYOU CITY   │\n",
       "│          ┆              ┆             ┆ ROUTE        ┆ SHELDON      ┆             ┆ FAC          │\n",
       "│ 69419    ┆ HOUSTON      ┆ 5           ┆ HUSTLE CITY  ┆ COOPER,      ┆ FAC         ┆ BAYOU CITY   │\n",
       "│          ┆              ┆             ┆ ROUTE        ┆ SHELDON      ┆             ┆ FAC          │\n",
       "│ 69419    ┆ HOUSTON      ┆ 5           ┆ HUSTLE CITY  ┆ COOPER,      ┆ FAC         ┆ BAYOU CITY   │\n",
       "│          ┆              ┆             ┆ ROUTE        ┆ SHELDON      ┆             ┆ FAC          │\n",
       "│ 69419    ┆ HOUSTON      ┆ 5           ┆ HUSTLE CITY  ┆ COOPER,      ┆ FAC         ┆ BAYOU CITY   │\n",
       "│          ┆              ┆             ┆ ROUTE        ┆ SHELDON      ┆             ┆ FAC          │\n",
       "│ …        ┆ …            ┆ …           ┆ …            ┆ …            ┆ …           ┆ …            │\n",
       "│ 98743    ┆ AUSTIN       ┆ 12          ┆ LEGEND CITY  ┆ DEPP, JOHNNY ┆ FAC         ┆ ATX FAC      │\n",
       "│          ┆              ┆             ┆ ROUTE        ┆              ┆             ┆              │\n",
       "│ 98743    ┆ AUSTIN       ┆ 12          ┆ LEGEND CITY  ┆ DEPP, JOHNNY ┆ FAC         ┆ ATX FAC      │\n",
       "│          ┆              ┆             ┆ ROUTE        ┆              ┆             ┆              │\n",
       "│ 98743    ┆ AUSTIN       ┆ 12          ┆ LEGEND CITY  ┆ DEPP, JOHNNY ┆ FAC         ┆ ATX FAC      │\n",
       "│          ┆              ┆             ┆ ROUTE        ┆              ┆             ┆              │\n",
       "│ 98743    ┆ AUSTIN       ┆ 12          ┆ LEGEND CITY  ┆ DEPP, JOHNNY ┆ FAC         ┆ ATX FAC      │\n",
       "│          ┆              ┆             ┆ ROUTE        ┆              ┆             ┆              │\n",
       "│ 480001   ┆ COLLEGE      ┆ 19          ┆ WEST TEXAS   ┆ REYNOLDS,    ┆ WEL         ┆ AGGIELAND W  │\n",
       "│          ┆ STATION      ┆             ┆ ROUTE        ┆ RYAN         ┆             ┆              │\n",
       "└──────────┴──────────────┴─────────────┴──────────────┴──────────────┴─────────────┴──────────────┘"
      ]
     },
     "execution_count": 3,
     "metadata": {},
     "output_type": "execute_result"
    }
   ],
   "source": [
    "lf = lf.with_columns(\n",
    "    pl.coalesce(pl.col(\"facility_name\"), pl.col(\"completion_name\")).alias(\"entity_name\"),\n",
    "    pl.coalesce(pl.col(\"primo_id\"), pl.col(\"primo_prprty\")).alias(\"primo_id\"),\n",
    ")\n",
    "\n",
    "lf = lf.drop(\"facility_name\", \"completion_name\", \"primo_prprty\")\n",
    "lf.collect()"
   ]
  },
  {
   "cell_type": "code",
   "execution_count": 4,
   "metadata": {},
   "outputs": [
    {
     "data": {
      "text/html": [
       "<div><style>\n",
       ".dataframe > thead > tr,\n",
       ".dataframe > tbody > tr {\n",
       "  text-align: right;\n",
       "  white-space: pre-wrap;\n",
       "}\n",
       "</style>\n",
       "<small>shape: (5, 7)</small><table border=\"1\" class=\"dataframe\"><thead><tr><th>primo_id</th><th>division_name</th><th>division_id</th><th>route_name</th><th>foreman_name</th><th>entity_type</th><th>entity_name</th></tr><tr><td>str</td><td>str</td><td>i64</td><td>str</td><td>str</td><td>str</td><td>str</td></tr></thead><tbody><tr><td>&quot;69419&quot;</td><td>&quot;HOUSTON&quot;</td><td>5</td><td>&quot;HUSTLE CITY ROUTE&quot;</td><td>&quot;COOPER, SHELDON&quot;</td><td>&quot;FAC&quot;</td><td>&quot;BAYOU CITY FAC&quot;</td></tr><tr><td>&quot;98750&quot;</td><td>&quot;AUSTIN&quot;</td><td>12</td><td>&quot;VIOLET ROUTE&quot;</td><td>&quot;BURTON, TIM&quot;</td><td>&quot;FAC&quot;</td><td>&quot;CAPITAL CITY FAC&quot;</td></tr><tr><td>&quot;98743&quot;</td><td>&quot;AUSTIN&quot;</td><td>12</td><td>&quot;VIOLET ROUTE&quot;</td><td>&quot;BURTON, TIM&quot;</td><td>&quot;FAC&quot;</td><td>&quot;ATX FAC&quot;</td></tr><tr><td>&quot;480001&quot;</td><td>&quot;COLLEGE STATION&quot;</td><td>19</td><td>&quot;WEST TEXAS ROUTE&quot;</td><td>&quot;REYNOLDS, RYAN&quot;</td><td>&quot;WEL&quot;</td><td>&quot;AGGIELAND W&quot;</td></tr><tr><td>&quot;110009&quot;</td><td>&quot;DALLAS&quot;</td><td>26</td><td>&quot;TRIPLE D ROUTE&quot;</td><td>&quot;SMITH, JOHN&quot;</td><td>&quot;WEL&quot;</td><td>&quot;DTX W&quot;</td></tr></tbody></table></div>"
      ],
      "text/plain": [
       "shape: (5, 7)\n",
       "┌──────────┬──────────────┬─────────────┬──────────────┬──────────────┬─────────────┬──────────────┐\n",
       "│ primo_id ┆ division_nam ┆ division_id ┆ route_name   ┆ foreman_name ┆ entity_type ┆ entity_name  │\n",
       "│ ---      ┆ e            ┆ ---         ┆ ---          ┆ ---          ┆ ---         ┆ ---          │\n",
       "│ str      ┆ ---          ┆ i64         ┆ str          ┆ str          ┆ str         ┆ str          │\n",
       "│          ┆ str          ┆             ┆              ┆              ┆             ┆              │\n",
       "╞══════════╪══════════════╪═════════════╪══════════════╪══════════════╪═════════════╪══════════════╡\n",
       "│ 69419    ┆ HOUSTON      ┆ 5           ┆ HUSTLE CITY  ┆ COOPER,      ┆ FAC         ┆ BAYOU CITY   │\n",
       "│          ┆              ┆             ┆ ROUTE        ┆ SHELDON      ┆             ┆ FAC          │\n",
       "│ 98750    ┆ AUSTIN       ┆ 12          ┆ VIOLET ROUTE ┆ BURTON, TIM  ┆ FAC         ┆ CAPITAL CITY │\n",
       "│          ┆              ┆             ┆              ┆              ┆             ┆ FAC          │\n",
       "│ 98743    ┆ AUSTIN       ┆ 12          ┆ VIOLET ROUTE ┆ BURTON, TIM  ┆ FAC         ┆ ATX FAC      │\n",
       "│ 480001   ┆ COLLEGE      ┆ 19          ┆ WEST TEXAS   ┆ REYNOLDS,    ┆ WEL         ┆ AGGIELAND W  │\n",
       "│          ┆ STATION      ┆             ┆ ROUTE        ┆ RYAN         ┆             ┆              │\n",
       "│ 110009   ┆ DALLAS       ┆ 26          ┆ TRIPLE D     ┆ SMITH, JOHN  ┆ WEL         ┆ DTX W        │\n",
       "│          ┆              ┆             ┆ ROUTE        ┆              ┆             ┆              │\n",
       "└──────────┴──────────────┴─────────────┴──────────────┴──────────────┴─────────────┴──────────────┘"
      ]
     },
     "execution_count": 4,
     "metadata": {},
     "output_type": "execute_result"
    }
   ],
   "source": [
    "lf = lf.unique(subset=[\"primo_id\"])\n",
    "lf = lf.sort(pl.col(\"division_id\"))\n",
    "lf = lf.with_columns(pl.col(\"primo_id\").cast(pl.String))\n",
    "lf.collect()"
   ]
  }
 ],
 "metadata": {
  "kernelspec": {
   "display_name": "tank-project-9-HCZibD-py3.12",
   "language": "python",
   "name": "python3"
  },
  "language_info": {
   "codemirror_mode": {
    "name": "ipython",
    "version": 3
   },
   "file_extension": ".py",
   "mimetype": "text/x-python",
   "name": "python",
   "nbconvert_exporter": "python",
   "pygments_lexer": "ipython3",
   "version": "3.12.2"
  }
 },
 "nbformat": 4,
 "nbformat_minor": 2
}
