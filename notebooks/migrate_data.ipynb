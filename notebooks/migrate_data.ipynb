{
 "cells": [
  {
   "cell_type": "code",
   "execution_count": null,
   "metadata": {},
   "outputs": [],
   "source": [
    "import sqlite3\n",
    "\n",
    "con = sqlite3.connect(\"tanks.db\")"
   ]
  },
  {
   "cell_type": "code",
   "execution_count": null,
   "metadata": {},
   "outputs": [],
   "source": [
    "cur = con.cursor() #In order to execute SQL statements and fetch results from SQL queries"
   ]
  },
  {
   "cell_type": "code",
   "execution_count": null,
   "metadata": {},
   "outputs": [],
   "source": [
    "query = \"\"\"--sql\n",
    "    COPY (SELECT * FROM fdm_dba.fdm_division) TO 'C:/Users/tjana/OneDrive/Documents/fdm_division.csv' WITH CSV HEADER\n",
    "\"\"\"\n"
   ]
  },
  {
   "cell_type": "code",
   "execution_count": 2,
   "metadata": {},
   "outputs": [],
   "source": [
    "import sqlite3\n",
    "\n",
    "# Connect to SQLite database\n",
    "conn = sqlite3.connect('tanks.db')\n",
    "cursor = conn.cursor()\n",
    "\n",
    "# Create tables\n",
    "cursor.execute('''\n",
    "    CREATE TABLE IF NOT EXISTS fdm_division (\n",
    "        division_id INTEGER PRIMARY KEY,\n",
    "        division_name VARCHAR(64)\n",
    "    )\n",
    "''')\n",
    "\n",
    "cursor.execute('''\n",
    "    CREATE TABLE IF NOT EXISTS mrte_completion (\n",
    "        completion_id INTERGER PRIMARY KEY,\n",
    "        completion_name VARCHAR(64),\n",
    "        first_production_ts TIMESTAMP, \n",
    "        division_id INTEGER,\n",
    "        primo_prprty INTEGER,\n",
    "        fac_primo_prprty INTEGER\n",
    "    )\n",
    "''')\n",
    "\n",
    "cursor.execute('''\n",
    "    CREATE TABLE IF NOT EXISTS mrte_facility (\n",
    "        facility_id INTEGER PRIMARY KEY,\n",
    "        facility_name VARCHAR(64),\n",
    "        first_production_ts TIMESTAMP,\n",
    "        division_id INTEGER,\n",
    "        primo_prprty INTEGER\n",
    "    )\n",
    "''')\n",
    "\n",
    "cursor.execute('''\n",
    "    CREATE TABLE IF NOT EXISTS data_catalog (\n",
    "        key_metric TEXT PRIMARY KEY, \n",
    "        source_key VARCHAR(64),\n",
    "        source_id VARCHAR(64),\n",
    "        metric_nice_name VARCHAR(64),\n",
    "        uom VARCHAR(64),\n",
    "        division_id INTEGER\n",
    "    )\n",
    "''')\n",
    "\n",
    "cursor.execute('''\n",
    "    CREATE TABLE IF NOT EXISTS timeseries_data (\n",
    "        key_metric TEXT PRIMARY KEY \n",
    "        ts TIMESTAMP,\n",
    "        value REAL\n",
    "    )\n",
    "''')\n",
    "\n",
    "\n",
    "\n",
    "# Commit changes and close connection\n",
    "conn.commit()\n",
    "conn.close()\n"
   ]
  }
 ],
 "metadata": {
  "kernelspec": {
   "display_name": "tank-project-9-HCZibD-py3.12",
   "language": "python",
   "name": "python3"
  },
  "language_info": {
   "codemirror_mode": {
    "name": "ipython",
    "version": 3
   },
   "file_extension": ".py",
   "mimetype": "text/x-python",
   "name": "python",
   "nbconvert_exporter": "python",
   "pygments_lexer": "ipython3",
   "version": "3.12.2"
  }
 },
 "nbformat": 4,
 "nbformat_minor": 2
}
