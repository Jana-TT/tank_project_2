{
 "cells": [
  {
   "cell_type": "code",
   "execution_count": 1,
   "metadata": {},
   "outputs": [
    {
     "data": {
      "text/plain": [
       "FacilitiesResponse(facilities=[FacilitiesData(primo_id='69419', division_name='HOUSTON', division_id=5, entity_type='FAC', entity_name='BAYOU CITY FAC'), FacilitiesData(primo_id='98743', division_name='AUSTIN', division_id=12, entity_type='FAC', entity_name='ATX FAC'), FacilitiesData(primo_id='98750', division_name='AUSTIN', division_id=12, entity_type='FAC', entity_name='CAPITAL CITY FAC'), FacilitiesData(primo_id='480001', division_name='COLLEGE STATION', division_id=19, entity_type='WEL', entity_name='AGGIELAND W'), FacilitiesData(primo_id='110009', division_name='DALLAS', division_id=26, entity_type='WEL', entity_name='DTX W')])"
      ]
     },
     "execution_count": 1,
     "metadata": {},
     "output_type": "execute_result"
    }
   ],
   "source": [
    "from src.main import get_facilities_data\n",
    "\n",
    "\n",
    "res = await get_facilities_data() \n",
    "res"
   ]
  }
 ],
 "metadata": {
  "kernelspec": {
   "display_name": "tank-project-9-HCZibD-py3.12",
   "language": "python",
   "name": "python3"
  },
  "language_info": {
   "codemirror_mode": {
    "name": "ipython",
    "version": 3
   },
   "file_extension": ".py",
   "mimetype": "text/x-python",
   "name": "python",
   "nbconvert_exporter": "python",
   "pygments_lexer": "ipython3",
   "version": "3.12.2"
  }
 },
 "nbformat": 4,
 "nbformat_minor": 2
}
